{
 "cells": [
  {
   "cell_type": "markdown",
   "metadata": {},
   "source": [
    "# Experimentation Only"
   ]
  },
  {
   "cell_type": "code",
   "execution_count": 1,
   "metadata": {},
   "outputs": [
    {
     "name": "stdout",
     "output_type": "stream",
     "text": [
      "Requirement already satisfied: tqdm in /usr/local/lib/python3.5/dist-packages\n",
      "\u001b[33mYou are using pip version 9.0.3, however version 19.1.1 is available.\n",
      "You should consider upgrading via the 'pip install --upgrade pip' command.\u001b[0m\n"
     ]
    }
   ],
   "source": [
    "import sys\n",
    "!{sys.executable} -m pip install tqdm"
   ]
  },
  {
   "cell_type": "code",
   "execution_count": 2,
   "metadata": {},
   "outputs": [
    {
     "name": "stderr",
     "output_type": "stream",
     "text": [
      "/usr/local/lib/python3.5/dist-packages/sklearn/cross_validation.py:41: DeprecationWarning: This module was deprecated in version 0.18 in favor of the model_selection module into which all the refactored classes and functions are moved. Also note that the interface of the new CV iterators are different from that of this module. This module will be removed in 0.20.\n",
      "  \"This module will be removed in 0.20.\", DeprecationWarning)\n",
      "/usr/local/lib/python3.5/dist-packages/h5py/__init__.py:36: FutureWarning: Conversion of the second argument of issubdtype from `float` to `np.floating` is deprecated. In future, it will be treated as `np.float64 == np.dtype(float).type`.\n",
      "  from ._conv import register_converters as _register_converters\n",
      "Using TensorFlow backend.\n"
     ]
    }
   ],
   "source": [
    "import math\n",
    "import matplotlib.pyplot as plt\n",
    "import pandas as pd\n",
    "import numpy as np\n",
    "import time\n",
    "from datetime import datetime\n",
    "import datetime as dt\n",
    "from mpl_toolkits.mplot3d import Axes3D\n",
    "from tqdm import tqdm, tqdm_notebook\n",
    "import json\n",
    "import requests\n",
    "%matplotlib inline\n",
    "\n",
    "#For Prediction\n",
    "from sklearn import metrics\n",
    "from sklearn import preprocessing, cross_validation\n",
    "from sklearn.model_selection import train_test_split\n",
    "from sklearn.preprocessing import MinMaxScaler\n",
    "\n",
    "import keras\n",
    "from keras.layers import Dense, Dropout, Input, LSTM, Reshape, Flatten, Activation, Conv1D, BatchNormalization\n",
    "from keras.models import Model,Sequential\n",
    "from keras.datasets import mnist\n",
    "from tqdm import tqdm\n",
    "from keras.layers.advanced_activations import LeakyReLU\n",
    "from keras.optimizers import Adam, RMSprop"
   ]
  },
  {
   "cell_type": "code",
   "execution_count": 3,
   "metadata": {},
   "outputs": [
    {
     "data": {
      "text/html": [
       "<div>\n",
       "<style scoped>\n",
       "    .dataframe tbody tr th:only-of-type {\n",
       "        vertical-align: middle;\n",
       "    }\n",
       "\n",
       "    .dataframe tbody tr th {\n",
       "        vertical-align: top;\n",
       "    }\n",
       "\n",
       "    .dataframe thead th {\n",
       "        text-align: right;\n",
       "    }\n",
       "</style>\n",
       "<table border=\"1\" class=\"dataframe\">\n",
       "  <thead>\n",
       "    <tr style=\"text-align: right;\">\n",
       "      <th></th>\n",
       "      <th>Unnamed: 0</th>\n",
       "      <th>Date</th>\n",
       "      <th>Symbol</th>\n",
       "      <th>Open</th>\n",
       "      <th>High</th>\n",
       "      <th>Low</th>\n",
       "      <th>Close</th>\n",
       "      <th>Volume BTC</th>\n",
       "      <th>Volume USD</th>\n",
       "      <th>Popularity</th>\n",
       "      <th>Popularity_Normalized</th>\n",
       "    </tr>\n",
       "  </thead>\n",
       "  <tbody>\n",
       "    <tr>\n",
       "      <th>0</th>\n",
       "      <td>0</td>\n",
       "      <td>2019-05-11</td>\n",
       "      <td>BTCUSD</td>\n",
       "      <td>6337.9</td>\n",
       "      <td>6984.8</td>\n",
       "      <td>6337.9</td>\n",
       "      <td>6793.5</td>\n",
       "      <td>9855.87</td>\n",
       "      <td>66133073.75</td>\n",
       "      <td>12.0</td>\n",
       "      <td>1200.0</td>\n",
       "    </tr>\n",
       "    <tr>\n",
       "      <th>1</th>\n",
       "      <td>1</td>\n",
       "      <td>2019-05-10</td>\n",
       "      <td>BTCUSD</td>\n",
       "      <td>6151.4</td>\n",
       "      <td>6430.0</td>\n",
       "      <td>6110.1</td>\n",
       "      <td>6337.9</td>\n",
       "      <td>9872.86</td>\n",
       "      <td>62166515.28</td>\n",
       "      <td>12.0</td>\n",
       "      <td>1200.0</td>\n",
       "    </tr>\n",
       "    <tr>\n",
       "      <th>2</th>\n",
       "      <td>2</td>\n",
       "      <td>2019-05-09</td>\n",
       "      <td>BTCUSD</td>\n",
       "      <td>5939.6</td>\n",
       "      <td>6174.0</td>\n",
       "      <td>5933.2</td>\n",
       "      <td>6151.4</td>\n",
       "      <td>7405.18</td>\n",
       "      <td>44816872.39</td>\n",
       "      <td>12.0</td>\n",
       "      <td>1200.0</td>\n",
       "    </tr>\n",
       "    <tr>\n",
       "      <th>3</th>\n",
       "      <td>3</td>\n",
       "      <td>2019-05-08</td>\n",
       "      <td>BTCUSD</td>\n",
       "      <td>5744.0</td>\n",
       "      <td>5983.2</td>\n",
       "      <td>5660.0</td>\n",
       "      <td>5939.6</td>\n",
       "      <td>6007.11</td>\n",
       "      <td>35184697.52</td>\n",
       "      <td>12.0</td>\n",
       "      <td>1200.0</td>\n",
       "    </tr>\n",
       "    <tr>\n",
       "      <th>4</th>\n",
       "      <td>4</td>\n",
       "      <td>2019-05-07</td>\n",
       "      <td>BTCUSD</td>\n",
       "      <td>5687.4</td>\n",
       "      <td>5955.8</td>\n",
       "      <td>5687.4</td>\n",
       "      <td>5906.7</td>\n",
       "      <td>3668.12</td>\n",
       "      <td>21496575.65</td>\n",
       "      <td>12.0</td>\n",
       "      <td>1200.0</td>\n",
       "    </tr>\n",
       "  </tbody>\n",
       "</table>\n",
       "</div>"
      ],
      "text/plain": [
       "   Unnamed: 0        Date  Symbol    Open    High     Low   Close  Volume BTC  \\\n",
       "0           0  2019-05-11  BTCUSD  6337.9  6984.8  6337.9  6793.5     9855.87   \n",
       "1           1  2019-05-10  BTCUSD  6151.4  6430.0  6110.1  6337.9     9872.86   \n",
       "2           2  2019-05-09  BTCUSD  5939.6  6174.0  5933.2  6151.4     7405.18   \n",
       "3           3  2019-05-08  BTCUSD  5744.0  5983.2  5660.0  5939.6     6007.11   \n",
       "4           4  2019-05-07  BTCUSD  5687.4  5955.8  5687.4  5906.7     3668.12   \n",
       "\n",
       "    Volume USD  Popularity  Popularity_Normalized  \n",
       "0  66133073.75        12.0                 1200.0  \n",
       "1  62166515.28        12.0                 1200.0  \n",
       "2  44816872.39        12.0                 1200.0  \n",
       "3  35184697.52        12.0                 1200.0  \n",
       "4  21496575.65        12.0                 1200.0  "
      ]
     },
     "execution_count": 3,
     "metadata": {},
     "output_type": "execute_result"
    }
   ],
   "source": [
    "# endpoint = 'https://min-api.cryptocompare.com/data/histoday'\n",
    "# res = requests.get(endpoint + '?fsym=BTC&tsym=USD&limit=2000')\n",
    "# hist = pd.DataFrame(json.loads(res.content.decode('utf-8'))['Data'])\n",
    "# hist = hist.set_index('time')\n",
    "# hist.index = pd.to_datetime(hist.index, unit='s')\n",
    "# hist.head()\n",
    "\n",
    "hist = pd.read_csv('Datasets/bitcoin_research_data_v2.csv')\n",
    "hist.head()"
   ]
  },
  {
   "cell_type": "code",
   "execution_count": 4,
   "metadata": {},
   "outputs": [
    {
     "data": {
      "text/html": [
       "<div>\n",
       "<style scoped>\n",
       "    .dataframe tbody tr th:only-of-type {\n",
       "        vertical-align: middle;\n",
       "    }\n",
       "\n",
       "    .dataframe tbody tr th {\n",
       "        vertical-align: top;\n",
       "    }\n",
       "\n",
       "    .dataframe thead th {\n",
       "        text-align: right;\n",
       "    }\n",
       "</style>\n",
       "<table border=\"1\" class=\"dataframe\">\n",
       "  <thead>\n",
       "    <tr style=\"text-align: right;\">\n",
       "      <th></th>\n",
       "      <th>Open</th>\n",
       "      <th>High</th>\n",
       "      <th>Low</th>\n",
       "      <th>Close</th>\n",
       "      <th>Popularity</th>\n",
       "    </tr>\n",
       "  </thead>\n",
       "  <tbody>\n",
       "    <tr>\n",
       "      <th>1803</th>\n",
       "      <td>494.77</td>\n",
       "      <td>530.00</td>\n",
       "      <td>494.77</td>\n",
       "      <td>530.00</td>\n",
       "      <td>2.0</td>\n",
       "    </tr>\n",
       "    <tr>\n",
       "      <th>1804</th>\n",
       "      <td>493.43</td>\n",
       "      <td>497.67</td>\n",
       "      <td>490.85</td>\n",
       "      <td>494.77</td>\n",
       "      <td>2.0</td>\n",
       "    </tr>\n",
       "    <tr>\n",
       "      <th>1805</th>\n",
       "      <td>445.56</td>\n",
       "      <td>498.84</td>\n",
       "      <td>445.56</td>\n",
       "      <td>493.43</td>\n",
       "      <td>2.0</td>\n",
       "    </tr>\n",
       "    <tr>\n",
       "      <th>1806</th>\n",
       "      <td>445.56</td>\n",
       "      <td>445.56</td>\n",
       "      <td>445.56</td>\n",
       "      <td>445.56</td>\n",
       "      <td>2.0</td>\n",
       "    </tr>\n",
       "    <tr>\n",
       "      <th>1807</th>\n",
       "      <td>453.83</td>\n",
       "      <td>453.83</td>\n",
       "      <td>445.56</td>\n",
       "      <td>445.56</td>\n",
       "      <td>2.0</td>\n",
       "    </tr>\n",
       "  </tbody>\n",
       "</table>\n",
       "</div>"
      ],
      "text/plain": [
       "        Open    High     Low   Close  Popularity\n",
       "1803  494.77  530.00  494.77  530.00         2.0\n",
       "1804  493.43  497.67  490.85  494.77         2.0\n",
       "1805  445.56  498.84  445.56  493.43         2.0\n",
       "1806  445.56  445.56  445.56  445.56         2.0\n",
       "1807  453.83  453.83  445.56  445.56         2.0"
      ]
     },
     "execution_count": 4,
     "metadata": {},
     "output_type": "execute_result"
    }
   ],
   "source": [
    "#hist = hist.drop(['high','low','open','volumefrom','volumeto'], axis=1)\n",
    "#hist = hist.drop(['Unix Timestamp','Date','Symbol','Open','High','Low','Volume'], axis=1)\n",
    "#hist = hist.drop(['Date','Symbol','Unix Timestamp','Low','High'], axis=1)\n",
    "hist = hist.drop(['Date','Symbol','Popularity_Normalized','Volume BTC','Volume USD'], axis=1)\n",
    "hist = hist.drop('Unnamed: 0', axis=1)\n",
    "hist.tail()"
   ]
  },
  {
   "cell_type": "code",
   "execution_count": 5,
   "metadata": {},
   "outputs": [
    {
     "name": "stdout",
     "output_type": "stream",
     "text": [
      "1808\n"
     ]
    }
   ],
   "source": [
    "print(len(hist))"
   ]
  },
  {
   "cell_type": "code",
   "execution_count": 6,
   "metadata": {},
   "outputs": [
    {
     "name": "stdout",
     "output_type": "stream",
     "text": [
      "checking if any null values are present\n",
      " Open          0\n",
      "High          0\n",
      "Low           0\n",
      "Close         0\n",
      "Popularity    0\n",
      "dtype: int64\n"
     ]
    }
   ],
   "source": [
    "print(\"checking if any null values are present\\n\", hist.isna().sum())"
   ]
  },
  {
   "cell_type": "code",
   "execution_count": 7,
   "metadata": {},
   "outputs": [
    {
     "data": {
      "image/png": "[encoded data removed]",
      "text/plain": [
       "<Figure size 1152x648 with 1 Axes>"
      ]
     },
     "metadata": {},
     "output_type": "display_data"
    }
   ],
   "source": [
    "def train_test_split(df, test_size=0.1):\n",
    "    split_row = len(df) - int(test_size * len(df))\n",
    "    train_data = df.iloc[:split_row]\n",
    "    test_data = df.iloc[split_row:]\n",
    "    return train_data, test_data\n",
    "\n",
    "def line_plot(line1, line2, label1=None, label2=None, title=''):\n",
    "    fig, ax = plt.subplots(1, figsize=(16, 9))\n",
    "    ax.plot(line1, label=label1, linewidth=2)\n",
    "    ax.plot(line2, label=label2, linewidth=2)\n",
    "    ax.set_ylabel('price [USD]', fontsize=14)\n",
    "    ax.set_title(title, fontsize=18)\n",
    "    ax.legend(loc='best', fontsize=18)\n",
    "    \n",
    "train, test = train_test_split(hist, test_size=0.1)\n",
    "line_plot(train.Close, test.Close, 'training', 'test', 'BTC')"
   ]
  },
  {
   "cell_type": "code",
   "execution_count": 8,
   "metadata": {},
   "outputs": [],
   "source": [
    "def normalise_zero_base(df):\n",
    "    \"\"\" Normalise dataframe column-wise to reflect changes with\n",
    "        respect to first entry.\n",
    "    \"\"\"\n",
    "    return df / df.iloc[0] - 1\n",
    "\n",
    "def extract_window_data(df, window=7, zero_base=True):\n",
    "    \"\"\" Convert dataframe to overlapping sequences/windows of\n",
    "        length `window`.\n",
    "    \"\"\"\n",
    "    window_data = []\n",
    "    for idx in range(len(df) - window):\n",
    "        tmp = df[idx: (idx + window)].copy()\n",
    "        if zero_base:\n",
    "            tmp = normalise_zero_base(tmp)\n",
    "        window_data.append(tmp.values)\n",
    "    return np.array(window_data)\n",
    "\n",
    "def prepare_data(df, window=7, zero_base=True, test_size=0.1):\n",
    "    \"\"\" Prepare data for LSTM. \"\"\"\n",
    "    # train test split\n",
    "    train_data, test_data = train_test_split(df, test_size)\n",
    "    \n",
    "    # extract window data\n",
    "    X_train = extract_window_data(train_data, window, zero_base)\n",
    "    X_test = extract_window_data(test_data, window, zero_base)\n",
    "    \n",
    "    # extract targets\n",
    "    y_train = train_data.Close[window:].values\n",
    "    y_test = test_data.Close[window:].values\n",
    "    if zero_base:\n",
    "        y_train = y_train / train_data.Close[:-window].values - 1\n",
    "        y_test = y_test / test_data.Close[:-window].values - 1\n",
    "    return train_data, test_data, X_train, X_test, y_train, y_test\n",
    "\n",
    "train, test, X_train, X_test, y_train, y_test = prepare_data(hist)"
   ]
  },
  {
   "cell_type": "code",
   "execution_count": 9,
   "metadata": {},
   "outputs": [
    {
     "name": "stdout",
     "output_type": "stream",
     "text": [
      "(1621, 7, 5)\n",
      "(1621, 7, 5)\n",
      "(173,)\n",
      "(173,)\n"
     ]
    }
   ],
   "source": [
    "print(X_train.shape)\n",
    "print(X_train.shape)\n",
    "print(y_test.shape)\n",
    "print(y_test.shape)"
   ]
  },
  {
   "cell_type": "code",
   "execution_count": 10,
   "metadata": {},
   "outputs": [],
   "source": [
    "TIME_STEPS = 7\n",
    "BATCH_SIZE_OUT = 4 # 16 was better\n",
    "LR = 0.005\n",
    "# epochs = 150\n",
    "EPOCHS = 50"
   ]
  },
  {
   "cell_type": "code",
   "execution_count": 11,
   "metadata": {},
   "outputs": [
    {
     "name": "stdout",
     "output_type": "stream",
     "text": [
      "_________________________________________________________________\n",
      "Layer (type)                 Output Shape              Param #   \n",
      "=================================================================\n",
      "lstm_1 (LSTM)                (4, 7, 16)                1408      \n",
      "_________________________________________________________________\n",
      "leaky_re_lu_1 (LeakyReLU)    (4, 7, 16)                0         \n",
      "_________________________________________________________________\n",
      "lstm_2 (LSTM)                (4, 7, 32)                6272      \n",
      "_________________________________________________________________\n",
      "leaky_re_lu_2 (LeakyReLU)    (4, 7, 32)                0         \n",
      "_________________________________________________________________\n",
      "dropout_1 (Dropout)          (4, 7, 32)                0         \n",
      "_________________________________________________________________\n",
      "lstm_3 (LSTM)                (4, 64)                   24832     \n",
      "_________________________________________________________________\n",
      "dense_1 (Dense)              (4, 5)                    325       \n",
      "_________________________________________________________________\n",
      "activation_1 (Activation)    (4, 5)                    0         \n",
      "=================================================================\n",
      "Total params: 32,837\n",
      "Trainable params: 32,837\n",
      "Non-trainable params: 0\n",
      "_________________________________________________________________\n"
     ]
    }
   ],
   "source": [
    "def create_generator():\n",
    "#     generator=Sequential()\n",
    "#     generator.add(Dense(units=128,input_dim=8))\n",
    "#     generator.add(LeakyReLU(0.2))\n",
    "    \n",
    "#     generator.add(Dense(units=256))\n",
    "#     generator.add(LeakyReLU(0.2))\n",
    "    \n",
    "#     generator.add(Dense(units=512))\n",
    "#     generator.add(LeakyReLU(0.2))\n",
    "    \n",
    "#     generator.add(Dense(units=8, activation='tanh'))\n",
    "    \n",
    "#     #generator.compile(loss='binary_crossentropy', optimizer=adam_optimizer(), metrics=['accuracy'])\n",
    "#     generator.compile(loss='binary_crossentropy', optimizer='adam', metrics=['accuracy'])\n",
    "\n",
    "    # 6 below = x_t.shape[2]\n",
    "#     generator = Sequential()\n",
    "#     #generator.add(LSTM(16, batch_input_shape=(BATCH_SIZE_OUT, TIME_STEPS, 6), dropout=0.0, recurrent_dropout=0.0, stateful=True, kernel_initializer='random_uniform', return_sequences=False)) \n",
    "#     # stateful = true breaks the model (https://github.com/keras-team/keras/issues/9385)\n",
    "#     generator.add(LSTM(16, batch_input_shape=(BATCH_SIZE_OUT, TIME_STEPS, 1), return_sequences=True)) \n",
    "#     generator.add(Dense(8,activation='relu'))\n",
    "#     generator.add(Dropout(0.7))\n",
    "#     generator.add(LSTM(8, return_sequences=False))\n",
    "#     generator.add(Dense(1,activation='sigmoid'))\n",
    "#     #generator.add(Reshape((TIME_STEPS, 1)))\n",
    "#     optimizer = RMSprop(lr=LR, decay=3e-8)\n",
    "#     #generator.compile(loss='mean_squared_error', optimizer='adam', metrics=['accuracy'])\n",
    "#     generator.compile(loss='mean_squared_error', optimizer=optimizer, metrics=['accuracy'])\n",
    "    \n",
    "  # BETTER - BERFORE TWEAKS\n",
    "#     generator = Sequential()\n",
    "#     generator.add(LSTM(16, batch_input_shape=(BATCH_SIZE_OUT, TIME_STEPS, 5), return_sequences=False))\n",
    "#     generator.add(LeakyReLU(0.5))\n",
    "#     generator.add(Dropout(0.5))\n",
    "#     generator.add(Dense(5))\n",
    "#     generator.add(Activation('tanh'))\n",
    "#     optimizer = RMSprop(lr=0.005, clipvalue=1.)\n",
    "#     generator.compile(loss='mean_squared_error', optimizer=optimizer)\n",
    "\n",
    "#.   BETTER - AFTER TWEAKES\n",
    "    generator = Sequential()\n",
    "    generator.add(LSTM(16, batch_input_shape=(BATCH_SIZE_OUT, TIME_STEPS, 5), return_sequences=True))\n",
    "    generator.add(LeakyReLU(0.05))\n",
    "    generator.add(LSTM(32,return_sequences=True))\n",
    "    generator.add(LeakyReLU(0.05))\n",
    "    generator.add(Dropout(0.5))\n",
    "    generator.add(LSTM(64,return_sequences=False))\n",
    "    generator.add(Dense(5))\n",
    "    generator.add(Activation('tanh'))\n",
    "    optimizer = RMSprop(lr=0.005, clipvalue=1.)\n",
    "    generator.compile(loss='mean_squared_error', optimizer=optimizer)\n",
    "    \n",
    "  \n",
    " # Second best\n",
    "#     generator = Sequential()\n",
    "#     generator.add(LSTM(32, batch_input_shape=(BATCH_SIZE_OUT, TIME_STEPS, 5), return_sequences=True))\n",
    "#     generator.add(LeakyReLU(0.05))\n",
    "#     generator.add(LSTM(64,return_sequences=True))\n",
    "#     generator.add(LeakyReLU(0.05))\n",
    "#     generator.add(Dropout(0.3))\n",
    "#     generator.add(LSTM(128,return_sequences=True))\n",
    "#     generator.add(LeakyReLU(0.05))\n",
    "#     generator.add(LSTM(220,return_sequences=True))\n",
    "#     generator.add(LeakyReLU(0.05))\n",
    "#     generator.add(Dropout(0.2))\n",
    "#     generator.add(LSTM(220,return_sequences=False))\n",
    "#     generator.add(Dense(5))\n",
    "#     generator.add(Activation('tanh'))\n",
    "#     optimizer = RMSprop(lr=0.005, clipvalue=1.)\n",
    "#     generator.compile(loss='mean_squared_error', optimizer=optimizer)\n",
    "\n",
    "    return generator\n",
    "g=create_generator()\n",
    "g.summary()"
   ]
  },
  {
   "cell_type": "code",
   "execution_count": 12,
   "metadata": {},
   "outputs": [
    {
     "name": "stdout",
     "output_type": "stream",
     "text": [
      "_________________________________________________________________\n",
      "Layer (type)                 Output Shape              Param #   \n",
      "=================================================================\n",
      "dense_2 (Dense)              (8, 7, 32)                192       \n",
      "_________________________________________________________________\n",
      "leaky_re_lu_3 (LeakyReLU)    (8, 7, 32)                0         \n",
      "_________________________________________________________________\n",
      "dense_3 (Dense)              (8, 7, 64)                2112      \n",
      "_________________________________________________________________\n",
      "leaky_re_lu_4 (LeakyReLU)    (8, 7, 64)                0         \n",
      "_________________________________________________________________\n",
      "dense_4 (Dense)              (8, 7, 128)               8320      \n",
      "_________________________________________________________________\n",
      "leaky_re_lu_5 (LeakyReLU)    (8, 7, 128)               0         \n",
      "_________________________________________________________________\n",
      "dense_5 (Dense)              (8, 7, 220)               28380     \n",
      "_________________________________________________________________\n",
      "activation_2 (Activation)    (8, 7, 220)               0         \n",
      "_________________________________________________________________\n",
      "dense_6 (Dense)              (8, 7, 1)                 221       \n",
      "=================================================================\n",
      "Total params: 39,225\n",
      "Trainable params: 39,225\n",
      "Non-trainable params: 0\n",
      "_________________________________________________________________\n"
     ]
    }
   ],
   "source": [
    "def create_discriminator():\n",
    "    optimizer = RMSprop(lr=0.0002, decay=6e-8)\n",
    "\n",
    "#     discriminator=Sequential()\n",
    "#     #discriminator.add(Dense(units=512, batch_input_shape=(BATCH_SIZE_OUT, TIME_STEPS, 1)))\n",
    "#     discriminator.add(Dense(units=16, batch_input_shape=(8, TIME_STEPS, 5)))\n",
    "    \n",
    "#     #discriminator.add(Dense(units=512,input_dim=6))\n",
    "#     discriminator.add(LeakyReLU(0.5))\n",
    "#     discriminator.add(Dropout(0.5))\n",
    "       \n",
    "    \n",
    "# #     discriminator.add(Dense(units=256))\n",
    "# #     discriminator.add(LeakyReLU(0.2))\n",
    "# #     discriminator.add(Dropout(0.3))\n",
    "       \n",
    "#     discriminator.add(Dense(units=8))\n",
    "#     discriminator.add(LeakyReLU(0.5))\n",
    "#     discriminator.add(Dropout(0.5))\n",
    "    \n",
    "#     #discriminator.add(Reshape((5, 1)))\n",
    "    \n",
    "#     discriminator.add(Dense(units=1, activation='sigmoid'))\n",
    "    \n",
    "#     #discriminator.compile(loss='binary_crossentropy', optimizer=optimizer)\n",
    "#     discriminator.compile(loss='mean_squared_error', optimizer=optimizer)\n",
    "\n",
    "# #     discriminator = Sequential()\n",
    "# #     discriminator.add(LSTM(16, batch_input_shape=(BATCH_SIZE_OUT, TIME_STEPS, 6), dropout=0.0, recurrent_dropout=0.0, kernel_initializer='random_uniform', return_sequences=False)) \n",
    "# #     discriminator.add(Dense(8,activation='relu'))\n",
    "# #     discriminator.add(Dropout(0.7))\n",
    "# #     discriminator.add(Dense(1,activation='sigmoid'))\n",
    "\n",
    "# #     discriminator.compile(loss='mean_squared_error', optimizer='adam', metrics=['accuracy'])\n",
    "\n",
    "    discriminator=Sequential()\n",
    "    \n",
    "#     discriminator.add(Conv1D(filters=32, kernel_size=(5,), strides=(2,), data_format='channels_first', batch_input_shape=(BATCH_SIZE_OUT, TIME_STEPS, 1)))\n",
    "#     discriminator.add(LeakyReLU(0.01))\n",
    "#     discriminator.add(Conv1D(filters=64, kernel_size=(5,), strides=(2,)))\n",
    "#     discriminator.add(BatchNormalization(axis=1, eps=1e-05, momentum=0.9, fix_gamma=False, use_global_stats=False, in_channels=None))\n",
    "#     discriminator.add(Conv1D(filters=128, kernel_size=(5,), strides=(2,)))\n",
    "#     discriminator.add(LeakyReLU(0.01))\n",
    "#     discriminator.add(BatchNormalization(axis=1, eps=1e-05, momentum=0.9, fix_gamma=False, use_global_stats=False, in_channels=None))\n",
    "#     discriminator.add(Dense(units=220,activation='linear'))\n",
    "#     discriminator.add(BatchNormalization(axis=1, eps=1e-05, momentum=0.9, fix_gamma=False, use_global_stats=False, in_channels=None))\n",
    "#     discriminator.add(LeakyReLU(0.01))\n",
    "#     discriminator.add(Dense(units=220,activation='linear'))\n",
    "#     generator.add(Activation('relu'))\n",
    "#     discriminator.add(Dense(1,activation='sigmoid'))\n",
    "\n",
    "    discriminator.add(Dense(units=32, batch_input_shape=(8, TIME_STEPS, 5)))\n",
    "    discriminator.add(LeakyReLU(0.01))\n",
    "    discriminator.add(Dense(units=64))\n",
    "    discriminator.add(LeakyReLU(0.01))\n",
    "    discriminator.add(Dense(units=128))\n",
    "    discriminator.add(LeakyReLU(0.01))\n",
    "    discriminator.add(Dense(units=220,activation='linear'))\n",
    "    discriminator.add(Activation('relu'))\n",
    "    discriminator.add(Dense(1,activation='linear'))\n",
    "    \n",
    "    discriminator.compile(loss='mean_squared_error', optimizer=optimizer)\n",
    "    \n",
    "    return discriminator\n",
    "d =create_discriminator()\n",
    "d.summary()"
   ]
  },
  {
   "cell_type": "code",
   "execution_count": 13,
   "metadata": {},
   "outputs": [
    {
     "name": "stdout",
     "output_type": "stream",
     "text": [
      "_________________________________________________________________\n",
      "Layer (type)                 Output Shape              Param #   \n",
      "=================================================================\n",
      "input_1 (InputLayer)         (None, 7, 5)              0         \n",
      "_________________________________________________________________\n",
      "sequential_1 (Sequential)    multiple                  32837     \n",
      "_________________________________________________________________\n",
      "sequential_2 (Sequential)    multiple                  39225     \n",
      "=================================================================\n",
      "Total params: 72,062\n",
      "Trainable params: 32,837\n",
      "Non-trainable params: 39,225\n",
      "_________________________________________________________________\n"
     ]
    }
   ],
   "source": [
    "def create_gan(discriminator, generator):\n",
    "    optimizer = RMSprop(lr=0.0001, decay=3e-8)\n",
    "    discriminator.trainable=False\n",
    "    gan_input = Input(shape=(TIME_STEPS, 5)) # x_t.shape[2] = 6\n",
    "    #Input(shape=(None, latent_dim))\n",
    "    x = generator(gan_input)\n",
    "    gan_output= discriminator(x)\n",
    "    gan = Model(inputs=gan_input, outputs=gan_output)\n",
    "    #gan.compile(loss='binary_crossentropy', optimizer=optimizer)\n",
    "    gan.compile(loss='mean_squared_error', optimizer=optimizer)\n",
    "    return gan\n",
    "gan = create_gan(d,g)\n",
    "gan.summary()"
   ]
  },
  {
   "cell_type": "code",
   "execution_count": 14,
   "metadata": {},
   "outputs": [],
   "source": [
    "import keras.backend as K\n",
    "\n",
    "adversarial_loss = []\n",
    "discrimator_loss = []\n",
    "gen_samples = []\n",
    "\n",
    "#K.clear_session()\n",
    "generator = create_generator()\n",
    "discriminator = create_discriminator()\n",
    "gan = create_gan(discriminator, generator)\n",
    "#(X_train, y_train, X_val, X_test, y_val, y_test) = load_data(x_train_out, x_test_out, BATCH_SIZE_OUT)\n",
    "\n",
    "def training(epochs=1, batch_size=128):\n",
    "    global adversarial_loss\n",
    "    global discrimator_loss\n",
    "    global gen_samples\n",
    "    \n",
    "    global generator\n",
    "    global discriminator\n",
    "    global gan\n",
    "\n",
    "    global X_train\n",
    "    global X_test\n",
    "    global y_train\n",
    "    global y_test\n",
    "    \n",
    "    for e in range(1, epochs+1 ):\n",
    "        print(\"Epoch %d\" %e)\n",
    "        for i in tqdm(range(batch_size)):\n",
    "            #generate  random noise as an input  to  initialize the  generator\n",
    "            #noise = np.random.normal(0,1, [BATCH_SIZE_OUT, TIME_STEPS, X_train.shape[2]])\n",
    "            #print(X_train.shape)\n",
    "            \n",
    "            noise = np.float32(np.random.normal(size=[BATCH_SIZE_OUT, TIME_STEPS, X_train.shape[2]]))\n",
    "            \n",
    "            # Generate fake prices from noised input\n",
    "            generated_prices = generator.predict(noise)\n",
    "            \n",
    "            # Get a random set of real prices\n",
    "            prices_batch = X_train[np.random.randint(low=0,high=X_train.shape[0],size=BATCH_SIZE_OUT)]\n",
    "            \n",
    "            \n",
    "            dim_0 = generated_prices.shape[0] - TIME_STEPS\n",
    "            dim_0 = generated_prices.shape[0]\n",
    "            gen_prices = np.zeros((dim_0, TIME_STEPS, 5))\n",
    "            \n",
    "            for j in range(dim_0):\n",
    "                gen_prices[j] = generated_prices[j]\n",
    "            \n",
    "\n",
    "#             print('Shapes 1')\n",
    "#             print(noise.shape)\n",
    "#             print(prices_batch.shape)\n",
    "#             print(generated_prices.shape)     \n",
    "#             print(gen_prices.shape)\n",
    "#             print('>>>>>>>>>>>gen_prices>>>>>>>')            \n",
    "#             print(gen_prices)\n",
    "#             print(prices_batch)\n",
    "#             #print(generated_prices)\n",
    "            \n",
    "            #Construct different batches of real and fake data \n",
    "            X = np.concatenate([prices_batch, gen_prices])\n",
    "            \n",
    "            # Labels for generated and real data\n",
    "            #y_dis = np.zeros(2*batch_size)\n",
    "            #y_dis = np.zeros(shape=(2*BATCH_SIZE_OUT, TIME_STEPS, X_train.shape[2]))\n",
    "            y_dis = np.zeros(shape=(X.shape[0], TIME_STEPS, 1))\n",
    "            #y_dis[:batch_size]=0.9\n",
    "            y_dis[:int((X.shape[0]/2))]=0.9\n",
    "            #y_dis[0,:,batch_size]=0.9\n",
    "            \n",
    "#             print('Shapes 2')\n",
    "#             print(X.shape)\n",
    "#             print(y_dis.shape)\n",
    "#             print('>>>>>>>>>>>x>>>>>>>')\n",
    "#             print(X)\n",
    "#             print('>>>>>>>>>>>y_dis>>>>>>>')            \n",
    "#             print(y_dis)\n",
    "            \n",
    "            #Pre train discriminator on fake and real data before starting the gan. \n",
    "            discriminator.trainable = True\n",
    "            d_loss = discriminator.train_on_batch(X, y_dis)\n",
    "            \n",
    "            #Tricking the noised input of the Generator as real data\n",
    "            #noise = np.random.normal(0,1, [batch_size, 8])\n",
    "            #y_gen = np.ones(batch_size)\n",
    "            noise = np.float32(np.random.normal(size=[BATCH_SIZE_OUT, TIME_STEPS, X_train.shape[2]]))\n",
    "            #y_gen = np.ones(shape=(noise.shape[0], TIME_STEPS, X_train.shape[2]))\n",
    "            y_gen = np.ones(BATCH_SIZE_OUT)\n",
    "            \n",
    "            # During the training of gan, \n",
    "            # the weights of discriminator should be fixed. \n",
    "            #We can enforce that by setting the trainable flag\n",
    "            discriminator.trainable=False\n",
    "            \n",
    "#             print('Shapes 3')\n",
    "#             print(noise.shape)\n",
    "#             print(y_gen.shape)\n",
    "            \n",
    "            #training the GAN by alternating the training of the Discriminator \n",
    "            #and training the chained GAN model with Discriminator’s weights freezed.\n",
    "            a_loss = gan.train_on_batch(noise, y_gen)\n",
    "            \n",
    "            if i == (batch_size-1):\n",
    "                #log_mesg = \"%d: [D loss: %f, acc: %f]\" % (e, d_loss[0], d_loss[1])\n",
    "                #log_mesg = \"%s  [A loss: %f, acc: %f]\" % (log_mesg, a_loss[0], a_loss[1])\n",
    "                log_mesg = \"%d: [D loss: %f]\" % (e, d_loss)\n",
    "                log_mesg = \"%s  [A loss: %f]\" % (log_mesg, a_loss)\n",
    "                print(log_mesg)\n",
    "                \n",
    "            discrimator_loss.append(d_loss)\n",
    "            adversarial_loss.append(a_loss)\n",
    "            \n",
    "#         if e == 1 or e % 5 == 0:\n",
    "#             # generate synthetic dataset\n",
    "#             gen_samples_set = []\n",
    "#             for batch_idx in range(int(len(X_train) / batch_size)):\n",
    "#             # for batch_idx in range(int(len(X_train) / 100)):\n",
    "#                 # noise= np.random.normal(loc=0, scale=1, size=[100, 100])\n",
    "#                 #noise= np.random.normal(0,1, [batch_size, 8])\n",
    "#                 noise = np.float32(np.random.normal(size=[BATCH_SIZE_OUT, TIME_STEPS, X_train.shape[2]]))\n",
    "#                 generated_data = generator.predict(noise)\n",
    "#                 gen_samples_set.append(generated_data)\n",
    "\n",
    "#             gen_samples = np.vstack(gen_samples_set)"
   ]
  },
  {
   "cell_type": "code",
   "execution_count": 15,
   "metadata": {},
   "outputs": [
    {
     "name": "stderr",
     "output_type": "stream",
     "text": [
      "\r",
      "  0%|          | 0/12 [00:00<?, ?it/s]"
     ]
    },
    {
     "name": "stdout",
     "output_type": "stream",
     "text": [
      "Epoch 1\n",
      "WARNING:tensorflow:Variable *= will be deprecated. Use variable.assign_mul if you want assignment to the variable value or 'x = x * y' if you want a new python Tensor object.\n"
     ]
    },
    {
     "name": "stderr",
     "output_type": "stream",
     "text": [
      "100%|██████████| 12/12 [00:06<00:00,  1.79it/s]\n",
      " 33%|███▎      | 4/12 [00:00<00:00, 37.62it/s]"
     ]
    },
    {
     "name": "stdout",
     "output_type": "stream",
     "text": [
      "1: [D loss: 0.312211]  [A loss: 0.799584]\n",
      "Epoch 2\n"
     ]
    },
    {
     "name": "stderr",
     "output_type": "stream",
     "text": [
      "100%|██████████| 12/12 [00:00<00:00, 39.49it/s]\n",
      " 42%|████▏     | 5/12 [00:00<00:00, 48.52it/s]"
     ]
    },
    {
     "name": "stdout",
     "output_type": "stream",
     "text": [
      "2: [D loss: 0.258253]  [A loss: 0.590038]\n",
      "Epoch 3\n"
     ]
    },
    {
     "name": "stderr",
     "output_type": "stream",
     "text": [
      "100%|██████████| 12/12 [00:00<00:00, 32.99it/s]\n",
      " 33%|███▎      | 4/12 [00:00<00:00, 38.13it/s]"
     ]
    },
    {
     "name": "stdout",
     "output_type": "stream",
     "text": [
      "3: [D loss: 0.213046]  [A loss: 0.442990]\n",
      "Epoch 4\n"
     ]
    },
    {
     "name": "stderr",
     "output_type": "stream",
     "text": [
      "100%|██████████| 12/12 [00:00<00:00, 36.10it/s]\n",
      " 42%|████▏     | 5/12 [00:00<00:00, 44.98it/s]"
     ]
    },
    {
     "name": "stdout",
     "output_type": "stream",
     "text": [
      "4: [D loss: 0.169979]  [A loss: 0.395458]\n",
      "Epoch 5\n"
     ]
    },
    {
     "name": "stderr",
     "output_type": "stream",
     "text": [
      "100%|██████████| 12/12 [00:00<00:00, 28.48it/s]\n",
      " 42%|████▏     | 5/12 [00:00<00:00, 46.37it/s]"
     ]
    },
    {
     "name": "stdout",
     "output_type": "stream",
     "text": [
      "5: [D loss: 0.144218]  [A loss: 0.417527]\n",
      "Epoch 6\n"
     ]
    },
    {
     "name": "stderr",
     "output_type": "stream",
     "text": [
      "100%|██████████| 12/12 [00:00<00:00, 40.26it/s]\n",
      "  8%|▊         | 1/12 [00:00<00:01,  6.04it/s]"
     ]
    },
    {
     "name": "stdout",
     "output_type": "stream",
     "text": [
      "6: [D loss: 0.123988]  [A loss: 0.443668]\n",
      "Epoch 7\n"
     ]
    },
    {
     "name": "stderr",
     "output_type": "stream",
     "text": [
      "100%|██████████| 12/12 [00:00<00:00, 29.31it/s]\n",
      " 25%|██▌       | 3/12 [00:00<00:00, 24.67it/s]"
     ]
    },
    {
     "name": "stdout",
     "output_type": "stream",
     "text": [
      "7: [D loss: 0.132200]  [A loss: 0.450004]\n",
      "Epoch 8\n"
     ]
    },
    {
     "name": "stderr",
     "output_type": "stream",
     "text": [
      "100%|██████████| 12/12 [00:00<00:00, 25.76it/s]\n",
      " 42%|████▏     | 5/12 [00:00<00:00, 41.45it/s]"
     ]
    },
    {
     "name": "stdout",
     "output_type": "stream",
     "text": [
      "8: [D loss: 0.103983]  [A loss: 0.469471]\n",
      "Epoch 9\n"
     ]
    },
    {
     "name": "stderr",
     "output_type": "stream",
     "text": [
      "100%|██████████| 12/12 [00:00<00:00, 33.90it/s]\n",
      " 25%|██▌       | 3/12 [00:00<00:00, 25.05it/s]"
     ]
    },
    {
     "name": "stdout",
     "output_type": "stream",
     "text": [
      "9: [D loss: 0.123971]  [A loss: 0.482388]\n",
      "Epoch 10\n"
     ]
    },
    {
     "name": "stderr",
     "output_type": "stream",
     "text": [
      "100%|██████████| 12/12 [00:00<00:00, 25.68it/s]\n",
      " 42%|████▏     | 5/12 [00:00<00:00, 46.94it/s]"
     ]
    },
    {
     "name": "stdout",
     "output_type": "stream",
     "text": [
      "10: [D loss: 0.168345]  [A loss: 0.385937]\n",
      "Epoch 11\n"
     ]
    },
    {
     "name": "stderr",
     "output_type": "stream",
     "text": [
      "100%|██████████| 12/12 [00:00<00:00, 27.52it/s]\n",
      " 42%|████▏     | 5/12 [00:00<00:00, 45.47it/s]"
     ]
    },
    {
     "name": "stdout",
     "output_type": "stream",
     "text": [
      "11: [D loss: 0.216213]  [A loss: 0.327052]\n",
      "Epoch 12\n"
     ]
    },
    {
     "name": "stderr",
     "output_type": "stream",
     "text": [
      "100%|██████████| 12/12 [00:00<00:00, 29.08it/s]\n",
      " 17%|█▋        | 2/12 [00:00<00:00, 15.72it/s]"
     ]
    },
    {
     "name": "stdout",
     "output_type": "stream",
     "text": [
      "12: [D loss: 0.230725]  [A loss: 0.335710]\n",
      "Epoch 13\n"
     ]
    },
    {
     "name": "stderr",
     "output_type": "stream",
     "text": [
      "100%|██████████| 12/12 [00:00<00:00, 30.95it/s]\n",
      " 17%|█▋        | 2/12 [00:00<00:00, 18.48it/s]"
     ]
    },
    {
     "name": "stdout",
     "output_type": "stream",
     "text": [
      "13: [D loss: 0.189024]  [A loss: 0.326052]\n",
      "Epoch 14\n"
     ]
    },
    {
     "name": "stderr",
     "output_type": "stream",
     "text": [
      "100%|██████████| 12/12 [00:00<00:00, 22.88it/s]\n",
      " 33%|███▎      | 4/12 [00:00<00:00, 34.71it/s]"
     ]
    },
    {
     "name": "stdout",
     "output_type": "stream",
     "text": [
      "14: [D loss: 0.192916]  [A loss: 0.358375]\n",
      "Epoch 15\n"
     ]
    },
    {
     "name": "stderr",
     "output_type": "stream",
     "text": [
      "100%|██████████| 12/12 [00:00<00:00, 20.47it/s]\n",
      " 25%|██▌       | 3/12 [00:00<00:00, 23.93it/s]"
     ]
    },
    {
     "name": "stdout",
     "output_type": "stream",
     "text": [
      "15: [D loss: 0.180453]  [A loss: 0.364312]\n",
      "Epoch 16\n"
     ]
    },
    {
     "name": "stderr",
     "output_type": "stream",
     "text": [
      "100%|██████████| 12/12 [00:00<00:00, 19.98it/s]\n",
      " 25%|██▌       | 3/12 [00:00<00:00, 24.19it/s]"
     ]
    },
    {
     "name": "stdout",
     "output_type": "stream",
     "text": [
      "16: [D loss: 0.136596]  [A loss: 0.390288]\n",
      "Epoch 17\n"
     ]
    },
    {
     "name": "stderr",
     "output_type": "stream",
     "text": [
      "100%|██████████| 12/12 [00:00<00:00, 19.54it/s]\n",
      " 25%|██▌       | 3/12 [00:00<00:00, 25.05it/s]"
     ]
    },
    {
     "name": "stdout",
     "output_type": "stream",
     "text": [
      "17: [D loss: 0.143878]  [A loss: 0.383937]\n",
      "Epoch 18\n"
     ]
    },
    {
     "name": "stderr",
     "output_type": "stream",
     "text": [
      "100%|██████████| 12/12 [00:00<00:00, 20.21it/s]\n",
      " 17%|█▋        | 2/12 [00:00<00:00, 18.64it/s]"
     ]
    },
    {
     "name": "stdout",
     "output_type": "stream",
     "text": [
      "18: [D loss: 0.135970]  [A loss: 0.427641]\n",
      "Epoch 19\n"
     ]
    },
    {
     "name": "stderr",
     "output_type": "stream",
     "text": [
      "100%|██████████| 12/12 [00:00<00:00, 23.56it/s]\n",
      " 17%|█▋        | 2/12 [00:00<00:00, 17.95it/s]"
     ]
    },
    {
     "name": "stdout",
     "output_type": "stream",
     "text": [
      "19: [D loss: 0.194290]  [A loss: 0.447333]\n",
      "Epoch 20\n"
     ]
    },
    {
     "name": "stderr",
     "output_type": "stream",
     "text": [
      "100%|██████████| 12/12 [00:00<00:00, 30.37it/s]\n",
      " 25%|██▌       | 3/12 [00:00<00:00, 26.89it/s]"
     ]
    },
    {
     "name": "stdout",
     "output_type": "stream",
     "text": [
      "20: [D loss: 0.151072]  [A loss: 0.373870]\n",
      "Epoch 21\n"
     ]
    },
    {
     "name": "stderr",
     "output_type": "stream",
     "text": [
      "100%|██████████| 12/12 [00:00<00:00, 27.65it/s]\n",
      " 42%|████▏     | 5/12 [00:00<00:00, 47.29it/s]"
     ]
    },
    {
     "name": "stdout",
     "output_type": "stream",
     "text": [
      "21: [D loss: 0.150550]  [A loss: 0.438367]\n",
      "Epoch 22\n"
     ]
    },
    {
     "name": "stderr",
     "output_type": "stream",
     "text": [
      "100%|██████████| 12/12 [00:00<00:00, 27.32it/s]\n",
      " 42%|████▏     | 5/12 [00:00<00:00, 48.01it/s]"
     ]
    },
    {
     "name": "stdout",
     "output_type": "stream",
     "text": [
      "22: [D loss: 0.153301]  [A loss: 0.415087]\n",
      "Epoch 23\n"
     ]
    },
    {
     "name": "stderr",
     "output_type": "stream",
     "text": [
      "100%|██████████| 12/12 [00:00<00:00, 41.83it/s]\n",
      " 25%|██▌       | 3/12 [00:00<00:00, 20.45it/s]"
     ]
    },
    {
     "name": "stdout",
     "output_type": "stream",
     "text": [
      "23: [D loss: 0.184342]  [A loss: 0.396988]\n",
      "Epoch 24\n"
     ]
    },
    {
     "name": "stderr",
     "output_type": "stream",
     "text": [
      "100%|██████████| 12/12 [00:00<00:00, 29.50it/s]\n",
      " 33%|███▎      | 4/12 [00:00<00:00, 34.62it/s]"
     ]
    },
    {
     "name": "stdout",
     "output_type": "stream",
     "text": [
      "24: [D loss: 0.164523]  [A loss: 0.430924]\n",
      "Epoch 25\n"
     ]
    },
    {
     "name": "stderr",
     "output_type": "stream",
     "text": [
      "100%|██████████| 12/12 [00:00<00:00, 25.98it/s]\n",
      " 25%|██▌       | 3/12 [00:00<00:00, 27.46it/s]"
     ]
    },
    {
     "name": "stdout",
     "output_type": "stream",
     "text": [
      "25: [D loss: 0.161278]  [A loss: 0.474609]\n",
      "Epoch 26\n"
     ]
    },
    {
     "name": "stderr",
     "output_type": "stream",
     "text": [
      "100%|██████████| 12/12 [00:00<00:00, 26.79it/s]\n",
      " 33%|███▎      | 4/12 [00:00<00:00, 31.49it/s]"
     ]
    },
    {
     "name": "stdout",
     "output_type": "stream",
     "text": [
      "26: [D loss: 0.132994]  [A loss: 0.406649]\n",
      "Epoch 27\n"
     ]
    },
    {
     "name": "stderr",
     "output_type": "stream",
     "text": [
      "100%|██████████| 12/12 [00:00<00:00, 34.56it/s]\n",
      " 42%|████▏     | 5/12 [00:00<00:00, 49.27it/s]"
     ]
    },
    {
     "name": "stdout",
     "output_type": "stream",
     "text": [
      "27: [D loss: 0.117488]  [A loss: 0.432306]\n",
      "Epoch 28\n"
     ]
    },
    {
     "name": "stderr",
     "output_type": "stream",
     "text": [
      "100%|██████████| 12/12 [00:00<00:00, 34.92it/s]\n",
      " 25%|██▌       | 3/12 [00:00<00:00, 25.14it/s]"
     ]
    },
    {
     "name": "stdout",
     "output_type": "stream",
     "text": [
      "28: [D loss: 0.183459]  [A loss: 0.429886]\n",
      "Epoch 29\n"
     ]
    },
    {
     "name": "stderr",
     "output_type": "stream",
     "text": [
      "100%|██████████| 12/12 [00:00<00:00, 24.04it/s]\n",
      " 25%|██▌       | 3/12 [00:00<00:00, 26.92it/s]"
     ]
    },
    {
     "name": "stdout",
     "output_type": "stream",
     "text": [
      "29: [D loss: 0.142218]  [A loss: 0.369481]\n",
      "Epoch 30\n"
     ]
    },
    {
     "name": "stderr",
     "output_type": "stream",
     "text": [
      "100%|██████████| 12/12 [00:00<00:00, 28.04it/s]\n",
      " 17%|█▋        | 2/12 [00:00<00:00, 18.50it/s]"
     ]
    },
    {
     "name": "stdout",
     "output_type": "stream",
     "text": [
      "30: [D loss: 0.134912]  [A loss: 0.420781]\n",
      "Epoch 31\n"
     ]
    },
    {
     "name": "stderr",
     "output_type": "stream",
     "text": [
      "100%|██████████| 12/12 [00:00<00:00, 24.56it/s]\n",
      " 25%|██▌       | 3/12 [00:00<00:00, 23.76it/s]"
     ]
    },
    {
     "name": "stdout",
     "output_type": "stream",
     "text": [
      "31: [D loss: 0.136787]  [A loss: 0.377261]\n",
      "Epoch 32\n"
     ]
    },
    {
     "name": "stderr",
     "output_type": "stream",
     "text": [
      "100%|██████████| 12/12 [00:00<00:00, 26.85it/s]\n",
      " 42%|████▏     | 5/12 [00:00<00:00, 45.36it/s]"
     ]
    },
    {
     "name": "stdout",
     "output_type": "stream",
     "text": [
      "32: [D loss: 0.129516]  [A loss: 0.408014]\n",
      "Epoch 33\n"
     ]
    },
    {
     "name": "stderr",
     "output_type": "stream",
     "text": [
      "100%|██████████| 12/12 [00:00<00:00, 43.34it/s]\n",
      " 42%|████▏     | 5/12 [00:00<00:00, 43.45it/s]"
     ]
    },
    {
     "name": "stdout",
     "output_type": "stream",
     "text": [
      "33: [D loss: 0.153273]  [A loss: 0.401006]\n",
      "Epoch 34\n"
     ]
    },
    {
     "name": "stderr",
     "output_type": "stream",
     "text": [
      "100%|██████████| 12/12 [00:00<00:00, 43.22it/s]\n",
      " 42%|████▏     | 5/12 [00:00<00:00, 44.69it/s]"
     ]
    },
    {
     "name": "stdout",
     "output_type": "stream",
     "text": [
      "34: [D loss: 0.181610]  [A loss: 0.407775]\n",
      "Epoch 35\n"
     ]
    },
    {
     "name": "stderr",
     "output_type": "stream",
     "text": [
      "100%|██████████| 12/12 [00:00<00:00, 42.50it/s]\n",
      " 42%|████▏     | 5/12 [00:00<00:00, 49.65it/s]"
     ]
    },
    {
     "name": "stdout",
     "output_type": "stream",
     "text": [
      "35: [D loss: 0.169638]  [A loss: 0.370712]\n",
      "Epoch 36\n"
     ]
    },
    {
     "name": "stderr",
     "output_type": "stream",
     "text": [
      "100%|██████████| 12/12 [00:00<00:00, 44.67it/s]\n",
      " 42%|████▏     | 5/12 [00:00<00:00, 49.95it/s]"
     ]
    },
    {
     "name": "stdout",
     "output_type": "stream",
     "text": [
      "36: [D loss: 0.157547]  [A loss: 0.430668]\n",
      "Epoch 37\n"
     ]
    },
    {
     "name": "stderr",
     "output_type": "stream",
     "text": [
      "100%|██████████| 12/12 [00:00<00:00, 48.37it/s]\n",
      " 67%|██████▋   | 8/12 [00:00<00:00, 71.15it/s]"
     ]
    },
    {
     "name": "stdout",
     "output_type": "stream",
     "text": [
      "37: [D loss: 0.186491]  [A loss: 0.418115]\n",
      "Epoch 38\n"
     ]
    },
    {
     "name": "stderr",
     "output_type": "stream",
     "text": [
      "100%|██████████| 12/12 [00:00<00:00, 58.73it/s]\n",
      " 42%|████▏     | 5/12 [00:00<00:00, 45.75it/s]"
     ]
    },
    {
     "name": "stdout",
     "output_type": "stream",
     "text": [
      "38: [D loss: 0.212270]  [A loss: 0.385378]\n",
      "Epoch 39\n"
     ]
    },
    {
     "name": "stderr",
     "output_type": "stream",
     "text": [
      "100%|██████████| 12/12 [00:00<00:00, 44.52it/s]\n",
      " 50%|█████     | 6/12 [00:00<00:00, 49.31it/s]"
     ]
    },
    {
     "name": "stdout",
     "output_type": "stream",
     "text": [
      "39: [D loss: 0.209150]  [A loss: 0.333894]\n",
      "Epoch 40\n"
     ]
    },
    {
     "name": "stderr",
     "output_type": "stream",
     "text": [
      "100%|██████████| 12/12 [00:00<00:00, 34.45it/s]\n",
      " 50%|█████     | 6/12 [00:00<00:00, 54.02it/s]"
     ]
    },
    {
     "name": "stdout",
     "output_type": "stream",
     "text": [
      "40: [D loss: 0.184857]  [A loss: 0.341755]\n",
      "Epoch 41\n"
     ]
    },
    {
     "name": "stderr",
     "output_type": "stream",
     "text": [
      "100%|██████████| 12/12 [00:00<00:00, 45.35it/s]\n",
      " 33%|███▎      | 4/12 [00:00<00:00, 38.99it/s]"
     ]
    },
    {
     "name": "stdout",
     "output_type": "stream",
     "text": [
      "41: [D loss: 0.188453]  [A loss: 0.312463]\n",
      "Epoch 42\n"
     ]
    },
    {
     "name": "stderr",
     "output_type": "stream",
     "text": [
      "100%|██████████| 12/12 [00:00<00:00, 43.23it/s]\n",
      " 33%|███▎      | 4/12 [00:00<00:00, 34.01it/s]"
     ]
    },
    {
     "name": "stdout",
     "output_type": "stream",
     "text": [
      "42: [D loss: 0.186773]  [A loss: 0.265603]\n",
      "Epoch 43\n"
     ]
    },
    {
     "name": "stderr",
     "output_type": "stream",
     "text": [
      "100%|██████████| 12/12 [00:00<00:00, 39.35it/s]\n",
      " 33%|███▎      | 4/12 [00:00<00:00, 38.21it/s]"
     ]
    },
    {
     "name": "stdout",
     "output_type": "stream",
     "text": [
      "43: [D loss: 0.189653]  [A loss: 0.289193]\n",
      "Epoch 44\n"
     ]
    },
    {
     "name": "stderr",
     "output_type": "stream",
     "text": [
      "100%|██████████| 12/12 [00:00<00:00, 41.23it/s]\n",
      " 42%|████▏     | 5/12 [00:00<00:00, 48.68it/s]"
     ]
    },
    {
     "name": "stdout",
     "output_type": "stream",
     "text": [
      "44: [D loss: 0.214548]  [A loss: 0.375629]\n",
      "Epoch 45\n"
     ]
    },
    {
     "name": "stderr",
     "output_type": "stream",
     "text": [
      "100%|██████████| 12/12 [00:00<00:00, 45.85it/s]\n",
      " 33%|███▎      | 4/12 [00:00<00:00, 37.27it/s]"
     ]
    },
    {
     "name": "stdout",
     "output_type": "stream",
     "text": [
      "45: [D loss: 0.185403]  [A loss: 0.290695]\n",
      "Epoch 46\n"
     ]
    },
    {
     "name": "stderr",
     "output_type": "stream",
     "text": [
      "100%|██████████| 12/12 [00:00<00:00, 42.98it/s]\n",
      " 50%|█████     | 6/12 [00:00<00:00, 52.61it/s]"
     ]
    },
    {
     "name": "stdout",
     "output_type": "stream",
     "text": [
      "46: [D loss: 0.240866]  [A loss: 0.324485]\n",
      "Epoch 47\n"
     ]
    },
    {
     "name": "stderr",
     "output_type": "stream",
     "text": [
      "100%|██████████| 12/12 [00:00<00:00, 44.87it/s]\n",
      " 42%|████▏     | 5/12 [00:00<00:00, 46.75it/s]"
     ]
    },
    {
     "name": "stdout",
     "output_type": "stream",
     "text": [
      "47: [D loss: 0.205377]  [A loss: 0.352368]\n",
      "Epoch 48\n"
     ]
    },
    {
     "name": "stderr",
     "output_type": "stream",
     "text": [
      "100%|██████████| 12/12 [00:00<00:00, 45.91it/s]\n",
      " 50%|█████     | 6/12 [00:00<00:00, 55.19it/s]"
     ]
    },
    {
     "name": "stdout",
     "output_type": "stream",
     "text": [
      "48: [D loss: 0.178212]  [A loss: 0.394019]\n",
      "Epoch 49\n"
     ]
    },
    {
     "name": "stderr",
     "output_type": "stream",
     "text": [
      "100%|██████████| 12/12 [00:00<00:00, 53.49it/s]\n",
      " 42%|████▏     | 5/12 [00:00<00:00, 48.21it/s]"
     ]
    },
    {
     "name": "stdout",
     "output_type": "stream",
     "text": [
      "49: [D loss: 0.163233]  [A loss: 0.413757]\n",
      "Epoch 50\n"
     ]
    },
    {
     "name": "stderr",
     "output_type": "stream",
     "text": [
      "100%|██████████| 12/12 [00:00<00:00, 45.91it/s]\n",
      " 42%|████▏     | 5/12 [00:00<00:00, 42.16it/s]"
     ]
    },
    {
     "name": "stdout",
     "output_type": "stream",
     "text": [
      "50: [D loss: 0.206451]  [A loss: 0.306985]\n",
      "Epoch 51\n"
     ]
    },
    {
     "name": "stderr",
     "output_type": "stream",
     "text": [
      "100%|██████████| 12/12 [00:00<00:00, 43.85it/s]\n",
      " 50%|█████     | 6/12 [00:00<00:00, 52.52it/s]"
     ]
    },
    {
     "name": "stdout",
     "output_type": "stream",
     "text": [
      "51: [D loss: 0.207797]  [A loss: 0.355917]\n",
      "Epoch 52\n"
     ]
    },
    {
     "name": "stderr",
     "output_type": "stream",
     "text": [
      "100%|██████████| 12/12 [00:00<00:00, 47.67it/s]\n",
      " 42%|████▏     | 5/12 [00:00<00:00, 46.29it/s]"
     ]
    },
    {
     "name": "stdout",
     "output_type": "stream",
     "text": [
      "52: [D loss: 0.142523]  [A loss: 0.313251]\n",
      "Epoch 53\n"
     ]
    },
    {
     "name": "stderr",
     "output_type": "stream",
     "text": [
      "100%|██████████| 12/12 [00:00<00:00, 28.48it/s]\n",
      " 42%|████▏     | 5/12 [00:00<00:00, 43.80it/s]"
     ]
    },
    {
     "name": "stdout",
     "output_type": "stream",
     "text": [
      "53: [D loss: 0.212544]  [A loss: 0.296620]\n",
      "Epoch 54\n"
     ]
    },
    {
     "name": "stderr",
     "output_type": "stream",
     "text": [
      "100%|██████████| 12/12 [00:00<00:00, 28.54it/s]\n",
      " 17%|█▋        | 2/12 [00:00<00:00, 12.39it/s]"
     ]
    },
    {
     "name": "stdout",
     "output_type": "stream",
     "text": [
      "54: [D loss: 0.203667]  [A loss: 0.330561]\n",
      "Epoch 55\n"
     ]
    },
    {
     "name": "stderr",
     "output_type": "stream",
     "text": [
      "100%|██████████| 12/12 [00:00<00:00, 26.16it/s]\n",
      " 25%|██▌       | 3/12 [00:00<00:00, 24.71it/s]"
     ]
    },
    {
     "name": "stdout",
     "output_type": "stream",
     "text": [
      "55: [D loss: 0.178647]  [A loss: 0.347374]\n",
      "Epoch 56\n"
     ]
    },
    {
     "name": "stderr",
     "output_type": "stream",
     "text": [
      "100%|██████████| 12/12 [00:00<00:00, 30.51it/s]\n",
      " 42%|████▏     | 5/12 [00:00<00:00, 45.60it/s]"
     ]
    },
    {
     "name": "stdout",
     "output_type": "stream",
     "text": [
      "56: [D loss: 0.165778]  [A loss: 0.376980]\n",
      "Epoch 57\n"
     ]
    },
    {
     "name": "stderr",
     "output_type": "stream",
     "text": [
      "100%|██████████| 12/12 [00:00<00:00, 25.64it/s]\n",
      " 42%|████▏     | 5/12 [00:00<00:00, 46.06it/s]"
     ]
    },
    {
     "name": "stdout",
     "output_type": "stream",
     "text": [
      "57: [D loss: 0.185908]  [A loss: 0.386786]\n",
      "Epoch 58\n"
     ]
    },
    {
     "name": "stderr",
     "output_type": "stream",
     "text": [
      "100%|██████████| 12/12 [00:00<00:00, 43.06it/s]\n",
      " 42%|████▏     | 5/12 [00:00<00:00, 49.68it/s]"
     ]
    },
    {
     "name": "stdout",
     "output_type": "stream",
     "text": [
      "58: [D loss: 0.195055]  [A loss: 0.382456]\n",
      "Epoch 59\n"
     ]
    },
    {
     "name": "stderr",
     "output_type": "stream",
     "text": [
      "100%|██████████| 12/12 [00:00<00:00, 47.39it/s]\n",
      " 42%|████▏     | 5/12 [00:00<00:00, 49.95it/s]"
     ]
    },
    {
     "name": "stdout",
     "output_type": "stream",
     "text": [
      "59: [D loss: 0.150672]  [A loss: 0.358043]\n",
      "Epoch 60\n"
     ]
    },
    {
     "name": "stderr",
     "output_type": "stream",
     "text": [
      "100%|██████████| 12/12 [00:00<00:00, 24.93it/s]\n",
      " 42%|████▏     | 5/12 [00:00<00:00, 49.61it/s]"
     ]
    },
    {
     "name": "stdout",
     "output_type": "stream",
     "text": [
      "60: [D loss: 0.129813]  [A loss: 0.325228]\n",
      "Epoch 61\n"
     ]
    },
    {
     "name": "stderr",
     "output_type": "stream",
     "text": [
      "100%|██████████| 12/12 [00:00<00:00, 48.12it/s]\n",
      " 42%|████▏     | 5/12 [00:00<00:00, 44.93it/s]"
     ]
    },
    {
     "name": "stdout",
     "output_type": "stream",
     "text": [
      "61: [D loss: 0.180270]  [A loss: 0.300988]\n",
      "Epoch 62\n"
     ]
    },
    {
     "name": "stderr",
     "output_type": "stream",
     "text": [
      "100%|██████████| 12/12 [00:00<00:00, 43.22it/s]\n",
      " 17%|█▋        | 2/12 [00:00<00:00, 19.43it/s]"
     ]
    },
    {
     "name": "stdout",
     "output_type": "stream",
     "text": [
      "62: [D loss: 0.156728]  [A loss: 0.383862]\n",
      "Epoch 63\n"
     ]
    },
    {
     "name": "stderr",
     "output_type": "stream",
     "text": [
      "100%|██████████| 12/12 [00:00<00:00, 20.03it/s]\n",
      " 50%|█████     | 6/12 [00:00<00:00, 55.25it/s]"
     ]
    },
    {
     "name": "stdout",
     "output_type": "stream",
     "text": [
      "63: [D loss: 0.142276]  [A loss: 0.445136]\n",
      "Epoch 64\n"
     ]
    },
    {
     "name": "stderr",
     "output_type": "stream",
     "text": [
      "100%|██████████| 12/12 [00:00<00:00, 46.98it/s]\n",
      " 17%|█▋        | 2/12 [00:00<00:00, 16.32it/s]"
     ]
    },
    {
     "name": "stdout",
     "output_type": "stream",
     "text": [
      "64: [D loss: 0.148570]  [A loss: 0.315614]\n",
      "Epoch 65\n"
     ]
    },
    {
     "name": "stderr",
     "output_type": "stream",
     "text": [
      "100%|██████████| 12/12 [00:00<00:00, 16.03it/s]\n",
      "  0%|          | 0/12 [00:00<?, ?it/s]"
     ]
    },
    {
     "name": "stdout",
     "output_type": "stream",
     "text": [
      "65: [D loss: 0.176766]  [A loss: 0.303909]\n",
      "Epoch 66\n"
     ]
    },
    {
     "name": "stderr",
     "output_type": "stream",
     "text": [
      "100%|██████████| 12/12 [00:00<00:00, 12.01it/s]\n",
      " 17%|█▋        | 2/12 [00:00<00:00, 18.34it/s]"
     ]
    },
    {
     "name": "stdout",
     "output_type": "stream",
     "text": [
      "66: [D loss: 0.194526]  [A loss: 0.347814]\n",
      "Epoch 67\n"
     ]
    },
    {
     "name": "stderr",
     "output_type": "stream",
     "text": [
      "100%|██████████| 12/12 [00:00<00:00, 21.70it/s]\n",
      " 50%|█████     | 6/12 [00:00<00:00, 52.60it/s]"
     ]
    },
    {
     "name": "stdout",
     "output_type": "stream",
     "text": [
      "67: [D loss: 0.138443]  [A loss: 0.401534]\n",
      "Epoch 68\n"
     ]
    },
    {
     "name": "stderr",
     "output_type": "stream",
     "text": [
      "100%|██████████| 12/12 [00:00<00:00, 46.99it/s]\n",
      " 50%|█████     | 6/12 [00:00<00:00, 55.21it/s]"
     ]
    },
    {
     "name": "stdout",
     "output_type": "stream",
     "text": [
      "68: [D loss: 0.154082]  [A loss: 0.545980]\n",
      "Epoch 69\n"
     ]
    },
    {
     "name": "stderr",
     "output_type": "stream",
     "text": [
      "100%|██████████| 12/12 [00:00<00:00, 25.08it/s]\n",
      " 25%|██▌       | 3/12 [00:00<00:00, 26.00it/s]"
     ]
    },
    {
     "name": "stdout",
     "output_type": "stream",
     "text": [
      "69: [D loss: 0.157566]  [A loss: 0.399948]\n",
      "Epoch 70\n"
     ]
    },
    {
     "name": "stderr",
     "output_type": "stream",
     "text": [
      "100%|██████████| 12/12 [00:00<00:00, 38.81it/s]\n",
      " 42%|████▏     | 5/12 [00:00<00:00, 49.40it/s]"
     ]
    },
    {
     "name": "stdout",
     "output_type": "stream",
     "text": [
      "70: [D loss: 0.185380]  [A loss: 0.324945]\n",
      "Epoch 71\n"
     ]
    },
    {
     "name": "stderr",
     "output_type": "stream",
     "text": [
      "100%|██████████| 12/12 [00:00<00:00, 45.55it/s]\n",
      " 33%|███▎      | 4/12 [00:00<00:00, 34.02it/s]"
     ]
    },
    {
     "name": "stdout",
     "output_type": "stream",
     "text": [
      "71: [D loss: 0.216591]  [A loss: 0.419973]\n",
      "Epoch 72\n"
     ]
    },
    {
     "name": "stderr",
     "output_type": "stream",
     "text": [
      "100%|██████████| 12/12 [00:00<00:00, 20.97it/s]\n",
      " 42%|████▏     | 5/12 [00:00<00:00, 47.79it/s]"
     ]
    },
    {
     "name": "stdout",
     "output_type": "stream",
     "text": [
      "72: [D loss: 0.164206]  [A loss: 0.364443]\n",
      "Epoch 73\n"
     ]
    },
    {
     "name": "stderr",
     "output_type": "stream",
     "text": [
      "100%|██████████| 12/12 [00:00<00:00, 39.01it/s]\n",
      " 17%|█▋        | 2/12 [00:00<00:00, 15.57it/s]"
     ]
    },
    {
     "name": "stdout",
     "output_type": "stream",
     "text": [
      "73: [D loss: 0.133285]  [A loss: 0.334654]\n",
      "Epoch 74\n"
     ]
    },
    {
     "name": "stderr",
     "output_type": "stream",
     "text": [
      "100%|██████████| 12/12 [00:00<00:00, 21.20it/s]\n",
      " 42%|████▏     | 5/12 [00:00<00:00, 47.19it/s]"
     ]
    },
    {
     "name": "stdout",
     "output_type": "stream",
     "text": [
      "74: [D loss: 0.197307]  [A loss: 0.291758]\n",
      "Epoch 75\n"
     ]
    },
    {
     "name": "stderr",
     "output_type": "stream",
     "text": [
      "100%|██████████| 12/12 [00:00<00:00, 30.11it/s]\n",
      " 42%|████▏     | 5/12 [00:00<00:00, 47.97it/s]"
     ]
    },
    {
     "name": "stdout",
     "output_type": "stream",
     "text": [
      "75: [D loss: 0.170887]  [A loss: 0.363704]\n",
      "Epoch 76\n"
     ]
    },
    {
     "name": "stderr",
     "output_type": "stream",
     "text": [
      "100%|██████████| 12/12 [00:00<00:00, 45.76it/s]\n",
      " 33%|███▎      | 4/12 [00:00<00:00, 29.45it/s]"
     ]
    },
    {
     "name": "stdout",
     "output_type": "stream",
     "text": [
      "76: [D loss: 0.169241]  [A loss: 0.503240]\n",
      "Epoch 77\n"
     ]
    },
    {
     "name": "stderr",
     "output_type": "stream",
     "text": [
      "100%|██████████| 12/12 [00:00<00:00, 22.29it/s]\n",
      " 33%|███▎      | 4/12 [00:00<00:00, 35.33it/s]"
     ]
    },
    {
     "name": "stdout",
     "output_type": "stream",
     "text": [
      "77: [D loss: 0.158632]  [A loss: 0.426134]\n",
      "Epoch 78\n"
     ]
    },
    {
     "name": "stderr",
     "output_type": "stream",
     "text": [
      "100%|██████████| 12/12 [00:00<00:00, 26.49it/s]\n",
      " 25%|██▌       | 3/12 [00:00<00:00, 25.74it/s]"
     ]
    },
    {
     "name": "stdout",
     "output_type": "stream",
     "text": [
      "78: [D loss: 0.198947]  [A loss: 0.427497]\n",
      "Epoch 79\n"
     ]
    },
    {
     "name": "stderr",
     "output_type": "stream",
     "text": [
      "100%|██████████| 12/12 [00:00<00:00, 21.96it/s]\n",
      " 25%|██▌       | 3/12 [00:00<00:00, 26.21it/s]"
     ]
    },
    {
     "name": "stdout",
     "output_type": "stream",
     "text": [
      "79: [D loss: 0.165130]  [A loss: 0.358236]\n",
      "Epoch 80\n"
     ]
    },
    {
     "name": "stderr",
     "output_type": "stream",
     "text": [
      "100%|██████████| 12/12 [00:00<00:00, 26.24it/s]\n",
      " 25%|██▌       | 3/12 [00:00<00:00, 29.88it/s]"
     ]
    },
    {
     "name": "stdout",
     "output_type": "stream",
     "text": [
      "80: [D loss: 0.138912]  [A loss: 0.404555]\n",
      "Epoch 81\n"
     ]
    },
    {
     "name": "stderr",
     "output_type": "stream",
     "text": [
      "100%|██████████| 12/12 [00:00<00:00, 26.11it/s]\n",
      " 25%|██▌       | 3/12 [00:00<00:00, 26.03it/s]"
     ]
    },
    {
     "name": "stdout",
     "output_type": "stream",
     "text": [
      "81: [D loss: 0.169413]  [A loss: 0.290138]\n",
      "Epoch 82\n"
     ]
    },
    {
     "name": "stderr",
     "output_type": "stream",
     "text": [
      "100%|██████████| 12/12 [00:00<00:00, 31.70it/s]\n",
      " 33%|███▎      | 4/12 [00:00<00:00, 37.85it/s]"
     ]
    },
    {
     "name": "stdout",
     "output_type": "stream",
     "text": [
      "82: [D loss: 0.180496]  [A loss: 0.423579]\n",
      "Epoch 83\n"
     ]
    },
    {
     "name": "stderr",
     "output_type": "stream",
     "text": [
      "100%|██████████| 12/12 [00:00<00:00, 38.88it/s]\n",
      " 33%|███▎      | 4/12 [00:00<00:00, 39.49it/s]"
     ]
    },
    {
     "name": "stdout",
     "output_type": "stream",
     "text": [
      "83: [D loss: 0.203388]  [A loss: 0.411068]\n",
      "Epoch 84\n"
     ]
    },
    {
     "name": "stderr",
     "output_type": "stream",
     "text": [
      "100%|██████████| 12/12 [00:00<00:00, 40.71it/s]\n",
      " 50%|█████     | 6/12 [00:00<00:00, 55.37it/s]"
     ]
    },
    {
     "name": "stdout",
     "output_type": "stream",
     "text": [
      "84: [D loss: 0.148235]  [A loss: 0.501459]\n",
      "Epoch 85\n"
     ]
    },
    {
     "name": "stderr",
     "output_type": "stream",
     "text": [
      "100%|██████████| 12/12 [00:00<00:00, 53.70it/s]\n",
      " 42%|████▏     | 5/12 [00:00<00:00, 49.72it/s]"
     ]
    },
    {
     "name": "stdout",
     "output_type": "stream",
     "text": [
      "85: [D loss: 0.180353]  [A loss: 0.422255]\n",
      "Epoch 86\n"
     ]
    },
    {
     "name": "stderr",
     "output_type": "stream",
     "text": [
      "100%|██████████| 12/12 [00:00<00:00, 46.26it/s]\n",
      " 42%|████▏     | 5/12 [00:00<00:00, 49.33it/s]"
     ]
    },
    {
     "name": "stdout",
     "output_type": "stream",
     "text": [
      "86: [D loss: 0.160977]  [A loss: 0.343281]\n",
      "Epoch 87\n"
     ]
    },
    {
     "name": "stderr",
     "output_type": "stream",
     "text": [
      "100%|██████████| 12/12 [00:00<00:00, 44.97it/s]\n",
      " 50%|█████     | 6/12 [00:00<00:00, 50.67it/s]"
     ]
    },
    {
     "name": "stdout",
     "output_type": "stream",
     "text": [
      "87: [D loss: 0.195296]  [A loss: 0.448131]\n",
      "Epoch 88\n"
     ]
    },
    {
     "name": "stderr",
     "output_type": "stream",
     "text": [
      "100%|██████████| 12/12 [00:00<00:00, 48.61it/s]\n",
      " 33%|███▎      | 4/12 [00:00<00:00, 35.77it/s]"
     ]
    },
    {
     "name": "stdout",
     "output_type": "stream",
     "text": [
      "88: [D loss: 0.176661]  [A loss: 0.428179]\n",
      "Epoch 89\n"
     ]
    },
    {
     "name": "stderr",
     "output_type": "stream",
     "text": [
      "100%|██████████| 12/12 [00:00<00:00, 40.62it/s]\n",
      " 42%|████▏     | 5/12 [00:00<00:00, 48.49it/s]"
     ]
    },
    {
     "name": "stdout",
     "output_type": "stream",
     "text": [
      "89: [D loss: 0.149432]  [A loss: 0.339179]\n",
      "Epoch 90\n"
     ]
    },
    {
     "name": "stderr",
     "output_type": "stream",
     "text": [
      "100%|██████████| 12/12 [00:00<00:00, 32.63it/s]\n",
      " 33%|███▎      | 4/12 [00:00<00:00, 37.60it/s]"
     ]
    },
    {
     "name": "stdout",
     "output_type": "stream",
     "text": [
      "90: [D loss: 0.171730]  [A loss: 0.415920]\n",
      "Epoch 91\n"
     ]
    },
    {
     "name": "stderr",
     "output_type": "stream",
     "text": [
      "100%|██████████| 12/12 [00:00<00:00, 42.13it/s]\n",
      " 50%|█████     | 6/12 [00:00<00:00, 51.20it/s]"
     ]
    },
    {
     "name": "stdout",
     "output_type": "stream",
     "text": [
      "91: [D loss: 0.172217]  [A loss: 0.391484]\n",
      "Epoch 92\n"
     ]
    },
    {
     "name": "stderr",
     "output_type": "stream",
     "text": [
      "100%|██████████| 12/12 [00:00<00:00, 34.86it/s]\n",
      " 42%|████▏     | 5/12 [00:00<00:00, 43.52it/s]"
     ]
    },
    {
     "name": "stdout",
     "output_type": "stream",
     "text": [
      "92: [D loss: 0.163503]  [A loss: 0.393812]\n",
      "Epoch 93\n"
     ]
    },
    {
     "name": "stderr",
     "output_type": "stream",
     "text": [
      "100%|██████████| 12/12 [00:00<00:00, 33.36it/s]\n",
      " 25%|██▌       | 3/12 [00:00<00:00, 29.60it/s]"
     ]
    },
    {
     "name": "stdout",
     "output_type": "stream",
     "text": [
      "93: [D loss: 0.167221]  [A loss: 0.372063]\n",
      "Epoch 94\n"
     ]
    },
    {
     "name": "stderr",
     "output_type": "stream",
     "text": [
      "100%|██████████| 12/12 [00:00<00:00, 34.01it/s]\n",
      " 33%|███▎      | 4/12 [00:00<00:00, 34.45it/s]"
     ]
    },
    {
     "name": "stdout",
     "output_type": "stream",
     "text": [
      "94: [D loss: 0.150848]  [A loss: 0.373635]\n",
      "Epoch 95\n"
     ]
    },
    {
     "name": "stderr",
     "output_type": "stream",
     "text": [
      "100%|██████████| 12/12 [00:00<00:00, 31.20it/s]\n",
      " 33%|███▎      | 4/12 [00:00<00:00, 38.71it/s]"
     ]
    },
    {
     "name": "stdout",
     "output_type": "stream",
     "text": [
      "95: [D loss: 0.158056]  [A loss: 0.380674]\n",
      "Epoch 96\n"
     ]
    },
    {
     "name": "stderr",
     "output_type": "stream",
     "text": [
      "100%|██████████| 12/12 [00:00<00:00, 30.37it/s]\n",
      " 42%|████▏     | 5/12 [00:00<00:00, 47.03it/s]"
     ]
    },
    {
     "name": "stdout",
     "output_type": "stream",
     "text": [
      "96: [D loss: 0.166972]  [A loss: 0.350941]\n",
      "Epoch 97\n"
     ]
    },
    {
     "name": "stderr",
     "output_type": "stream",
     "text": [
      "100%|██████████| 12/12 [00:00<00:00, 45.83it/s]\n",
      " 42%|████▏     | 5/12 [00:00<00:00, 49.31it/s]"
     ]
    },
    {
     "name": "stdout",
     "output_type": "stream",
     "text": [
      "97: [D loss: 0.163212]  [A loss: 0.465216]\n",
      "Epoch 98\n"
     ]
    },
    {
     "name": "stderr",
     "output_type": "stream",
     "text": [
      "100%|██████████| 12/12 [00:00<00:00, 44.70it/s]\n",
      " 33%|███▎      | 4/12 [00:00<00:00, 38.38it/s]"
     ]
    },
    {
     "name": "stdout",
     "output_type": "stream",
     "text": [
      "98: [D loss: 0.182615]  [A loss: 0.356468]\n",
      "Epoch 99\n"
     ]
    },
    {
     "name": "stderr",
     "output_type": "stream",
     "text": [
      "100%|██████████| 12/12 [00:00<00:00, 36.86it/s]\n",
      " 42%|████▏     | 5/12 [00:00<00:00, 42.74it/s]"
     ]
    },
    {
     "name": "stdout",
     "output_type": "stream",
     "text": [
      "99: [D loss: 0.134248]  [A loss: 0.364037]\n",
      "Epoch 100\n"
     ]
    },
    {
     "name": "stderr",
     "output_type": "stream",
     "text": [
      "100%|██████████| 12/12 [00:00<00:00, 40.71it/s]\n",
      " 33%|███▎      | 4/12 [00:00<00:00, 39.15it/s]"
     ]
    },
    {
     "name": "stdout",
     "output_type": "stream",
     "text": [
      "100: [D loss: 0.151714]  [A loss: 0.406644]\n",
      "Epoch 101\n"
     ]
    },
    {
     "name": "stderr",
     "output_type": "stream",
     "text": [
      "100%|██████████| 12/12 [00:00<00:00, 40.46it/s]\n",
      " 42%|████▏     | 5/12 [00:00<00:00, 46.30it/s]"
     ]
    },
    {
     "name": "stdout",
     "output_type": "stream",
     "text": [
      "101: [D loss: 0.146295]  [A loss: 0.467468]\n",
      "Epoch 102\n"
     ]
    },
    {
     "name": "stderr",
     "output_type": "stream",
     "text": [
      "100%|██████████| 12/12 [00:00<00:00, 41.16it/s]\n",
      " 17%|█▋        | 2/12 [00:00<00:00, 18.06it/s]"
     ]
    },
    {
     "name": "stdout",
     "output_type": "stream",
     "text": [
      "102: [D loss: 0.145758]  [A loss: 0.453898]\n",
      "Epoch 103\n"
     ]
    },
    {
     "name": "stderr",
     "output_type": "stream",
     "text": [
      "100%|██████████| 12/12 [00:00<00:00, 16.11it/s]\n",
      " 17%|█▋        | 2/12 [00:00<00:00, 13.38it/s]"
     ]
    },
    {
     "name": "stdout",
     "output_type": "stream",
     "text": [
      "103: [D loss: 0.172432]  [A loss: 0.339723]\n",
      "Epoch 104\n"
     ]
    },
    {
     "name": "stderr",
     "output_type": "stream",
     "text": [
      "100%|██████████| 12/12 [00:00<00:00, 20.38it/s]\n",
      " 25%|██▌       | 3/12 [00:00<00:00, 24.42it/s]"
     ]
    },
    {
     "name": "stdout",
     "output_type": "stream",
     "text": [
      "104: [D loss: 0.186792]  [A loss: 0.402358]\n",
      "Epoch 105\n"
     ]
    },
    {
     "name": "stderr",
     "output_type": "stream",
     "text": [
      "100%|██████████| 12/12 [00:00<00:00, 15.97it/s]\n",
      " 42%|████▏     | 5/12 [00:00<00:00, 46.41it/s]"
     ]
    },
    {
     "name": "stdout",
     "output_type": "stream",
     "text": [
      "105: [D loss: 0.171956]  [A loss: 0.375399]\n",
      "Epoch 106\n"
     ]
    },
    {
     "name": "stderr",
     "output_type": "stream",
     "text": [
      "100%|██████████| 12/12 [00:00<00:00, 41.84it/s]\n",
      " 25%|██▌       | 3/12 [00:00<00:00, 27.15it/s]"
     ]
    },
    {
     "name": "stdout",
     "output_type": "stream",
     "text": [
      "106: [D loss: 0.089637]  [A loss: 0.524429]\n",
      "Epoch 107\n"
     ]
    },
    {
     "name": "stderr",
     "output_type": "stream",
     "text": [
      "100%|██████████| 12/12 [00:00<00:00, 28.93it/s]\n",
      " 25%|██▌       | 3/12 [00:00<00:00, 28.02it/s]"
     ]
    },
    {
     "name": "stdout",
     "output_type": "stream",
     "text": [
      "107: [D loss: 0.173293]  [A loss: 0.444376]\n",
      "Epoch 108\n"
     ]
    },
    {
     "name": "stderr",
     "output_type": "stream",
     "text": [
      "100%|██████████| 12/12 [00:00<00:00, 30.27it/s]\n",
      " 50%|█████     | 6/12 [00:00<00:00, 54.01it/s]"
     ]
    },
    {
     "name": "stdout",
     "output_type": "stream",
     "text": [
      "108: [D loss: 0.168501]  [A loss: 0.368155]\n",
      "Epoch 109\n"
     ]
    },
    {
     "name": "stderr",
     "output_type": "stream",
     "text": [
      "100%|██████████| 12/12 [00:00<00:00, 45.07it/s]\n",
      " 33%|███▎      | 4/12 [00:00<00:00, 34.24it/s]"
     ]
    },
    {
     "name": "stdout",
     "output_type": "stream",
     "text": [
      "109: [D loss: 0.125037]  [A loss: 0.345085]\n",
      "Epoch 110\n"
     ]
    },
    {
     "name": "stderr",
     "output_type": "stream",
     "text": [
      "100%|██████████| 12/12 [00:00<00:00, 34.92it/s]\n",
      " 33%|███▎      | 4/12 [00:00<00:00, 35.71it/s]"
     ]
    },
    {
     "name": "stdout",
     "output_type": "stream",
     "text": [
      "110: [D loss: 0.154429]  [A loss: 0.403783]\n",
      "Epoch 111\n"
     ]
    },
    {
     "name": "stderr",
     "output_type": "stream",
     "text": [
      "100%|██████████| 12/12 [00:00<00:00, 37.87it/s]\n",
      " 33%|███▎      | 4/12 [00:00<00:00, 39.38it/s]"
     ]
    },
    {
     "name": "stdout",
     "output_type": "stream",
     "text": [
      "111: [D loss: 0.178843]  [A loss: 0.352469]\n",
      "Epoch 112\n"
     ]
    },
    {
     "name": "stderr",
     "output_type": "stream",
     "text": [
      "100%|██████████| 12/12 [00:00<00:00, 41.28it/s]\n",
      " 42%|████▏     | 5/12 [00:00<00:00, 46.26it/s]"
     ]
    },
    {
     "name": "stdout",
     "output_type": "stream",
     "text": [
      "112: [D loss: 0.134188]  [A loss: 0.536529]\n",
      "Epoch 113\n"
     ]
    },
    {
     "name": "stderr",
     "output_type": "stream",
     "text": [
      "100%|██████████| 12/12 [00:00<00:00, 43.22it/s]\n",
      " 50%|█████     | 6/12 [00:00<00:00, 53.31it/s]"
     ]
    },
    {
     "name": "stdout",
     "output_type": "stream",
     "text": [
      "113: [D loss: 0.154969]  [A loss: 0.407618]\n",
      "Epoch 114\n"
     ]
    },
    {
     "name": "stderr",
     "output_type": "stream",
     "text": [
      "100%|██████████| 12/12 [00:00<00:00, 44.60it/s]\n",
      " 42%|████▏     | 5/12 [00:00<00:00, 48.26it/s]"
     ]
    },
    {
     "name": "stdout",
     "output_type": "stream",
     "text": [
      "114: [D loss: 0.124126]  [A loss: 0.517038]\n",
      "Epoch 115\n"
     ]
    },
    {
     "name": "stderr",
     "output_type": "stream",
     "text": [
      "100%|██████████| 12/12 [00:00<00:00, 45.44it/s]\n",
      " 50%|█████     | 6/12 [00:00<00:00, 53.04it/s]"
     ]
    },
    {
     "name": "stdout",
     "output_type": "stream",
     "text": [
      "115: [D loss: 0.150329]  [A loss: 0.405327]\n",
      "Epoch 116\n"
     ]
    },
    {
     "name": "stderr",
     "output_type": "stream",
     "text": [
      "100%|██████████| 12/12 [00:00<00:00, 46.53it/s]\n",
      " 42%|████▏     | 5/12 [00:00<00:00, 47.81it/s]"
     ]
    },
    {
     "name": "stdout",
     "output_type": "stream",
     "text": [
      "116: [D loss: 0.191816]  [A loss: 0.381263]\n",
      "Epoch 117\n"
     ]
    },
    {
     "name": "stderr",
     "output_type": "stream",
     "text": [
      "100%|██████████| 12/12 [00:00<00:00, 42.78it/s]\n",
      " 42%|████▏     | 5/12 [00:00<00:00, 48.02it/s]"
     ]
    },
    {
     "name": "stdout",
     "output_type": "stream",
     "text": [
      "117: [D loss: 0.201290]  [A loss: 0.384638]\n",
      "Epoch 118\n"
     ]
    },
    {
     "name": "stderr",
     "output_type": "stream",
     "text": [
      "100%|██████████| 12/12 [00:00<00:00, 44.01it/s]\n",
      " 33%|███▎      | 4/12 [00:00<00:00, 37.29it/s]"
     ]
    },
    {
     "name": "stdout",
     "output_type": "stream",
     "text": [
      "118: [D loss: 0.180732]  [A loss: 0.361154]\n",
      "Epoch 119\n"
     ]
    },
    {
     "name": "stderr",
     "output_type": "stream",
     "text": [
      "100%|██████████| 12/12 [00:00<00:00, 40.88it/s]\n",
      " 33%|███▎      | 4/12 [00:00<00:00, 33.25it/s]"
     ]
    },
    {
     "name": "stdout",
     "output_type": "stream",
     "text": [
      "119: [D loss: 0.133911]  [A loss: 0.335425]\n",
      "Epoch 120\n"
     ]
    },
    {
     "name": "stderr",
     "output_type": "stream",
     "text": [
      "100%|██████████| 12/12 [00:00<00:00, 39.28it/s]\n",
      " 33%|███▎      | 4/12 [00:00<00:00, 39.52it/s]"
     ]
    },
    {
     "name": "stdout",
     "output_type": "stream",
     "text": [
      "120: [D loss: 0.191044]  [A loss: 0.416688]\n",
      "Epoch 121\n"
     ]
    },
    {
     "name": "stderr",
     "output_type": "stream",
     "text": [
      "100%|██████████| 12/12 [00:00<00:00, 29.11it/s]\n",
      " 33%|███▎      | 4/12 [00:00<00:00, 35.66it/s]"
     ]
    },
    {
     "name": "stdout",
     "output_type": "stream",
     "text": [
      "121: [D loss: 0.184145]  [A loss: 0.354180]\n",
      "Epoch 122\n"
     ]
    },
    {
     "name": "stderr",
     "output_type": "stream",
     "text": [
      "100%|██████████| 12/12 [00:00<00:00, 36.48it/s]\n",
      " 25%|██▌       | 3/12 [00:00<00:00, 20.50it/s]"
     ]
    },
    {
     "name": "stdout",
     "output_type": "stream",
     "text": [
      "122: [D loss: 0.162610]  [A loss: 0.368490]\n",
      "Epoch 123\n"
     ]
    },
    {
     "name": "stderr",
     "output_type": "stream",
     "text": [
      "100%|██████████| 12/12 [00:00<00:00, 20.38it/s]\n",
      " 25%|██▌       | 3/12 [00:00<00:00, 27.73it/s]"
     ]
    },
    {
     "name": "stdout",
     "output_type": "stream",
     "text": [
      "123: [D loss: 0.170750]  [A loss: 0.378079]\n",
      "Epoch 124\n"
     ]
    },
    {
     "name": "stderr",
     "output_type": "stream",
     "text": [
      "100%|██████████| 12/12 [00:00<00:00, 26.36it/s]\n",
      " 50%|█████     | 6/12 [00:00<00:00, 52.61it/s]"
     ]
    },
    {
     "name": "stdout",
     "output_type": "stream",
     "text": [
      "124: [D loss: 0.127698]  [A loss: 0.344589]\n",
      "Epoch 125\n"
     ]
    },
    {
     "name": "stderr",
     "output_type": "stream",
     "text": [
      "100%|██████████| 12/12 [00:00<00:00, 45.96it/s]\n",
      " 33%|███▎      | 4/12 [00:00<00:00, 38.79it/s]"
     ]
    },
    {
     "name": "stdout",
     "output_type": "stream",
     "text": [
      "125: [D loss: 0.182151]  [A loss: 0.404769]\n",
      "Epoch 126\n"
     ]
    },
    {
     "name": "stderr",
     "output_type": "stream",
     "text": [
      "100%|██████████| 12/12 [00:00<00:00, 33.04it/s]\n",
      " 42%|████▏     | 5/12 [00:00<00:00, 42.21it/s]"
     ]
    },
    {
     "name": "stdout",
     "output_type": "stream",
     "text": [
      "126: [D loss: 0.201647]  [A loss: 0.360917]\n",
      "Epoch 127\n"
     ]
    },
    {
     "name": "stderr",
     "output_type": "stream",
     "text": [
      "100%|██████████| 12/12 [00:00<00:00, 35.86it/s]\n",
      " 17%|█▋        | 2/12 [00:00<00:00, 18.45it/s]"
     ]
    },
    {
     "name": "stdout",
     "output_type": "stream",
     "text": [
      "127: [D loss: 0.162668]  [A loss: 0.417238]\n",
      "Epoch 128\n"
     ]
    },
    {
     "name": "stderr",
     "output_type": "stream",
     "text": [
      "100%|██████████| 12/12 [00:00<00:00, 29.55it/s]\n",
      " 42%|████▏     | 5/12 [00:00<00:00, 46.26it/s]"
     ]
    },
    {
     "name": "stdout",
     "output_type": "stream",
     "text": [
      "128: [D loss: 0.179439]  [A loss: 0.459741]\n",
      "Epoch 129\n"
     ]
    },
    {
     "name": "stderr",
     "output_type": "stream",
     "text": [
      "100%|██████████| 12/12 [00:00<00:00, 41.83it/s]\n",
      " 42%|████▏     | 5/12 [00:00<00:00, 43.93it/s]"
     ]
    },
    {
     "name": "stdout",
     "output_type": "stream",
     "text": [
      "129: [D loss: 0.136387]  [A loss: 0.428276]\n",
      "Epoch 130\n"
     ]
    },
    {
     "name": "stderr",
     "output_type": "stream",
     "text": [
      "100%|██████████| 12/12 [00:00<00:00, 24.39it/s]\n",
      " 25%|██▌       | 3/12 [00:00<00:00, 22.78it/s]"
     ]
    },
    {
     "name": "stdout",
     "output_type": "stream",
     "text": [
      "130: [D loss: 0.156490]  [A loss: 0.520338]\n",
      "Epoch 131\n"
     ]
    },
    {
     "name": "stderr",
     "output_type": "stream",
     "text": [
      "100%|██████████| 12/12 [00:00<00:00, 24.14it/s]\n",
      " 25%|██▌       | 3/12 [00:00<00:00, 27.32it/s]"
     ]
    },
    {
     "name": "stdout",
     "output_type": "stream",
     "text": [
      "131: [D loss: 0.153268]  [A loss: 0.332632]\n",
      "Epoch 132\n"
     ]
    },
    {
     "name": "stderr",
     "output_type": "stream",
     "text": [
      "100%|██████████| 12/12 [00:00<00:00, 39.11it/s]\n",
      " 25%|██▌       | 3/12 [00:00<00:00, 26.80it/s]"
     ]
    },
    {
     "name": "stdout",
     "output_type": "stream",
     "text": [
      "132: [D loss: 0.160348]  [A loss: 0.305538]\n",
      "Epoch 133\n"
     ]
    },
    {
     "name": "stderr",
     "output_type": "stream",
     "text": [
      "100%|██████████| 12/12 [00:00<00:00, 29.26it/s]\n",
      " 42%|████▏     | 5/12 [00:00<00:00, 41.64it/s]"
     ]
    },
    {
     "name": "stdout",
     "output_type": "stream",
     "text": [
      "133: [D loss: 0.170978]  [A loss: 0.403896]\n",
      "Epoch 134\n"
     ]
    },
    {
     "name": "stderr",
     "output_type": "stream",
     "text": [
      "100%|██████████| 12/12 [00:00<00:00, 29.13it/s]\n",
      " 33%|███▎      | 4/12 [00:00<00:00, 39.29it/s]"
     ]
    },
    {
     "name": "stdout",
     "output_type": "stream",
     "text": [
      "134: [D loss: 0.228444]  [A loss: 0.374583]\n",
      "Epoch 135\n"
     ]
    },
    {
     "name": "stderr",
     "output_type": "stream",
     "text": [
      "100%|██████████| 12/12 [00:00<00:00, 26.82it/s]\n",
      " 25%|██▌       | 3/12 [00:00<00:00, 24.89it/s]"
     ]
    },
    {
     "name": "stdout",
     "output_type": "stream",
     "text": [
      "135: [D loss: 0.177080]  [A loss: 0.495488]\n",
      "Epoch 136\n"
     ]
    },
    {
     "name": "stderr",
     "output_type": "stream",
     "text": [
      "100%|██████████| 12/12 [00:00<00:00, 30.55it/s]\n",
      " 17%|█▋        | 2/12 [00:00<00:00, 14.18it/s]"
     ]
    },
    {
     "name": "stdout",
     "output_type": "stream",
     "text": [
      "136: [D loss: 0.205473]  [A loss: 0.411969]\n",
      "Epoch 137\n"
     ]
    },
    {
     "name": "stderr",
     "output_type": "stream",
     "text": [
      "100%|██████████| 12/12 [00:00<00:00, 30.69it/s]\n",
      " 42%|████▏     | 5/12 [00:00<00:00, 46.56it/s]"
     ]
    },
    {
     "name": "stdout",
     "output_type": "stream",
     "text": [
      "137: [D loss: 0.186467]  [A loss: 0.434569]\n",
      "Epoch 138\n"
     ]
    },
    {
     "name": "stderr",
     "output_type": "stream",
     "text": [
      "100%|██████████| 12/12 [00:00<00:00, 42.24it/s]\n",
      " 17%|█▋        | 2/12 [00:00<00:00, 19.89it/s]"
     ]
    },
    {
     "name": "stdout",
     "output_type": "stream",
     "text": [
      "138: [D loss: 0.172282]  [A loss: 0.476262]\n",
      "Epoch 139\n"
     ]
    },
    {
     "name": "stderr",
     "output_type": "stream",
     "text": [
      "100%|██████████| 12/12 [00:00<00:00, 22.72it/s]\n",
      " 42%|████▏     | 5/12 [00:00<00:00, 43.37it/s]"
     ]
    },
    {
     "name": "stdout",
     "output_type": "stream",
     "text": [
      "139: [D loss: 0.155766]  [A loss: 0.333097]\n",
      "Epoch 140\n"
     ]
    },
    {
     "name": "stderr",
     "output_type": "stream",
     "text": [
      "100%|██████████| 12/12 [00:00<00:00, 21.25it/s]\n",
      " 25%|██▌       | 3/12 [00:00<00:00, 29.30it/s]"
     ]
    },
    {
     "name": "stdout",
     "output_type": "stream",
     "text": [
      "140: [D loss: 0.130651]  [A loss: 0.434613]\n",
      "Epoch 141\n"
     ]
    },
    {
     "name": "stderr",
     "output_type": "stream",
     "text": [
      "100%|██████████| 12/12 [00:00<00:00, 38.31it/s]\n",
      " 25%|██▌       | 3/12 [00:00<00:00, 22.75it/s]"
     ]
    },
    {
     "name": "stdout",
     "output_type": "stream",
     "text": [
      "141: [D loss: 0.170452]  [A loss: 0.417217]\n",
      "Epoch 142\n"
     ]
    },
    {
     "name": "stderr",
     "output_type": "stream",
     "text": [
      "100%|██████████| 12/12 [00:00<00:00, 21.14it/s]\n",
      " 42%|████▏     | 5/12 [00:00<00:00, 48.60it/s]"
     ]
    },
    {
     "name": "stdout",
     "output_type": "stream",
     "text": [
      "142: [D loss: 0.106496]  [A loss: 0.526258]\n",
      "Epoch 143\n"
     ]
    },
    {
     "name": "stderr",
     "output_type": "stream",
     "text": [
      "100%|██████████| 12/12 [00:00<00:00, 45.45it/s]\n",
      " 42%|████▏     | 5/12 [00:00<00:00, 43.60it/s]"
     ]
    },
    {
     "name": "stdout",
     "output_type": "stream",
     "text": [
      "143: [D loss: 0.162986]  [A loss: 0.424650]\n",
      "Epoch 144\n"
     ]
    },
    {
     "name": "stderr",
     "output_type": "stream",
     "text": [
      "100%|██████████| 12/12 [00:00<00:00, 36.98it/s]\n",
      " 33%|███▎      | 4/12 [00:00<00:00, 37.64it/s]"
     ]
    },
    {
     "name": "stdout",
     "output_type": "stream",
     "text": [
      "144: [D loss: 0.169924]  [A loss: 0.500845]\n",
      "Epoch 145\n"
     ]
    },
    {
     "name": "stderr",
     "output_type": "stream",
     "text": [
      "100%|██████████| 12/12 [00:00<00:00, 41.93it/s]\n",
      " 42%|████▏     | 5/12 [00:00<00:00, 48.25it/s]"
     ]
    },
    {
     "name": "stdout",
     "output_type": "stream",
     "text": [
      "145: [D loss: 0.138718]  [A loss: 0.446515]\n",
      "Epoch 146\n"
     ]
    },
    {
     "name": "stderr",
     "output_type": "stream",
     "text": [
      "100%|██████████| 12/12 [00:00<00:00, 39.11it/s]\n",
      " 25%|██▌       | 3/12 [00:00<00:00, 27.06it/s]"
     ]
    },
    {
     "name": "stdout",
     "output_type": "stream",
     "text": [
      "146: [D loss: 0.128014]  [A loss: 0.494388]\n",
      "Epoch 147\n"
     ]
    },
    {
     "name": "stderr",
     "output_type": "stream",
     "text": [
      "100%|██████████| 12/12 [00:00<00:00, 28.89it/s]\n",
      " 25%|██▌       | 3/12 [00:00<00:00, 24.23it/s]"
     ]
    },
    {
     "name": "stdout",
     "output_type": "stream",
     "text": [
      "147: [D loss: 0.169769]  [A loss: 0.473806]\n",
      "Epoch 148\n"
     ]
    },
    {
     "name": "stderr",
     "output_type": "stream",
     "text": [
      "100%|██████████| 12/12 [00:00<00:00, 22.92it/s]\n",
      " 25%|██▌       | 3/12 [00:00<00:00, 29.96it/s]"
     ]
    },
    {
     "name": "stdout",
     "output_type": "stream",
     "text": [
      "148: [D loss: 0.113217]  [A loss: 0.354451]\n",
      "Epoch 149\n"
     ]
    },
    {
     "name": "stderr",
     "output_type": "stream",
     "text": [
      "100%|██████████| 12/12 [00:00<00:00, 31.46it/s]\n",
      " 50%|█████     | 6/12 [00:00<00:00, 50.88it/s]"
     ]
    },
    {
     "name": "stdout",
     "output_type": "stream",
     "text": [
      "149: [D loss: 0.118400]  [A loss: 0.576221]\n",
      "Epoch 150\n"
     ]
    },
    {
     "name": "stderr",
     "output_type": "stream",
     "text": [
      "100%|██████████| 12/12 [00:00<00:00, 45.25it/s]\n",
      " 42%|████▏     | 5/12 [00:00<00:00, 47.39it/s]"
     ]
    },
    {
     "name": "stdout",
     "output_type": "stream",
     "text": [
      "150: [D loss: 0.126630]  [A loss: 0.387830]\n",
      "Epoch 151\n"
     ]
    },
    {
     "name": "stderr",
     "output_type": "stream",
     "text": [
      "100%|██████████| 12/12 [00:00<00:00, 36.28it/s]\n",
      " 42%|████▏     | 5/12 [00:00<00:00, 49.30it/s]"
     ]
    },
    {
     "name": "stdout",
     "output_type": "stream",
     "text": [
      "151: [D loss: 0.145140]  [A loss: 0.465372]\n",
      "Epoch 152\n"
     ]
    },
    {
     "name": "stderr",
     "output_type": "stream",
     "text": [
      "100%|██████████| 12/12 [00:00<00:00, 46.13it/s]\n",
      " 42%|████▏     | 5/12 [00:00<00:00, 45.29it/s]"
     ]
    },
    {
     "name": "stdout",
     "output_type": "stream",
     "text": [
      "152: [D loss: 0.150936]  [A loss: 0.391689]\n",
      "Epoch 153\n"
     ]
    },
    {
     "name": "stderr",
     "output_type": "stream",
     "text": [
      "100%|██████████| 12/12 [00:00<00:00, 26.28it/s]\n",
      " 42%|████▏     | 5/12 [00:00<00:00, 29.23it/s]"
     ]
    },
    {
     "name": "stdout",
     "output_type": "stream",
     "text": [
      "153: [D loss: 0.138471]  [A loss: 0.282984]\n",
      "Epoch 154\n"
     ]
    },
    {
     "name": "stderr",
     "output_type": "stream",
     "text": [
      "100%|██████████| 12/12 [00:00<00:00, 27.19it/s]\n",
      " 25%|██▌       | 3/12 [00:00<00:00, 17.83it/s]"
     ]
    },
    {
     "name": "stdout",
     "output_type": "stream",
     "text": [
      "154: [D loss: 0.167959]  [A loss: 0.464936]\n",
      "Epoch 155\n"
     ]
    },
    {
     "name": "stderr",
     "output_type": "stream",
     "text": [
      "100%|██████████| 12/12 [00:00<00:00, 13.31it/s]\n",
      "  8%|▊         | 1/12 [00:00<00:01,  8.45it/s]"
     ]
    },
    {
     "name": "stdout",
     "output_type": "stream",
     "text": [
      "155: [D loss: 0.106226]  [A loss: 0.512290]\n",
      "Epoch 156\n"
     ]
    },
    {
     "name": "stderr",
     "output_type": "stream",
     "text": [
      "100%|██████████| 12/12 [00:00<00:00, 14.76it/s]\n",
      " 42%|████▏     | 5/12 [00:00<00:00, 46.08it/s]"
     ]
    },
    {
     "name": "stdout",
     "output_type": "stream",
     "text": [
      "156: [D loss: 0.180292]  [A loss: 0.407387]\n",
      "Epoch 157\n"
     ]
    },
    {
     "name": "stderr",
     "output_type": "stream",
     "text": [
      "100%|██████████| 12/12 [00:00<00:00, 43.21it/s]\n",
      " 33%|███▎      | 4/12 [00:00<00:00, 35.14it/s]"
     ]
    },
    {
     "name": "stdout",
     "output_type": "stream",
     "text": [
      "157: [D loss: 0.188174]  [A loss: 0.516439]\n",
      "Epoch 158\n"
     ]
    },
    {
     "name": "stderr",
     "output_type": "stream",
     "text": [
      "100%|██████████| 12/12 [00:00<00:00, 16.71it/s]\n",
      " 33%|███▎      | 4/12 [00:00<00:00, 31.17it/s]"
     ]
    },
    {
     "name": "stdout",
     "output_type": "stream",
     "text": [
      "158: [D loss: 0.110004]  [A loss: 0.496496]\n",
      "Epoch 159\n"
     ]
    },
    {
     "name": "stderr",
     "output_type": "stream",
     "text": [
      "100%|██████████| 12/12 [00:00<00:00, 27.00it/s]\n",
      " 25%|██▌       | 3/12 [00:00<00:00, 25.18it/s]"
     ]
    },
    {
     "name": "stdout",
     "output_type": "stream",
     "text": [
      "159: [D loss: 0.114043]  [A loss: 0.500488]\n",
      "Epoch 160\n"
     ]
    },
    {
     "name": "stderr",
     "output_type": "stream",
     "text": [
      "100%|██████████| 12/12 [00:00<00:00, 26.05it/s]\n",
      " 25%|██▌       | 3/12 [00:00<00:00, 27.96it/s]"
     ]
    },
    {
     "name": "stdout",
     "output_type": "stream",
     "text": [
      "160: [D loss: 0.153597]  [A loss: 0.382474]\n",
      "Epoch 161\n"
     ]
    },
    {
     "name": "stderr",
     "output_type": "stream",
     "text": [
      "100%|██████████| 12/12 [00:00<00:00, 28.68it/s]\n",
      " 33%|███▎      | 4/12 [00:00<00:00, 37.24it/s]"
     ]
    },
    {
     "name": "stdout",
     "output_type": "stream",
     "text": [
      "161: [D loss: 0.132287]  [A loss: 0.429859]\n",
      "Epoch 162\n"
     ]
    },
    {
     "name": "stderr",
     "output_type": "stream",
     "text": [
      "100%|██████████| 12/12 [00:00<00:00, 28.78it/s]\n",
      " 25%|██▌       | 3/12 [00:00<00:00, 23.37it/s]"
     ]
    },
    {
     "name": "stdout",
     "output_type": "stream",
     "text": [
      "162: [D loss: 0.149931]  [A loss: 0.460751]\n",
      "Epoch 163\n"
     ]
    },
    {
     "name": "stderr",
     "output_type": "stream",
     "text": [
      "100%|██████████| 12/12 [00:00<00:00, 28.50it/s]\n",
      " 25%|██▌       | 3/12 [00:00<00:00, 25.99it/s]"
     ]
    },
    {
     "name": "stdout",
     "output_type": "stream",
     "text": [
      "163: [D loss: 0.233114]  [A loss: 0.469283]\n",
      "Epoch 164\n"
     ]
    },
    {
     "name": "stderr",
     "output_type": "stream",
     "text": [
      "100%|██████████| 12/12 [00:00<00:00, 31.96it/s]\n",
      " 42%|████▏     | 5/12 [00:00<00:00, 49.01it/s]"
     ]
    },
    {
     "name": "stdout",
     "output_type": "stream",
     "text": [
      "164: [D loss: 0.153748]  [A loss: 0.384766]\n",
      "Epoch 165\n"
     ]
    },
    {
     "name": "stderr",
     "output_type": "stream",
     "text": [
      "100%|██████████| 12/12 [00:00<00:00, 28.27it/s]\n",
      " 33%|███▎      | 4/12 [00:00<00:00, 30.96it/s]"
     ]
    },
    {
     "name": "stdout",
     "output_type": "stream",
     "text": [
      "165: [D loss: 0.140953]  [A loss: 0.375159]\n",
      "Epoch 166\n"
     ]
    },
    {
     "name": "stderr",
     "output_type": "stream",
     "text": [
      "100%|██████████| 12/12 [00:00<00:00, 28.53it/s]\n",
      " 33%|███▎      | 4/12 [00:00<00:00, 38.99it/s]"
     ]
    },
    {
     "name": "stdout",
     "output_type": "stream",
     "text": [
      "166: [D loss: 0.181223]  [A loss: 0.311526]\n",
      "Epoch 167\n"
     ]
    },
    {
     "name": "stderr",
     "output_type": "stream",
     "text": [
      "100%|██████████| 12/12 [00:00<00:00, 41.41it/s]\n",
      " 42%|████▏     | 5/12 [00:00<00:00, 45.36it/s]"
     ]
    },
    {
     "name": "stdout",
     "output_type": "stream",
     "text": [
      "167: [D loss: 0.150029]  [A loss: 0.398981]\n",
      "Epoch 168\n"
     ]
    },
    {
     "name": "stderr",
     "output_type": "stream",
     "text": [
      "100%|██████████| 12/12 [00:00<00:00, 33.47it/s]\n",
      " 25%|██▌       | 3/12 [00:00<00:00, 29.28it/s]"
     ]
    },
    {
     "name": "stdout",
     "output_type": "stream",
     "text": [
      "168: [D loss: 0.158684]  [A loss: 0.176057]\n",
      "Epoch 169\n"
     ]
    },
    {
     "name": "stderr",
     "output_type": "stream",
     "text": [
      "100%|██████████| 12/12 [00:00<00:00, 34.41it/s]\n",
      " 42%|████▏     | 5/12 [00:00<00:00, 48.89it/s]"
     ]
    },
    {
     "name": "stdout",
     "output_type": "stream",
     "text": [
      "169: [D loss: 0.189674]  [A loss: 0.336330]\n",
      "Epoch 170\n"
     ]
    },
    {
     "name": "stderr",
     "output_type": "stream",
     "text": [
      "100%|██████████| 12/12 [00:00<00:00, 29.20it/s]\n",
      " 42%|████▏     | 5/12 [00:00<00:00, 45.05it/s]"
     ]
    },
    {
     "name": "stdout",
     "output_type": "stream",
     "text": [
      "170: [D loss: 0.159783]  [A loss: 0.393123]\n",
      "Epoch 171\n"
     ]
    },
    {
     "name": "stderr",
     "output_type": "stream",
     "text": [
      "100%|██████████| 12/12 [00:00<00:00, 43.01it/s]\n",
      " 42%|████▏     | 5/12 [00:00<00:00, 48.01it/s]"
     ]
    },
    {
     "name": "stdout",
     "output_type": "stream",
     "text": [
      "171: [D loss: 0.139046]  [A loss: 0.477645]\n",
      "Epoch 172\n"
     ]
    },
    {
     "name": "stderr",
     "output_type": "stream",
     "text": [
      "100%|██████████| 12/12 [00:00<00:00, 44.43it/s]\n",
      " 25%|██▌       | 3/12 [00:00<00:00, 24.49it/s]"
     ]
    },
    {
     "name": "stdout",
     "output_type": "stream",
     "text": [
      "172: [D loss: 0.175957]  [A loss: 0.438522]\n",
      "Epoch 173\n"
     ]
    },
    {
     "name": "stderr",
     "output_type": "stream",
     "text": [
      "100%|██████████| 12/12 [00:00<00:00, 26.22it/s]\n",
      " 42%|████▏     | 5/12 [00:00<00:00, 49.19it/s]"
     ]
    },
    {
     "name": "stdout",
     "output_type": "stream",
     "text": [
      "173: [D loss: 0.166141]  [A loss: 0.334524]\n",
      "Epoch 174\n"
     ]
    },
    {
     "name": "stderr",
     "output_type": "stream",
     "text": [
      "100%|██████████| 12/12 [00:00<00:00, 44.81it/s]\n",
      " 25%|██▌       | 3/12 [00:00<00:00, 29.66it/s]"
     ]
    },
    {
     "name": "stdout",
     "output_type": "stream",
     "text": [
      "174: [D loss: 0.183236]  [A loss: 0.257455]\n",
      "Epoch 175\n"
     ]
    },
    {
     "name": "stderr",
     "output_type": "stream",
     "text": [
      "100%|██████████| 12/12 [00:00<00:00, 28.02it/s]\n",
      " 50%|█████     | 6/12 [00:00<00:00, 52.20it/s]"
     ]
    },
    {
     "name": "stdout",
     "output_type": "stream",
     "text": [
      "175: [D loss: 0.168903]  [A loss: 0.397318]\n",
      "Epoch 176\n"
     ]
    },
    {
     "name": "stderr",
     "output_type": "stream",
     "text": [
      "100%|██████████| 12/12 [00:00<00:00, 46.91it/s]\n",
      " 25%|██▌       | 3/12 [00:00<00:00, 28.09it/s]"
     ]
    },
    {
     "name": "stdout",
     "output_type": "stream",
     "text": [
      "176: [D loss: 0.208450]  [A loss: 0.408988]\n",
      "Epoch 177\n"
     ]
    },
    {
     "name": "stderr",
     "output_type": "stream",
     "text": [
      "100%|██████████| 12/12 [00:00<00:00, 28.26it/s]\n",
      " 42%|████▏     | 5/12 [00:00<00:00, 46.64it/s]"
     ]
    },
    {
     "name": "stdout",
     "output_type": "stream",
     "text": [
      "177: [D loss: 0.124294]  [A loss: 0.393924]\n",
      "Epoch 178\n"
     ]
    },
    {
     "name": "stderr",
     "output_type": "stream",
     "text": [
      "100%|██████████| 12/12 [00:00<00:00, 44.99it/s]\n",
      " 33%|███▎      | 4/12 [00:00<00:00, 35.85it/s]"
     ]
    },
    {
     "name": "stdout",
     "output_type": "stream",
     "text": [
      "178: [D loss: 0.130576]  [A loss: 0.565030]\n",
      "Epoch 179\n"
     ]
    },
    {
     "name": "stderr",
     "output_type": "stream",
     "text": [
      "100%|██████████| 12/12 [00:00<00:00, 27.47it/s]\n",
      " 50%|█████     | 6/12 [00:00<00:00, 52.24it/s]"
     ]
    },
    {
     "name": "stdout",
     "output_type": "stream",
     "text": [
      "179: [D loss: 0.116409]  [A loss: 0.366963]\n",
      "Epoch 180\n"
     ]
    },
    {
     "name": "stderr",
     "output_type": "stream",
     "text": [
      "100%|██████████| 12/12 [00:00<00:00, 46.33it/s]\n",
      " 25%|██▌       | 3/12 [00:00<00:00, 23.95it/s]"
     ]
    },
    {
     "name": "stdout",
     "output_type": "stream",
     "text": [
      "180: [D loss: 0.208331]  [A loss: 0.361251]\n",
      "Epoch 181\n"
     ]
    },
    {
     "name": "stderr",
     "output_type": "stream",
     "text": [
      "100%|██████████| 12/12 [00:00<00:00, 27.26it/s]\n",
      " 33%|███▎      | 4/12 [00:00<00:00, 35.30it/s]"
     ]
    },
    {
     "name": "stdout",
     "output_type": "stream",
     "text": [
      "181: [D loss: 0.194929]  [A loss: 0.433679]\n",
      "Epoch 182\n"
     ]
    },
    {
     "name": "stderr",
     "output_type": "stream",
     "text": [
      "100%|██████████| 12/12 [00:00<00:00, 30.10it/s]\n",
      " 50%|█████     | 6/12 [00:00<00:00, 55.95it/s]"
     ]
    },
    {
     "name": "stdout",
     "output_type": "stream",
     "text": [
      "182: [D loss: 0.143613]  [A loss: 0.527403]\n",
      "Epoch 183\n"
     ]
    },
    {
     "name": "stderr",
     "output_type": "stream",
     "text": [
      "100%|██████████| 12/12 [00:00<00:00, 40.66it/s]\n",
      " 17%|█▋        | 2/12 [00:00<00:00, 19.52it/s]"
     ]
    },
    {
     "name": "stdout",
     "output_type": "stream",
     "text": [
      "183: [D loss: 0.131185]  [A loss: 0.469545]\n",
      "Epoch 184\n"
     ]
    },
    {
     "name": "stderr",
     "output_type": "stream",
     "text": [
      "100%|██████████| 12/12 [00:00<00:00, 34.58it/s]\n",
      " 42%|████▏     | 5/12 [00:00<00:00, 48.12it/s]"
     ]
    },
    {
     "name": "stdout",
     "output_type": "stream",
     "text": [
      "184: [D loss: 0.172931]  [A loss: 0.444980]\n",
      "Epoch 185\n"
     ]
    },
    {
     "name": "stderr",
     "output_type": "stream",
     "text": [
      "100%|██████████| 12/12 [00:00<00:00, 29.46it/s]\n",
      " 33%|███▎      | 4/12 [00:00<00:00, 39.29it/s]"
     ]
    },
    {
     "name": "stdout",
     "output_type": "stream",
     "text": [
      "185: [D loss: 0.174593]  [A loss: 0.389504]\n",
      "Epoch 186\n"
     ]
    },
    {
     "name": "stderr",
     "output_type": "stream",
     "text": [
      "100%|██████████| 12/12 [00:00<00:00, 41.61it/s]\n",
      " 42%|████▏     | 5/12 [00:00<00:00, 49.74it/s]"
     ]
    },
    {
     "name": "stdout",
     "output_type": "stream",
     "text": [
      "186: [D loss: 0.124256]  [A loss: 0.349488]\n",
      "Epoch 187\n"
     ]
    },
    {
     "name": "stderr",
     "output_type": "stream",
     "text": [
      "100%|██████████| 12/12 [00:00<00:00, 47.52it/s]\n",
      " 33%|███▎      | 4/12 [00:00<00:00, 36.78it/s]"
     ]
    },
    {
     "name": "stdout",
     "output_type": "stream",
     "text": [
      "187: [D loss: 0.165884]  [A loss: 0.405749]\n",
      "Epoch 188\n"
     ]
    },
    {
     "name": "stderr",
     "output_type": "stream",
     "text": [
      "100%|██████████| 12/12 [00:00<00:00, 38.63it/s]\n",
      " 33%|███▎      | 4/12 [00:00<00:00, 38.64it/s]"
     ]
    },
    {
     "name": "stdout",
     "output_type": "stream",
     "text": [
      "188: [D loss: 0.117003]  [A loss: 0.413033]\n",
      "Epoch 189\n"
     ]
    },
    {
     "name": "stderr",
     "output_type": "stream",
     "text": [
      "100%|██████████| 12/12 [00:00<00:00, 27.63it/s]\n",
      " 42%|████▏     | 5/12 [00:00<00:00, 48.20it/s]"
     ]
    },
    {
     "name": "stdout",
     "output_type": "stream",
     "text": [
      "189: [D loss: 0.105087]  [A loss: 0.417220]\n",
      "Epoch 190\n"
     ]
    },
    {
     "name": "stderr",
     "output_type": "stream",
     "text": [
      "100%|██████████| 12/12 [00:00<00:00, 44.66it/s]\n",
      " 50%|█████     | 6/12 [00:00<00:00, 51.68it/s]"
     ]
    },
    {
     "name": "stdout",
     "output_type": "stream",
     "text": [
      "190: [D loss: 0.155922]  [A loss: 0.416630]\n",
      "Epoch 191\n"
     ]
    },
    {
     "name": "stderr",
     "output_type": "stream",
     "text": [
      "100%|██████████| 12/12 [00:00<00:00, 42.58it/s]\n",
      " 42%|████▏     | 5/12 [00:00<00:00, 42.95it/s]"
     ]
    },
    {
     "name": "stdout",
     "output_type": "stream",
     "text": [
      "191: [D loss: 0.099574]  [A loss: 0.255438]\n",
      "Epoch 192\n"
     ]
    },
    {
     "name": "stderr",
     "output_type": "stream",
     "text": [
      "100%|██████████| 12/12 [00:00<00:00, 43.03it/s]\n",
      " 42%|████▏     | 5/12 [00:00<00:00, 49.51it/s]"
     ]
    },
    {
     "name": "stdout",
     "output_type": "stream",
     "text": [
      "192: [D loss: 0.120442]  [A loss: 0.512984]\n",
      "Epoch 193\n"
     ]
    },
    {
     "name": "stderr",
     "output_type": "stream",
     "text": [
      "100%|██████████| 12/12 [00:00<00:00, 48.82it/s]\n",
      " 50%|█████     | 6/12 [00:00<00:00, 49.87it/s]"
     ]
    },
    {
     "name": "stdout",
     "output_type": "stream",
     "text": [
      "193: [D loss: 0.164367]  [A loss: 0.521970]\n",
      "Epoch 194\n"
     ]
    },
    {
     "name": "stderr",
     "output_type": "stream",
     "text": [
      "100%|██████████| 12/12 [00:00<00:00, 42.92it/s]\n",
      " 33%|███▎      | 4/12 [00:00<00:00, 32.01it/s]"
     ]
    },
    {
     "name": "stdout",
     "output_type": "stream",
     "text": [
      "194: [D loss: 0.146056]  [A loss: 0.323470]\n",
      "Epoch 195\n"
     ]
    },
    {
     "name": "stderr",
     "output_type": "stream",
     "text": [
      "100%|██████████| 12/12 [00:00<00:00, 25.92it/s]\n",
      " 42%|████▏     | 5/12 [00:00<00:00, 44.58it/s]"
     ]
    },
    {
     "name": "stdout",
     "output_type": "stream",
     "text": [
      "195: [D loss: 0.146739]  [A loss: 0.392226]\n",
      "Epoch 196\n"
     ]
    },
    {
     "name": "stderr",
     "output_type": "stream",
     "text": [
      "100%|██████████| 12/12 [00:00<00:00, 41.61it/s]\n",
      " 25%|██▌       | 3/12 [00:00<00:00, 26.21it/s]"
     ]
    },
    {
     "name": "stdout",
     "output_type": "stream",
     "text": [
      "196: [D loss: 0.108409]  [A loss: 0.317628]\n",
      "Epoch 197\n"
     ]
    },
    {
     "name": "stderr",
     "output_type": "stream",
     "text": [
      "100%|██████████| 12/12 [00:00<00:00, 26.84it/s]\n",
      " 42%|████▏     | 5/12 [00:00<00:00, 47.97it/s]"
     ]
    },
    {
     "name": "stdout",
     "output_type": "stream",
     "text": [
      "197: [D loss: 0.132486]  [A loss: 0.538845]\n",
      "Epoch 198\n"
     ]
    },
    {
     "name": "stderr",
     "output_type": "stream",
     "text": [
      "100%|██████████| 12/12 [00:00<00:00, 35.54it/s]\n",
      " 25%|██▌       | 3/12 [00:00<00:00, 28.68it/s]"
     ]
    },
    {
     "name": "stdout",
     "output_type": "stream",
     "text": [
      "198: [D loss: 0.138283]  [A loss: 0.413081]\n",
      "Epoch 199\n"
     ]
    },
    {
     "name": "stderr",
     "output_type": "stream",
     "text": [
      "100%|██████████| 12/12 [00:00<00:00, 34.04it/s]\n",
      " 50%|█████     | 6/12 [00:00<00:00, 52.24it/s]"
     ]
    },
    {
     "name": "stdout",
     "output_type": "stream",
     "text": [
      "199: [D loss: 0.100275]  [A loss: 0.392691]\n",
      "Epoch 200\n"
     ]
    },
    {
     "name": "stderr",
     "output_type": "stream",
     "text": [
      "\r",
      "100%|██████████| 12/12 [00:00<00:00, 51.44it/s]"
     ]
    },
    {
     "name": "stdout",
     "output_type": "stream",
     "text": [
      "200: [D loss: 0.147387]  [A loss: 0.568712]\n"
     ]
    },
    {
     "name": "stderr",
     "output_type": "stream",
     "text": [
      "\n"
     ]
    }
   ],
   "source": [
    "#training(400,128)\n",
    "training(200,12)"
   ]
  },
  {
   "cell_type": "code",
   "execution_count": 16,
   "metadata": {},
   "outputs": [
    {
     "data": {
      "text/plain": [
       "Text(0,0.5,'Loss')"
      ]
     },
     "execution_count": 16,
     "metadata": {},
     "output_type": "execute_result"
    },
    {
     "data": {
      "image/png": "[encoded data removed]",
      "text/plain": [
       "<Figure size 432x288 with 1 Axes>"
      ]
     },
     "metadata": {},
     "output_type": "display_data"
    }
   ],
   "source": [
    "# adversarial_loss_map = get_2D_array_values(adversarial_loss, 0)\n",
    "# discrimator_loss_map = get_2D_array_values(discrimator_loss, 0)\n",
    "\n",
    "ax = pd.DataFrame(\n",
    "    {\n",
    "        'Adversarial Loss': adversarial_loss,\n",
    "        'Discriminative Loss': discrimator_loss,\n",
    "    }\n",
    ").plot(title='Training loss', logy=True)\n",
    "ax.set_xlabel(\"Training iterations\")\n",
    "ax.set_ylabel(\"Loss\")"
   ]
  },
  {
   "cell_type": "code",
   "execution_count": 17,
   "metadata": {},
   "outputs": [],
   "source": [
    "targets = test.Close[7:]\n",
    "preds = gan.predict(X_test).squeeze()"
   ]
  },
  {
   "cell_type": "code",
   "execution_count": 18,
   "metadata": {},
   "outputs": [
    {
     "data": {
      "text/plain": [
       "0.26675014158615085"
      ]
     },
     "execution_count": 18,
     "metadata": {},
     "output_type": "execute_result"
    }
   ],
   "source": [
    "# Should look at other metrics as well (MSE, RMSE, Accuracy)\n",
    "metrics.mean_absolute_error(preds, y_test)"
   ]
  },
  {
   "cell_type": "code",
   "execution_count": 19,
   "metadata": {},
   "outputs": [
    {
     "name": "stdout",
     "output_type": "stream",
     "text": [
      "test statistic = 0.9075144508670521    pvalue =  4.531886048925947e-64\n"
     ]
    }
   ],
   "source": [
    "from scipy.stats import ks_2samp\n",
    "value, pvalue = ks_2samp(y_test, preds)\n",
    "print(\"test statistic =\", value, \"  \", \"pvalue = \", pvalue)"
   ]
  },
  {
   "cell_type": "code",
   "execution_count": 20,
   "metadata": {},
   "outputs": [
    {
     "name": "stdout",
     "output_type": "stream",
     "text": [
      "Samples are likely drawn from different distributions (reject H0)\n"
     ]
    }
   ],
   "source": [
    "if pvalue > 0.05:\n",
    "\tprint('Samples are likely drawn from the same distributions (not reject H0)')\n",
    "else:\n",
    "\tprint('Samples are likely drawn from different distributions (reject H0)')"
   ]
  },
  {
   "cell_type": "code",
   "execution_count": 21,
   "metadata": {},
   "outputs": [
    {
     "name": "stdout",
     "output_type": "stream",
     "text": [
      "             Fake        Real\n",
      "count  173.000000  173.000000\n",
      "mean     0.275857    0.015841\n",
      "std      0.058497    0.094070\n",
      "min      0.129885   -0.236008\n",
      "25%      0.239129   -0.030227\n",
      "50%      0.287617    0.010847\n",
      "75%      0.322904    0.065372\n",
      "max      0.399798    0.272694\n"
     ]
    },
    {
     "data": {
      "text/plain": [
       "array([[<matplotlib.axes._subplots.AxesSubplot object at 0x7fe4c00c19b0>,\n",
       "        <matplotlib.axes._subplots.AxesSubplot object at 0x7fe4c00e7cc0>]],\n",
       "      dtype=object)"
      ]
     },
     "execution_count": 21,
     "metadata": {},
     "output_type": "execute_result"
    },
    {
     "data": {
      "image/png": "[encoded data removed]",
      "text/plain": [
       "<Figure size 432x288 with 1 Axes>"
      ]
     },
     "metadata": {},
     "output_type": "display_data"
    },
    {
     "data": {
      "image/png": "[encoded data removed]",
      "text/plain": [
       "<Figure size 432x288 with 2 Axes>"
      ]
     },
     "metadata": {},
     "output_type": "display_data"
    }
   ],
   "source": [
    "results = pd.DataFrame({'Real':y_test, 'Fake': preds})\n",
    "\n",
    "# statistics summary\n",
    "print(results.describe())\n",
    "# boxplot\n",
    "results.boxplot()\n",
    "\n",
    "results.hist(bins=10)"
   ]
  },
  {
   "cell_type": "code",
   "execution_count": 29,
   "metadata": {},
   "outputs": [
    {
     "data": {
      "image/png": "[encoded data removed]",
      "text/plain": [
       "<Figure size 1152x648 with 1 Axes>"
      ]
     },
     "metadata": {},
     "output_type": "display_data"
    }
   ],
   "source": [
    "# preds = test.Close.values[:-7] * (preds + 1) # random adjustment value = mae\n",
    "# preds_grap = test.Close.values[:-7] * (preds) \n",
    "preds_grap = test.Close.values[:-7] # Double check on this\n",
    "preds_grap = pd.Series(index=targets.index, data=preds_grap)\n",
    "\n",
    "line_plot(targets, preds_grap, 'actual', 'prediction')"
   ]
  },
  {
   "cell_type": "code",
   "execution_count": 27,
   "metadata": {},
   "outputs": [
    {
     "data": {
      "image/png": "[encoded data removed]",
      "text/plain": [
       "<Figure size 1152x648 with 1 Axes>"
      ]
     },
     "metadata": {},
     "output_type": "display_data"
    }
   ],
   "source": [
    "n_points = 7\n",
    "\n",
    "line_plot(targets[-n_points:], preds_grap[-n_points:], 'actual', 'prediction')"
   ]
  },
  {
   "cell_type": "code",
   "execution_count": null,
   "metadata": {},
   "outputs": [],
   "source": []
  }
 ],
 "metadata": {
  "kernelspec": {
   "display_name": "Python 3",
   "language": "python",
   "name": "python3"
  },
  "language_info": {
   "codemirror_mode": {
    "name": "ipython",
    "version": 3
   },
   "file_extension": ".py",
   "mimetype": "text/x-python",
   "name": "python",
   "nbconvert_exporter": "python",
   "pygments_lexer": "ipython3",
   "version": "3.5.2"
  }
 },
 "nbformat": 4,
 "nbformat_minor": 2
}
