{
 "cells": [
  {
   "cell_type": "markdown",
   "metadata": {},
   "source": [
    "# Experimentation Only"
   ]
  },
  {
   "cell_type": "code",
   "execution_count": 1,
   "metadata": {},
   "outputs": [
    {
     "name": "stdout",
     "output_type": "stream",
     "text": [
      "Requirement already satisfied: tqdm in /usr/local/lib/python3.5/dist-packages\n",
      "\u001b[33mYou are using pip version 9.0.3, however version 19.1.1 is available.\n",
      "You should consider upgrading via the 'pip install --upgrade pip' command.\u001b[0m\n"
     ]
    }
   ],
   "source": [
    "import sys\n",
    "!{sys.executable} -m pip install tqdm"
   ]
  },
  {
   "cell_type": "code",
   "execution_count": 33,
   "metadata": {},
   "outputs": [],
   "source": [
    "import math\n",
    "import matplotlib.pyplot as plt\n",
    "import pandas as pd\n",
    "import numpy as np\n",
    "import time\n",
    "from datetime import datetime\n",
    "import datetime as dt\n",
    "from mpl_toolkits.mplot3d import Axes3D\n",
    "from tqdm import tqdm, tqdm_notebook\n",
    "import json\n",
    "import requests\n",
    "%matplotlib inline\n",
    "\n",
    "#For Prediction\n",
    "from sklearn import metrics\n",
    "from sklearn import preprocessing, cross_validation\n",
    "from sklearn.model_selection import train_test_split\n",
    "from sklearn.preprocessing import MinMaxScaler\n",
    "\n",
    "import keras\n",
    "from keras.layers import Dense, Dropout, Input, LSTM, Reshape, Flatten, Activation\n",
    "from keras.models import Model,Sequential\n",
    "from keras.datasets import mnist\n",
    "from tqdm import tqdm\n",
    "from keras.layers.advanced_activations import LeakyReLU\n",
    "from keras.optimizers import Adam, RMSprop"
   ]
  },
  {
   "cell_type": "code",
   "execution_count": 34,
   "metadata": {},
   "outputs": [
    {
     "data": {
      "text/html": [
       "<div>\n",
       "<style scoped>\n",
       "    .dataframe tbody tr th:only-of-type {\n",
       "        vertical-align: middle;\n",
       "    }\n",
       "\n",
       "    .dataframe tbody tr th {\n",
       "        vertical-align: top;\n",
       "    }\n",
       "\n",
       "    .dataframe thead th {\n",
       "        text-align: right;\n",
       "    }\n",
       "</style>\n",
       "<table border=\"1\" class=\"dataframe\">\n",
       "  <thead>\n",
       "    <tr style=\"text-align: right;\">\n",
       "      <th></th>\n",
       "      <th>close</th>\n",
       "      <th>high</th>\n",
       "      <th>low</th>\n",
       "      <th>open</th>\n",
       "      <th>volumefrom</th>\n",
       "      <th>volumeto</th>\n",
       "    </tr>\n",
       "    <tr>\n",
       "      <th>time</th>\n",
       "      <th></th>\n",
       "      <th></th>\n",
       "      <th></th>\n",
       "      <th></th>\n",
       "      <th></th>\n",
       "      <th></th>\n",
       "    </tr>\n",
       "  </thead>\n",
       "  <tbody>\n",
       "    <tr>\n",
       "      <th>2013-12-10</th>\n",
       "      <td>1033.72</td>\n",
       "      <td>1067.70</td>\n",
       "      <td>911.96</td>\n",
       "      <td>918.95</td>\n",
       "      <td>22103.22</td>\n",
       "      <td>21734994.03</td>\n",
       "    </tr>\n",
       "    <tr>\n",
       "      <th>2013-12-11</th>\n",
       "      <td>919.93</td>\n",
       "      <td>1056.76</td>\n",
       "      <td>856.06</td>\n",
       "      <td>1033.72</td>\n",
       "      <td>24360.35</td>\n",
       "      <td>23051224.54</td>\n",
       "    </tr>\n",
       "    <tr>\n",
       "      <th>2013-12-12</th>\n",
       "      <td>899.98</td>\n",
       "      <td>940.98</td>\n",
       "      <td>839.51</td>\n",
       "      <td>919.93</td>\n",
       "      <td>9913.21</td>\n",
       "      <td>8798283.62</td>\n",
       "    </tr>\n",
       "    <tr>\n",
       "      <th>2013-12-13</th>\n",
       "      <td>936.77</td>\n",
       "      <td>989.89</td>\n",
       "      <td>882.11</td>\n",
       "      <td>899.98</td>\n",
       "      <td>17372.49</td>\n",
       "      <td>16173632.88</td>\n",
       "    </tr>\n",
       "    <tr>\n",
       "      <th>2013-12-14</th>\n",
       "      <td>908.94</td>\n",
       "      <td>947.93</td>\n",
       "      <td>875.11</td>\n",
       "      <td>936.77</td>\n",
       "      <td>11589.80</td>\n",
       "      <td>10532106.73</td>\n",
       "    </tr>\n",
       "  </tbody>\n",
       "</table>\n",
       "</div>"
      ],
      "text/plain": [
       "              close     high     low     open  volumefrom     volumeto\n",
       "time                                                                  \n",
       "2013-12-10  1033.72  1067.70  911.96   918.95    22103.22  21734994.03\n",
       "2013-12-11   919.93  1056.76  856.06  1033.72    24360.35  23051224.54\n",
       "2013-12-12   899.98   940.98  839.51   919.93     9913.21   8798283.62\n",
       "2013-12-13   936.77   989.89  882.11   899.98    17372.49  16173632.88\n",
       "2013-12-14   908.94   947.93  875.11   936.77    11589.80  10532106.73"
      ]
     },
     "execution_count": 34,
     "metadata": {},
     "output_type": "execute_result"
    }
   ],
   "source": [
    "endpoint = 'https://min-api.cryptocompare.com/data/histoday'\n",
    "res = requests.get(endpoint + '?fsym=BTC&tsym=USD&limit=2000')\n",
    "hist = pd.DataFrame(json.loads(res.content.decode('utf-8'))['Data'])\n",
    "hist = hist.set_index('time')\n",
    "hist.index = pd.to_datetime(hist.index, unit='s')\n",
    "hist.head()"
   ]
  },
  {
   "cell_type": "code",
   "execution_count": 35,
   "metadata": {},
   "outputs": [
    {
     "data": {
      "text/html": [
       "<div>\n",
       "<style scoped>\n",
       "    .dataframe tbody tr th:only-of-type {\n",
       "        vertical-align: middle;\n",
       "    }\n",
       "\n",
       "    .dataframe tbody tr th {\n",
       "        vertical-align: top;\n",
       "    }\n",
       "\n",
       "    .dataframe thead th {\n",
       "        text-align: right;\n",
       "    }\n",
       "</style>\n",
       "<table border=\"1\" class=\"dataframe\">\n",
       "  <thead>\n",
       "    <tr style=\"text-align: right;\">\n",
       "      <th></th>\n",
       "      <th>close</th>\n",
       "      <th>high</th>\n",
       "      <th>low</th>\n",
       "      <th>open</th>\n",
       "      <th>volumefrom</th>\n",
       "      <th>volumeto</th>\n",
       "    </tr>\n",
       "    <tr>\n",
       "      <th>time</th>\n",
       "      <th></th>\n",
       "      <th></th>\n",
       "      <th></th>\n",
       "      <th></th>\n",
       "      <th></th>\n",
       "      <th></th>\n",
       "    </tr>\n",
       "  </thead>\n",
       "  <tbody>\n",
       "    <tr>\n",
       "      <th>2019-05-29</th>\n",
       "      <td>8664.56</td>\n",
       "      <td>8760.48</td>\n",
       "      <td>8444.10</td>\n",
       "      <td>8718.85</td>\n",
       "      <td>44056.71</td>\n",
       "      <td>3.803439e+08</td>\n",
       "    </tr>\n",
       "    <tr>\n",
       "      <th>2019-05-30</th>\n",
       "      <td>8276.25</td>\n",
       "      <td>9065.89</td>\n",
       "      <td>8027.21</td>\n",
       "      <td>8664.56</td>\n",
       "      <td>95189.06</td>\n",
       "      <td>8.155256e+08</td>\n",
       "    </tr>\n",
       "    <tr>\n",
       "      <th>2019-05-31</th>\n",
       "      <td>8550.67</td>\n",
       "      <td>8570.78</td>\n",
       "      <td>8116.00</td>\n",
       "      <td>8276.25</td>\n",
       "      <td>60143.23</td>\n",
       "      <td>5.020565e+08</td>\n",
       "    </tr>\n",
       "    <tr>\n",
       "      <th>2019-06-01</th>\n",
       "      <td>8555.87</td>\n",
       "      <td>8619.21</td>\n",
       "      <td>8459.65</td>\n",
       "      <td>8550.67</td>\n",
       "      <td>26884.15</td>\n",
       "      <td>2.297370e+08</td>\n",
       "    </tr>\n",
       "    <tr>\n",
       "      <th>2019-06-02</th>\n",
       "      <td>8710.90</td>\n",
       "      <td>8819.90</td>\n",
       "      <td>8547.48</td>\n",
       "      <td>8555.87</td>\n",
       "      <td>19245.15</td>\n",
       "      <td>1.672216e+08</td>\n",
       "    </tr>\n",
       "  </tbody>\n",
       "</table>\n",
       "</div>"
      ],
      "text/plain": [
       "              close     high      low     open  volumefrom      volumeto\n",
       "time                                                                    \n",
       "2019-05-29  8664.56  8760.48  8444.10  8718.85    44056.71  3.803439e+08\n",
       "2019-05-30  8276.25  9065.89  8027.21  8664.56    95189.06  8.155256e+08\n",
       "2019-05-31  8550.67  8570.78  8116.00  8276.25    60143.23  5.020565e+08\n",
       "2019-06-01  8555.87  8619.21  8459.65  8550.67    26884.15  2.297370e+08\n",
       "2019-06-02  8710.90  8819.90  8547.48  8555.87    19245.15  1.672216e+08"
      ]
     },
     "execution_count": 35,
     "metadata": {},
     "output_type": "execute_result"
    }
   ],
   "source": [
    "hist.tail()"
   ]
  },
  {
   "cell_type": "code",
   "execution_count": 36,
   "metadata": {},
   "outputs": [
    {
     "data": {
      "image/png": "[encoded data removed]",
      "text/plain": [
       "<Figure size 1152x648 with 1 Axes>"
      ]
     },
     "metadata": {},
     "output_type": "display_data"
    }
   ],
   "source": [
    "def train_test_split(df, test_size=0.1):\n",
    "    split_row = len(df) - int(test_size * len(df))\n",
    "    train_data = df.iloc[:split_row]\n",
    "    test_data = df.iloc[split_row:]\n",
    "    return train_data, test_data\n",
    "\n",
    "def line_plot(line1, line2, label1=None, label2=None, title=''):\n",
    "    fig, ax = plt.subplots(1, figsize=(16, 9))\n",
    "    ax.plot(line1, label=label1, linewidth=2)\n",
    "    ax.plot(line2, label=label2, linewidth=2)\n",
    "    ax.set_ylabel('price [USD]', fontsize=14)\n",
    "    ax.set_title(title, fontsize=18)\n",
    "    ax.legend(loc='best', fontsize=18)\n",
    "    \n",
    "train, test = train_test_split(hist, test_size=0.1)\n",
    "line_plot(train.close, test.close, 'training', 'test', 'BTC')"
   ]
  },
  {
   "cell_type": "code",
   "execution_count": 37,
   "metadata": {},
   "outputs": [],
   "source": [
    "def normalise_zero_base(df):\n",
    "    \"\"\" Normalise dataframe column-wise to reflect changes with\n",
    "        respect to first entry.\n",
    "    \"\"\"\n",
    "    return df / df.iloc[0] - 1\n",
    "\n",
    "def extract_window_data(df, window=7, zero_base=True):\n",
    "    \"\"\" Convert dataframe to overlapping sequences/windows of\n",
    "        length `window`.\n",
    "    \"\"\"\n",
    "    window_data = []\n",
    "    for idx in range(len(df) - window):\n",
    "        tmp = df[idx: (idx + window)].copy()\n",
    "        if zero_base:\n",
    "            tmp = normalise_zero_base(tmp)\n",
    "        window_data.append(tmp.values)\n",
    "    return np.array(window_data)\n",
    "\n",
    "def prepare_data(df, window=7, zero_base=True, test_size=0.1):\n",
    "    \"\"\" Prepare data for LSTM. \"\"\"\n",
    "    # train test split\n",
    "    train_data, test_data = train_test_split(df, test_size)\n",
    "    \n",
    "    # extract window data\n",
    "    X_train = extract_window_data(train_data, window, zero_base)\n",
    "    X_test = extract_window_data(test_data, window, zero_base)\n",
    "    \n",
    "    # extract targets\n",
    "    y_train = train_data.close[window:].values\n",
    "    y_test = test_data.close[window:].values\n",
    "    if zero_base:\n",
    "        y_train = y_train / train_data.close[:-window].values - 1\n",
    "        y_test = y_test / test_data.close[:-window].values - 1\n",
    "    return train_data, test_data, X_train, X_test, y_train, y_test\n",
    "\n",
    "train, test, X_train, X_test, y_train, y_test = prepare_data(hist)"
   ]
  },
  {
   "cell_type": "code",
   "execution_count": 38,
   "metadata": {},
   "outputs": [
    {
     "name": "stdout",
     "output_type": "stream",
     "text": [
      "(1794, 7, 6)\n",
      "(1794, 7, 6)\n",
      "(193,)\n",
      "(193,)\n"
     ]
    }
   ],
   "source": [
    "print(X_train.shape)\n",
    "print(X_train.shape)\n",
    "print(y_test.shape)\n",
    "print(y_test.shape)"
   ]
  },
  {
   "cell_type": "code",
   "execution_count": 42,
   "metadata": {},
   "outputs": [],
   "source": [
    "TIME_STEPS = 7\n",
    "BATCH_SIZE_OUT = 4 # 16 was better\n",
    "LR = 0.005\n",
    "# epochs = 150\n",
    "EPOCHS = 50"
   ]
  },
  {
   "cell_type": "code",
   "execution_count": 122,
   "metadata": {},
   "outputs": [
    {
     "name": "stdout",
     "output_type": "stream",
     "text": [
      "_________________________________________________________________\n",
      "Layer (type)                 Output Shape              Param #   \n",
      "=================================================================\n",
      "lstm_36 (LSTM)               (4, 16)                   1472      \n",
      "_________________________________________________________________\n",
      "leaky_re_lu_116 (LeakyReLU)  (4, 16)                   0         \n",
      "_________________________________________________________________\n",
      "dropout_116 (Dropout)        (4, 16)                   0         \n",
      "_________________________________________________________________\n",
      "dense_155 (Dense)            (4, 6)                    102       \n",
      "_________________________________________________________________\n",
      "activation_36 (Activation)   (4, 6)                    0         \n",
      "=================================================================\n",
      "Total params: 1,574\n",
      "Trainable params: 1,574\n",
      "Non-trainable params: 0\n",
      "_________________________________________________________________\n"
     ]
    }
   ],
   "source": [
    "def create_generator():\n",
    "#     generator=Sequential()\n",
    "#     generator.add(Dense(units=128,input_dim=8))\n",
    "#     generator.add(LeakyReLU(0.2))\n",
    "    \n",
    "#     generator.add(Dense(units=256))\n",
    "#     generator.add(LeakyReLU(0.2))\n",
    "    \n",
    "#     generator.add(Dense(units=512))\n",
    "#     generator.add(LeakyReLU(0.2))\n",
    "    \n",
    "#     generator.add(Dense(units=8, activation='tanh'))\n",
    "    \n",
    "#     #generator.compile(loss='binary_crossentropy', optimizer=adam_optimizer(), metrics=['accuracy'])\n",
    "#     generator.compile(loss='binary_crossentropy', optimizer='adam', metrics=['accuracy'])\n",
    "\n",
    "    # 6 below = x_t.shape[2]\n",
    "#     generator = Sequential()\n",
    "#     #generator.add(LSTM(16, batch_input_shape=(BATCH_SIZE_OUT, TIME_STEPS, 6), dropout=0.0, recurrent_dropout=0.0, stateful=True, kernel_initializer='random_uniform', return_sequences=False)) \n",
    "#     # stateful = true breaks the model (https://github.com/keras-team/keras/issues/9385)\n",
    "#     generator.add(LSTM(16, batch_input_shape=(BATCH_SIZE_OUT, TIME_STEPS, 1), return_sequences=True)) \n",
    "#     generator.add(Dense(8,activation='relu'))\n",
    "#     generator.add(Dropout(0.7))\n",
    "#     generator.add(LSTM(8, return_sequences=False))\n",
    "#     generator.add(Dense(1,activation='sigmoid'))\n",
    "#     #generator.add(Reshape((TIME_STEPS, 1)))\n",
    "#     optimizer = RMSprop(lr=LR, decay=3e-8)\n",
    "#     #generator.compile(loss='mean_squared_error', optimizer='adam', metrics=['accuracy'])\n",
    "#     generator.compile(loss='mean_squared_error', optimizer=optimizer, metrics=['accuracy'])\n",
    "    \n",
    "    \n",
    "    generator = Sequential()\n",
    "    generator.add(LSTM(16, batch_input_shape=(BATCH_SIZE_OUT, TIME_STEPS, 6), return_sequences=False))\n",
    "    generator.add(LeakyReLU(0.5))\n",
    "    generator.add(Dropout(0.5))\n",
    "    generator.add(Dense(6))\n",
    "    generator.add(Activation('tanh'))\n",
    "    optimizer = RMSprop(lr=0.005, clipvalue=1.)\n",
    "    generator.compile(loss='mean_squared_error', optimizer=optimizer)\n",
    "\n",
    "    return generator\n",
    "g=create_generator()\n",
    "g.summary()"
   ]
  },
  {
   "cell_type": "code",
   "execution_count": 136,
   "metadata": {},
   "outputs": [
    {
     "name": "stdout",
     "output_type": "stream",
     "text": [
      "_________________________________________________________________\n",
      "Layer (type)                 Output Shape              Param #   \n",
      "=================================================================\n",
      "dense_177 (Dense)            (8, 7, 16)                112       \n",
      "_________________________________________________________________\n",
      "leaky_re_lu_132 (LeakyReLU)  (8, 7, 16)                0         \n",
      "_________________________________________________________________\n",
      "dropout_132 (Dropout)        (8, 7, 16)                0         \n",
      "_________________________________________________________________\n",
      "dense_178 (Dense)            (8, 7, 8)                 136       \n",
      "_________________________________________________________________\n",
      "leaky_re_lu_133 (LeakyReLU)  (8, 7, 8)                 0         \n",
      "_________________________________________________________________\n",
      "dropout_133 (Dropout)        (8, 7, 8)                 0         \n",
      "_________________________________________________________________\n",
      "dense_179 (Dense)            (8, 7, 6)                 54        \n",
      "=================================================================\n",
      "Total params: 302\n",
      "Trainable params: 302\n",
      "Non-trainable params: 0\n",
      "_________________________________________________________________\n"
     ]
    }
   ],
   "source": [
    "def create_discriminator():\n",
    "    optimizer = RMSprop(lr=0.0002, decay=6e-8)\n",
    "\n",
    "    discriminator=Sequential()\n",
    "    #discriminator.add(Dense(units=512, batch_input_shape=(BATCH_SIZE_OUT, TIME_STEPS, 1)))\n",
    "    discriminator.add(Dense(units=16, batch_input_shape=(8, TIME_STEPS, 6)))\n",
    "    \n",
    "    #discriminator.add(Dense(units=512,input_dim=6))\n",
    "    discriminator.add(LeakyReLU(0.5))\n",
    "    discriminator.add(Dropout(0.5))\n",
    "       \n",
    "    \n",
    "#     discriminator.add(Dense(units=256))\n",
    "#     discriminator.add(LeakyReLU(0.2))\n",
    "#     discriminator.add(Dropout(0.3))\n",
    "       \n",
    "    discriminator.add(Dense(units=8))\n",
    "    discriminator.add(LeakyReLU(0.5))\n",
    "    discriminator.add(Dropout(0.5))\n",
    "    \n",
    "    #discriminator.add(Reshape((5, 1)))\n",
    "    \n",
    "    discriminator.add(Dense(units=6, activation='sigmoid'))\n",
    "    \n",
    "    discriminator.compile(loss='binary_crossentropy', optimizer=optimizer)\n",
    "\n",
    "#     discriminator = Sequential()\n",
    "#     discriminator.add(LSTM(16, batch_input_shape=(BATCH_SIZE_OUT, TIME_STEPS, 6), dropout=0.0, recurrent_dropout=0.0, kernel_initializer='random_uniform', return_sequences=False)) \n",
    "#     discriminator.add(Dense(8,activation='relu'))\n",
    "#     discriminator.add(Dropout(0.7))\n",
    "#     discriminator.add(Dense(1,activation='sigmoid'))\n",
    "\n",
    "#     discriminator.compile(loss='mean_squared_error', optimizer='adam', metrics=['accuracy'])\n",
    "    \n",
    "    return discriminator\n",
    "d =create_discriminator()\n",
    "d.summary()"
   ]
  },
  {
   "cell_type": "code",
   "execution_count": 137,
   "metadata": {},
   "outputs": [
    {
     "name": "stdout",
     "output_type": "stream",
     "text": [
      "_________________________________________________________________\n",
      "Layer (type)                 Output Shape              Param #   \n",
      "=================================================================\n",
      "input_48 (InputLayer)        (None, 7, 6)              0         \n",
      "_________________________________________________________________\n",
      "sequential_76 (Sequential)   multiple                  1574      \n",
      "_________________________________________________________________\n",
      "sequential_86 (Sequential)   multiple                  302       \n",
      "=================================================================\n",
      "Total params: 1,876\n",
      "Trainable params: 1,574\n",
      "Non-trainable params: 302\n",
      "_________________________________________________________________\n"
     ]
    }
   ],
   "source": [
    "def create_gan(discriminator, generator):\n",
    "    optimizer = RMSprop(lr=0.0001, decay=3e-8)\n",
    "    discriminator.trainable=False\n",
    "    gan_input = Input(shape=(TIME_STEPS, 6)) # x_t.shape[2] = 6\n",
    "    #Input(shape=(None, latent_dim))\n",
    "    x = generator(gan_input)\n",
    "    gan_output= discriminator(x)\n",
    "    gan = Model(inputs=gan_input, outputs=gan_output)\n",
    "    gan.compile(loss='binary_crossentropy', optimizer=optimizer)\n",
    "    return gan\n",
    "gan = create_gan(d,g)\n",
    "gan.summary()"
   ]
  },
  {
   "cell_type": "code",
   "execution_count": 140,
   "metadata": {},
   "outputs": [],
   "source": [
    "import keras.backend as K\n",
    "\n",
    "adversarial_loss = []\n",
    "discrimator_loss = []\n",
    "gen_samples = []\n",
    "\n",
    "#K.clear_session()\n",
    "generator = create_generator()\n",
    "discriminator = create_discriminator()\n",
    "gan = create_gan(discriminator, generator)\n",
    "#(X_train, y_train, X_val, X_test, y_val, y_test) = load_data(x_train_out, x_test_out, BATCH_SIZE_OUT)\n",
    "\n",
    "def training(epochs=1, batch_size=128):\n",
    "    global adversarial_loss\n",
    "    global discrimator_loss\n",
    "    global gen_samples\n",
    "    \n",
    "    global generator\n",
    "    global discriminator\n",
    "    global gan\n",
    "\n",
    "    global X_train\n",
    "    global X_test\n",
    "    global y_train\n",
    "    global y_test\n",
    "    \n",
    "    for e in range(1, epochs+1 ):\n",
    "        print(\"Epoch %d\" %e)\n",
    "        for i in tqdm(range(batch_size)):\n",
    "            #generate  random noise as an input  to  initialize the  generator\n",
    "            #noise = np.random.normal(0,1, [BATCH_SIZE_OUT, TIME_STEPS, X_train.shape[2]])\n",
    "            print(X_train.shape)\n",
    "            \n",
    "            noise = np.float32(np.random.normal(size=[BATCH_SIZE_OUT, TIME_STEPS, X_train.shape[2]]))\n",
    "            \n",
    "            # Generate fake prices from noised input\n",
    "            generated_prices = generator.predict(noise)\n",
    "            \n",
    "            # Get a random set of real prices\n",
    "            prices_batch = X_train[np.random.randint(low=0,high=X_train.shape[0],size=BATCH_SIZE_OUT)]\n",
    "            \n",
    "            \n",
    "            dim_0 = generated_prices.shape[0] - TIME_STEPS\n",
    "            dim_0 = generated_prices.shape[0]\n",
    "            gen_prices = np.zeros((dim_0, TIME_STEPS, 6))\n",
    "            \n",
    "            for j in range(dim_0):\n",
    "                gen_prices[j] = generated_prices[j]\n",
    "\n",
    "#             print('Shapes 1')\n",
    "#             print(noise.shape)\n",
    "#             print(prices_batch.shape)\n",
    "#             print(generated_prices.shape)     \n",
    "#             print(gen_prices.shape)\n",
    "#             print('>>>>>>>>>>>gen_prices>>>>>>>')            \n",
    "#             print(gen_prices)\n",
    "#             #print(prices_batch)\n",
    "#             #print(generated_prices)\n",
    "            \n",
    "            #Construct different batches of real and fake data \n",
    "            X = np.concatenate([prices_batch, gen_prices])\n",
    "            \n",
    "            # Labels for generated and real data\n",
    "            #y_dis = np.zeros(2*batch_size)\n",
    "            #y_dis = np.zeros(shape=(2*BATCH_SIZE_OUT, TIME_STEPS, X_train.shape[2]))\n",
    "            y_dis = np.zeros(shape=(X.shape[0], TIME_STEPS, X_train.shape[2]))\n",
    "            #y_dis[:batch_size]=0.9\n",
    "            y_dis[:int((X.shape[0]/2))]=0.9\n",
    "            #y_dis[0,:,batch_size]=0.9\n",
    "            \n",
    "#             print('Shapes 2')\n",
    "#             print(X.shape)\n",
    "#             print(y_dis.shape)\n",
    "#             print('>>>>>>>>>>>x>>>>>>>')\n",
    "#             print(X)\n",
    "#             print('>>>>>>>>>>>y_dis>>>>>>>')            \n",
    "#             print(y_dis)\n",
    "            \n",
    "            #Pre train discriminator on fake and real data before starting the gan. \n",
    "            discriminator.trainable = True\n",
    "            d_loss = discriminator.train_on_batch(X, y_dis)\n",
    "            \n",
    "            #Tricking the noised input of the Generator as real data\n",
    "            #noise = np.random.normal(0,1, [batch_size, 8])\n",
    "            #y_gen = np.ones(batch_size)\n",
    "            noise = np.float32(np.random.normal(size=[BATCH_SIZE_OUT, TIME_STEPS, X_train.shape[2]]))\n",
    "            #y_gen = np.ones(shape=(noise.shape[0], TIME_STEPS, X_train.shape[2]))\n",
    "            y_gen = np.ones(BATCH_SIZE_OUT)\n",
    "            \n",
    "            # During the training of gan, \n",
    "            # the weights of discriminator should be fixed. \n",
    "            #We can enforce that by setting the trainable flag\n",
    "            discriminator.trainable=False\n",
    "            \n",
    "#             print('Shapes 3')\n",
    "#             print(noise.shape)\n",
    "#             print(y_gen.shape)\n",
    "            \n",
    "            #training the GAN by alternating the training of the Discriminator \n",
    "            #and training the chained GAN model with Discriminator’s weights freezed.\n",
    "            a_loss = gan.train_on_batch(noise, y_gen)\n",
    "            \n",
    "            if i == (batch_size-1):\n",
    "                #log_mesg = \"%d: [D loss: %f, acc: %f]\" % (e, d_loss[0], d_loss[1])\n",
    "                #log_mesg = \"%s  [A loss: %f, acc: %f]\" % (log_mesg, a_loss[0], a_loss[1])\n",
    "                log_mesg = \"%d: [D loss: %f]\" % (e, d_loss)\n",
    "                log_mesg = \"%s  [A loss: %f]\" % (log_mesg, a_loss)\n",
    "                print(log_mesg)\n",
    "                \n",
    "            discrimator_loss.append(d_loss)\n",
    "            adversarial_loss.append(a_loss)\n",
    "            \n",
    "#         if e == 1 or e % 5 == 0:\n",
    "#             # generate synthetic dataset\n",
    "#             gen_samples_set = []\n",
    "#             for batch_idx in range(int(len(X_train) / batch_size)):\n",
    "#             # for batch_idx in range(int(len(X_train) / 100)):\n",
    "#                 # noise= np.random.normal(loc=0, scale=1, size=[100, 100])\n",
    "#                 #noise= np.random.normal(0,1, [batch_size, 8])\n",
    "#                 noise = np.float32(np.random.normal(size=[BATCH_SIZE_OUT, TIME_STEPS, X_train.shape[2]]))\n",
    "#                 generated_data = generator.predict(noise)\n",
    "#                 gen_samples_set.append(generated_data)\n",
    "\n",
    "#             gen_samples = np.vstack(gen_samples_set)"
   ]
  },
  {
   "cell_type": "code",
   "execution_count": 141,
   "metadata": {},
   "outputs": [
    {
     "name": "stderr",
     "output_type": "stream",
     "text": [
      "\r",
      "  0%|          | 0/12 [00:00<?, ?it/s]"
     ]
    },
    {
     "name": "stdout",
     "output_type": "stream",
     "text": [
      "Epoch 1\n",
      "(1794, 7, 6)\n",
      "Shapes 3\n",
      "(4, 7, 6)\n",
      "(4,)\n"
     ]
    },
    {
     "name": "stderr",
     "output_type": "stream",
     "text": [
      "\n"
     ]
    },
    {
     "ename": "ValueError",
     "evalue": "Error when checking target: expected sequential_90 to have shape (6,) but got array with shape (1,)",
     "output_type": "error",
     "traceback": [
      "\u001b[0;31m---------------------------------------------------------------------------\u001b[0m",
      "\u001b[0;31mValueError\u001b[0m                                Traceback (most recent call last)",
      "\u001b[0;32m<ipython-input-141-b681cb2db048>\u001b[0m in \u001b[0;36m<module>\u001b[0;34m()\u001b[0m\n\u001b[1;32m      1\u001b[0m \u001b[0;31m#training(400,128)\u001b[0m\u001b[0;34m\u001b[0m\u001b[0;34m\u001b[0m\u001b[0m\n\u001b[0;32m----> 2\u001b[0;31m \u001b[0mtraining\u001b[0m\u001b[0;34m(\u001b[0m\u001b[0;36m1\u001b[0m\u001b[0;34m,\u001b[0m\u001b[0;36m12\u001b[0m\u001b[0;34m)\u001b[0m\u001b[0;34m\u001b[0m\u001b[0m\n\u001b[0m",
      "\u001b[0;32m<ipython-input-140-a01995d25ac5>\u001b[0m in \u001b[0;36mtraining\u001b[0;34m(epochs, batch_size)\u001b[0m\n\u001b[1;32m     99\u001b[0m             \u001b[0;31m#training the GAN by alternating the training of the Discriminator\u001b[0m\u001b[0;34m\u001b[0m\u001b[0;34m\u001b[0m\u001b[0m\n\u001b[1;32m    100\u001b[0m             \u001b[0;31m#and training the chained GAN model with Discriminator’s weights freezed.\u001b[0m\u001b[0;34m\u001b[0m\u001b[0;34m\u001b[0m\u001b[0m\n\u001b[0;32m--> 101\u001b[0;31m             \u001b[0ma_loss\u001b[0m \u001b[0;34m=\u001b[0m \u001b[0mgan\u001b[0m\u001b[0;34m.\u001b[0m\u001b[0mtrain_on_batch\u001b[0m\u001b[0;34m(\u001b[0m\u001b[0mnoise\u001b[0m\u001b[0;34m,\u001b[0m \u001b[0my_gen\u001b[0m\u001b[0;34m)\u001b[0m\u001b[0;34m\u001b[0m\u001b[0m\n\u001b[0m\u001b[1;32m    102\u001b[0m \u001b[0;34m\u001b[0m\u001b[0m\n\u001b[1;32m    103\u001b[0m             \u001b[0;32mif\u001b[0m \u001b[0mi\u001b[0m \u001b[0;34m==\u001b[0m \u001b[0;34m(\u001b[0m\u001b[0mbatch_size\u001b[0m\u001b[0;34m-\u001b[0m\u001b[0;36m1\u001b[0m\u001b[0;34m)\u001b[0m\u001b[0;34m:\u001b[0m\u001b[0;34m\u001b[0m\u001b[0m\n",
      "\u001b[0;32m/usr/local/lib/python3.5/dist-packages/keras/engine/training.py\u001b[0m in \u001b[0;36mtrain_on_batch\u001b[0;34m(self, x, y, sample_weight, class_weight)\u001b[0m\n\u001b[1;32m   1875\u001b[0m             \u001b[0mx\u001b[0m\u001b[0;34m,\u001b[0m \u001b[0my\u001b[0m\u001b[0;34m,\u001b[0m\u001b[0;34m\u001b[0m\u001b[0m\n\u001b[1;32m   1876\u001b[0m             \u001b[0msample_weight\u001b[0m\u001b[0;34m=\u001b[0m\u001b[0msample_weight\u001b[0m\u001b[0;34m,\u001b[0m\u001b[0;34m\u001b[0m\u001b[0m\n\u001b[0;32m-> 1877\u001b[0;31m             class_weight=class_weight)\n\u001b[0m\u001b[1;32m   1878\u001b[0m         \u001b[0;32mif\u001b[0m \u001b[0mself\u001b[0m\u001b[0;34m.\u001b[0m\u001b[0muses_learning_phase\u001b[0m \u001b[0;32mand\u001b[0m \u001b[0;32mnot\u001b[0m \u001b[0misinstance\u001b[0m\u001b[0;34m(\u001b[0m\u001b[0mK\u001b[0m\u001b[0;34m.\u001b[0m\u001b[0mlearning_phase\u001b[0m\u001b[0;34m(\u001b[0m\u001b[0;34m)\u001b[0m\u001b[0;34m,\u001b[0m \u001b[0mint\u001b[0m\u001b[0;34m)\u001b[0m\u001b[0;34m:\u001b[0m\u001b[0;34m\u001b[0m\u001b[0m\n\u001b[1;32m   1879\u001b[0m             \u001b[0mins\u001b[0m \u001b[0;34m=\u001b[0m \u001b[0mx\u001b[0m \u001b[0;34m+\u001b[0m \u001b[0my\u001b[0m \u001b[0;34m+\u001b[0m \u001b[0msample_weights\u001b[0m \u001b[0;34m+\u001b[0m \u001b[0;34m[\u001b[0m\u001b[0;36m1.\u001b[0m\u001b[0;34m]\u001b[0m\u001b[0;34m\u001b[0m\u001b[0m\n",
      "\u001b[0;32m/usr/local/lib/python3.5/dist-packages/keras/engine/training.py\u001b[0m in \u001b[0;36m_standardize_user_data\u001b[0;34m(self, x, y, sample_weight, class_weight, check_array_lengths, batch_size)\u001b[0m\n\u001b[1;32m   1478\u001b[0m                                     \u001b[0moutput_shapes\u001b[0m\u001b[0;34m,\u001b[0m\u001b[0;34m\u001b[0m\u001b[0m\n\u001b[1;32m   1479\u001b[0m                                     \u001b[0mcheck_batch_axis\u001b[0m\u001b[0;34m=\u001b[0m\u001b[0;32mFalse\u001b[0m\u001b[0;34m,\u001b[0m\u001b[0;34m\u001b[0m\u001b[0m\n\u001b[0;32m-> 1480\u001b[0;31m                                     exception_prefix='target')\n\u001b[0m\u001b[1;32m   1481\u001b[0m         sample_weights = _standardize_sample_weights(sample_weight,\n\u001b[1;32m   1482\u001b[0m                                                      self._feed_output_names)\n",
      "\u001b[0;32m/usr/local/lib/python3.5/dist-packages/keras/engine/training.py\u001b[0m in \u001b[0;36m_standardize_input_data\u001b[0;34m(data, names, shapes, check_batch_axis, exception_prefix)\u001b[0m\n\u001b[1;32m    121\u001b[0m                             \u001b[0;34m': expected '\u001b[0m \u001b[0;34m+\u001b[0m \u001b[0mnames\u001b[0m\u001b[0;34m[\u001b[0m\u001b[0mi\u001b[0m\u001b[0;34m]\u001b[0m \u001b[0;34m+\u001b[0m \u001b[0;34m' to have shape '\u001b[0m \u001b[0;34m+\u001b[0m\u001b[0;34m\u001b[0m\u001b[0m\n\u001b[1;32m    122\u001b[0m                             \u001b[0mstr\u001b[0m\u001b[0;34m(\u001b[0m\u001b[0mshape\u001b[0m\u001b[0;34m)\u001b[0m \u001b[0;34m+\u001b[0m \u001b[0;34m' but got array with shape '\u001b[0m \u001b[0;34m+\u001b[0m\u001b[0;34m\u001b[0m\u001b[0m\n\u001b[0;32m--> 123\u001b[0;31m                             str(data_shape))\n\u001b[0m\u001b[1;32m    124\u001b[0m     \u001b[0;32mreturn\u001b[0m \u001b[0mdata\u001b[0m\u001b[0;34m\u001b[0m\u001b[0m\n\u001b[1;32m    125\u001b[0m \u001b[0;34m\u001b[0m\u001b[0m\n",
      "\u001b[0;31mValueError\u001b[0m: Error when checking target: expected sequential_90 to have shape (6,) but got array with shape (1,)"
     ]
    }
   ],
   "source": [
    "#training(400,128)\n",
    "training(1,12)"
   ]
  },
  {
   "cell_type": "code",
   "execution_count": 16,
   "metadata": {},
   "outputs": [],
   "source": [
    "# generated_data = np.transpose(gen_samples)\n",
    "# #print(gen_samples)\n",
    "# #print(generated_data)\n",
    "# #plot the log-returns\n",
    "# gen_ind = 1 # change in function price as well\n",
    "# pd.DataFrame(gen_samples).plot()"
   ]
  },
  {
   "cell_type": "code",
   "execution_count": 17,
   "metadata": {},
   "outputs": [],
   "source": [
    "def get_2D_array_values(arr, idx):\n",
    "    arr_map = []\n",
    "    for i in range(len(arr)):\n",
    "        arr_map.append(arr[i][idx])\n",
    "    \n",
    "    return arr_map"
   ]
  },
  {
   "cell_type": "code",
   "execution_count": 18,
   "metadata": {},
   "outputs": [
    {
     "data": {
      "text/plain": [
       "Text(0,0.5,'Loss')"
      ]
     },
     "execution_count": 18,
     "metadata": {},
     "output_type": "execute_result"
    },
    {
     "data": {
      "image/png": "[encoded data removed]",
      "text/plain": [
       "<Figure size 432x288 with 1 Axes>"
      ]
     },
     "metadata": {},
     "output_type": "display_data"
    }
   ],
   "source": [
    "# adversarial_loss_map = get_2D_array_values(adversarial_loss, 0)\n",
    "# discrimator_loss_map = get_2D_array_values(discrimator_loss, 0)\n",
    "\n",
    "ax = pd.DataFrame(\n",
    "    {\n",
    "        'Adversarial Loss': adversarial_loss,\n",
    "        'Discriminative Loss': discrimator_loss,\n",
    "    }\n",
    ").plot(title='Training loss', logy=True)\n",
    "ax.set_xlabel(\"Training iterations\")\n",
    "ax.set_ylabel(\"Loss\")"
   ]
  },
  {
   "cell_type": "code",
   "execution_count": 19,
   "metadata": {},
   "outputs": [],
   "source": [
    "# adversarial_acc_map = get_2D_array_values(adversarial_loss, 1)\n",
    "# discrimator_acc_map = get_2D_array_values(discrimator_loss, 1)\n",
    "\n",
    "# ax_acc = pd.DataFrame(\n",
    "#     {\n",
    "#         'Adversarial Accuracy': adversarial_acc_map,\n",
    "#         'Discriminative Accuracy': discrimator_acc_map,\n",
    "#     }\n",
    "# ).plot(title='Training loss', logy=True)\n",
    "# ax_acc.set_xlabel(\"Training iterations\")\n",
    "# ax_acc.set_ylabel(\"Accuracy\")"
   ]
  },
  {
   "cell_type": "code",
   "execution_count": 25,
   "metadata": {},
   "outputs": [
    {
     "name": "stdout",
     "output_type": "stream",
     "text": [
      "The Explained Variance: -0.00\n",
      "The Mean Absolute Error: 1.00\n",
      "The Mean Squared Error: 1.01\n",
      "The Root Mean Squared Error: 1.00\n"
     ]
    }
   ],
   "source": [
    "#(X_train2, X_test2, y_train2, y_test2) = load_data_with_test2()\n",
    "#(X_train2, y_train2, X_val2, X_test2, y_val2, y_test2) = load_data(x_train_out, x_test_out, BATCH_SIZE_OUT)\n",
    "\n",
    "# print(x_train_out.shape)\n",
    "# print(x_test_out.shape)\n",
    "\n",
    "# print(X_train.shape)\n",
    "# print(X_test.shape)\n",
    "# print(X_val.shape)\n",
    "\n",
    "prediction_gan = gan.predict(X_test)\n",
    "\n",
    "# print(\"The Explained Variance: %.2f\" % prediction_gan.score(X_test2, y_test2))  \n",
    "print(\"The Explained Variance: %.2f\" % metrics.explained_variance_score(y_test, prediction_gan))  \n",
    "print(\"The Mean Absolute Error: %.2f\" % metrics.mean_absolute_error(y_test, prediction_gan))  \n",
    "#print(\"The Median Absolute Error: %.2f\" % metrics.median_absolute_error(y_test2, prediction_gan)) \n",
    "print(\"The Mean Squared Error: %.2f\" % metrics.mean_squared_error(y_test, prediction_gan)) \n",
    "print(\"The Root Mean Squared Error: %.2f\" % (np.sqrt(metrics.mean_squared_error(y_test, prediction_gan))))\n",
    "\n",
    "#generator.predict(X_train)[0]"
   ]
  },
  {
   "cell_type": "code",
   "execution_count": 29,
   "metadata": {},
   "outputs": [
    {
     "name": "stdout",
     "output_type": "stream",
     "text": [
      "Error is 1.0084690175330027 (3180,) (3180,)\n",
      "[0.9999161 0.9999161 0.9999161 0.9999161 0.9999161 0.9999161 0.9999161\n",
      " 0.9999161 0.9999161 0.9999161 0.9999161 0.9999161 0.9999161 0.9999161\n",
      " 0.9999161]\n",
      "[-0.00187447 -0.00195998 -0.00187498 -0.00187498 -0.00187498 -0.00198007\n",
      " -0.00206197 -0.00204497 -0.00189765 -0.00192649 -0.00187498 -0.00191877\n",
      " -0.00187395 -0.0019677  -0.00193113]\n"
     ]
    }
   ],
   "source": [
    "y_pred = gan.predict(trim_dataset(X_test, BATCH_SIZE_OUT), batch_size=BATCH_SIZE_OUT)\n",
    "y_pred = y_pred.flatten()\n",
    "y_test_t = trim_dataset(y_test, BATCH_SIZE_OUT)\n",
    "error = metrics.mean_squared_error(y_test_t, y_pred)\n",
    "print(\"Error is\", error, y_pred.shape, y_test_t.shape)\n",
    "print(y_pred[0:15])\n",
    "print(y_test_t[0:15])"
   ]
  },
  {
   "cell_type": "code",
   "execution_count": 30,
   "metadata": {},
   "outputs": [
    {
     "name": "stdout",
     "output_type": "stream",
     "text": [
      "[19868.23 19868.23 19868.23 19868.23 19868.23 19868.23 19868.23 19868.23\n",
      " 19868.23 19868.23 19868.23 19868.23 19868.23 19868.23 19868.23]\n",
      "[419.97 418.31 419.96 419.96 419.96 417.92 416.33 416.66 419.52 418.96\n",
      " 419.96 419.11 419.98 418.16 418.87]\n"
     ]
    }
   ],
   "source": [
    "# convert the predicted value to range of real data\n",
    "y_pred_org = (y_pred * min_max_scaler.data_range_[0]) + min_max_scaler.data_min_[0]\n",
    "#y_pred_org = (y_pred + min_max_scaler.data_min_[0])\n",
    "# min_max_scaler.inverse_transform(y_pred)\n",
    "y_test_t_org = (y_test_t * min_max_scaler.data_range_[0]) + min_max_scaler.data_min_[0]\n",
    "#y_test_t_org = (y_test_t + min_max_scaler.data_min_[0])\n",
    "# min_max_scaler.inverse_transform(y_test_t)\n",
    "print(y_pred_org[0:15])\n",
    "print(y_test_t_org[0:15])"
   ]
  },
  {
   "cell_type": "code",
   "execution_count": 31,
   "metadata": {},
   "outputs": [
    {
     "data": {
      "image/png": "[encoded data removed]",
      "text/plain": [
       "<Figure size 432x288 with 1 Axes>"
      ]
     },
     "metadata": {},
     "output_type": "display_data"
    }
   ],
   "source": [
    "# Visualize the prediction\n",
    "from matplotlib import pyplot as plt\n",
    "plt.figure()\n",
    "plt.plot(y_pred_org)\n",
    "plt.plot(y_test_t_org)\n",
    "plt.title('Prediction vs Real Stock Price')\n",
    "plt.ylabel('Price')\n",
    "plt.xlabel('Days')\n",
    "plt.legend(['Prediction', 'Real'], loc='upper left')\n",
    "plt.show()\n"
   ]
  },
  {
   "cell_type": "code",
   "execution_count": null,
   "metadata": {},
   "outputs": [],
   "source": []
  }
 ],
 "metadata": {
  "kernelspec": {
   "display_name": "Python 3",
   "language": "python",
   "name": "python3"
  },
  "language_info": {
   "codemirror_mode": {
    "name": "ipython",
    "version": 3
   },
   "file_extension": ".py",
   "mimetype": "text/x-python",
   "name": "python",
   "nbconvert_exporter": "python",
   "pygments_lexer": "ipython3",
   "version": "3.5.2"
  }
 },
 "nbformat": 4,
 "nbformat_minor": 2
}
