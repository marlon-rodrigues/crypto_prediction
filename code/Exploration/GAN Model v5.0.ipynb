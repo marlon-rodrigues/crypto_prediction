{
 "cells": [
  {
   "cell_type": "markdown",
   "metadata": {},
   "source": [
    "# Experimentation Only"
   ]
  },
  {
   "cell_type": "code",
   "execution_count": 1,
   "metadata": {},
   "outputs": [
    {
     "name": "stdout",
     "output_type": "stream",
     "text": [
      "Requirement already satisfied: tqdm in /usr/local/lib/python3.5/dist-packages\n",
      "\u001b[33mYou are using pip version 9.0.3, however version 19.1.1 is available.\n",
      "You should consider upgrading via the 'pip install --upgrade pip' command.\u001b[0m\n"
     ]
    }
   ],
   "source": [
    "import sys\n",
    "!{sys.executable} -m pip install tqdm"
   ]
  },
  {
   "cell_type": "code",
   "execution_count": 2,
   "metadata": {},
   "outputs": [
    {
     "name": "stderr",
     "output_type": "stream",
     "text": [
      "/usr/local/lib/python3.5/dist-packages/sklearn/cross_validation.py:41: DeprecationWarning: This module was deprecated in version 0.18 in favor of the model_selection module into which all the refactored classes and functions are moved. Also note that the interface of the new CV iterators are different from that of this module. This module will be removed in 0.20.\n",
      "  \"This module will be removed in 0.20.\", DeprecationWarning)\n",
      "/usr/local/lib/python3.5/dist-packages/h5py/__init__.py:36: FutureWarning: Conversion of the second argument of issubdtype from `float` to `np.floating` is deprecated. In future, it will be treated as `np.float64 == np.dtype(float).type`.\n",
      "  from ._conv import register_converters as _register_converters\n",
      "Using TensorFlow backend.\n"
     ]
    }
   ],
   "source": [
    "import math\n",
    "import matplotlib.pyplot as plt\n",
    "import pandas as pd\n",
    "import numpy as np\n",
    "import time\n",
    "from datetime import datetime\n",
    "import datetime as dt\n",
    "from mpl_toolkits.mplot3d import Axes3D\n",
    "from tqdm import tqdm, tqdm_notebook\n",
    "%matplotlib inline\n",
    "\n",
    "#For Prediction\n",
    "from sklearn import metrics\n",
    "from sklearn import preprocessing, cross_validation\n",
    "from sklearn.model_selection import train_test_split\n",
    "from sklearn.preprocessing import MinMaxScaler\n",
    "\n",
    "import keras\n",
    "from keras.layers import Dense, Dropout, Input, LSTM, Reshape, Flatten\n",
    "from keras.models import Model,Sequential\n",
    "from keras.datasets import mnist\n",
    "from tqdm import tqdm\n",
    "from keras.layers.advanced_activations import LeakyReLU\n",
    "from keras.optimizers import Adam, RMSprop"
   ]
  },
  {
   "cell_type": "code",
   "execution_count": 3,
   "metadata": {},
   "outputs": [
    {
     "data": {
      "text/html": [
       "<div>\n",
       "<style scoped>\n",
       "    .dataframe tbody tr th:only-of-type {\n",
       "        vertical-align: middle;\n",
       "    }\n",
       "\n",
       "    .dataframe tbody tr th {\n",
       "        vertical-align: top;\n",
       "    }\n",
       "\n",
       "    .dataframe thead th {\n",
       "        text-align: right;\n",
       "    }\n",
       "</style>\n",
       "<table border=\"1\" class=\"dataframe\">\n",
       "  <thead>\n",
       "    <tr style=\"text-align: right;\">\n",
       "      <th></th>\n",
       "      <th>Date</th>\n",
       "      <th>Close</th>\n",
       "      <th>USD_Exchange_Trade_Volume</th>\n",
       "      <th>Bitcoins_in_circulation</th>\n",
       "      <th>MarketCap</th>\n",
       "      <th>BlockSize</th>\n",
       "      <th>AvgBlockSize</th>\n",
       "      <th>Orphaned_Block</th>\n",
       "      <th>TransactionsPerBlock</th>\n",
       "      <th>MedianTransactCnfmTime</th>\n",
       "      <th>...</th>\n",
       "      <th>USD/JPY</th>\n",
       "      <th>USD/CHF</th>\n",
       "      <th>USD/KRW</th>\n",
       "      <th>USD/GBP</th>\n",
       "      <th>EUR/KRW</th>\n",
       "      <th>USD/CNY</th>\n",
       "      <th>Google Trends Interest</th>\n",
       "      <th>GTrends Normalized</th>\n",
       "      <th>US Federal funds rate</th>\n",
       "      <th>Breakeven Inflation Rate</th>\n",
       "    </tr>\n",
       "  </thead>\n",
       "  <tbody>\n",
       "    <tr>\n",
       "      <th>0</th>\n",
       "      <td>3-Jan-09</td>\n",
       "      <td>0.0</td>\n",
       "      <td>0.0</td>\n",
       "      <td>50.0</td>\n",
       "      <td>0.0</td>\n",
       "      <td>0.0</td>\n",
       "      <td>0.0</td>\n",
       "      <td>0</td>\n",
       "      <td>1.0</td>\n",
       "      <td>0.0</td>\n",
       "      <td>...</td>\n",
       "      <td>90.73</td>\n",
       "      <td>1.06</td>\n",
       "      <td>1269.75</td>\n",
       "      <td>0.69</td>\n",
       "      <td>1774.86</td>\n",
       "      <td>6.83</td>\n",
       "      <td>0</td>\n",
       "      <td>0.0</td>\n",
       "      <td>0.08</td>\n",
       "      <td>0.15</td>\n",
       "    </tr>\n",
       "    <tr>\n",
       "      <th>1</th>\n",
       "      <td>5-Jan-09</td>\n",
       "      <td>0.0</td>\n",
       "      <td>0.0</td>\n",
       "      <td>50.0</td>\n",
       "      <td>0.0</td>\n",
       "      <td>0.0</td>\n",
       "      <td>0.0</td>\n",
       "      <td>0</td>\n",
       "      <td>1.0</td>\n",
       "      <td>0.0</td>\n",
       "      <td>...</td>\n",
       "      <td>92.08</td>\n",
       "      <td>1.08</td>\n",
       "      <td>1326.15</td>\n",
       "      <td>0.69</td>\n",
       "      <td>1843.95</td>\n",
       "      <td>6.82</td>\n",
       "      <td>0</td>\n",
       "      <td>0.0</td>\n",
       "      <td>0.11</td>\n",
       "      <td>0.15</td>\n",
       "    </tr>\n",
       "    <tr>\n",
       "      <th>2</th>\n",
       "      <td>7-Jan-09</td>\n",
       "      <td>0.0</td>\n",
       "      <td>0.0</td>\n",
       "      <td>50.0</td>\n",
       "      <td>0.0</td>\n",
       "      <td>0.0</td>\n",
       "      <td>0.0</td>\n",
       "      <td>0</td>\n",
       "      <td>1.0</td>\n",
       "      <td>0.0</td>\n",
       "      <td>...</td>\n",
       "      <td>93.79</td>\n",
       "      <td>1.12</td>\n",
       "      <td>1305.55</td>\n",
       "      <td>0.67</td>\n",
       "      <td>1763.60</td>\n",
       "      <td>6.84</td>\n",
       "      <td>0</td>\n",
       "      <td>0.0</td>\n",
       "      <td>0.11</td>\n",
       "      <td>0.47</td>\n",
       "    </tr>\n",
       "    <tr>\n",
       "      <th>3</th>\n",
       "      <td>9-Jan-09</td>\n",
       "      <td>0.0</td>\n",
       "      <td>0.0</td>\n",
       "      <td>750.0</td>\n",
       "      <td>0.0</td>\n",
       "      <td>0.0</td>\n",
       "      <td>0.0</td>\n",
       "      <td>0</td>\n",
       "      <td>1.0</td>\n",
       "      <td>0.0</td>\n",
       "      <td>...</td>\n",
       "      <td>91.24</td>\n",
       "      <td>1.10</td>\n",
       "      <td>1324.45</td>\n",
       "      <td>0.66</td>\n",
       "      <td>1808.74</td>\n",
       "      <td>6.83</td>\n",
       "      <td>0</td>\n",
       "      <td>0.0</td>\n",
       "      <td>0.09</td>\n",
       "      <td>0.56</td>\n",
       "    </tr>\n",
       "    <tr>\n",
       "      <th>4</th>\n",
       "      <td>11-Jan-09</td>\n",
       "      <td>0.0</td>\n",
       "      <td>0.0</td>\n",
       "      <td>7600.0</td>\n",
       "      <td>0.0</td>\n",
       "      <td>0.0</td>\n",
       "      <td>0.0</td>\n",
       "      <td>0</td>\n",
       "      <td>1.0</td>\n",
       "      <td>0.0</td>\n",
       "      <td>...</td>\n",
       "      <td>91.24</td>\n",
       "      <td>1.10</td>\n",
       "      <td>1324.45</td>\n",
       "      <td>0.66</td>\n",
       "      <td>1808.74</td>\n",
       "      <td>6.83</td>\n",
       "      <td>0</td>\n",
       "      <td>0.0</td>\n",
       "      <td>0.09</td>\n",
       "      <td>0.56</td>\n",
       "    </tr>\n",
       "  </tbody>\n",
       "</table>\n",
       "<p>5 rows × 65 columns</p>\n",
       "</div>"
      ],
      "text/plain": [
       "        Date  Close  USD_Exchange_Trade_Volume  Bitcoins_in_circulation  \\\n",
       "0   3-Jan-09    0.0                        0.0                     50.0   \n",
       "1   5-Jan-09    0.0                        0.0                     50.0   \n",
       "2   7-Jan-09    0.0                        0.0                     50.0   \n",
       "3   9-Jan-09    0.0                        0.0                    750.0   \n",
       "4  11-Jan-09    0.0                        0.0                   7600.0   \n",
       "\n",
       "   MarketCap  BlockSize  AvgBlockSize  Orphaned_Block  TransactionsPerBlock  \\\n",
       "0        0.0        0.0           0.0               0                   1.0   \n",
       "1        0.0        0.0           0.0               0                   1.0   \n",
       "2        0.0        0.0           0.0               0                   1.0   \n",
       "3        0.0        0.0           0.0               0                   1.0   \n",
       "4        0.0        0.0           0.0               0                   1.0   \n",
       "\n",
       "   MedianTransactCnfmTime            ...             USD/JPY  USD/CHF  \\\n",
       "0                     0.0            ...               90.73     1.06   \n",
       "1                     0.0            ...               92.08     1.08   \n",
       "2                     0.0            ...               93.79     1.12   \n",
       "3                     0.0            ...               91.24     1.10   \n",
       "4                     0.0            ...               91.24     1.10   \n",
       "\n",
       "   USD/KRW  USD/GBP  EUR/KRW  USD/CNY  Google Trends Interest  \\\n",
       "0  1269.75     0.69  1774.86     6.83                       0   \n",
       "1  1326.15     0.69  1843.95     6.82                       0   \n",
       "2  1305.55     0.67  1763.60     6.84                       0   \n",
       "3  1324.45     0.66  1808.74     6.83                       0   \n",
       "4  1324.45     0.66  1808.74     6.83                       0   \n",
       "\n",
       "   GTrends Normalized  US Federal funds rate  Breakeven Inflation Rate  \n",
       "0                 0.0                   0.08                      0.15  \n",
       "1                 0.0                   0.11                      0.15  \n",
       "2                 0.0                   0.11                      0.47  \n",
       "3                 0.0                   0.09                      0.56  \n",
       "4                 0.0                   0.09                      0.56  \n",
       "\n",
       "[5 rows x 65 columns]"
      ]
     },
     "execution_count": 3,
     "metadata": {},
     "output_type": "execute_result"
    }
   ],
   "source": [
    "# Read Datasets \n",
    "research_data = pd.read_csv('Datasets/BlockChain_Train_csv.csv')\n",
    "research_data.head()"
   ]
  },
  {
   "cell_type": "code",
   "execution_count": 4,
   "metadata": {},
   "outputs": [
    {
     "data": {
      "text/html": [
       "<div>\n",
       "<style scoped>\n",
       "    .dataframe tbody tr th:only-of-type {\n",
       "        vertical-align: middle;\n",
       "    }\n",
       "\n",
       "    .dataframe tbody tr th {\n",
       "        vertical-align: top;\n",
       "    }\n",
       "\n",
       "    .dataframe thead th {\n",
       "        text-align: right;\n",
       "    }\n",
       "</style>\n",
       "<table border=\"1\" class=\"dataframe\">\n",
       "  <thead>\n",
       "    <tr style=\"text-align: right;\">\n",
       "      <th></th>\n",
       "      <th>Date</th>\n",
       "      <th>Close</th>\n",
       "      <th>USD_Exchange_Trade_Volume</th>\n",
       "      <th>Bitcoins_in_circulation</th>\n",
       "      <th>MarketCap</th>\n",
       "      <th>BlockSize</th>\n",
       "      <th>AvgBlockSize</th>\n",
       "      <th>Orphaned_Block</th>\n",
       "      <th>TransactionsPerBlock</th>\n",
       "      <th>MedianTransactCnfmTime</th>\n",
       "      <th>...</th>\n",
       "      <th>USD/JPY</th>\n",
       "      <th>USD/CHF</th>\n",
       "      <th>USD/KRW</th>\n",
       "      <th>USD/GBP</th>\n",
       "      <th>EUR/KRW</th>\n",
       "      <th>USD/CNY</th>\n",
       "      <th>Google Trends Interest</th>\n",
       "      <th>GTrends Normalized</th>\n",
       "      <th>US Federal funds rate</th>\n",
       "      <th>Breakeven Inflation Rate</th>\n",
       "    </tr>\n",
       "  </thead>\n",
       "  <tbody>\n",
       "    <tr>\n",
       "      <th>1768</th>\n",
       "      <td>9-Sep-18</td>\n",
       "      <td>6286.43</td>\n",
       "      <td>291261346.9</td>\n",
       "      <td>17259100.0</td>\n",
       "      <td>1.080000e+11</td>\n",
       "      <td>181951.87</td>\n",
       "      <td>0.62</td>\n",
       "      <td>0</td>\n",
       "      <td>1158.97</td>\n",
       "      <td>7.03</td>\n",
       "      <td>...</td>\n",
       "      <td>111.01</td>\n",
       "      <td>0.97</td>\n",
       "      <td>1128.55</td>\n",
       "      <td>0.77</td>\n",
       "      <td>1305.90</td>\n",
       "      <td>6.84</td>\n",
       "      <td>54</td>\n",
       "      <td>0.54</td>\n",
       "      <td>1.92</td>\n",
       "      <td>2.10</td>\n",
       "    </tr>\n",
       "    <tr>\n",
       "      <th>1769</th>\n",
       "      <td>11-Sep-18</td>\n",
       "      <td>6296.32</td>\n",
       "      <td>290980772.8</td>\n",
       "      <td>17262550.0</td>\n",
       "      <td>1.090000e+11</td>\n",
       "      <td>182206.04</td>\n",
       "      <td>0.94</td>\n",
       "      <td>0</td>\n",
       "      <td>1684.90</td>\n",
       "      <td>10.53</td>\n",
       "      <td>...</td>\n",
       "      <td>111.59</td>\n",
       "      <td>0.97</td>\n",
       "      <td>1125.80</td>\n",
       "      <td>0.77</td>\n",
       "      <td>1304.82</td>\n",
       "      <td>6.88</td>\n",
       "      <td>65</td>\n",
       "      <td>0.65</td>\n",
       "      <td>1.92</td>\n",
       "      <td>2.12</td>\n",
       "    </tr>\n",
       "    <tr>\n",
       "      <th>1770</th>\n",
       "      <td>13-Sep-18</td>\n",
       "      <td>6450.18</td>\n",
       "      <td>321882304.6</td>\n",
       "      <td>17266500.0</td>\n",
       "      <td>1.110000e+11</td>\n",
       "      <td>182446.38</td>\n",
       "      <td>0.82</td>\n",
       "      <td>0</td>\n",
       "      <td>1582.49</td>\n",
       "      <td>8.08</td>\n",
       "      <td>...</td>\n",
       "      <td>111.86</td>\n",
       "      <td>0.97</td>\n",
       "      <td>1120.89</td>\n",
       "      <td>0.76</td>\n",
       "      <td>1309.12</td>\n",
       "      <td>6.86</td>\n",
       "      <td>65</td>\n",
       "      <td>0.65</td>\n",
       "      <td>1.92</td>\n",
       "      <td>2.10</td>\n",
       "    </tr>\n",
       "    <tr>\n",
       "      <th>1771</th>\n",
       "      <td>15-Sep-18</td>\n",
       "      <td>6518.66</td>\n",
       "      <td>360631436.3</td>\n",
       "      <td>17269900.0</td>\n",
       "      <td>1.130000e+11</td>\n",
       "      <td>182696.55</td>\n",
       "      <td>0.79</td>\n",
       "      <td>0</td>\n",
       "      <td>1507.65</td>\n",
       "      <td>9.03</td>\n",
       "      <td>...</td>\n",
       "      <td>112.06</td>\n",
       "      <td>0.97</td>\n",
       "      <td>1121.43</td>\n",
       "      <td>0.77</td>\n",
       "      <td>1304.73</td>\n",
       "      <td>6.87</td>\n",
       "      <td>50</td>\n",
       "      <td>0.50</td>\n",
       "      <td>1.92</td>\n",
       "      <td>2.10</td>\n",
       "    </tr>\n",
       "    <tr>\n",
       "      <th>1772</th>\n",
       "      <td>17-Sep-18</td>\n",
       "      <td>6400.60</td>\n",
       "      <td>181083665.0</td>\n",
       "      <td>17273325.0</td>\n",
       "      <td>1.110000e+11</td>\n",
       "      <td>182906.28</td>\n",
       "      <td>0.91</td>\n",
       "      <td>0</td>\n",
       "      <td>1778.90</td>\n",
       "      <td>9.37</td>\n",
       "      <td>...</td>\n",
       "      <td>111.98</td>\n",
       "      <td>0.96</td>\n",
       "      <td>1124.70</td>\n",
       "      <td>0.76</td>\n",
       "      <td>1314.71</td>\n",
       "      <td>6.88</td>\n",
       "      <td>58</td>\n",
       "      <td>0.58</td>\n",
       "      <td>1.92</td>\n",
       "      <td>2.10</td>\n",
       "    </tr>\n",
       "  </tbody>\n",
       "</table>\n",
       "<p>5 rows × 65 columns</p>\n",
       "</div>"
      ],
      "text/plain": [
       "           Date    Close  USD_Exchange_Trade_Volume  Bitcoins_in_circulation  \\\n",
       "1768   9-Sep-18  6286.43                291261346.9               17259100.0   \n",
       "1769  11-Sep-18  6296.32                290980772.8               17262550.0   \n",
       "1770  13-Sep-18  6450.18                321882304.6               17266500.0   \n",
       "1771  15-Sep-18  6518.66                360631436.3               17269900.0   \n",
       "1772  17-Sep-18  6400.60                181083665.0               17273325.0   \n",
       "\n",
       "         MarketCap  BlockSize  AvgBlockSize  Orphaned_Block  \\\n",
       "1768  1.080000e+11  181951.87          0.62               0   \n",
       "1769  1.090000e+11  182206.04          0.94               0   \n",
       "1770  1.110000e+11  182446.38          0.82               0   \n",
       "1771  1.130000e+11  182696.55          0.79               0   \n",
       "1772  1.110000e+11  182906.28          0.91               0   \n",
       "\n",
       "      TransactionsPerBlock  MedianTransactCnfmTime            ...             \\\n",
       "1768               1158.97                    7.03            ...              \n",
       "1769               1684.90                   10.53            ...              \n",
       "1770               1582.49                    8.08            ...              \n",
       "1771               1507.65                    9.03            ...              \n",
       "1772               1778.90                    9.37            ...              \n",
       "\n",
       "      USD/JPY  USD/CHF  USD/KRW  USD/GBP  EUR/KRW  USD/CNY  \\\n",
       "1768   111.01     0.97  1128.55     0.77  1305.90     6.84   \n",
       "1769   111.59     0.97  1125.80     0.77  1304.82     6.88   \n",
       "1770   111.86     0.97  1120.89     0.76  1309.12     6.86   \n",
       "1771   112.06     0.97  1121.43     0.77  1304.73     6.87   \n",
       "1772   111.98     0.96  1124.70     0.76  1314.71     6.88   \n",
       "\n",
       "      Google Trends Interest  GTrends Normalized  US Federal funds rate  \\\n",
       "1768                      54                0.54                   1.92   \n",
       "1769                      65                0.65                   1.92   \n",
       "1770                      65                0.65                   1.92   \n",
       "1771                      50                0.50                   1.92   \n",
       "1772                      58                0.58                   1.92   \n",
       "\n",
       "      Breakeven Inflation Rate  \n",
       "1768                      2.10  \n",
       "1769                      2.12  \n",
       "1770                      2.10  \n",
       "1771                      2.10  \n",
       "1772                      2.10  \n",
       "\n",
       "[5 rows x 65 columns]"
      ]
     },
     "execution_count": 4,
     "metadata": {},
     "output_type": "execute_result"
    }
   ],
   "source": [
    "research_data.tail()"
   ]
  },
  {
   "cell_type": "code",
   "execution_count": 5,
   "metadata": {},
   "outputs": [],
   "source": [
    "TIME_STEPS = 5\n",
    "BATCH_SIZE_OUT = 32 # 16 was better\n",
    "LR = 0.005\n",
    "# epochs = 150\n",
    "EPOCHS = 50"
   ]
  },
  {
   "cell_type": "code",
   "execution_count": 6,
   "metadata": {},
   "outputs": [
    {
     "name": "stdout",
     "output_type": "stream",
     "text": [
      "Train and Test size 1418 355\n"
     ]
    }
   ],
   "source": [
    "# Normalize and convert DataFrame into ndArray\n",
    "# train_cols = [\"Open\",\"High\",\"Low\",\"Close\",\"Volume USD\",\"Popularity_Normalized\"]\n",
    "#train_cols = [\"Close\",\"TransactionsPerBlock\",\"USD_Exchange_Trade_Volume\",\"BlockSize_d\",\"Total_Number_of_Transactions_d\",\"Estimated_Transaction_Value_USD\"]\n",
    "train_cols = [\"Close\"]\n",
    "\n",
    "df_train, df_test = train_test_split(research_data, train_size=0.8, test_size=0.2, shuffle=False)\n",
    "print(\"Train and Test size\", len(df_train), len(df_test))\n",
    "\n",
    "# scale the feature MinMax, build array\n",
    "x = df_train.loc[:,train_cols].values\n",
    "min_max_scaler = MinMaxScaler()\n",
    "x_train_out = min_max_scaler.fit_transform(x)\n",
    "x_test_out = min_max_scaler.transform(df_test.loc[:,train_cols])\n"
   ]
  },
  {
   "cell_type": "code",
   "execution_count": 7,
   "metadata": {},
   "outputs": [],
   "source": [
    "def build_timeseries(mat, y_col_index):\n",
    "    # y_col_index is the index of column that would act as output column\n",
    "    # total number of time-series samples would be len(mat) - TIME_STEPS\n",
    "    dim_0 = mat.shape[0] - TIME_STEPS\n",
    "    dim_1 = mat.shape[1]\n",
    "    x = np.zeros((dim_0, TIME_STEPS, dim_1))\n",
    "    y = np.zeros((dim_0,))\n",
    "    \n",
    "#     for i in tqdm_notebook(range(dim_0)):\n",
    "#         x[i] = mat[i:TIME_STEPS+i]\n",
    "#         y[i] = mat[TIME_STEPS+i, y_col_index]\n",
    "#     print(\"length of time-series i/o\",x.shape,y.shape)\n",
    "    for i in range(dim_0):\n",
    "        x[i] = mat[i:TIME_STEPS+i]\n",
    "        y[i] = mat[TIME_STEPS+i, y_col_index]\n",
    "    #print(\"length of time-series i/o\",x.shape,y.shape)\n",
    "    return x, y"
   ]
  },
  {
   "cell_type": "code",
   "execution_count": 8,
   "metadata": {},
   "outputs": [],
   "source": [
    "def trim_dataset(mat, batch_size):\n",
    "    \"\"\"\n",
    "    trims dataset to a size that's divisible by BATCH_SIZE_OUT\n",
    "    \"\"\"\n",
    "    no_of_rows_drop = mat.shape[0]%batch_size\n",
    "    if(no_of_rows_drop > 0):\n",
    "        return mat[:-no_of_rows_drop]\n",
    "    else:\n",
    "        return mat"
   ]
  },
  {
   "cell_type": "code",
   "execution_count": 9,
   "metadata": {},
   "outputs": [],
   "source": [
    "def load_data(x_train, x_test, batch_size):\n",
    "    x_t, y_t = build_timeseries(x_train, 0) # index of output (3)\n",
    "    x_t = trim_dataset(x_t, batch_size)\n",
    "    y_t = trim_dataset(y_t, batch_size)\n",
    "    x_temp, y_temp = build_timeseries(x_test, 0) # index of output (3)\n",
    "    x_val, x_test_t = np.split(trim_dataset(x_temp, batch_size),2)\n",
    "    y_val, y_test_t = np.split(trim_dataset(y_temp, batch_size),2)\n",
    "    \n",
    "    return [x_t, y_t, x_val, x_test_t, y_val, y_test_t]"
   ]
  },
  {
   "cell_type": "code",
   "execution_count": 10,
   "metadata": {},
   "outputs": [],
   "source": [
    "def adam_optimizer():\n",
    "    return Adam(lr=0.0002, beta_1=0.5)"
   ]
  },
  {
   "cell_type": "code",
   "execution_count": 11,
   "metadata": {},
   "outputs": [
    {
     "name": "stdout",
     "output_type": "stream",
     "text": [
      "_________________________________________________________________\n",
      "Layer (type)                 Output Shape              Param #   \n",
      "=================================================================\n",
      "lstm_1 (LSTM)                (32, 16)                  1152      \n",
      "_________________________________________________________________\n",
      "dense_1 (Dense)              (32, 8)                   136       \n",
      "_________________________________________________________________\n",
      "dropout_1 (Dropout)          (32, 8)                   0         \n",
      "_________________________________________________________________\n",
      "dense_2 (Dense)              (32, 1)                   9         \n",
      "=================================================================\n",
      "Total params: 1,297\n",
      "Trainable params: 1,297\n",
      "Non-trainable params: 0\n",
      "_________________________________________________________________\n"
     ]
    }
   ],
   "source": [
    "def create_generator():\n",
    "#     generator=Sequential()\n",
    "#     generator.add(Dense(units=128,input_dim=8))\n",
    "#     generator.add(LeakyReLU(0.2))\n",
    "    \n",
    "#     generator.add(Dense(units=256))\n",
    "#     generator.add(LeakyReLU(0.2))\n",
    "    \n",
    "#     generator.add(Dense(units=512))\n",
    "#     generator.add(LeakyReLU(0.2))\n",
    "    \n",
    "#     generator.add(Dense(units=8, activation='tanh'))\n",
    "    \n",
    "#     #generator.compile(loss='binary_crossentropy', optimizer=adam_optimizer(), metrics=['accuracy'])\n",
    "#     generator.compile(loss='binary_crossentropy', optimizer='adam', metrics=['accuracy'])\n",
    "\n",
    "    # 6 below = x_t.shape[2]\n",
    "    generator = Sequential()\n",
    "    #generator.add(LSTM(16, batch_input_shape=(BATCH_SIZE_OUT, TIME_STEPS, 6), dropout=0.0, recurrent_dropout=0.0, stateful=True, kernel_initializer='random_uniform', return_sequences=False)) \n",
    "    # stateful = true breaks the model (https://github.com/keras-team/keras/issues/9385)\n",
    "    generator.add(LSTM(16, batch_input_shape=(BATCH_SIZE_OUT, TIME_STEPS, 1), dropout=0.0, recurrent_dropout=0.0, kernel_initializer='random_uniform', return_sequences=False)) \n",
    "    generator.add(Dense(8,activation='relu'))\n",
    "    generator.add(Dropout(0.7))\n",
    "    #generator.add(LSTM(8, return_sequences=False))\n",
    "    generator.add(Dense(1,activation='sigmoid'))\n",
    "    #generator.add(Reshape((5, 6)))\n",
    "    optimizer = RMSprop(lr=LR, decay=3e-8)\n",
    "    #generator.compile(loss='mean_squared_error', optimizer='adam', metrics=['accuracy'])\n",
    "    generator.compile(loss='mean_squared_error', optimizer=optimizer, metrics=['accuracy'])\n",
    "\n",
    "\n",
    "    return generator\n",
    "g=create_generator()\n",
    "g.summary()"
   ]
  },
  {
   "cell_type": "code",
   "execution_count": 12,
   "metadata": {},
   "outputs": [
    {
     "name": "stdout",
     "output_type": "stream",
     "text": [
      "_________________________________________________________________\n",
      "Layer (type)                 Output Shape              Param #   \n",
      "=================================================================\n",
      "dense_3 (Dense)              (155, 5, 512)             1024      \n",
      "_________________________________________________________________\n",
      "leaky_re_lu_1 (LeakyReLU)    (155, 5, 512)             0         \n",
      "_________________________________________________________________\n",
      "dropout_2 (Dropout)          (155, 5, 512)             0         \n",
      "_________________________________________________________________\n",
      "dense_4 (Dense)              (155, 5, 256)             131328    \n",
      "_________________________________________________________________\n",
      "leaky_re_lu_2 (LeakyReLU)    (155, 5, 256)             0         \n",
      "_________________________________________________________________\n",
      "dropout_3 (Dropout)          (155, 5, 256)             0         \n",
      "_________________________________________________________________\n",
      "dense_5 (Dense)              (155, 5, 128)             32896     \n",
      "_________________________________________________________________\n",
      "leaky_re_lu_3 (LeakyReLU)    (155, 5, 128)             0         \n",
      "_________________________________________________________________\n",
      "dense_6 (Dense)              (155, 5, 1)               129       \n",
      "=================================================================\n",
      "Total params: 165,377\n",
      "Trainable params: 165,377\n",
      "Non-trainable params: 0\n",
      "_________________________________________________________________\n"
     ]
    }
   ],
   "source": [
    "def create_discriminator():\n",
    "    optimizer = RMSprop(lr=0.0002, decay=6e-8)\n",
    "\n",
    "    discriminator=Sequential()\n",
    "    #discriminator.add(Dense(units=512, batch_input_shape=(BATCH_SIZE_OUT, TIME_STEPS, 1)))\n",
    "    discriminator.add(Dense(units=512, batch_input_shape=(155, TIME_STEPS, 1)))\n",
    "    \n",
    "    #discriminator.add(Dense(units=512,input_dim=6))\n",
    "    #discriminator.add(Dense(units=512,input_shape=(BATCH_SIZE_OUT, TIME_STEPS, 6)))\n",
    "    #discriminator.add(Dense(units=512,input_shape=(TIME_STEPS, 6)))\n",
    "    #discriminator.add(Dense(units=512))\n",
    "    discriminator.add(LeakyReLU(0.2))\n",
    "    discriminator.add(Dropout(0.3))\n",
    "       \n",
    "    \n",
    "    discriminator.add(Dense(units=256))\n",
    "    discriminator.add(LeakyReLU(0.2))\n",
    "    discriminator.add(Dropout(0.3))\n",
    "       \n",
    "    discriminator.add(Dense(units=128))\n",
    "    discriminator.add(LeakyReLU(0.2))\n",
    "    \n",
    "    #discriminator.add(Reshape((5, 1)))\n",
    "    \n",
    "    discriminator.add(Dense(units=1, activation='sigmoid'))\n",
    "    \n",
    "    discriminator.compile(loss='binary_crossentropy', optimizer=optimizer, metrics=['accuracy'])\n",
    "\n",
    "#     discriminator = Sequential()\n",
    "#     discriminator.add(LSTM(16, batch_input_shape=(BATCH_SIZE_OUT, TIME_STEPS, 6), dropout=0.0, recurrent_dropout=0.0, kernel_initializer='random_uniform', return_sequences=False)) \n",
    "#     discriminator.add(Dense(8,activation='relu'))\n",
    "#     discriminator.add(Dropout(0.7))\n",
    "#     discriminator.add(Dense(1,activation='sigmoid'))\n",
    "\n",
    "#     discriminator.compile(loss='mean_squared_error', optimizer='adam', metrics=['accuracy'])\n",
    "    \n",
    "    return discriminator\n",
    "d =create_discriminator()\n",
    "d.summary()"
   ]
  },
  {
   "cell_type": "code",
   "execution_count": 13,
   "metadata": {},
   "outputs": [
    {
     "name": "stdout",
     "output_type": "stream",
     "text": [
      "_________________________________________________________________\n",
      "Layer (type)                 Output Shape              Param #   \n",
      "=================================================================\n",
      "input_1 (InputLayer)         (None, 5, 1)              0         \n",
      "_________________________________________________________________\n",
      "sequential_1 (Sequential)    multiple                  1297      \n",
      "_________________________________________________________________\n",
      "sequential_2 (Sequential)    multiple                  165377    \n",
      "=================================================================\n",
      "Total params: 166,674\n",
      "Trainable params: 1,297\n",
      "Non-trainable params: 165,377\n",
      "_________________________________________________________________\n"
     ]
    }
   ],
   "source": [
    "def create_gan(discriminator, generator):\n",
    "    optimizer = RMSprop(lr=0.0001, decay=3e-8)\n",
    "    discriminator.trainable=False\n",
    "    gan_input = Input(shape=(TIME_STEPS, 1)) # x_t.shape[2] = 6\n",
    "    #Input(shape=(None, latent_dim))\n",
    "    x = generator(gan_input)\n",
    "    gan_output= discriminator(x)\n",
    "    gan = Model(inputs=gan_input, outputs=gan_output)\n",
    "    gan.compile(loss='binary_crossentropy', optimizer=optimizer, metrics=['accuracy'])\n",
    "    return gan\n",
    "gan = create_gan(d,g)\n",
    "gan.summary()"
   ]
  },
  {
   "cell_type": "code",
   "execution_count": 14,
   "metadata": {},
   "outputs": [],
   "source": [
    "def create_gan2(d, g):\n",
    "    optimizer = RMSprop(lr=0.0001, decay=3e-8)\n",
    "    AM = Sequential()\n",
    "    AM.add(g)\n",
    "    AM.add(d)\n",
    "    AM.compile(loss='binary_crossentropy', optimizer=optimizer,\\\n",
    "        metrics=['accuracy'])\n",
    "    return AM\n",
    "#gan2 = create_gan2(d,g)\n",
    "#gan2.summary()"
   ]
  },
  {
   "cell_type": "code",
   "execution_count": 15,
   "metadata": {},
   "outputs": [],
   "source": [
    "import keras.backend as K\n",
    "\n",
    "adversarial_loss = []\n",
    "discrimator_loss = []\n",
    "gen_samples = []\n",
    "\n",
    "#K.clear_session()\n",
    "generator = create_generator()\n",
    "discriminator = create_discriminator()\n",
    "gan = create_gan(discriminator, generator)\n",
    "\n",
    "def training(epochs=1, batch_size=128):\n",
    "    global adversarial_loss\n",
    "    global discrimator_loss\n",
    "    global gen_samples\n",
    "    \n",
    "    global generator\n",
    "    global discriminator\n",
    "    global gan\n",
    "    \n",
    "    #Loading the data\n",
    "    #(X_train, y_train, X_test, y_test) = load_data()\n",
    "    (X_train, y_train, X_val, X_test, y_val, y_test) = load_data(x_train_out, x_test_out, BATCH_SIZE_OUT)\n",
    "    batch_count = X_train.shape[0] / batch_size\n",
    "    \n",
    "    # Creating GAN\n",
    "    # generator = create_generator()\n",
    "    # discriminator = create_discriminator()\n",
    "    # gan = create_gan(discriminator, generator)\n",
    "    #gan = create_gan2(discriminator, generator)\n",
    "    \n",
    "    for e in range(1, epochs+1 ):\n",
    "        print(\"Epoch %d\" %e)\n",
    "        for i in tqdm(range(batch_size)):\n",
    "            #generate  random noise as an input  to  initialize the  generator\n",
    "            #noise = np.random.normal(0,1, [BATCH_SIZE_OUT, TIME_STEPS, X_train.shape[2]])\n",
    "            noise = np.float32(np.random.normal(size=[BATCH_SIZE_OUT, TIME_STEPS, X_train.shape[2]]))\n",
    "            \n",
    "            # Generate fake prices from noised input\n",
    "            generated_prices = generator.predict(noise)\n",
    "            \n",
    "            # Get a random set of real prices\n",
    "            prices_batch = X_train[np.random.randint(low=0,high=X_train.shape[0],size=batch_size)]\n",
    "            \n",
    "            \n",
    "            dim_0 = generated_prices.shape[0] - TIME_STEPS\n",
    "            dim_1 = generated_prices.shape[1]\n",
    "            gen_prices = np.zeros((dim_0, TIME_STEPS, 1))\n",
    "\n",
    "            #print('Shapes 1')\n",
    "            #print(noise.shape)\n",
    "            #print(prices_batch.shape)\n",
    "            #print(generated_prices.shape)     \n",
    "            #print(gen_prices.shape)\n",
    "            #print(prices_batch)\n",
    "            #print(generated_prices)\n",
    "            \n",
    "            #Construct different batches of real and fake data \n",
    "            X = np.concatenate([prices_batch, gen_prices])\n",
    "            \n",
    "            # Labels for generated and real data\n",
    "            #y_dis = np.zeros(2*batch_size)\n",
    "            #y_dis = np.zeros(shape=(2*BATCH_SIZE_OUT, TIME_STEPS, X_train.shape[2]))\n",
    "            y_dis = np.zeros(shape=(X.shape[0], TIME_STEPS, X_train.shape[2]))\n",
    "            #y_dis[:batch_size]=0.9\n",
    "            y_dis[:int((X.shape[0]/2))]=0.9\n",
    "            #y_dis[0,:,batch_size]=0.9\n",
    "            \n",
    "            #print('Shapes 2')\n",
    "            #print(X.shape)\n",
    "            #print(y_dis.shape)\n",
    "            #print(y_dis)\n",
    "            \n",
    "            #Pre train discriminator on fake and real data before starting the gan. \n",
    "            discriminator.trainable = True\n",
    "            d_loss = discriminator.train_on_batch(X, y_dis)\n",
    "            \n",
    "            #Tricking the noised input of the Generator as real data\n",
    "            #noise = np.random.normal(0,1, [batch_size, 8])\n",
    "            #y_gen = np.ones(batch_size)\n",
    "            noise = np.float32(np.random.normal(size=[BATCH_SIZE_OUT, TIME_STEPS, X_train.shape[2]]))\n",
    "            #y_gen = np.ones(shape=(noise.shape[0], TIME_STEPS, X_train.shape[2]))\n",
    "            y_gen = np.ones(BATCH_SIZE_OUT)\n",
    "            \n",
    "            # During the training of gan, \n",
    "            # the weights of discriminator should be fixed. \n",
    "            #We can enforce that by setting the trainable flag\n",
    "            discriminator.trainable=False\n",
    "            \n",
    "            #print('Shapes 3')\n",
    "            #print(noise.shape)\n",
    "            #print(y_gen.shape)\n",
    "            \n",
    "            #training the GAN by alternating the training of the Discriminator \n",
    "            #and training the chained GAN model with Discriminator’s weights freezed.\n",
    "            a_loss = gan.train_on_batch(noise, y_gen)\n",
    "            \n",
    "            if i == (batch_size-1):\n",
    "                log_mesg = \"%d: [D loss: %f, acc: %f]\" % (e, d_loss[0], d_loss[1])\n",
    "                log_mesg = \"%s  [A loss: %f, acc: %f]\" % (log_mesg, a_loss[0], a_loss[1])\n",
    "                print(log_mesg)\n",
    "                \n",
    "            discrimator_loss.append(d_loss)\n",
    "            adversarial_loss.append(a_loss)\n",
    "            \n",
    "        if e == 1 or e % 5 == 0:\n",
    "            # generate synthetic dataset\n",
    "            gen_samples_set = []\n",
    "            for batch_idx in range(int(len(X_train) / batch_size)):\n",
    "            # for batch_idx in range(int(len(X_train) / 100)):\n",
    "                # noise= np.random.normal(loc=0, scale=1, size=[100, 100])\n",
    "                #noise= np.random.normal(0,1, [batch_size, 8])\n",
    "                noise = np.float32(np.random.normal(size=[BATCH_SIZE_OUT, TIME_STEPS, X_train.shape[2]]))\n",
    "                generated_data = generator.predict(noise)\n",
    "                gen_samples_set.append(generated_data)\n",
    "\n",
    "            gen_samples = np.vstack(gen_samples_set)"
   ]
  },
  {
   "cell_type": "code",
   "execution_count": 16,
   "metadata": {},
   "outputs": [
    {
     "name": "stderr",
     "output_type": "stream",
     "text": [
      "\r",
      "  0%|          | 0/128 [00:00<?, ?it/s]"
     ]
    },
    {
     "name": "stdout",
     "output_type": "stream",
     "text": [
      "Epoch 1\n",
      "WARNING:tensorflow:Variable *= will be deprecated. Use variable.assign_mul if you want assignment to the variable value or 'x = x * y' if you want a new python Tensor object.\n"
     ]
    },
    {
     "name": "stderr",
     "output_type": "stream",
     "text": [
      "100%|██████████| 128/128 [00:08<00:00, 22.74it/s]\n",
      "  2%|▏         | 2/128 [00:00<00:06, 19.43it/s]"
     ]
    },
    {
     "name": "stdout",
     "output_type": "stream",
     "text": [
      "1: [D loss: 0.670339, acc: 0.358710]  [A loss: 0.562025, acc: 1.000000]\n",
      "Epoch 2\n"
     ]
    },
    {
     "name": "stderr",
     "output_type": "stream",
     "text": [
      "100%|██████████| 128/128 [00:05<00:00, 22.12it/s]\n",
      "  2%|▏         | 2/128 [00:00<00:06, 18.49it/s]"
     ]
    },
    {
     "name": "stdout",
     "output_type": "stream",
     "text": [
      "2: [D loss: 0.681308, acc: 0.374194]  [A loss: 0.612188, acc: 1.000000]\n",
      "Epoch 3\n"
     ]
    },
    {
     "name": "stderr",
     "output_type": "stream",
     "text": [
      "100%|██████████| 128/128 [00:05<00:00, 21.66it/s]\n",
      "  2%|▏         | 2/128 [00:00<00:08, 14.17it/s]"
     ]
    },
    {
     "name": "stdout",
     "output_type": "stream",
     "text": [
      "3: [D loss: 0.689973, acc: 0.325161]  [A loss: 0.557811, acc: 1.000000]\n",
      "Epoch 4\n"
     ]
    },
    {
     "name": "stderr",
     "output_type": "stream",
     "text": [
      "100%|██████████| 128/128 [00:05<00:00, 20.98it/s]\n",
      "  2%|▏         | 2/128 [00:00<00:08, 14.83it/s]"
     ]
    },
    {
     "name": "stdout",
     "output_type": "stream",
     "text": [
      "4: [D loss: 0.684558, acc: 0.357419]  [A loss: 0.575221, acc: 1.000000]\n",
      "Epoch 5\n"
     ]
    },
    {
     "name": "stderr",
     "output_type": "stream",
     "text": [
      "100%|██████████| 128/128 [00:06<00:00, 23.76it/s]\n",
      "  2%|▏         | 2/128 [00:00<00:06, 18.67it/s]"
     ]
    },
    {
     "name": "stdout",
     "output_type": "stream",
     "text": [
      "5: [D loss: 0.677783, acc: 0.339355]  [A loss: 0.578386, acc: 1.000000]\n",
      "Epoch 6\n"
     ]
    },
    {
     "name": "stderr",
     "output_type": "stream",
     "text": [
      "100%|██████████| 128/128 [00:05<00:00, 22.14it/s]\n",
      "  2%|▏         | 2/128 [00:00<00:06, 19.40it/s]"
     ]
    },
    {
     "name": "stdout",
     "output_type": "stream",
     "text": [
      "6: [D loss: 0.679814, acc: 0.332903]  [A loss: 0.576299, acc: 0.968750]\n",
      "Epoch 7\n"
     ]
    },
    {
     "name": "stderr",
     "output_type": "stream",
     "text": [
      "100%|██████████| 128/128 [00:05<00:00, 21.06it/s]\n",
      "  2%|▏         | 3/128 [00:00<00:05, 21.05it/s]"
     ]
    },
    {
     "name": "stdout",
     "output_type": "stream",
     "text": [
      "7: [D loss: 0.668031, acc: 0.341935]  [A loss: 0.545777, acc: 0.968750]\n",
      "Epoch 8\n"
     ]
    },
    {
     "name": "stderr",
     "output_type": "stream",
     "text": [
      "100%|██████████| 128/128 [00:06<00:00, 21.50it/s]\n",
      "  2%|▏         | 2/128 [00:00<00:06, 18.22it/s]"
     ]
    },
    {
     "name": "stdout",
     "output_type": "stream",
     "text": [
      "8: [D loss: 0.681879, acc: 0.316129]  [A loss: 0.567335, acc: 1.000000]\n",
      "Epoch 9\n"
     ]
    },
    {
     "name": "stderr",
     "output_type": "stream",
     "text": [
      "100%|██████████| 128/128 [00:06<00:00, 20.95it/s]\n",
      "  2%|▏         | 2/128 [00:00<00:07, 16.13it/s]"
     ]
    },
    {
     "name": "stdout",
     "output_type": "stream",
     "text": [
      "9: [D loss: 0.653338, acc: 0.309677]  [A loss: 0.514272, acc: 0.937500]\n",
      "Epoch 10\n"
     ]
    },
    {
     "name": "stderr",
     "output_type": "stream",
     "text": [
      "100%|██████████| 128/128 [00:06<00:00, 22.80it/s]"
     ]
    },
    {
     "name": "stdout",
     "output_type": "stream",
     "text": [
      "10: [D loss: 0.652449, acc: 0.361290]  [A loss: 0.439776, acc: 1.000000]\n"
     ]
    },
    {
     "name": "stderr",
     "output_type": "stream",
     "text": [
      "\n"
     ]
    }
   ],
   "source": [
    "#training(400,128)\n",
    "training(10,128)"
   ]
  },
  {
   "cell_type": "code",
   "execution_count": 17,
   "metadata": {},
   "outputs": [],
   "source": [
    "# generated_data = np.transpose(gen_samples)\n",
    "# #print(gen_samples)\n",
    "# #print(generated_data)\n",
    "# #plot the log-returns\n",
    "# gen_ind = 1 # change in function price as well\n",
    "# pd.DataFrame(gen_samples).plot()"
   ]
  },
  {
   "cell_type": "code",
   "execution_count": 18,
   "metadata": {},
   "outputs": [],
   "source": [
    "def get_2D_array_values(arr, idx):\n",
    "    arr_map = []\n",
    "    for i in range(len(arr)):\n",
    "        arr_map.append(arr[i][idx])\n",
    "    \n",
    "    return arr_map"
   ]
  },
  {
   "cell_type": "code",
   "execution_count": 19,
   "metadata": {},
   "outputs": [
    {
     "data": {
      "text/plain": [
       "Text(0,0.5,'Loss')"
      ]
     },
     "execution_count": 19,
     "metadata": {},
     "output_type": "execute_result"
    },
    {
     "data": {
      "image/png": "[encoded data removed]",
      "text/plain": [
       "<Figure size 432x288 with 1 Axes>"
      ]
     },
     "metadata": {},
     "output_type": "display_data"
    }
   ],
   "source": [
    "adversarial_loss_map = get_2D_array_values(adversarial_loss, 0)\n",
    "discrimator_loss_map = get_2D_array_values(discrimator_loss, 0)\n",
    "\n",
    "ax = pd.DataFrame(\n",
    "    {\n",
    "        'Adversarial Loss': adversarial_loss_map,\n",
    "        'Discriminative Loss': discrimator_loss_map,\n",
    "    }\n",
    ").plot(title='Training loss', logy=True)\n",
    "ax.set_xlabel(\"Training iterations\")\n",
    "ax.set_ylabel(\"Loss\")"
   ]
  },
  {
   "cell_type": "code",
   "execution_count": 20,
   "metadata": {},
   "outputs": [
    {
     "data": {
      "text/plain": [
       "Text(0,0.5,'Accuracy')"
      ]
     },
     "execution_count": 20,
     "metadata": {},
     "output_type": "execute_result"
    },
    {
     "data": {
      "image/png": "[encoded data removed]",
      "text/plain": [
       "<Figure size 432x288 with 1 Axes>"
      ]
     },
     "metadata": {},
     "output_type": "display_data"
    }
   ],
   "source": [
    "adversarial_acc_map = get_2D_array_values(adversarial_loss, 1)\n",
    "discrimator_acc_map = get_2D_array_values(discrimator_loss, 1)\n",
    "\n",
    "ax_acc = pd.DataFrame(\n",
    "    {\n",
    "        'Adversarial Accuracy': adversarial_acc_map,\n",
    "        'Discriminative Accuracy': discrimator_acc_map,\n",
    "    }\n",
    ").plot(title='Training loss', logy=True)\n",
    "ax_acc.set_xlabel(\"Training iterations\")\n",
    "ax_acc.set_ylabel(\"Accuracy\")"
   ]
  },
  {
   "cell_type": "code",
   "execution_count": 23,
   "metadata": {},
   "outputs": [
    {
     "name": "stdout",
     "output_type": "stream",
     "text": [
      "(1418, 1)\n",
      "(355, 1)\n",
      "(1408, 5, 1)\n",
      "(160, 5, 1)\n",
      "(160, 5, 1)\n",
      "The Explained Variance: 0.00\n",
      "The Mean Absolute Error: 6.53\n",
      "The Mean Squared Error: 51.20\n",
      "The Root Mean Squared Error: 7.16\n"
     ]
    }
   ],
   "source": [
    "#(X_train2, X_test2, y_train2, y_test2) = load_data_with_test2()\n",
    "(X_train2, y_train2, X_val2, X_test2, y_val2, y_test2) = load_data(x_train_out, x_test_out, BATCH_SIZE_OUT)\n",
    "\n",
    "print(x_train_out.shape)\n",
    "print(x_test_out.shape)\n",
    "\n",
    "print(X_train2.shape)\n",
    "print(X_test2.shape)\n",
    "print(X_val2.shape)\n",
    "\n",
    "prediction_gan = generator.predict(X_test2)\n",
    "\n",
    "# print(\"The Explained Variance: %.2f\" % prediction_gan.score(X_test2, y_test2))  \n",
    "print(\"The Explained Variance: %.2f\" % metrics.explained_variance_score(y_test2, prediction_gan))  \n",
    "print(\"The Mean Absolute Error: %.2f\" % metrics.mean_absolute_error(y_test2, prediction_gan))  \n",
    "#print(\"The Median Absolute Error: %.2f\" % metrics.median_absolute_error(y_test2, prediction_gan)) \n",
    "print(\"The Mean Squared Error: %.2f\" % metrics.mean_squared_error(y_test2, prediction_gan)) \n",
    "print(\"The Root Mean Squared Error: %.2f\" % (np.sqrt(metrics.mean_squared_error(y_test2, prediction_gan))))\n",
    "\n",
    "#generator.predict(X_train)[0]"
   ]
  },
  {
   "cell_type": "code",
   "execution_count": null,
   "metadata": {},
   "outputs": [],
   "source": []
  }
 ],
 "metadata": {
  "kernelspec": {
   "display_name": "Python 3",
   "language": "python",
   "name": "python3"
  },
  "language_info": {
   "codemirror_mode": {
    "name": "ipython",
    "version": 3
   },
   "file_extension": ".py",
   "mimetype": "text/x-python",
   "name": "python",
   "nbconvert_exporter": "python",
   "pygments_lexer": "ipython3",
   "version": "3.5.2"
  }
 },
 "nbformat": 4,
 "nbformat_minor": 2
}
