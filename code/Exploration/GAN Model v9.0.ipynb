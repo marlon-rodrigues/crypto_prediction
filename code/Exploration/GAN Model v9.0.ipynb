{
 "cells": [
  {
   "cell_type": "markdown",
   "metadata": {},
   "source": [
    "# Experimentation Only"
   ]
  },
  {
   "cell_type": "code",
   "execution_count": 1,
   "metadata": {},
   "outputs": [
    {
     "name": "stdout",
     "output_type": "stream",
     "text": [
      "Requirement already satisfied: tqdm in /usr/local/lib/python3.5/dist-packages\n",
      "\u001b[33mYou are using pip version 9.0.3, however version 19.1.1 is available.\n",
      "You should consider upgrading via the 'pip install --upgrade pip' command.\u001b[0m\n"
     ]
    }
   ],
   "source": [
    "import sys\n",
    "!{sys.executable} -m pip install tqdm"
   ]
  },
  {
   "cell_type": "code",
   "execution_count": 2,
   "metadata": {},
   "outputs": [
    {
     "name": "stderr",
     "output_type": "stream",
     "text": [
      "/usr/local/lib/python3.5/dist-packages/sklearn/cross_validation.py:41: DeprecationWarning: This module was deprecated in version 0.18 in favor of the model_selection module into which all the refactored classes and functions are moved. Also note that the interface of the new CV iterators are different from that of this module. This module will be removed in 0.20.\n",
      "  \"This module will be removed in 0.20.\", DeprecationWarning)\n",
      "/usr/local/lib/python3.5/dist-packages/h5py/__init__.py:36: FutureWarning: Conversion of the second argument of issubdtype from `float` to `np.floating` is deprecated. In future, it will be treated as `np.float64 == np.dtype(float).type`.\n",
      "  from ._conv import register_converters as _register_converters\n",
      "Using TensorFlow backend.\n"
     ]
    }
   ],
   "source": [
    "import math\n",
    "import matplotlib.pyplot as plt\n",
    "import pandas as pd\n",
    "import numpy as np\n",
    "import time\n",
    "from datetime import datetime\n",
    "import datetime as dt\n",
    "from mpl_toolkits.mplot3d import Axes3D\n",
    "from tqdm import tqdm, tqdm_notebook\n",
    "%matplotlib inline\n",
    "\n",
    "#For Prediction\n",
    "from sklearn import metrics\n",
    "from sklearn import preprocessing, cross_validation\n",
    "from sklearn.model_selection import train_test_split\n",
    "from sklearn.preprocessing import MinMaxScaler\n",
    "\n",
    "import keras\n",
    "from keras.layers import Dense, Dropout, Input, LSTM, Reshape, Flatten, Activation\n",
    "from keras.models import Model,Sequential\n",
    "from keras.datasets import mnist\n",
    "from tqdm import tqdm\n",
    "from keras.layers.advanced_activations import LeakyReLU\n",
    "from keras.optimizers import Adam, RMSprop"
   ]
  },
  {
   "cell_type": "code",
   "execution_count": 3,
   "metadata": {},
   "outputs": [
    {
     "data": {
      "text/html": [
       "<div>\n",
       "<style scoped>\n",
       "    .dataframe tbody tr th:only-of-type {\n",
       "        vertical-align: middle;\n",
       "    }\n",
       "\n",
       "    .dataframe tbody tr th {\n",
       "        vertical-align: top;\n",
       "    }\n",
       "\n",
       "    .dataframe thead th {\n",
       "        text-align: right;\n",
       "    }\n",
       "</style>\n",
       "<table border=\"1\" class=\"dataframe\">\n",
       "  <thead>\n",
       "    <tr style=\"text-align: right;\">\n",
       "      <th></th>\n",
       "      <th>Unix Timestamp</th>\n",
       "      <th>Date</th>\n",
       "      <th>Symbol</th>\n",
       "      <th>Open</th>\n",
       "      <th>High</th>\n",
       "      <th>Low</th>\n",
       "      <th>Close</th>\n",
       "      <th>Volume</th>\n",
       "    </tr>\n",
       "  </thead>\n",
       "  <tbody>\n",
       "    <tr>\n",
       "      <th>0</th>\n",
       "      <td>1559433600000</td>\n",
       "      <td>2019-06-02 00:00:00</td>\n",
       "      <td>BTCUSD</td>\n",
       "      <td>8566.10</td>\n",
       "      <td>8567.20</td>\n",
       "      <td>8546.38</td>\n",
       "      <td>8567.20</td>\n",
       "      <td>0.899330</td>\n",
       "    </tr>\n",
       "    <tr>\n",
       "      <th>1</th>\n",
       "      <td>1559430000000</td>\n",
       "      <td>2019-06-01 23:00:00</td>\n",
       "      <td>BTCUSD</td>\n",
       "      <td>8587.25</td>\n",
       "      <td>8598.10</td>\n",
       "      <td>8527.58</td>\n",
       "      <td>8566.10</td>\n",
       "      <td>156.493022</td>\n",
       "    </tr>\n",
       "    <tr>\n",
       "      <th>2</th>\n",
       "      <td>1559426400000</td>\n",
       "      <td>2019-06-01 22:00:00</td>\n",
       "      <td>BTCUSD</td>\n",
       "      <td>8598.89</td>\n",
       "      <td>8604.16</td>\n",
       "      <td>8542.44</td>\n",
       "      <td>8587.25</td>\n",
       "      <td>11.841891</td>\n",
       "    </tr>\n",
       "    <tr>\n",
       "      <th>3</th>\n",
       "      <td>1559422800000</td>\n",
       "      <td>2019-06-01 21:00:00</td>\n",
       "      <td>BTCUSD</td>\n",
       "      <td>8543.90</td>\n",
       "      <td>8609.96</td>\n",
       "      <td>8541.67</td>\n",
       "      <td>8598.89</td>\n",
       "      <td>18.957024</td>\n",
       "    </tr>\n",
       "    <tr>\n",
       "      <th>4</th>\n",
       "      <td>1559419200000</td>\n",
       "      <td>2019-06-01 20:00:00</td>\n",
       "      <td>BTCUSD</td>\n",
       "      <td>8538.75</td>\n",
       "      <td>8569.69</td>\n",
       "      <td>8532.23</td>\n",
       "      <td>8543.90</td>\n",
       "      <td>18.051794</td>\n",
       "    </tr>\n",
       "  </tbody>\n",
       "</table>\n",
       "</div>"
      ],
      "text/plain": [
       "   Unix Timestamp                 Date  Symbol     Open     High      Low  \\\n",
       "0   1559433600000  2019-06-02 00:00:00  BTCUSD  8566.10  8567.20  8546.38   \n",
       "1   1559430000000  2019-06-01 23:00:00  BTCUSD  8587.25  8598.10  8527.58   \n",
       "2   1559426400000  2019-06-01 22:00:00  BTCUSD  8598.89  8604.16  8542.44   \n",
       "3   1559422800000  2019-06-01 21:00:00  BTCUSD  8543.90  8609.96  8541.67   \n",
       "4   1559419200000  2019-06-01 20:00:00  BTCUSD  8538.75  8569.69  8532.23   \n",
       "\n",
       "     Close      Volume  \n",
       "0  8567.20    0.899330  \n",
       "1  8566.10  156.493022  \n",
       "2  8587.25   11.841891  \n",
       "3  8598.89   18.957024  \n",
       "4  8543.90   18.051794  "
      ]
     },
     "execution_count": 3,
     "metadata": {},
     "output_type": "execute_result"
    }
   ],
   "source": [
    "# Read Datasets \n",
    "# research_data = pd.read_csv('Datasets/BlockChain_Train_csv.csv')\n",
    "# research_data.head()\n",
    "\n",
    "# Read Datasets \n",
    "research_data = pd.read_csv('Datasets/gemini_BTCUSD_1hr_mod.csv')\n",
    "research_data.head()"
   ]
  },
  {
   "cell_type": "code",
   "execution_count": 4,
   "metadata": {},
   "outputs": [
    {
     "data": {
      "text/html": [
       "<div>\n",
       "<style scoped>\n",
       "    .dataframe tbody tr th:only-of-type {\n",
       "        vertical-align: middle;\n",
       "    }\n",
       "\n",
       "    .dataframe tbody tr th {\n",
       "        vertical-align: top;\n",
       "    }\n",
       "\n",
       "    .dataframe thead th {\n",
       "        text-align: right;\n",
       "    }\n",
       "</style>\n",
       "<table border=\"1\" class=\"dataframe\">\n",
       "  <thead>\n",
       "    <tr style=\"text-align: right;\">\n",
       "      <th></th>\n",
       "      <th>Unix Timestamp</th>\n",
       "      <th>Date</th>\n",
       "      <th>Symbol</th>\n",
       "      <th>Open</th>\n",
       "      <th>High</th>\n",
       "      <th>Low</th>\n",
       "      <th>Close</th>\n",
       "      <th>Volume</th>\n",
       "    </tr>\n",
       "  </thead>\n",
       "  <tbody>\n",
       "    <tr>\n",
       "      <th>31975</th>\n",
       "      <td>1444323600</td>\n",
       "      <td>2015-10-08 17:00:00</td>\n",
       "      <td>BTCUSD</td>\n",
       "      <td>244.25</td>\n",
       "      <td>244.99</td>\n",
       "      <td>244.02</td>\n",
       "      <td>244.99</td>\n",
       "      <td>3.920632</td>\n",
       "    </tr>\n",
       "    <tr>\n",
       "      <th>31976</th>\n",
       "      <td>1444320000</td>\n",
       "      <td>2015-10-08 16:00:00</td>\n",
       "      <td>BTCUSD</td>\n",
       "      <td>244.92</td>\n",
       "      <td>244.92</td>\n",
       "      <td>244.25</td>\n",
       "      <td>244.25</td>\n",
       "      <td>3.895252</td>\n",
       "    </tr>\n",
       "    <tr>\n",
       "      <th>31977</th>\n",
       "      <td>1444316400</td>\n",
       "      <td>2015-10-08 15:00:00</td>\n",
       "      <td>BTCUSD</td>\n",
       "      <td>245.00</td>\n",
       "      <td>245.00</td>\n",
       "      <td>244.92</td>\n",
       "      <td>244.92</td>\n",
       "      <td>3.016926</td>\n",
       "    </tr>\n",
       "    <tr>\n",
       "      <th>31978</th>\n",
       "      <td>1444312800</td>\n",
       "      <td>2015-10-08 14:00:00</td>\n",
       "      <td>BTCUSD</td>\n",
       "      <td>245.00</td>\n",
       "      <td>245.00</td>\n",
       "      <td>244.50</td>\n",
       "      <td>245.00</td>\n",
       "      <td>4.453649</td>\n",
       "    </tr>\n",
       "    <tr>\n",
       "      <th>31979</th>\n",
       "      <td>1444309200</td>\n",
       "      <td>2015-10-08 13:00:00</td>\n",
       "      <td>BTCUSD</td>\n",
       "      <td>0.00</td>\n",
       "      <td>245.00</td>\n",
       "      <td>0.00</td>\n",
       "      <td>245.00</td>\n",
       "      <td>0.606654</td>\n",
       "    </tr>\n",
       "  </tbody>\n",
       "</table>\n",
       "</div>"
      ],
      "text/plain": [
       "       Unix Timestamp                 Date  Symbol    Open    High     Low  \\\n",
       "31975      1444323600  2015-10-08 17:00:00  BTCUSD  244.25  244.99  244.02   \n",
       "31976      1444320000  2015-10-08 16:00:00  BTCUSD  244.92  244.92  244.25   \n",
       "31977      1444316400  2015-10-08 15:00:00  BTCUSD  245.00  245.00  244.92   \n",
       "31978      1444312800  2015-10-08 14:00:00  BTCUSD  245.00  245.00  244.50   \n",
       "31979      1444309200  2015-10-08 13:00:00  BTCUSD    0.00  245.00    0.00   \n",
       "\n",
       "        Close    Volume  \n",
       "31975  244.99  3.920632  \n",
       "31976  244.25  3.895252  \n",
       "31977  244.92  3.016926  \n",
       "31978  245.00  4.453649  \n",
       "31979  245.00  0.606654  "
      ]
     },
     "execution_count": 4,
     "metadata": {},
     "output_type": "execute_result"
    }
   ],
   "source": [
    "research_data.tail()"
   ]
  },
  {
   "cell_type": "code",
   "execution_count": 5,
   "metadata": {},
   "outputs": [],
   "source": [
    "TIME_STEPS = 256\n",
    "BATCH_SIZE_OUT = 20 # 16 was better\n",
    "LR = 0.005\n",
    "# epochs = 150\n",
    "EPOCHS = 50"
   ]
  },
  {
   "cell_type": "code",
   "execution_count": 6,
   "metadata": {},
   "outputs": [
    {
     "name": "stdout",
     "output_type": "stream",
     "text": [
      "Train and Test size 25584 6396\n"
     ]
    }
   ],
   "source": [
    "# Normalize and convert DataFrame into ndArray\n",
    "# train_cols = [\"Open\",\"High\",\"Low\",\"Close\",\"Volume USD\",\"Popularity_Normalized\"]\n",
    "#train_cols = [\"Close\",\"TransactionsPerBlock\",\"USD_Exchange_Trade_Volume\",\"BlockSize_d\",\"Total_Number_of_Transactions_d\",\"Estimated_Transaction_Value_USD\"]\n",
    "train_cols = [\"Close\"]\n",
    "\n",
    "df_train, df_test = train_test_split(research_data, train_size=0.8, test_size=0.2, shuffle=False)\n",
    "print(\"Train and Test size\", len(df_train), len(df_test))\n",
    "\n",
    "# scale the feature MinMax, build array\n",
    "x = df_train.loc[:,train_cols].values\n",
    "min_max_scaler = MinMaxScaler()\n",
    "x_train_out = min_max_scaler.fit_transform(x)\n",
    "x_test_out = min_max_scaler.transform(df_test.loc[:,train_cols])\n"
   ]
  },
  {
   "cell_type": "code",
   "execution_count": 7,
   "metadata": {},
   "outputs": [],
   "source": [
    "def build_timeseries(mat, y_col_index):\n",
    "    # y_col_index is the index of column that would act as output column\n",
    "    # total number of time-series samples would be len(mat) - TIME_STEPS\n",
    "    dim_0 = mat.shape[0] - TIME_STEPS\n",
    "    dim_1 = mat.shape[1]\n",
    "    x = np.zeros((dim_0, TIME_STEPS, dim_1))\n",
    "    y = np.zeros((dim_0,))\n",
    "    \n",
    "#     for i in tqdm_notebook(range(dim_0)):\n",
    "#         x[i] = mat[i:TIME_STEPS+i]\n",
    "#         y[i] = mat[TIME_STEPS+i, y_col_index]\n",
    "#     print(\"length of time-series i/o\",x.shape,y.shape)\n",
    "    for i in range(dim_0):\n",
    "        x[i] = mat[i:TIME_STEPS+i]\n",
    "        y[i] = mat[TIME_STEPS+i, y_col_index]\n",
    "    #print(\"length of time-series i/o\",x.shape,y.shape)\n",
    "    return x, y"
   ]
  },
  {
   "cell_type": "code",
   "execution_count": 8,
   "metadata": {},
   "outputs": [],
   "source": [
    "def trim_dataset(mat, batch_size):\n",
    "    \"\"\"\n",
    "    trims dataset to a size that's divisible by BATCH_SIZE_OUT\n",
    "    \"\"\"\n",
    "    no_of_rows_drop = mat.shape[0]%batch_size\n",
    "    if(no_of_rows_drop > 0):\n",
    "        return mat[:-no_of_rows_drop]\n",
    "    else:\n",
    "        return mat"
   ]
  },
  {
   "cell_type": "code",
   "execution_count": 9,
   "metadata": {},
   "outputs": [],
   "source": [
    "def load_data(x_train, x_test, batch_size):\n",
    "    x_t, y_t = build_timeseries(x_train, 0) # index of output (3)\n",
    "    x_t = trim_dataset(x_t, batch_size)\n",
    "    y_t = trim_dataset(y_t, batch_size)\n",
    "    x_temp, y_temp = build_timeseries(x_test, 0) # index of output (3)\n",
    "    x_val, x_test_t = np.split(trim_dataset(x_temp, batch_size),2)\n",
    "    y_val, y_test_t = np.split(trim_dataset(y_temp, batch_size),2)\n",
    "    \n",
    "    return [x_t, y_t, x_val, x_test_t, y_val, y_test_t]"
   ]
  },
  {
   "cell_type": "code",
   "execution_count": 10,
   "metadata": {},
   "outputs": [],
   "source": [
    "def adam_optimizer():\n",
    "    return Adam(lr=0.0002, beta_1=0.5)"
   ]
  },
  {
   "cell_type": "code",
   "execution_count": 11,
   "metadata": {},
   "outputs": [
    {
     "name": "stdout",
     "output_type": "stream",
     "text": [
      "_________________________________________________________________\n",
      "Layer (type)                 Output Shape              Param #   \n",
      "=================================================================\n",
      "lstm_1 (LSTM)                (20, 16)                  1152      \n",
      "_________________________________________________________________\n",
      "leaky_re_lu_1 (LeakyReLU)    (20, 16)                  0         \n",
      "_________________________________________________________________\n",
      "dropout_1 (Dropout)          (20, 16)                  0         \n",
      "_________________________________________________________________\n",
      "dense_1 (Dense)              (20, 1)                   17        \n",
      "_________________________________________________________________\n",
      "activation_1 (Activation)    (20, 1)                   0         \n",
      "=================================================================\n",
      "Total params: 1,169\n",
      "Trainable params: 1,169\n",
      "Non-trainable params: 0\n",
      "_________________________________________________________________\n"
     ]
    }
   ],
   "source": [
    "def create_generator():\n",
    "#     generator=Sequential()\n",
    "#     generator.add(Dense(units=128,input_dim=8))\n",
    "#     generator.add(LeakyReLU(0.2))\n",
    "    \n",
    "#     generator.add(Dense(units=256))\n",
    "#     generator.add(LeakyReLU(0.2))\n",
    "    \n",
    "#     generator.add(Dense(units=512))\n",
    "#     generator.add(LeakyReLU(0.2))\n",
    "    \n",
    "#     generator.add(Dense(units=8, activation='tanh'))\n",
    "    \n",
    "#     #generator.compile(loss='binary_crossentropy', optimizer=adam_optimizer(), metrics=['accuracy'])\n",
    "#     generator.compile(loss='binary_crossentropy', optimizer='adam', metrics=['accuracy'])\n",
    "\n",
    "    # 6 below = x_t.shape[2]\n",
    "#     generator = Sequential()\n",
    "#     #generator.add(LSTM(16, batch_input_shape=(BATCH_SIZE_OUT, TIME_STEPS, 6), dropout=0.0, recurrent_dropout=0.0, stateful=True, kernel_initializer='random_uniform', return_sequences=False)) \n",
    "#     # stateful = true breaks the model (https://github.com/keras-team/keras/issues/9385)\n",
    "#     generator.add(LSTM(16, batch_input_shape=(BATCH_SIZE_OUT, TIME_STEPS, 1), return_sequences=True)) \n",
    "#     generator.add(Dense(8,activation='relu'))\n",
    "#     generator.add(Dropout(0.7))\n",
    "#     generator.add(LSTM(8, return_sequences=False))\n",
    "#     generator.add(Dense(1,activation='sigmoid'))\n",
    "#     #generator.add(Reshape((TIME_STEPS, 1)))\n",
    "#     optimizer = RMSprop(lr=LR, decay=3e-8)\n",
    "#     #generator.compile(loss='mean_squared_error', optimizer='adam', metrics=['accuracy'])\n",
    "#     generator.compile(loss='mean_squared_error', optimizer=optimizer, metrics=['accuracy'])\n",
    "    \n",
    "    \n",
    "    generator = Sequential()\n",
    "    generator.add(LSTM(16, batch_input_shape=(BATCH_SIZE_OUT, TIME_STEPS, 1), return_sequences=False))\n",
    "    generator.add(LeakyReLU(0.5))\n",
    "    generator.add(Dropout(0.5))\n",
    "    generator.add(Dense(1))\n",
    "    generator.add(Activation('tanh'))\n",
    "    optimizer = RMSprop(lr=0.005, clipvalue=1.)\n",
    "    generator.compile(loss='mean_squared_error', optimizer=optimizer, metrics=['accuracy'])\n",
    "\n",
    "    return generator\n",
    "g=create_generator()\n",
    "g.summary()"
   ]
  },
  {
   "cell_type": "code",
   "execution_count": 12,
   "metadata": {},
   "outputs": [
    {
     "name": "stdout",
     "output_type": "stream",
     "text": [
      "_________________________________________________________________\n",
      "Layer (type)                 Output Shape              Param #   \n",
      "=================================================================\n",
      "dense_2 (Dense)              (32, 256, 16)             32        \n",
      "_________________________________________________________________\n",
      "leaky_re_lu_2 (LeakyReLU)    (32, 256, 16)             0         \n",
      "_________________________________________________________________\n",
      "dropout_2 (Dropout)          (32, 256, 16)             0         \n",
      "_________________________________________________________________\n",
      "dense_3 (Dense)              (32, 256, 8)              136       \n",
      "_________________________________________________________________\n",
      "leaky_re_lu_3 (LeakyReLU)    (32, 256, 8)              0         \n",
      "_________________________________________________________________\n",
      "dropout_3 (Dropout)          (32, 256, 8)              0         \n",
      "_________________________________________________________________\n",
      "dense_4 (Dense)              (32, 256, 1)              9         \n",
      "=================================================================\n",
      "Total params: 177\n",
      "Trainable params: 177\n",
      "Non-trainable params: 0\n",
      "_________________________________________________________________\n"
     ]
    }
   ],
   "source": [
    "def create_discriminator():\n",
    "    optimizer = RMSprop(lr=0.0002, decay=6e-8)\n",
    "\n",
    "    discriminator=Sequential()\n",
    "    #discriminator.add(Dense(units=512, batch_input_shape=(BATCH_SIZE_OUT, TIME_STEPS, 1)))\n",
    "    discriminator.add(Dense(units=16, batch_input_shape=(32, TIME_STEPS, 1)))\n",
    "    \n",
    "    #discriminator.add(Dense(units=512,input_dim=6))\n",
    "    discriminator.add(LeakyReLU(0.5))\n",
    "    discriminator.add(Dropout(0.5))\n",
    "       \n",
    "    \n",
    "#     discriminator.add(Dense(units=256))\n",
    "#     discriminator.add(LeakyReLU(0.2))\n",
    "#     discriminator.add(Dropout(0.3))\n",
    "       \n",
    "    discriminator.add(Dense(units=8))\n",
    "    discriminator.add(LeakyReLU(0.5))\n",
    "    discriminator.add(Dropout(0.5))\n",
    "    \n",
    "    #discriminator.add(Reshape((5, 1)))\n",
    "    \n",
    "    discriminator.add(Dense(units=1, activation='sigmoid'))\n",
    "    \n",
    "    discriminator.compile(loss='binary_crossentropy', optimizer=optimizer, metrics=['accuracy'])\n",
    "\n",
    "#     discriminator = Sequential()\n",
    "#     discriminator.add(LSTM(16, batch_input_shape=(BATCH_SIZE_OUT, TIME_STEPS, 6), dropout=0.0, recurrent_dropout=0.0, kernel_initializer='random_uniform', return_sequences=False)) \n",
    "#     discriminator.add(Dense(8,activation='relu'))\n",
    "#     discriminator.add(Dropout(0.7))\n",
    "#     discriminator.add(Dense(1,activation='sigmoid'))\n",
    "\n",
    "#     discriminator.compile(loss='mean_squared_error', optimizer='adam', metrics=['accuracy'])\n",
    "    \n",
    "    return discriminator\n",
    "d =create_discriminator()\n",
    "d.summary()"
   ]
  },
  {
   "cell_type": "code",
   "execution_count": 13,
   "metadata": {},
   "outputs": [
    {
     "name": "stdout",
     "output_type": "stream",
     "text": [
      "_________________________________________________________________\n",
      "Layer (type)                 Output Shape              Param #   \n",
      "=================================================================\n",
      "input_1 (InputLayer)         (None, 256, 1)            0         \n",
      "_________________________________________________________________\n",
      "sequential_1 (Sequential)    multiple                  1169      \n",
      "_________________________________________________________________\n",
      "sequential_2 (Sequential)    multiple                  177       \n",
      "=================================================================\n",
      "Total params: 1,346\n",
      "Trainable params: 1,169\n",
      "Non-trainable params: 177\n",
      "_________________________________________________________________\n"
     ]
    }
   ],
   "source": [
    "def create_gan(discriminator, generator):\n",
    "    optimizer = RMSprop(lr=0.0001, decay=3e-8)\n",
    "    discriminator.trainable=False\n",
    "    gan_input = Input(shape=(TIME_STEPS, 1)) # x_t.shape[2] = 6\n",
    "    #Input(shape=(None, latent_dim))\n",
    "    x = generator(gan_input)\n",
    "    gan_output= discriminator(x)\n",
    "    gan = Model(inputs=gan_input, outputs=gan_output)\n",
    "    gan.compile(loss='binary_crossentropy', optimizer=optimizer, metrics=['accuracy'])\n",
    "    return gan\n",
    "gan = create_gan(d,g)\n",
    "gan.summary()"
   ]
  },
  {
   "cell_type": "code",
   "execution_count": 14,
   "metadata": {},
   "outputs": [],
   "source": [
    "import keras.backend as K\n",
    "\n",
    "adversarial_loss = []\n",
    "discrimator_loss = []\n",
    "gen_samples = []\n",
    "\n",
    "#K.clear_session()\n",
    "generator = create_generator()\n",
    "discriminator = create_discriminator()\n",
    "gan = create_gan(discriminator, generator)\n",
    "(X_train, y_train, X_val, X_test, y_val, y_test) = load_data(x_train_out, x_test_out, BATCH_SIZE_OUT)\n",
    "\n",
    "def training(epochs=1, batch_size=128):\n",
    "    global adversarial_loss\n",
    "    global discrimator_loss\n",
    "    global gen_samples\n",
    "    \n",
    "    global generator\n",
    "    global discriminator\n",
    "    global gan\n",
    "\n",
    "    global X_train\n",
    "    global y_train\n",
    "    global X_val\n",
    "    global X_test\n",
    "    global y_val\n",
    "    global y_test\n",
    "    \n",
    "    \n",
    "    #Loading the data\n",
    "    #(X_train, y_train, X_test, y_test) = load_data()\n",
    "    #(X_train, y_train, X_val, X_test, y_val, y_test) = load_data(x_train_out, x_test_out, BATCH_SIZE_OUT)\n",
    "    batch_count = X_train.shape[0] / batch_size\n",
    "    \n",
    "    # Creating GAN\n",
    "    # generator = create_generator()\n",
    "    # discriminator = create_discriminator()\n",
    "    # gan = create_gan(discriminator, generator)\n",
    "    #gan = create_gan2(discriminator, generator)\n",
    "    \n",
    "    for e in range(1, epochs+1 ):\n",
    "        print(\"Epoch %d\" %e)\n",
    "        for i in tqdm(range(batch_size)):\n",
    "            #generate  random noise as an input  to  initialize the  generator\n",
    "            #noise = np.random.normal(0,1, [BATCH_SIZE_OUT, TIME_STEPS, X_train.shape[2]])\n",
    "            #noise = np.float32(np.random.normal(size=[BATCH_SIZE_OUT, TIME_STEPS, X_train.shape[2]]))\n",
    "            noise = np.random.normal(0,1, [BATCH_SIZE_OUT, TIME_STEPS, X_train.shape[2]])\n",
    "            \n",
    "            # Generate fake prices from noised input\n",
    "            generated_prices = generator.predict(noise)\n",
    "            \n",
    "            # Get a random set of real prices\n",
    "            prices_batch = X_train[np.random.randint(low=0,high=X_train.shape[0],size=batch_size)]\n",
    "            \n",
    "            \n",
    "            #dim_0 = generated_prices.shape[0] - TIME_STEPS\n",
    "            dim_0 = generated_prices.shape[0]\n",
    "            dim_1 = generated_prices.shape[1]\n",
    "            gen_prices = np.zeros((dim_0, TIME_STEPS, 1))\n",
    "\n",
    "            #print('Shapes 1')\n",
    "            #print(noise.shape)\n",
    "            #print(prices_batch.shape)\n",
    "            #print(generated_prices.shape)     \n",
    "            #print(gen_prices.shape)\n",
    "            #print(prices_batch)\n",
    "            #print(generated_prices)\n",
    "            \n",
    "            #Construct different batches of real and fake data \n",
    "            X = np.concatenate([prices_batch, gen_prices])\n",
    "            \n",
    "            # Labels for generated and real data\n",
    "            #y_dis = np.zeros(2*batch_size)\n",
    "            #y_dis = np.zeros(shape=(2*BATCH_SIZE_OUT, TIME_STEPS, X_train.shape[2]))\n",
    "            y_dis = np.zeros(shape=(X.shape[0], TIME_STEPS, X_train.shape[2]))\n",
    "            #y_dis[:batch_size]=0.9\n",
    "            y_dis[:int((X.shape[0]/2))]=0.9\n",
    "            #y_dis[0,:,batch_size]=0.9\n",
    "            \n",
    "            #print('Shapes 2')\n",
    "            #print(X.shape)\n",
    "            #print(y_dis.shape)\n",
    "            #print(y_dis)\n",
    "            \n",
    "            #Pre train discriminator on fake and real data before starting the gan. \n",
    "            discriminator.trainable = True\n",
    "            d_loss = discriminator.train_on_batch(X, y_dis)\n",
    "            \n",
    "            #Tricking the noised input of the Generator as real data\n",
    "            #noise = np.random.normal(0,1, [batch_size, 8])\n",
    "            #y_gen = np.ones(batch_size)\n",
    "            #noise = np.float32(np.random.normal(size=[BATCH_SIZE_OUT, TIME_STEPS, X_train.shape[2]]))\n",
    "            #y_gen = np.ones(shape=(noise.shape[0], TIME_STEPS, X_train.shape[2]))\n",
    "            y_gen = np.ones(BATCH_SIZE_OUT)\n",
    "            \n",
    "            # During the training of gan, \n",
    "            # the weights of discriminator should be fixed. \n",
    "            #We can enforce that by setting the trainable flag\n",
    "            discriminator.trainable=False\n",
    "            \n",
    "            #print('Shapes 3')\n",
    "            #print(noise.shape)\n",
    "            #print(y_gen.shape)\n",
    "            \n",
    "            #training the GAN by alternating the training of the Discriminator \n",
    "            #and training the chained GAN model with Discriminator’s weights freezed.\n",
    "            a_loss = gan.train_on_batch(noise, y_gen)\n",
    "            \n",
    "            if i == (batch_size-1):\n",
    "                log_mesg = \"%d: [D loss: %f, acc: %f]\" % (e, d_loss[0], d_loss[1])\n",
    "                log_mesg = \"%s  [A loss: %f, acc: %f]\" % (log_mesg, a_loss[0], a_loss[1])\n",
    "                print(log_mesg)\n",
    "                \n",
    "            discrimator_loss.append(d_loss)\n",
    "            adversarial_loss.append(a_loss)\n",
    "            \n",
    "        if e == 1 or e % 5 == 0:\n",
    "            # generate synthetic dataset\n",
    "            gen_samples_set = []\n",
    "            for batch_idx in range(int(len(X_train) / batch_size)):\n",
    "            # for batch_idx in range(int(len(X_train) / 100)):\n",
    "                # noise= np.random.normal(loc=0, scale=1, size=[100, 100])\n",
    "                #noise= np.random.normal(0,1, [batch_size, 8])\n",
    "                #noise = np.float32(np.random.normal(size=[BATCH_SIZE_OUT, TIME_STEPS, X_train.shape[2]]))\n",
    "                noise = np.random.normal(0,1, [BATCH_SIZE_OUT, TIME_STEPS, X_train.shape[2]])\n",
    "                generated_data = generator.predict(noise)\n",
    "                gen_samples_set.append(generated_data)\n",
    "\n",
    "            gen_samples = np.vstack(gen_samples_set)"
   ]
  },
  {
   "cell_type": "code",
   "execution_count": null,
   "metadata": {},
   "outputs": [
    {
     "name": "stderr",
     "output_type": "stream",
     "text": [
      "\r",
      "  0%|          | 0/12 [00:00<?, ?it/s]"
     ]
    },
    {
     "name": "stdout",
     "output_type": "stream",
     "text": [
      "Epoch 1\n",
      "WARNING:tensorflow:Variable *= will be deprecated. Use variable.assign_mul if you want assignment to the variable value or 'x = x * y' if you want a new python Tensor object.\n"
     ]
    },
    {
     "name": "stderr",
     "output_type": "stream",
     "text": [
      "100%|██████████| 12/12 [00:04<00:00,  5.37it/s]\n"
     ]
    },
    {
     "name": "stdout",
     "output_type": "stream",
     "text": [
      "1: [D loss: 0.706910, acc: 0.366333]  [A loss: 0.694595, acc: 0.450000]\n"
     ]
    },
    {
     "name": "stderr",
     "output_type": "stream",
     "text": [
      "  8%|▊         | 1/12 [00:00<00:01,  6.29it/s]"
     ]
    },
    {
     "name": "stdout",
     "output_type": "stream",
     "text": [
      "Epoch 2\n"
     ]
    },
    {
     "name": "stderr",
     "output_type": "stream",
     "text": [
      "100%|██████████| 12/12 [00:01<00:00,  7.73it/s]\n",
      "  8%|▊         | 1/12 [00:00<00:01,  7.19it/s]"
     ]
    },
    {
     "name": "stdout",
     "output_type": "stream",
     "text": [
      "2: [D loss: 0.698098, acc: 0.447632]  [A loss: 0.701248, acc: 0.150000]\n",
      "Epoch 3\n"
     ]
    },
    {
     "name": "stderr",
     "output_type": "stream",
     "text": [
      "100%|██████████| 12/12 [00:01<00:00,  7.84it/s]\n",
      "  8%|▊         | 1/12 [00:00<00:01,  6.56it/s]"
     ]
    },
    {
     "name": "stdout",
     "output_type": "stream",
     "text": [
      "3: [D loss: 0.699982, acc: 0.468750]  [A loss: 0.704931, acc: 0.050000]\n",
      "Epoch 4\n"
     ]
    },
    {
     "name": "stderr",
     "output_type": "stream",
     "text": [
      "100%|██████████| 12/12 [00:01<00:00,  7.71it/s]\n",
      "  8%|▊         | 1/12 [00:00<00:01,  6.66it/s]"
     ]
    },
    {
     "name": "stdout",
     "output_type": "stream",
     "text": [
      "4: [D loss: 0.696204, acc: 0.472900]  [A loss: 0.707830, acc: 0.200000]\n",
      "Epoch 5\n"
     ]
    },
    {
     "name": "stderr",
     "output_type": "stream",
     "text": [
      "100%|██████████| 12/12 [00:01<00:00,  6.54it/s]"
     ]
    },
    {
     "name": "stdout",
     "output_type": "stream",
     "text": [
      "5: [D loss: 0.695107, acc: 0.476196]  [A loss: 0.707883, acc: 0.000000]\n"
     ]
    },
    {
     "name": "stderr",
     "output_type": "stream",
     "text": [
      "\n",
      "  8%|▊         | 1/12 [00:00<00:01,  7.13it/s]"
     ]
    },
    {
     "name": "stdout",
     "output_type": "stream",
     "text": [
      "Epoch 6\n"
     ]
    },
    {
     "name": "stderr",
     "output_type": "stream",
     "text": [
      "100%|██████████| 12/12 [00:01<00:00,  7.76it/s]\n",
      "  8%|▊         | 1/12 [00:00<00:01,  7.10it/s]"
     ]
    },
    {
     "name": "stdout",
     "output_type": "stream",
     "text": [
      "6: [D loss: 0.693366, acc: 0.478760]  [A loss: 0.712452, acc: 0.000000]\n",
      "Epoch 7\n"
     ]
    },
    {
     "name": "stderr",
     "output_type": "stream",
     "text": [
      "100%|██████████| 12/12 [00:01<00:00,  7.80it/s]\n",
      "  8%|▊         | 1/12 [00:00<00:01,  6.96it/s]"
     ]
    },
    {
     "name": "stdout",
     "output_type": "stream",
     "text": [
      "7: [D loss: 0.692764, acc: 0.479248]  [A loss: 0.722237, acc: 0.000000]\n",
      "Epoch 8\n"
     ]
    },
    {
     "name": "stderr",
     "output_type": "stream",
     "text": [
      "100%|██████████| 12/12 [00:01<00:00,  7.66it/s]\n",
      "  8%|▊         | 1/12 [00:00<00:01,  6.08it/s]"
     ]
    },
    {
     "name": "stdout",
     "output_type": "stream",
     "text": [
      "8: [D loss: 0.691230, acc: 0.481323]  [A loss: 0.732936, acc: 0.000000]\n",
      "Epoch 9\n"
     ]
    },
    {
     "name": "stderr",
     "output_type": "stream",
     "text": [
      "100%|██████████| 12/12 [00:02<00:00,  6.34it/s]\n",
      "  0%|          | 0/12 [00:00<?, ?it/s]"
     ]
    },
    {
     "name": "stdout",
     "output_type": "stream",
     "text": [
      "9: [D loss: 0.688739, acc: 0.483032]  [A loss: 0.729110, acc: 0.000000]\n",
      "Epoch 10\n"
     ]
    },
    {
     "name": "stderr",
     "output_type": "stream",
     "text": [
      "100%|██████████| 12/12 [00:01<00:00,  7.73it/s]\n"
     ]
    },
    {
     "name": "stdout",
     "output_type": "stream",
     "text": [
      "10: [D loss: 0.687495, acc: 0.481934]  [A loss: 0.737890, acc: 0.000000]\n"
     ]
    }
   ],
   "source": [
    "#training(400,128)\n",
    "training(50,12)"
   ]
  },
  {
   "cell_type": "code",
   "execution_count": 16,
   "metadata": {},
   "outputs": [],
   "source": [
    "# generated_data = np.transpose(gen_samples)\n",
    "# #print(gen_samples)\n",
    "# #print(generated_data)\n",
    "# #plot the log-returns\n",
    "# gen_ind = 1 # change in function price as well\n",
    "# pd.DataFrame(gen_samples).plot()"
   ]
  },
  {
   "cell_type": "code",
   "execution_count": 17,
   "metadata": {},
   "outputs": [],
   "source": [
    "def get_2D_array_values(arr, idx):\n",
    "    arr_map = []\n",
    "    for i in range(len(arr)):\n",
    "        arr_map.append(arr[i][idx])\n",
    "    \n",
    "    return arr_map"
   ]
  },
  {
   "cell_type": "code",
   "execution_count": 18,
   "metadata": {},
   "outputs": [
    {
     "data": {
      "text/plain": [
       "Text(0,0.5,'Loss')"
      ]
     },
     "execution_count": 18,
     "metadata": {},
     "output_type": "execute_result"
    },
    {
     "data": {
      "image/png": "[encoded data removed]",
      "text/plain": [
       "<Figure size 432x288 with 1 Axes>"
      ]
     },
     "metadata": {},
     "output_type": "display_data"
    }
   ],
   "source": [
    "adversarial_loss_map = get_2D_array_values(adversarial_loss, 0)\n",
    "discrimator_loss_map = get_2D_array_values(discrimator_loss, 0)\n",
    "\n",
    "ax = pd.DataFrame(\n",
    "    {\n",
    "        'Adversarial Loss': adversarial_loss_map,\n",
    "        'Discriminative Loss': discrimator_loss_map,\n",
    "    }\n",
    ").plot(title='Training loss', logy=True)\n",
    "ax.set_xlabel(\"Training iterations\")\n",
    "ax.set_ylabel(\"Loss\")"
   ]
  },
  {
   "cell_type": "code",
   "execution_count": 19,
   "metadata": {},
   "outputs": [
    {
     "data": {
      "text/plain": [
       "Text(0,0.5,'Accuracy')"
      ]
     },
     "execution_count": 19,
     "metadata": {},
     "output_type": "execute_result"
    },
    {
     "data": {
      "image/png": "[encoded data removed]",
      "text/plain": [
       "<Figure size 432x288 with 1 Axes>"
      ]
     },
     "metadata": {},
     "output_type": "display_data"
    }
   ],
   "source": [
    "adversarial_acc_map = get_2D_array_values(adversarial_loss, 1)\n",
    "discrimator_acc_map = get_2D_array_values(discrimator_loss, 1)\n",
    "\n",
    "ax_acc = pd.DataFrame(\n",
    "    {\n",
    "        'Adversarial Accuracy': adversarial_acc_map,\n",
    "        'Discriminative Accuracy': discrimator_acc_map,\n",
    "    }\n",
    ").plot(title='Training loss', logy=True)\n",
    "ax_acc.set_xlabel(\"Training iterations\")\n",
    "ax_acc.set_ylabel(\"Accuracy\")"
   ]
  },
  {
   "cell_type": "code",
   "execution_count": 20,
   "metadata": {},
   "outputs": [
    {
     "name": "stdout",
     "output_type": "stream",
     "text": [
      "The Explained Variance: 0.00\n",
      "The Mean Absolute Error: 0.92\n",
      "The Mean Squared Error: 0.84\n",
      "The Root Mean Squared Error: 0.92\n"
     ]
    }
   ],
   "source": [
    "#(X_train2, X_test2, y_train2, y_test2) = load_data_with_test2()\n",
    "#(X_train2, y_train2, X_val2, X_test2, y_val2, y_test2) = load_data(x_train_out, x_test_out, BATCH_SIZE_OUT)\n",
    "\n",
    "# print(x_train_out.shape)\n",
    "# print(x_test_out.shape)\n",
    "\n",
    "# print(X_train.shape)\n",
    "# print(X_test.shape)\n",
    "# print(X_val.shape)\n",
    "\n",
    "prediction_gan = gan.predict(X_test)\n",
    "\n",
    "# print(\"The Explained Variance: %.2f\" % prediction_gan.score(X_test2, y_test2))  \n",
    "print(\"The Explained Variance: %.2f\" % metrics.explained_variance_score(y_test, prediction_gan))  \n",
    "print(\"The Mean Absolute Error: %.2f\" % metrics.mean_absolute_error(y_test, prediction_gan))  \n",
    "#print(\"The Median Absolute Error: %.2f\" % metrics.median_absolute_error(y_test2, prediction_gan)) \n",
    "print(\"The Mean Squared Error: %.2f\" % metrics.mean_squared_error(y_test, prediction_gan)) \n",
    "print(\"The Root Mean Squared Error: %.2f\" % (np.sqrt(metrics.mean_squared_error(y_test, prediction_gan))))\n",
    "\n",
    "#generator.predict(X_train)[0]"
   ]
  },
  {
   "cell_type": "code",
   "execution_count": 34,
   "metadata": {},
   "outputs": [
    {
     "name": "stdout",
     "output_type": "stream",
     "text": [
      "Error is 0.9779647815899191 (3180,) (3180,)\n",
      "[0.9846112  0.98461133 0.9846112  0.98461133 0.98461133 0.98461133\n",
      " 0.9846112  0.9846112  0.9846112  0.98461133 0.98461133 0.98461133\n",
      " 0.98461133 0.98461133 0.9846112 ]\n",
      "[-0.00187447 -0.00195998 -0.00187498 -0.00187498 -0.00187498 -0.00198007\n",
      " -0.00206197 -0.00204497 -0.00189765 -0.00192649 -0.00187498 -0.00191877\n",
      " -0.00187395 -0.0019677  -0.00193113]\n"
     ]
    }
   ],
   "source": [
    "y_pred = gan.predict(trim_dataset(X_test, BATCH_SIZE_OUT), batch_size=BATCH_SIZE_OUT)\n",
    "y_pred = y_pred.flatten()\n",
    "y_test_t = trim_dataset(y_test, BATCH_SIZE_OUT)\n",
    "error = metrics.mean_squared_error(y_test_t, y_pred)\n",
    "print(\"Error is\", error, y_pred.shape, y_test_t.shape)\n",
    "print(y_pred[0:15])\n",
    "print(y_test_t[0:15])"
   ]
  },
  {
   "cell_type": "code",
   "execution_count": 35,
   "metadata": {},
   "outputs": [
    {
     "name": "stdout",
     "output_type": "stream",
     "text": [
      "[19571.11  19571.111 19571.11  19571.111 19571.111 19571.111 19571.11\n",
      " 19571.11  19571.11  19571.111 19571.111 19571.111 19571.111 19571.111\n",
      " 19571.11 ]\n",
      "[419.97 418.31 419.96 419.96 419.96 417.92 416.33 416.66 419.52 418.96\n",
      " 419.96 419.11 419.98 418.16 418.87]\n"
     ]
    }
   ],
   "source": [
    "# convert the predicted value to range of real data\n",
    "y_pred_org = (y_pred * min_max_scaler.data_range_[0]) + min_max_scaler.data_min_[0]\n",
    "#y_pred_org = (y_pred + min_max_scaler.data_min_[0])\n",
    "# min_max_scaler.inverse_transform(y_pred)\n",
    "y_test_t_org = (y_test_t * min_max_scaler.data_range_[0]) + min_max_scaler.data_min_[0]\n",
    "#y_test_t_org = (y_test_t + min_max_scaler.data_min_[0])\n",
    "# min_max_scaler.inverse_transform(y_test_t)\n",
    "print(y_pred_org[0:15])\n",
    "print(y_test_t_org[0:15])"
   ]
  },
  {
   "cell_type": "code",
   "execution_count": 36,
   "metadata": {},
   "outputs": [
    {
     "data": {
      "image/png": "[encoded data removed]",
      "text/plain": [
       "<Figure size 432x288 with 1 Axes>"
      ]
     },
     "metadata": {},
     "output_type": "display_data"
    }
   ],
   "source": [
    "# Visualize the prediction\n",
    "from matplotlib import pyplot as plt\n",
    "plt.figure()\n",
    "plt.plot(y_pred_org)\n",
    "plt.plot(y_test_t_org)\n",
    "plt.title('Prediction vs Real Stock Price')\n",
    "plt.ylabel('Price')\n",
    "plt.xlabel('Days')\n",
    "plt.legend(['Prediction', 'Real'], loc='upper left')\n",
    "plt.show()\n"
   ]
  },
  {
   "cell_type": "code",
   "execution_count": null,
   "metadata": {},
   "outputs": [],
   "source": []
  }
 ],
 "metadata": {
  "kernelspec": {
   "display_name": "Python 3",
   "language": "python",
   "name": "python3"
  },
  "language_info": {
   "codemirror_mode": {
    "name": "ipython",
    "version": 3
   },
   "file_extension": ".py",
   "mimetype": "text/x-python",
   "name": "python",
   "nbconvert_exporter": "python",
   "pygments_lexer": "ipython3",
   "version": "3.5.2"
  }
 },
 "nbformat": 4,
 "nbformat_minor": 2
}
