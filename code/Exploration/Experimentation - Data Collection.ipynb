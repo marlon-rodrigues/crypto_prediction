{
 "cells": [
  {
   "cell_type": "markdown",
   "metadata": {},
   "source": [
    "# Experimentation only - Not worth it"
   ]
  },
  {
   "cell_type": "code",
   "execution_count": 4,
   "metadata": {},
   "outputs": [
    {
     "name": "stdout",
     "output_type": "stream",
     "text": [
      "Requirement already satisfied: tqdm in /usr/local/lib/python3.5/dist-packages\n",
      "\u001b[33mYou are using pip version 9.0.3, however version 19.1.1 is available.\n",
      "You should consider upgrading via the 'pip install --upgrade pip' command.\u001b[0m\n"
     ]
    }
   ],
   "source": [
    "import sys\n",
    "!{sys.executable} -m pip install tqdm"
   ]
  },
  {
   "cell_type": "code",
   "execution_count": 8,
   "metadata": {},
   "outputs": [],
   "source": [
    "import json\n",
    "import numpy as np\n",
    "import os\n",
    "import pandas as pd\n",
    "import urllib.request as ud "
   ]
  },
  {
   "cell_type": "code",
   "execution_count": 43,
   "metadata": {},
   "outputs": [
    {
     "name": "stdout",
     "output_type": "stream",
     "text": [
      "(16732, 8)\n"
     ]
    }
   ],
   "source": [
    "url = 'https://poloniex.com/public?command=returnChartData&currencyPair=USDT_BTC&start=1439014500&end=9999999999&period=300&resolution=auto'\n",
    "openUrl = ud.urlopen(url)\n",
    "r = openUrl.read()\n",
    "openUrl.close()\n",
    "d = json.loads(r.decode())\n",
    "print(pd.DataFrame(d).shape)"
   ]
  },
  {
   "cell_type": "code",
   "execution_count": 44,
   "metadata": {},
   "outputs": [
    {
     "data": {
      "text/html": [
       "<div>\n",
       "<style scoped>\n",
       "    .dataframe tbody tr th:only-of-type {\n",
       "        vertical-align: middle;\n",
       "    }\n",
       "\n",
       "    .dataframe tbody tr th {\n",
       "        vertical-align: top;\n",
       "    }\n",
       "\n",
       "    .dataframe thead th {\n",
       "        text-align: right;\n",
       "    }\n",
       "</style>\n",
       "<table border=\"1\" class=\"dataframe\">\n",
       "  <thead>\n",
       "    <tr style=\"text-align: right;\">\n",
       "      <th></th>\n",
       "      <th>close</th>\n",
       "      <th>date</th>\n",
       "      <th>high</th>\n",
       "      <th>low</th>\n",
       "      <th>open</th>\n",
       "      <th>quoteVolume</th>\n",
       "      <th>volume</th>\n",
       "      <th>weightedAverage</th>\n",
       "    </tr>\n",
       "  </thead>\n",
       "  <tbody>\n",
       "    <tr>\n",
       "      <th>0</th>\n",
       "      <td>273.879113</td>\n",
       "      <td>1439014500</td>\n",
       "      <td>273.879113</td>\n",
       "      <td>273.879113</td>\n",
       "      <td>273.879113</td>\n",
       "      <td>0.000000</td>\n",
       "      <td>0.000000</td>\n",
       "      <td>273.879113</td>\n",
       "    </tr>\n",
       "    <tr>\n",
       "      <th>1</th>\n",
       "      <td>281.000000</td>\n",
       "      <td>1439020800</td>\n",
       "      <td>281.000000</td>\n",
       "      <td>280.998470</td>\n",
       "      <td>280.998470</td>\n",
       "      <td>0.001137</td>\n",
       "      <td>0.319362</td>\n",
       "      <td>280.999707</td>\n",
       "    </tr>\n",
       "    <tr>\n",
       "      <th>2</th>\n",
       "      <td>282.235975</td>\n",
       "      <td>1439028000</td>\n",
       "      <td>282.235975</td>\n",
       "      <td>280.999910</td>\n",
       "      <td>280.999910</td>\n",
       "      <td>0.457676</td>\n",
       "      <td>128.997779</td>\n",
       "      <td>281.853770</td>\n",
       "    </tr>\n",
       "    <tr>\n",
       "      <th>3</th>\n",
       "      <td>263.407086</td>\n",
       "      <td>1439035200</td>\n",
       "      <td>277.303281</td>\n",
       "      <td>263.407086</td>\n",
       "      <td>277.303281</td>\n",
       "      <td>1.484353</td>\n",
       "      <td>396.969138</td>\n",
       "      <td>267.435719</td>\n",
       "    </tr>\n",
       "    <tr>\n",
       "      <th>4</th>\n",
       "      <td>262.647627</td>\n",
       "      <td>1439042400</td>\n",
       "      <td>262.647627</td>\n",
       "      <td>262.647627</td>\n",
       "      <td>262.647627</td>\n",
       "      <td>0.000194</td>\n",
       "      <td>0.051080</td>\n",
       "      <td>262.647627</td>\n",
       "    </tr>\n",
       "  </tbody>\n",
       "</table>\n",
       "</div>"
      ],
      "text/plain": [
       "        close        date        high         low        open  quoteVolume  \\\n",
       "0  273.879113  1439014500  273.879113  273.879113  273.879113     0.000000   \n",
       "1  281.000000  1439020800  281.000000  280.998470  280.998470     0.001137   \n",
       "2  282.235975  1439028000  282.235975  280.999910  280.999910     0.457676   \n",
       "3  263.407086  1439035200  277.303281  263.407086  277.303281     1.484353   \n",
       "4  262.647627  1439042400  262.647627  262.647627  262.647627     0.000194   \n",
       "\n",
       "       volume  weightedAverage  \n",
       "0    0.000000       273.879113  \n",
       "1    0.319362       280.999707  \n",
       "2  128.997779       281.853770  \n",
       "3  396.969138       267.435719  \n",
       "4    0.051080       262.647627  "
      ]
     },
     "execution_count": 44,
     "metadata": {},
     "output_type": "execute_result"
    }
   ],
   "source": [
    "df = pd.DataFrame(d)\n",
    "#original_columns=[u'close', u'date', u'high', u'low', u'open']\n",
    "#new_columns = ['Close','Timestamp','High','Low','Open']\n",
    "#df = df.loc[:,original_columns]\n",
    "#df.columns = new_columns\n",
    "df.head()"
   ]
  },
  {
   "cell_type": "code",
   "execution_count": 45,
   "metadata": {},
   "outputs": [],
   "source": [
    "#df.to_csv('data/bitcoin2015to2017.csv',index=None)"
   ]
  },
  {
   "cell_type": "code",
   "execution_count": 47,
   "metadata": {},
   "outputs": [
    {
     "data": {
      "text/html": [
       "<div>\n",
       "<style scoped>\n",
       "    .dataframe tbody tr th:only-of-type {\n",
       "        vertical-align: middle;\n",
       "    }\n",
       "\n",
       "    .dataframe tbody tr th {\n",
       "        vertical-align: top;\n",
       "    }\n",
       "\n",
       "    .dataframe thead th {\n",
       "        text-align: right;\n",
       "    }\n",
       "</style>\n",
       "<table border=\"1\" class=\"dataframe\">\n",
       "  <thead>\n",
       "    <tr style=\"text-align: right;\">\n",
       "      <th></th>\n",
       "      <th>close</th>\n",
       "      <th>date</th>\n",
       "      <th>high</th>\n",
       "      <th>low</th>\n",
       "      <th>open</th>\n",
       "      <th>quoteVolume</th>\n",
       "      <th>volume</th>\n",
       "      <th>weightedAverage</th>\n",
       "      <th>Datetime</th>\n",
       "    </tr>\n",
       "  </thead>\n",
       "  <tbody>\n",
       "    <tr>\n",
       "      <th>0</th>\n",
       "      <td>273.879113</td>\n",
       "      <td>1439014500</td>\n",
       "      <td>273.879113</td>\n",
       "      <td>273.879113</td>\n",
       "      <td>273.879113</td>\n",
       "      <td>0.000000</td>\n",
       "      <td>0.000000</td>\n",
       "      <td>273.879113</td>\n",
       "      <td>2015-08-08 06:15:00</td>\n",
       "    </tr>\n",
       "    <tr>\n",
       "      <th>1</th>\n",
       "      <td>281.000000</td>\n",
       "      <td>1439020800</td>\n",
       "      <td>281.000000</td>\n",
       "      <td>280.998470</td>\n",
       "      <td>280.998470</td>\n",
       "      <td>0.001137</td>\n",
       "      <td>0.319362</td>\n",
       "      <td>280.999707</td>\n",
       "      <td>2015-08-08 08:00:00</td>\n",
       "    </tr>\n",
       "    <tr>\n",
       "      <th>2</th>\n",
       "      <td>282.235975</td>\n",
       "      <td>1439028000</td>\n",
       "      <td>282.235975</td>\n",
       "      <td>280.999910</td>\n",
       "      <td>280.999910</td>\n",
       "      <td>0.457676</td>\n",
       "      <td>128.997779</td>\n",
       "      <td>281.853770</td>\n",
       "      <td>2015-08-08 10:00:00</td>\n",
       "    </tr>\n",
       "    <tr>\n",
       "      <th>3</th>\n",
       "      <td>263.407086</td>\n",
       "      <td>1439035200</td>\n",
       "      <td>277.303281</td>\n",
       "      <td>263.407086</td>\n",
       "      <td>277.303281</td>\n",
       "      <td>1.484353</td>\n",
       "      <td>396.969138</td>\n",
       "      <td>267.435719</td>\n",
       "      <td>2015-08-08 12:00:00</td>\n",
       "    </tr>\n",
       "    <tr>\n",
       "      <th>4</th>\n",
       "      <td>262.647627</td>\n",
       "      <td>1439042400</td>\n",
       "      <td>262.647627</td>\n",
       "      <td>262.647627</td>\n",
       "      <td>262.647627</td>\n",
       "      <td>0.000194</td>\n",
       "      <td>0.051080</td>\n",
       "      <td>262.647627</td>\n",
       "      <td>2015-08-08 14:00:00</td>\n",
       "    </tr>\n",
       "  </tbody>\n",
       "</table>\n",
       "</div>"
      ],
      "text/plain": [
       "        close        date        high         low        open  quoteVolume  \\\n",
       "0  273.879113  1439014500  273.879113  273.879113  273.879113     0.000000   \n",
       "1  281.000000  1439020800  281.000000  280.998470  280.998470     0.001137   \n",
       "2  282.235975  1439028000  282.235975  280.999910  280.999910     0.457676   \n",
       "3  263.407086  1439035200  277.303281  263.407086  277.303281     1.484353   \n",
       "4  262.647627  1439042400  262.647627  262.647627  262.647627     0.000194   \n",
       "\n",
       "       volume  weightedAverage            Datetime  \n",
       "0    0.000000       273.879113 2015-08-08 06:15:00  \n",
       "1    0.319362       280.999707 2015-08-08 08:00:00  \n",
       "2  128.997779       281.853770 2015-08-08 10:00:00  \n",
       "3  396.969138       267.435719 2015-08-08 12:00:00  \n",
       "4    0.051080       262.647627 2015-08-08 14:00:00  "
      ]
     },
     "execution_count": 47,
     "metadata": {},
     "output_type": "execute_result"
    }
   ],
   "source": [
    "df['Datetime'] = pd.to_datetime(df['date'],unit='s')\n",
    "df.head()"
   ]
  },
  {
   "cell_type": "code",
   "execution_count": 48,
   "metadata": {},
   "outputs": [
    {
     "data": {
      "text/html": [
       "<div>\n",
       "<style scoped>\n",
       "    .dataframe tbody tr th:only-of-type {\n",
       "        vertical-align: middle;\n",
       "    }\n",
       "\n",
       "    .dataframe tbody tr th {\n",
       "        vertical-align: top;\n",
       "    }\n",
       "\n",
       "    .dataframe thead th {\n",
       "        text-align: right;\n",
       "    }\n",
       "</style>\n",
       "<table border=\"1\" class=\"dataframe\">\n",
       "  <thead>\n",
       "    <tr style=\"text-align: right;\">\n",
       "      <th></th>\n",
       "      <th>close</th>\n",
       "      <th>date</th>\n",
       "      <th>high</th>\n",
       "      <th>low</th>\n",
       "      <th>open</th>\n",
       "      <th>quoteVolume</th>\n",
       "      <th>volume</th>\n",
       "      <th>weightedAverage</th>\n",
       "      <th>Datetime</th>\n",
       "    </tr>\n",
       "  </thead>\n",
       "  <tbody>\n",
       "    <tr>\n",
       "      <th>16727</th>\n",
       "      <td>8577.000000</td>\n",
       "      <td>1559448000</td>\n",
       "      <td>8577.000000</td>\n",
       "      <td>8542.081860</td>\n",
       "      <td>8549.704175</td>\n",
       "      <td>4.310867</td>\n",
       "      <td>36882.826635</td>\n",
       "      <td>8555.779496</td>\n",
       "      <td>2019-06-02 04:00:00</td>\n",
       "    </tr>\n",
       "    <tr>\n",
       "      <th>16728</th>\n",
       "      <td>8707.108875</td>\n",
       "      <td>1559455200</td>\n",
       "      <td>8724.348409</td>\n",
       "      <td>8562.117240</td>\n",
       "      <td>8580.880061</td>\n",
       "      <td>95.427264</td>\n",
       "      <td>825609.894303</td>\n",
       "      <td>8651.719219</td>\n",
       "      <td>2019-06-02 06:00:00</td>\n",
       "    </tr>\n",
       "    <tr>\n",
       "      <th>16729</th>\n",
       "      <td>8698.062670</td>\n",
       "      <td>1559462400</td>\n",
       "      <td>8741.489160</td>\n",
       "      <td>8677.753284</td>\n",
       "      <td>8704.916795</td>\n",
       "      <td>61.668126</td>\n",
       "      <td>537309.806606</td>\n",
       "      <td>8712.925741</td>\n",
       "      <td>2019-06-02 08:00:00</td>\n",
       "    </tr>\n",
       "    <tr>\n",
       "      <th>16730</th>\n",
       "      <td>8720.000000</td>\n",
       "      <td>1559469600</td>\n",
       "      <td>8727.507501</td>\n",
       "      <td>8677.753284</td>\n",
       "      <td>8704.758663</td>\n",
       "      <td>14.688089</td>\n",
       "      <td>127811.956391</td>\n",
       "      <td>8701.741773</td>\n",
       "      <td>2019-06-02 10:00:00</td>\n",
       "    </tr>\n",
       "    <tr>\n",
       "      <th>16731</th>\n",
       "      <td>8770.000000</td>\n",
       "      <td>1559476800</td>\n",
       "      <td>8799.950000</td>\n",
       "      <td>8720.500000</td>\n",
       "      <td>8720.500000</td>\n",
       "      <td>20.114895</td>\n",
       "      <td>176238.799353</td>\n",
       "      <td>8761.606801</td>\n",
       "      <td>2019-06-02 12:00:00</td>\n",
       "    </tr>\n",
       "  </tbody>\n",
       "</table>\n",
       "</div>"
      ],
      "text/plain": [
       "             close        date         high          low         open  \\\n",
       "16727  8577.000000  1559448000  8577.000000  8542.081860  8549.704175   \n",
       "16728  8707.108875  1559455200  8724.348409  8562.117240  8580.880061   \n",
       "16729  8698.062670  1559462400  8741.489160  8677.753284  8704.916795   \n",
       "16730  8720.000000  1559469600  8727.507501  8677.753284  8704.758663   \n",
       "16731  8770.000000  1559476800  8799.950000  8720.500000  8720.500000   \n",
       "\n",
       "       quoteVolume         volume  weightedAverage            Datetime  \n",
       "16727     4.310867   36882.826635      8555.779496 2019-06-02 04:00:00  \n",
       "16728    95.427264  825609.894303      8651.719219 2019-06-02 06:00:00  \n",
       "16729    61.668126  537309.806606      8712.925741 2019-06-02 08:00:00  \n",
       "16730    14.688089  127811.956391      8701.741773 2019-06-02 10:00:00  \n",
       "16731    20.114895  176238.799353      8761.606801 2019-06-02 12:00:00  "
      ]
     },
     "execution_count": 48,
     "metadata": {},
     "output_type": "execute_result"
    }
   ],
   "source": [
    "df.tail()"
   ]
  },
  {
   "cell_type": "code",
   "execution_count": 50,
   "metadata": {},
   "outputs": [
    {
     "data": {
      "text/plain": [
       "(16732,)"
      ]
     },
     "execution_count": 50,
     "metadata": {},
     "output_type": "execute_result"
    }
   ],
   "source": [
    "prices= df.loc[:,'close'].values\n",
    "times = df.loc[:,'Datetime'].values\n",
    "prices.shape"
   ]
  },
  {
   "cell_type": "code",
   "execution_count": 56,
   "metadata": {},
   "outputs": [
    {
     "name": "stdout",
     "output_type": "stream",
     "text": [
      "(334, 50)\n",
      "(334, 30)\n",
      "(334, 50)\n",
      "(334, 30)\n"
     ]
    }
   ],
   "source": [
    "input_step_size = 50\n",
    "output_size = 30\n",
    "sliding_window = False\n",
    "\n",
    "outputs = []\n",
    "inputs = []\n",
    "output_times = []\n",
    "input_times = []\n",
    "\n",
    "if sliding_window:\n",
    "    for i in range(len(prices)-input_step_size-output_size):\n",
    "        inputs.append(prices[i:i + input_step_size])\n",
    "        input_times.append(times[i:i + input_step_size])\n",
    "        outputs.append(prices[i + input_step_size: i + input_step_size+ output_size])\n",
    "        output_times.append(times[i + input_step_size: i + input_step_size+ output_size])\n",
    "else:\n",
    "    for i in range(0,len(prices)-input_step_size-output_size, input_step_size):\n",
    "        inputs.append(prices[i:i + input_step_size])\n",
    "        input_times.append(times[i:i + input_step_size])\n",
    "        outputs.append(prices[i + input_step_size: i + input_step_size+ output_size])\n",
    "        output_times.append(times[i + input_step_size: i + input_step_size+ output_size])\n",
    "\n",
    "inputs= np.array(inputs)\n",
    "outputs= np.array(outputs)\n",
    "output_times = np.array(output_times)\n",
    "input_times = np.array(input_times)\n",
    "\n",
    "print(inputs.shape)\n",
    "print(outputs.shape)\n",
    "print(input_times.shape)\n",
    "print(output_times.shape)"
   ]
  },
  {
   "cell_type": "code",
   "execution_count": 55,
   "metadata": {},
   "outputs": [
    {
     "ename": "IndexError",
     "evalue": "too many indices for array",
     "output_type": "error",
     "traceback": [
      "\u001b[0;31m---------------------------------------------------------------------------\u001b[0m",
      "\u001b[0;31mIndexError\u001b[0m                                Traceback (most recent call last)",
      "\u001b[0;32m<ipython-input-55-08536017f71f>\u001b[0m in \u001b[0;36m<module>\u001b[0;34m()\u001b[0m\n\u001b[1;32m     11\u001b[0m \u001b[0mtraining_size\u001b[0m \u001b[0;34m=\u001b[0m \u001b[0mint\u001b[0m\u001b[0;34m(\u001b[0m\u001b[0;36m0.8\u001b[0m\u001b[0;34m*\u001b[0m \u001b[0minputs\u001b[0m\u001b[0;34m.\u001b[0m\u001b[0mshape\u001b[0m\u001b[0;34m[\u001b[0m\u001b[0;36m0\u001b[0m\u001b[0;34m]\u001b[0m\u001b[0;34m)\u001b[0m\u001b[0;34m\u001b[0m\u001b[0m\n\u001b[1;32m     12\u001b[0m \u001b[0mtraining_datas\u001b[0m \u001b[0;34m=\u001b[0m \u001b[0minputs\u001b[0m\u001b[0;34m[\u001b[0m\u001b[0;34m:\u001b[0m\u001b[0mtraining_size\u001b[0m\u001b[0;34m,\u001b[0m\u001b[0;34m:\u001b[0m\u001b[0;34m]\u001b[0m\u001b[0;34m\u001b[0m\u001b[0m\n\u001b[0;32m---> 13\u001b[0;31m \u001b[0mtraining_labels\u001b[0m \u001b[0;34m=\u001b[0m \u001b[0moutputs\u001b[0m\u001b[0;34m[\u001b[0m\u001b[0;34m:\u001b[0m\u001b[0mtraining_size\u001b[0m\u001b[0;34m,\u001b[0m\u001b[0;34m:\u001b[0m\u001b[0;34m,\u001b[0m\u001b[0;36m0\u001b[0m\u001b[0;34m]\u001b[0m\u001b[0;34m\u001b[0m\u001b[0m\n\u001b[0m\u001b[1;32m     14\u001b[0m \u001b[0mvalidation_datas\u001b[0m \u001b[0;34m=\u001b[0m \u001b[0minputs\u001b[0m\u001b[0;34m[\u001b[0m\u001b[0mtraining_size\u001b[0m\u001b[0;34m:\u001b[0m\u001b[0;34m,\u001b[0m\u001b[0;34m:\u001b[0m\u001b[0;34m]\u001b[0m\u001b[0;34m\u001b[0m\u001b[0m\n\u001b[1;32m     15\u001b[0m \u001b[0mvalidation_labels\u001b[0m \u001b[0;34m=\u001b[0m \u001b[0moutputs\u001b[0m\u001b[0;34m[\u001b[0m\u001b[0mtraining_size\u001b[0m\u001b[0;34m:\u001b[0m\u001b[0;34m,\u001b[0m\u001b[0;34m:\u001b[0m\u001b[0;34m,\u001b[0m\u001b[0;36m0\u001b[0m\u001b[0;34m]\u001b[0m\u001b[0;34m\u001b[0m\u001b[0m\n",
      "\u001b[0;31mIndexError\u001b[0m: too many indices for array"
     ]
    }
   ],
   "source": [
    "step_size = inputs.shape[0]\n",
    "units= 50\n",
    "second_units = 30\n",
    "batch_size = 8\n",
    "nb_features = inputs.shape[1]\n",
    "epochs = 50\n",
    "output_size=16\n",
    "reg = 1\n",
    "#output_file_name='bitcoin2015to2017_close_LSTM_1_tanh_leaky_areg_l1_'+ str(reg)\n",
    "#split training validation\n",
    "training_size = int(0.8* inputs.shape[0])\n",
    "training_datas = inputs[:training_size,:]\n",
    "training_labels = outputs[:training_size,:,0]\n",
    "validation_datas = inputs[training_size:,:]\n",
    "validation_labels = outputs[training_size:,:,0]\n"
   ]
  },
  {
   "cell_type": "code",
   "execution_count": null,
   "metadata": {},
   "outputs": [],
   "source": []
  }
 ],
 "metadata": {
  "kernelspec": {
   "display_name": "Python 3",
   "language": "python",
   "name": "python3"
  },
  "language_info": {
   "codemirror_mode": {
    "name": "ipython",
    "version": 3
   },
   "file_extension": ".py",
   "mimetype": "text/x-python",
   "name": "python",
   "nbconvert_exporter": "python",
   "pygments_lexer": "ipython3",
   "version": "3.5.2"
  }
 },
 "nbformat": 4,
 "nbformat_minor": 2
}
