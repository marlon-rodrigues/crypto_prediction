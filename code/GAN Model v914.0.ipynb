{
 "cells": [
  {
   "cell_type": "markdown",
   "metadata": {},
   "source": [
    "# Experimentation Only"
   ]
  },
  {
   "cell_type": "code",
   "execution_count": 1,
   "metadata": {},
   "outputs": [
    {
     "name": "stdout",
     "output_type": "stream",
     "text": [
      "Requirement already satisfied: tqdm in /usr/local/lib/python3.5/dist-packages\n",
      "\u001b[33mYou are using pip version 9.0.3, however version 19.1.1 is available.\n",
      "You should consider upgrading via the 'pip install --upgrade pip' command.\u001b[0m\n"
     ]
    }
   ],
   "source": [
    "import sys\n",
    "!{sys.executable} -m pip install tqdm"
   ]
  },
  {
   "cell_type": "code",
   "execution_count": 2,
   "metadata": {},
   "outputs": [
    {
     "name": "stderr",
     "output_type": "stream",
     "text": [
      "/usr/local/lib/python3.5/dist-packages/sklearn/cross_validation.py:41: DeprecationWarning: This module was deprecated in version 0.18 in favor of the model_selection module into which all the refactored classes and functions are moved. Also note that the interface of the new CV iterators are different from that of this module. This module will be removed in 0.20.\n",
      "  \"This module will be removed in 0.20.\", DeprecationWarning)\n",
      "/usr/local/lib/python3.5/dist-packages/h5py/__init__.py:36: FutureWarning: Conversion of the second argument of issubdtype from `float` to `np.floating` is deprecated. In future, it will be treated as `np.float64 == np.dtype(float).type`.\n",
      "  from ._conv import register_converters as _register_converters\n",
      "Using TensorFlow backend.\n"
     ]
    }
   ],
   "source": [
    "import math\n",
    "import matplotlib.pyplot as plt\n",
    "import pandas as pd\n",
    "import numpy as np\n",
    "import time\n",
    "from datetime import datetime\n",
    "import datetime as dt\n",
    "from mpl_toolkits.mplot3d import Axes3D\n",
    "from tqdm import tqdm, tqdm_notebook\n",
    "import json\n",
    "import requests\n",
    "%matplotlib inline\n",
    "\n",
    "#For Prediction\n",
    "from sklearn import metrics\n",
    "from sklearn import preprocessing, cross_validation\n",
    "from sklearn.model_selection import train_test_split\n",
    "from sklearn.preprocessing import MinMaxScaler\n",
    "\n",
    "import keras\n",
    "from keras.layers import Dense, Dropout, Input, LSTM, Reshape, Flatten, Activation\n",
    "from keras.models import Model,Sequential\n",
    "from keras.datasets import mnist\n",
    "from tqdm import tqdm\n",
    "from keras.layers.advanced_activations import LeakyReLU\n",
    "from keras.optimizers import Adam, RMSprop"
   ]
  },
  {
   "cell_type": "code",
   "execution_count": 65,
   "metadata": {},
   "outputs": [
    {
     "data": {
      "text/html": [
       "<div>\n",
       "<style scoped>\n",
       "    .dataframe tbody tr th:only-of-type {\n",
       "        vertical-align: middle;\n",
       "    }\n",
       "\n",
       "    .dataframe tbody tr th {\n",
       "        vertical-align: top;\n",
       "    }\n",
       "\n",
       "    .dataframe thead th {\n",
       "        text-align: right;\n",
       "    }\n",
       "</style>\n",
       "<table border=\"1\" class=\"dataframe\">\n",
       "  <thead>\n",
       "    <tr style=\"text-align: right;\">\n",
       "      <th></th>\n",
       "      <th>Unnamed: 0</th>\n",
       "      <th>Date</th>\n",
       "      <th>Symbol</th>\n",
       "      <th>Open</th>\n",
       "      <th>High</th>\n",
       "      <th>Low</th>\n",
       "      <th>Close</th>\n",
       "      <th>Volume BTC</th>\n",
       "      <th>Volume USD</th>\n",
       "      <th>Popularity</th>\n",
       "      <th>Popularity_Normalized</th>\n",
       "    </tr>\n",
       "  </thead>\n",
       "  <tbody>\n",
       "    <tr>\n",
       "      <th>0</th>\n",
       "      <td>0</td>\n",
       "      <td>2019-05-11</td>\n",
       "      <td>BTCUSD</td>\n",
       "      <td>6337.9</td>\n",
       "      <td>6984.8</td>\n",
       "      <td>6337.9</td>\n",
       "      <td>6793.5</td>\n",
       "      <td>9855.87</td>\n",
       "      <td>66133073.75</td>\n",
       "      <td>12.0</td>\n",
       "      <td>1200.0</td>\n",
       "    </tr>\n",
       "    <tr>\n",
       "      <th>1</th>\n",
       "      <td>1</td>\n",
       "      <td>2019-05-10</td>\n",
       "      <td>BTCUSD</td>\n",
       "      <td>6151.4</td>\n",
       "      <td>6430.0</td>\n",
       "      <td>6110.1</td>\n",
       "      <td>6337.9</td>\n",
       "      <td>9872.86</td>\n",
       "      <td>62166515.28</td>\n",
       "      <td>12.0</td>\n",
       "      <td>1200.0</td>\n",
       "    </tr>\n",
       "    <tr>\n",
       "      <th>2</th>\n",
       "      <td>2</td>\n",
       "      <td>2019-05-09</td>\n",
       "      <td>BTCUSD</td>\n",
       "      <td>5939.6</td>\n",
       "      <td>6174.0</td>\n",
       "      <td>5933.2</td>\n",
       "      <td>6151.4</td>\n",
       "      <td>7405.18</td>\n",
       "      <td>44816872.39</td>\n",
       "      <td>12.0</td>\n",
       "      <td>1200.0</td>\n",
       "    </tr>\n",
       "    <tr>\n",
       "      <th>3</th>\n",
       "      <td>3</td>\n",
       "      <td>2019-05-08</td>\n",
       "      <td>BTCUSD</td>\n",
       "      <td>5744.0</td>\n",
       "      <td>5983.2</td>\n",
       "      <td>5660.0</td>\n",
       "      <td>5939.6</td>\n",
       "      <td>6007.11</td>\n",
       "      <td>35184697.52</td>\n",
       "      <td>12.0</td>\n",
       "      <td>1200.0</td>\n",
       "    </tr>\n",
       "    <tr>\n",
       "      <th>4</th>\n",
       "      <td>4</td>\n",
       "      <td>2019-05-07</td>\n",
       "      <td>BTCUSD</td>\n",
       "      <td>5687.4</td>\n",
       "      <td>5955.8</td>\n",
       "      <td>5687.4</td>\n",
       "      <td>5906.7</td>\n",
       "      <td>3668.12</td>\n",
       "      <td>21496575.65</td>\n",
       "      <td>12.0</td>\n",
       "      <td>1200.0</td>\n",
       "    </tr>\n",
       "  </tbody>\n",
       "</table>\n",
       "</div>"
      ],
      "text/plain": [
       "   Unnamed: 0        Date  Symbol    Open    High     Low   Close  Volume BTC  \\\n",
       "0           0  2019-05-11  BTCUSD  6337.9  6984.8  6337.9  6793.5     9855.87   \n",
       "1           1  2019-05-10  BTCUSD  6151.4  6430.0  6110.1  6337.9     9872.86   \n",
       "2           2  2019-05-09  BTCUSD  5939.6  6174.0  5933.2  6151.4     7405.18   \n",
       "3           3  2019-05-08  BTCUSD  5744.0  5983.2  5660.0  5939.6     6007.11   \n",
       "4           4  2019-05-07  BTCUSD  5687.4  5955.8  5687.4  5906.7     3668.12   \n",
       "\n",
       "    Volume USD  Popularity  Popularity_Normalized  \n",
       "0  66133073.75        12.0                 1200.0  \n",
       "1  62166515.28        12.0                 1200.0  \n",
       "2  44816872.39        12.0                 1200.0  \n",
       "3  35184697.52        12.0                 1200.0  \n",
       "4  21496575.65        12.0                 1200.0  "
      ]
     },
     "execution_count": 65,
     "metadata": {},
     "output_type": "execute_result"
    }
   ],
   "source": [
    "# endpoint = 'https://min-api.cryptocompare.com/data/histoday'\n",
    "# res = requests.get(endpoint + '?fsym=BTC&tsym=USD&limit=2000')\n",
    "# hist = pd.DataFrame(json.loads(res.content.decode('utf-8'))['Data'])\n",
    "# hist = hist.set_index('time')\n",
    "# hist.index = pd.to_datetime(hist.index, unit='s')\n",
    "# hist.head()\n",
    "\n",
    "hist = pd.read_csv('Datasets/bitcoin_research_data_v2.csv')\n",
    "hist.head()"
   ]
  },
  {
   "cell_type": "code",
   "execution_count": 66,
   "metadata": {},
   "outputs": [
    {
     "data": {
      "text/html": [
       "<div>\n",
       "<style scoped>\n",
       "    .dataframe tbody tr th:only-of-type {\n",
       "        vertical-align: middle;\n",
       "    }\n",
       "\n",
       "    .dataframe tbody tr th {\n",
       "        vertical-align: top;\n",
       "    }\n",
       "\n",
       "    .dataframe thead th {\n",
       "        text-align: right;\n",
       "    }\n",
       "</style>\n",
       "<table border=\"1\" class=\"dataframe\">\n",
       "  <thead>\n",
       "    <tr style=\"text-align: right;\">\n",
       "      <th></th>\n",
       "      <th>Open</th>\n",
       "      <th>High</th>\n",
       "      <th>Low</th>\n",
       "      <th>Close</th>\n",
       "      <th>Popularity_Normalized</th>\n",
       "    </tr>\n",
       "  </thead>\n",
       "  <tbody>\n",
       "    <tr>\n",
       "      <th>1803</th>\n",
       "      <td>494.77</td>\n",
       "      <td>530.00</td>\n",
       "      <td>494.77</td>\n",
       "      <td>530.00</td>\n",
       "      <td>200.0</td>\n",
       "    </tr>\n",
       "    <tr>\n",
       "      <th>1804</th>\n",
       "      <td>493.43</td>\n",
       "      <td>497.67</td>\n",
       "      <td>490.85</td>\n",
       "      <td>494.77</td>\n",
       "      <td>200.0</td>\n",
       "    </tr>\n",
       "    <tr>\n",
       "      <th>1805</th>\n",
       "      <td>445.56</td>\n",
       "      <td>498.84</td>\n",
       "      <td>445.56</td>\n",
       "      <td>493.43</td>\n",
       "      <td>200.0</td>\n",
       "    </tr>\n",
       "    <tr>\n",
       "      <th>1806</th>\n",
       "      <td>445.56</td>\n",
       "      <td>445.56</td>\n",
       "      <td>445.56</td>\n",
       "      <td>445.56</td>\n",
       "      <td>200.0</td>\n",
       "    </tr>\n",
       "    <tr>\n",
       "      <th>1807</th>\n",
       "      <td>453.83</td>\n",
       "      <td>453.83</td>\n",
       "      <td>445.56</td>\n",
       "      <td>445.56</td>\n",
       "      <td>200.0</td>\n",
       "    </tr>\n",
       "  </tbody>\n",
       "</table>\n",
       "</div>"
      ],
      "text/plain": [
       "        Open    High     Low   Close  Popularity_Normalized\n",
       "1803  494.77  530.00  494.77  530.00                  200.0\n",
       "1804  493.43  497.67  490.85  494.77                  200.0\n",
       "1805  445.56  498.84  445.56  493.43                  200.0\n",
       "1806  445.56  445.56  445.56  445.56                  200.0\n",
       "1807  453.83  453.83  445.56  445.56                  200.0"
      ]
     },
     "execution_count": 66,
     "metadata": {},
     "output_type": "execute_result"
    }
   ],
   "source": [
    "#hist = hist.drop(['high','low','open','volumefrom','volumeto'], axis=1)\n",
    "#hist = hist.drop(['Unix Timestamp','Date','Symbol','Open','High','Low','Volume'], axis=1)\n",
    "#hist = hist.drop(['Date','Symbol','Unix Timestamp','Low','High'], axis=1)\n",
    "hist = hist.drop(['Date','Symbol','Popularity','Volume BTC','Volume USD'], axis=1)\n",
    "hist = hist.drop('Unnamed: 0', axis=1)\n",
    "hist.tail()"
   ]
  },
  {
   "cell_type": "code",
   "execution_count": 67,
   "metadata": {},
   "outputs": [
    {
     "name": "stdout",
     "output_type": "stream",
     "text": [
      "1808\n"
     ]
    }
   ],
   "source": [
    "print(len(hist))"
   ]
  },
  {
   "cell_type": "code",
   "execution_count": 68,
   "metadata": {},
   "outputs": [
    {
     "name": "stdout",
     "output_type": "stream",
     "text": [
      "checking if any null values are present\n",
      " Open                     0\n",
      "High                     0\n",
      "Low                      0\n",
      "Close                    0\n",
      "Popularity_Normalized    0\n",
      "dtype: int64\n"
     ]
    }
   ],
   "source": [
    "print(\"checking if any null values are present\\n\", hist.isna().sum())"
   ]
  },
  {
   "cell_type": "code",
   "execution_count": 69,
   "metadata": {},
   "outputs": [
    {
     "data": {
      "image/png": "[encoded data removed]",
      "text/plain": [
       "<Figure size 1152x648 with 1 Axes>"
      ]
     },
     "metadata": {},
     "output_type": "display_data"
    }
   ],
   "source": [
    "def train_test_split(df, test_size=0.1):\n",
    "    split_row = len(df) - int(test_size * len(df))\n",
    "    train_data = df.iloc[:split_row]\n",
    "    test_data = df.iloc[split_row:]\n",
    "    return train_data, test_data\n",
    "\n",
    "def line_plot(line1, line2, label1=None, label2=None, title=''):\n",
    "    fig, ax = plt.subplots(1, figsize=(16, 9))\n",
    "    ax.plot(line1, label=label1, linewidth=2)\n",
    "    ax.plot(line2, label=label2, linewidth=2)\n",
    "    ax.set_ylabel('price [USD]', fontsize=14)\n",
    "    ax.set_title(title, fontsize=18)\n",
    "    ax.legend(loc='best', fontsize=18)\n",
    "    \n",
    "train, test = train_test_split(hist, test_size=0.1)\n",
    "line_plot(train.Close, test.Close, 'training', 'test', 'BTC')"
   ]
  },
  {
   "cell_type": "code",
   "execution_count": 70,
   "metadata": {},
   "outputs": [],
   "source": [
    "def normalise_zero_base(df):\n",
    "    \"\"\" Normalise dataframe column-wise to reflect changes with\n",
    "        respect to first entry.\n",
    "    \"\"\"\n",
    "    return df / df.iloc[0] - 1\n",
    "\n",
    "def extract_window_data(df, window=7, zero_base=True):\n",
    "    \"\"\" Convert dataframe to overlapping sequences/windows of\n",
    "        length `window`.\n",
    "    \"\"\"\n",
    "    window_data = []\n",
    "    for idx in range(len(df) - window):\n",
    "        tmp = df[idx: (idx + window)].copy()\n",
    "        if zero_base:\n",
    "            tmp = normalise_zero_base(tmp)\n",
    "        window_data.append(tmp.values)\n",
    "    return np.array(window_data)\n",
    "\n",
    "def prepare_data(df, window=7, zero_base=True, test_size=0.1):\n",
    "    \"\"\" Prepare data for LSTM. \"\"\"\n",
    "    # train test split\n",
    "    train_data, test_data = train_test_split(df, test_size)\n",
    "    \n",
    "    # extract window data\n",
    "    X_train = extract_window_data(train_data, window, zero_base)\n",
    "    X_test = extract_window_data(test_data, window, zero_base)\n",
    "    \n",
    "    # extract targets\n",
    "    y_train = train_data.Close[window:].values\n",
    "    y_test = test_data.Close[window:].values\n",
    "    if zero_base:\n",
    "        y_train = y_train / train_data.Close[:-window].values - 1\n",
    "        y_test = y_test / test_data.Close[:-window].values - 1\n",
    "    return train_data, test_data, X_train, X_test, y_train, y_test\n",
    "\n",
    "train, test, X_train, X_test, y_train, y_test = prepare_data(hist)"
   ]
  },
  {
   "cell_type": "code",
   "execution_count": 71,
   "metadata": {},
   "outputs": [
    {
     "name": "stdout",
     "output_type": "stream",
     "text": [
      "(1621, 7, 5)\n",
      "(1621, 7, 5)\n",
      "(173,)\n",
      "(173,)\n"
     ]
    }
   ],
   "source": [
    "print(X_train.shape)\n",
    "print(X_train.shape)\n",
    "print(y_test.shape)\n",
    "print(y_test.shape)"
   ]
  },
  {
   "cell_type": "code",
   "execution_count": 72,
   "metadata": {},
   "outputs": [],
   "source": [
    "TIME_STEPS = 7\n",
    "BATCH_SIZE_OUT = 4 # 16 was better\n",
    "LR = 0.005\n",
    "# epochs = 150\n",
    "EPOCHS = 50"
   ]
  },
  {
   "cell_type": "code",
   "execution_count": 74,
   "metadata": {},
   "outputs": [
    {
     "name": "stdout",
     "output_type": "stream",
     "text": [
      "_________________________________________________________________\n",
      "Layer (type)                 Output Shape              Param #   \n",
      "=================================================================\n",
      "lstm_11 (LSTM)               (4, 16)                   1408      \n",
      "_________________________________________________________________\n",
      "leaky_re_lu_27 (LeakyReLU)   (4, 16)                   0         \n",
      "_________________________________________________________________\n",
      "dropout_27 (Dropout)         (4, 16)                   0         \n",
      "_________________________________________________________________\n",
      "dense_35 (Dense)             (4, 5)                    85        \n",
      "_________________________________________________________________\n",
      "activation_11 (Activation)   (4, 5)                    0         \n",
      "=================================================================\n",
      "Total params: 1,493\n",
      "Trainable params: 1,493\n",
      "Non-trainable params: 0\n",
      "_________________________________________________________________\n"
     ]
    }
   ],
   "source": [
    "def create_generator():\n",
    "#     generator=Sequential()\n",
    "#     generator.add(Dense(units=128,input_dim=8))\n",
    "#     generator.add(LeakyReLU(0.2))\n",
    "    \n",
    "#     generator.add(Dense(units=256))\n",
    "#     generator.add(LeakyReLU(0.2))\n",
    "    \n",
    "#     generator.add(Dense(units=512))\n",
    "#     generator.add(LeakyReLU(0.2))\n",
    "    \n",
    "#     generator.add(Dense(units=8, activation='tanh'))\n",
    "    \n",
    "#     #generator.compile(loss='binary_crossentropy', optimizer=adam_optimizer(), metrics=['accuracy'])\n",
    "#     generator.compile(loss='binary_crossentropy', optimizer='adam', metrics=['accuracy'])\n",
    "\n",
    "    # 6 below = x_t.shape[2]\n",
    "#     generator = Sequential()\n",
    "#     #generator.add(LSTM(16, batch_input_shape=(BATCH_SIZE_OUT, TIME_STEPS, 6), dropout=0.0, recurrent_dropout=0.0, stateful=True, kernel_initializer='random_uniform', return_sequences=False)) \n",
    "#     # stateful = true breaks the model (https://github.com/keras-team/keras/issues/9385)\n",
    "#     generator.add(LSTM(16, batch_input_shape=(BATCH_SIZE_OUT, TIME_STEPS, 1), return_sequences=True)) \n",
    "#     generator.add(Dense(8,activation='relu'))\n",
    "#     generator.add(Dropout(0.7))\n",
    "#     generator.add(LSTM(8, return_sequences=False))\n",
    "#     generator.add(Dense(1,activation='sigmoid'))\n",
    "#     #generator.add(Reshape((TIME_STEPS, 1)))\n",
    "#     optimizer = RMSprop(lr=LR, decay=3e-8)\n",
    "#     #generator.compile(loss='mean_squared_error', optimizer='adam', metrics=['accuracy'])\n",
    "#     generator.compile(loss='mean_squared_error', optimizer=optimizer, metrics=['accuracy'])\n",
    "    \n",
    "    \n",
    "    generator = Sequential()\n",
    "    generator.add(LSTM(16, batch_input_shape=(BATCH_SIZE_OUT, TIME_STEPS, 5), return_sequences=False))\n",
    "    generator.add(LeakyReLU(0.5))\n",
    "    generator.add(Dropout(0.5))\n",
    "    generator.add(Dense(5))\n",
    "    generator.add(Activation('tanh'))\n",
    "    optimizer = RMSprop(lr=0.005, clipvalue=1.)\n",
    "    generator.compile(loss='mean_squared_error', optimizer=optimizer)\n",
    "\n",
    "    return generator\n",
    "g=create_generator()\n",
    "g.summary()"
   ]
  },
  {
   "cell_type": "code",
   "execution_count": 75,
   "metadata": {},
   "outputs": [
    {
     "name": "stdout",
     "output_type": "stream",
     "text": [
      "_________________________________________________________________\n",
      "Layer (type)                 Output Shape              Param #   \n",
      "=================================================================\n",
      "dense_36 (Dense)             (8, 7, 16)                96        \n",
      "_________________________________________________________________\n",
      "leaky_re_lu_28 (LeakyReLU)   (8, 7, 16)                0         \n",
      "_________________________________________________________________\n",
      "dropout_28 (Dropout)         (8, 7, 16)                0         \n",
      "_________________________________________________________________\n",
      "dense_37 (Dense)             (8, 7, 8)                 136       \n",
      "_________________________________________________________________\n",
      "leaky_re_lu_29 (LeakyReLU)   (8, 7, 8)                 0         \n",
      "_________________________________________________________________\n",
      "dropout_29 (Dropout)         (8, 7, 8)                 0         \n",
      "_________________________________________________________________\n",
      "dense_38 (Dense)             (8, 7, 1)                 9         \n",
      "=================================================================\n",
      "Total params: 241\n",
      "Trainable params: 241\n",
      "Non-trainable params: 0\n",
      "_________________________________________________________________\n"
     ]
    }
   ],
   "source": [
    "def create_discriminator():\n",
    "    optimizer = RMSprop(lr=0.0002, decay=6e-8)\n",
    "\n",
    "    discriminator=Sequential()\n",
    "    #discriminator.add(Dense(units=512, batch_input_shape=(BATCH_SIZE_OUT, TIME_STEPS, 1)))\n",
    "    discriminator.add(Dense(units=16, batch_input_shape=(8, TIME_STEPS, 5)))\n",
    "    \n",
    "    #discriminator.add(Dense(units=512,input_dim=6))\n",
    "    discriminator.add(LeakyReLU(0.5))\n",
    "    discriminator.add(Dropout(0.5))\n",
    "       \n",
    "    \n",
    "#     discriminator.add(Dense(units=256))\n",
    "#     discriminator.add(LeakyReLU(0.2))\n",
    "#     discriminator.add(Dropout(0.3))\n",
    "       \n",
    "    discriminator.add(Dense(units=8))\n",
    "    discriminator.add(LeakyReLU(0.5))\n",
    "    discriminator.add(Dropout(0.5))\n",
    "    \n",
    "    #discriminator.add(Reshape((5, 1)))\n",
    "    \n",
    "    discriminator.add(Dense(units=1, activation='sigmoid'))\n",
    "    \n",
    "    #discriminator.compile(loss='binary_crossentropy', optimizer=optimizer)\n",
    "    discriminator.compile(loss='mean_squared_error', optimizer=optimizer)\n",
    "\n",
    "#     discriminator = Sequential()\n",
    "#     discriminator.add(LSTM(16, batch_input_shape=(BATCH_SIZE_OUT, TIME_STEPS, 6), dropout=0.0, recurrent_dropout=0.0, kernel_initializer='random_uniform', return_sequences=False)) \n",
    "#     discriminator.add(Dense(8,activation='relu'))\n",
    "#     discriminator.add(Dropout(0.7))\n",
    "#     discriminator.add(Dense(1,activation='sigmoid'))\n",
    "\n",
    "#     discriminator.compile(loss='mean_squared_error', optimizer='adam', metrics=['accuracy'])\n",
    "    \n",
    "    return discriminator\n",
    "d =create_discriminator()\n",
    "d.summary()"
   ]
  },
  {
   "cell_type": "code",
   "execution_count": 76,
   "metadata": {},
   "outputs": [
    {
     "name": "stdout",
     "output_type": "stream",
     "text": [
      "_________________________________________________________________\n",
      "Layer (type)                 Output Shape              Param #   \n",
      "=================================================================\n",
      "input_9 (InputLayer)         (None, 7, 5)              0         \n",
      "_________________________________________________________________\n",
      "sequential_19 (Sequential)   multiple                  1493      \n",
      "_________________________________________________________________\n",
      "sequential_20 (Sequential)   multiple                  241       \n",
      "=================================================================\n",
      "Total params: 1,734\n",
      "Trainable params: 1,493\n",
      "Non-trainable params: 241\n",
      "_________________________________________________________________\n"
     ]
    }
   ],
   "source": [
    "def create_gan(discriminator, generator):\n",
    "    optimizer = RMSprop(lr=0.0001, decay=3e-8)\n",
    "    discriminator.trainable=False\n",
    "    gan_input = Input(shape=(TIME_STEPS, 5)) # x_t.shape[2] = 6\n",
    "    #Input(shape=(None, latent_dim))\n",
    "    x = generator(gan_input)\n",
    "    gan_output= discriminator(x)\n",
    "    gan = Model(inputs=gan_input, outputs=gan_output)\n",
    "    #gan.compile(loss='binary_crossentropy', optimizer=optimizer)\n",
    "    gan.compile(loss='mean_squared_error', optimizer=optimizer)\n",
    "    return gan\n",
    "gan = create_gan(d,g)\n",
    "gan.summary()"
   ]
  },
  {
   "cell_type": "code",
   "execution_count": 77,
   "metadata": {},
   "outputs": [],
   "source": [
    "import keras.backend as K\n",
    "\n",
    "adversarial_loss = []\n",
    "discrimator_loss = []\n",
    "gen_samples = []\n",
    "\n",
    "#K.clear_session()\n",
    "generator = create_generator()\n",
    "discriminator = create_discriminator()\n",
    "gan = create_gan(discriminator, generator)\n",
    "#(X_train, y_train, X_val, X_test, y_val, y_test) = load_data(x_train_out, x_test_out, BATCH_SIZE_OUT)\n",
    "\n",
    "def training(epochs=1, batch_size=128):\n",
    "    global adversarial_loss\n",
    "    global discrimator_loss\n",
    "    global gen_samples\n",
    "    \n",
    "    global generator\n",
    "    global discriminator\n",
    "    global gan\n",
    "\n",
    "    global X_train\n",
    "    global X_test\n",
    "    global y_train\n",
    "    global y_test\n",
    "    \n",
    "    for e in range(1, epochs+1 ):\n",
    "        print(\"Epoch %d\" %e)\n",
    "        for i in tqdm(range(batch_size)):\n",
    "            #generate  random noise as an input  to  initialize the  generator\n",
    "            #noise = np.random.normal(0,1, [BATCH_SIZE_OUT, TIME_STEPS, X_train.shape[2]])\n",
    "            #print(X_train.shape)\n",
    "            \n",
    "            noise = np.float32(np.random.normal(size=[BATCH_SIZE_OUT, TIME_STEPS, X_train.shape[2]]))\n",
    "            \n",
    "            # Generate fake prices from noised input\n",
    "            generated_prices = generator.predict(noise)\n",
    "            \n",
    "            # Get a random set of real prices\n",
    "            prices_batch = X_train[np.random.randint(low=0,high=X_train.shape[0],size=BATCH_SIZE_OUT)]\n",
    "            \n",
    "            \n",
    "            dim_0 = generated_prices.shape[0] - TIME_STEPS\n",
    "            dim_0 = generated_prices.shape[0]\n",
    "            gen_prices = np.zeros((dim_0, TIME_STEPS, 5))\n",
    "            \n",
    "            for j in range(dim_0):\n",
    "                gen_prices[j] = generated_prices[j]\n",
    "            \n",
    "\n",
    "#             print('Shapes 1')\n",
    "#             print(noise.shape)\n",
    "#             print(prices_batch.shape)\n",
    "#             print(generated_prices.shape)     \n",
    "#             print(gen_prices.shape)\n",
    "#             print('>>>>>>>>>>>gen_prices>>>>>>>')            \n",
    "#             print(gen_prices)\n",
    "#             print(prices_batch)\n",
    "#             #print(generated_prices)\n",
    "            \n",
    "            #Construct different batches of real and fake data \n",
    "            X = np.concatenate([prices_batch, gen_prices])\n",
    "            \n",
    "            # Labels for generated and real data\n",
    "            #y_dis = np.zeros(2*batch_size)\n",
    "            #y_dis = np.zeros(shape=(2*BATCH_SIZE_OUT, TIME_STEPS, X_train.shape[2]))\n",
    "            y_dis = np.zeros(shape=(X.shape[0], TIME_STEPS, 1))\n",
    "            #y_dis[:batch_size]=0.9\n",
    "            y_dis[:int((X.shape[0]/2))]=0.9\n",
    "            #y_dis[0,:,batch_size]=0.9\n",
    "            \n",
    "#             print('Shapes 2')\n",
    "#             print(X.shape)\n",
    "#             print(y_dis.shape)\n",
    "#             print('>>>>>>>>>>>x>>>>>>>')\n",
    "#             print(X)\n",
    "#             print('>>>>>>>>>>>y_dis>>>>>>>')            \n",
    "#             print(y_dis)\n",
    "            \n",
    "            #Pre train discriminator on fake and real data before starting the gan. \n",
    "            discriminator.trainable = True\n",
    "            d_loss = discriminator.train_on_batch(X, y_dis)\n",
    "            \n",
    "            #Tricking the noised input of the Generator as real data\n",
    "            #noise = np.random.normal(0,1, [batch_size, 8])\n",
    "            #y_gen = np.ones(batch_size)\n",
    "            noise = np.float32(np.random.normal(size=[BATCH_SIZE_OUT, TIME_STEPS, X_train.shape[2]]))\n",
    "            #y_gen = np.ones(shape=(noise.shape[0], TIME_STEPS, X_train.shape[2]))\n",
    "            y_gen = np.ones(BATCH_SIZE_OUT)\n",
    "            \n",
    "            # During the training of gan, \n",
    "            # the weights of discriminator should be fixed. \n",
    "            #We can enforce that by setting the trainable flag\n",
    "            discriminator.trainable=False\n",
    "            \n",
    "#             print('Shapes 3')\n",
    "#             print(noise.shape)\n",
    "#             print(y_gen.shape)\n",
    "            \n",
    "            #training the GAN by alternating the training of the Discriminator \n",
    "            #and training the chained GAN model with Discriminator’s weights freezed.\n",
    "            a_loss = gan.train_on_batch(noise, y_gen)\n",
    "            \n",
    "            if i == (batch_size-1):\n",
    "                #log_mesg = \"%d: [D loss: %f, acc: %f]\" % (e, d_loss[0], d_loss[1])\n",
    "                #log_mesg = \"%s  [A loss: %f, acc: %f]\" % (log_mesg, a_loss[0], a_loss[1])\n",
    "                log_mesg = \"%d: [D loss: %f]\" % (e, d_loss)\n",
    "                log_mesg = \"%s  [A loss: %f]\" % (log_mesg, a_loss)\n",
    "                print(log_mesg)\n",
    "                \n",
    "            discrimator_loss.append(d_loss)\n",
    "            adversarial_loss.append(a_loss)\n",
    "            \n",
    "#         if e == 1 or e % 5 == 0:\n",
    "#             # generate synthetic dataset\n",
    "#             gen_samples_set = []\n",
    "#             for batch_idx in range(int(len(X_train) / batch_size)):\n",
    "#             # for batch_idx in range(int(len(X_train) / 100)):\n",
    "#                 # noise= np.random.normal(loc=0, scale=1, size=[100, 100])\n",
    "#                 #noise= np.random.normal(0,1, [batch_size, 8])\n",
    "#                 noise = np.float32(np.random.normal(size=[BATCH_SIZE_OUT, TIME_STEPS, X_train.shape[2]]))\n",
    "#                 generated_data = generator.predict(noise)\n",
    "#                 gen_samples_set.append(generated_data)\n",
    "\n",
    "#             gen_samples = np.vstack(gen_samples_set)"
   ]
  },
  {
   "cell_type": "code",
   "execution_count": 78,
   "metadata": {},
   "outputs": [
    {
     "name": "stderr",
     "output_type": "stream",
     "text": [
      "\r",
      "  0%|          | 0/12 [00:00<?, ?it/s]"
     ]
    },
    {
     "name": "stdout",
     "output_type": "stream",
     "text": [
      "Epoch 1\n"
     ]
    },
    {
     "name": "stderr",
     "output_type": "stream",
     "text": [
      "100%|██████████| 12/12 [00:05<00:00,  2.37it/s]\n",
      "100%|██████████| 12/12 [00:00<00:00, 87.22it/s]\n",
      "  0%|          | 0/12 [00:00<?, ?it/s]"
     ]
    },
    {
     "name": "stdout",
     "output_type": "stream",
     "text": [
      "1: [D loss: 0.204102]  [A loss: 0.297778]\n",
      "Epoch 2\n",
      "2: [D loss: 0.205888]  [A loss: 0.253588]\n",
      "Epoch 3\n"
     ]
    },
    {
     "name": "stderr",
     "output_type": "stream",
     "text": [
      "100%|██████████| 12/12 [00:00<00:00, 60.94it/s]\n",
      "100%|██████████| 12/12 [00:00<00:00, 75.76it/s]\n",
      "  0%|          | 0/12 [00:00<?, ?it/s]"
     ]
    },
    {
     "name": "stdout",
     "output_type": "stream",
     "text": [
      "3: [D loss: 0.201275]  [A loss: 0.269838]\n",
      "Epoch 4\n",
      "4: [D loss: 0.203540]  [A loss: 0.262375]\n",
      "Epoch 5\n"
     ]
    },
    {
     "name": "stderr",
     "output_type": "stream",
     "text": [
      "100%|██████████| 12/12 [00:00<00:00, 68.67it/s]\n",
      "100%|██████████| 12/12 [00:00<00:00, 86.07it/s]\n",
      "  0%|          | 0/12 [00:00<?, ?it/s]"
     ]
    },
    {
     "name": "stdout",
     "output_type": "stream",
     "text": [
      "5: [D loss: 0.200510]  [A loss: 0.238563]\n",
      "Epoch 6\n",
      "6: [D loss: 0.206585]  [A loss: 0.286418]\n",
      "Epoch 7\n"
     ]
    },
    {
     "name": "stderr",
     "output_type": "stream",
     "text": [
      "100%|██████████| 12/12 [00:00<00:00, 72.17it/s]\n",
      "100%|██████████| 12/12 [00:00<00:00, 89.67it/s]\n",
      "  0%|          | 0/12 [00:00<?, ?it/s]"
     ]
    },
    {
     "name": "stdout",
     "output_type": "stream",
     "text": [
      "7: [D loss: 0.205573]  [A loss: 0.257265]\n",
      "Epoch 8\n",
      "8: [D loss: 0.202487]  [A loss: 0.245031]\n",
      "Epoch 9\n"
     ]
    },
    {
     "name": "stderr",
     "output_type": "stream",
     "text": [
      "100%|██████████| 12/12 [00:00<00:00, 69.38it/s]\n",
      " 50%|█████     | 6/12 [00:00<00:00, 53.03it/s]"
     ]
    },
    {
     "name": "stdout",
     "output_type": "stream",
     "text": [
      "9: [D loss: 0.200556]  [A loss: 0.460930]\n",
      "Epoch 10\n"
     ]
    },
    {
     "name": "stderr",
     "output_type": "stream",
     "text": [
      "100%|██████████| 12/12 [00:00<00:00, 52.72it/s]\n",
      " 42%|████▏     | 5/12 [00:00<00:00, 47.11it/s]"
     ]
    },
    {
     "name": "stdout",
     "output_type": "stream",
     "text": [
      "10: [D loss: 0.200551]  [A loss: 0.279817]\n",
      "Epoch 11\n"
     ]
    },
    {
     "name": "stderr",
     "output_type": "stream",
     "text": [
      "100%|██████████| 12/12 [00:00<00:00, 44.39it/s]\n",
      " 50%|█████     | 6/12 [00:00<00:00, 52.88it/s]"
     ]
    },
    {
     "name": "stdout",
     "output_type": "stream",
     "text": [
      "11: [D loss: 0.202805]  [A loss: 0.272116]\n",
      "Epoch 12\n"
     ]
    },
    {
     "name": "stderr",
     "output_type": "stream",
     "text": [
      "100%|██████████| 12/12 [00:00<00:00, 54.34it/s]\n",
      "100%|██████████| 12/12 [00:00<00:00, 75.44it/s]\n",
      "  0%|          | 0/12 [00:00<?, ?it/s]"
     ]
    },
    {
     "name": "stdout",
     "output_type": "stream",
     "text": [
      "12: [D loss: 0.206315]  [A loss: 0.264514]\n",
      "Epoch 13\n",
      "13: [D loss: 0.209857]  [A loss: 0.318276]\n",
      "Epoch 14\n"
     ]
    },
    {
     "name": "stderr",
     "output_type": "stream",
     "text": [
      "100%|██████████| 12/12 [00:00<00:00, 66.55it/s]\n",
      "100%|██████████| 12/12 [00:00<00:00, 70.37it/s]\n",
      "  0%|          | 0/12 [00:00<?, ?it/s]"
     ]
    },
    {
     "name": "stdout",
     "output_type": "stream",
     "text": [
      "14: [D loss: 0.194729]  [A loss: 0.305138]\n",
      "Epoch 15\n",
      "15: [D loss: 0.203480]  [A loss: 0.260694]\n",
      "Epoch 16\n"
     ]
    },
    {
     "name": "stderr",
     "output_type": "stream",
     "text": [
      "100%|██████████| 12/12 [00:00<00:00, 45.81it/s]\n",
      " 50%|█████     | 6/12 [00:00<00:00, 51.39it/s]"
     ]
    },
    {
     "name": "stdout",
     "output_type": "stream",
     "text": [
      "16: [D loss: 0.209773]  [A loss: 0.266671]\n",
      "Epoch 17\n"
     ]
    },
    {
     "name": "stderr",
     "output_type": "stream",
     "text": [
      "100%|██████████| 12/12 [00:00<00:00, 52.71it/s]\n",
      " 42%|████▏     | 5/12 [00:00<00:00, 48.85it/s]"
     ]
    },
    {
     "name": "stdout",
     "output_type": "stream",
     "text": [
      "17: [D loss: 0.196197]  [A loss: 0.290348]\n",
      "Epoch 18\n"
     ]
    },
    {
     "name": "stderr",
     "output_type": "stream",
     "text": [
      "100%|██████████| 12/12 [00:00<00:00, 50.30it/s]\n",
      " 42%|████▏     | 5/12 [00:00<00:00, 46.39it/s]"
     ]
    },
    {
     "name": "stdout",
     "output_type": "stream",
     "text": [
      "18: [D loss: 0.220195]  [A loss: 0.278889]\n",
      "Epoch 19\n"
     ]
    },
    {
     "name": "stderr",
     "output_type": "stream",
     "text": [
      "100%|██████████| 12/12 [00:00<00:00, 58.09it/s]\n",
      "100%|██████████| 12/12 [00:00<00:00, 68.98it/s]\n",
      "  0%|          | 0/12 [00:00<?, ?it/s]"
     ]
    },
    {
     "name": "stdout",
     "output_type": "stream",
     "text": [
      "19: [D loss: 0.202409]  [A loss: 0.270295]\n",
      "Epoch 20\n",
      "20: [D loss: 0.205042]  [A loss: 0.346197]\n",
      "Epoch 21\n"
     ]
    },
    {
     "name": "stderr",
     "output_type": "stream",
     "text": [
      "100%|██████████| 12/12 [00:00<00:00, 47.85it/s]\n",
      " 50%|█████     | 6/12 [00:00<00:00, 52.49it/s]"
     ]
    },
    {
     "name": "stdout",
     "output_type": "stream",
     "text": [
      "21: [D loss: 0.193440]  [A loss: 0.319114]\n",
      "Epoch 22\n"
     ]
    },
    {
     "name": "stderr",
     "output_type": "stream",
     "text": [
      "100%|██████████| 12/12 [00:00<00:00, 50.71it/s]\n",
      "100%|██████████| 12/12 [00:00<00:00, 68.84it/s]\n",
      "  0%|          | 0/12 [00:00<?, ?it/s]"
     ]
    },
    {
     "name": "stdout",
     "output_type": "stream",
     "text": [
      "22: [D loss: 0.188754]  [A loss: 0.278172]\n",
      "Epoch 23\n",
      "23: [D loss: 0.206895]  [A loss: 0.289806]\n",
      "Epoch 24\n"
     ]
    },
    {
     "name": "stderr",
     "output_type": "stream",
     "text": [
      "100%|██████████| 12/12 [00:00<00:00, 57.29it/s]\n",
      " 50%|█████     | 6/12 [00:00<00:00, 52.22it/s]"
     ]
    },
    {
     "name": "stdout",
     "output_type": "stream",
     "text": [
      "24: [D loss: 0.200589]  [A loss: 0.346173]\n",
      "Epoch 25\n"
     ]
    },
    {
     "name": "stderr",
     "output_type": "stream",
     "text": [
      "100%|██████████| 12/12 [00:00<00:00, 52.12it/s]\n",
      "100%|██████████| 12/12 [00:00<00:00, 77.61it/s]\n",
      "  0%|          | 0/12 [00:00<?, ?it/s]"
     ]
    },
    {
     "name": "stdout",
     "output_type": "stream",
     "text": [
      "25: [D loss: 0.205578]  [A loss: 0.277750]\n",
      "Epoch 26\n",
      "26: [D loss: 0.188658]  [A loss: 0.289953]\n",
      "Epoch 27\n"
     ]
    },
    {
     "name": "stderr",
     "output_type": "stream",
     "text": [
      "100%|██████████| 12/12 [00:00<00:00, 43.86it/s]\n",
      " 50%|█████     | 6/12 [00:00<00:00, 53.62it/s]"
     ]
    },
    {
     "name": "stdout",
     "output_type": "stream",
     "text": [
      "27: [D loss: 0.199449]  [A loss: 0.255651]\n",
      "Epoch 28\n"
     ]
    },
    {
     "name": "stderr",
     "output_type": "stream",
     "text": [
      "100%|██████████| 12/12 [00:00<00:00, 58.94it/s]\n",
      " 17%|█▋        | 2/12 [00:00<00:00, 18.10it/s]"
     ]
    },
    {
     "name": "stdout",
     "output_type": "stream",
     "text": [
      "28: [D loss: 0.189419]  [A loss: 0.272171]\n",
      "Epoch 29\n"
     ]
    },
    {
     "name": "stderr",
     "output_type": "stream",
     "text": [
      "100%|██████████| 12/12 [00:00<00:00, 34.43it/s]\n",
      "100%|██████████| 12/12 [00:00<00:00, 88.67it/s]\n",
      "  0%|          | 0/12 [00:00<?, ?it/s]"
     ]
    },
    {
     "name": "stdout",
     "output_type": "stream",
     "text": [
      "29: [D loss: 0.206951]  [A loss: 0.334856]\n",
      "Epoch 30\n",
      "30: [D loss: 0.193317]  [A loss: 0.296380]\n",
      "Epoch 31\n"
     ]
    },
    {
     "name": "stderr",
     "output_type": "stream",
     "text": [
      "100%|██████████| 12/12 [00:00<00:00, 59.88it/s]\n",
      "100%|██████████| 12/12 [00:00<00:00, 74.04it/s]\n",
      "  0%|          | 0/12 [00:00<?, ?it/s]"
     ]
    },
    {
     "name": "stdout",
     "output_type": "stream",
     "text": [
      "31: [D loss: 0.196327]  [A loss: 0.276817]\n",
      "Epoch 32\n",
      "32: [D loss: 0.206447]  [A loss: 0.286470]\n",
      "Epoch 33\n"
     ]
    },
    {
     "name": "stderr",
     "output_type": "stream",
     "text": [
      "100%|██████████| 12/12 [00:00<00:00, 42.97it/s]\n",
      " 50%|█████     | 6/12 [00:00<00:00, 54.36it/s]"
     ]
    },
    {
     "name": "stdout",
     "output_type": "stream",
     "text": [
      "33: [D loss: 0.206719]  [A loss: 0.276873]\n",
      "Epoch 34\n"
     ]
    },
    {
     "name": "stderr",
     "output_type": "stream",
     "text": [
      "100%|██████████| 12/12 [00:00<00:00, 43.87it/s]\n",
      " 42%|████▏     | 5/12 [00:00<00:00, 43.62it/s]"
     ]
    },
    {
     "name": "stdout",
     "output_type": "stream",
     "text": [
      "34: [D loss: 0.201128]  [A loss: 0.286584]\n",
      "Epoch 35\n"
     ]
    },
    {
     "name": "stderr",
     "output_type": "stream",
     "text": [
      "100%|██████████| 12/12 [00:00<00:00, 42.58it/s]\n",
      "100%|██████████| 12/12 [00:00<00:00, 68.64it/s]\n",
      "  0%|          | 0/12 [00:00<?, ?it/s]"
     ]
    },
    {
     "name": "stdout",
     "output_type": "stream",
     "text": [
      "35: [D loss: 0.200928]  [A loss: 0.321949]\n",
      "Epoch 36\n",
      "36: [D loss: 0.200052]  [A loss: 0.283142]\n",
      "Epoch 37\n"
     ]
    },
    {
     "name": "stderr",
     "output_type": "stream",
     "text": [
      "100%|██████████| 12/12 [00:00<00:00, 42.07it/s]\n",
      "100%|██████████| 12/12 [00:00<00:00, 80.34it/s]\n",
      "  0%|          | 0/12 [00:00<?, ?it/s]"
     ]
    },
    {
     "name": "stdout",
     "output_type": "stream",
     "text": [
      "37: [D loss: 0.194259]  [A loss: 0.285164]\n",
      "Epoch 38\n",
      "38: [D loss: 0.202406]  [A loss: 0.244226]\n",
      "Epoch 39\n"
     ]
    },
    {
     "name": "stderr",
     "output_type": "stream",
     "text": [
      "100%|██████████| 12/12 [00:00<00:00, 60.35it/s]\n",
      " 50%|█████     | 6/12 [00:00<00:00, 54.71it/s]"
     ]
    },
    {
     "name": "stdout",
     "output_type": "stream",
     "text": [
      "39: [D loss: 0.206047]  [A loss: 0.313897]\n",
      "Epoch 40\n",
      "40: [D loss: 0.200267]  [A loss: 0.277370]\n"
     ]
    },
    {
     "name": "stderr",
     "output_type": "stream",
     "text": [
      "100%|██████████| 12/12 [00:00<00:00, 65.59it/s]\n",
      "100%|██████████| 12/12 [00:00<00:00, 62.18it/s]\n"
     ]
    },
    {
     "name": "stdout",
     "output_type": "stream",
     "text": [
      "Epoch 41\n",
      "41: [D loss: 0.202999]  [A loss: 0.327858]\n",
      "Epoch 42\n"
     ]
    },
    {
     "name": "stderr",
     "output_type": "stream",
     "text": [
      "100%|██████████| 12/12 [00:00<00:00, 77.35it/s]\n",
      "100%|██████████| 12/12 [00:00<00:00, 81.84it/s]\n",
      "  0%|          | 0/12 [00:00<?, ?it/s]"
     ]
    },
    {
     "name": "stdout",
     "output_type": "stream",
     "text": [
      "42: [D loss: 0.197716]  [A loss: 0.287508]\n",
      "Epoch 43\n",
      "43: [D loss: 0.200956]  [A loss: 0.285030]\n",
      "Epoch 44\n"
     ]
    },
    {
     "name": "stderr",
     "output_type": "stream",
     "text": [
      "100%|██████████| 12/12 [00:00<00:00, 59.33it/s]\n",
      " 42%|████▏     | 5/12 [00:00<00:00, 43.94it/s]"
     ]
    },
    {
     "name": "stdout",
     "output_type": "stream",
     "text": [
      "44: [D loss: 0.199959]  [A loss: 0.294614]\n",
      "Epoch 45\n"
     ]
    },
    {
     "name": "stderr",
     "output_type": "stream",
     "text": [
      "100%|██████████| 12/12 [00:00<00:00, 55.77it/s]\n",
      "100%|██████████| 12/12 [00:00<00:00, 82.01it/s]\n",
      "  0%|          | 0/12 [00:00<?, ?it/s]"
     ]
    },
    {
     "name": "stdout",
     "output_type": "stream",
     "text": [
      "45: [D loss: 0.201119]  [A loss: 0.239788]\n",
      "Epoch 46\n",
      "46: [D loss: 0.194270]  [A loss: 0.310650]\n",
      "Epoch 47\n"
     ]
    },
    {
     "name": "stderr",
     "output_type": "stream",
     "text": [
      "100%|██████████| 12/12 [00:00<00:00, 78.42it/s]\n",
      "100%|██████████| 12/12 [00:00<00:00, 81.48it/s]\n",
      "  0%|          | 0/12 [00:00<?, ?it/s]"
     ]
    },
    {
     "name": "stdout",
     "output_type": "stream",
     "text": [
      "47: [D loss: 0.197343]  [A loss: 0.294092]\n",
      "Epoch 48\n",
      "48: [D loss: 0.198386]  [A loss: 0.269152]\n",
      "Epoch 49\n"
     ]
    },
    {
     "name": "stderr",
     "output_type": "stream",
     "text": [
      "100%|██████████| 12/12 [00:00<00:00, 41.03it/s]\n",
      "100%|██████████| 12/12 [00:00<00:00, 83.88it/s]"
     ]
    },
    {
     "name": "stdout",
     "output_type": "stream",
     "text": [
      "49: [D loss: 0.209909]  [A loss: 0.295936]\n",
      "Epoch 50\n",
      "50: [D loss: 0.200417]  [A loss: 0.279291]\n"
     ]
    },
    {
     "name": "stderr",
     "output_type": "stream",
     "text": [
      "\n"
     ]
    }
   ],
   "source": [
    "#training(400,128)\n",
    "training(50,12)"
   ]
  },
  {
   "cell_type": "code",
   "execution_count": 79,
   "metadata": {},
   "outputs": [
    {
     "data": {
      "text/plain": [
       "Text(0,0.5,'Loss')"
      ]
     },
     "execution_count": 79,
     "metadata": {},
     "output_type": "execute_result"
    },
    {
     "data": {
      "image/png": "[encoded data removed]",
      "text/plain": [
       "<Figure size 432x288 with 1 Axes>"
      ]
     },
     "metadata": {},
     "output_type": "display_data"
    }
   ],
   "source": [
    "# adversarial_loss_map = get_2D_array_values(adversarial_loss, 0)\n",
    "# discrimator_loss_map = get_2D_array_values(discrimator_loss, 0)\n",
    "\n",
    "ax = pd.DataFrame(\n",
    "    {\n",
    "        'Adversarial Loss': adversarial_loss,\n",
    "        'Discriminative Loss': discrimator_loss,\n",
    "    }\n",
    ").plot(title='Training loss', logy=True)\n",
    "ax.set_xlabel(\"Training iterations\")\n",
    "ax.set_ylabel(\"Loss\")"
   ]
  },
  {
   "cell_type": "code",
   "execution_count": 80,
   "metadata": {},
   "outputs": [],
   "source": [
    "targets = test.Close[7:]\n",
    "preds = gan.predict(X_test).squeeze()"
   ]
  },
  {
   "cell_type": "code",
   "execution_count": 81,
   "metadata": {},
   "outputs": [
    {
     "data": {
      "text/plain": [
       "0.44181575456653355"
      ]
     },
     "execution_count": 81,
     "metadata": {},
     "output_type": "execute_result"
    }
   ],
   "source": [
    "# Should look at other metrics as well (MSE, RMSE, Accuracy)\n",
    "metrics.mean_absolute_error(preds, y_test)"
   ]
  },
  {
   "cell_type": "code",
   "execution_count": 82,
   "metadata": {},
   "outputs": [
    {
     "data": {
      "image/png": "[encoded data removed]",
      "text/plain": [
       "<Figure size 1152x648 with 1 Axes>"
      ]
     },
     "metadata": {},
     "output_type": "display_data"
    }
   ],
   "source": [
    "preds = test.Close.values[:-7] * (preds + 1)\n",
    "preds = pd.Series(index=targets.index, data=preds)\n",
    "\n",
    "line_plot(targets, preds, 'actual', 'prediction')"
   ]
  },
  {
   "cell_type": "code",
   "execution_count": 86,
   "metadata": {},
   "outputs": [
    {
     "data": {
      "image/png": "[encoded data removed]",
      "text/plain": [
       "<Figure size 1152x648 with 1 Axes>"
      ]
     },
     "metadata": {},
     "output_type": "display_data"
    }
   ],
   "source": [
    "n_points = 30\n",
    "\n",
    "line_plot(targets[-n_points:], preds[-n_points:], 'actual', 'prediction')"
   ]
  },
  {
   "cell_type": "code",
   "execution_count": null,
   "metadata": {},
   "outputs": [],
   "source": []
  }
 ],
 "metadata": {
  "kernelspec": {
   "display_name": "Python 3",
   "language": "python",
   "name": "python3"
  },
  "language_info": {
   "codemirror_mode": {
    "name": "ipython",
    "version": 3
   },
   "file_extension": ".py",
   "mimetype": "text/x-python",
   "name": "python",
   "nbconvert_exporter": "python",
   "pygments_lexer": "ipython3",
   "version": "3.5.2"
  }
 },
 "nbformat": 4,
 "nbformat_minor": 2
}
