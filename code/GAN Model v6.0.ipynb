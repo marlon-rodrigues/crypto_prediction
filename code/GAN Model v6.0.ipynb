{
 "cells": [
  {
   "cell_type": "markdown",
   "metadata": {},
   "source": [
    "# Experimentation Only"
   ]
  },
  {
   "cell_type": "code",
   "execution_count": 1,
   "metadata": {},
   "outputs": [
    {
     "name": "stdout",
     "output_type": "stream",
     "text": [
      "Requirement already satisfied: tqdm in /usr/local/lib/python3.5/dist-packages\n",
      "\u001b[33mYou are using pip version 9.0.3, however version 19.1.1 is available.\n",
      "You should consider upgrading via the 'pip install --upgrade pip' command.\u001b[0m\n"
     ]
    }
   ],
   "source": [
    "import sys\n",
    "!{sys.executable} -m pip install tqdm"
   ]
  },
  {
   "cell_type": "code",
   "execution_count": 2,
   "metadata": {},
   "outputs": [
    {
     "name": "stderr",
     "output_type": "stream",
     "text": [
      "/usr/local/lib/python3.5/dist-packages/sklearn/cross_validation.py:41: DeprecationWarning: This module was deprecated in version 0.18 in favor of the model_selection module into which all the refactored classes and functions are moved. Also note that the interface of the new CV iterators are different from that of this module. This module will be removed in 0.20.\n",
      "  \"This module will be removed in 0.20.\", DeprecationWarning)\n",
      "/usr/local/lib/python3.5/dist-packages/h5py/__init__.py:36: FutureWarning: Conversion of the second argument of issubdtype from `float` to `np.floating` is deprecated. In future, it will be treated as `np.float64 == np.dtype(float).type`.\n",
      "  from ._conv import register_converters as _register_converters\n",
      "Using TensorFlow backend.\n"
     ]
    }
   ],
   "source": [
    "import math\n",
    "import matplotlib.pyplot as plt\n",
    "import pandas as pd\n",
    "import numpy as np\n",
    "import time\n",
    "from datetime import datetime\n",
    "import datetime as dt\n",
    "from mpl_toolkits.mplot3d import Axes3D\n",
    "from tqdm import tqdm, tqdm_notebook\n",
    "%matplotlib inline\n",
    "\n",
    "#For Prediction\n",
    "from sklearn import metrics\n",
    "from sklearn import preprocessing, cross_validation\n",
    "from sklearn.model_selection import train_test_split\n",
    "from sklearn.preprocessing import MinMaxScaler\n",
    "\n",
    "import keras\n",
    "from keras.layers import Dense, Dropout, Input, LSTM, Reshape, Flatten, Activation\n",
    "from keras.models import Model,Sequential\n",
    "from keras.datasets import mnist\n",
    "from tqdm import tqdm\n",
    "from keras.layers.advanced_activations import LeakyReLU\n",
    "from keras.optimizers import Adam, RMSprop"
   ]
  },
  {
   "cell_type": "code",
   "execution_count": 3,
   "metadata": {},
   "outputs": [
    {
     "data": {
      "text/html": [
       "<div>\n",
       "<style scoped>\n",
       "    .dataframe tbody tr th:only-of-type {\n",
       "        vertical-align: middle;\n",
       "    }\n",
       "\n",
       "    .dataframe tbody tr th {\n",
       "        vertical-align: top;\n",
       "    }\n",
       "\n",
       "    .dataframe thead th {\n",
       "        text-align: right;\n",
       "    }\n",
       "</style>\n",
       "<table border=\"1\" class=\"dataframe\">\n",
       "  <thead>\n",
       "    <tr style=\"text-align: right;\">\n",
       "      <th></th>\n",
       "      <th>Date</th>\n",
       "      <th>Symbol</th>\n",
       "      <th>Open</th>\n",
       "      <th>High</th>\n",
       "      <th>Low</th>\n",
       "      <th>Close</th>\n",
       "      <th>Volume BTC</th>\n",
       "      <th>Volume USD</th>\n",
       "      <th>Popularity</th>\n",
       "      <th>Popularity_Normalized</th>\n",
       "    </tr>\n",
       "  </thead>\n",
       "  <tbody>\n",
       "    <tr>\n",
       "      <th>0</th>\n",
       "      <td>2019-05-11</td>\n",
       "      <td>BTCUSD</td>\n",
       "      <td>6337.9</td>\n",
       "      <td>6984.8</td>\n",
       "      <td>6337.9</td>\n",
       "      <td>6793.5</td>\n",
       "      <td>9855.87</td>\n",
       "      <td>66133073.75</td>\n",
       "      <td>12.0</td>\n",
       "      <td>1200.0</td>\n",
       "    </tr>\n",
       "    <tr>\n",
       "      <th>1</th>\n",
       "      <td>2019-05-10</td>\n",
       "      <td>BTCUSD</td>\n",
       "      <td>6151.4</td>\n",
       "      <td>6430.0</td>\n",
       "      <td>6110.1</td>\n",
       "      <td>6337.9</td>\n",
       "      <td>9872.86</td>\n",
       "      <td>62166515.28</td>\n",
       "      <td>12.0</td>\n",
       "      <td>1200.0</td>\n",
       "    </tr>\n",
       "    <tr>\n",
       "      <th>2</th>\n",
       "      <td>2019-05-09</td>\n",
       "      <td>BTCUSD</td>\n",
       "      <td>5939.6</td>\n",
       "      <td>6174.0</td>\n",
       "      <td>5933.2</td>\n",
       "      <td>6151.4</td>\n",
       "      <td>7405.18</td>\n",
       "      <td>44816872.39</td>\n",
       "      <td>12.0</td>\n",
       "      <td>1200.0</td>\n",
       "    </tr>\n",
       "    <tr>\n",
       "      <th>3</th>\n",
       "      <td>2019-05-08</td>\n",
       "      <td>BTCUSD</td>\n",
       "      <td>5744.0</td>\n",
       "      <td>5983.2</td>\n",
       "      <td>5660.0</td>\n",
       "      <td>5939.6</td>\n",
       "      <td>6007.11</td>\n",
       "      <td>35184697.52</td>\n",
       "      <td>12.0</td>\n",
       "      <td>1200.0</td>\n",
       "    </tr>\n",
       "    <tr>\n",
       "      <th>4</th>\n",
       "      <td>2019-05-07</td>\n",
       "      <td>BTCUSD</td>\n",
       "      <td>5687.4</td>\n",
       "      <td>5955.8</td>\n",
       "      <td>5687.4</td>\n",
       "      <td>5906.7</td>\n",
       "      <td>3668.12</td>\n",
       "      <td>21496575.65</td>\n",
       "      <td>12.0</td>\n",
       "      <td>1200.0</td>\n",
       "    </tr>\n",
       "  </tbody>\n",
       "</table>\n",
       "</div>"
      ],
      "text/plain": [
       "         Date  Symbol    Open    High     Low   Close  Volume BTC  \\\n",
       "0  2019-05-11  BTCUSD  6337.9  6984.8  6337.9  6793.5     9855.87   \n",
       "1  2019-05-10  BTCUSD  6151.4  6430.0  6110.1  6337.9     9872.86   \n",
       "2  2019-05-09  BTCUSD  5939.6  6174.0  5933.2  6151.4     7405.18   \n",
       "3  2019-05-08  BTCUSD  5744.0  5983.2  5660.0  5939.6     6007.11   \n",
       "4  2019-05-07  BTCUSD  5687.4  5955.8  5687.4  5906.7     3668.12   \n",
       "\n",
       "    Volume USD  Popularity  Popularity_Normalized  \n",
       "0  66133073.75        12.0                 1200.0  \n",
       "1  62166515.28        12.0                 1200.0  \n",
       "2  44816872.39        12.0                 1200.0  \n",
       "3  35184697.52        12.0                 1200.0  \n",
       "4  21496575.65        12.0                 1200.0  "
      ]
     },
     "execution_count": 3,
     "metadata": {},
     "output_type": "execute_result"
    }
   ],
   "source": [
    "# Read Datasets \n",
    "# research_data = pd.read_csv('Datasets/BlockChain_Train_csv.csv')\n",
    "# research_data.head()\n",
    "\n",
    "# Read Datasets \n",
    "research_data_raw = pd.read_csv('Datasets/bitcoin_research_data_v2.csv')\n",
    "# Drop unnecessary columns\n",
    "research_data = research_data_raw.drop('Unnamed: 0', axis=1)\n",
    "research_data.head()"
   ]
  },
  {
   "cell_type": "code",
   "execution_count": 4,
   "metadata": {},
   "outputs": [
    {
     "data": {
      "text/html": [
       "<div>\n",
       "<style scoped>\n",
       "    .dataframe tbody tr th:only-of-type {\n",
       "        vertical-align: middle;\n",
       "    }\n",
       "\n",
       "    .dataframe tbody tr th {\n",
       "        vertical-align: top;\n",
       "    }\n",
       "\n",
       "    .dataframe thead th {\n",
       "        text-align: right;\n",
       "    }\n",
       "</style>\n",
       "<table border=\"1\" class=\"dataframe\">\n",
       "  <thead>\n",
       "    <tr style=\"text-align: right;\">\n",
       "      <th></th>\n",
       "      <th>Date</th>\n",
       "      <th>Symbol</th>\n",
       "      <th>Open</th>\n",
       "      <th>High</th>\n",
       "      <th>Low</th>\n",
       "      <th>Close</th>\n",
       "      <th>Volume BTC</th>\n",
       "      <th>Volume USD</th>\n",
       "      <th>Popularity</th>\n",
       "      <th>Popularity_Normalized</th>\n",
       "    </tr>\n",
       "  </thead>\n",
       "  <tbody>\n",
       "    <tr>\n",
       "      <th>1803</th>\n",
       "      <td>2014-05-22</td>\n",
       "      <td>BTCUSD</td>\n",
       "      <td>494.77</td>\n",
       "      <td>530.00</td>\n",
       "      <td>494.77</td>\n",
       "      <td>530.00</td>\n",
       "      <td>32.85</td>\n",
       "      <td>16875.67</td>\n",
       "      <td>2.0</td>\n",
       "      <td>200.0</td>\n",
       "    </tr>\n",
       "    <tr>\n",
       "      <th>1804</th>\n",
       "      <td>2014-05-21</td>\n",
       "      <td>BTCUSD</td>\n",
       "      <td>493.43</td>\n",
       "      <td>497.67</td>\n",
       "      <td>490.85</td>\n",
       "      <td>494.77</td>\n",
       "      <td>4.24</td>\n",
       "      <td>2092.04</td>\n",
       "      <td>2.0</td>\n",
       "      <td>200.0</td>\n",
       "    </tr>\n",
       "    <tr>\n",
       "      <th>1805</th>\n",
       "      <td>2014-05-20</td>\n",
       "      <td>BTCUSD</td>\n",
       "      <td>445.56</td>\n",
       "      <td>498.84</td>\n",
       "      <td>445.56</td>\n",
       "      <td>493.43</td>\n",
       "      <td>25.28</td>\n",
       "      <td>11926.23</td>\n",
       "      <td>2.0</td>\n",
       "      <td>200.0</td>\n",
       "    </tr>\n",
       "    <tr>\n",
       "      <th>1806</th>\n",
       "      <td>2014-05-19</td>\n",
       "      <td>BTCUSD</td>\n",
       "      <td>445.56</td>\n",
       "      <td>445.56</td>\n",
       "      <td>445.56</td>\n",
       "      <td>445.56</td>\n",
       "      <td>0.00</td>\n",
       "      <td>0.00</td>\n",
       "      <td>2.0</td>\n",
       "      <td>200.0</td>\n",
       "    </tr>\n",
       "    <tr>\n",
       "      <th>1807</th>\n",
       "      <td>2014-05-18</td>\n",
       "      <td>BTCUSD</td>\n",
       "      <td>453.83</td>\n",
       "      <td>453.83</td>\n",
       "      <td>445.56</td>\n",
       "      <td>445.56</td>\n",
       "      <td>2.58</td>\n",
       "      <td>1151.52</td>\n",
       "      <td>2.0</td>\n",
       "      <td>200.0</td>\n",
       "    </tr>\n",
       "  </tbody>\n",
       "</table>\n",
       "</div>"
      ],
      "text/plain": [
       "            Date  Symbol    Open    High     Low   Close  Volume BTC  \\\n",
       "1803  2014-05-22  BTCUSD  494.77  530.00  494.77  530.00       32.85   \n",
       "1804  2014-05-21  BTCUSD  493.43  497.67  490.85  494.77        4.24   \n",
       "1805  2014-05-20  BTCUSD  445.56  498.84  445.56  493.43       25.28   \n",
       "1806  2014-05-19  BTCUSD  445.56  445.56  445.56  445.56        0.00   \n",
       "1807  2014-05-18  BTCUSD  453.83  453.83  445.56  445.56        2.58   \n",
       "\n",
       "      Volume USD  Popularity  Popularity_Normalized  \n",
       "1803    16875.67         2.0                  200.0  \n",
       "1804     2092.04         2.0                  200.0  \n",
       "1805    11926.23         2.0                  200.0  \n",
       "1806        0.00         2.0                  200.0  \n",
       "1807     1151.52         2.0                  200.0  "
      ]
     },
     "execution_count": 4,
     "metadata": {},
     "output_type": "execute_result"
    }
   ],
   "source": [
    "research_data.tail()"
   ]
  },
  {
   "cell_type": "code",
   "execution_count": 125,
   "metadata": {},
   "outputs": [],
   "source": [
    "TIME_STEPS = 15\n",
    "BATCH_SIZE_OUT = 20 # 16 was better\n",
    "LR = 0.005\n",
    "# epochs = 150\n",
    "EPOCHS = 50"
   ]
  },
  {
   "cell_type": "code",
   "execution_count": 126,
   "metadata": {},
   "outputs": [
    {
     "name": "stdout",
     "output_type": "stream",
     "text": [
      "Train and Test size 1446 362\n"
     ]
    }
   ],
   "source": [
    "# Normalize and convert DataFrame into ndArray\n",
    "# train_cols = [\"Open\",\"High\",\"Low\",\"Close\",\"Volume USD\",\"Popularity_Normalized\"]\n",
    "#train_cols = [\"Close\",\"TransactionsPerBlock\",\"USD_Exchange_Trade_Volume\",\"BlockSize_d\",\"Total_Number_of_Transactions_d\",\"Estimated_Transaction_Value_USD\"]\n",
    "train_cols = [\"Close\"]\n",
    "\n",
    "df_train, df_test = train_test_split(research_data, train_size=0.8, test_size=0.2, shuffle=False)\n",
    "print(\"Train and Test size\", len(df_train), len(df_test))\n",
    "\n",
    "# scale the feature MinMax, build array\n",
    "x = df_train.loc[:,train_cols].values\n",
    "min_max_scaler = MinMaxScaler()\n",
    "x_train_out = min_max_scaler.fit_transform(x)\n",
    "x_test_out = min_max_scaler.transform(df_test.loc[:,train_cols])\n"
   ]
  },
  {
   "cell_type": "code",
   "execution_count": 127,
   "metadata": {},
   "outputs": [],
   "source": [
    "def build_timeseries(mat, y_col_index):\n",
    "    # y_col_index is the index of column that would act as output column\n",
    "    # total number of time-series samples would be len(mat) - TIME_STEPS\n",
    "    dim_0 = mat.shape[0] - TIME_STEPS\n",
    "    dim_1 = mat.shape[1]\n",
    "    x = np.zeros((dim_0, TIME_STEPS, dim_1))\n",
    "    y = np.zeros((dim_0,))\n",
    "    \n",
    "#     for i in tqdm_notebook(range(dim_0)):\n",
    "#         x[i] = mat[i:TIME_STEPS+i]\n",
    "#         y[i] = mat[TIME_STEPS+i, y_col_index]\n",
    "#     print(\"length of time-series i/o\",x.shape,y.shape)\n",
    "    for i in range(dim_0):\n",
    "        x[i] = mat[i:TIME_STEPS+i]\n",
    "        y[i] = mat[TIME_STEPS+i, y_col_index]\n",
    "    #print(\"length of time-series i/o\",x.shape,y.shape)\n",
    "    return x, y"
   ]
  },
  {
   "cell_type": "code",
   "execution_count": 128,
   "metadata": {},
   "outputs": [],
   "source": [
    "def trim_dataset(mat, batch_size):\n",
    "    \"\"\"\n",
    "    trims dataset to a size that's divisible by BATCH_SIZE_OUT\n",
    "    \"\"\"\n",
    "    no_of_rows_drop = mat.shape[0]%batch_size\n",
    "    if(no_of_rows_drop > 0):\n",
    "        return mat[:-no_of_rows_drop]\n",
    "    else:\n",
    "        return mat"
   ]
  },
  {
   "cell_type": "code",
   "execution_count": 129,
   "metadata": {},
   "outputs": [],
   "source": [
    "def load_data(x_train, x_test, batch_size):\n",
    "    x_t, y_t = build_timeseries(x_train, 0) # index of output (3)\n",
    "    x_t = trim_dataset(x_t, batch_size)\n",
    "    y_t = trim_dataset(y_t, batch_size)\n",
    "    x_temp, y_temp = build_timeseries(x_test, 0) # index of output (3)\n",
    "    x_val, x_test_t = np.split(trim_dataset(x_temp, batch_size),2)\n",
    "    y_val, y_test_t = np.split(trim_dataset(y_temp, batch_size),2)\n",
    "    \n",
    "    return [x_t, y_t, x_val, x_test_t, y_val, y_test_t]"
   ]
  },
  {
   "cell_type": "code",
   "execution_count": 130,
   "metadata": {},
   "outputs": [],
   "source": [
    "def adam_optimizer():\n",
    "    return Adam(lr=0.0002, beta_1=0.5)"
   ]
  },
  {
   "cell_type": "code",
   "execution_count": 175,
   "metadata": {},
   "outputs": [
    {
     "name": "stdout",
     "output_type": "stream",
     "text": [
      "_________________________________________________________________\n",
      "Layer (type)                 Output Shape              Param #   \n",
      "=================================================================\n",
      "lstm_25 (LSTM)               (20, 15, 32)              4352      \n",
      "_________________________________________________________________\n",
      "dropout_44 (Dropout)         (20, 15, 32)              0         \n",
      "_________________________________________________________________\n",
      "lstm_26 (LSTM)               (20, 16)                  3136      \n",
      "_________________________________________________________________\n",
      "dense_91 (Dense)             (20, 1)                   17        \n",
      "_________________________________________________________________\n",
      "activation_3 (Activation)    (20, 1)                   0         \n",
      "=================================================================\n",
      "Total params: 7,505\n",
      "Trainable params: 7,505\n",
      "Non-trainable params: 0\n",
      "_________________________________________________________________\n"
     ]
    }
   ],
   "source": [
    "def create_generator():\n",
    "#     generator=Sequential()\n",
    "#     generator.add(Dense(units=128,input_dim=8))\n",
    "#     generator.add(LeakyReLU(0.2))\n",
    "    \n",
    "#     generator.add(Dense(units=256))\n",
    "#     generator.add(LeakyReLU(0.2))\n",
    "    \n",
    "#     generator.add(Dense(units=512))\n",
    "#     generator.add(LeakyReLU(0.2))\n",
    "    \n",
    "#     generator.add(Dense(units=8, activation='tanh'))\n",
    "    \n",
    "#     #generator.compile(loss='binary_crossentropy', optimizer=adam_optimizer(), metrics=['accuracy'])\n",
    "#     generator.compile(loss='binary_crossentropy', optimizer='adam', metrics=['accuracy'])\n",
    "\n",
    "    # 6 below = x_t.shape[2]\n",
    "#     generator = Sequential()\n",
    "#     #generator.add(LSTM(16, batch_input_shape=(BATCH_SIZE_OUT, TIME_STEPS, 6), dropout=0.0, recurrent_dropout=0.0, stateful=True, kernel_initializer='random_uniform', return_sequences=False)) \n",
    "#     # stateful = true breaks the model (https://github.com/keras-team/keras/issues/9385)\n",
    "#     generator.add(LSTM(16, batch_input_shape=(BATCH_SIZE_OUT, TIME_STEPS, 1), return_sequences=True)) \n",
    "#     generator.add(Dense(8,activation='relu'))\n",
    "#     generator.add(Dropout(0.7))\n",
    "#     generator.add(LSTM(8, return_sequences=False))\n",
    "#     generator.add(Dense(1,activation='sigmoid'))\n",
    "#     #generator.add(Reshape((TIME_STEPS, 1)))\n",
    "#     optimizer = RMSprop(lr=LR, decay=3e-8)\n",
    "#     #generator.compile(loss='mean_squared_error', optimizer='adam', metrics=['accuracy'])\n",
    "#     generator.compile(loss='mean_squared_error', optimizer=optimizer, metrics=['accuracy'])\n",
    "    \n",
    "    \n",
    "    generator = Sequential()\n",
    "    generator.add(LSTM(32, batch_input_shape=(BATCH_SIZE_OUT, TIME_STEPS, 1), return_sequences=True))\n",
    "    generator.add(Dropout(0.7))\n",
    "    generator.add(LSTM(16, return_sequences=False))\n",
    "    generator.add(Dense(1))\n",
    "    generator.add(Activation('tanh'))\n",
    "    optimizer = RMSprop(lr=0.005, clipvalue=1.)\n",
    "    generator.compile(loss='mean_squared_error', optimizer='adam', metrics=['accuracy'])\n",
    "\n",
    "\n",
    "    return generator\n",
    "g=create_generator()\n",
    "g.summary()"
   ]
  },
  {
   "cell_type": "code",
   "execution_count": 176,
   "metadata": {},
   "outputs": [
    {
     "name": "stdout",
     "output_type": "stream",
     "text": [
      "_________________________________________________________________\n",
      "Layer (type)                 Output Shape              Param #   \n",
      "=================================================================\n",
      "dense_92 (Dense)             (148, 15, 512)            1024      \n",
      "_________________________________________________________________\n",
      "leaky_re_lu_45 (LeakyReLU)   (148, 15, 512)            0         \n",
      "_________________________________________________________________\n",
      "dropout_45 (Dropout)         (148, 15, 512)            0         \n",
      "_________________________________________________________________\n",
      "dense_93 (Dense)             (148, 15, 256)            131328    \n",
      "_________________________________________________________________\n",
      "leaky_re_lu_46 (LeakyReLU)   (148, 15, 256)            0         \n",
      "_________________________________________________________________\n",
      "dropout_46 (Dropout)         (148, 15, 256)            0         \n",
      "_________________________________________________________________\n",
      "dense_94 (Dense)             (148, 15, 128)            32896     \n",
      "_________________________________________________________________\n",
      "leaky_re_lu_47 (LeakyReLU)   (148, 15, 128)            0         \n",
      "_________________________________________________________________\n",
      "dense_95 (Dense)             (148, 15, 1)              129       \n",
      "=================================================================\n",
      "Total params: 165,377\n",
      "Trainable params: 165,377\n",
      "Non-trainable params: 0\n",
      "_________________________________________________________________\n"
     ]
    }
   ],
   "source": [
    "def create_discriminator():\n",
    "    optimizer = RMSprop(lr=0.0002, decay=6e-8)\n",
    "\n",
    "    discriminator=Sequential()\n",
    "    #discriminator.add(Dense(units=512, batch_input_shape=(BATCH_SIZE_OUT, TIME_STEPS, 1)))\n",
    "    discriminator.add(Dense(units=512, batch_input_shape=(148, TIME_STEPS, 1)))\n",
    "    \n",
    "    #discriminator.add(Dense(units=512,input_dim=6))\n",
    "    discriminator.add(LeakyReLU(0.2))\n",
    "    discriminator.add(Dropout(0.3))\n",
    "       \n",
    "    \n",
    "#     discriminator.add(Dense(units=256))\n",
    "#     discriminator.add(LeakyReLU(0.2))\n",
    "#     discriminator.add(Dropout(0.3))\n",
    "       \n",
    "    discriminator.add(Dense(units=128))\n",
    "    discriminator.add(LeakyReLU(0.2))\n",
    "    \n",
    "    #discriminator.add(Reshape((5, 1)))\n",
    "    \n",
    "    discriminator.add(Dense(units=1, activation='sigmoid'))\n",
    "    \n",
    "    discriminator.compile(loss='binary_crossentropy', optimizer=optimizer, metrics=['accuracy'])\n",
    "\n",
    "#     discriminator = Sequential()\n",
    "#     discriminator.add(LSTM(16, batch_input_shape=(BATCH_SIZE_OUT, TIME_STEPS, 6), dropout=0.0, recurrent_dropout=0.0, kernel_initializer='random_uniform', return_sequences=False)) \n",
    "#     discriminator.add(Dense(8,activation='relu'))\n",
    "#     discriminator.add(Dropout(0.7))\n",
    "#     discriminator.add(Dense(1,activation='sigmoid'))\n",
    "\n",
    "#     discriminator.compile(loss='mean_squared_error', optimizer='adam', metrics=['accuracy'])\n",
    "    \n",
    "    return discriminator\n",
    "d =create_discriminator()\n",
    "d.summary()"
   ]
  },
  {
   "cell_type": "code",
   "execution_count": 177,
   "metadata": {},
   "outputs": [
    {
     "name": "stdout",
     "output_type": "stream",
     "text": [
      "_________________________________________________________________\n",
      "Layer (type)                 Output Shape              Param #   \n",
      "=================================================================\n",
      "input_19 (InputLayer)        (None, 15, 1)             0         \n",
      "_________________________________________________________________\n",
      "sequential_36 (Sequential)   multiple                  7505      \n",
      "_________________________________________________________________\n",
      "sequential_37 (Sequential)   multiple                  165377    \n",
      "=================================================================\n",
      "Total params: 172,882\n",
      "Trainable params: 7,505\n",
      "Non-trainable params: 165,377\n",
      "_________________________________________________________________\n"
     ]
    }
   ],
   "source": [
    "def create_gan(discriminator, generator):\n",
    "    optimizer = RMSprop(lr=0.0001, decay=3e-8)\n",
    "    discriminator.trainable=False\n",
    "    gan_input = Input(shape=(TIME_STEPS, 1)) # x_t.shape[2] = 6\n",
    "    #Input(shape=(None, latent_dim))\n",
    "    x = generator(gan_input)\n",
    "    gan_output= discriminator(x)\n",
    "    gan = Model(inputs=gan_input, outputs=gan_output)\n",
    "    gan.compile(loss='binary_crossentropy', optimizer=optimizer, metrics=['accuracy'])\n",
    "    return gan\n",
    "gan = create_gan(d,g)\n",
    "gan.summary()"
   ]
  },
  {
   "cell_type": "code",
   "execution_count": 178,
   "metadata": {},
   "outputs": [],
   "source": [
    "import keras.backend as K\n",
    "\n",
    "adversarial_loss = []\n",
    "discrimator_loss = []\n",
    "gen_samples = []\n",
    "\n",
    "#K.clear_session()\n",
    "generator = create_generator()\n",
    "discriminator = create_discriminator()\n",
    "gan = create_gan(discriminator, generator)\n",
    "(X_train, y_train, X_val, X_test, y_val, y_test) = load_data(x_train_out, x_test_out, BATCH_SIZE_OUT)\n",
    "\n",
    "def training(epochs=1, batch_size=128):\n",
    "    global adversarial_loss\n",
    "    global discrimator_loss\n",
    "    global gen_samples\n",
    "    \n",
    "    global generator\n",
    "    global discriminator\n",
    "    global gan\n",
    "\n",
    "    global X_train\n",
    "    global y_train\n",
    "    global X_val\n",
    "    global X_test\n",
    "    global y_val\n",
    "    global y_test\n",
    "    \n",
    "    \n",
    "    #Loading the data\n",
    "    #(X_train, y_train, X_test, y_test) = load_data()\n",
    "    #(X_train, y_train, X_val, X_test, y_val, y_test) = load_data(x_train_out, x_test_out, BATCH_SIZE_OUT)\n",
    "    batch_count = X_train.shape[0] / batch_size\n",
    "    \n",
    "    # Creating GAN\n",
    "    # generator = create_generator()\n",
    "    # discriminator = create_discriminator()\n",
    "    # gan = create_gan(discriminator, generator)\n",
    "    #gan = create_gan2(discriminator, generator)\n",
    "    \n",
    "    for e in range(1, epochs+1 ):\n",
    "        print(\"Epoch %d\" %e)\n",
    "        for i in tqdm(range(batch_size)):\n",
    "            #generate  random noise as an input  to  initialize the  generator\n",
    "            #noise = np.random.normal(0,1, [BATCH_SIZE_OUT, TIME_STEPS, X_train.shape[2]])\n",
    "            noise = np.float32(np.random.normal(size=[BATCH_SIZE_OUT, TIME_STEPS, X_train.shape[2]]))\n",
    "            \n",
    "            # Generate fake prices from noised input\n",
    "            generated_prices = generator.predict(noise)\n",
    "            \n",
    "            # Get a random set of real prices\n",
    "            prices_batch = X_train[np.random.randint(low=0,high=X_train.shape[0],size=batch_size)]\n",
    "            \n",
    "            \n",
    "            #dim_0 = generated_prices.shape[0] - TIME_STEPS\n",
    "            dim_0 = generated_prices.shape[0]\n",
    "            dim_1 = generated_prices.shape[1]\n",
    "            gen_prices = np.zeros((dim_0, TIME_STEPS, 1))\n",
    "\n",
    "            #print('Shapes 1')\n",
    "            #print(noise.shape)\n",
    "            #print(prices_batch.shape)\n",
    "            #print(generated_prices.shape)     \n",
    "            #print(gen_prices.shape)\n",
    "            #print(prices_batch)\n",
    "            #print(generated_prices)\n",
    "            \n",
    "            #Construct different batches of real and fake data \n",
    "            X = np.concatenate([prices_batch, gen_prices])\n",
    "            \n",
    "            # Labels for generated and real data\n",
    "            #y_dis = np.zeros(2*batch_size)\n",
    "            #y_dis = np.zeros(shape=(2*BATCH_SIZE_OUT, TIME_STEPS, X_train.shape[2]))\n",
    "            y_dis = np.zeros(shape=(X.shape[0], TIME_STEPS, X_train.shape[2]))\n",
    "            #y_dis[:batch_size]=0.9\n",
    "            y_dis[:int((X.shape[0]/2))]=0.9\n",
    "            #y_dis[0,:,batch_size]=0.9\n",
    "            \n",
    "            #print('Shapes 2')\n",
    "            #print(X.shape)\n",
    "            #print(y_dis.shape)\n",
    "            #print(y_dis)\n",
    "            \n",
    "            #Pre train discriminator on fake and real data before starting the gan. \n",
    "            discriminator.trainable = True\n",
    "            d_loss = discriminator.train_on_batch(X, y_dis)\n",
    "            \n",
    "            #Tricking the noised input of the Generator as real data\n",
    "            #noise = np.random.normal(0,1, [batch_size, 8])\n",
    "            #y_gen = np.ones(batch_size)\n",
    "            noise = np.float32(np.random.normal(size=[BATCH_SIZE_OUT, TIME_STEPS, X_train.shape[2]]))\n",
    "            #y_gen = np.ones(shape=(noise.shape[0], TIME_STEPS, X_train.shape[2]))\n",
    "            y_gen = np.ones(BATCH_SIZE_OUT)\n",
    "            \n",
    "            # During the training of gan, \n",
    "            # the weights of discriminator should be fixed. \n",
    "            #We can enforce that by setting the trainable flag\n",
    "            discriminator.trainable=False\n",
    "            \n",
    "            #print('Shapes 3')\n",
    "            #print(noise.shape)\n",
    "            #print(y_gen.shape)\n",
    "            \n",
    "            #training the GAN by alternating the training of the Discriminator \n",
    "            #and training the chained GAN model with Discriminator’s weights freezed.\n",
    "            a_loss = gan.train_on_batch(noise, y_gen)\n",
    "            \n",
    "            if i == (batch_size-1):\n",
    "                log_mesg = \"%d: [D loss: %f, acc: %f]\" % (e, d_loss[0], d_loss[1])\n",
    "                log_mesg = \"%s  [A loss: %f, acc: %f]\" % (log_mesg, a_loss[0], a_loss[1])\n",
    "                print(log_mesg)\n",
    "                \n",
    "            discrimator_loss.append(d_loss)\n",
    "            adversarial_loss.append(a_loss)\n",
    "            \n",
    "        if e == 1 or e % 5 == 0:\n",
    "            # generate synthetic dataset\n",
    "            gen_samples_set = []\n",
    "            for batch_idx in range(int(len(X_train) / batch_size)):\n",
    "            # for batch_idx in range(int(len(X_train) / 100)):\n",
    "                # noise= np.random.normal(loc=0, scale=1, size=[100, 100])\n",
    "                #noise= np.random.normal(0,1, [batch_size, 8])\n",
    "                noise = np.float32(np.random.normal(size=[BATCH_SIZE_OUT, TIME_STEPS, X_train.shape[2]]))\n",
    "                generated_data = generator.predict(noise)\n",
    "                gen_samples_set.append(generated_data)\n",
    "\n",
    "            gen_samples = np.vstack(gen_samples_set)"
   ]
  },
  {
   "cell_type": "code",
   "execution_count": 179,
   "metadata": {},
   "outputs": [
    {
     "name": "stderr",
     "output_type": "stream",
     "text": [
      "\r",
      "  0%|          | 0/128 [00:00<?, ?it/s]"
     ]
    },
    {
     "name": "stdout",
     "output_type": "stream",
     "text": [
      "Epoch 1\n"
     ]
    },
    {
     "name": "stderr",
     "output_type": "stream",
     "text": [
      "100%|██████████| 128/128 [00:24<00:00,  9.11it/s]\n",
      "  1%|          | 1/128 [00:00<00:16,  7.88it/s]"
     ]
    },
    {
     "name": "stdout",
     "output_type": "stream",
     "text": [
      "1: [D loss: 0.652669, acc: 0.474324]  [A loss: 0.711696, acc: 0.100000]\n",
      "Epoch 2\n"
     ]
    },
    {
     "name": "stderr",
     "output_type": "stream",
     "text": [
      "100%|██████████| 128/128 [00:14<00:00,  8.20it/s]\n",
      "  1%|          | 1/128 [00:00<00:17,  7.42it/s]"
     ]
    },
    {
     "name": "stdout",
     "output_type": "stream",
     "text": [
      "2: [D loss: 0.700011, acc: 0.254054]  [A loss: 0.684564, acc: 0.600000]\n",
      "Epoch 3\n"
     ]
    },
    {
     "name": "stderr",
     "output_type": "stream",
     "text": [
      "100%|██████████| 128/128 [00:14<00:00,  8.34it/s]\n",
      "  1%|          | 1/128 [00:00<00:17,  7.31it/s]"
     ]
    },
    {
     "name": "stdout",
     "output_type": "stream",
     "text": [
      "3: [D loss: 0.629176, acc: 0.202703]  [A loss: 0.667553, acc: 0.850000]\n",
      "Epoch 4\n"
     ]
    },
    {
     "name": "stderr",
     "output_type": "stream",
     "text": [
      "100%|██████████| 128/128 [00:14<00:00,  9.02it/s]\n",
      "  1%|          | 1/128 [00:00<00:17,  7.27it/s]"
     ]
    },
    {
     "name": "stdout",
     "output_type": "stream",
     "text": [
      "4: [D loss: 0.648143, acc: 0.193694]  [A loss: 0.615914, acc: 1.000000]\n",
      "Epoch 5\n"
     ]
    },
    {
     "name": "stderr",
     "output_type": "stream",
     "text": [
      "100%|██████████| 128/128 [00:14<00:00,  8.35it/s]\n",
      "  1%|          | 1/128 [00:00<00:16,  7.57it/s]"
     ]
    },
    {
     "name": "stdout",
     "output_type": "stream",
     "text": [
      "5: [D loss: 0.657264, acc: 0.165766]  [A loss: 0.616037, acc: 1.000000]\n",
      "Epoch 6\n"
     ]
    },
    {
     "name": "stderr",
     "output_type": "stream",
     "text": [
      "100%|██████████| 128/128 [00:14<00:00,  9.07it/s]\n",
      "  1%|          | 1/128 [00:00<00:16,  7.67it/s]"
     ]
    },
    {
     "name": "stdout",
     "output_type": "stream",
     "text": [
      "6: [D loss: 0.637042, acc: 0.167117]  [A loss: 0.624659, acc: 1.000000]\n",
      "Epoch 7\n"
     ]
    },
    {
     "name": "stderr",
     "output_type": "stream",
     "text": [
      "100%|██████████| 128/128 [00:14<00:00,  8.98it/s]\n",
      "  1%|          | 1/128 [00:00<00:17,  7.29it/s]"
     ]
    },
    {
     "name": "stdout",
     "output_type": "stream",
     "text": [
      "7: [D loss: 0.671757, acc: 0.493694]  [A loss: 0.747590, acc: 0.000000]\n",
      "Epoch 8\n"
     ]
    },
    {
     "name": "stderr",
     "output_type": "stream",
     "text": [
      "100%|██████████| 128/128 [00:14<00:00,  9.07it/s]\n",
      "  1%|          | 1/128 [00:00<00:17,  7.22it/s]"
     ]
    },
    {
     "name": "stdout",
     "output_type": "stream",
     "text": [
      "8: [D loss: 0.628521, acc: 0.164414]  [A loss: 0.617365, acc: 1.000000]\n",
      "Epoch 9\n"
     ]
    },
    {
     "name": "stderr",
     "output_type": "stream",
     "text": [
      "100%|██████████| 128/128 [00:14<00:00,  8.60it/s]\n",
      "  1%|          | 1/128 [00:00<00:19,  6.68it/s]"
     ]
    },
    {
     "name": "stdout",
     "output_type": "stream",
     "text": [
      "9: [D loss: 0.672659, acc: 0.192793]  [A loss: 0.610565, acc: 1.000000]\n",
      "Epoch 10\n"
     ]
    },
    {
     "name": "stderr",
     "output_type": "stream",
     "text": [
      "100%|██████████| 128/128 [00:14<00:00,  9.14it/s]\n",
      "  1%|          | 1/128 [00:00<00:16,  7.90it/s]"
     ]
    },
    {
     "name": "stdout",
     "output_type": "stream",
     "text": [
      "10: [D loss: 0.645999, acc: 0.284685]  [A loss: 0.650551, acc: 0.950000]\n",
      "Epoch 11\n"
     ]
    },
    {
     "name": "stderr",
     "output_type": "stream",
     "text": [
      "100%|██████████| 128/128 [00:14<00:00,  9.25it/s]\n",
      "  1%|          | 1/128 [00:00<00:16,  7.64it/s]"
     ]
    },
    {
     "name": "stdout",
     "output_type": "stream",
     "text": [
      "11: [D loss: 0.607845, acc: 0.238288]  [A loss: 0.664374, acc: 1.000000]\n",
      "Epoch 12\n"
     ]
    },
    {
     "name": "stderr",
     "output_type": "stream",
     "text": [
      "100%|██████████| 128/128 [00:14<00:00,  8.99it/s]\n",
      "  1%|          | 1/128 [00:00<00:17,  7.47it/s]"
     ]
    },
    {
     "name": "stdout",
     "output_type": "stream",
     "text": [
      "12: [D loss: 0.617289, acc: 0.265315]  [A loss: 0.655914, acc: 0.950000]\n",
      "Epoch 13\n"
     ]
    },
    {
     "name": "stderr",
     "output_type": "stream",
     "text": [
      "100%|██████████| 128/128 [00:14<00:00,  9.17it/s]\n",
      "  1%|          | 1/128 [00:00<00:15,  7.97it/s]"
     ]
    },
    {
     "name": "stdout",
     "output_type": "stream",
     "text": [
      "13: [D loss: 0.608111, acc: 0.167568]  [A loss: 0.639188, acc: 1.000000]\n",
      "Epoch 14\n"
     ]
    },
    {
     "name": "stderr",
     "output_type": "stream",
     "text": [
      "100%|██████████| 128/128 [00:14<00:00,  8.95it/s]\n",
      "  1%|          | 1/128 [00:00<00:17,  7.31it/s]"
     ]
    },
    {
     "name": "stdout",
     "output_type": "stream",
     "text": [
      "14: [D loss: 0.609759, acc: 0.186486]  [A loss: 0.648767, acc: 1.000000]\n",
      "Epoch 15\n"
     ]
    },
    {
     "name": "stderr",
     "output_type": "stream",
     "text": [
      "100%|██████████| 128/128 [00:15<00:00,  8.77it/s]\n",
      "  1%|          | 1/128 [00:00<00:17,  7.27it/s]"
     ]
    },
    {
     "name": "stdout",
     "output_type": "stream",
     "text": [
      "15: [D loss: 0.619617, acc: 0.316216]  [A loss: 0.686730, acc: 0.750000]\n",
      "Epoch 16\n"
     ]
    },
    {
     "name": "stderr",
     "output_type": "stream",
     "text": [
      "100%|██████████| 128/128 [00:14<00:00,  8.93it/s]\n",
      "  1%|          | 1/128 [00:00<00:17,  7.06it/s]"
     ]
    },
    {
     "name": "stdout",
     "output_type": "stream",
     "text": [
      "16: [D loss: 0.605029, acc: 0.268919]  [A loss: 0.620393, acc: 1.000000]\n",
      "Epoch 17\n"
     ]
    },
    {
     "name": "stderr",
     "output_type": "stream",
     "text": [
      "100%|██████████| 128/128 [00:14<00:00,  9.08it/s]\n",
      "  1%|          | 1/128 [00:00<00:16,  7.56it/s]"
     ]
    },
    {
     "name": "stdout",
     "output_type": "stream",
     "text": [
      "17: [D loss: 0.606846, acc: 0.281982]  [A loss: 0.692393, acc: 0.600000]\n",
      "Epoch 18\n"
     ]
    },
    {
     "name": "stderr",
     "output_type": "stream",
     "text": [
      "100%|██████████| 128/128 [00:14<00:00,  8.94it/s]\n",
      "  1%|          | 1/128 [00:00<00:15,  7.97it/s]"
     ]
    },
    {
     "name": "stdout",
     "output_type": "stream",
     "text": [
      "18: [D loss: 0.599371, acc: 0.144595]  [A loss: 0.676436, acc: 0.950000]\n",
      "Epoch 19\n"
     ]
    },
    {
     "name": "stderr",
     "output_type": "stream",
     "text": [
      "100%|██████████| 128/128 [00:14<00:00,  8.47it/s]\n",
      "  1%|          | 1/128 [00:00<00:20,  6.32it/s]"
     ]
    },
    {
     "name": "stdout",
     "output_type": "stream",
     "text": [
      "19: [D loss: 0.619678, acc: 0.296847]  [A loss: 0.688744, acc: 0.600000]\n",
      "Epoch 20\n"
     ]
    },
    {
     "name": "stderr",
     "output_type": "stream",
     "text": [
      "100%|██████████| 128/128 [00:15<00:00,  8.51it/s]\n",
      "  1%|          | 1/128 [00:00<00:15,  8.32it/s]"
     ]
    },
    {
     "name": "stdout",
     "output_type": "stream",
     "text": [
      "20: [D loss: 0.601534, acc: 0.140991]  [A loss: 0.654318, acc: 1.000000]\n",
      "Epoch 21\n"
     ]
    },
    {
     "name": "stderr",
     "output_type": "stream",
     "text": [
      "100%|██████████| 128/128 [00:15<00:00,  8.81it/s]\n",
      "  1%|          | 1/128 [00:00<00:17,  7.29it/s]"
     ]
    },
    {
     "name": "stdout",
     "output_type": "stream",
     "text": [
      "21: [D loss: 0.602904, acc: 0.145946]  [A loss: 1.433218, acc: 0.950000]\n",
      "Epoch 22\n"
     ]
    },
    {
     "name": "stderr",
     "output_type": "stream",
     "text": [
      "100%|██████████| 128/128 [00:14<00:00,  8.91it/s]\n",
      "  1%|          | 1/128 [00:00<00:14,  8.71it/s]"
     ]
    },
    {
     "name": "stdout",
     "output_type": "stream",
     "text": [
      "22: [D loss: 0.604270, acc: 0.142342]  [A loss: 0.645018, acc: 1.000000]\n",
      "Epoch 23\n"
     ]
    },
    {
     "name": "stderr",
     "output_type": "stream",
     "text": [
      "100%|██████████| 128/128 [00:14<00:00,  9.27it/s]\n",
      "  1%|          | 1/128 [00:00<00:15,  8.42it/s]"
     ]
    },
    {
     "name": "stdout",
     "output_type": "stream",
     "text": [
      "23: [D loss: 0.601766, acc: 0.319369]  [A loss: 0.672783, acc: 0.950000]\n",
      "Epoch 24\n"
     ]
    },
    {
     "name": "stderr",
     "output_type": "stream",
     "text": [
      "100%|██████████| 128/128 [00:16<00:00,  4.17it/s]\n",
      "  1%|          | 1/128 [00:00<00:20,  6.12it/s]"
     ]
    },
    {
     "name": "stdout",
     "output_type": "stream",
     "text": [
      "24: [D loss: 0.602924, acc: 0.147748]  [A loss: 0.669564, acc: 1.000000]\n",
      "Epoch 25\n"
     ]
    },
    {
     "name": "stderr",
     "output_type": "stream",
     "text": [
      "100%|██████████| 128/128 [01:17<00:00,  7.65it/s]\n",
      "  1%|          | 1/128 [00:00<00:15,  7.96it/s]"
     ]
    },
    {
     "name": "stdout",
     "output_type": "stream",
     "text": [
      "25: [D loss: 0.612426, acc: 0.279279]  [A loss: 0.669951, acc: 1.000000]\n",
      "Epoch 26\n"
     ]
    },
    {
     "name": "stderr",
     "output_type": "stream",
     "text": [
      "100%|██████████| 128/128 [00:19<00:00,  6.78it/s]\n",
      "  1%|          | 1/128 [00:00<00:18,  6.95it/s]"
     ]
    },
    {
     "name": "stdout",
     "output_type": "stream",
     "text": [
      "26: [D loss: 0.602354, acc: 0.141892]  [A loss: 0.673563, acc: 1.000000]\n",
      "Epoch 27\n"
     ]
    },
    {
     "name": "stderr",
     "output_type": "stream",
     "text": [
      "100%|██████████| 128/128 [00:19<00:00,  7.91it/s]\n",
      "  1%|          | 1/128 [00:00<00:19,  6.49it/s]"
     ]
    },
    {
     "name": "stdout",
     "output_type": "stream",
     "text": [
      "27: [D loss: 0.605418, acc: 0.166216]  [A loss: 0.664615, acc: 1.000000]\n",
      "Epoch 28\n"
     ]
    },
    {
     "name": "stderr",
     "output_type": "stream",
     "text": [
      "100%|██████████| 128/128 [28:19<00:00,  6.51it/s]  \n",
      "  1%|          | 1/128 [00:00<00:21,  5.82it/s]"
     ]
    },
    {
     "name": "stdout",
     "output_type": "stream",
     "text": [
      "28: [D loss: 0.597098, acc: 0.135135]  [A loss: 0.644860, acc: 1.000000]\n",
      "Epoch 29\n"
     ]
    },
    {
     "name": "stderr",
     "output_type": "stream",
     "text": [
      "100%|██████████| 128/128 [00:18<00:00,  7.23it/s]\n",
      "  1%|          | 1/128 [00:00<00:17,  7.46it/s]"
     ]
    },
    {
     "name": "stdout",
     "output_type": "stream",
     "text": [
      "29: [D loss: 0.601413, acc: 0.150000]  [A loss: 0.653289, acc: 1.000000]\n",
      "Epoch 30\n"
     ]
    },
    {
     "name": "stderr",
     "output_type": "stream",
     "text": [
      "100%|██████████| 128/128 [00:18<00:00,  9.07it/s]\n",
      "  1%|          | 1/128 [00:00<00:13,  9.64it/s]"
     ]
    },
    {
     "name": "stdout",
     "output_type": "stream",
     "text": [
      "30: [D loss: 0.613612, acc: 0.144595]  [A loss: 0.612706, acc: 1.000000]\n",
      "Epoch 31\n"
     ]
    },
    {
     "name": "stderr",
     "output_type": "stream",
     "text": [
      "100%|██████████| 128/128 [1:00:14<00:00,  4.03it/s]    \n",
      "  1%|          | 1/128 [00:00<00:23,  5.35it/s]"
     ]
    },
    {
     "name": "stdout",
     "output_type": "stream",
     "text": [
      "31: [D loss: 0.601212, acc: 0.160811]  [A loss: 0.667030, acc: 1.000000]\n",
      "Epoch 32\n"
     ]
    },
    {
     "name": "stderr",
     "output_type": "stream",
     "text": [
      "100%|██████████| 128/128 [00:19<00:00,  7.17it/s]\n",
      "  1%|          | 1/128 [00:00<00:18,  6.91it/s]"
     ]
    },
    {
     "name": "stdout",
     "output_type": "stream",
     "text": [
      "32: [D loss: 0.597219, acc: 0.355856]  [A loss: 0.685249, acc: 0.800000]\n",
      "Epoch 33\n"
     ]
    },
    {
     "name": "stderr",
     "output_type": "stream",
     "text": [
      "100%|██████████| 128/128 [00:18<00:00,  6.95it/s]\n",
      "  1%|          | 1/128 [00:00<00:14,  9.05it/s]"
     ]
    },
    {
     "name": "stdout",
     "output_type": "stream",
     "text": [
      "33: [D loss: 0.604376, acc: 0.377477]  [A loss: 0.887897, acc: 0.100000]\n",
      "Epoch 34\n"
     ]
    },
    {
     "name": "stderr",
     "output_type": "stream",
     "text": [
      "100%|██████████| 128/128 [00:15<00:00,  7.16it/s]\n",
      "  1%|          | 1/128 [00:00<00:16,  7.81it/s]"
     ]
    },
    {
     "name": "stdout",
     "output_type": "stream",
     "text": [
      "34: [D loss: 0.599921, acc: 0.174775]  [A loss: 0.657520, acc: 1.000000]\n",
      "Epoch 35\n"
     ]
    },
    {
     "name": "stderr",
     "output_type": "stream",
     "text": [
      "100%|██████████| 128/128 [1:06:35<00:00,  6.97it/s]   \n",
      "  0%|          | 0/128 [00:00<?, ?it/s]"
     ]
    },
    {
     "name": "stdout",
     "output_type": "stream",
     "text": [
      "35: [D loss: 0.600577, acc: 0.152252]  [A loss: 0.650280, acc: 1.000000]\n",
      "Epoch 36\n"
     ]
    },
    {
     "name": "stderr",
     "output_type": "stream",
     "text": [
      "100%|██████████| 128/128 [00:20<00:00,  9.09it/s]\n",
      "  1%|          | 1/128 [00:00<00:17,  7.23it/s]"
     ]
    },
    {
     "name": "stdout",
     "output_type": "stream",
     "text": [
      "36: [D loss: 0.601449, acc: 0.287838]  [A loss: 0.672587, acc: 1.000000]\n",
      "Epoch 37\n"
     ]
    },
    {
     "name": "stderr",
     "output_type": "stream",
     "text": [
      "100%|██████████| 128/128 [00:14<00:00,  7.41it/s]\n",
      "  1%|          | 1/128 [00:00<00:15,  7.99it/s]"
     ]
    },
    {
     "name": "stdout",
     "output_type": "stream",
     "text": [
      "37: [D loss: 0.598936, acc: 0.137387]  [A loss: 0.664025, acc: 1.000000]\n",
      "Epoch 38\n"
     ]
    },
    {
     "name": "stderr",
     "output_type": "stream",
     "text": [
      "100%|██████████| 128/128 [00:35<00:00,  7.43it/s]\n",
      "  1%|          | 1/128 [00:00<00:17,  7.25it/s]"
     ]
    },
    {
     "name": "stdout",
     "output_type": "stream",
     "text": [
      "38: [D loss: 0.602442, acc: 0.138288]  [A loss: 0.639974, acc: 1.000000]\n",
      "Epoch 39\n"
     ]
    },
    {
     "name": "stderr",
     "output_type": "stream",
     "text": [
      "100%|██████████| 128/128 [00:17<00:00,  7.47it/s]\n",
      "  1%|          | 1/128 [00:00<00:16,  7.73it/s]"
     ]
    },
    {
     "name": "stdout",
     "output_type": "stream",
     "text": [
      "39: [D loss: 0.602648, acc: 0.145946]  [A loss: 0.664666, acc: 1.000000]\n",
      "Epoch 40\n"
     ]
    },
    {
     "name": "stderr",
     "output_type": "stream",
     "text": [
      "100%|██████████| 128/128 [00:17<00:00,  7.39it/s]\n",
      "  1%|          | 1/128 [00:00<00:16,  7.93it/s]"
     ]
    },
    {
     "name": "stdout",
     "output_type": "stream",
     "text": [
      "40: [D loss: 0.601057, acc: 0.215766]  [A loss: 0.672681, acc: 1.000000]\n",
      "Epoch 41\n"
     ]
    },
    {
     "name": "stderr",
     "output_type": "stream",
     "text": [
      "100%|██████████| 128/128 [00:17<00:00,  7.28it/s]\n",
      "  1%|          | 1/128 [00:00<00:22,  5.75it/s]"
     ]
    },
    {
     "name": "stdout",
     "output_type": "stream",
     "text": [
      "41: [D loss: 0.602382, acc: 0.138288]  [A loss: 0.622144, acc: 1.000000]\n",
      "Epoch 42\n"
     ]
    },
    {
     "name": "stderr",
     "output_type": "stream",
     "text": [
      "100%|██████████| 128/128 [00:17<00:00,  7.50it/s]\n",
      "  1%|          | 1/128 [00:00<00:17,  7.43it/s]"
     ]
    },
    {
     "name": "stdout",
     "output_type": "stream",
     "text": [
      "42: [D loss: 0.597654, acc: 0.136937]  [A loss: 0.621018, acc: 1.000000]\n",
      "Epoch 43\n"
     ]
    },
    {
     "name": "stderr",
     "output_type": "stream",
     "text": [
      "100%|██████████| 128/128 [00:17<00:00,  7.75it/s]\n",
      "  1%|          | 1/128 [00:00<00:15,  8.02it/s]"
     ]
    },
    {
     "name": "stdout",
     "output_type": "stream",
     "text": [
      "43: [D loss: 0.603271, acc: 0.219820]  [A loss: 0.664384, acc: 1.000000]\n",
      "Epoch 44\n"
     ]
    },
    {
     "name": "stderr",
     "output_type": "stream",
     "text": [
      "100%|██████████| 128/128 [00:17<00:00,  7.21it/s]\n",
      "  1%|          | 1/128 [00:00<00:17,  7.10it/s]"
     ]
    },
    {
     "name": "stdout",
     "output_type": "stream",
     "text": [
      "44: [D loss: 0.599255, acc: 0.135135]  [A loss: 0.662003, acc: 1.000000]\n",
      "Epoch 45\n"
     ]
    },
    {
     "name": "stderr",
     "output_type": "stream",
     "text": [
      "100%|██████████| 128/128 [00:17<00:00,  6.26it/s]\n",
      "  0%|          | 0/128 [00:00<?, ?it/s]"
     ]
    },
    {
     "name": "stdout",
     "output_type": "stream",
     "text": [
      "45: [D loss: 0.603010, acc: 0.135135]  [A loss: 0.661956, acc: 1.000000]\n",
      "Epoch 46\n"
     ]
    },
    {
     "name": "stderr",
     "output_type": "stream",
     "text": [
      "100%|██████████| 128/128 [00:17<00:00,  7.35it/s]\n",
      "  1%|          | 1/128 [00:00<00:16,  7.62it/s]"
     ]
    },
    {
     "name": "stdout",
     "output_type": "stream",
     "text": [
      "46: [D loss: 0.600752, acc: 0.139640]  [A loss: 0.655512, acc: 1.000000]\n",
      "Epoch 47\n"
     ]
    },
    {
     "name": "stderr",
     "output_type": "stream",
     "text": [
      "100%|██████████| 128/128 [00:17<00:00,  7.80it/s]\n",
      "  1%|          | 1/128 [00:00<00:16,  7.74it/s]"
     ]
    },
    {
     "name": "stdout",
     "output_type": "stream",
     "text": [
      "47: [D loss: 0.605041, acc: 0.137838]  [A loss: 0.654945, acc: 1.000000]\n",
      "Epoch 48\n"
     ]
    },
    {
     "name": "stderr",
     "output_type": "stream",
     "text": [
      "100%|██████████| 128/128 [00:18<00:00,  7.34it/s]\n",
      "  1%|          | 1/128 [00:00<00:18,  7.00it/s]"
     ]
    },
    {
     "name": "stdout",
     "output_type": "stream",
     "text": [
      "48: [D loss: 0.605879, acc: 0.135586]  [A loss: 0.659228, acc: 1.000000]\n",
      "Epoch 49\n"
     ]
    },
    {
     "name": "stderr",
     "output_type": "stream",
     "text": [
      "100%|██████████| 128/128 [00:17<00:00,  7.20it/s]\n",
      "  1%|          | 1/128 [00:00<00:21,  5.96it/s]"
     ]
    },
    {
     "name": "stdout",
     "output_type": "stream",
     "text": [
      "49: [D loss: 0.605170, acc: 0.285135]  [A loss: 0.675622, acc: 1.000000]\n",
      "Epoch 50\n"
     ]
    },
    {
     "name": "stderr",
     "output_type": "stream",
     "text": [
      "100%|██████████| 128/128 [00:17<00:00,  7.50it/s]"
     ]
    },
    {
     "name": "stdout",
     "output_type": "stream",
     "text": [
      "50: [D loss: 0.601379, acc: 0.138739]  [A loss: 0.661131, acc: 1.000000]\n"
     ]
    },
    {
     "name": "stderr",
     "output_type": "stream",
     "text": [
      "\n"
     ]
    }
   ],
   "source": [
    "#training(400,128)\n",
    "training(50,128)"
   ]
  },
  {
   "cell_type": "code",
   "execution_count": 180,
   "metadata": {},
   "outputs": [],
   "source": [
    "# generated_data = np.transpose(gen_samples)\n",
    "# #print(gen_samples)\n",
    "# #print(generated_data)\n",
    "# #plot the log-returns\n",
    "# gen_ind = 1 # change in function price as well\n",
    "# pd.DataFrame(gen_samples).plot()"
   ]
  },
  {
   "cell_type": "code",
   "execution_count": 181,
   "metadata": {},
   "outputs": [],
   "source": [
    "def get_2D_array_values(arr, idx):\n",
    "    arr_map = []\n",
    "    for i in range(len(arr)):\n",
    "        arr_map.append(arr[i][idx])\n",
    "    \n",
    "    return arr_map"
   ]
  },
  {
   "cell_type": "code",
   "execution_count": 182,
   "metadata": {},
   "outputs": [
    {
     "data": {
      "text/plain": [
       "Text(0,0.5,'Loss')"
      ]
     },
     "execution_count": 182,
     "metadata": {},
     "output_type": "execute_result"
    },
    {
     "data": {
      "image/png": "[encoded data removed]",
      "text/plain": [
       "<Figure size 432x288 with 1 Axes>"
      ]
     },
     "metadata": {},
     "output_type": "display_data"
    }
   ],
   "source": [
    "adversarial_loss_map = get_2D_array_values(adversarial_loss, 0)\n",
    "discrimator_loss_map = get_2D_array_values(discrimator_loss, 0)\n",
    "\n",
    "ax = pd.DataFrame(\n",
    "    {\n",
    "        'Adversarial Loss': adversarial_loss_map,\n",
    "        'Discriminative Loss': discrimator_loss_map,\n",
    "    }\n",
    ").plot(title='Training loss', logy=True)\n",
    "ax.set_xlabel(\"Training iterations\")\n",
    "ax.set_ylabel(\"Loss\")"
   ]
  },
  {
   "cell_type": "code",
   "execution_count": 183,
   "metadata": {},
   "outputs": [
    {
     "data": {
      "text/plain": [
       "Text(0,0.5,'Accuracy')"
      ]
     },
     "execution_count": 183,
     "metadata": {},
     "output_type": "execute_result"
    },
    {
     "data": {
      "image/png": "[encoded data removed]",
      "text/plain": [
       "<Figure size 432x288 with 1 Axes>"
      ]
     },
     "metadata": {},
     "output_type": "display_data"
    }
   ],
   "source": [
    "adversarial_acc_map = get_2D_array_values(adversarial_loss, 1)\n",
    "discrimator_acc_map = get_2D_array_values(discrimator_loss, 1)\n",
    "\n",
    "ax_acc = pd.DataFrame(\n",
    "    {\n",
    "        'Adversarial Accuracy': adversarial_acc_map,\n",
    "        'Discriminative Accuracy': discrimator_acc_map,\n",
    "    }\n",
    ").plot(title='Training loss', logy=True)\n",
    "ax_acc.set_xlabel(\"Training iterations\")\n",
    "ax_acc.set_ylabel(\"Accuracy\")"
   ]
  },
  {
   "cell_type": "code",
   "execution_count": 184,
   "metadata": {},
   "outputs": [
    {
     "name": "stdout",
     "output_type": "stream",
     "text": [
      "The Explained Variance: -0.00\n",
      "The Mean Absolute Error: 0.50\n",
      "The Mean Squared Error: 0.25\n",
      "The Root Mean Squared Error: 0.50\n"
     ]
    }
   ],
   "source": [
    "#(X_train2, X_test2, y_train2, y_test2) = load_data_with_test2()\n",
    "#(X_train2, y_train2, X_val2, X_test2, y_val2, y_test2) = load_data(x_train_out, x_test_out, BATCH_SIZE_OUT)\n",
    "\n",
    "# print(x_train_out.shape)\n",
    "# print(x_test_out.shape)\n",
    "\n",
    "# print(X_train.shape)\n",
    "# print(X_test.shape)\n",
    "# print(X_val.shape)\n",
    "\n",
    "prediction_gan = gan.predict(X_test)\n",
    "\n",
    "# print(\"The Explained Variance: %.2f\" % prediction_gan.score(X_test2, y_test2))  \n",
    "print(\"The Explained Variance: %.2f\" % metrics.explained_variance_score(y_test, prediction_gan))  \n",
    "print(\"The Mean Absolute Error: %.2f\" % metrics.mean_absolute_error(y_test, prediction_gan))  \n",
    "#print(\"The Median Absolute Error: %.2f\" % metrics.median_absolute_error(y_test2, prediction_gan)) \n",
    "print(\"The Mean Squared Error: %.2f\" % metrics.mean_squared_error(y_test, prediction_gan)) \n",
    "print(\"The Root Mean Squared Error: %.2f\" % (np.sqrt(metrics.mean_squared_error(y_test, prediction_gan))))\n",
    "\n",
    "#generator.predict(X_train)[0]"
   ]
  },
  {
   "cell_type": "code",
   "execution_count": 185,
   "metadata": {},
   "outputs": [
    {
     "name": "stdout",
     "output_type": "stream",
     "text": [
      "Error is 0.2502796779071502 (160,) (160,)\n",
      "[0.5154999  0.5154999  0.5154998  0.5154999  0.51550007 0.5155001\n",
      " 0.5155003  0.51550055 0.5155008  0.515501   0.5155012  0.5155015\n",
      " 0.5155016  0.5155017  0.5155018 ]\n",
      "[0.00744447 0.00718329 0.00718329 0.00703077 0.00707883 0.00604458\n",
      " 0.00587743 0.00587743 0.00582206 0.00561626 0.00707621 0.0069754\n",
      " 0.00640343 0.0079736  0.00793025]\n"
     ]
    }
   ],
   "source": [
    "y_pred = gan.predict(trim_dataset(X_test, BATCH_SIZE_OUT), batch_size=BATCH_SIZE_OUT)\n",
    "y_pred = y_pred.flatten()\n",
    "y_test_t = trim_dataset(y_test, BATCH_SIZE_OUT)\n",
    "error = metrics.mean_squared_error(y_test_t, y_pred)\n",
    "print(\"Error is\", error, y_pred.shape, y_test_t.shape)\n",
    "print(y_pred[0:15])\n",
    "print(y_test_t[0:15])"
   ]
  },
  {
   "cell_type": "code",
   "execution_count": 186,
   "metadata": {},
   "outputs": [
    {
     "name": "stdout",
     "output_type": "stream",
     "text": [
      "[10081.427 10081.427 10081.425 10081.427 10081.431 10081.432 10081.435\n",
      " 10081.439 10081.444 10081.448 10081.452 10081.458 10081.46  10081.461\n",
      " 10081.463]\n",
      "[355.   350.   350.   347.08 348.   328.2  325.   325.   323.94 320.\n",
      " 347.95 346.02 335.07 365.13 364.3 ]\n"
     ]
    }
   ],
   "source": [
    "# convert the predicted value to range of real data\n",
    "y_pred_org = (y_pred * min_max_scaler.data_range_[0]) + min_max_scaler.data_min_[0]\n",
    "#y_pred_org = (y_pred + min_max_scaler.data_min_[0])\n",
    "# min_max_scaler.inverse_transform(y_pred)\n",
    "y_test_t_org = (y_test_t * min_max_scaler.data_range_[0]) + min_max_scaler.data_min_[0]\n",
    "#y_test_t_org = (y_test_t + min_max_scaler.data_min_[0])\n",
    "# min_max_scaler.inverse_transform(y_test_t)\n",
    "print(y_pred_org[0:15])\n",
    "print(y_test_t_org[0:15])"
   ]
  },
  {
   "cell_type": "code",
   "execution_count": 173,
   "metadata": {},
   "outputs": [
    {
     "data": {
      "image/png": "[encoded data removed]",
      "text/plain": [
       "<Figure size 432x288 with 1 Axes>"
      ]
     },
     "metadata": {},
     "output_type": "display_data"
    }
   ],
   "source": [
    "# Visualize the prediction\n",
    "from matplotlib import pyplot as plt\n",
    "plt.figure()\n",
    "plt.plot(y_pred_org)\n",
    "plt.plot(y_test_t_org)\n",
    "plt.title('Prediction vs Real Stock Price')\n",
    "plt.ylabel('Price')\n",
    "plt.xlabel('Days')\n",
    "plt.legend(['Prediction', 'Real'], loc='upper left')\n",
    "plt.show()\n"
   ]
  },
  {
   "cell_type": "code",
   "execution_count": null,
   "metadata": {},
   "outputs": [],
   "source": []
  }
 ],
 "metadata": {
  "kernelspec": {
   "display_name": "Python 3",
   "language": "python",
   "name": "python3"
  },
  "language_info": {
   "codemirror_mode": {
    "name": "ipython",
    "version": 3
   },
   "file_extension": ".py",
   "mimetype": "text/x-python",
   "name": "python",
   "nbconvert_exporter": "python",
   "pygments_lexer": "ipython3",
   "version": "3.5.2"
  }
 },
 "nbformat": 4,
 "nbformat_minor": 2
}
