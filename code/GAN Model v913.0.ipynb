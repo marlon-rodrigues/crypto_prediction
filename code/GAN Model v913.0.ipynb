{
 "cells": [
  {
   "cell_type": "markdown",
   "metadata": {},
   "source": [
    "# Experimentation Only"
   ]
  },
  {
   "cell_type": "code",
   "execution_count": 1,
   "metadata": {},
   "outputs": [
    {
     "name": "stdout",
     "output_type": "stream",
     "text": [
      "Requirement already satisfied: tqdm in /usr/local/lib/python3.5/dist-packages\n",
      "\u001b[33mYou are using pip version 9.0.3, however version 19.1.1 is available.\n",
      "You should consider upgrading via the 'pip install --upgrade pip' command.\u001b[0m\n"
     ]
    }
   ],
   "source": [
    "import sys\n",
    "!{sys.executable} -m pip install tqdm"
   ]
  },
  {
   "cell_type": "code",
   "execution_count": 2,
   "metadata": {},
   "outputs": [
    {
     "name": "stderr",
     "output_type": "stream",
     "text": [
      "/usr/local/lib/python3.5/dist-packages/sklearn/cross_validation.py:41: DeprecationWarning: This module was deprecated in version 0.18 in favor of the model_selection module into which all the refactored classes and functions are moved. Also note that the interface of the new CV iterators are different from that of this module. This module will be removed in 0.20.\n",
      "  \"This module will be removed in 0.20.\", DeprecationWarning)\n",
      "/usr/local/lib/python3.5/dist-packages/h5py/__init__.py:36: FutureWarning: Conversion of the second argument of issubdtype from `float` to `np.floating` is deprecated. In future, it will be treated as `np.float64 == np.dtype(float).type`.\n",
      "  from ._conv import register_converters as _register_converters\n",
      "Using TensorFlow backend.\n"
     ]
    }
   ],
   "source": [
    "import math\n",
    "import matplotlib.pyplot as plt\n",
    "import pandas as pd\n",
    "import numpy as np\n",
    "import time\n",
    "from datetime import datetime\n",
    "import datetime as dt\n",
    "from mpl_toolkits.mplot3d import Axes3D\n",
    "from tqdm import tqdm, tqdm_notebook\n",
    "import json\n",
    "import requests\n",
    "%matplotlib inline\n",
    "\n",
    "#For Prediction\n",
    "from sklearn import metrics\n",
    "from sklearn import preprocessing, cross_validation\n",
    "from sklearn.model_selection import train_test_split\n",
    "from sklearn.preprocessing import MinMaxScaler\n",
    "\n",
    "import keras\n",
    "from keras.layers import Dense, Dropout, Input, LSTM, Reshape, Flatten, Activation\n",
    "from keras.models import Model,Sequential\n",
    "from keras.datasets import mnist\n",
    "from tqdm import tqdm\n",
    "from keras.layers.advanced_activations import LeakyReLU\n",
    "from keras.optimizers import Adam, RMSprop"
   ]
  },
  {
   "cell_type": "code",
   "execution_count": 153,
   "metadata": {},
   "outputs": [
    {
     "data": {
      "text/html": [
       "<div>\n",
       "<style scoped>\n",
       "    .dataframe tbody tr th:only-of-type {\n",
       "        vertical-align: middle;\n",
       "    }\n",
       "\n",
       "    .dataframe tbody tr th {\n",
       "        vertical-align: top;\n",
       "    }\n",
       "\n",
       "    .dataframe thead th {\n",
       "        text-align: right;\n",
       "    }\n",
       "</style>\n",
       "<table border=\"1\" class=\"dataframe\">\n",
       "  <thead>\n",
       "    <tr style=\"text-align: right;\">\n",
       "      <th></th>\n",
       "      <th>close</th>\n",
       "      <th>high</th>\n",
       "      <th>low</th>\n",
       "      <th>open</th>\n",
       "      <th>volumefrom</th>\n",
       "      <th>volumeto</th>\n",
       "    </tr>\n",
       "    <tr>\n",
       "      <th>time</th>\n",
       "      <th></th>\n",
       "      <th></th>\n",
       "      <th></th>\n",
       "      <th></th>\n",
       "      <th></th>\n",
       "      <th></th>\n",
       "    </tr>\n",
       "  </thead>\n",
       "  <tbody>\n",
       "    <tr>\n",
       "      <th>2013-12-12</th>\n",
       "      <td>899.98</td>\n",
       "      <td>940.98</td>\n",
       "      <td>839.51</td>\n",
       "      <td>919.93</td>\n",
       "      <td>9913.21</td>\n",
       "      <td>8798283.62</td>\n",
       "    </tr>\n",
       "    <tr>\n",
       "      <th>2013-12-13</th>\n",
       "      <td>936.77</td>\n",
       "      <td>989.89</td>\n",
       "      <td>882.11</td>\n",
       "      <td>899.98</td>\n",
       "      <td>17372.49</td>\n",
       "      <td>16173632.88</td>\n",
       "    </tr>\n",
       "    <tr>\n",
       "      <th>2013-12-14</th>\n",
       "      <td>908.94</td>\n",
       "      <td>947.93</td>\n",
       "      <td>875.11</td>\n",
       "      <td>936.77</td>\n",
       "      <td>11589.80</td>\n",
       "      <td>10532106.73</td>\n",
       "    </tr>\n",
       "    <tr>\n",
       "      <th>2013-12-15</th>\n",
       "      <td>919.88</td>\n",
       "      <td>927.90</td>\n",
       "      <td>837.98</td>\n",
       "      <td>908.94</td>\n",
       "      <td>15165.03</td>\n",
       "      <td>13302074.90</td>\n",
       "    </tr>\n",
       "    <tr>\n",
       "      <th>2013-12-16</th>\n",
       "      <td>759.92</td>\n",
       "      <td>924.94</td>\n",
       "      <td>714.03</td>\n",
       "      <td>919.88</td>\n",
       "      <td>41325.66</td>\n",
       "      <td>32899151.97</td>\n",
       "    </tr>\n",
       "  </tbody>\n",
       "</table>\n",
       "</div>"
      ],
      "text/plain": [
       "             close    high     low    open  volumefrom     volumeto\n",
       "time                                                               \n",
       "2013-12-12  899.98  940.98  839.51  919.93     9913.21   8798283.62\n",
       "2013-12-13  936.77  989.89  882.11  899.98    17372.49  16173632.88\n",
       "2013-12-14  908.94  947.93  875.11  936.77    11589.80  10532106.73\n",
       "2013-12-15  919.88  927.90  837.98  908.94    15165.03  13302074.90\n",
       "2013-12-16  759.92  924.94  714.03  919.88    41325.66  32899151.97"
      ]
     },
     "execution_count": 153,
     "metadata": {},
     "output_type": "execute_result"
    }
   ],
   "source": [
    "endpoint = 'https://min-api.cryptocompare.com/data/histoday'\n",
    "res = requests.get(endpoint + '?fsym=BTC&tsym=USD&limit=2000')\n",
    "hist = pd.DataFrame(json.loads(res.content.decode('utf-8'))['Data'])\n",
    "hist = hist.set_index('time')\n",
    "hist.index = pd.to_datetime(hist.index, unit='s')\n",
    "hist.head()\n",
    "\n",
    "# hist = pd.read_csv('Datasets/gemini_BTCUSD_1hr_mod.csv')\n",
    "# hist.head()"
   ]
  },
  {
   "cell_type": "code",
   "execution_count": 154,
   "metadata": {},
   "outputs": [
    {
     "data": {
      "text/html": [
       "<div>\n",
       "<style scoped>\n",
       "    .dataframe tbody tr th:only-of-type {\n",
       "        vertical-align: middle;\n",
       "    }\n",
       "\n",
       "    .dataframe tbody tr th {\n",
       "        vertical-align: top;\n",
       "    }\n",
       "\n",
       "    .dataframe thead th {\n",
       "        text-align: right;\n",
       "    }\n",
       "</style>\n",
       "<table border=\"1\" class=\"dataframe\">\n",
       "  <thead>\n",
       "    <tr style=\"text-align: right;\">\n",
       "      <th></th>\n",
       "      <th>close</th>\n",
       "      <th>high</th>\n",
       "      <th>low</th>\n",
       "      <th>open</th>\n",
       "      <th>volumefrom</th>\n",
       "      <th>volumeto</th>\n",
       "    </tr>\n",
       "    <tr>\n",
       "      <th>time</th>\n",
       "      <th></th>\n",
       "      <th></th>\n",
       "      <th></th>\n",
       "      <th></th>\n",
       "      <th></th>\n",
       "      <th></th>\n",
       "    </tr>\n",
       "  </thead>\n",
       "  <tbody>\n",
       "    <tr>\n",
       "      <th>2019-05-31</th>\n",
       "      <td>8550.67</td>\n",
       "      <td>8570.78</td>\n",
       "      <td>8116.00</td>\n",
       "      <td>8276.25</td>\n",
       "      <td>60143.23</td>\n",
       "      <td>5.020565e+08</td>\n",
       "    </tr>\n",
       "    <tr>\n",
       "      <th>2019-06-01</th>\n",
       "      <td>8555.87</td>\n",
       "      <td>8619.21</td>\n",
       "      <td>8459.65</td>\n",
       "      <td>8550.67</td>\n",
       "      <td>26884.15</td>\n",
       "      <td>2.297370e+08</td>\n",
       "    </tr>\n",
       "    <tr>\n",
       "      <th>2019-06-02</th>\n",
       "      <td>8737.91</td>\n",
       "      <td>8819.90</td>\n",
       "      <td>8547.48</td>\n",
       "      <td>8555.87</td>\n",
       "      <td>25506.14</td>\n",
       "      <td>2.217081e+08</td>\n",
       "    </tr>\n",
       "    <tr>\n",
       "      <th>2019-06-03</th>\n",
       "      <td>8114.49</td>\n",
       "      <td>8740.24</td>\n",
       "      <td>8073.18</td>\n",
       "      <td>8737.91</td>\n",
       "      <td>63486.15</td>\n",
       "      <td>5.349722e+08</td>\n",
       "    </tr>\n",
       "    <tr>\n",
       "      <th>2019-06-04</th>\n",
       "      <td>7711.69</td>\n",
       "      <td>8114.49</td>\n",
       "      <td>7602.05</td>\n",
       "      <td>8114.49</td>\n",
       "      <td>73219.34</td>\n",
       "      <td>5.780534e+08</td>\n",
       "    </tr>\n",
       "  </tbody>\n",
       "</table>\n",
       "</div>"
      ],
      "text/plain": [
       "              close     high      low     open  volumefrom      volumeto\n",
       "time                                                                    \n",
       "2019-05-31  8550.67  8570.78  8116.00  8276.25    60143.23  5.020565e+08\n",
       "2019-06-01  8555.87  8619.21  8459.65  8550.67    26884.15  2.297370e+08\n",
       "2019-06-02  8737.91  8819.90  8547.48  8555.87    25506.14  2.217081e+08\n",
       "2019-06-03  8114.49  8740.24  8073.18  8737.91    63486.15  5.349722e+08\n",
       "2019-06-04  7711.69  8114.49  7602.05  8114.49    73219.34  5.780534e+08"
      ]
     },
     "execution_count": 154,
     "metadata": {},
     "output_type": "execute_result"
    }
   ],
   "source": [
    "#hist = hist.drop(['high','low','open','volumefrom','volumeto'], axis=1)\n",
    "#hist = hist.drop(['Unix Timestamp','Date','Symbol','Open','High','Low','Volume'], axis=1)\n",
    "#hist = hist.drop(['Date','Symbol','Unix Timestamp','Low','High'], axis=1)\n",
    "hist.tail()"
   ]
  },
  {
   "cell_type": "code",
   "execution_count": 155,
   "metadata": {},
   "outputs": [
    {
     "name": "stdout",
     "output_type": "stream",
     "text": [
      "2001\n"
     ]
    }
   ],
   "source": [
    "print(len(hist))"
   ]
  },
  {
   "cell_type": "code",
   "execution_count": 156,
   "metadata": {},
   "outputs": [
    {
     "name": "stdout",
     "output_type": "stream",
     "text": [
      "checking if any null values are present\n",
      " close         0\n",
      "high          0\n",
      "low           0\n",
      "open          0\n",
      "volumefrom    0\n",
      "volumeto      0\n",
      "dtype: int64\n"
     ]
    }
   ],
   "source": [
    "print(\"checking if any null values are present\\n\", hist.isna().sum())"
   ]
  },
  {
   "cell_type": "code",
   "execution_count": 157,
   "metadata": {},
   "outputs": [
    {
     "data": {
      "image/png": "[encoded data removed]",
      "text/plain": [
       "<Figure size 1152x648 with 1 Axes>"
      ]
     },
     "metadata": {},
     "output_type": "display_data"
    }
   ],
   "source": [
    "def train_test_split(df, test_size=0.1):\n",
    "    split_row = len(df) - int(test_size * len(df))\n",
    "    train_data = df.iloc[:split_row]\n",
    "    test_data = df.iloc[split_row:]\n",
    "    return train_data, test_data\n",
    "\n",
    "def line_plot(line1, line2, label1=None, label2=None, title=''):\n",
    "    fig, ax = plt.subplots(1, figsize=(16, 9))\n",
    "    ax.plot(line1, label=label1, linewidth=2)\n",
    "    ax.plot(line2, label=label2, linewidth=2)\n",
    "    ax.set_ylabel('price [USD]', fontsize=14)\n",
    "    ax.set_title(title, fontsize=18)\n",
    "    ax.legend(loc='best', fontsize=18)\n",
    "    \n",
    "train, test = train_test_split(hist, test_size=0.1)\n",
    "line_plot(train.close, test.close, 'training', 'test', 'BTC')"
   ]
  },
  {
   "cell_type": "code",
   "execution_count": 158,
   "metadata": {},
   "outputs": [],
   "source": [
    "def normalise_zero_base(df):\n",
    "    \"\"\" Normalise dataframe column-wise to reflect changes with\n",
    "        respect to first entry.\n",
    "    \"\"\"\n",
    "    return df / df.iloc[0] - 1\n",
    "\n",
    "def extract_window_data(df, window=7, zero_base=True):\n",
    "    \"\"\" Convert dataframe to overlapping sequences/windows of\n",
    "        length `window`.\n",
    "    \"\"\"\n",
    "    window_data = []\n",
    "    for idx in range(len(df) - window):\n",
    "        tmp = df[idx: (idx + window)].copy()\n",
    "        if zero_base:\n",
    "            tmp = normalise_zero_base(tmp)\n",
    "        window_data.append(tmp.values)\n",
    "    return np.array(window_data)\n",
    "\n",
    "def prepare_data(df, window=7, zero_base=True, test_size=0.1):\n",
    "    \"\"\" Prepare data for LSTM. \"\"\"\n",
    "    # train test split\n",
    "    train_data, test_data = train_test_split(df, test_size)\n",
    "    \n",
    "    # extract window data\n",
    "    X_train = extract_window_data(train_data, window, zero_base)\n",
    "    X_test = extract_window_data(test_data, window, zero_base)\n",
    "    \n",
    "    # extract targets\n",
    "    y_train = train_data.close[window:].values\n",
    "    y_test = test_data.close[window:].values\n",
    "    if zero_base:\n",
    "        y_train = y_train / train_data.close[:-window].values - 1\n",
    "        y_test = y_test / test_data.close[:-window].values - 1\n",
    "    return train_data, test_data, X_train, X_test, y_train, y_test\n",
    "\n",
    "train, test, X_train, X_test, y_train, y_test = prepare_data(hist)"
   ]
  },
  {
   "cell_type": "code",
   "execution_count": 159,
   "metadata": {},
   "outputs": [
    {
     "name": "stdout",
     "output_type": "stream",
     "text": [
      "(1794, 7, 6)\n",
      "(1794, 7, 6)\n",
      "(193,)\n",
      "(193,)\n"
     ]
    }
   ],
   "source": [
    "print(X_train.shape)\n",
    "print(X_train.shape)\n",
    "print(y_test.shape)\n",
    "print(y_test.shape)"
   ]
  },
  {
   "cell_type": "code",
   "execution_count": 160,
   "metadata": {},
   "outputs": [],
   "source": [
    "TIME_STEPS = 7\n",
    "BATCH_SIZE_OUT = 4 # 16 was better\n",
    "LR = 0.005\n",
    "# epochs = 150\n",
    "EPOCHS = 50"
   ]
  },
  {
   "cell_type": "code",
   "execution_count": 161,
   "metadata": {},
   "outputs": [
    {
     "name": "stdout",
     "output_type": "stream",
     "text": [
      "_________________________________________________________________\n",
      "Layer (type)                 Output Shape              Param #   \n",
      "=================================================================\n",
      "lstm_33 (LSTM)               (4, 16)                   1472      \n",
      "_________________________________________________________________\n",
      "leaky_re_lu_101 (LeakyReLU)  (4, 16)                   0         \n",
      "_________________________________________________________________\n",
      "dropout_101 (Dropout)        (4, 16)                   0         \n",
      "_________________________________________________________________\n",
      "dense_135 (Dense)            (4, 6)                    102       \n",
      "_________________________________________________________________\n",
      "activation_33 (Activation)   (4, 6)                    0         \n",
      "=================================================================\n",
      "Total params: 1,574\n",
      "Trainable params: 1,574\n",
      "Non-trainable params: 0\n",
      "_________________________________________________________________\n"
     ]
    }
   ],
   "source": [
    "def create_generator():\n",
    "#     generator=Sequential()\n",
    "#     generator.add(Dense(units=128,input_dim=8))\n",
    "#     generator.add(LeakyReLU(0.2))\n",
    "    \n",
    "#     generator.add(Dense(units=256))\n",
    "#     generator.add(LeakyReLU(0.2))\n",
    "    \n",
    "#     generator.add(Dense(units=512))\n",
    "#     generator.add(LeakyReLU(0.2))\n",
    "    \n",
    "#     generator.add(Dense(units=8, activation='tanh'))\n",
    "    \n",
    "#     #generator.compile(loss='binary_crossentropy', optimizer=adam_optimizer(), metrics=['accuracy'])\n",
    "#     generator.compile(loss='binary_crossentropy', optimizer='adam', metrics=['accuracy'])\n",
    "\n",
    "    # 6 below = x_t.shape[2]\n",
    "#     generator = Sequential()\n",
    "#     #generator.add(LSTM(16, batch_input_shape=(BATCH_SIZE_OUT, TIME_STEPS, 6), dropout=0.0, recurrent_dropout=0.0, stateful=True, kernel_initializer='random_uniform', return_sequences=False)) \n",
    "#     # stateful = true breaks the model (https://github.com/keras-team/keras/issues/9385)\n",
    "#     generator.add(LSTM(16, batch_input_shape=(BATCH_SIZE_OUT, TIME_STEPS, 1), return_sequences=True)) \n",
    "#     generator.add(Dense(8,activation='relu'))\n",
    "#     generator.add(Dropout(0.7))\n",
    "#     generator.add(LSTM(8, return_sequences=False))\n",
    "#     generator.add(Dense(1,activation='sigmoid'))\n",
    "#     #generator.add(Reshape((TIME_STEPS, 1)))\n",
    "#     optimizer = RMSprop(lr=LR, decay=3e-8)\n",
    "#     #generator.compile(loss='mean_squared_error', optimizer='adam', metrics=['accuracy'])\n",
    "#     generator.compile(loss='mean_squared_error', optimizer=optimizer, metrics=['accuracy'])\n",
    "    \n",
    "    \n",
    "    generator = Sequential()\n",
    "    generator.add(LSTM(16, batch_input_shape=(BATCH_SIZE_OUT, TIME_STEPS, 6), return_sequences=False))\n",
    "    generator.add(LeakyReLU(0.5))\n",
    "    generator.add(Dropout(0.5))\n",
    "    generator.add(Dense(6))\n",
    "    generator.add(Activation('tanh'))\n",
    "    optimizer = RMSprop(lr=0.005, clipvalue=1.)\n",
    "    generator.compile(loss='mean_squared_error', optimizer=optimizer)\n",
    "\n",
    "    return generator\n",
    "g=create_generator()\n",
    "g.summary()"
   ]
  },
  {
   "cell_type": "code",
   "execution_count": 176,
   "metadata": {},
   "outputs": [
    {
     "name": "stdout",
     "output_type": "stream",
     "text": [
      "_________________________________________________________________\n",
      "Layer (type)                 Output Shape              Param #   \n",
      "=================================================================\n",
      "dense_143 (Dense)            (8, 7, 16)                112       \n",
      "_________________________________________________________________\n",
      "leaky_re_lu_107 (LeakyReLU)  (8, 7, 16)                0         \n",
      "_________________________________________________________________\n",
      "dropout_107 (Dropout)        (8, 7, 16)                0         \n",
      "_________________________________________________________________\n",
      "dense_144 (Dense)            (8, 7, 8)                 136       \n",
      "_________________________________________________________________\n",
      "leaky_re_lu_108 (LeakyReLU)  (8, 7, 8)                 0         \n",
      "_________________________________________________________________\n",
      "dropout_108 (Dropout)        (8, 7, 8)                 0         \n",
      "_________________________________________________________________\n",
      "dense_145 (Dense)            (8, 7, 1)                 9         \n",
      "=================================================================\n",
      "Total params: 257\n",
      "Trainable params: 257\n",
      "Non-trainable params: 0\n",
      "_________________________________________________________________\n"
     ]
    }
   ],
   "source": [
    "def create_discriminator():\n",
    "    optimizer = RMSprop(lr=0.0002, decay=6e-8)\n",
    "\n",
    "    discriminator=Sequential()\n",
    "    #discriminator.add(Dense(units=512, batch_input_shape=(BATCH_SIZE_OUT, TIME_STEPS, 1)))\n",
    "    discriminator.add(Dense(units=16, batch_input_shape=(8, TIME_STEPS, 6)))\n",
    "    \n",
    "    #discriminator.add(Dense(units=512,input_dim=6))\n",
    "    discriminator.add(LeakyReLU(0.5))\n",
    "    discriminator.add(Dropout(0.5))\n",
    "       \n",
    "    \n",
    "#     discriminator.add(Dense(units=256))\n",
    "#     discriminator.add(LeakyReLU(0.2))\n",
    "#     discriminator.add(Dropout(0.3))\n",
    "       \n",
    "    discriminator.add(Dense(units=8))\n",
    "    discriminator.add(LeakyReLU(0.5))\n",
    "    discriminator.add(Dropout(0.5))\n",
    "    \n",
    "    #discriminator.add(Reshape((5, 1)))\n",
    "    \n",
    "    discriminator.add(Dense(units=1, activation='sigmoid'))\n",
    "    \n",
    "    #discriminator.compile(loss='binary_crossentropy', optimizer=optimizer)\n",
    "    discriminator.compile(loss='mean_squared_error', optimizer=optimizer)\n",
    "\n",
    "#     discriminator = Sequential()\n",
    "#     discriminator.add(LSTM(16, batch_input_shape=(BATCH_SIZE_OUT, TIME_STEPS, 6), dropout=0.0, recurrent_dropout=0.0, kernel_initializer='random_uniform', return_sequences=False)) \n",
    "#     discriminator.add(Dense(8,activation='relu'))\n",
    "#     discriminator.add(Dropout(0.7))\n",
    "#     discriminator.add(Dense(1,activation='sigmoid'))\n",
    "\n",
    "#     discriminator.compile(loss='mean_squared_error', optimizer='adam', metrics=['accuracy'])\n",
    "    \n",
    "    return discriminator\n",
    "d =create_discriminator()\n",
    "d.summary()"
   ]
  },
  {
   "cell_type": "code",
   "execution_count": 177,
   "metadata": {},
   "outputs": [
    {
     "name": "stdout",
     "output_type": "stream",
     "text": [
      "_________________________________________________________________\n",
      "Layer (type)                 Output Shape              Param #   \n",
      "=================================================================\n",
      "input_36 (InputLayer)        (None, 7, 6)              0         \n",
      "_________________________________________________________________\n",
      "sequential_67 (Sequential)   multiple                  1574      \n",
      "_________________________________________________________________\n",
      "sequential_71 (Sequential)   multiple                  257       \n",
      "=================================================================\n",
      "Total params: 1,831\n",
      "Trainable params: 1,574\n",
      "Non-trainable params: 257\n",
      "_________________________________________________________________\n"
     ]
    }
   ],
   "source": [
    "def create_gan(discriminator, generator):\n",
    "    optimizer = RMSprop(lr=0.0001, decay=3e-8)\n",
    "    discriminator.trainable=False\n",
    "    gan_input = Input(shape=(TIME_STEPS, 6)) # x_t.shape[2] = 6\n",
    "    #Input(shape=(None, latent_dim))\n",
    "    x = generator(gan_input)\n",
    "    gan_output= discriminator(x)\n",
    "    gan = Model(inputs=gan_input, outputs=gan_output)\n",
    "    #gan.compile(loss='binary_crossentropy', optimizer=optimizer)\n",
    "    gan.compile(loss='mean_squared_error', optimizer=optimizer)\n",
    "    return gan\n",
    "gan = create_gan(d,g)\n",
    "gan.summary()"
   ]
  },
  {
   "cell_type": "code",
   "execution_count": 178,
   "metadata": {},
   "outputs": [],
   "source": [
    "import keras.backend as K\n",
    "\n",
    "adversarial_loss = []\n",
    "discrimator_loss = []\n",
    "gen_samples = []\n",
    "\n",
    "#K.clear_session()\n",
    "generator = create_generator()\n",
    "discriminator = create_discriminator()\n",
    "gan = create_gan(discriminator, generator)\n",
    "#(X_train, y_train, X_val, X_test, y_val, y_test) = load_data(x_train_out, x_test_out, BATCH_SIZE_OUT)\n",
    "\n",
    "def training(epochs=1, batch_size=128):\n",
    "    global adversarial_loss\n",
    "    global discrimator_loss\n",
    "    global gen_samples\n",
    "    \n",
    "    global generator\n",
    "    global discriminator\n",
    "    global gan\n",
    "\n",
    "    global X_train\n",
    "    global X_test\n",
    "    global y_train\n",
    "    global y_test\n",
    "    \n",
    "    for e in range(1, epochs+1 ):\n",
    "        print(\"Epoch %d\" %e)\n",
    "        for i in tqdm(range(batch_size)):\n",
    "            #generate  random noise as an input  to  initialize the  generator\n",
    "            #noise = np.random.normal(0,1, [BATCH_SIZE_OUT, TIME_STEPS, X_train.shape[2]])\n",
    "            #print(X_train.shape)\n",
    "            \n",
    "            noise = np.float32(np.random.normal(size=[BATCH_SIZE_OUT, TIME_STEPS, X_train.shape[2]]))\n",
    "            \n",
    "            # Generate fake prices from noised input\n",
    "            generated_prices = generator.predict(noise)\n",
    "            \n",
    "            # Get a random set of real prices\n",
    "            prices_batch = X_train[np.random.randint(low=0,high=X_train.shape[0],size=BATCH_SIZE_OUT)]\n",
    "            \n",
    "            \n",
    "            dim_0 = generated_prices.shape[0] - TIME_STEPS\n",
    "            dim_0 = generated_prices.shape[0]\n",
    "            gen_prices = np.zeros((dim_0, TIME_STEPS, 6))\n",
    "            \n",
    "            for j in range(dim_0):\n",
    "                gen_prices[j] = generated_prices[j]\n",
    "            \n",
    "\n",
    "#             print('Shapes 1')\n",
    "#             print(noise.shape)\n",
    "#             print(prices_batch.shape)\n",
    "#             print(generated_prices.shape)     \n",
    "#             print(gen_prices.shape)\n",
    "#             print('>>>>>>>>>>>gen_prices>>>>>>>')            \n",
    "#             print(gen_prices)\n",
    "#             print(prices_batch)\n",
    "#             #print(generated_prices)\n",
    "            \n",
    "            #Construct different batches of real and fake data \n",
    "            X = np.concatenate([prices_batch, gen_prices])\n",
    "            \n",
    "            # Labels for generated and real data\n",
    "            #y_dis = np.zeros(2*batch_size)\n",
    "            #y_dis = np.zeros(shape=(2*BATCH_SIZE_OUT, TIME_STEPS, X_train.shape[2]))\n",
    "            y_dis = np.zeros(shape=(X.shape[0], TIME_STEPS, 1))\n",
    "            #y_dis[:batch_size]=0.9\n",
    "            y_dis[:int((X.shape[0]/2))]=0.9\n",
    "            #y_dis[0,:,batch_size]=0.9\n",
    "            \n",
    "#             print('Shapes 2')\n",
    "#             print(X.shape)\n",
    "#             print(y_dis.shape)\n",
    "#             print('>>>>>>>>>>>x>>>>>>>')\n",
    "#             print(X)\n",
    "#             print('>>>>>>>>>>>y_dis>>>>>>>')            \n",
    "#             print(y_dis)\n",
    "            \n",
    "            #Pre train discriminator on fake and real data before starting the gan. \n",
    "            discriminator.trainable = True\n",
    "            d_loss = discriminator.train_on_batch(X, y_dis)\n",
    "            \n",
    "            #Tricking the noised input of the Generator as real data\n",
    "            #noise = np.random.normal(0,1, [batch_size, 8])\n",
    "            #y_gen = np.ones(batch_size)\n",
    "            noise = np.float32(np.random.normal(size=[BATCH_SIZE_OUT, TIME_STEPS, X_train.shape[2]]))\n",
    "            #y_gen = np.ones(shape=(noise.shape[0], TIME_STEPS, X_train.shape[2]))\n",
    "            y_gen = np.ones(BATCH_SIZE_OUT)\n",
    "            \n",
    "            # During the training of gan, \n",
    "            # the weights of discriminator should be fixed. \n",
    "            #We can enforce that by setting the trainable flag\n",
    "            discriminator.trainable=False\n",
    "            \n",
    "#             print('Shapes 3')\n",
    "#             print(noise.shape)\n",
    "#             print(y_gen.shape)\n",
    "            \n",
    "            #training the GAN by alternating the training of the Discriminator \n",
    "            #and training the chained GAN model with Discriminator’s weights freezed.\n",
    "            a_loss = gan.train_on_batch(noise, y_gen)\n",
    "            \n",
    "            if i == (batch_size-1):\n",
    "                #log_mesg = \"%d: [D loss: %f, acc: %f]\" % (e, d_loss[0], d_loss[1])\n",
    "                #log_mesg = \"%s  [A loss: %f, acc: %f]\" % (log_mesg, a_loss[0], a_loss[1])\n",
    "                log_mesg = \"%d: [D loss: %f]\" % (e, d_loss)\n",
    "                log_mesg = \"%s  [A loss: %f]\" % (log_mesg, a_loss)\n",
    "                print(log_mesg)\n",
    "                \n",
    "            discrimator_loss.append(d_loss)\n",
    "            adversarial_loss.append(a_loss)\n",
    "            \n",
    "#         if e == 1 or e % 5 == 0:\n",
    "#             # generate synthetic dataset\n",
    "#             gen_samples_set = []\n",
    "#             for batch_idx in range(int(len(X_train) / batch_size)):\n",
    "#             # for batch_idx in range(int(len(X_train) / 100)):\n",
    "#                 # noise= np.random.normal(loc=0, scale=1, size=[100, 100])\n",
    "#                 #noise= np.random.normal(0,1, [batch_size, 8])\n",
    "#                 noise = np.float32(np.random.normal(size=[BATCH_SIZE_OUT, TIME_STEPS, X_train.shape[2]]))\n",
    "#                 generated_data = generator.predict(noise)\n",
    "#                 gen_samples_set.append(generated_data)\n",
    "\n",
    "#             gen_samples = np.vstack(gen_samples_set)"
   ]
  },
  {
   "cell_type": "code",
   "execution_count": 183,
   "metadata": {},
   "outputs": [
    {
     "name": "stderr",
     "output_type": "stream",
     "text": [
      "\n",
      "  0%|          | 0/12 [00:00<?, ?it/s]\u001b[A\n",
      " 33%|███▎      | 4/12 [00:00<00:00, 33.77it/s]\u001b[A"
     ]
    },
    {
     "name": "stdout",
     "output_type": "stream",
     "text": [
      "Epoch 1\n"
     ]
    },
    {
     "name": "stderr",
     "output_type": "stream",
     "text": [
      "\n",
      " 50%|█████     | 6/12 [00:00<00:00, 23.31it/s]\u001b[A\n",
      " 67%|██████▋   | 8/12 [00:00<00:00, 20.23it/s]\u001b[A\n",
      "100%|██████████| 12/12 [00:00<00:00, 24.21it/s]\u001b[A\n",
      "  0%|          | 0/12 [00:00<?, ?it/s]\u001b[A\n",
      " 50%|█████     | 6/12 [00:00<00:00, 57.48it/s]\u001b[A"
     ]
    },
    {
     "name": "stdout",
     "output_type": "stream",
     "text": [
      "1: [D loss: 0.180821]  [A loss: 0.274208]\n",
      "Epoch 2\n"
     ]
    },
    {
     "name": "stderr",
     "output_type": "stream",
     "text": [
      "\n",
      " 75%|███████▌  | 9/12 [00:00<00:00, 44.96it/s]\u001b[A\n",
      "100%|██████████| 12/12 [00:00<00:00, 20.35it/s]\u001b[A\n",
      "  0%|          | 0/12 [00:00<?, ?it/s]\u001b[A\n",
      " 33%|███▎      | 4/12 [00:00<00:00, 36.20it/s]\u001b[A"
     ]
    },
    {
     "name": "stdout",
     "output_type": "stream",
     "text": [
      "2: [D loss: 0.203186]  [A loss: 0.348907]\n",
      "Epoch 3\n"
     ]
    },
    {
     "name": "stderr",
     "output_type": "stream",
     "text": [
      "\n",
      " 67%|██████▋   | 8/12 [00:00<00:00, 36.15it/s]\u001b[A\n",
      " 92%|█████████▏| 11/12 [00:00<00:00, 32.76it/s]\u001b[A\n",
      "100%|██████████| 12/12 [00:00<00:00, 31.64it/s]\u001b[A\n",
      "  0%|          | 0/12 [00:00<?, ?it/s]\u001b[A\n",
      " 33%|███▎      | 4/12 [00:00<00:00, 30.73it/s]\u001b[A"
     ]
    },
    {
     "name": "stdout",
     "output_type": "stream",
     "text": [
      "3: [D loss: 0.194236]  [A loss: 0.306907]\n",
      "Epoch 4\n"
     ]
    },
    {
     "name": "stderr",
     "output_type": "stream",
     "text": [
      "\n",
      " 58%|█████▊    | 7/12 [00:00<00:00, 30.37it/s]\u001b[A\n",
      " 92%|█████████▏| 11/12 [00:00<00:00, 30.67it/s]\u001b[A\n",
      "100%|██████████| 12/12 [00:00<00:00, 29.18it/s]\u001b[A\n",
      "  0%|          | 0/12 [00:00<?, ?it/s]\u001b[A\n",
      " 25%|██▌       | 3/12 [00:00<00:00, 26.40it/s]\u001b[A"
     ]
    },
    {
     "name": "stdout",
     "output_type": "stream",
     "text": [
      "4: [D loss: 0.197502]  [A loss: 0.303800]\n",
      "Epoch 5\n"
     ]
    },
    {
     "name": "stderr",
     "output_type": "stream",
     "text": [
      "\n",
      " 67%|██████▋   | 8/12 [00:00<00:00, 29.82it/s]\u001b[A\n",
      "100%|██████████| 12/12 [00:00<00:00, 37.25it/s]\u001b[A\n",
      "  0%|          | 0/12 [00:00<?, ?it/s]\u001b[A\n",
      " 50%|█████     | 6/12 [00:00<00:00, 55.07it/s]\u001b[A"
     ]
    },
    {
     "name": "stdout",
     "output_type": "stream",
     "text": [
      "5: [D loss: 0.196186]  [A loss: 0.313675]\n",
      "Epoch 6\n"
     ]
    },
    {
     "name": "stderr",
     "output_type": "stream",
     "text": [
      "\n",
      "100%|██████████| 12/12 [00:00<00:00, 57.95it/s]\u001b[A\n",
      "  0%|          | 0/12 [00:00<?, ?it/s]\u001b[A\n",
      " 42%|████▏     | 5/12 [00:00<00:00, 45.14it/s]\u001b[A"
     ]
    },
    {
     "name": "stdout",
     "output_type": "stream",
     "text": [
      "6: [D loss: 0.194302]  [A loss: 0.263228]\n",
      "Epoch 7\n"
     ]
    },
    {
     "name": "stderr",
     "output_type": "stream",
     "text": [
      "\n",
      " 75%|███████▌  | 9/12 [00:00<00:00, 43.35it/s]\u001b[A\n",
      "100%|██████████| 12/12 [00:00<00:00, 43.70it/s]\u001b[A\n",
      "  0%|          | 0/12 [00:00<?, ?it/s]\u001b[A\n",
      " 42%|████▏     | 5/12 [00:00<00:00, 49.08it/s]\u001b[A"
     ]
    },
    {
     "name": "stdout",
     "output_type": "stream",
     "text": [
      "7: [D loss: 0.187527]  [A loss: 0.301212]\n",
      "Epoch 8\n"
     ]
    },
    {
     "name": "stderr",
     "output_type": "stream",
     "text": [
      "\n",
      " 75%|███████▌  | 9/12 [00:00<00:00, 45.32it/s]\u001b[A\n",
      "100%|██████████| 12/12 [00:00<00:00, 42.86it/s]\u001b[A\n",
      "  0%|          | 0/12 [00:00<?, ?it/s]\u001b[A\n",
      " 58%|█████▊    | 7/12 [00:00<00:00, 67.33it/s]\u001b[A"
     ]
    },
    {
     "name": "stdout",
     "output_type": "stream",
     "text": [
      "8: [D loss: 0.185182]  [A loss: 0.294353]\n",
      "Epoch 9\n"
     ]
    },
    {
     "name": "stderr",
     "output_type": "stream",
     "text": [
      "\n",
      "100%|██████████| 12/12 [00:00<00:00, 59.55it/s]\u001b[A\n",
      "  0%|          | 0/12 [00:00<?, ?it/s]\u001b[A\n",
      " 50%|█████     | 6/12 [00:00<00:00, 54.56it/s]\u001b[A"
     ]
    },
    {
     "name": "stdout",
     "output_type": "stream",
     "text": [
      "9: [D loss: 0.180722]  [A loss: 0.323189]\n",
      "Epoch 10\n"
     ]
    },
    {
     "name": "stderr",
     "output_type": "stream",
     "text": [
      "\n",
      "100%|██████████| 12/12 [00:00<00:00, 54.80it/s]\u001b[A\n",
      "  0%|          | 0/12 [00:00<?, ?it/s]\u001b[A\n",
      " 58%|█████▊    | 7/12 [00:00<00:00, 64.53it/s]\u001b[A"
     ]
    },
    {
     "name": "stdout",
     "output_type": "stream",
     "text": [
      "10: [D loss: 0.203407]  [A loss: 0.324629]\n",
      "Epoch 11\n"
     ]
    },
    {
     "name": "stderr",
     "output_type": "stream",
     "text": [
      "\n",
      "100%|██████████| 12/12 [00:00<00:00, 59.14it/s]\u001b[A\n",
      "  0%|          | 0/12 [00:00<?, ?it/s]\u001b[A\n",
      " 42%|████▏     | 5/12 [00:00<00:00, 47.08it/s]\u001b[A"
     ]
    },
    {
     "name": "stdout",
     "output_type": "stream",
     "text": [
      "11: [D loss: 0.199655]  [A loss: 0.316996]\n",
      "Epoch 12\n"
     ]
    },
    {
     "name": "stderr",
     "output_type": "stream",
     "text": [
      "\n",
      " 92%|█████████▏| 11/12 [00:00<00:00, 49.48it/s]\u001b[A\n",
      "100%|██████████| 12/12 [00:00<00:00, 46.46it/s]\u001b[A\n",
      "  0%|          | 0/12 [00:00<?, ?it/s]\u001b[A"
     ]
    },
    {
     "name": "stdout",
     "output_type": "stream",
     "text": [
      "12: [D loss: 0.205238]  [A loss: 0.312014]\n",
      "Epoch 13\n"
     ]
    },
    {
     "name": "stderr",
     "output_type": "stream",
     "text": [
      "\n",
      " 25%|██▌       | 3/12 [00:00<00:00, 16.74it/s]\u001b[A\n",
      " 58%|█████▊    | 7/12 [00:00<00:00, 19.02it/s]\u001b[A\n",
      " 92%|█████████▏| 11/12 [00:00<00:00, 22.38it/s]\u001b[A\n",
      "100%|██████████| 12/12 [00:00<00:00, 25.56it/s]\u001b[A\n",
      "  0%|          | 0/12 [00:00<?, ?it/s]\u001b[A\n",
      " 42%|████▏     | 5/12 [00:00<00:00, 43.11it/s]\u001b[A"
     ]
    },
    {
     "name": "stdout",
     "output_type": "stream",
     "text": [
      "13: [D loss: 0.201868]  [A loss: 0.285583]\n",
      "Epoch 14\n"
     ]
    },
    {
     "name": "stderr",
     "output_type": "stream",
     "text": [
      "\n",
      " 67%|██████▋   | 8/12 [00:00<00:00, 37.66it/s]\u001b[A\n",
      "100%|██████████| 12/12 [00:00<00:00, 35.65it/s]\u001b[A\n",
      "  0%|          | 0/12 [00:00<?, ?it/s]\u001b[A\n",
      " 42%|████▏     | 5/12 [00:00<00:00, 45.50it/s]\u001b[A"
     ]
    },
    {
     "name": "stdout",
     "output_type": "stream",
     "text": [
      "14: [D loss: 0.207570]  [A loss: 0.318250]\n",
      "Epoch 15\n"
     ]
    },
    {
     "name": "stderr",
     "output_type": "stream",
     "text": [
      "\n",
      " 75%|███████▌  | 9/12 [00:00<00:00, 41.16it/s]\u001b[A\n",
      " 92%|█████████▏| 11/12 [00:00<00:00, 29.56it/s]\u001b[A\n",
      "100%|██████████| 12/12 [00:00<00:00, 29.95it/s]\u001b[A\n",
      "  0%|          | 0/12 [00:00<?, ?it/s]\u001b[A\n",
      " 25%|██▌       | 3/12 [00:00<00:00, 29.90it/s]\u001b[A"
     ]
    },
    {
     "name": "stdout",
     "output_type": "stream",
     "text": [
      "15: [D loss: 0.196069]  [A loss: 0.306722]\n",
      "Epoch 16\n"
     ]
    },
    {
     "name": "stderr",
     "output_type": "stream",
     "text": [
      "\n",
      " 58%|█████▊    | 7/12 [00:00<00:00, 30.75it/s]\u001b[A\n",
      " 92%|█████████▏| 11/12 [00:00<00:00, 31.98it/s]\u001b[A\n",
      "100%|██████████| 12/12 [00:00<00:00, 33.08it/s]\u001b[A\n",
      "  0%|          | 0/12 [00:00<?, ?it/s]\u001b[A\n",
      " 42%|████▏     | 5/12 [00:00<00:00, 46.50it/s]\u001b[A"
     ]
    },
    {
     "name": "stdout",
     "output_type": "stream",
     "text": [
      "16: [D loss: 0.191067]  [A loss: 0.351482]\n",
      "Epoch 17\n"
     ]
    },
    {
     "name": "stderr",
     "output_type": "stream",
     "text": [
      "\n",
      " 83%|████████▎ | 10/12 [00:00<00:00, 45.60it/s]\u001b[A\n",
      "100%|██████████| 12/12 [00:00<00:00, 42.61it/s]\u001b[A\n",
      "  0%|          | 0/12 [00:00<?, ?it/s]\u001b[A\n",
      " 42%|████▏     | 5/12 [00:00<00:00, 47.00it/s]\u001b[A"
     ]
    },
    {
     "name": "stdout",
     "output_type": "stream",
     "text": [
      "17: [D loss: 0.203253]  [A loss: 0.350766]\n",
      "Epoch 18\n"
     ]
    },
    {
     "name": "stderr",
     "output_type": "stream",
     "text": [
      "\n",
      " 83%|████████▎ | 10/12 [00:00<00:00, 45.25it/s]\u001b[A\n",
      "100%|██████████| 12/12 [00:00<00:00, 38.42it/s]\u001b[A\n",
      "  0%|          | 0/12 [00:00<?, ?it/s]\u001b[A\n",
      " 42%|████▏     | 5/12 [00:00<00:00, 45.43it/s]\u001b[A"
     ]
    },
    {
     "name": "stdout",
     "output_type": "stream",
     "text": [
      "18: [D loss: 0.188408]  [A loss: 0.370925]\n",
      "Epoch 19\n"
     ]
    },
    {
     "name": "stderr",
     "output_type": "stream",
     "text": [
      "\n",
      " 83%|████████▎ | 10/12 [00:00<00:00, 46.42it/s]\u001b[A\n",
      "100%|██████████| 12/12 [00:00<00:00, 40.77it/s]\u001b[A\n",
      "  0%|          | 0/12 [00:00<?, ?it/s]\u001b[A\n",
      " 42%|████▏     | 5/12 [00:00<00:00, 46.18it/s]\u001b[A"
     ]
    },
    {
     "name": "stdout",
     "output_type": "stream",
     "text": [
      "19: [D loss: 0.189861]  [A loss: 0.310924]\n",
      "Epoch 20\n"
     ]
    },
    {
     "name": "stderr",
     "output_type": "stream",
     "text": [
      "\n",
      " 83%|████████▎ | 10/12 [00:00<00:00, 44.33it/s]\u001b[A\n",
      "100%|██████████| 12/12 [00:00<00:00, 41.22it/s]\u001b[A\n",
      "  0%|          | 0/12 [00:00<?, ?it/s]\u001b[A\n",
      " 58%|█████▊    | 7/12 [00:00<00:00, 63.36it/s]\u001b[A"
     ]
    },
    {
     "name": "stdout",
     "output_type": "stream",
     "text": [
      "20: [D loss: 0.202916]  [A loss: 0.272579]\n",
      "Epoch 21\n"
     ]
    },
    {
     "name": "stderr",
     "output_type": "stream",
     "text": [
      "\n",
      " 75%|███████▌  | 9/12 [00:00<00:00, 37.70it/s]\u001b[A\n",
      " 92%|█████████▏| 11/12 [00:00<00:00, 29.71it/s]\u001b[A\n",
      "100%|██████████| 12/12 [00:00<00:00, 33.40it/s]\u001b[A\n",
      "  0%|          | 0/12 [00:00<?, ?it/s]\u001b[A\n",
      " 33%|███▎      | 4/12 [00:00<00:00, 34.58it/s]\u001b[A"
     ]
    },
    {
     "name": "stdout",
     "output_type": "stream",
     "text": [
      "21: [D loss: 0.193430]  [A loss: 0.317196]\n",
      "Epoch 22\n"
     ]
    },
    {
     "name": "stderr",
     "output_type": "stream",
     "text": [
      "\n",
      " 58%|█████▊    | 7/12 [00:00<00:00, 32.88it/s]\u001b[A\n",
      " 83%|████████▎ | 10/12 [00:00<00:00, 30.58it/s]\u001b[A\n",
      "100%|██████████| 12/12 [00:00<00:00, 29.53it/s]\u001b[A\n",
      "  0%|          | 0/12 [00:00<?, ?it/s]\u001b[A\n",
      " 50%|█████     | 6/12 [00:00<00:00, 59.20it/s]\u001b[A"
     ]
    },
    {
     "name": "stdout",
     "output_type": "stream",
     "text": [
      "22: [D loss: 0.182707]  [A loss: 0.302581]\n",
      "Epoch 23\n"
     ]
    },
    {
     "name": "stderr",
     "output_type": "stream",
     "text": [
      "\n",
      " 83%|████████▎ | 10/12 [00:00<00:00, 50.84it/s]\u001b[A\n",
      "100%|██████████| 12/12 [00:00<00:00, 41.58it/s]\u001b[A\n",
      "  0%|          | 0/12 [00:00<?, ?it/s]\u001b[A\n",
      " 33%|███▎      | 4/12 [00:00<00:00, 37.68it/s]\u001b[A"
     ]
    },
    {
     "name": "stdout",
     "output_type": "stream",
     "text": [
      "23: [D loss: 0.200912]  [A loss: 0.381143]\n",
      "Epoch 24\n"
     ]
    },
    {
     "name": "stderr",
     "output_type": "stream",
     "text": [
      "\n",
      " 58%|█████▊    | 7/12 [00:00<00:00, 33.61it/s]\u001b[A\n",
      " 83%|████████▎ | 10/12 [00:00<00:00, 31.31it/s]\u001b[A\n",
      "100%|██████████| 12/12 [00:00<00:00, 29.71it/s]\u001b[A\n",
      "  0%|          | 0/12 [00:00<?, ?it/s]\u001b[A\n",
      " 25%|██▌       | 3/12 [00:00<00:00, 26.64it/s]\u001b[A"
     ]
    },
    {
     "name": "stdout",
     "output_type": "stream",
     "text": [
      "24: [D loss: 0.198899]  [A loss: 0.264315]\n",
      "Epoch 25\n"
     ]
    },
    {
     "name": "stderr",
     "output_type": "stream",
     "text": [
      "\n",
      " 58%|█████▊    | 7/12 [00:00<00:00, 28.95it/s]\u001b[A\n",
      "100%|██████████| 12/12 [00:00<00:00, 31.91it/s]\u001b[A\n",
      "  0%|          | 0/12 [00:00<?, ?it/s]\u001b[A\n",
      " 33%|███▎      | 4/12 [00:00<00:00, 39.32it/s]\u001b[A"
     ]
    },
    {
     "name": "stdout",
     "output_type": "stream",
     "text": [
      "25: [D loss: 0.194837]  [A loss: 0.248755]\n",
      "Epoch 26\n"
     ]
    },
    {
     "name": "stderr",
     "output_type": "stream",
     "text": [
      "\n",
      " 75%|███████▌  | 9/12 [00:00<00:00, 41.34it/s]\u001b[A\n",
      "100%|██████████| 12/12 [00:00<00:00, 41.41it/s]\u001b[A\n",
      "  0%|          | 0/12 [00:00<?, ?it/s]\u001b[A\n",
      " 33%|███▎      | 4/12 [00:00<00:00, 38.28it/s]\u001b[A"
     ]
    },
    {
     "name": "stdout",
     "output_type": "stream",
     "text": [
      "26: [D loss: 0.185803]  [A loss: 0.343604]\n",
      "Epoch 27\n"
     ]
    },
    {
     "name": "stderr",
     "output_type": "stream",
     "text": [
      "\n",
      " 67%|██████▋   | 8/12 [00:00<00:00, 38.05it/s]\u001b[A\n",
      " 92%|█████████▏| 11/12 [00:00<00:00, 34.74it/s]\u001b[A\n",
      "100%|██████████| 12/12 [00:00<00:00, 33.99it/s]\u001b[A\n",
      "  0%|          | 0/12 [00:00<?, ?it/s]\u001b[A\n",
      " 33%|███▎      | 4/12 [00:00<00:00, 35.76it/s]\u001b[A"
     ]
    },
    {
     "name": "stdout",
     "output_type": "stream",
     "text": [
      "27: [D loss: 0.202054]  [A loss: 0.312463]\n",
      "Epoch 28\n"
     ]
    },
    {
     "name": "stderr",
     "output_type": "stream",
     "text": [
      "\n",
      " 67%|██████▋   | 8/12 [00:00<00:00, 36.73it/s]\u001b[A\n",
      " 83%|████████▎ | 10/12 [00:00<00:00, 28.84it/s]\u001b[A\n",
      "100%|██████████| 12/12 [00:00<00:00, 30.79it/s]\u001b[A\n",
      "  0%|          | 0/12 [00:00<?, ?it/s]\u001b[A\n",
      " 58%|█████▊    | 7/12 [00:00<00:00, 63.43it/s]\u001b[A"
     ]
    },
    {
     "name": "stdout",
     "output_type": "stream",
     "text": [
      "28: [D loss: 0.196474]  [A loss: 0.368325]\n",
      "Epoch 29\n"
     ]
    },
    {
     "name": "stderr",
     "output_type": "stream",
     "text": [
      "\n",
      "100%|██████████| 12/12 [00:00<00:00, 55.25it/s]\u001b[A\n",
      "  0%|          | 0/12 [00:00<?, ?it/s]\u001b[A\n",
      " 25%|██▌       | 3/12 [00:00<00:00, 29.66it/s]\u001b[A"
     ]
    },
    {
     "name": "stdout",
     "output_type": "stream",
     "text": [
      "29: [D loss: 0.205088]  [A loss: 0.295801]\n",
      "Epoch 30\n"
     ]
    },
    {
     "name": "stderr",
     "output_type": "stream",
     "text": [
      "\n",
      " 58%|█████▊    | 7/12 [00:00<00:00, 30.28it/s]\u001b[A\n",
      " 83%|████████▎ | 10/12 [00:00<00:00, 29.65it/s]\u001b[A\n",
      "100%|██████████| 12/12 [00:00<00:00, 31.41it/s]\u001b[A\n",
      "  0%|          | 0/12 [00:00<?, ?it/s]\u001b[A\n",
      " 33%|███▎      | 4/12 [00:00<00:00, 35.21it/s]\u001b[A"
     ]
    },
    {
     "name": "stdout",
     "output_type": "stream",
     "text": [
      "30: [D loss: 0.183548]  [A loss: 0.278046]\n",
      "Epoch 31\n"
     ]
    },
    {
     "name": "stderr",
     "output_type": "stream",
     "text": [
      "\n",
      " 75%|███████▌  | 9/12 [00:00<00:00, 37.16it/s]\u001b[A\n",
      "100%|██████████| 12/12 [00:00<00:00, 33.92it/s]\u001b[A\n",
      "  0%|          | 0/12 [00:00<?, ?it/s]\u001b[A\n",
      " 25%|██▌       | 3/12 [00:00<00:00, 29.99it/s]\u001b[A"
     ]
    },
    {
     "name": "stdout",
     "output_type": "stream",
     "text": [
      "31: [D loss: 0.197814]  [A loss: 0.311210]\n",
      "Epoch 32\n"
     ]
    },
    {
     "name": "stderr",
     "output_type": "stream",
     "text": [
      "\n",
      " 58%|█████▊    | 7/12 [00:00<00:00, 32.10it/s]\u001b[A\n",
      " 83%|████████▎ | 10/12 [00:00<00:00, 30.14it/s]\u001b[A\n",
      "100%|██████████| 12/12 [00:00<00:00, 28.46it/s]\u001b[A\n",
      "  0%|          | 0/12 [00:00<?, ?it/s]\u001b[A\n",
      " 25%|██▌       | 3/12 [00:00<00:00, 23.21it/s]\u001b[A"
     ]
    },
    {
     "name": "stdout",
     "output_type": "stream",
     "text": [
      "32: [D loss: 0.215496]  [A loss: 0.298315]\n",
      "Epoch 33\n"
     ]
    },
    {
     "name": "stderr",
     "output_type": "stream",
     "text": [
      "\n",
      " 42%|████▏     | 5/12 [00:00<00:00, 22.03it/s]\u001b[A\n",
      " 58%|█████▊    | 7/12 [00:00<00:00, 21.28it/s]\u001b[A\n",
      "100%|██████████| 12/12 [00:00<00:00, 25.53it/s]\u001b[A\n",
      "  0%|          | 0/12 [00:00<?, ?it/s]\u001b[A\n",
      " 25%|██▌       | 3/12 [00:00<00:00, 25.63it/s]\u001b[A"
     ]
    },
    {
     "name": "stdout",
     "output_type": "stream",
     "text": [
      "33: [D loss: 0.202524]  [A loss: 0.332782]\n",
      "Epoch 34\n"
     ]
    },
    {
     "name": "stderr",
     "output_type": "stream",
     "text": [
      "\n",
      " 42%|████▏     | 5/12 [00:00<00:00, 22.45it/s]\u001b[A\n",
      " 92%|█████████▏| 11/12 [00:00<00:00, 27.35it/s]\u001b[A\n",
      "100%|██████████| 12/12 [00:00<00:00, 32.47it/s]\u001b[A\n",
      "  0%|          | 0/12 [00:00<?, ?it/s]\u001b[A\n",
      " 33%|███▎      | 4/12 [00:00<00:00, 38.75it/s]\u001b[A"
     ]
    },
    {
     "name": "stdout",
     "output_type": "stream",
     "text": [
      "34: [D loss: 0.195943]  [A loss: 0.358392]\n",
      "Epoch 35\n"
     ]
    },
    {
     "name": "stderr",
     "output_type": "stream",
     "text": [
      "\n",
      " 75%|███████▌  | 9/12 [00:00<00:00, 41.50it/s]\u001b[A\n",
      "100%|██████████| 12/12 [00:00<00:00, 32.31it/s]\u001b[A\n",
      "  0%|          | 0/12 [00:00<?, ?it/s]\u001b[A\n",
      " 33%|███▎      | 4/12 [00:00<00:00, 39.63it/s]\u001b[A"
     ]
    },
    {
     "name": "stdout",
     "output_type": "stream",
     "text": [
      "35: [D loss: 0.211790]  [A loss: 0.324777]\n",
      "Epoch 36\n"
     ]
    },
    {
     "name": "stderr",
     "output_type": "stream",
     "text": [
      "\n",
      " 75%|███████▌  | 9/12 [00:00<00:00, 40.02it/s]\u001b[A\n",
      "100%|██████████| 12/12 [00:00<00:00, 40.05it/s]\u001b[A\n",
      "  0%|          | 0/12 [00:00<?, ?it/s]\u001b[A\n",
      " 50%|█████     | 6/12 [00:00<00:00, 55.99it/s]\u001b[A"
     ]
    },
    {
     "name": "stdout",
     "output_type": "stream",
     "text": [
      "36: [D loss: 0.168469]  [A loss: 0.297115]\n",
      "Epoch 37\n"
     ]
    },
    {
     "name": "stderr",
     "output_type": "stream",
     "text": [
      "\n",
      "100%|██████████| 12/12 [00:00<00:00, 54.48it/s]\u001b[A\n",
      "  0%|          | 0/12 [00:00<?, ?it/s]\u001b[A\n",
      " 25%|██▌       | 3/12 [00:00<00:00, 29.32it/s]\u001b[A"
     ]
    },
    {
     "name": "stdout",
     "output_type": "stream",
     "text": [
      "37: [D loss: 0.192191]  [A loss: 0.290777]\n",
      "Epoch 38\n"
     ]
    },
    {
     "name": "stderr",
     "output_type": "stream",
     "text": [
      "\n",
      " 58%|█████▊    | 7/12 [00:00<00:00, 30.49it/s]\u001b[A\n",
      " 92%|█████████▏| 11/12 [00:00<00:00, 31.75it/s]\u001b[A\n",
      "100%|██████████| 12/12 [00:00<00:00, 33.26it/s]\u001b[A\n",
      "  0%|          | 0/12 [00:00<?, ?it/s]\u001b[A\n",
      " 42%|████▏     | 5/12 [00:00<00:00, 49.19it/s]\u001b[A"
     ]
    },
    {
     "name": "stdout",
     "output_type": "stream",
     "text": [
      "38: [D loss: 0.214408]  [A loss: 0.329935]\n",
      "Epoch 39\n"
     ]
    },
    {
     "name": "stderr",
     "output_type": "stream",
     "text": [
      "\n",
      " 92%|█████████▏| 11/12 [00:00<00:00, 51.53it/s]\u001b[A\n",
      "100%|██████████| 12/12 [00:00<00:00, 42.78it/s]\u001b[A\n",
      "  0%|          | 0/12 [00:00<?, ?it/s]\u001b[A\n",
      " 25%|██▌       | 3/12 [00:00<00:00, 27.19it/s]\u001b[A"
     ]
    },
    {
     "name": "stdout",
     "output_type": "stream",
     "text": [
      "39: [D loss: 0.202938]  [A loss: 0.288644]\n",
      "Epoch 40\n"
     ]
    },
    {
     "name": "stderr",
     "output_type": "stream",
     "text": [
      "\n",
      " 67%|██████▋   | 8/12 [00:00<00:00, 30.46it/s]\u001b[A\n",
      "100%|██████████| 12/12 [00:00<00:00, 31.62it/s]\u001b[A\n",
      "  0%|          | 0/12 [00:00<?, ?it/s]\u001b[A\n",
      " 58%|█████▊    | 7/12 [00:00<00:00, 64.40it/s]\u001b[A"
     ]
    },
    {
     "name": "stdout",
     "output_type": "stream",
     "text": [
      "40: [D loss: 0.194126]  [A loss: 0.343285]\n",
      "Epoch 41\n"
     ]
    },
    {
     "name": "stderr",
     "output_type": "stream",
     "text": [
      "\n",
      "100%|██████████| 12/12 [00:00<00:00, 58.76it/s]\u001b[A\n",
      "  0%|          | 0/12 [00:00<?, ?it/s]\u001b[A\n",
      " 50%|█████     | 6/12 [00:00<00:00, 58.33it/s]\u001b[A"
     ]
    },
    {
     "name": "stdout",
     "output_type": "stream",
     "text": [
      "41: [D loss: 0.206226]  [A loss: 0.329683]\n",
      "Epoch 42\n"
     ]
    },
    {
     "name": "stderr",
     "output_type": "stream",
     "text": [
      "\n",
      "100%|██████████| 12/12 [00:00<00:00, 58.35it/s]\u001b[A\n",
      "  0%|          | 0/12 [00:00<?, ?it/s]\u001b[A\n",
      " 33%|███▎      | 4/12 [00:00<00:00, 37.81it/s]\u001b[A"
     ]
    },
    {
     "name": "stdout",
     "output_type": "stream",
     "text": [
      "42: [D loss: 0.209318]  [A loss: 0.332274]\n",
      "Epoch 43\n"
     ]
    },
    {
     "name": "stderr",
     "output_type": "stream",
     "text": [
      "\n",
      " 67%|██████▋   | 8/12 [00:00<00:00, 35.71it/s]\u001b[A\n",
      " 92%|█████████▏| 11/12 [00:00<00:00, 33.32it/s]\u001b[A\n",
      "100%|██████████| 12/12 [00:00<00:00, 30.81it/s]\u001b[A\n",
      "  0%|          | 0/12 [00:00<?, ?it/s]\u001b[A\n",
      " 33%|███▎      | 4/12 [00:00<00:00, 35.83it/s]\u001b[A"
     ]
    },
    {
     "name": "stdout",
     "output_type": "stream",
     "text": [
      "43: [D loss: 0.200653]  [A loss: 0.319603]\n",
      "Epoch 44\n"
     ]
    },
    {
     "name": "stderr",
     "output_type": "stream",
     "text": [
      "\n",
      " 83%|████████▎ | 10/12 [00:00<00:00, 39.59it/s]\u001b[A\n",
      "100%|██████████| 12/12 [00:00<00:00, 36.99it/s]\u001b[A\n",
      "  0%|          | 0/12 [00:00<?, ?it/s]\u001b[A\n",
      " 33%|███▎      | 4/12 [00:00<00:00, 38.85it/s]\u001b[A"
     ]
    },
    {
     "name": "stdout",
     "output_type": "stream",
     "text": [
      "44: [D loss: 0.211689]  [A loss: 0.392740]\n",
      "Epoch 45\n"
     ]
    },
    {
     "name": "stderr",
     "output_type": "stream",
     "text": [
      "\n",
      " 67%|██████▋   | 8/12 [00:00<00:00, 38.39it/s]\u001b[A\n",
      "100%|██████████| 12/12 [00:00<00:00, 37.38it/s]\u001b[A\n",
      "  0%|          | 0/12 [00:00<?, ?it/s]\u001b[A\n",
      " 33%|███▎      | 4/12 [00:00<00:00, 33.60it/s]\u001b[A"
     ]
    },
    {
     "name": "stdout",
     "output_type": "stream",
     "text": [
      "45: [D loss: 0.198996]  [A loss: 0.351423]\n",
      "Epoch 46\n"
     ]
    },
    {
     "name": "stderr",
     "output_type": "stream",
     "text": [
      "\n",
      " 58%|█████▊    | 7/12 [00:00<00:00, 30.98it/s]\u001b[A\n",
      "100%|██████████| 12/12 [00:00<00:00, 35.53it/s]\u001b[A\n",
      "  0%|          | 0/12 [00:00<?, ?it/s]\u001b[A\n",
      " 58%|█████▊    | 7/12 [00:00<00:00, 65.90it/s]\u001b[A"
     ]
    },
    {
     "name": "stdout",
     "output_type": "stream",
     "text": [
      "46: [D loss: 0.177485]  [A loss: 0.290780]\n",
      "Epoch 47\n"
     ]
    },
    {
     "name": "stderr",
     "output_type": "stream",
     "text": [
      "\n",
      "100%|██████████| 12/12 [00:00<00:00, 59.22it/s]\u001b[A\n",
      "  0%|          | 0/12 [00:00<?, ?it/s]\u001b[A\n",
      " 33%|███▎      | 4/12 [00:00<00:00, 34.97it/s]\u001b[A"
     ]
    },
    {
     "name": "stdout",
     "output_type": "stream",
     "text": [
      "47: [D loss: 0.197286]  [A loss: 0.306556]\n",
      "Epoch 48\n"
     ]
    },
    {
     "name": "stderr",
     "output_type": "stream",
     "text": [
      "\n",
      " 75%|███████▌  | 9/12 [00:00<00:00, 37.17it/s]\u001b[A\n",
      "100%|██████████| 12/12 [00:00<00:00, 39.44it/s]\u001b[A\n",
      "  0%|          | 0/12 [00:00<?, ?it/s]\u001b[A\n",
      " 42%|████▏     | 5/12 [00:00<00:00, 48.60it/s]\u001b[A"
     ]
    },
    {
     "name": "stdout",
     "output_type": "stream",
     "text": [
      "48: [D loss: 0.186412]  [A loss: 0.360865]\n",
      "Epoch 49\n"
     ]
    },
    {
     "name": "stderr",
     "output_type": "stream",
     "text": [
      "\n",
      " 83%|████████▎ | 10/12 [00:00<00:00, 48.05it/s]\u001b[A\n",
      "100%|██████████| 12/12 [00:00<00:00, 45.35it/s]\u001b[A\n",
      "  0%|          | 0/12 [00:00<?, ?it/s]\u001b[A\n",
      " 67%|██████▋   | 8/12 [00:00<00:00, 74.12it/s]\u001b[A"
     ]
    },
    {
     "name": "stdout",
     "output_type": "stream",
     "text": [
      "49: [D loss: 0.196119]  [A loss: 0.372820]\n",
      "Epoch 50\n"
     ]
    },
    {
     "name": "stderr",
     "output_type": "stream",
     "text": [
      "\n",
      "100%|██████████| 12/12 [00:00<00:00, 67.81it/s]\u001b[A\n",
      "  0%|          | 0/12 [00:00<?, ?it/s]\u001b[A\n",
      " 50%|█████     | 6/12 [00:00<00:00, 56.61it/s]\u001b[A"
     ]
    },
    {
     "name": "stdout",
     "output_type": "stream",
     "text": [
      "50: [D loss: 0.211397]  [A loss: 0.340344]\n",
      "Epoch 51\n"
     ]
    },
    {
     "name": "stderr",
     "output_type": "stream",
     "text": [
      "\n",
      "100%|██████████| 12/12 [00:00<00:00, 66.72it/s]\u001b[A\n",
      "  0%|          | 0/12 [00:00<?, ?it/s]\u001b[A\n",
      " 58%|█████▊    | 7/12 [00:00<00:00, 66.63it/s]\u001b[A"
     ]
    },
    {
     "name": "stdout",
     "output_type": "stream",
     "text": [
      "51: [D loss: 0.202608]  [A loss: 0.317391]\n",
      "Epoch 52\n"
     ]
    },
    {
     "name": "stderr",
     "output_type": "stream",
     "text": [
      "\n",
      "100%|██████████| 12/12 [00:00<00:00, 60.49it/s]\u001b[A\n",
      "  0%|          | 0/12 [00:00<?, ?it/s]\u001b[A\n",
      " 58%|█████▊    | 7/12 [00:00<00:00, 66.64it/s]\u001b[A"
     ]
    },
    {
     "name": "stdout",
     "output_type": "stream",
     "text": [
      "52: [D loss: 0.206047]  [A loss: 0.354009]\n",
      "Epoch 53\n"
     ]
    },
    {
     "name": "stderr",
     "output_type": "stream",
     "text": [
      "\n",
      "100%|██████████| 12/12 [00:00<00:00, 63.81it/s]\u001b[A\n",
      "  0%|          | 0/12 [00:00<?, ?it/s]\u001b[A\n",
      " 42%|████▏     | 5/12 [00:00<00:00, 49.48it/s]\u001b[A"
     ]
    },
    {
     "name": "stdout",
     "output_type": "stream",
     "text": [
      "53: [D loss: 0.203082]  [A loss: 0.307508]\n",
      "Epoch 54\n"
     ]
    },
    {
     "name": "stderr",
     "output_type": "stream",
     "text": [
      "\n",
      "100%|██████████| 12/12 [00:00<00:00, 59.67it/s]\u001b[A\n",
      "  0%|          | 0/12 [00:00<?, ?it/s]\u001b[A\n",
      " 50%|█████     | 6/12 [00:00<00:00, 59.78it/s]\u001b[A"
     ]
    },
    {
     "name": "stdout",
     "output_type": "stream",
     "text": [
      "54: [D loss: 0.197392]  [A loss: 0.320079]\n",
      "Epoch 55\n"
     ]
    },
    {
     "name": "stderr",
     "output_type": "stream",
     "text": [
      "\n",
      "100%|██████████| 12/12 [00:00<00:00, 58.59it/s]\u001b[A\n",
      "  0%|          | 0/12 [00:00<?, ?it/s]\u001b[A\n",
      " 33%|███▎      | 4/12 [00:00<00:00, 38.63it/s]\u001b[A"
     ]
    },
    {
     "name": "stdout",
     "output_type": "stream",
     "text": [
      "55: [D loss: 0.184389]  [A loss: 0.354605]\n",
      "Epoch 56\n"
     ]
    },
    {
     "name": "stderr",
     "output_type": "stream",
     "text": [
      "\n",
      " 83%|████████▎ | 10/12 [00:00<00:00, 42.56it/s]\u001b[A\n",
      "100%|██████████| 12/12 [00:00<00:00, 44.93it/s]\u001b[A\n",
      "  0%|          | 0/12 [00:00<?, ?it/s]\u001b[A\n",
      " 58%|█████▊    | 7/12 [00:00<00:00, 64.18it/s]\u001b[A"
     ]
    },
    {
     "name": "stdout",
     "output_type": "stream",
     "text": [
      "56: [D loss: 0.193105]  [A loss: 0.335206]\n",
      "Epoch 57\n"
     ]
    },
    {
     "name": "stderr",
     "output_type": "stream",
     "text": [
      "\n",
      " 92%|█████████▏| 11/12 [00:00<00:00, 53.71it/s]\u001b[A\n",
      "100%|██████████| 12/12 [00:00<00:00, 48.75it/s]\u001b[A\n",
      "  0%|          | 0/12 [00:00<?, ?it/s]\u001b[A\n",
      " 58%|█████▊    | 7/12 [00:00<00:00, 65.28it/s]\u001b[A"
     ]
    },
    {
     "name": "stdout",
     "output_type": "stream",
     "text": [
      "57: [D loss: 0.192174]  [A loss: 0.313412]\n",
      "Epoch 58\n"
     ]
    },
    {
     "name": "stderr",
     "output_type": "stream",
     "text": [
      "\n",
      "100%|██████████| 12/12 [00:00<00:00, 59.37it/s]\u001b[A\n",
      "  0%|          | 0/12 [00:00<?, ?it/s]\u001b[A\n",
      " 67%|██████▋   | 8/12 [00:00<00:00, 73.58it/s]\u001b[A"
     ]
    },
    {
     "name": "stdout",
     "output_type": "stream",
     "text": [
      "58: [D loss: 0.198260]  [A loss: 0.373672]\n",
      "Epoch 59\n"
     ]
    },
    {
     "name": "stderr",
     "output_type": "stream",
     "text": [
      "\n",
      "100%|██████████| 12/12 [00:00<00:00, 63.92it/s]\u001b[A\n",
      "  0%|          | 0/12 [00:00<?, ?it/s]\u001b[A\n",
      " 25%|██▌       | 3/12 [00:00<00:00, 29.23it/s]\u001b[A"
     ]
    },
    {
     "name": "stdout",
     "output_type": "stream",
     "text": [
      "59: [D loss: 0.193805]  [A loss: 0.305303]\n",
      "Epoch 60\n"
     ]
    },
    {
     "name": "stderr",
     "output_type": "stream",
     "text": [
      "\n",
      " 50%|█████     | 6/12 [00:00<00:00, 28.66it/s]\u001b[A\n",
      " 83%|████████▎ | 10/12 [00:00<00:00, 29.14it/s]\u001b[A\n",
      "100%|██████████| 12/12 [00:00<00:00, 29.10it/s]\u001b[A\n",
      "  0%|          | 0/12 [00:00<?, ?it/s]\u001b[A\n",
      " 33%|███▎      | 4/12 [00:00<00:00, 37.51it/s]\u001b[A"
     ]
    },
    {
     "name": "stdout",
     "output_type": "stream",
     "text": [
      "60: [D loss: 0.190748]  [A loss: 0.339723]\n",
      "Epoch 61\n"
     ]
    },
    {
     "name": "stderr",
     "output_type": "stream",
     "text": [
      "\n",
      " 67%|██████▋   | 8/12 [00:00<00:00, 36.87it/s]\u001b[A\n",
      " 92%|█████████▏| 11/12 [00:00<00:00, 33.91it/s]\u001b[A\n",
      "100%|██████████| 12/12 [00:00<00:00, 32.21it/s]\u001b[A\n",
      "  0%|          | 0/12 [00:00<?, ?it/s]\u001b[A\n",
      " 33%|███▎      | 4/12 [00:00<00:00, 35.35it/s]\u001b[A"
     ]
    },
    {
     "name": "stdout",
     "output_type": "stream",
     "text": [
      "61: [D loss: 0.207829]  [A loss: 0.330179]\n",
      "Epoch 62\n"
     ]
    },
    {
     "name": "stderr",
     "output_type": "stream",
     "text": [
      "\n",
      " 75%|███████▌  | 9/12 [00:00<00:00, 37.66it/s]\u001b[A\n",
      "100%|██████████| 12/12 [00:00<00:00, 41.68it/s]\u001b[A\n",
      "  0%|          | 0/12 [00:00<?, ?it/s]\u001b[A\n",
      " 75%|███████▌  | 9/12 [00:00<00:00, 86.48it/s]\u001b[A\n",
      "100%|██████████| 12/12 [00:00<00:00, 65.44it/s]\u001b[A\n"
     ]
    },
    {
     "name": "stdout",
     "output_type": "stream",
     "text": [
      "62: [D loss: 0.195058]  [A loss: 0.313016]\n",
      "Epoch 63\n",
      "63: [D loss: 0.196918]  [A loss: 0.293503]\n",
      "Epoch 64\n"
     ]
    },
    {
     "name": "stderr",
     "output_type": "stream",
     "text": [
      "  0%|          | 0/12 [00:00<?, ?it/s]\u001b[A\n",
      " 17%|█▋        | 2/12 [00:00<00:00, 19.75it/s]\u001b[A\n",
      " 50%|█████     | 6/12 [00:00<00:00, 22.72it/s]\u001b[A\n",
      "100%|██████████| 12/12 [00:00<00:00, 38.27it/s]\u001b[A\n",
      "  0%|          | 0/12 [00:00<?, ?it/s]\u001b[A\n",
      " 42%|████▏     | 5/12 [00:00<00:00, 43.69it/s]\u001b[A"
     ]
    },
    {
     "name": "stdout",
     "output_type": "stream",
     "text": [
      "64: [D loss: 0.186605]  [A loss: 0.312569]\n",
      "Epoch 65\n"
     ]
    },
    {
     "name": "stderr",
     "output_type": "stream",
     "text": [
      "\n",
      " 92%|█████████▏| 11/12 [00:00<00:00, 46.23it/s]\u001b[A\n",
      "100%|██████████| 12/12 [00:00<00:00, 40.38it/s]\u001b[A\n",
      "  0%|          | 0/12 [00:00<?, ?it/s]\u001b[A\n",
      " 25%|██▌       | 3/12 [00:00<00:00, 26.93it/s]\u001b[A"
     ]
    },
    {
     "name": "stdout",
     "output_type": "stream",
     "text": [
      "65: [D loss: 0.190474]  [A loss: 0.361005]\n",
      "Epoch 66\n"
     ]
    },
    {
     "name": "stderr",
     "output_type": "stream",
     "text": [
      "\n",
      " 58%|█████▊    | 7/12 [00:00<00:00, 28.68it/s]\u001b[A\n",
      " 92%|█████████▏| 11/12 [00:00<00:00, 28.90it/s]\u001b[A\n",
      "100%|██████████| 12/12 [00:00<00:00, 28.67it/s]\u001b[A\n",
      "  0%|          | 0/12 [00:00<?, ?it/s]\u001b[A\n",
      " 33%|███▎      | 4/12 [00:00<00:00, 36.34it/s]\u001b[A"
     ]
    },
    {
     "name": "stdout",
     "output_type": "stream",
     "text": [
      "66: [D loss: 0.206616]  [A loss: 0.340997]\n",
      "Epoch 67\n"
     ]
    },
    {
     "name": "stderr",
     "output_type": "stream",
     "text": [
      "\n",
      " 67%|██████▋   | 8/12 [00:00<00:00, 36.64it/s]\u001b[A\n",
      "100%|██████████| 12/12 [00:00<00:00, 39.94it/s]\u001b[A\n",
      "  0%|          | 0/12 [00:00<?, ?it/s]\u001b[A\n",
      " 67%|██████▋   | 8/12 [00:00<00:00, 78.35it/s]\u001b[A\n",
      "100%|██████████| 12/12 [00:00<00:00, 70.77it/s]\u001b[A\n",
      "  0%|          | 0/12 [00:00<?, ?it/s]\u001b[A"
     ]
    },
    {
     "name": "stdout",
     "output_type": "stream",
     "text": [
      "67: [D loss: 0.206487]  [A loss: 0.319847]\n",
      "Epoch 68\n",
      "68: [D loss: 0.203662]  [A loss: 0.330369]\n",
      "Epoch 69\n"
     ]
    },
    {
     "name": "stderr",
     "output_type": "stream",
     "text": [
      "\n",
      " 42%|████▏     | 5/12 [00:00<00:00, 47.14it/s]\u001b[A\n",
      " 83%|████████▎ | 10/12 [00:00<00:00, 46.37it/s]\u001b[A\n",
      "100%|██████████| 12/12 [00:00<00:00, 41.39it/s]\u001b[A\n",
      "  0%|          | 0/12 [00:00<?, ?it/s]\u001b[A\n",
      " 33%|███▎      | 4/12 [00:00<00:00, 36.94it/s]\u001b[A"
     ]
    },
    {
     "name": "stdout",
     "output_type": "stream",
     "text": [
      "69: [D loss: 0.201180]  [A loss: 0.326303]\n",
      "Epoch 70\n"
     ]
    },
    {
     "name": "stderr",
     "output_type": "stream",
     "text": [
      "\n",
      " 58%|█████▊    | 7/12 [00:00<00:00, 32.97it/s]\u001b[A\n",
      " 83%|████████▎ | 10/12 [00:00<00:00, 30.39it/s]\u001b[A\n",
      "100%|██████████| 12/12 [00:00<00:00, 30.35it/s]\u001b[A\n",
      "  0%|          | 0/12 [00:00<?, ?it/s]\u001b[A\n",
      " 42%|████▏     | 5/12 [00:00<00:00, 46.39it/s]\u001b[A"
     ]
    },
    {
     "name": "stdout",
     "output_type": "stream",
     "text": [
      "70: [D loss: 0.187124]  [A loss: 0.316334]\n",
      "Epoch 71\n"
     ]
    },
    {
     "name": "stderr",
     "output_type": "stream",
     "text": [
      "\n",
      " 75%|███████▌  | 9/12 [00:00<00:00, 44.22it/s]\u001b[A\n",
      "100%|██████████| 12/12 [00:00<00:00, 36.03it/s]\u001b[A\n",
      "  0%|          | 0/12 [00:00<?, ?it/s]\u001b[A\n",
      " 42%|████▏     | 5/12 [00:00<00:00, 37.96it/s]\u001b[A"
     ]
    },
    {
     "name": "stdout",
     "output_type": "stream",
     "text": [
      "71: [D loss: 0.186105]  [A loss: 0.303798]\n",
      "Epoch 72\n"
     ]
    },
    {
     "name": "stderr",
     "output_type": "stream",
     "text": [
      "\n",
      " 75%|███████▌  | 9/12 [00:00<00:00, 36.29it/s]\u001b[A\n",
      "100%|██████████| 12/12 [00:00<00:00, 34.61it/s]\u001b[A\n",
      "  0%|          | 0/12 [00:00<?, ?it/s]\u001b[A\n",
      " 25%|██▌       | 3/12 [00:00<00:00, 23.74it/s]\u001b[A"
     ]
    },
    {
     "name": "stdout",
     "output_type": "stream",
     "text": [
      "72: [D loss: 0.200674]  [A loss: 0.273514]\n",
      "Epoch 73\n"
     ]
    },
    {
     "name": "stderr",
     "output_type": "stream",
     "text": [
      "\n",
      " 50%|█████     | 6/12 [00:00<00:00, 25.00it/s]\u001b[A\n",
      " 83%|████████▎ | 10/12 [00:00<00:00, 27.38it/s]\u001b[A\n",
      "100%|██████████| 12/12 [00:00<00:00, 29.90it/s]\u001b[A\n",
      "  0%|          | 0/12 [00:00<?, ?it/s]\u001b[A\n",
      " 33%|███▎      | 4/12 [00:00<00:00, 39.18it/s]\u001b[A"
     ]
    },
    {
     "name": "stdout",
     "output_type": "stream",
     "text": [
      "73: [D loss: 0.198200]  [A loss: 0.303956]\n",
      "Epoch 74\n"
     ]
    },
    {
     "name": "stderr",
     "output_type": "stream",
     "text": [
      "\n",
      " 83%|████████▎ | 10/12 [00:00<00:00, 42.55it/s]\u001b[A\n",
      "100%|██████████| 12/12 [00:00<00:00, 42.34it/s]\u001b[A\n",
      "  0%|          | 0/12 [00:00<?, ?it/s]\u001b[A\n",
      " 33%|███▎      | 4/12 [00:00<00:00, 35.72it/s]\u001b[A"
     ]
    },
    {
     "name": "stdout",
     "output_type": "stream",
     "text": [
      "74: [D loss: 0.206386]  [A loss: 0.360867]\n",
      "Epoch 75\n"
     ]
    },
    {
     "name": "stderr",
     "output_type": "stream",
     "text": [
      "\n",
      " 83%|████████▎ | 10/12 [00:00<00:00, 39.53it/s]\u001b[A\n",
      "100%|██████████| 12/12 [00:00<00:00, 38.37it/s]\u001b[A\n",
      "  0%|          | 0/12 [00:00<?, ?it/s]\u001b[A\n",
      " 33%|███▎      | 4/12 [00:00<00:00, 33.76it/s]\u001b[A"
     ]
    },
    {
     "name": "stdout",
     "output_type": "stream",
     "text": [
      "75: [D loss: 0.215421]  [A loss: 0.320040]\n",
      "Epoch 76\n"
     ]
    },
    {
     "name": "stderr",
     "output_type": "stream",
     "text": [
      "\n",
      " 75%|███████▌  | 9/12 [00:00<00:00, 35.87it/s]\u001b[A\n",
      "100%|██████████| 12/12 [00:00<00:00, 37.30it/s]\u001b[A\n",
      "  0%|          | 0/12 [00:00<?, ?it/s]\u001b[A\n",
      " 42%|████▏     | 5/12 [00:00<00:00, 47.93it/s]\u001b[A"
     ]
    },
    {
     "name": "stdout",
     "output_type": "stream",
     "text": [
      "76: [D loss: 0.195993]  [A loss: 0.311699]\n",
      "Epoch 77\n"
     ]
    },
    {
     "name": "stderr",
     "output_type": "stream",
     "text": [
      "\n",
      " 92%|█████████▏| 11/12 [00:00<00:00, 49.36it/s]\u001b[A\n",
      "100%|██████████| 12/12 [00:00<00:00, 41.79it/s]\u001b[A\n",
      "  0%|          | 0/12 [00:00<?, ?it/s]\u001b[A\n",
      " 42%|████▏     | 5/12 [00:00<00:00, 39.52it/s]\u001b[A"
     ]
    },
    {
     "name": "stdout",
     "output_type": "stream",
     "text": [
      "77: [D loss: 0.199315]  [A loss: 0.285036]\n",
      "Epoch 78\n"
     ]
    },
    {
     "name": "stderr",
     "output_type": "stream",
     "text": [
      "\n",
      " 75%|███████▌  | 9/12 [00:00<00:00, 39.05it/s]\u001b[A\n",
      "100%|██████████| 12/12 [00:00<00:00, 35.53it/s]\u001b[A\n",
      "  0%|          | 0/12 [00:00<?, ?it/s]\u001b[A\n",
      " 50%|█████     | 6/12 [00:00<00:00, 54.16it/s]\u001b[A"
     ]
    },
    {
     "name": "stdout",
     "output_type": "stream",
     "text": [
      "78: [D loss: 0.204392]  [A loss: 0.324729]\n",
      "Epoch 79\n"
     ]
    },
    {
     "name": "stderr",
     "output_type": "stream",
     "text": [
      "\n",
      " 92%|█████████▏| 11/12 [00:00<00:00, 50.53it/s]\u001b[A\n",
      "100%|██████████| 12/12 [00:00<00:00, 46.87it/s]\u001b[A\n",
      "  0%|          | 0/12 [00:00<?, ?it/s]\u001b[A\n",
      " 33%|███▎      | 4/12 [00:00<00:00, 39.85it/s]\u001b[A"
     ]
    },
    {
     "name": "stdout",
     "output_type": "stream",
     "text": [
      "79: [D loss: 0.199604]  [A loss: 0.332906]\n",
      "Epoch 80\n"
     ]
    },
    {
     "name": "stderr",
     "output_type": "stream",
     "text": [
      "\n",
      " 75%|███████▌  | 9/12 [00:00<00:00, 41.36it/s]\u001b[A\n",
      "100%|██████████| 12/12 [00:00<00:00, 39.21it/s]\u001b[A\n",
      "  0%|          | 0/12 [00:00<?, ?it/s]\u001b[A\n",
      " 33%|███▎      | 4/12 [00:00<00:00, 39.04it/s]\u001b[A"
     ]
    },
    {
     "name": "stdout",
     "output_type": "stream",
     "text": [
      "80: [D loss: 0.191036]  [A loss: 0.420568]\n",
      "Epoch 81\n"
     ]
    },
    {
     "name": "stderr",
     "output_type": "stream",
     "text": [
      "\n",
      " 67%|██████▋   | 8/12 [00:00<00:00, 37.40it/s]\u001b[A\n",
      "100%|██████████| 12/12 [00:00<00:00, 36.24it/s]\u001b[A\n",
      "  0%|          | 0/12 [00:00<?, ?it/s]\u001b[A\n",
      " 33%|███▎      | 4/12 [00:00<00:00, 39.57it/s]\u001b[A"
     ]
    },
    {
     "name": "stdout",
     "output_type": "stream",
     "text": [
      "81: [D loss: 0.192954]  [A loss: 0.317734]\n",
      "Epoch 82\n"
     ]
    },
    {
     "name": "stderr",
     "output_type": "stream",
     "text": [
      "\n",
      " 58%|█████▊    | 7/12 [00:00<00:00, 32.90it/s]\u001b[A\n",
      "100%|██████████| 12/12 [00:00<00:00, 34.86it/s]\u001b[A\n",
      "  0%|          | 0/12 [00:00<?, ?it/s]\u001b[A\n",
      " 50%|█████     | 6/12 [00:00<00:00, 49.79it/s]\u001b[A"
     ]
    },
    {
     "name": "stdout",
     "output_type": "stream",
     "text": [
      "82: [D loss: 0.201916]  [A loss: 0.289691]\n",
      "Epoch 83\n"
     ]
    },
    {
     "name": "stderr",
     "output_type": "stream",
     "text": [
      "\n",
      " 92%|█████████▏| 11/12 [00:00<00:00, 48.47it/s]\u001b[A\n",
      "100%|██████████| 12/12 [00:00<00:00, 40.29it/s]\u001b[A\n",
      "  0%|          | 0/12 [00:00<?, ?it/s]\u001b[A\n",
      " 33%|███▎      | 4/12 [00:00<00:00, 36.93it/s]\u001b[A"
     ]
    },
    {
     "name": "stdout",
     "output_type": "stream",
     "text": [
      "83: [D loss: 0.163813]  [A loss: 0.301285]\n",
      "Epoch 84\n"
     ]
    },
    {
     "name": "stderr",
     "output_type": "stream",
     "text": [
      "\n",
      " 58%|█████▊    | 7/12 [00:00<00:00, 33.29it/s]\u001b[A\n",
      " 83%|████████▎ | 10/12 [00:00<00:00, 32.09it/s]\u001b[A\n",
      "100%|██████████| 12/12 [00:00<00:00, 29.41it/s]\u001b[A\n",
      "  0%|          | 0/12 [00:00<?, ?it/s]\u001b[A\n",
      " 33%|███▎      | 4/12 [00:00<00:00, 35.95it/s]\u001b[A"
     ]
    },
    {
     "name": "stdout",
     "output_type": "stream",
     "text": [
      "84: [D loss: 0.201546]  [A loss: 0.324027]\n",
      "Epoch 85\n"
     ]
    },
    {
     "name": "stderr",
     "output_type": "stream",
     "text": [
      "\n",
      " 67%|██████▋   | 8/12 [00:00<00:00, 37.03it/s]\u001b[A\n",
      " 92%|█████████▏| 11/12 [00:00<00:00, 34.54it/s]\u001b[A\n",
      "100%|██████████| 12/12 [00:00<00:00, 33.78it/s]\u001b[A\n",
      "  0%|          | 0/12 [00:00<?, ?it/s]\u001b[A\n",
      " 42%|████▏     | 5/12 [00:00<00:00, 40.52it/s]\u001b[A"
     ]
    },
    {
     "name": "stdout",
     "output_type": "stream",
     "text": [
      "85: [D loss: 0.200589]  [A loss: 0.363359]\n",
      "Epoch 86\n"
     ]
    },
    {
     "name": "stderr",
     "output_type": "stream",
     "text": [
      "\n",
      " 75%|███████▌  | 9/12 [00:00<00:00, 38.77it/s]\u001b[A\n",
      "100%|██████████| 12/12 [00:00<00:00, 37.71it/s]\u001b[A\n",
      "  0%|          | 0/12 [00:00<?, ?it/s]\u001b[A\n",
      " 33%|███▎      | 4/12 [00:00<00:00, 39.95it/s]\u001b[A"
     ]
    },
    {
     "name": "stdout",
     "output_type": "stream",
     "text": [
      "86: [D loss: 0.199300]  [A loss: 0.340599]\n",
      "Epoch 87\n"
     ]
    },
    {
     "name": "stderr",
     "output_type": "stream",
     "text": [
      "\n",
      " 67%|██████▋   | 8/12 [00:00<00:00, 37.76it/s]\u001b[A\n",
      " 92%|█████████▏| 11/12 [00:00<00:00, 34.22it/s]\u001b[A\n",
      "100%|██████████| 12/12 [00:00<00:00, 32.92it/s]\u001b[A\n",
      "  0%|          | 0/12 [00:00<?, ?it/s]\u001b[A\n",
      " 42%|████▏     | 5/12 [00:00<00:00, 45.05it/s]\u001b[A"
     ]
    },
    {
     "name": "stdout",
     "output_type": "stream",
     "text": [
      "87: [D loss: 0.205174]  [A loss: 0.300353]\n",
      "Epoch 88\n"
     ]
    },
    {
     "name": "stderr",
     "output_type": "stream",
     "text": [
      "\n",
      " 75%|███████▌  | 9/12 [00:00<00:00, 40.80it/s]\u001b[A\n",
      "100%|██████████| 12/12 [00:00<00:00, 36.44it/s]\u001b[A\n",
      "  0%|          | 0/12 [00:00<?, ?it/s]\u001b[A\n",
      " 50%|█████     | 6/12 [00:00<00:00, 54.79it/s]\u001b[A"
     ]
    },
    {
     "name": "stdout",
     "output_type": "stream",
     "text": [
      "88: [D loss: 0.176776]  [A loss: 0.266182]\n",
      "Epoch 89\n"
     ]
    },
    {
     "name": "stderr",
     "output_type": "stream",
     "text": [
      "\n",
      " 92%|█████████▏| 11/12 [00:00<00:00, 52.78it/s]\u001b[A\n",
      "100%|██████████| 12/12 [00:00<00:00, 43.08it/s]\u001b[A\n",
      "  0%|          | 0/12 [00:00<?, ?it/s]\u001b[A\n",
      " 25%|██▌       | 3/12 [00:00<00:00, 25.87it/s]\u001b[A"
     ]
    },
    {
     "name": "stdout",
     "output_type": "stream",
     "text": [
      "89: [D loss: 0.197575]  [A loss: 0.357521]\n",
      "Epoch 90\n"
     ]
    },
    {
     "name": "stderr",
     "output_type": "stream",
     "text": [
      "\n",
      " 58%|█████▊    | 7/12 [00:00<00:00, 28.77it/s]\u001b[A\n",
      " 92%|█████████▏| 11/12 [00:00<00:00, 31.16it/s]\u001b[A\n",
      "100%|██████████| 12/12 [00:00<00:00, 31.00it/s]\u001b[A\n",
      "  0%|          | 0/12 [00:00<?, ?it/s]\u001b[A\n",
      " 33%|███▎      | 4/12 [00:00<00:00, 33.71it/s]\u001b[A"
     ]
    },
    {
     "name": "stdout",
     "output_type": "stream",
     "text": [
      "90: [D loss: 0.201906]  [A loss: 0.323324]\n",
      "Epoch 91\n"
     ]
    },
    {
     "name": "stderr",
     "output_type": "stream",
     "text": [
      "\n",
      " 75%|███████▌  | 9/12 [00:00<00:00, 37.25it/s]\u001b[A\n",
      "100%|██████████| 12/12 [00:00<00:00, 33.85it/s]\u001b[A\n",
      "  0%|          | 0/12 [00:00<?, ?it/s]\u001b[A\n",
      " 42%|████▏     | 5/12 [00:00<00:00, 44.90it/s]\u001b[A"
     ]
    },
    {
     "name": "stdout",
     "output_type": "stream",
     "text": [
      "91: [D loss: 0.196224]  [A loss: 0.312698]\n",
      "Epoch 92\n"
     ]
    },
    {
     "name": "stderr",
     "output_type": "stream",
     "text": [
      "\n",
      " 83%|████████▎ | 10/12 [00:00<00:00, 44.84it/s]\u001b[A\n",
      "100%|██████████| 12/12 [00:00<00:00, 42.16it/s]\u001b[A\n",
      "  0%|          | 0/12 [00:00<?, ?it/s]\u001b[A\n",
      " 42%|████▏     | 5/12 [00:00<00:00, 42.19it/s]\u001b[A"
     ]
    },
    {
     "name": "stdout",
     "output_type": "stream",
     "text": [
      "92: [D loss: 0.183066]  [A loss: 0.325693]\n",
      "Epoch 93\n"
     ]
    },
    {
     "name": "stderr",
     "output_type": "stream",
     "text": [
      "\n",
      " 75%|███████▌  | 9/12 [00:00<00:00, 40.08it/s]\u001b[A\n",
      "100%|██████████| 12/12 [00:00<00:00, 36.70it/s]\u001b[A\n",
      "  0%|          | 0/12 [00:00<?, ?it/s]\u001b[A\n",
      " 42%|████▏     | 5/12 [00:00<00:00, 46.67it/s]\u001b[A"
     ]
    },
    {
     "name": "stdout",
     "output_type": "stream",
     "text": [
      "93: [D loss: 0.185603]  [A loss: 0.316167]\n",
      "Epoch 94\n"
     ]
    },
    {
     "name": "stderr",
     "output_type": "stream",
     "text": [
      "\n",
      " 92%|█████████▏| 11/12 [00:00<00:00, 49.29it/s]\u001b[A\n",
      "100%|██████████| 12/12 [00:00<00:00, 49.29it/s]\u001b[A\n",
      "  0%|          | 0/12 [00:00<?, ?it/s]\u001b[A\n",
      " 42%|████▏     | 5/12 [00:00<00:00, 46.06it/s]\u001b[A"
     ]
    },
    {
     "name": "stdout",
     "output_type": "stream",
     "text": [
      "94: [D loss: 0.194741]  [A loss: 0.318585]\n",
      "Epoch 95\n"
     ]
    },
    {
     "name": "stderr",
     "output_type": "stream",
     "text": [
      "\n",
      " 92%|█████████▏| 11/12 [00:00<00:00, 49.15it/s]\u001b[A\n",
      "100%|██████████| 12/12 [00:00<00:00, 47.00it/s]\u001b[A\n",
      "  0%|          | 0/12 [00:00<?, ?it/s]\u001b[A\n",
      " 33%|███▎      | 4/12 [00:00<00:00, 34.08it/s]\u001b[A"
     ]
    },
    {
     "name": "stdout",
     "output_type": "stream",
     "text": [
      "95: [D loss: 0.196937]  [A loss: 0.324758]\n",
      "Epoch 96\n"
     ]
    },
    {
     "name": "stderr",
     "output_type": "stream",
     "text": [
      "\n",
      " 67%|██████▋   | 8/12 [00:00<00:00, 33.89it/s]\u001b[A\n",
      "100%|██████████| 12/12 [00:00<00:00, 35.06it/s]\u001b[A\n",
      "  0%|          | 0/12 [00:00<?, ?it/s]\u001b[A\n",
      " 33%|███▎      | 4/12 [00:00<00:00, 36.71it/s]\u001b[A"
     ]
    },
    {
     "name": "stdout",
     "output_type": "stream",
     "text": [
      "96: [D loss: 0.183937]  [A loss: 0.392214]\n",
      "Epoch 97\n"
     ]
    },
    {
     "name": "stderr",
     "output_type": "stream",
     "text": [
      "\n",
      " 58%|█████▊    | 7/12 [00:00<00:00, 33.25it/s]\u001b[A\n",
      " 92%|█████████▏| 11/12 [00:00<00:00, 33.97it/s]\u001b[A\n",
      "100%|██████████| 12/12 [00:00<00:00, 32.47it/s]\u001b[A\n",
      "  0%|          | 0/12 [00:00<?, ?it/s]\u001b[A\n",
      " 42%|████▏     | 5/12 [00:00<00:00, 45.34it/s]\u001b[A"
     ]
    },
    {
     "name": "stdout",
     "output_type": "stream",
     "text": [
      "97: [D loss: 0.208576]  [A loss: 0.317145]\n",
      "Epoch 98\n"
     ]
    },
    {
     "name": "stderr",
     "output_type": "stream",
     "text": [
      "\n",
      " 83%|████████▎ | 10/12 [00:00<00:00, 45.44it/s]\u001b[A\n",
      "100%|██████████| 12/12 [00:00<00:00, 41.67it/s]\u001b[A\n",
      "  0%|          | 0/12 [00:00<?, ?it/s]\u001b[A\n",
      " 25%|██▌       | 3/12 [00:00<00:00, 23.67it/s]\u001b[A"
     ]
    },
    {
     "name": "stdout",
     "output_type": "stream",
     "text": [
      "98: [D loss: 0.203793]  [A loss: 0.314490]\n",
      "Epoch 99\n"
     ]
    },
    {
     "name": "stderr",
     "output_type": "stream",
     "text": [
      "\n",
      " 67%|██████▋   | 8/12 [00:00<00:00, 28.02it/s]\u001b[A\n",
      " 92%|█████████▏| 11/12 [00:00<00:00, 28.31it/s]\u001b[A\n",
      "100%|██████████| 12/12 [00:00<00:00, 30.46it/s]\u001b[A\n",
      "  0%|          | 0/12 [00:00<?, ?it/s]\u001b[A\n",
      " 25%|██▌       | 3/12 [00:00<00:00, 29.42it/s]\u001b[A"
     ]
    },
    {
     "name": "stdout",
     "output_type": "stream",
     "text": [
      "99: [D loss: 0.189242]  [A loss: 0.385868]\n",
      "Epoch 100\n"
     ]
    },
    {
     "name": "stderr",
     "output_type": "stream",
     "text": [
      "\n",
      " 58%|█████▊    | 7/12 [00:00<00:00, 31.53it/s]\u001b[A\n",
      " 92%|█████████▏| 11/12 [00:00<00:00, 32.89it/s]\u001b[A\n",
      "100%|██████████| 12/12 [00:00<00:00, 32.93it/s]\u001b[A"
     ]
    },
    {
     "name": "stdout",
     "output_type": "stream",
     "text": [
      "100: [D loss: 0.193990]  [A loss: 0.308442]\n"
     ]
    }
   ],
   "source": [
    "#training(400,128)\n",
    "training(100,12)"
   ]
  },
  {
   "cell_type": "code",
   "execution_count": 184,
   "metadata": {},
   "outputs": [
    {
     "data": {
      "text/plain": [
       "Text(0,0.5,'Loss')"
      ]
     },
     "execution_count": 184,
     "metadata": {},
     "output_type": "execute_result"
    },
    {
     "data": {
      "image/png": "[encoded data removed]",
      "text/plain": [
       "<Figure size 432x288 with 1 Axes>"
      ]
     },
     "metadata": {},
     "output_type": "display_data"
    }
   ],
   "source": [
    "# adversarial_loss_map = get_2D_array_values(adversarial_loss, 0)\n",
    "# discrimator_loss_map = get_2D_array_values(discrimator_loss, 0)\n",
    "\n",
    "ax = pd.DataFrame(\n",
    "    {\n",
    "        'Adversarial Loss': adversarial_loss,\n",
    "        'Discriminative Loss': discrimator_loss,\n",
    "    }\n",
    ").plot(title='Training loss', logy=True)\n",
    "ax.set_xlabel(\"Training iterations\")\n",
    "ax.set_ylabel(\"Loss\")"
   ]
  },
  {
   "cell_type": "code",
   "execution_count": 185,
   "metadata": {},
   "outputs": [],
   "source": [
    "targets = test.close[7:]\n",
    "preds = gan.predict(X_test).squeeze()"
   ]
  },
  {
   "cell_type": "code",
   "execution_count": 186,
   "metadata": {},
   "outputs": [
    {
     "data": {
      "text/plain": [
       "0.40974441161510156"
      ]
     },
     "execution_count": 186,
     "metadata": {},
     "output_type": "execute_result"
    }
   ],
   "source": [
    "# Should look at other metrics as well (MSE, RMSE, Accuracy)\n",
    "metrics.mean_absolute_error(preds, y_test)"
   ]
  },
  {
   "cell_type": "code",
   "execution_count": 187,
   "metadata": {},
   "outputs": [
    {
     "data": {
      "image/png": "[encoded data removed]",
      "text/plain": [
       "<Figure size 1152x648 with 1 Axes>"
      ]
     },
     "metadata": {},
     "output_type": "display_data"
    }
   ],
   "source": [
    "preds = test.close.values[:-7] * (preds + 1)\n",
    "preds = pd.Series(index=targets.index, data=preds)\n",
    "\n",
    "line_plot(targets, preds, 'actual', 'prediction')"
   ]
  },
  {
   "cell_type": "code",
   "execution_count": 175,
   "metadata": {},
   "outputs": [
    {
     "data": {
      "image/png": "[encoded data removed]",
      "text/plain": [
       "<Figure size 1152x648 with 1 Axes>"
      ]
     },
     "metadata": {},
     "output_type": "display_data"
    }
   ],
   "source": [
    "n_points = 15\n",
    "\n",
    "line_plot(targets[-n_points:], preds[-n_points:], 'actual', 'prediction')"
   ]
  },
  {
   "cell_type": "code",
   "execution_count": null,
   "metadata": {},
   "outputs": [],
   "source": []
  }
 ],
 "metadata": {
  "kernelspec": {
   "display_name": "Python 3",
   "language": "python",
   "name": "python3"
  },
  "language_info": {
   "codemirror_mode": {
    "name": "ipython",
    "version": 3
   },
   "file_extension": ".py",
   "mimetype": "text/x-python",
   "name": "python",
   "nbconvert_exporter": "python",
   "pygments_lexer": "ipython3",
   "version": "3.5.2"
  }
 },
 "nbformat": 4,
 "nbformat_minor": 2
}
