{
 "cells": [
  {
   "cell_type": "code",
   "execution_count": 1,
   "metadata": {},
   "outputs": [
    {
     "name": "stdout",
     "output_type": "stream",
     "text": [
      "Requirement already satisfied: tqdm in /usr/local/lib/python3.5/dist-packages\n",
      "\u001b[33mYou are using pip version 9.0.3, however version 19.1.1 is available.\n",
      "You should consider upgrading via the 'pip install --upgrade pip' command.\u001b[0m\n"
     ]
    }
   ],
   "source": [
    "import sys\n",
    "!{sys.executable} -m pip install tqdm"
   ]
  },
  {
   "cell_type": "code",
   "execution_count": 2,
   "metadata": {},
   "outputs": [
    {
     "name": "stderr",
     "output_type": "stream",
     "text": [
      "/usr/local/lib/python3.5/dist-packages/sklearn/cross_validation.py:41: DeprecationWarning: This module was deprecated in version 0.18 in favor of the model_selection module into which all the refactored classes and functions are moved. Also note that the interface of the new CV iterators are different from that of this module. This module will be removed in 0.20.\n",
      "  \"This module will be removed in 0.20.\", DeprecationWarning)\n",
      "/usr/local/lib/python3.5/dist-packages/h5py/__init__.py:36: FutureWarning: Conversion of the second argument of issubdtype from `float` to `np.floating` is deprecated. In future, it will be treated as `np.float64 == np.dtype(float).type`.\n",
      "  from ._conv import register_converters as _register_converters\n",
      "Using TensorFlow backend.\n"
     ]
    }
   ],
   "source": [
    "import math\n",
    "import matplotlib.pyplot as plt\n",
    "import pandas as pd\n",
    "import numpy as np\n",
    "from mpl_toolkits.mplot3d import Axes3D\n",
    "from tqdm import tqdm, tqdm_notebook\n",
    "from scipy.stats import ks_2samp\n",
    "%matplotlib inline\n",
    "\n",
    "from sklearn import metrics\n",
    "from sklearn import preprocessing, cross_validation\n",
    "from sklearn.model_selection import train_test_split\n",
    "from sklearn.preprocessing import MinMaxScaler\n",
    "\n",
    "import keras\n",
    "from keras.layers import Dense, Dropout, Input, LSTM, Activation\n",
    "from keras.models import Model,Sequential\n",
    "from keras.layers.advanced_activations import LeakyReLU\n",
    "from keras.optimizers import Adam, RMSprop"
   ]
  },
  {
   "cell_type": "code",
   "execution_count": 3,
   "metadata": {},
   "outputs": [
    {
     "data": {
      "text/html": [
       "<div>\n",
       "<style scoped>\n",
       "    .dataframe tbody tr th:only-of-type {\n",
       "        vertical-align: middle;\n",
       "    }\n",
       "\n",
       "    .dataframe tbody tr th {\n",
       "        vertical-align: top;\n",
       "    }\n",
       "\n",
       "    .dataframe thead th {\n",
       "        text-align: right;\n",
       "    }\n",
       "</style>\n",
       "<table border=\"1\" class=\"dataframe\">\n",
       "  <thead>\n",
       "    <tr style=\"text-align: right;\">\n",
       "      <th></th>\n",
       "      <th>Date</th>\n",
       "      <th>Symbol</th>\n",
       "      <th>Open</th>\n",
       "      <th>High</th>\n",
       "      <th>Low</th>\n",
       "      <th>Close</th>\n",
       "      <th>Volume BTC</th>\n",
       "      <th>Volume USD</th>\n",
       "      <th>Popularity</th>\n",
       "      <th>Popularity_Normalized</th>\n",
       "    </tr>\n",
       "  </thead>\n",
       "  <tbody>\n",
       "    <tr>\n",
       "      <th>0</th>\n",
       "      <td>2019-05-11</td>\n",
       "      <td>BTCUSD</td>\n",
       "      <td>6337.9</td>\n",
       "      <td>6984.8</td>\n",
       "      <td>6337.9</td>\n",
       "      <td>6793.5</td>\n",
       "      <td>9855.87</td>\n",
       "      <td>66133073.75</td>\n",
       "      <td>12.0</td>\n",
       "      <td>1200.0</td>\n",
       "    </tr>\n",
       "    <tr>\n",
       "      <th>1</th>\n",
       "      <td>2019-05-10</td>\n",
       "      <td>BTCUSD</td>\n",
       "      <td>6151.4</td>\n",
       "      <td>6430.0</td>\n",
       "      <td>6110.1</td>\n",
       "      <td>6337.9</td>\n",
       "      <td>9872.86</td>\n",
       "      <td>62166515.28</td>\n",
       "      <td>12.0</td>\n",
       "      <td>1200.0</td>\n",
       "    </tr>\n",
       "    <tr>\n",
       "      <th>2</th>\n",
       "      <td>2019-05-09</td>\n",
       "      <td>BTCUSD</td>\n",
       "      <td>5939.6</td>\n",
       "      <td>6174.0</td>\n",
       "      <td>5933.2</td>\n",
       "      <td>6151.4</td>\n",
       "      <td>7405.18</td>\n",
       "      <td>44816872.39</td>\n",
       "      <td>12.0</td>\n",
       "      <td>1200.0</td>\n",
       "    </tr>\n",
       "    <tr>\n",
       "      <th>3</th>\n",
       "      <td>2019-05-08</td>\n",
       "      <td>BTCUSD</td>\n",
       "      <td>5744.0</td>\n",
       "      <td>5983.2</td>\n",
       "      <td>5660.0</td>\n",
       "      <td>5939.6</td>\n",
       "      <td>6007.11</td>\n",
       "      <td>35184697.52</td>\n",
       "      <td>12.0</td>\n",
       "      <td>1200.0</td>\n",
       "    </tr>\n",
       "    <tr>\n",
       "      <th>4</th>\n",
       "      <td>2019-05-07</td>\n",
       "      <td>BTCUSD</td>\n",
       "      <td>5687.4</td>\n",
       "      <td>5955.8</td>\n",
       "      <td>5687.4</td>\n",
       "      <td>5906.7</td>\n",
       "      <td>3668.12</td>\n",
       "      <td>21496575.65</td>\n",
       "      <td>12.0</td>\n",
       "      <td>1200.0</td>\n",
       "    </tr>\n",
       "  </tbody>\n",
       "</table>\n",
       "</div>"
      ],
      "text/plain": [
       "         Date  Symbol    Open    High     Low   Close  Volume BTC  \\\n",
       "0  2019-05-11  BTCUSD  6337.9  6984.8  6337.9  6793.5     9855.87   \n",
       "1  2019-05-10  BTCUSD  6151.4  6430.0  6110.1  6337.9     9872.86   \n",
       "2  2019-05-09  BTCUSD  5939.6  6174.0  5933.2  6151.4     7405.18   \n",
       "3  2019-05-08  BTCUSD  5744.0  5983.2  5660.0  5939.6     6007.11   \n",
       "4  2019-05-07  BTCUSD  5687.4  5955.8  5687.4  5906.7     3668.12   \n",
       "\n",
       "    Volume USD  Popularity  Popularity_Normalized  \n",
       "0  66133073.75        12.0                 1200.0  \n",
       "1  62166515.28        12.0                 1200.0  \n",
       "2  44816872.39        12.0                 1200.0  \n",
       "3  35184697.52        12.0                 1200.0  \n",
       "4  21496575.65        12.0                 1200.0  "
      ]
     },
     "execution_count": 3,
     "metadata": {},
     "output_type": "execute_result"
    }
   ],
   "source": [
    "# Read Datasets \n",
    "research_data_raw = pd.read_csv('Datasets/bitcoin_research_data_v2.csv')\n",
    "\n",
    "# Drop unnecessary columns\n",
    "research_data = research_data_raw.drop('Unnamed: 0', axis=1)\n",
    "research_data.head()"
   ]
  },
  {
   "cell_type": "code",
   "execution_count": 4,
   "metadata": {},
   "outputs": [
    {
     "data": {
      "text/html": [
       "<div>\n",
       "<style scoped>\n",
       "    .dataframe tbody tr th:only-of-type {\n",
       "        vertical-align: middle;\n",
       "    }\n",
       "\n",
       "    .dataframe tbody tr th {\n",
       "        vertical-align: top;\n",
       "    }\n",
       "\n",
       "    .dataframe thead th {\n",
       "        text-align: right;\n",
       "    }\n",
       "</style>\n",
       "<table border=\"1\" class=\"dataframe\">\n",
       "  <thead>\n",
       "    <tr style=\"text-align: right;\">\n",
       "      <th></th>\n",
       "      <th>Open</th>\n",
       "      <th>High</th>\n",
       "      <th>Low</th>\n",
       "      <th>Close</th>\n",
       "      <th>Popularity</th>\n",
       "    </tr>\n",
       "    <tr>\n",
       "      <th>Date</th>\n",
       "      <th></th>\n",
       "      <th></th>\n",
       "      <th></th>\n",
       "      <th></th>\n",
       "      <th></th>\n",
       "    </tr>\n",
       "  </thead>\n",
       "  <tbody>\n",
       "    <tr>\n",
       "      <th>2014-05-18</th>\n",
       "      <td>453.83</td>\n",
       "      <td>453.83</td>\n",
       "      <td>445.56</td>\n",
       "      <td>445.56</td>\n",
       "      <td>2.0</td>\n",
       "    </tr>\n",
       "    <tr>\n",
       "      <th>2014-05-19</th>\n",
       "      <td>445.56</td>\n",
       "      <td>445.56</td>\n",
       "      <td>445.56</td>\n",
       "      <td>445.56</td>\n",
       "      <td>2.0</td>\n",
       "    </tr>\n",
       "    <tr>\n",
       "      <th>2014-05-20</th>\n",
       "      <td>445.56</td>\n",
       "      <td>498.84</td>\n",
       "      <td>445.56</td>\n",
       "      <td>493.43</td>\n",
       "      <td>2.0</td>\n",
       "    </tr>\n",
       "    <tr>\n",
       "      <th>2014-05-21</th>\n",
       "      <td>493.43</td>\n",
       "      <td>497.67</td>\n",
       "      <td>490.85</td>\n",
       "      <td>494.77</td>\n",
       "      <td>2.0</td>\n",
       "    </tr>\n",
       "    <tr>\n",
       "      <th>2014-05-22</th>\n",
       "      <td>494.77</td>\n",
       "      <td>530.00</td>\n",
       "      <td>494.77</td>\n",
       "      <td>530.00</td>\n",
       "      <td>2.0</td>\n",
       "    </tr>\n",
       "  </tbody>\n",
       "</table>\n",
       "</div>"
      ],
      "text/plain": [
       "              Open    High     Low   Close  Popularity\n",
       "Date                                                  \n",
       "2014-05-18  453.83  453.83  445.56  445.56         2.0\n",
       "2014-05-19  445.56  445.56  445.56  445.56         2.0\n",
       "2014-05-20  445.56  498.84  445.56  493.43         2.0\n",
       "2014-05-21  493.43  497.67  490.85  494.77         2.0\n",
       "2014-05-22  494.77  530.00  494.77  530.00         2.0"
      ]
     },
     "execution_count": 4,
     "metadata": {},
     "output_type": "execute_result"
    }
   ],
   "source": [
    "# Set Date column as index and drop other columns that won't be used by the model\n",
    "research_data = research_data.set_index('Date')\n",
    "research_data.index = pd.to_datetime(research_data.index)\n",
    "research_data = research_data.sort_index()\n",
    "research_data = research_data.drop(['Symbol','Popularity_Normalized','Volume BTC','Volume USD'], 1)\n",
    "research_data.head()"
   ]
  },
  {
   "cell_type": "code",
   "execution_count": 5,
   "metadata": {},
   "outputs": [
    {
     "name": "stdout",
     "output_type": "stream",
     "text": [
      "1808\n"
     ]
    }
   ],
   "source": [
    "# Get lenght of dataset\n",
    "print(len(research_data))"
   ]
  },
  {
   "cell_type": "code",
   "execution_count": 6,
   "metadata": {},
   "outputs": [
    {
     "data": {
      "text/plain": [
       "Open          0\n",
       "High          0\n",
       "Low           0\n",
       "Close         0\n",
       "Popularity    0\n",
       "dtype: int64"
      ]
     },
     "execution_count": 6,
     "metadata": {},
     "output_type": "execute_result"
    }
   ],
   "source": [
    "# Check for null values\n",
    "research_data.isna().sum()"
   ]
  },
  {
   "cell_type": "code",
   "execution_count": 7,
   "metadata": {},
   "outputs": [],
   "source": [
    "# Define constants\n",
    "TIME_STEPS = 10\n",
    "TEST_SIZE = 0.1\n",
    "EPOCHS = 600\n",
    "BATCH_SIZE_NN = 4\n",
    "GAN_TRAIN_BATCH_SIZE = 12\n",
    "FEATURES = len(research_data.columns)"
   ]
  },
  {
   "cell_type": "code",
   "execution_count": 8,
   "metadata": {},
   "outputs": [],
   "source": [
    "# Define train_test split function\n",
    "def train_test_split(df, test_size):\n",
    "    splitting_point = len(df) - int(test_size * len(df))\n",
    "    train_data = df.iloc[:splitting_point]\n",
    "    test_data = df.iloc[splitting_point:]\n",
    "    return train_data, test_data"
   ]
  },
  {
   "cell_type": "code",
   "execution_count": 9,
   "metadata": {},
   "outputs": [],
   "source": [
    "# Define plot function\n",
    "def line_plot(line1, line2, label1=None, label2=None, title=''):\n",
    "    fig, ax = plt.subplots(1, figsize=(16, 9))\n",
    "    ax.plot(line1, label=label1, linewidth=2)\n",
    "    ax.plot(line2, label=label2, linewidth=2)\n",
    "    ax.set_ylabel('price [USD]', fontsize=14)\n",
    "    ax.set_title(title, fontsize=18)\n",
    "    ax.legend(loc='best', fontsize=18)"
   ]
  },
  {
   "cell_type": "code",
   "execution_count": 10,
   "metadata": {},
   "outputs": [
    {
     "data": {
      "image/png": "[encoded data removed]",
      "text/plain": [
       "<Figure size 1152x648 with 1 Axes>"
      ]
     },
     "metadata": {},
     "output_type": "display_data"
    }
   ],
   "source": [
    "# Plot train and test sets\n",
    "train, test = train_test_split(research_data, TEST_SIZE)\n",
    "line_plot(train.Close, test.Close, 'training set', 'test set', 'BTC')"
   ]
  },
  {
   "cell_type": "code",
   "execution_count": 11,
   "metadata": {},
   "outputs": [],
   "source": [
    "# Define function to normalize data with respect to first entry in the sequence. The first instance in the \n",
    "# sequence will always be zero (df / df.iloc[0] - 1) and all other instances will be relative to that first\n",
    "# instance, representing the rate of change in the sequence\n",
    "def get_rate_change_zero_base(df):\n",
    "    return df / df.iloc[0] - 1"
   ]
  },
  {
   "cell_type": "code",
   "execution_count": 12,
   "metadata": {},
   "outputs": [],
   "source": [
    "# Define function to convert dataframe into numpy array of sequences\n",
    "def build_sequence(df, window_size):\n",
    "    sequence_data = []\n",
    "    for idx in range(len(df) - window_size):\n",
    "        temp_data = df[idx: (idx + window_size)].copy()\n",
    "        temp_data = get_rate_change_zero_base(temp_data)\n",
    "        sequence_data.append(temp_data.values)\n",
    "    return np.array(sequence_data)"
   ]
  },
  {
   "cell_type": "code",
   "execution_count": 13,
   "metadata": {},
   "outputs": [],
   "source": [
    "# Define function to get training and test sets for LSTM\n",
    "def get_data(df, window_size, test_size):\n",
    "    # train test split\n",
    "    train_data, test_data = train_test_split(df, test_size)\n",
    "    \n",
    "    # extract sequence from data\n",
    "    X_train = build_sequence(train_data, window_size)\n",
    "    X_test = build_sequence(test_data, window_size)\n",
    "    \n",
    "    # extract targets\n",
    "    y_train = train_data.Close[window_size:].values / train_data.Close[:-window_size].values - 1\n",
    "    y_test = test_data.Close[window_size:].values / test_data.Close[:-window_size].values - 1\n",
    "    \n",
    "    return train_data, test_data, X_train, X_test, y_train, y_test"
   ]
  },
  {
   "cell_type": "code",
   "execution_count": 14,
   "metadata": {},
   "outputs": [
    {
     "name": "stdout",
     "output_type": "stream",
     "text": [
      "X_train shape: (1618, 10, 5)\n",
      "y_train shape: (1618,)\n",
      "X_test shape: (170, 10, 5)\n",
      "y_test shape: (170,)\n"
     ]
    }
   ],
   "source": [
    "# Get the proper sets for GAN\n",
    "train, test, X_train, X_test, y_train, y_test = get_data(research_data, TIME_STEPS, TEST_SIZE)\n",
    "\n",
    "# Print set shapes\n",
    "print('X_train shape: ' + str(X_train.shape))\n",
    "print('y_train shape: ' + str(y_train.shape))\n",
    "print('X_test shape: ' + str(X_test.shape))\n",
    "print('y_test shape: ' + str(y_test.shape))"
   ]
  },
  {
   "cell_type": "code",
   "execution_count": 15,
   "metadata": {},
   "outputs": [
    {
     "name": "stdout",
     "output_type": "stream",
     "text": [
      "_________________________________________________________________\n",
      "Layer (type)                 Output Shape              Param #   \n",
      "=================================================================\n",
      "lstm_1 (LSTM)                (4, 10, 16)               1408      \n",
      "_________________________________________________________________\n",
      "leaky_re_lu_1 (LeakyReLU)    (4, 10, 16)               0         \n",
      "_________________________________________________________________\n",
      "lstm_2 (LSTM)                (4, 10, 32)               6272      \n",
      "_________________________________________________________________\n",
      "leaky_re_lu_2 (LeakyReLU)    (4, 10, 32)               0         \n",
      "_________________________________________________________________\n",
      "dropout_1 (Dropout)          (4, 10, 32)               0         \n",
      "_________________________________________________________________\n",
      "lstm_3 (LSTM)                (4, 64)                   24832     \n",
      "_________________________________________________________________\n",
      "dense_1 (Dense)              (4, 5)                    325       \n",
      "_________________________________________________________________\n",
      "activation_1 (Activation)    (4, 5)                    0         \n",
      "=================================================================\n",
      "Total params: 32,837\n",
      "Trainable params: 32,837\n",
      "Non-trainable params: 0\n",
      "_________________________________________________________________\n"
     ]
    }
   ],
   "source": [
    "# Create Generator Model and get its summary\n",
    "def create_generator():\n",
    "    optimizer = RMSprop(lr=0.005, clipvalue=1.)\n",
    "    \n",
    "    generator = Sequential()\n",
    "    generator.add(LSTM(16, batch_input_shape=(BATCH_SIZE_NN, TIME_STEPS, FEATURES), return_sequences=True))\n",
    "    generator.add(LeakyReLU(0.05))\n",
    "    generator.add(LSTM(32,return_sequences=True))\n",
    "    generator.add(LeakyReLU(0.05))\n",
    "    generator.add(Dropout(0.5))\n",
    "    generator.add(LSTM(64,return_sequences=False))\n",
    "    generator.add(Dense(FEATURES))\n",
    "    generator.add(Activation('tanh'))\n",
    "    \n",
    "    generator.compile(loss='mean_squared_error', optimizer=optimizer)\n",
    "\n",
    "    return generator\n",
    "\n",
    "generator = create_generator()\n",
    "generator.summary()"
   ]
  },
  {
   "cell_type": "code",
   "execution_count": 16,
   "metadata": {},
   "outputs": [
    {
     "name": "stdout",
     "output_type": "stream",
     "text": [
      "_________________________________________________________________\n",
      "Layer (type)                 Output Shape              Param #   \n",
      "=================================================================\n",
      "dense_2 (Dense)              (8, 10, 32)               192       \n",
      "_________________________________________________________________\n",
      "leaky_re_lu_3 (LeakyReLU)    (8, 10, 32)               0         \n",
      "_________________________________________________________________\n",
      "dense_3 (Dense)              (8, 10, 64)               2112      \n",
      "_________________________________________________________________\n",
      "leaky_re_lu_4 (LeakyReLU)    (8, 10, 64)               0         \n",
      "_________________________________________________________________\n",
      "dense_4 (Dense)              (8, 10, 128)              8320      \n",
      "_________________________________________________________________\n",
      "leaky_re_lu_5 (LeakyReLU)    (8, 10, 128)              0         \n",
      "_________________________________________________________________\n",
      "dense_5 (Dense)              (8, 10, 220)              28380     \n",
      "_________________________________________________________________\n",
      "activation_2 (Activation)    (8, 10, 220)              0         \n",
      "_________________________________________________________________\n",
      "dense_6 (Dense)              (8, 10, 1)                221       \n",
      "=================================================================\n",
      "Total params: 39,225\n",
      "Trainable params: 39,225\n",
      "Non-trainable params: 0\n",
      "_________________________________________________________________\n"
     ]
    }
   ],
   "source": [
    "# Create Discriminator Model and get its summary\n",
    "def create_discriminator():\n",
    "    optimizer = RMSprop(lr=0.0002, decay=6e-8)\n",
    "\n",
    "    discriminator=Sequential()\n",
    "\n",
    "    discriminator.add(Dense(units=32, batch_input_shape=(8, TIME_STEPS, FEATURES)))\n",
    "    discriminator.add(LeakyReLU(0.01))\n",
    "    discriminator.add(Dense(units=64))\n",
    "    discriminator.add(LeakyReLU(0.01))\n",
    "    discriminator.add(Dense(units=128))\n",
    "    discriminator.add(LeakyReLU(0.01))\n",
    "    discriminator.add(Dense(units=220,activation='linear'))\n",
    "    discriminator.add(Activation('relu'))\n",
    "    discriminator.add(Dense(1,activation='linear'))\n",
    "    \n",
    "    discriminator.compile(loss='mean_squared_error', optimizer=optimizer)\n",
    "    \n",
    "    return discriminator\n",
    "\n",
    "discriminator = create_discriminator()\n",
    "discriminator.summary()"
   ]
  },
  {
   "cell_type": "code",
   "execution_count": 17,
   "metadata": {},
   "outputs": [
    {
     "name": "stdout",
     "output_type": "stream",
     "text": [
      "_________________________________________________________________\n",
      "Layer (type)                 Output Shape              Param #   \n",
      "=================================================================\n",
      "input_1 (InputLayer)         (None, 10, 5)             0         \n",
      "_________________________________________________________________\n",
      "sequential_1 (Sequential)    multiple                  32837     \n",
      "_________________________________________________________________\n",
      "sequential_2 (Sequential)    multiple                  39225     \n",
      "=================================================================\n",
      "Total params: 72,062\n",
      "Trainable params: 32,837\n",
      "Non-trainable params: 39,225\n",
      "_________________________________________________________________\n"
     ]
    }
   ],
   "source": [
    "# Create GAN with Generator and Discriminator and get its summary\n",
    "def create_gan(discriminator, generator):\n",
    "    optimizer = RMSprop(lr=0.0001, decay=3e-8) \n",
    "    discriminator.trainable=False\n",
    "    \n",
    "    gan_input = Input(shape=(TIME_STEPS, FEATURES))\n",
    "    generated_data = generator(gan_input)\n",
    "    gan_output= discriminator(generated_data)\n",
    "    gan = Model(inputs=gan_input, outputs=gan_output)\n",
    "    \n",
    "    gan.compile(loss='mean_squared_error', optimizer=optimizer)\n",
    "    \n",
    "    return gan\n",
    "\n",
    "gan = create_gan(discriminator, generator)\n",
    "gan.summary()"
   ]
  },
  {
   "cell_type": "code",
   "execution_count": 18,
   "metadata": {},
   "outputs": [],
   "source": [
    "# Define values to be tracked during GAN training\n",
    "gan_loss = []\n",
    "discrimator_loss = []"
   ]
  },
  {
   "cell_type": "code",
   "execution_count": 19,
   "metadata": {},
   "outputs": [],
   "source": [
    "# Define GAN training function\n",
    "def train_gan(epochs, batch_size):\n",
    "    # Make sure global variables are accessible within the training function\n",
    "    global adversarial_loss\n",
    "    global discrimator_loss\n",
    "    \n",
    "    global generator\n",
    "    global discriminator\n",
    "    global gan\n",
    "\n",
    "    global X_train\n",
    "    global X_test\n",
    "    global y_train\n",
    "    global y_test\n",
    "    \n",
    "    for e in range(1, epochs+1):\n",
    "        print(\"Epoch %d\" %e)\n",
    "        for i in tqdm(range(batch_size)):\n",
    "            # Generate noise data - with same shape as the traning data\n",
    "            noise = np.float32(np.random.normal(size=[BATCH_SIZE_NN, TIME_STEPS, FEATURES]))\n",
    "            \n",
    "            # Generate fake prices from noise data\n",
    "            generated_prices = generator.predict(noise) # Shape = (4,5)\n",
    "            \n",
    "            # Get a random set of real prices\n",
    "            prices_batch = X_train[np.random.randint(low=0, high=X_train.shape[0], size=BATCH_SIZE_NN)]\n",
    "            \n",
    "            # Get generated prices to have the same shape as the training data\n",
    "            generated_prices_dim = generated_prices.shape[0]\n",
    "            gen_prices = np.zeros((generated_prices_dim, TIME_STEPS, FEATURES)) # Shape = (4,10,5)\n",
    "            for j in range(generated_prices_dim):\n",
    "                gen_prices[j] = generated_prices[j]\n",
    "            \n",
    "            # Construct batch with real and fake data \n",
    "            X_dis = np.concatenate([prices_batch, gen_prices])\n",
    "            X_dis_dim = X_dis.shape[0]\n",
    "            \n",
    "            # Construct labels batch for generated and real data\n",
    "            y_dis = np.zeros(shape=(X_dis_dim, TIME_STEPS, 1))\n",
    "            y_dis[:int((X_dis_dim/2))] = 0.9 # label 0.9 is assigned to real data\n",
    "            \n",
    "            # Pre train discriminator on fake and real data before starting the gan. \n",
    "            discriminator.trainable = True\n",
    "            d_loss = discriminator.train_on_batch(X_dis, y_dis)\n",
    "            \n",
    "            # Tricking the noised input of the Generator as real data\n",
    "            noise = np.float32(np.random.normal(size=[BATCH_SIZE_NN, TIME_STEPS, FEATURES]))\n",
    "            y_gen = np.ones(BATCH_SIZE_NN)\n",
    "            \n",
    "            # During the training of gan, the weights of discriminator should be fixed. \n",
    "            discriminator.trainable=False\n",
    "            \n",
    "            # Training the GAN by alternating the training of the Discriminator \n",
    "            # and training the chained GAN model with Discriminator’s weights freezed.\n",
    "            g_loss = gan.train_on_batch(noise, y_gen)\n",
    "            \n",
    "            discrimator_loss.append(d_loss)\n",
    "            gan_loss.append(g_loss)\n",
    "            \n",
    "            if i == (batch_size-1):\n",
    "                log_mesg = \"%d: [Discriminator loss: %f]\" % (e, d_loss)\n",
    "                log_mesg = \"%s  [GAN loss: %f]\" % (log_mesg, g_loss)\n",
    "                print(log_mesg)\n",
    "                "
   ]
  },
  {
   "cell_type": "code",
   "execution_count": 20,
   "metadata": {},
   "outputs": [
    {
     "name": "stderr",
     "output_type": "stream",
     "text": [
      "\r",
      "  0%|          | 0/12 [00:00<?, ?it/s]"
     ]
    },
    {
     "name": "stdout",
     "output_type": "stream",
     "text": [
      "Epoch 1\n",
      "WARNING:tensorflow:Variable *= will be deprecated. Use variable.assign_mul if you want assignment to the variable value or 'x = x * y' if you want a new python Tensor object.\n"
     ]
    },
    {
     "name": "stderr",
     "output_type": "stream",
     "text": [
      "100%|██████████| 12/12 [00:05<00:00,  2.24it/s]\n",
      " 25%|██▌       | 3/12 [00:00<00:00, 24.69it/s]"
     ]
    },
    {
     "name": "stdout",
     "output_type": "stream",
     "text": [
      "1: [Discriminator loss: 0.292032]  [GAN loss: 0.808456]\n",
      "Epoch 2\n"
     ]
    },
    {
     "name": "stderr",
     "output_type": "stream",
     "text": [
      "100%|██████████| 12/12 [00:00<00:00, 24.80it/s]\n",
      " 25%|██▌       | 3/12 [00:00<00:00, 25.51it/s]"
     ]
    },
    {
     "name": "stdout",
     "output_type": "stream",
     "text": [
      "2: [Discriminator loss: 0.247395]  [GAN loss: 0.632643]\n",
      "Epoch 3\n"
     ]
    },
    {
     "name": "stderr",
     "output_type": "stream",
     "text": [
      "100%|██████████| 12/12 [00:00<00:00, 29.89it/s]\n",
      " 25%|██▌       | 3/12 [00:00<00:00, 25.56it/s]"
     ]
    },
    {
     "name": "stdout",
     "output_type": "stream",
     "text": [
      "3: [Discriminator loss: 0.153732]  [GAN loss: 0.496667]\n",
      "Epoch 4\n"
     ]
    },
    {
     "name": "stderr",
     "output_type": "stream",
     "text": [
      "100%|██████████| 12/12 [00:00<00:00, 25.46it/s]\n",
      " 25%|██▌       | 3/12 [00:00<00:00, 26.27it/s]"
     ]
    },
    {
     "name": "stdout",
     "output_type": "stream",
     "text": [
      "4: [Discriminator loss: 0.148385]  [GAN loss: 0.426834]\n",
      "Epoch 5\n"
     ]
    },
    {
     "name": "stderr",
     "output_type": "stream",
     "text": [
      "100%|██████████| 12/12 [00:00<00:00, 28.92it/s]\n",
      " 25%|██▌       | 3/12 [00:00<00:00, 27.39it/s]"
     ]
    },
    {
     "name": "stdout",
     "output_type": "stream",
     "text": [
      "5: [Discriminator loss: 0.131480]  [GAN loss: 0.446365]\n",
      "Epoch 6\n"
     ]
    },
    {
     "name": "stderr",
     "output_type": "stream",
     "text": [
      "100%|██████████| 12/12 [00:00<00:00, 26.13it/s]\n",
      " 25%|██▌       | 3/12 [00:00<00:00, 27.92it/s]"
     ]
    },
    {
     "name": "stdout",
     "output_type": "stream",
     "text": [
      "6: [Discriminator loss: 0.138569]  [GAN loss: 0.440480]\n",
      "Epoch 7\n"
     ]
    },
    {
     "name": "stderr",
     "output_type": "stream",
     "text": [
      "100%|██████████| 12/12 [00:00<00:00, 30.75it/s]\n",
      " 33%|███▎      | 4/12 [00:00<00:00, 34.47it/s]"
     ]
    },
    {
     "name": "stdout",
     "output_type": "stream",
     "text": [
      "7: [Discriminator loss: 0.114159]  [GAN loss: 0.418935]\n",
      "Epoch 8\n"
     ]
    },
    {
     "name": "stderr",
     "output_type": "stream",
     "text": [
      "100%|██████████| 12/12 [00:00<00:00, 30.97it/s]\n",
      " 33%|███▎      | 4/12 [00:00<00:00, 37.68it/s]"
     ]
    },
    {
     "name": "stdout",
     "output_type": "stream",
     "text": [
      "8: [Discriminator loss: 0.106668]  [GAN loss: 0.444625]\n",
      "Epoch 9\n"
     ]
    },
    {
     "name": "stderr",
     "output_type": "stream",
     "text": [
      "100%|██████████| 12/12 [00:00<00:00, 39.46it/s]\n",
      " 33%|███▎      | 4/12 [00:00<00:00, 37.02it/s]"
     ]
    },
    {
     "name": "stdout",
     "output_type": "stream",
     "text": [
      "9: [Discriminator loss: 0.116984]  [GAN loss: 0.525439]\n",
      "Epoch 10\n"
     ]
    },
    {
     "name": "stderr",
     "output_type": "stream",
     "text": [
      "100%|██████████| 12/12 [00:00<00:00, 35.99it/s]\n",
      " 33%|███▎      | 4/12 [00:00<00:00, 37.92it/s]"
     ]
    },
    {
     "name": "stdout",
     "output_type": "stream",
     "text": [
      "10: [Discriminator loss: 0.128179]  [GAN loss: 0.456131]\n",
      "Epoch 11\n"
     ]
    },
    {
     "name": "stderr",
     "output_type": "stream",
     "text": [
      "100%|██████████| 12/12 [00:00<00:00, 36.89it/s]\n",
      " 33%|███▎      | 4/12 [00:00<00:00, 33.42it/s]"
     ]
    },
    {
     "name": "stdout",
     "output_type": "stream",
     "text": [
      "11: [Discriminator loss: 0.151978]  [GAN loss: 0.402718]\n",
      "Epoch 12\n"
     ]
    },
    {
     "name": "stderr",
     "output_type": "stream",
     "text": [
      "100%|██████████| 12/12 [00:00<00:00, 34.99it/s]\n",
      " 33%|███▎      | 4/12 [00:00<00:00, 37.17it/s]"
     ]
    },
    {
     "name": "stdout",
     "output_type": "stream",
     "text": [
      "12: [Discriminator loss: 0.189620]  [GAN loss: 0.399599]\n",
      "Epoch 13\n"
     ]
    },
    {
     "name": "stderr",
     "output_type": "stream",
     "text": [
      "100%|██████████| 12/12 [00:00<00:00, 35.90it/s]\n",
      " 33%|███▎      | 4/12 [00:00<00:00, 38.39it/s]"
     ]
    },
    {
     "name": "stdout",
     "output_type": "stream",
     "text": [
      "13: [Discriminator loss: 0.167386]  [GAN loss: 0.465535]\n",
      "Epoch 14\n"
     ]
    },
    {
     "name": "stderr",
     "output_type": "stream",
     "text": [
      "100%|██████████| 12/12 [00:00<00:00, 36.95it/s]\n",
      " 33%|███▎      | 4/12 [00:00<00:00, 35.74it/s]"
     ]
    },
    {
     "name": "stdout",
     "output_type": "stream",
     "text": [
      "14: [Discriminator loss: 0.178290]  [GAN loss: 0.417103]\n",
      "Epoch 15\n"
     ]
    },
    {
     "name": "stderr",
     "output_type": "stream",
     "text": [
      "100%|██████████| 12/12 [00:00<00:00, 36.09it/s]\n",
      " 33%|███▎      | 4/12 [00:00<00:00, 37.53it/s]"
     ]
    },
    {
     "name": "stdout",
     "output_type": "stream",
     "text": [
      "15: [Discriminator loss: 0.123445]  [GAN loss: 0.500614]\n",
      "Epoch 16\n"
     ]
    },
    {
     "name": "stderr",
     "output_type": "stream",
     "text": [
      "100%|██████████| 12/12 [00:00<00:00, 36.12it/s]\n",
      " 33%|███▎      | 4/12 [00:00<00:00, 37.20it/s]"
     ]
    },
    {
     "name": "stdout",
     "output_type": "stream",
     "text": [
      "16: [Discriminator loss: 0.130189]  [GAN loss: 0.503270]\n",
      "Epoch 17\n"
     ]
    },
    {
     "name": "stderr",
     "output_type": "stream",
     "text": [
      "100%|██████████| 12/12 [00:00<00:00, 35.18it/s]\n",
      " 25%|██▌       | 3/12 [00:00<00:00, 29.69it/s]"
     ]
    },
    {
     "name": "stdout",
     "output_type": "stream",
     "text": [
      "17: [Discriminator loss: 0.116671]  [GAN loss: 0.470355]\n",
      "Epoch 18\n"
     ]
    },
    {
     "name": "stderr",
     "output_type": "stream",
     "text": [
      "100%|██████████| 12/12 [00:00<00:00, 32.91it/s]\n",
      " 33%|███▎      | 4/12 [00:00<00:00, 34.63it/s]"
     ]
    },
    {
     "name": "stdout",
     "output_type": "stream",
     "text": [
      "18: [Discriminator loss: 0.131308]  [GAN loss: 0.437801]\n",
      "Epoch 19\n"
     ]
    },
    {
     "name": "stderr",
     "output_type": "stream",
     "text": [
      "100%|██████████| 12/12 [00:00<00:00, 31.11it/s]\n",
      " 33%|███▎      | 4/12 [00:00<00:00, 35.08it/s]"
     ]
    },
    {
     "name": "stdout",
     "output_type": "stream",
     "text": [
      "19: [Discriminator loss: 0.162023]  [GAN loss: 0.424987]\n",
      "Epoch 20\n"
     ]
    },
    {
     "name": "stderr",
     "output_type": "stream",
     "text": [
      "100%|██████████| 12/12 [00:00<00:00, 31.09it/s]\n",
      " 25%|██▌       | 3/12 [00:00<00:00, 25.03it/s]"
     ]
    },
    {
     "name": "stdout",
     "output_type": "stream",
     "text": [
      "20: [Discriminator loss: 0.156996]  [GAN loss: 0.443325]\n",
      "Epoch 21\n"
     ]
    },
    {
     "name": "stderr",
     "output_type": "stream",
     "text": [
      "100%|██████████| 12/12 [00:00<00:00, 27.17it/s]\n",
      " 33%|███▎      | 4/12 [00:00<00:00, 34.76it/s]"
     ]
    },
    {
     "name": "stdout",
     "output_type": "stream",
     "text": [
      "21: [Discriminator loss: 0.159720]  [GAN loss: 0.461568]\n",
      "Epoch 22\n"
     ]
    },
    {
     "name": "stderr",
     "output_type": "stream",
     "text": [
      "100%|██████████| 12/12 [00:00<00:00, 35.88it/s]\n",
      " 33%|███▎      | 4/12 [00:00<00:00, 35.82it/s]"
     ]
    },
    {
     "name": "stdout",
     "output_type": "stream",
     "text": [
      "22: [Discriminator loss: 0.139437]  [GAN loss: 0.397141]\n",
      "Epoch 23\n"
     ]
    },
    {
     "name": "stderr",
     "output_type": "stream",
     "text": [
      "100%|██████████| 12/12 [00:00<00:00, 36.99it/s]\n",
      " 33%|███▎      | 4/12 [00:00<00:00, 37.62it/s]"
     ]
    },
    {
     "name": "stdout",
     "output_type": "stream",
     "text": [
      "23: [Discriminator loss: 0.123466]  [GAN loss: 0.540906]\n",
      "Epoch 24\n"
     ]
    },
    {
     "name": "stderr",
     "output_type": "stream",
     "text": [
      "100%|██████████| 12/12 [00:00<00:00, 35.86it/s]\n",
      " 25%|██▌       | 3/12 [00:00<00:00, 24.45it/s]"
     ]
    },
    {
     "name": "stdout",
     "output_type": "stream",
     "text": [
      "24: [Discriminator loss: 0.118289]  [GAN loss: 0.455452]\n",
      "Epoch 25\n"
     ]
    },
    {
     "name": "stderr",
     "output_type": "stream",
     "text": [
      "100%|██████████| 12/12 [00:00<00:00, 32.92it/s]\n",
      " 33%|███▎      | 4/12 [00:00<00:00, 39.41it/s]"
     ]
    },
    {
     "name": "stdout",
     "output_type": "stream",
     "text": [
      "25: [Discriminator loss: 0.165265]  [GAN loss: 0.435802]\n",
      "Epoch 26\n"
     ]
    },
    {
     "name": "stderr",
     "output_type": "stream",
     "text": [
      "100%|██████████| 12/12 [00:00<00:00, 39.85it/s]\n",
      " 33%|███▎      | 4/12 [00:00<00:00, 37.24it/s]"
     ]
    },
    {
     "name": "stdout",
     "output_type": "stream",
     "text": [
      "26: [Discriminator loss: 0.155233]  [GAN loss: 0.398275]\n",
      "Epoch 27\n"
     ]
    },
    {
     "name": "stderr",
     "output_type": "stream",
     "text": [
      "100%|██████████| 12/12 [00:00<00:00, 37.00it/s]\n",
      " 33%|███▎      | 4/12 [00:00<00:00, 38.05it/s]"
     ]
    },
    {
     "name": "stdout",
     "output_type": "stream",
     "text": [
      "27: [Discriminator loss: 0.132488]  [GAN loss: 0.494305]\n",
      "Epoch 28\n"
     ]
    },
    {
     "name": "stderr",
     "output_type": "stream",
     "text": [
      "100%|██████████| 12/12 [00:00<00:00, 37.44it/s]\n",
      " 33%|███▎      | 4/12 [00:00<00:00, 36.57it/s]"
     ]
    },
    {
     "name": "stdout",
     "output_type": "stream",
     "text": [
      "28: [Discriminator loss: 0.108175]  [GAN loss: 0.482989]\n",
      "Epoch 29\n"
     ]
    },
    {
     "name": "stderr",
     "output_type": "stream",
     "text": [
      "100%|██████████| 12/12 [00:00<00:00, 37.35it/s]\n",
      " 25%|██▌       | 3/12 [00:00<00:00, 25.67it/s]"
     ]
    },
    {
     "name": "stdout",
     "output_type": "stream",
     "text": [
      "29: [Discriminator loss: 0.125936]  [GAN loss: 0.506395]\n",
      "Epoch 30\n"
     ]
    },
    {
     "name": "stderr",
     "output_type": "stream",
     "text": [
      "100%|██████████| 12/12 [00:00<00:00, 32.85it/s]\n",
      " 42%|████▏     | 5/12 [00:00<00:00, 43.39it/s]"
     ]
    },
    {
     "name": "stdout",
     "output_type": "stream",
     "text": [
      "30: [Discriminator loss: 0.173050]  [GAN loss: 0.446528]\n",
      "Epoch 31\n"
     ]
    },
    {
     "name": "stderr",
     "output_type": "stream",
     "text": [
      "100%|██████████| 12/12 [00:00<00:00, 39.10it/s]\n",
      " 33%|███▎      | 4/12 [00:00<00:00, 38.62it/s]"
     ]
    },
    {
     "name": "stdout",
     "output_type": "stream",
     "text": [
      "31: [Discriminator loss: 0.136351]  [GAN loss: 0.505461]\n",
      "Epoch 32\n"
     ]
    },
    {
     "name": "stderr",
     "output_type": "stream",
     "text": [
      "100%|██████████| 12/12 [00:00<00:00, 37.41it/s]\n",
      " 33%|███▎      | 4/12 [00:00<00:00, 39.39it/s]"
     ]
    },
    {
     "name": "stdout",
     "output_type": "stream",
     "text": [
      "32: [Discriminator loss: 0.138966]  [GAN loss: 0.410233]\n",
      "Epoch 33\n"
     ]
    },
    {
     "name": "stderr",
     "output_type": "stream",
     "text": [
      "100%|██████████| 12/12 [00:00<00:00, 38.21it/s]\n",
      " 33%|███▎      | 4/12 [00:00<00:00, 37.33it/s]"
     ]
    },
    {
     "name": "stdout",
     "output_type": "stream",
     "text": [
      "33: [Discriminator loss: 0.167941]  [GAN loss: 0.511576]\n",
      "Epoch 34\n"
     ]
    },
    {
     "name": "stderr",
     "output_type": "stream",
     "text": [
      "100%|██████████| 12/12 [00:00<00:00, 37.45it/s]\n",
      " 33%|███▎      | 4/12 [00:00<00:00, 37.14it/s]"
     ]
    },
    {
     "name": "stdout",
     "output_type": "stream",
     "text": [
      "34: [Discriminator loss: 0.234293]  [GAN loss: 0.506449]\n",
      "Epoch 35\n"
     ]
    },
    {
     "name": "stderr",
     "output_type": "stream",
     "text": [
      "100%|██████████| 12/12 [00:00<00:00, 37.34it/s]\n",
      " 25%|██▌       | 3/12 [00:00<00:00, 27.59it/s]"
     ]
    },
    {
     "name": "stdout",
     "output_type": "stream",
     "text": [
      "35: [Discriminator loss: 0.120075]  [GAN loss: 0.441211]\n",
      "Epoch 36\n"
     ]
    },
    {
     "name": "stderr",
     "output_type": "stream",
     "text": [
      "100%|██████████| 12/12 [00:00<00:00, 33.48it/s]\n",
      " 33%|███▎      | 4/12 [00:00<00:00, 37.85it/s]"
     ]
    },
    {
     "name": "stdout",
     "output_type": "stream",
     "text": [
      "36: [Discriminator loss: 0.204553]  [GAN loss: 0.343590]\n",
      "Epoch 37\n"
     ]
    },
    {
     "name": "stderr",
     "output_type": "stream",
     "text": [
      "100%|██████████| 12/12 [00:00<00:00, 36.91it/s]\n",
      " 33%|███▎      | 4/12 [00:00<00:00, 36.28it/s]"
     ]
    },
    {
     "name": "stdout",
     "output_type": "stream",
     "text": [
      "37: [Discriminator loss: 0.146333]  [GAN loss: 0.390323]\n",
      "Epoch 38\n"
     ]
    },
    {
     "name": "stderr",
     "output_type": "stream",
     "text": [
      "100%|██████████| 12/12 [00:00<00:00, 37.44it/s]\n",
      " 33%|███▎      | 4/12 [00:00<00:00, 36.95it/s]"
     ]
    },
    {
     "name": "stdout",
     "output_type": "stream",
     "text": [
      "38: [Discriminator loss: 0.157710]  [GAN loss: 0.465794]\n",
      "Epoch 39\n"
     ]
    },
    {
     "name": "stderr",
     "output_type": "stream",
     "text": [
      "100%|██████████| 12/12 [00:00<00:00, 37.82it/s]\n",
      " 33%|███▎      | 4/12 [00:00<00:00, 36.05it/s]"
     ]
    },
    {
     "name": "stdout",
     "output_type": "stream",
     "text": [
      "39: [Discriminator loss: 0.129284]  [GAN loss: 0.344260]\n",
      "Epoch 40\n"
     ]
    },
    {
     "name": "stderr",
     "output_type": "stream",
     "text": [
      "100%|██████████| 12/12 [00:00<00:00, 36.62it/s]\n",
      " 33%|███▎      | 4/12 [00:00<00:00, 35.22it/s]"
     ]
    },
    {
     "name": "stdout",
     "output_type": "stream",
     "text": [
      "40: [Discriminator loss: 0.182890]  [GAN loss: 0.377874]\n",
      "Epoch 41\n"
     ]
    },
    {
     "name": "stderr",
     "output_type": "stream",
     "text": [
      "100%|██████████| 12/12 [00:00<00:00, 36.11it/s]\n",
      " 33%|███▎      | 4/12 [00:00<00:00, 37.17it/s]"
     ]
    },
    {
     "name": "stdout",
     "output_type": "stream",
     "text": [
      "41: [Discriminator loss: 0.159015]  [GAN loss: 0.426731]\n",
      "Epoch 42\n"
     ]
    },
    {
     "name": "stderr",
     "output_type": "stream",
     "text": [
      "100%|██████████| 12/12 [00:00<00:00, 37.82it/s]\n",
      " 33%|███▎      | 4/12 [00:00<00:00, 39.55it/s]"
     ]
    },
    {
     "name": "stdout",
     "output_type": "stream",
     "text": [
      "42: [Discriminator loss: 0.155285]  [GAN loss: 0.388467]\n",
      "Epoch 43\n"
     ]
    },
    {
     "name": "stderr",
     "output_type": "stream",
     "text": [
      "100%|██████████| 12/12 [00:00<00:00, 38.55it/s]\n",
      " 33%|███▎      | 4/12 [00:00<00:00, 36.69it/s]"
     ]
    },
    {
     "name": "stdout",
     "output_type": "stream",
     "text": [
      "43: [Discriminator loss: 0.175083]  [GAN loss: 0.377378]\n",
      "Epoch 44\n"
     ]
    },
    {
     "name": "stderr",
     "output_type": "stream",
     "text": [
      "100%|██████████| 12/12 [00:00<00:00, 37.58it/s]\n",
      " 33%|███▎      | 4/12 [00:00<00:00, 37.50it/s]"
     ]
    },
    {
     "name": "stdout",
     "output_type": "stream",
     "text": [
      "44: [Discriminator loss: 0.166371]  [GAN loss: 0.399677]\n",
      "Epoch 45\n"
     ]
    },
    {
     "name": "stderr",
     "output_type": "stream",
     "text": [
      "100%|██████████| 12/12 [00:00<00:00, 37.43it/s]\n",
      " 33%|███▎      | 4/12 [00:00<00:00, 36.63it/s]"
     ]
    },
    {
     "name": "stdout",
     "output_type": "stream",
     "text": [
      "45: [Discriminator loss: 0.188967]  [GAN loss: 0.456340]\n",
      "Epoch 46\n"
     ]
    },
    {
     "name": "stderr",
     "output_type": "stream",
     "text": [
      "100%|██████████| 12/12 [00:00<00:00, 37.52it/s]\n",
      " 33%|███▎      | 4/12 [00:00<00:00, 37.19it/s]"
     ]
    },
    {
     "name": "stdout",
     "output_type": "stream",
     "text": [
      "46: [Discriminator loss: 0.131017]  [GAN loss: 0.506208]\n",
      "Epoch 47\n"
     ]
    },
    {
     "name": "stderr",
     "output_type": "stream",
     "text": [
      "100%|██████████| 12/12 [00:00<00:00, 37.76it/s]\n",
      " 33%|███▎      | 4/12 [00:00<00:00, 38.38it/s]"
     ]
    },
    {
     "name": "stdout",
     "output_type": "stream",
     "text": [
      "47: [Discriminator loss: 0.128700]  [GAN loss: 0.505902]\n",
      "Epoch 48\n"
     ]
    },
    {
     "name": "stderr",
     "output_type": "stream",
     "text": [
      "100%|██████████| 12/12 [00:00<00:00, 38.12it/s]\n",
      " 33%|███▎      | 4/12 [00:00<00:00, 37.00it/s]"
     ]
    },
    {
     "name": "stdout",
     "output_type": "stream",
     "text": [
      "48: [Discriminator loss: 0.164734]  [GAN loss: 0.468510]\n",
      "Epoch 49\n"
     ]
    },
    {
     "name": "stderr",
     "output_type": "stream",
     "text": [
      "100%|██████████| 12/12 [00:00<00:00, 37.09it/s]\n",
      " 33%|███▎      | 4/12 [00:00<00:00, 38.09it/s]"
     ]
    },
    {
     "name": "stdout",
     "output_type": "stream",
     "text": [
      "49: [Discriminator loss: 0.142826]  [GAN loss: 0.365752]\n",
      "Epoch 50\n"
     ]
    },
    {
     "name": "stderr",
     "output_type": "stream",
     "text": [
      "100%|██████████| 12/12 [00:00<00:00, 38.22it/s]\n",
      " 33%|███▎      | 4/12 [00:00<00:00, 37.64it/s]"
     ]
    },
    {
     "name": "stdout",
     "output_type": "stream",
     "text": [
      "50: [Discriminator loss: 0.173674]  [GAN loss: 0.407796]\n",
      "Epoch 51\n"
     ]
    },
    {
     "name": "stderr",
     "output_type": "stream",
     "text": [
      "100%|██████████| 12/12 [00:00<00:00, 37.04it/s]\n",
      " 33%|███▎      | 4/12 [00:00<00:00, 35.15it/s]"
     ]
    },
    {
     "name": "stdout",
     "output_type": "stream",
     "text": [
      "51: [Discriminator loss: 0.156339]  [GAN loss: 0.374312]\n",
      "Epoch 52\n"
     ]
    },
    {
     "name": "stderr",
     "output_type": "stream",
     "text": [
      "100%|██████████| 12/12 [00:00<00:00, 36.31it/s]\n",
      " 33%|███▎      | 4/12 [00:00<00:00, 38.61it/s]"
     ]
    },
    {
     "name": "stdout",
     "output_type": "stream",
     "text": [
      "52: [Discriminator loss: 0.167349]  [GAN loss: 0.378695]\n",
      "Epoch 53\n"
     ]
    },
    {
     "name": "stderr",
     "output_type": "stream",
     "text": [
      "100%|██████████| 12/12 [00:00<00:00, 38.24it/s]\n",
      " 33%|███▎      | 4/12 [00:00<00:00, 39.00it/s]"
     ]
    },
    {
     "name": "stdout",
     "output_type": "stream",
     "text": [
      "53: [Discriminator loss: 0.149696]  [GAN loss: 0.456222]\n",
      "Epoch 54\n"
     ]
    },
    {
     "name": "stderr",
     "output_type": "stream",
     "text": [
      "100%|██████████| 12/12 [00:00<00:00, 37.99it/s]\n",
      " 33%|███▎      | 4/12 [00:00<00:00, 37.63it/s]"
     ]
    },
    {
     "name": "stdout",
     "output_type": "stream",
     "text": [
      "54: [Discriminator loss: 0.158586]  [GAN loss: 0.360131]\n",
      "Epoch 55\n"
     ]
    },
    {
     "name": "stderr",
     "output_type": "stream",
     "text": [
      "100%|██████████| 12/12 [00:00<00:00, 36.96it/s]\n",
      " 33%|███▎      | 4/12 [00:00<00:00, 36.78it/s]"
     ]
    },
    {
     "name": "stdout",
     "output_type": "stream",
     "text": [
      "55: [Discriminator loss: 0.145533]  [GAN loss: 0.376810]\n",
      "Epoch 56\n"
     ]
    },
    {
     "name": "stderr",
     "output_type": "stream",
     "text": [
      "100%|██████████| 12/12 [00:00<00:00, 37.11it/s]\n",
      " 33%|███▎      | 4/12 [00:00<00:00, 39.11it/s]"
     ]
    },
    {
     "name": "stdout",
     "output_type": "stream",
     "text": [
      "56: [Discriminator loss: 0.204817]  [GAN loss: 0.373581]\n",
      "Epoch 57\n"
     ]
    },
    {
     "name": "stderr",
     "output_type": "stream",
     "text": [
      "100%|██████████| 12/12 [00:00<00:00, 37.61it/s]\n",
      " 33%|███▎      | 4/12 [00:00<00:00, 36.40it/s]"
     ]
    },
    {
     "name": "stdout",
     "output_type": "stream",
     "text": [
      "57: [Discriminator loss: 0.138854]  [GAN loss: 0.421720]\n",
      "Epoch 58\n"
     ]
    },
    {
     "name": "stderr",
     "output_type": "stream",
     "text": [
      "100%|██████████| 12/12 [00:00<00:00, 36.80it/s]\n",
      " 33%|███▎      | 4/12 [00:00<00:00, 38.84it/s]"
     ]
    },
    {
     "name": "stdout",
     "output_type": "stream",
     "text": [
      "58: [Discriminator loss: 0.177061]  [GAN loss: 0.334723]\n",
      "Epoch 59\n"
     ]
    },
    {
     "name": "stderr",
     "output_type": "stream",
     "text": [
      "100%|██████████| 12/12 [00:00<00:00, 38.41it/s]\n",
      " 33%|███▎      | 4/12 [00:00<00:00, 38.39it/s]"
     ]
    },
    {
     "name": "stdout",
     "output_type": "stream",
     "text": [
      "59: [Discriminator loss: 0.163913]  [GAN loss: 0.296209]\n",
      "Epoch 60\n"
     ]
    },
    {
     "name": "stderr",
     "output_type": "stream",
     "text": [
      "100%|██████████| 12/12 [00:00<00:00, 37.97it/s]\n",
      " 33%|███▎      | 4/12 [00:00<00:00, 35.92it/s]"
     ]
    },
    {
     "name": "stdout",
     "output_type": "stream",
     "text": [
      "60: [Discriminator loss: 0.132664]  [GAN loss: 0.444251]\n",
      "Epoch 61\n"
     ]
    },
    {
     "name": "stderr",
     "output_type": "stream",
     "text": [
      "100%|██████████| 12/12 [00:00<00:00, 36.60it/s]\n",
      " 33%|███▎      | 4/12 [00:00<00:00, 38.93it/s]"
     ]
    },
    {
     "name": "stdout",
     "output_type": "stream",
     "text": [
      "61: [Discriminator loss: 0.152491]  [GAN loss: 0.443188]\n",
      "Epoch 62\n"
     ]
    },
    {
     "name": "stderr",
     "output_type": "stream",
     "text": [
      "100%|██████████| 12/12 [00:00<00:00, 38.85it/s]\n",
      " 33%|███▎      | 4/12 [00:00<00:00, 37.94it/s]"
     ]
    },
    {
     "name": "stdout",
     "output_type": "stream",
     "text": [
      "62: [Discriminator loss: 0.189068]  [GAN loss: 0.308957]\n",
      "Epoch 63\n"
     ]
    },
    {
     "name": "stderr",
     "output_type": "stream",
     "text": [
      "100%|██████████| 12/12 [00:00<00:00, 38.36it/s]\n",
      " 33%|███▎      | 4/12 [00:00<00:00, 34.91it/s]"
     ]
    },
    {
     "name": "stdout",
     "output_type": "stream",
     "text": [
      "63: [Discriminator loss: 0.195696]  [GAN loss: 0.347611]\n",
      "Epoch 64\n"
     ]
    },
    {
     "name": "stderr",
     "output_type": "stream",
     "text": [
      "100%|██████████| 12/12 [00:00<00:00, 36.55it/s]\n",
      " 33%|███▎      | 4/12 [00:00<00:00, 38.68it/s]"
     ]
    },
    {
     "name": "stdout",
     "output_type": "stream",
     "text": [
      "64: [Discriminator loss: 0.192204]  [GAN loss: 0.421757]\n",
      "Epoch 65\n"
     ]
    },
    {
     "name": "stderr",
     "output_type": "stream",
     "text": [
      "100%|██████████| 12/12 [00:00<00:00, 38.70it/s]\n",
      " 33%|███▎      | 4/12 [00:00<00:00, 38.69it/s]"
     ]
    },
    {
     "name": "stdout",
     "output_type": "stream",
     "text": [
      "65: [Discriminator loss: 0.217084]  [GAN loss: 0.432153]\n",
      "Epoch 66\n"
     ]
    },
    {
     "name": "stderr",
     "output_type": "stream",
     "text": [
      "100%|██████████| 12/12 [00:00<00:00, 37.41it/s]\n",
      " 33%|███▎      | 4/12 [00:00<00:00, 37.88it/s]"
     ]
    },
    {
     "name": "stdout",
     "output_type": "stream",
     "text": [
      "66: [Discriminator loss: 0.140653]  [GAN loss: 0.330568]\n",
      "Epoch 67\n"
     ]
    },
    {
     "name": "stderr",
     "output_type": "stream",
     "text": [
      "100%|██████████| 12/12 [00:00<00:00, 37.55it/s]\n",
      " 33%|███▎      | 4/12 [00:00<00:00, 36.91it/s]"
     ]
    },
    {
     "name": "stdout",
     "output_type": "stream",
     "text": [
      "67: [Discriminator loss: 0.149486]  [GAN loss: 0.427056]\n",
      "Epoch 68\n"
     ]
    },
    {
     "name": "stderr",
     "output_type": "stream",
     "text": [
      "100%|██████████| 12/12 [00:00<00:00, 37.48it/s]\n",
      " 33%|███▎      | 4/12 [00:00<00:00, 38.58it/s]"
     ]
    },
    {
     "name": "stdout",
     "output_type": "stream",
     "text": [
      "68: [Discriminator loss: 0.184315]  [GAN loss: 0.344958]\n",
      "Epoch 69\n"
     ]
    },
    {
     "name": "stderr",
     "output_type": "stream",
     "text": [
      "100%|██████████| 12/12 [00:00<00:00, 37.91it/s]\n",
      " 33%|███▎      | 4/12 [00:00<00:00, 38.69it/s]"
     ]
    },
    {
     "name": "stdout",
     "output_type": "stream",
     "text": [
      "69: [Discriminator loss: 0.151691]  [GAN loss: 0.362662]\n",
      "Epoch 70\n"
     ]
    },
    {
     "name": "stderr",
     "output_type": "stream",
     "text": [
      "100%|██████████| 12/12 [00:00<00:00, 38.32it/s]\n",
      " 33%|███▎      | 4/12 [00:00<00:00, 38.87it/s]"
     ]
    },
    {
     "name": "stdout",
     "output_type": "stream",
     "text": [
      "70: [Discriminator loss: 0.154452]  [GAN loss: 0.411566]\n",
      "Epoch 71\n"
     ]
    },
    {
     "name": "stderr",
     "output_type": "stream",
     "text": [
      "100%|██████████| 12/12 [00:00<00:00, 38.15it/s]\n",
      " 33%|███▎      | 4/12 [00:00<00:00, 38.00it/s]"
     ]
    },
    {
     "name": "stdout",
     "output_type": "stream",
     "text": [
      "71: [Discriminator loss: 0.142661]  [GAN loss: 0.414896]\n",
      "Epoch 72\n"
     ]
    },
    {
     "name": "stderr",
     "output_type": "stream",
     "text": [
      "100%|██████████| 12/12 [00:00<00:00, 38.08it/s]\n",
      " 33%|███▎      | 4/12 [00:00<00:00, 37.53it/s]"
     ]
    },
    {
     "name": "stdout",
     "output_type": "stream",
     "text": [
      "72: [Discriminator loss: 0.174841]  [GAN loss: 0.325141]\n",
      "Epoch 73\n"
     ]
    },
    {
     "name": "stderr",
     "output_type": "stream",
     "text": [
      "100%|██████████| 12/12 [00:00<00:00, 37.47it/s]\n",
      " 33%|███▎      | 4/12 [00:00<00:00, 38.63it/s]"
     ]
    },
    {
     "name": "stdout",
     "output_type": "stream",
     "text": [
      "73: [Discriminator loss: 0.184124]  [GAN loss: 0.452357]\n",
      "Epoch 74\n"
     ]
    },
    {
     "name": "stderr",
     "output_type": "stream",
     "text": [
      "100%|██████████| 12/12 [00:00<00:00, 38.02it/s]\n",
      " 33%|███▎      | 4/12 [00:00<00:00, 29.73it/s]"
     ]
    },
    {
     "name": "stdout",
     "output_type": "stream",
     "text": [
      "74: [Discriminator loss: 0.161967]  [GAN loss: 0.462149]\n",
      "Epoch 75\n"
     ]
    },
    {
     "name": "stderr",
     "output_type": "stream",
     "text": [
      "100%|██████████| 12/12 [00:00<00:00, 34.74it/s]\n",
      " 33%|███▎      | 4/12 [00:00<00:00, 37.74it/s]"
     ]
    },
    {
     "name": "stdout",
     "output_type": "stream",
     "text": [
      "75: [Discriminator loss: 0.156771]  [GAN loss: 0.400881]\n",
      "Epoch 76\n"
     ]
    },
    {
     "name": "stderr",
     "output_type": "stream",
     "text": [
      "100%|██████████| 12/12 [00:00<00:00, 36.31it/s]\n",
      " 33%|███▎      | 4/12 [00:00<00:00, 39.28it/s]"
     ]
    },
    {
     "name": "stdout",
     "output_type": "stream",
     "text": [
      "76: [Discriminator loss: 0.139475]  [GAN loss: 0.406160]\n",
      "Epoch 77\n"
     ]
    },
    {
     "name": "stderr",
     "output_type": "stream",
     "text": [
      "100%|██████████| 12/12 [00:00<00:00, 38.03it/s]\n",
      " 33%|███▎      | 4/12 [00:00<00:00, 39.36it/s]"
     ]
    },
    {
     "name": "stdout",
     "output_type": "stream",
     "text": [
      "77: [Discriminator loss: 0.124727]  [GAN loss: 0.459348]\n",
      "Epoch 78\n"
     ]
    },
    {
     "name": "stderr",
     "output_type": "stream",
     "text": [
      "100%|██████████| 12/12 [00:00<00:00, 38.55it/s]\n",
      " 33%|███▎      | 4/12 [00:00<00:00, 37.94it/s]"
     ]
    },
    {
     "name": "stdout",
     "output_type": "stream",
     "text": [
      "78: [Discriminator loss: 0.154095]  [GAN loss: 0.376995]\n",
      "Epoch 79\n"
     ]
    },
    {
     "name": "stderr",
     "output_type": "stream",
     "text": [
      "100%|██████████| 12/12 [00:00<00:00, 38.08it/s]\n",
      " 33%|███▎      | 4/12 [00:00<00:00, 37.79it/s]"
     ]
    },
    {
     "name": "stdout",
     "output_type": "stream",
     "text": [
      "79: [Discriminator loss: 0.176369]  [GAN loss: 0.305155]\n",
      "Epoch 80\n"
     ]
    },
    {
     "name": "stderr",
     "output_type": "stream",
     "text": [
      "100%|██████████| 12/12 [00:00<00:00, 37.71it/s]\n",
      " 33%|███▎      | 4/12 [00:00<00:00, 37.93it/s]"
     ]
    },
    {
     "name": "stdout",
     "output_type": "stream",
     "text": [
      "80: [Discriminator loss: 0.158079]  [GAN loss: 0.469900]\n",
      "Epoch 81\n"
     ]
    },
    {
     "name": "stderr",
     "output_type": "stream",
     "text": [
      "100%|██████████| 12/12 [00:00<00:00, 36.69it/s]\n",
      " 33%|███▎      | 4/12 [00:00<00:00, 37.05it/s]"
     ]
    },
    {
     "name": "stdout",
     "output_type": "stream",
     "text": [
      "81: [Discriminator loss: 0.159486]  [GAN loss: 0.396911]\n",
      "Epoch 82\n"
     ]
    },
    {
     "name": "stderr",
     "output_type": "stream",
     "text": [
      "100%|██████████| 12/12 [00:00<00:00, 37.14it/s]\n",
      " 33%|███▎      | 4/12 [00:00<00:00, 39.27it/s]"
     ]
    },
    {
     "name": "stdout",
     "output_type": "stream",
     "text": [
      "82: [Discriminator loss: 0.164363]  [GAN loss: 0.394111]\n",
      "Epoch 83\n"
     ]
    },
    {
     "name": "stderr",
     "output_type": "stream",
     "text": [
      "100%|██████████| 12/12 [00:00<00:00, 35.93it/s]\n",
      " 33%|███▎      | 4/12 [00:00<00:00, 37.50it/s]"
     ]
    },
    {
     "name": "stdout",
     "output_type": "stream",
     "text": [
      "83: [Discriminator loss: 0.206801]  [GAN loss: 0.374050]\n",
      "Epoch 84\n"
     ]
    },
    {
     "name": "stderr",
     "output_type": "stream",
     "text": [
      "100%|██████████| 12/12 [00:00<00:00, 37.72it/s]\n",
      " 33%|███▎      | 4/12 [00:00<00:00, 37.30it/s]"
     ]
    },
    {
     "name": "stdout",
     "output_type": "stream",
     "text": [
      "84: [Discriminator loss: 0.135792]  [GAN loss: 0.407492]\n",
      "Epoch 85\n"
     ]
    },
    {
     "name": "stderr",
     "output_type": "stream",
     "text": [
      "100%|██████████| 12/12 [00:00<00:00, 37.42it/s]\n",
      " 33%|███▎      | 4/12 [00:00<00:00, 37.49it/s]"
     ]
    },
    {
     "name": "stdout",
     "output_type": "stream",
     "text": [
      "85: [Discriminator loss: 0.168830]  [GAN loss: 0.338168]\n",
      "Epoch 86\n"
     ]
    },
    {
     "name": "stderr",
     "output_type": "stream",
     "text": [
      "100%|██████████| 12/12 [00:00<00:00, 37.33it/s]\n",
      " 33%|███▎      | 4/12 [00:00<00:00, 36.21it/s]"
     ]
    },
    {
     "name": "stdout",
     "output_type": "stream",
     "text": [
      "86: [Discriminator loss: 0.155086]  [GAN loss: 0.455280]\n",
      "Epoch 87\n"
     ]
    },
    {
     "name": "stderr",
     "output_type": "stream",
     "text": [
      "100%|██████████| 12/12 [00:00<00:00, 36.80it/s]\n",
      " 33%|███▎      | 4/12 [00:00<00:00, 37.18it/s]"
     ]
    },
    {
     "name": "stdout",
     "output_type": "stream",
     "text": [
      "87: [Discriminator loss: 0.174497]  [GAN loss: 0.426975]\n",
      "Epoch 88\n"
     ]
    },
    {
     "name": "stderr",
     "output_type": "stream",
     "text": [
      "100%|██████████| 12/12 [00:00<00:00, 37.04it/s]\n",
      " 33%|███▎      | 4/12 [00:00<00:00, 39.40it/s]"
     ]
    },
    {
     "name": "stdout",
     "output_type": "stream",
     "text": [
      "88: [Discriminator loss: 0.200470]  [GAN loss: 0.386532]\n",
      "Epoch 89\n"
     ]
    },
    {
     "name": "stderr",
     "output_type": "stream",
     "text": [
      "100%|██████████| 12/12 [00:00<00:00, 38.30it/s]\n",
      " 33%|███▎      | 4/12 [00:00<00:00, 37.80it/s]"
     ]
    },
    {
     "name": "stdout",
     "output_type": "stream",
     "text": [
      "89: [Discriminator loss: 0.198908]  [GAN loss: 0.384195]\n",
      "Epoch 90\n"
     ]
    },
    {
     "name": "stderr",
     "output_type": "stream",
     "text": [
      "100%|██████████| 12/12 [00:00<00:00, 36.69it/s]\n",
      " 33%|███▎      | 4/12 [00:00<00:00, 34.69it/s]"
     ]
    },
    {
     "name": "stdout",
     "output_type": "stream",
     "text": [
      "90: [Discriminator loss: 0.213897]  [GAN loss: 0.308414]\n",
      "Epoch 91\n"
     ]
    },
    {
     "name": "stderr",
     "output_type": "stream",
     "text": [
      "100%|██████████| 12/12 [00:00<00:00, 36.34it/s]\n",
      " 33%|███▎      | 4/12 [00:00<00:00, 39.62it/s]"
     ]
    },
    {
     "name": "stdout",
     "output_type": "stream",
     "text": [
      "91: [Discriminator loss: 0.167046]  [GAN loss: 0.394190]\n",
      "Epoch 92\n"
     ]
    },
    {
     "name": "stderr",
     "output_type": "stream",
     "text": [
      "100%|██████████| 12/12 [00:00<00:00, 38.76it/s]\n",
      " 33%|███▎      | 4/12 [00:00<00:00, 37.32it/s]"
     ]
    },
    {
     "name": "stdout",
     "output_type": "stream",
     "text": [
      "92: [Discriminator loss: 0.171792]  [GAN loss: 0.417496]\n",
      "Epoch 93\n"
     ]
    },
    {
     "name": "stderr",
     "output_type": "stream",
     "text": [
      "100%|██████████| 12/12 [00:00<00:00, 37.31it/s]\n",
      " 33%|███▎      | 4/12 [00:00<00:00, 37.92it/s]"
     ]
    },
    {
     "name": "stdout",
     "output_type": "stream",
     "text": [
      "93: [Discriminator loss: 0.130833]  [GAN loss: 0.355631]\n",
      "Epoch 94\n"
     ]
    },
    {
     "name": "stderr",
     "output_type": "stream",
     "text": [
      "100%|██████████| 12/12 [00:00<00:00, 37.54it/s]\n",
      " 33%|███▎      | 4/12 [00:00<00:00, 36.86it/s]"
     ]
    },
    {
     "name": "stdout",
     "output_type": "stream",
     "text": [
      "94: [Discriminator loss: 0.149575]  [GAN loss: 0.339251]\n",
      "Epoch 95\n"
     ]
    },
    {
     "name": "stderr",
     "output_type": "stream",
     "text": [
      "100%|██████████| 12/12 [00:00<00:00, 36.50it/s]\n",
      " 33%|███▎      | 4/12 [00:00<00:00, 38.87it/s]"
     ]
    },
    {
     "name": "stdout",
     "output_type": "stream",
     "text": [
      "95: [Discriminator loss: 0.137286]  [GAN loss: 0.461620]\n",
      "Epoch 96\n"
     ]
    },
    {
     "name": "stderr",
     "output_type": "stream",
     "text": [
      "100%|██████████| 12/12 [00:00<00:00, 38.30it/s]\n",
      " 33%|███▎      | 4/12 [00:00<00:00, 38.25it/s]"
     ]
    },
    {
     "name": "stdout",
     "output_type": "stream",
     "text": [
      "96: [Discriminator loss: 0.170309]  [GAN loss: 0.260729]\n",
      "Epoch 97\n"
     ]
    },
    {
     "name": "stderr",
     "output_type": "stream",
     "text": [
      "100%|██████████| 12/12 [00:00<00:00, 37.72it/s]\n",
      " 33%|███▎      | 4/12 [00:00<00:00, 33.53it/s]"
     ]
    },
    {
     "name": "stdout",
     "output_type": "stream",
     "text": [
      "97: [Discriminator loss: 0.138628]  [GAN loss: 0.412112]\n",
      "Epoch 98\n"
     ]
    },
    {
     "name": "stderr",
     "output_type": "stream",
     "text": [
      "100%|██████████| 12/12 [00:00<00:00, 35.75it/s]\n",
      " 33%|███▎      | 4/12 [00:00<00:00, 38.23it/s]"
     ]
    },
    {
     "name": "stdout",
     "output_type": "stream",
     "text": [
      "98: [Discriminator loss: 0.166900]  [GAN loss: 0.373065]\n",
      "Epoch 99\n"
     ]
    },
    {
     "name": "stderr",
     "output_type": "stream",
     "text": [
      "100%|██████████| 12/12 [00:00<00:00, 41.59it/s]\n",
      " 33%|███▎      | 4/12 [00:00<00:00, 38.82it/s]"
     ]
    },
    {
     "name": "stdout",
     "output_type": "stream",
     "text": [
      "99: [Discriminator loss: 0.154680]  [GAN loss: 0.428000]\n",
      "Epoch 100\n"
     ]
    },
    {
     "name": "stderr",
     "output_type": "stream",
     "text": [
      "100%|██████████| 12/12 [00:00<00:00, 37.46it/s]\n",
      " 33%|███▎      | 4/12 [00:00<00:00, 39.56it/s]"
     ]
    },
    {
     "name": "stdout",
     "output_type": "stream",
     "text": [
      "100: [Discriminator loss: 0.210762]  [GAN loss: 0.452104]\n",
      "Epoch 101\n"
     ]
    },
    {
     "name": "stderr",
     "output_type": "stream",
     "text": [
      "100%|██████████| 12/12 [00:00<00:00, 38.50it/s]\n",
      " 33%|███▎      | 4/12 [00:00<00:00, 37.42it/s]"
     ]
    },
    {
     "name": "stdout",
     "output_type": "stream",
     "text": [
      "101: [Discriminator loss: 0.173719]  [GAN loss: 0.292627]\n",
      "Epoch 102\n"
     ]
    },
    {
     "name": "stderr",
     "output_type": "stream",
     "text": [
      "100%|██████████| 12/12 [00:00<00:00, 37.68it/s]\n",
      " 33%|███▎      | 4/12 [00:00<00:00, 35.03it/s]"
     ]
    },
    {
     "name": "stdout",
     "output_type": "stream",
     "text": [
      "102: [Discriminator loss: 0.192913]  [GAN loss: 0.376745]\n",
      "Epoch 103\n"
     ]
    },
    {
     "name": "stderr",
     "output_type": "stream",
     "text": [
      "100%|██████████| 12/12 [00:00<00:00, 36.57it/s]\n",
      " 33%|███▎      | 4/12 [00:00<00:00, 38.81it/s]"
     ]
    },
    {
     "name": "stdout",
     "output_type": "stream",
     "text": [
      "103: [Discriminator loss: 0.135917]  [GAN loss: 0.407361]\n",
      "Epoch 104\n"
     ]
    },
    {
     "name": "stderr",
     "output_type": "stream",
     "text": [
      "100%|██████████| 12/12 [00:00<00:00, 39.04it/s]\n",
      " 33%|███▎      | 4/12 [00:00<00:00, 38.00it/s]"
     ]
    },
    {
     "name": "stdout",
     "output_type": "stream",
     "text": [
      "104: [Discriminator loss: 0.175222]  [GAN loss: 0.427835]\n",
      "Epoch 105\n"
     ]
    },
    {
     "name": "stderr",
     "output_type": "stream",
     "text": [
      "100%|██████████| 12/12 [00:00<00:00, 37.92it/s]\n",
      " 33%|███▎      | 4/12 [00:00<00:00, 39.36it/s]"
     ]
    },
    {
     "name": "stdout",
     "output_type": "stream",
     "text": [
      "105: [Discriminator loss: 0.222667]  [GAN loss: 0.451677]\n",
      "Epoch 106\n"
     ]
    },
    {
     "name": "stderr",
     "output_type": "stream",
     "text": [
      "100%|██████████| 12/12 [00:00<00:00, 37.57it/s]\n",
      " 33%|███▎      | 4/12 [00:00<00:00, 38.95it/s]"
     ]
    },
    {
     "name": "stdout",
     "output_type": "stream",
     "text": [
      "106: [Discriminator loss: 0.137589]  [GAN loss: 0.380871]\n",
      "Epoch 107\n"
     ]
    },
    {
     "name": "stderr",
     "output_type": "stream",
     "text": [
      "100%|██████████| 12/12 [00:00<00:00, 38.29it/s]\n",
      " 33%|███▎      | 4/12 [00:00<00:00, 37.22it/s]"
     ]
    },
    {
     "name": "stdout",
     "output_type": "stream",
     "text": [
      "107: [Discriminator loss: 0.127823]  [GAN loss: 0.424294]\n",
      "Epoch 108\n"
     ]
    },
    {
     "name": "stderr",
     "output_type": "stream",
     "text": [
      "100%|██████████| 12/12 [00:00<00:00, 36.95it/s]\n",
      " 33%|███▎      | 4/12 [00:00<00:00, 37.78it/s]"
     ]
    },
    {
     "name": "stdout",
     "output_type": "stream",
     "text": [
      "108: [Discriminator loss: 0.125797]  [GAN loss: 0.621574]\n",
      "Epoch 109\n"
     ]
    },
    {
     "name": "stderr",
     "output_type": "stream",
     "text": [
      "100%|██████████| 12/12 [00:00<00:00, 37.31it/s]\n",
      " 33%|███▎      | 4/12 [00:00<00:00, 36.47it/s]"
     ]
    },
    {
     "name": "stdout",
     "output_type": "stream",
     "text": [
      "109: [Discriminator loss: 0.150267]  [GAN loss: 0.482897]\n",
      "Epoch 110\n"
     ]
    },
    {
     "name": "stderr",
     "output_type": "stream",
     "text": [
      "100%|██████████| 12/12 [00:00<00:00, 37.70it/s]\n",
      " 33%|███▎      | 4/12 [00:00<00:00, 38.65it/s]"
     ]
    },
    {
     "name": "stdout",
     "output_type": "stream",
     "text": [
      "110: [Discriminator loss: 0.201355]  [GAN loss: 0.357912]\n",
      "Epoch 111\n"
     ]
    },
    {
     "name": "stderr",
     "output_type": "stream",
     "text": [
      "100%|██████████| 12/12 [00:00<00:00, 38.57it/s]\n",
      " 33%|███▎      | 4/12 [00:00<00:00, 37.48it/s]"
     ]
    },
    {
     "name": "stdout",
     "output_type": "stream",
     "text": [
      "111: [Discriminator loss: 0.159865]  [GAN loss: 0.403644]\n",
      "Epoch 112\n"
     ]
    },
    {
     "name": "stderr",
     "output_type": "stream",
     "text": [
      "100%|██████████| 12/12 [00:00<00:00, 34.10it/s]\n",
      " 33%|███▎      | 4/12 [00:00<00:00, 36.09it/s]"
     ]
    },
    {
     "name": "stdout",
     "output_type": "stream",
     "text": [
      "112: [Discriminator loss: 0.288243]  [GAN loss: 0.340911]\n",
      "Epoch 113\n"
     ]
    },
    {
     "name": "stderr",
     "output_type": "stream",
     "text": [
      "100%|██████████| 12/12 [00:00<00:00, 36.66it/s]\n",
      " 33%|███▎      | 4/12 [00:00<00:00, 37.14it/s]"
     ]
    },
    {
     "name": "stdout",
     "output_type": "stream",
     "text": [
      "113: [Discriminator loss: 0.180300]  [GAN loss: 0.305136]\n",
      "Epoch 114\n"
     ]
    },
    {
     "name": "stderr",
     "output_type": "stream",
     "text": [
      "100%|██████████| 12/12 [00:00<00:00, 37.52it/s]\n",
      " 33%|███▎      | 4/12 [00:00<00:00, 37.45it/s]"
     ]
    },
    {
     "name": "stdout",
     "output_type": "stream",
     "text": [
      "114: [Discriminator loss: 0.174900]  [GAN loss: 0.347772]\n",
      "Epoch 115\n"
     ]
    },
    {
     "name": "stderr",
     "output_type": "stream",
     "text": [
      "100%|██████████| 12/12 [00:00<00:00, 37.92it/s]\n",
      " 33%|███▎      | 4/12 [00:00<00:00, 37.07it/s]"
     ]
    },
    {
     "name": "stdout",
     "output_type": "stream",
     "text": [
      "115: [Discriminator loss: 0.109375]  [GAN loss: 0.489675]\n",
      "Epoch 116\n"
     ]
    },
    {
     "name": "stderr",
     "output_type": "stream",
     "text": [
      "100%|██████████| 12/12 [00:00<00:00, 37.12it/s]\n",
      " 33%|███▎      | 4/12 [00:00<00:00, 38.39it/s]"
     ]
    },
    {
     "name": "stdout",
     "output_type": "stream",
     "text": [
      "116: [Discriminator loss: 0.104912]  [GAN loss: 0.506238]\n",
      "Epoch 117\n"
     ]
    },
    {
     "name": "stderr",
     "output_type": "stream",
     "text": [
      "100%|██████████| 12/12 [00:00<00:00, 37.98it/s]\n",
      " 33%|███▎      | 4/12 [00:00<00:00, 38.20it/s]"
     ]
    },
    {
     "name": "stdout",
     "output_type": "stream",
     "text": [
      "117: [Discriminator loss: 0.128592]  [GAN loss: 0.348204]\n",
      "Epoch 118\n"
     ]
    },
    {
     "name": "stderr",
     "output_type": "stream",
     "text": [
      "100%|██████████| 12/12 [00:00<00:00, 37.37it/s]\n",
      " 33%|███▎      | 4/12 [00:00<00:00, 36.92it/s]"
     ]
    },
    {
     "name": "stdout",
     "output_type": "stream",
     "text": [
      "118: [Discriminator loss: 0.215497]  [GAN loss: 0.401717]\n",
      "Epoch 119\n"
     ]
    },
    {
     "name": "stderr",
     "output_type": "stream",
     "text": [
      "100%|██████████| 12/12 [00:00<00:00, 38.28it/s]\n",
      " 33%|███▎      | 4/12 [00:00<00:00, 38.09it/s]"
     ]
    },
    {
     "name": "stdout",
     "output_type": "stream",
     "text": [
      "119: [Discriminator loss: 0.158753]  [GAN loss: 0.320120]\n",
      "Epoch 120\n"
     ]
    },
    {
     "name": "stderr",
     "output_type": "stream",
     "text": [
      "100%|██████████| 12/12 [00:00<00:00, 38.85it/s]\n",
      " 33%|███▎      | 4/12 [00:00<00:00, 37.47it/s]"
     ]
    },
    {
     "name": "stdout",
     "output_type": "stream",
     "text": [
      "120: [Discriminator loss: 0.163812]  [GAN loss: 0.312307]\n",
      "Epoch 121\n"
     ]
    },
    {
     "name": "stderr",
     "output_type": "stream",
     "text": [
      "100%|██████████| 12/12 [00:00<00:00, 37.59it/s]\n",
      " 33%|███▎      | 4/12 [00:00<00:00, 37.13it/s]"
     ]
    },
    {
     "name": "stdout",
     "output_type": "stream",
     "text": [
      "121: [Discriminator loss: 0.144656]  [GAN loss: 0.385876]\n",
      "Epoch 122\n"
     ]
    },
    {
     "name": "stderr",
     "output_type": "stream",
     "text": [
      "100%|██████████| 12/12 [00:00<00:00, 37.28it/s]\n",
      " 33%|███▎      | 4/12 [00:00<00:00, 39.67it/s]"
     ]
    },
    {
     "name": "stdout",
     "output_type": "stream",
     "text": [
      "122: [Discriminator loss: 0.105138]  [GAN loss: 0.490723]\n",
      "Epoch 123\n"
     ]
    },
    {
     "name": "stderr",
     "output_type": "stream",
     "text": [
      "100%|██████████| 12/12 [00:00<00:00, 38.83it/s]\n",
      " 33%|███▎      | 4/12 [00:00<00:00, 37.13it/s]"
     ]
    },
    {
     "name": "stdout",
     "output_type": "stream",
     "text": [
      "123: [Discriminator loss: 0.104501]  [GAN loss: 0.424255]\n",
      "Epoch 124\n"
     ]
    },
    {
     "name": "stderr",
     "output_type": "stream",
     "text": [
      "100%|██████████| 12/12 [00:00<00:00, 37.75it/s]\n",
      " 33%|███▎      | 4/12 [00:00<00:00, 38.45it/s]"
     ]
    },
    {
     "name": "stdout",
     "output_type": "stream",
     "text": [
      "124: [Discriminator loss: 0.144348]  [GAN loss: 0.469748]\n",
      "Epoch 125\n"
     ]
    },
    {
     "name": "stderr",
     "output_type": "stream",
     "text": [
      "100%|██████████| 12/12 [00:00<00:00, 38.47it/s]\n",
      " 33%|███▎      | 4/12 [00:00<00:00, 37.03it/s]"
     ]
    },
    {
     "name": "stdout",
     "output_type": "stream",
     "text": [
      "125: [Discriminator loss: 0.148788]  [GAN loss: 0.358455]\n",
      "Epoch 126\n"
     ]
    },
    {
     "name": "stderr",
     "output_type": "stream",
     "text": [
      "100%|██████████| 12/12 [00:00<00:00, 37.66it/s]\n",
      " 33%|███▎      | 4/12 [00:00<00:00, 38.73it/s]"
     ]
    },
    {
     "name": "stdout",
     "output_type": "stream",
     "text": [
      "126: [Discriminator loss: 0.253205]  [GAN loss: 0.364135]\n",
      "Epoch 127\n"
     ]
    },
    {
     "name": "stderr",
     "output_type": "stream",
     "text": [
      "100%|██████████| 12/12 [00:00<00:00, 38.23it/s]\n",
      " 33%|███▎      | 4/12 [00:00<00:00, 38.18it/s]"
     ]
    },
    {
     "name": "stdout",
     "output_type": "stream",
     "text": [
      "127: [Discriminator loss: 0.176003]  [GAN loss: 0.412439]\n",
      "Epoch 128\n"
     ]
    },
    {
     "name": "stderr",
     "output_type": "stream",
     "text": [
      "100%|██████████| 12/12 [00:00<00:00, 38.00it/s]\n",
      " 33%|███▎      | 4/12 [00:00<00:00, 38.83it/s]"
     ]
    },
    {
     "name": "stdout",
     "output_type": "stream",
     "text": [
      "128: [Discriminator loss: 0.132296]  [GAN loss: 0.444889]\n",
      "Epoch 129\n"
     ]
    },
    {
     "name": "stderr",
     "output_type": "stream",
     "text": [
      "100%|██████████| 12/12 [00:00<00:00, 38.67it/s]\n",
      " 33%|███▎      | 4/12 [00:00<00:00, 38.38it/s]"
     ]
    },
    {
     "name": "stdout",
     "output_type": "stream",
     "text": [
      "129: [Discriminator loss: 0.121027]  [GAN loss: 0.489529]\n",
      "Epoch 130\n"
     ]
    },
    {
     "name": "stderr",
     "output_type": "stream",
     "text": [
      "100%|██████████| 12/12 [00:00<00:00, 37.86it/s]\n",
      " 33%|███▎      | 4/12 [00:00<00:00, 36.08it/s]"
     ]
    },
    {
     "name": "stdout",
     "output_type": "stream",
     "text": [
      "130: [Discriminator loss: 0.056837]  [GAN loss: 0.448048]\n",
      "Epoch 131\n"
     ]
    },
    {
     "name": "stderr",
     "output_type": "stream",
     "text": [
      "100%|██████████| 12/12 [00:00<00:00, 36.90it/s]\n",
      " 33%|███▎      | 4/12 [00:00<00:00, 37.86it/s]"
     ]
    },
    {
     "name": "stdout",
     "output_type": "stream",
     "text": [
      "131: [Discriminator loss: 0.159263]  [GAN loss: 0.378134]\n",
      "Epoch 132\n"
     ]
    },
    {
     "name": "stderr",
     "output_type": "stream",
     "text": [
      "100%|██████████| 12/12 [00:00<00:00, 37.38it/s]\n",
      " 33%|███▎      | 4/12 [00:00<00:00, 38.18it/s]"
     ]
    },
    {
     "name": "stdout",
     "output_type": "stream",
     "text": [
      "132: [Discriminator loss: 0.209761]  [GAN loss: 0.235236]\n",
      "Epoch 133\n"
     ]
    },
    {
     "name": "stderr",
     "output_type": "stream",
     "text": [
      "100%|██████████| 12/12 [00:00<00:00, 36.94it/s]\n",
      " 33%|███▎      | 4/12 [00:00<00:00, 38.09it/s]"
     ]
    },
    {
     "name": "stdout",
     "output_type": "stream",
     "text": [
      "133: [Discriminator loss: 0.203710]  [GAN loss: 0.353044]\n",
      "Epoch 134\n"
     ]
    },
    {
     "name": "stderr",
     "output_type": "stream",
     "text": [
      "100%|██████████| 12/12 [00:00<00:00, 37.54it/s]\n",
      " 33%|███▎      | 4/12 [00:00<00:00, 38.62it/s]"
     ]
    },
    {
     "name": "stdout",
     "output_type": "stream",
     "text": [
      "134: [Discriminator loss: 0.195636]  [GAN loss: 0.345090]\n",
      "Epoch 135\n"
     ]
    },
    {
     "name": "stderr",
     "output_type": "stream",
     "text": [
      "100%|██████████| 12/12 [00:00<00:00, 38.15it/s]\n",
      " 42%|████▏     | 5/12 [00:00<00:00, 42.94it/s]"
     ]
    },
    {
     "name": "stdout",
     "output_type": "stream",
     "text": [
      "135: [Discriminator loss: 0.161450]  [GAN loss: 0.500106]\n",
      "Epoch 136\n"
     ]
    },
    {
     "name": "stderr",
     "output_type": "stream",
     "text": [
      "100%|██████████| 12/12 [00:00<00:00, 39.18it/s]\n",
      " 33%|███▎      | 4/12 [00:00<00:00, 38.41it/s]"
     ]
    },
    {
     "name": "stdout",
     "output_type": "stream",
     "text": [
      "136: [Discriminator loss: 0.146491]  [GAN loss: 0.369035]\n",
      "Epoch 137\n"
     ]
    },
    {
     "name": "stderr",
     "output_type": "stream",
     "text": [
      "100%|██████████| 12/12 [00:00<00:00, 37.99it/s]\n",
      " 33%|███▎      | 4/12 [00:00<00:00, 37.88it/s]"
     ]
    },
    {
     "name": "stdout",
     "output_type": "stream",
     "text": [
      "137: [Discriminator loss: 0.149397]  [GAN loss: 0.461194]\n",
      "Epoch 138\n"
     ]
    },
    {
     "name": "stderr",
     "output_type": "stream",
     "text": [
      "100%|██████████| 12/12 [00:00<00:00, 37.55it/s]\n",
      " 33%|███▎      | 4/12 [00:00<00:00, 38.40it/s]"
     ]
    },
    {
     "name": "stdout",
     "output_type": "stream",
     "text": [
      "138: [Discriminator loss: 0.105641]  [GAN loss: 0.535870]\n",
      "Epoch 139\n"
     ]
    },
    {
     "name": "stderr",
     "output_type": "stream",
     "text": [
      "100%|██████████| 12/12 [00:00<00:00, 37.84it/s]\n",
      " 33%|███▎      | 4/12 [00:00<00:00, 37.53it/s]"
     ]
    },
    {
     "name": "stdout",
     "output_type": "stream",
     "text": [
      "139: [Discriminator loss: 0.155495]  [GAN loss: 0.384787]\n",
      "Epoch 140\n"
     ]
    },
    {
     "name": "stderr",
     "output_type": "stream",
     "text": [
      "100%|██████████| 12/12 [00:00<00:00, 36.46it/s]\n",
      " 33%|███▎      | 4/12 [00:00<00:00, 36.63it/s]"
     ]
    },
    {
     "name": "stdout",
     "output_type": "stream",
     "text": [
      "140: [Discriminator loss: 0.156890]  [GAN loss: 0.442914]\n",
      "Epoch 141\n"
     ]
    },
    {
     "name": "stderr",
     "output_type": "stream",
     "text": [
      "100%|██████████| 12/12 [00:00<00:00, 37.12it/s]\n",
      " 33%|███▎      | 4/12 [00:00<00:00, 36.99it/s]"
     ]
    },
    {
     "name": "stdout",
     "output_type": "stream",
     "text": [
      "141: [Discriminator loss: 0.165482]  [GAN loss: 0.331479]\n",
      "Epoch 142\n"
     ]
    },
    {
     "name": "stderr",
     "output_type": "stream",
     "text": [
      "100%|██████████| 12/12 [00:00<00:00, 37.42it/s]\n",
      " 33%|███▎      | 4/12 [00:00<00:00, 38.76it/s]"
     ]
    },
    {
     "name": "stdout",
     "output_type": "stream",
     "text": [
      "142: [Discriminator loss: 0.170996]  [GAN loss: 0.347860]\n",
      "Epoch 143\n"
     ]
    },
    {
     "name": "stderr",
     "output_type": "stream",
     "text": [
      "100%|██████████| 12/12 [00:00<00:00, 37.93it/s]\n",
      " 33%|███▎      | 4/12 [00:00<00:00, 38.38it/s]"
     ]
    },
    {
     "name": "stdout",
     "output_type": "stream",
     "text": [
      "143: [Discriminator loss: 0.165127]  [GAN loss: 0.481793]\n",
      "Epoch 144\n"
     ]
    },
    {
     "name": "stderr",
     "output_type": "stream",
     "text": [
      "100%|██████████| 12/12 [00:00<00:00, 37.98it/s]\n",
      " 33%|███▎      | 4/12 [00:00<00:00, 38.29it/s]"
     ]
    },
    {
     "name": "stdout",
     "output_type": "stream",
     "text": [
      "144: [Discriminator loss: 0.133791]  [GAN loss: 0.504084]\n",
      "Epoch 145\n"
     ]
    },
    {
     "name": "stderr",
     "output_type": "stream",
     "text": [
      "100%|██████████| 12/12 [00:00<00:00, 37.98it/s]\n",
      " 33%|███▎      | 4/12 [00:00<00:00, 38.26it/s]"
     ]
    },
    {
     "name": "stdout",
     "output_type": "stream",
     "text": [
      "145: [Discriminator loss: 0.112637]  [GAN loss: 0.498865]\n",
      "Epoch 146\n"
     ]
    },
    {
     "name": "stderr",
     "output_type": "stream",
     "text": [
      "100%|██████████| 12/12 [00:00<00:00, 37.97it/s]\n",
      " 33%|███▎      | 4/12 [00:00<00:00, 35.51it/s]"
     ]
    },
    {
     "name": "stdout",
     "output_type": "stream",
     "text": [
      "146: [Discriminator loss: 0.108190]  [GAN loss: 0.456382]\n",
      "Epoch 147\n"
     ]
    },
    {
     "name": "stderr",
     "output_type": "stream",
     "text": [
      "100%|██████████| 12/12 [00:00<00:00, 36.47it/s]\n",
      " 33%|███▎      | 4/12 [00:00<00:00, 38.56it/s]"
     ]
    },
    {
     "name": "stdout",
     "output_type": "stream",
     "text": [
      "147: [Discriminator loss: 0.233490]  [GAN loss: 0.530382]\n",
      "Epoch 148\n"
     ]
    },
    {
     "name": "stderr",
     "output_type": "stream",
     "text": [
      "100%|██████████| 12/12 [00:00<00:00, 37.74it/s]\n",
      " 33%|███▎      | 4/12 [00:00<00:00, 36.85it/s]"
     ]
    },
    {
     "name": "stdout",
     "output_type": "stream",
     "text": [
      "148: [Discriminator loss: 0.107924]  [GAN loss: 0.357420]\n",
      "Epoch 149\n"
     ]
    },
    {
     "name": "stderr",
     "output_type": "stream",
     "text": [
      "100%|██████████| 12/12 [00:00<00:00, 36.88it/s]\n",
      " 33%|███▎      | 4/12 [00:00<00:00, 38.92it/s]"
     ]
    },
    {
     "name": "stdout",
     "output_type": "stream",
     "text": [
      "149: [Discriminator loss: 0.195353]  [GAN loss: 0.379305]\n",
      "Epoch 150\n"
     ]
    },
    {
     "name": "stderr",
     "output_type": "stream",
     "text": [
      "100%|██████████| 12/12 [00:00<00:00, 37.74it/s]\n",
      " 33%|███▎      | 4/12 [00:00<00:00, 36.73it/s]"
     ]
    },
    {
     "name": "stdout",
     "output_type": "stream",
     "text": [
      "150: [Discriminator loss: 0.183777]  [GAN loss: 0.403792]\n",
      "Epoch 151\n"
     ]
    },
    {
     "name": "stderr",
     "output_type": "stream",
     "text": [
      "100%|██████████| 12/12 [00:00<00:00, 38.00it/s]\n",
      " 33%|███▎      | 4/12 [00:00<00:00, 38.23it/s]"
     ]
    },
    {
     "name": "stdout",
     "output_type": "stream",
     "text": [
      "151: [Discriminator loss: 0.128282]  [GAN loss: 0.686323]\n",
      "Epoch 152\n"
     ]
    },
    {
     "name": "stderr",
     "output_type": "stream",
     "text": [
      "100%|██████████| 12/12 [00:00<00:00, 37.21it/s]\n",
      " 33%|███▎      | 4/12 [00:00<00:00, 39.51it/s]"
     ]
    },
    {
     "name": "stdout",
     "output_type": "stream",
     "text": [
      "152: [Discriminator loss: 0.150695]  [GAN loss: 0.587106]\n",
      "Epoch 153\n"
     ]
    },
    {
     "name": "stderr",
     "output_type": "stream",
     "text": [
      "100%|██████████| 12/12 [00:00<00:00, 38.55it/s]\n",
      " 33%|███▎      | 4/12 [00:00<00:00, 36.97it/s]"
     ]
    },
    {
     "name": "stdout",
     "output_type": "stream",
     "text": [
      "153: [Discriminator loss: 0.148248]  [GAN loss: 0.520381]\n",
      "Epoch 154\n"
     ]
    },
    {
     "name": "stderr",
     "output_type": "stream",
     "text": [
      "100%|██████████| 12/12 [00:00<00:00, 37.79it/s]\n",
      " 33%|███▎      | 4/12 [00:00<00:00, 37.44it/s]"
     ]
    },
    {
     "name": "stdout",
     "output_type": "stream",
     "text": [
      "154: [Discriminator loss: 0.158012]  [GAN loss: 0.445261]\n",
      "Epoch 155\n"
     ]
    },
    {
     "name": "stderr",
     "output_type": "stream",
     "text": [
      "100%|██████████| 12/12 [00:00<00:00, 37.00it/s]\n",
      " 33%|███▎      | 4/12 [00:00<00:00, 38.18it/s]"
     ]
    },
    {
     "name": "stdout",
     "output_type": "stream",
     "text": [
      "155: [Discriminator loss: 0.223491]  [GAN loss: 0.634834]\n",
      "Epoch 156\n"
     ]
    },
    {
     "name": "stderr",
     "output_type": "stream",
     "text": [
      "100%|██████████| 12/12 [00:00<00:00, 38.40it/s]\n",
      " 33%|███▎      | 4/12 [00:00<00:00, 39.01it/s]"
     ]
    },
    {
     "name": "stdout",
     "output_type": "stream",
     "text": [
      "156: [Discriminator loss: 0.183856]  [GAN loss: 0.433933]\n",
      "Epoch 157\n"
     ]
    },
    {
     "name": "stderr",
     "output_type": "stream",
     "text": [
      "100%|██████████| 12/12 [00:00<00:00, 38.27it/s]\n",
      " 33%|███▎      | 4/12 [00:00<00:00, 38.87it/s]"
     ]
    },
    {
     "name": "stdout",
     "output_type": "stream",
     "text": [
      "157: [Discriminator loss: 0.140500]  [GAN loss: 0.343710]\n",
      "Epoch 158\n"
     ]
    },
    {
     "name": "stderr",
     "output_type": "stream",
     "text": [
      "100%|██████████| 12/12 [00:00<00:00, 38.29it/s]\n",
      " 33%|███▎      | 4/12 [00:00<00:00, 37.52it/s]"
     ]
    },
    {
     "name": "stdout",
     "output_type": "stream",
     "text": [
      "158: [Discriminator loss: 0.177192]  [GAN loss: 0.409089]\n",
      "Epoch 159\n"
     ]
    },
    {
     "name": "stderr",
     "output_type": "stream",
     "text": [
      "100%|██████████| 12/12 [00:00<00:00, 37.37it/s]\n",
      " 33%|███▎      | 4/12 [00:00<00:00, 37.89it/s]"
     ]
    },
    {
     "name": "stdout",
     "output_type": "stream",
     "text": [
      "159: [Discriminator loss: 0.122733]  [GAN loss: 0.335208]\n",
      "Epoch 160\n"
     ]
    },
    {
     "name": "stderr",
     "output_type": "stream",
     "text": [
      "100%|██████████| 12/12 [00:00<00:00, 37.72it/s]\n",
      " 33%|███▎      | 4/12 [00:00<00:00, 37.10it/s]"
     ]
    },
    {
     "name": "stdout",
     "output_type": "stream",
     "text": [
      "160: [Discriminator loss: 0.183145]  [GAN loss: 0.485035]\n",
      "Epoch 161\n"
     ]
    },
    {
     "name": "stderr",
     "output_type": "stream",
     "text": [
      "100%|██████████| 12/12 [00:00<00:00, 37.37it/s]\n",
      " 33%|███▎      | 4/12 [00:00<00:00, 35.21it/s]"
     ]
    },
    {
     "name": "stdout",
     "output_type": "stream",
     "text": [
      "161: [Discriminator loss: 0.206431]  [GAN loss: 0.450063]\n",
      "Epoch 162\n"
     ]
    },
    {
     "name": "stderr",
     "output_type": "stream",
     "text": [
      "100%|██████████| 12/12 [00:00<00:00, 36.38it/s]\n",
      " 33%|███▎      | 4/12 [00:00<00:00, 36.93it/s]"
     ]
    },
    {
     "name": "stdout",
     "output_type": "stream",
     "text": [
      "162: [Discriminator loss: 0.107276]  [GAN loss: 0.561403]\n",
      "Epoch 163\n"
     ]
    },
    {
     "name": "stderr",
     "output_type": "stream",
     "text": [
      "100%|██████████| 12/12 [00:00<00:00, 37.31it/s]\n",
      " 33%|███▎      | 4/12 [00:00<00:00, 37.40it/s]"
     ]
    },
    {
     "name": "stdout",
     "output_type": "stream",
     "text": [
      "163: [Discriminator loss: 0.131334]  [GAN loss: 0.320539]\n",
      "Epoch 164\n"
     ]
    },
    {
     "name": "stderr",
     "output_type": "stream",
     "text": [
      "100%|██████████| 12/12 [00:00<00:00, 37.92it/s]\n",
      " 33%|███▎      | 4/12 [00:00<00:00, 32.84it/s]"
     ]
    },
    {
     "name": "stdout",
     "output_type": "stream",
     "text": [
      "164: [Discriminator loss: 0.107771]  [GAN loss: 0.530107]\n",
      "Epoch 165\n"
     ]
    },
    {
     "name": "stderr",
     "output_type": "stream",
     "text": [
      "100%|██████████| 12/12 [00:00<00:00, 34.69it/s]\n",
      " 33%|███▎      | 4/12 [00:00<00:00, 39.26it/s]"
     ]
    },
    {
     "name": "stdout",
     "output_type": "stream",
     "text": [
      "165: [Discriminator loss: 0.130415]  [GAN loss: 0.504459]\n",
      "Epoch 166\n"
     ]
    },
    {
     "name": "stderr",
     "output_type": "stream",
     "text": [
      "100%|██████████| 12/12 [00:00<00:00, 38.45it/s]\n",
      " 33%|███▎      | 4/12 [00:00<00:00, 36.97it/s]"
     ]
    },
    {
     "name": "stdout",
     "output_type": "stream",
     "text": [
      "166: [Discriminator loss: 0.105463]  [GAN loss: 0.369550]\n",
      "Epoch 167\n"
     ]
    },
    {
     "name": "stderr",
     "output_type": "stream",
     "text": [
      "100%|██████████| 12/12 [00:00<00:00, 37.70it/s]\n",
      " 33%|███▎      | 4/12 [00:00<00:00, 36.11it/s]"
     ]
    },
    {
     "name": "stdout",
     "output_type": "stream",
     "text": [
      "167: [Discriminator loss: 0.151265]  [GAN loss: 0.517528]\n",
      "Epoch 168\n"
     ]
    },
    {
     "name": "stderr",
     "output_type": "stream",
     "text": [
      "100%|██████████| 12/12 [00:00<00:00, 36.76it/s]\n",
      " 33%|███▎      | 4/12 [00:00<00:00, 36.22it/s]"
     ]
    },
    {
     "name": "stdout",
     "output_type": "stream",
     "text": [
      "168: [Discriminator loss: 0.157769]  [GAN loss: 0.434126]\n",
      "Epoch 169\n"
     ]
    },
    {
     "name": "stderr",
     "output_type": "stream",
     "text": [
      "100%|██████████| 12/12 [00:00<00:00, 36.22it/s]\n",
      " 33%|███▎      | 4/12 [00:00<00:00, 35.73it/s]"
     ]
    },
    {
     "name": "stdout",
     "output_type": "stream",
     "text": [
      "169: [Discriminator loss: 0.123416]  [GAN loss: 0.552573]\n",
      "Epoch 170\n"
     ]
    },
    {
     "name": "stderr",
     "output_type": "stream",
     "text": [
      "100%|██████████| 12/12 [00:00<00:00, 35.89it/s]\n",
      " 33%|███▎      | 4/12 [00:00<00:00, 36.62it/s]"
     ]
    },
    {
     "name": "stdout",
     "output_type": "stream",
     "text": [
      "170: [Discriminator loss: 0.169301]  [GAN loss: 0.417634]\n",
      "Epoch 171\n"
     ]
    },
    {
     "name": "stderr",
     "output_type": "stream",
     "text": [
      "100%|██████████| 12/12 [00:00<00:00, 36.59it/s]\n",
      " 33%|███▎      | 4/12 [00:00<00:00, 38.61it/s]"
     ]
    },
    {
     "name": "stdout",
     "output_type": "stream",
     "text": [
      "171: [Discriminator loss: 0.163452]  [GAN loss: 0.320583]\n",
      "Epoch 172\n"
     ]
    },
    {
     "name": "stderr",
     "output_type": "stream",
     "text": [
      "100%|██████████| 12/12 [00:00<00:00, 38.44it/s]\n",
      " 33%|███▎      | 4/12 [00:00<00:00, 34.82it/s]"
     ]
    },
    {
     "name": "stdout",
     "output_type": "stream",
     "text": [
      "172: [Discriminator loss: 0.174369]  [GAN loss: 0.593748]\n",
      "Epoch 173\n"
     ]
    },
    {
     "name": "stderr",
     "output_type": "stream",
     "text": [
      "100%|██████████| 12/12 [00:00<00:00, 35.87it/s]\n",
      " 33%|███▎      | 4/12 [00:00<00:00, 36.14it/s]"
     ]
    },
    {
     "name": "stdout",
     "output_type": "stream",
     "text": [
      "173: [Discriminator loss: 0.061940]  [GAN loss: 0.581484]\n",
      "Epoch 174\n"
     ]
    },
    {
     "name": "stderr",
     "output_type": "stream",
     "text": [
      "100%|██████████| 12/12 [00:00<00:00, 36.00it/s]\n",
      " 33%|███▎      | 4/12 [00:00<00:00, 35.18it/s]"
     ]
    },
    {
     "name": "stdout",
     "output_type": "stream",
     "text": [
      "174: [Discriminator loss: 0.115285]  [GAN loss: 0.460741]\n",
      "Epoch 175\n"
     ]
    },
    {
     "name": "stderr",
     "output_type": "stream",
     "text": [
      "100%|██████████| 12/12 [00:00<00:00, 31.53it/s]\n",
      " 33%|███▎      | 4/12 [00:00<00:00, 36.49it/s]"
     ]
    },
    {
     "name": "stdout",
     "output_type": "stream",
     "text": [
      "175: [Discriminator loss: 0.171492]  [GAN loss: 0.424157]\n",
      "Epoch 176\n"
     ]
    },
    {
     "name": "stderr",
     "output_type": "stream",
     "text": [
      "100%|██████████| 12/12 [00:00<00:00, 36.93it/s]\n",
      " 33%|███▎      | 4/12 [00:00<00:00, 36.51it/s]"
     ]
    },
    {
     "name": "stdout",
     "output_type": "stream",
     "text": [
      "176: [Discriminator loss: 0.215359]  [GAN loss: 0.260160]\n",
      "Epoch 177\n"
     ]
    },
    {
     "name": "stderr",
     "output_type": "stream",
     "text": [
      "100%|██████████| 12/12 [00:00<00:00, 37.17it/s]\n",
      " 33%|███▎      | 4/12 [00:00<00:00, 37.74it/s]"
     ]
    },
    {
     "name": "stdout",
     "output_type": "stream",
     "text": [
      "177: [Discriminator loss: 0.175459]  [GAN loss: 0.344770]\n",
      "Epoch 178\n"
     ]
    },
    {
     "name": "stderr",
     "output_type": "stream",
     "text": [
      "100%|██████████| 12/12 [00:00<00:00, 38.01it/s]\n",
      " 33%|███▎      | 4/12 [00:00<00:00, 37.53it/s]"
     ]
    },
    {
     "name": "stdout",
     "output_type": "stream",
     "text": [
      "178: [Discriminator loss: 0.164062]  [GAN loss: 0.446956]\n",
      "Epoch 179\n"
     ]
    },
    {
     "name": "stderr",
     "output_type": "stream",
     "text": [
      "100%|██████████| 12/12 [00:00<00:00, 37.93it/s]\n",
      " 33%|███▎      | 4/12 [00:00<00:00, 36.16it/s]"
     ]
    },
    {
     "name": "stdout",
     "output_type": "stream",
     "text": [
      "179: [Discriminator loss: 0.088756]  [GAN loss: 0.415363]\n",
      "Epoch 180\n"
     ]
    },
    {
     "name": "stderr",
     "output_type": "stream",
     "text": [
      "100%|██████████| 12/12 [00:00<00:00, 37.30it/s]\n",
      " 33%|███▎      | 4/12 [00:00<00:00, 37.19it/s]"
     ]
    },
    {
     "name": "stdout",
     "output_type": "stream",
     "text": [
      "180: [Discriminator loss: 0.135138]  [GAN loss: 0.432741]\n",
      "Epoch 181\n"
     ]
    },
    {
     "name": "stderr",
     "output_type": "stream",
     "text": [
      "100%|██████████| 12/12 [00:00<00:00, 37.02it/s]\n",
      " 33%|███▎      | 4/12 [00:00<00:00, 37.47it/s]"
     ]
    },
    {
     "name": "stdout",
     "output_type": "stream",
     "text": [
      "181: [Discriminator loss: 0.221308]  [GAN loss: 0.485608]\n",
      "Epoch 182\n"
     ]
    },
    {
     "name": "stderr",
     "output_type": "stream",
     "text": [
      "100%|██████████| 12/12 [00:00<00:00, 36.26it/s]\n",
      " 33%|███▎      | 4/12 [00:00<00:00, 37.70it/s]"
     ]
    },
    {
     "name": "stdout",
     "output_type": "stream",
     "text": [
      "182: [Discriminator loss: 0.226818]  [GAN loss: 0.488751]\n",
      "Epoch 183\n"
     ]
    },
    {
     "name": "stderr",
     "output_type": "stream",
     "text": [
      "100%|██████████| 12/12 [00:00<00:00, 37.73it/s]\n",
      " 33%|███▎      | 4/12 [00:00<00:00, 36.32it/s]"
     ]
    },
    {
     "name": "stdout",
     "output_type": "stream",
     "text": [
      "183: [Discriminator loss: 0.147363]  [GAN loss: 0.345433]\n",
      "Epoch 184\n"
     ]
    },
    {
     "name": "stderr",
     "output_type": "stream",
     "text": [
      "100%|██████████| 12/12 [00:00<00:00, 37.27it/s]\n",
      " 33%|███▎      | 4/12 [00:00<00:00, 39.28it/s]"
     ]
    },
    {
     "name": "stdout",
     "output_type": "stream",
     "text": [
      "184: [Discriminator loss: 0.145398]  [GAN loss: 0.456287]\n",
      "Epoch 185\n"
     ]
    },
    {
     "name": "stderr",
     "output_type": "stream",
     "text": [
      "100%|██████████| 12/12 [00:00<00:00, 37.71it/s]\n",
      " 33%|███▎      | 4/12 [00:00<00:00, 36.12it/s]"
     ]
    },
    {
     "name": "stdout",
     "output_type": "stream",
     "text": [
      "185: [Discriminator loss: 0.114156]  [GAN loss: 0.418164]\n",
      "Epoch 186\n"
     ]
    },
    {
     "name": "stderr",
     "output_type": "stream",
     "text": [
      "100%|██████████| 12/12 [00:00<00:00, 37.42it/s]\n",
      " 33%|███▎      | 4/12 [00:00<00:00, 37.30it/s]"
     ]
    },
    {
     "name": "stdout",
     "output_type": "stream",
     "text": [
      "186: [Discriminator loss: 0.120910]  [GAN loss: 0.431791]\n",
      "Epoch 187\n"
     ]
    },
    {
     "name": "stderr",
     "output_type": "stream",
     "text": [
      "100%|██████████| 12/12 [00:00<00:00, 37.53it/s]\n",
      " 33%|███▎      | 4/12 [00:00<00:00, 38.31it/s]"
     ]
    },
    {
     "name": "stdout",
     "output_type": "stream",
     "text": [
      "187: [Discriminator loss: 0.218204]  [GAN loss: 0.392941]\n",
      "Epoch 188\n"
     ]
    },
    {
     "name": "stderr",
     "output_type": "stream",
     "text": [
      "100%|██████████| 12/12 [00:00<00:00, 37.49it/s]\n",
      " 33%|███▎      | 4/12 [00:00<00:00, 38.73it/s]"
     ]
    },
    {
     "name": "stdout",
     "output_type": "stream",
     "text": [
      "188: [Discriminator loss: 0.231868]  [GAN loss: 0.379519]\n",
      "Epoch 189\n"
     ]
    },
    {
     "name": "stderr",
     "output_type": "stream",
     "text": [
      "100%|██████████| 12/12 [00:00<00:00, 37.42it/s]\n",
      " 33%|███▎      | 4/12 [00:00<00:00, 38.36it/s]"
     ]
    },
    {
     "name": "stdout",
     "output_type": "stream",
     "text": [
      "189: [Discriminator loss: 0.171199]  [GAN loss: 0.325075]\n",
      "Epoch 190\n"
     ]
    },
    {
     "name": "stderr",
     "output_type": "stream",
     "text": [
      "100%|██████████| 12/12 [00:00<00:00, 41.67it/s]\n",
      " 33%|███▎      | 4/12 [00:00<00:00, 37.68it/s]"
     ]
    },
    {
     "name": "stdout",
     "output_type": "stream",
     "text": [
      "190: [Discriminator loss: 0.156171]  [GAN loss: 0.467975]\n",
      "Epoch 191\n"
     ]
    },
    {
     "name": "stderr",
     "output_type": "stream",
     "text": [
      "100%|██████████| 12/12 [00:00<00:00, 36.37it/s]\n",
      " 33%|███▎      | 4/12 [00:00<00:00, 36.71it/s]"
     ]
    },
    {
     "name": "stdout",
     "output_type": "stream",
     "text": [
      "191: [Discriminator loss: 0.119724]  [GAN loss: 0.463900]\n",
      "Epoch 192\n"
     ]
    },
    {
     "name": "stderr",
     "output_type": "stream",
     "text": [
      "100%|██████████| 12/12 [00:00<00:00, 37.15it/s]\n",
      " 33%|███▎      | 4/12 [00:00<00:00, 36.65it/s]"
     ]
    },
    {
     "name": "stdout",
     "output_type": "stream",
     "text": [
      "192: [Discriminator loss: 0.142817]  [GAN loss: 0.408520]\n",
      "Epoch 193\n"
     ]
    },
    {
     "name": "stderr",
     "output_type": "stream",
     "text": [
      "100%|██████████| 12/12 [00:00<00:00, 36.86it/s]\n",
      " 33%|███▎      | 4/12 [00:00<00:00, 36.31it/s]"
     ]
    },
    {
     "name": "stdout",
     "output_type": "stream",
     "text": [
      "193: [Discriminator loss: 0.175367]  [GAN loss: 0.399649]\n",
      "Epoch 194\n"
     ]
    },
    {
     "name": "stderr",
     "output_type": "stream",
     "text": [
      "100%|██████████| 12/12 [00:00<00:00, 36.35it/s]\n",
      " 33%|███▎      | 4/12 [00:00<00:00, 37.17it/s]"
     ]
    },
    {
     "name": "stdout",
     "output_type": "stream",
     "text": [
      "194: [Discriminator loss: 0.157464]  [GAN loss: 0.439218]\n",
      "Epoch 195\n"
     ]
    },
    {
     "name": "stderr",
     "output_type": "stream",
     "text": [
      "100%|██████████| 12/12 [00:00<00:00, 36.94it/s]\n",
      " 33%|███▎      | 4/12 [00:00<00:00, 38.33it/s]"
     ]
    },
    {
     "name": "stdout",
     "output_type": "stream",
     "text": [
      "195: [Discriminator loss: 0.146271]  [GAN loss: 0.460651]\n",
      "Epoch 196\n"
     ]
    },
    {
     "name": "stderr",
     "output_type": "stream",
     "text": [
      "100%|██████████| 12/12 [00:00<00:00, 38.04it/s]\n",
      " 33%|███▎      | 4/12 [00:00<00:00, 38.28it/s]"
     ]
    },
    {
     "name": "stdout",
     "output_type": "stream",
     "text": [
      "196: [Discriminator loss: 0.129880]  [GAN loss: 0.389270]\n",
      "Epoch 197\n"
     ]
    },
    {
     "name": "stderr",
     "output_type": "stream",
     "text": [
      "100%|██████████| 12/12 [00:00<00:00, 37.96it/s]\n",
      " 33%|███▎      | 4/12 [00:00<00:00, 35.96it/s]"
     ]
    },
    {
     "name": "stdout",
     "output_type": "stream",
     "text": [
      "197: [Discriminator loss: 0.174652]  [GAN loss: 0.466768]\n",
      "Epoch 198\n"
     ]
    },
    {
     "name": "stderr",
     "output_type": "stream",
     "text": [
      "100%|██████████| 12/12 [00:00<00:00, 36.97it/s]\n",
      " 33%|███▎      | 4/12 [00:00<00:00, 39.19it/s]"
     ]
    },
    {
     "name": "stdout",
     "output_type": "stream",
     "text": [
      "198: [Discriminator loss: 0.127847]  [GAN loss: 0.410084]\n",
      "Epoch 199\n"
     ]
    },
    {
     "name": "stderr",
     "output_type": "stream",
     "text": [
      "100%|██████████| 12/12 [00:00<00:00, 37.22it/s]\n",
      " 33%|███▎      | 4/12 [00:00<00:00, 36.25it/s]"
     ]
    },
    {
     "name": "stdout",
     "output_type": "stream",
     "text": [
      "199: [Discriminator loss: 0.248290]  [GAN loss: 0.511868]\n",
      "Epoch 200\n"
     ]
    },
    {
     "name": "stderr",
     "output_type": "stream",
     "text": [
      "100%|██████████| 12/12 [00:00<00:00, 35.68it/s]\n",
      " 33%|███▎      | 4/12 [00:00<00:00, 38.72it/s]"
     ]
    },
    {
     "name": "stdout",
     "output_type": "stream",
     "text": [
      "200: [Discriminator loss: 0.208013]  [GAN loss: 0.462443]\n",
      "Epoch 201\n"
     ]
    },
    {
     "name": "stderr",
     "output_type": "stream",
     "text": [
      "100%|██████████| 12/12 [00:00<00:00, 38.39it/s]\n",
      " 33%|███▎      | 4/12 [00:00<00:00, 39.42it/s]"
     ]
    },
    {
     "name": "stdout",
     "output_type": "stream",
     "text": [
      "201: [Discriminator loss: 0.141813]  [GAN loss: 0.365128]\n",
      "Epoch 202\n"
     ]
    },
    {
     "name": "stderr",
     "output_type": "stream",
     "text": [
      "100%|██████████| 12/12 [00:00<00:00, 38.45it/s]\n",
      " 33%|███▎      | 4/12 [00:00<00:00, 39.16it/s]"
     ]
    },
    {
     "name": "stdout",
     "output_type": "stream",
     "text": [
      "202: [Discriminator loss: 0.182634]  [GAN loss: 0.468638]\n",
      "Epoch 203\n"
     ]
    },
    {
     "name": "stderr",
     "output_type": "stream",
     "text": [
      "100%|██████████| 12/12 [00:00<00:00, 37.27it/s]\n",
      " 33%|███▎      | 4/12 [00:00<00:00, 37.41it/s]"
     ]
    },
    {
     "name": "stdout",
     "output_type": "stream",
     "text": [
      "203: [Discriminator loss: 0.161655]  [GAN loss: 0.457975]\n",
      "Epoch 204\n"
     ]
    },
    {
     "name": "stderr",
     "output_type": "stream",
     "text": [
      "100%|██████████| 12/12 [00:00<00:00, 37.31it/s]\n",
      " 33%|███▎      | 4/12 [00:00<00:00, 37.91it/s]"
     ]
    },
    {
     "name": "stdout",
     "output_type": "stream",
     "text": [
      "204: [Discriminator loss: 0.169579]  [GAN loss: 0.436330]\n",
      "Epoch 205\n"
     ]
    },
    {
     "name": "stderr",
     "output_type": "stream",
     "text": [
      "100%|██████████| 12/12 [00:00<00:00, 37.80it/s]\n",
      " 33%|███▎      | 4/12 [00:00<00:00, 37.72it/s]"
     ]
    },
    {
     "name": "stdout",
     "output_type": "stream",
     "text": [
      "205: [Discriminator loss: 0.191114]  [GAN loss: 0.442219]\n",
      "Epoch 206\n"
     ]
    },
    {
     "name": "stderr",
     "output_type": "stream",
     "text": [
      "100%|██████████| 12/12 [00:00<00:00, 38.15it/s]\n",
      " 33%|███▎      | 4/12 [00:00<00:00, 36.27it/s]"
     ]
    },
    {
     "name": "stdout",
     "output_type": "stream",
     "text": [
      "206: [Discriminator loss: 0.100463]  [GAN loss: 0.500754]\n",
      "Epoch 207\n"
     ]
    },
    {
     "name": "stderr",
     "output_type": "stream",
     "text": [
      "100%|██████████| 12/12 [00:00<00:00, 36.63it/s]\n",
      " 33%|███▎      | 4/12 [00:00<00:00, 37.94it/s]"
     ]
    },
    {
     "name": "stdout",
     "output_type": "stream",
     "text": [
      "207: [Discriminator loss: 0.126247]  [GAN loss: 0.598943]\n",
      "Epoch 208\n"
     ]
    },
    {
     "name": "stderr",
     "output_type": "stream",
     "text": [
      "100%|██████████| 12/12 [00:00<00:00, 38.08it/s]\n",
      " 33%|███▎      | 4/12 [00:00<00:00, 38.34it/s]"
     ]
    },
    {
     "name": "stdout",
     "output_type": "stream",
     "text": [
      "208: [Discriminator loss: 0.217297]  [GAN loss: 0.466780]\n",
      "Epoch 209\n"
     ]
    },
    {
     "name": "stderr",
     "output_type": "stream",
     "text": [
      "100%|██████████| 12/12 [00:00<00:00, 37.88it/s]\n",
      " 33%|███▎      | 4/12 [00:00<00:00, 37.10it/s]"
     ]
    },
    {
     "name": "stdout",
     "output_type": "stream",
     "text": [
      "209: [Discriminator loss: 0.183482]  [GAN loss: 0.468262]\n",
      "Epoch 210\n"
     ]
    },
    {
     "name": "stderr",
     "output_type": "stream",
     "text": [
      "100%|██████████| 12/12 [00:00<00:00, 36.96it/s]\n",
      " 33%|███▎      | 4/12 [00:00<00:00, 36.52it/s]"
     ]
    },
    {
     "name": "stdout",
     "output_type": "stream",
     "text": [
      "210: [Discriminator loss: 0.110028]  [GAN loss: 0.462579]\n",
      "Epoch 211\n"
     ]
    },
    {
     "name": "stderr",
     "output_type": "stream",
     "text": [
      "100%|██████████| 12/12 [00:00<00:00, 37.39it/s]\n",
      " 33%|███▎      | 4/12 [00:00<00:00, 37.49it/s]"
     ]
    },
    {
     "name": "stdout",
     "output_type": "stream",
     "text": [
      "211: [Discriminator loss: 0.187882]  [GAN loss: 0.456203]\n",
      "Epoch 212\n"
     ]
    },
    {
     "name": "stderr",
     "output_type": "stream",
     "text": [
      "100%|██████████| 12/12 [00:00<00:00, 37.71it/s]\n",
      " 33%|███▎      | 4/12 [00:00<00:00, 37.79it/s]"
     ]
    },
    {
     "name": "stdout",
     "output_type": "stream",
     "text": [
      "212: [Discriminator loss: 0.104176]  [GAN loss: 0.588358]\n",
      "Epoch 213\n"
     ]
    },
    {
     "name": "stderr",
     "output_type": "stream",
     "text": [
      "100%|██████████| 12/12 [00:00<00:00, 37.96it/s]\n",
      " 33%|███▎      | 4/12 [00:00<00:00, 36.41it/s]"
     ]
    },
    {
     "name": "stdout",
     "output_type": "stream",
     "text": [
      "213: [Discriminator loss: 0.148289]  [GAN loss: 0.500425]\n",
      "Epoch 214\n"
     ]
    },
    {
     "name": "stderr",
     "output_type": "stream",
     "text": [
      "100%|██████████| 12/12 [00:00<00:00, 36.19it/s]\n",
      " 33%|███▎      | 4/12 [00:00<00:00, 36.65it/s]"
     ]
    },
    {
     "name": "stdout",
     "output_type": "stream",
     "text": [
      "214: [Discriminator loss: 0.221674]  [GAN loss: 0.536251]\n",
      "Epoch 215\n"
     ]
    },
    {
     "name": "stderr",
     "output_type": "stream",
     "text": [
      "100%|██████████| 12/12 [00:00<00:00, 37.14it/s]\n",
      " 33%|███▎      | 4/12 [00:00<00:00, 37.84it/s]"
     ]
    },
    {
     "name": "stdout",
     "output_type": "stream",
     "text": [
      "215: [Discriminator loss: 0.166705]  [GAN loss: 0.296826]\n",
      "Epoch 216\n"
     ]
    },
    {
     "name": "stderr",
     "output_type": "stream",
     "text": [
      "100%|██████████| 12/12 [00:00<00:00, 37.12it/s]\n",
      " 33%|███▎      | 4/12 [00:00<00:00, 38.87it/s]"
     ]
    },
    {
     "name": "stdout",
     "output_type": "stream",
     "text": [
      "216: [Discriminator loss: 0.130406]  [GAN loss: 0.526959]\n",
      "Epoch 217\n"
     ]
    },
    {
     "name": "stderr",
     "output_type": "stream",
     "text": [
      "100%|██████████| 12/12 [00:00<00:00, 38.13it/s]\n",
      " 25%|██▌       | 3/12 [00:00<00:00, 28.79it/s]"
     ]
    },
    {
     "name": "stdout",
     "output_type": "stream",
     "text": [
      "217: [Discriminator loss: 0.057013]  [GAN loss: 0.640500]\n",
      "Epoch 218\n"
     ]
    },
    {
     "name": "stderr",
     "output_type": "stream",
     "text": [
      "100%|██████████| 12/12 [00:00<00:00, 28.45it/s]\n",
      " 17%|█▋        | 2/12 [00:00<00:00, 16.35it/s]"
     ]
    },
    {
     "name": "stdout",
     "output_type": "stream",
     "text": [
      "218: [Discriminator loss: 0.089749]  [GAN loss: 0.531966]\n",
      "Epoch 219\n"
     ]
    },
    {
     "name": "stderr",
     "output_type": "stream",
     "text": [
      "100%|██████████| 12/12 [00:00<00:00, 21.69it/s]\n",
      " 25%|██▌       | 3/12 [00:00<00:00, 28.48it/s]"
     ]
    },
    {
     "name": "stdout",
     "output_type": "stream",
     "text": [
      "219: [Discriminator loss: 0.201049]  [GAN loss: 0.401035]\n",
      "Epoch 220\n"
     ]
    },
    {
     "name": "stderr",
     "output_type": "stream",
     "text": [
      "100%|██████████| 12/12 [00:00<00:00, 32.42it/s]\n",
      " 33%|███▎      | 4/12 [00:00<00:00, 36.98it/s]"
     ]
    },
    {
     "name": "stdout",
     "output_type": "stream",
     "text": [
      "220: [Discriminator loss: 0.186317]  [GAN loss: 0.430414]\n",
      "Epoch 221\n"
     ]
    },
    {
     "name": "stderr",
     "output_type": "stream",
     "text": [
      "100%|██████████| 12/12 [00:00<00:00, 37.08it/s]\n",
      " 33%|███▎      | 4/12 [00:00<00:00, 39.84it/s]"
     ]
    },
    {
     "name": "stdout",
     "output_type": "stream",
     "text": [
      "221: [Discriminator loss: 0.165750]  [GAN loss: 0.335282]\n",
      "Epoch 222\n"
     ]
    },
    {
     "name": "stderr",
     "output_type": "stream",
     "text": [
      "100%|██████████| 12/12 [00:00<00:00, 37.90it/s]\n",
      " 33%|███▎      | 4/12 [00:00<00:00, 35.85it/s]"
     ]
    },
    {
     "name": "stdout",
     "output_type": "stream",
     "text": [
      "222: [Discriminator loss: 0.132402]  [GAN loss: 0.461304]\n",
      "Epoch 223\n"
     ]
    },
    {
     "name": "stderr",
     "output_type": "stream",
     "text": [
      "100%|██████████| 12/12 [00:00<00:00, 35.77it/s]\n",
      " 33%|███▎      | 4/12 [00:00<00:00, 37.71it/s]"
     ]
    },
    {
     "name": "stdout",
     "output_type": "stream",
     "text": [
      "223: [Discriminator loss: 0.095821]  [GAN loss: 0.539406]\n",
      "Epoch 224\n"
     ]
    },
    {
     "name": "stderr",
     "output_type": "stream",
     "text": [
      "100%|██████████| 12/12 [00:00<00:00, 36.41it/s]\n",
      " 33%|███▎      | 4/12 [00:00<00:00, 36.98it/s]"
     ]
    },
    {
     "name": "stdout",
     "output_type": "stream",
     "text": [
      "224: [Discriminator loss: 0.092464]  [GAN loss: 0.413756]\n",
      "Epoch 225\n"
     ]
    },
    {
     "name": "stderr",
     "output_type": "stream",
     "text": [
      "100%|██████████| 12/12 [00:00<00:00, 36.50it/s]\n",
      " 33%|███▎      | 4/12 [00:00<00:00, 35.82it/s]"
     ]
    },
    {
     "name": "stdout",
     "output_type": "stream",
     "text": [
      "225: [Discriminator loss: 0.128975]  [GAN loss: 0.445001]\n",
      "Epoch 226\n"
     ]
    },
    {
     "name": "stderr",
     "output_type": "stream",
     "text": [
      "100%|██████████| 12/12 [00:00<00:00, 36.13it/s]\n",
      " 42%|████▏     | 5/12 [00:00<00:00, 40.30it/s]"
     ]
    },
    {
     "name": "stdout",
     "output_type": "stream",
     "text": [
      "226: [Discriminator loss: 0.206087]  [GAN loss: 0.340389]\n",
      "Epoch 227\n"
     ]
    },
    {
     "name": "stderr",
     "output_type": "stream",
     "text": [
      "100%|██████████| 12/12 [00:00<00:00, 37.03it/s]\n",
      " 33%|███▎      | 4/12 [00:00<00:00, 37.01it/s]"
     ]
    },
    {
     "name": "stdout",
     "output_type": "stream",
     "text": [
      "227: [Discriminator loss: 0.134564]  [GAN loss: 0.391670]\n",
      "Epoch 228\n"
     ]
    },
    {
     "name": "stderr",
     "output_type": "stream",
     "text": [
      "100%|██████████| 12/12 [00:00<00:00, 35.52it/s]\n",
      " 33%|███▎      | 4/12 [00:00<00:00, 38.45it/s]"
     ]
    },
    {
     "name": "stdout",
     "output_type": "stream",
     "text": [
      "228: [Discriminator loss: 0.188443]  [GAN loss: 0.548788]\n",
      "Epoch 229\n"
     ]
    },
    {
     "name": "stderr",
     "output_type": "stream",
     "text": [
      "100%|██████████| 12/12 [00:00<00:00, 38.33it/s]\n",
      " 25%|██▌       | 3/12 [00:00<00:00, 27.74it/s]"
     ]
    },
    {
     "name": "stdout",
     "output_type": "stream",
     "text": [
      "229: [Discriminator loss: 0.139722]  [GAN loss: 0.388005]\n",
      "Epoch 230\n"
     ]
    },
    {
     "name": "stderr",
     "output_type": "stream",
     "text": [
      "100%|██████████| 12/12 [00:00<00:00, 33.17it/s]\n",
      " 33%|███▎      | 4/12 [00:00<00:00, 37.12it/s]"
     ]
    },
    {
     "name": "stdout",
     "output_type": "stream",
     "text": [
      "230: [Discriminator loss: 0.279234]  [GAN loss: 0.455259]\n",
      "Epoch 231\n"
     ]
    },
    {
     "name": "stderr",
     "output_type": "stream",
     "text": [
      "100%|██████████| 12/12 [00:00<00:00, 37.18it/s]\n",
      " 33%|███▎      | 4/12 [00:00<00:00, 38.15it/s]"
     ]
    },
    {
     "name": "stdout",
     "output_type": "stream",
     "text": [
      "231: [Discriminator loss: 0.210825]  [GAN loss: 0.500345]\n",
      "Epoch 232\n"
     ]
    },
    {
     "name": "stderr",
     "output_type": "stream",
     "text": [
      "100%|██████████| 12/12 [00:00<00:00, 38.34it/s]\n",
      " 33%|███▎      | 4/12 [00:00<00:00, 35.87it/s]"
     ]
    },
    {
     "name": "stdout",
     "output_type": "stream",
     "text": [
      "232: [Discriminator loss: 0.147290]  [GAN loss: 0.576863]\n",
      "Epoch 233\n"
     ]
    },
    {
     "name": "stderr",
     "output_type": "stream",
     "text": [
      "100%|██████████| 12/12 [00:00<00:00, 36.04it/s]\n",
      " 33%|███▎      | 4/12 [00:00<00:00, 37.12it/s]"
     ]
    },
    {
     "name": "stdout",
     "output_type": "stream",
     "text": [
      "233: [Discriminator loss: 0.115393]  [GAN loss: 0.424850]\n",
      "Epoch 234\n"
     ]
    },
    {
     "name": "stderr",
     "output_type": "stream",
     "text": [
      "100%|██████████| 12/12 [00:00<00:00, 37.16it/s]\n",
      " 33%|███▎      | 4/12 [00:00<00:00, 37.63it/s]"
     ]
    },
    {
     "name": "stdout",
     "output_type": "stream",
     "text": [
      "234: [Discriminator loss: 0.196972]  [GAN loss: 0.483251]\n",
      "Epoch 235\n"
     ]
    },
    {
     "name": "stderr",
     "output_type": "stream",
     "text": [
      "100%|██████████| 12/12 [00:00<00:00, 37.56it/s]\n",
      " 33%|███▎      | 4/12 [00:00<00:00, 37.60it/s]"
     ]
    },
    {
     "name": "stdout",
     "output_type": "stream",
     "text": [
      "235: [Discriminator loss: 0.232708]  [GAN loss: 0.322797]\n",
      "Epoch 236\n"
     ]
    },
    {
     "name": "stderr",
     "output_type": "stream",
     "text": [
      "100%|██████████| 12/12 [00:00<00:00, 36.17it/s]\n",
      " 33%|███▎      | 4/12 [00:00<00:00, 36.21it/s]"
     ]
    },
    {
     "name": "stdout",
     "output_type": "stream",
     "text": [
      "236: [Discriminator loss: 0.116485]  [GAN loss: 0.324588]\n",
      "Epoch 237\n"
     ]
    },
    {
     "name": "stderr",
     "output_type": "stream",
     "text": [
      "100%|██████████| 12/12 [00:00<00:00, 32.43it/s]\n",
      " 25%|██▌       | 3/12 [00:00<00:00, 25.97it/s]"
     ]
    },
    {
     "name": "stdout",
     "output_type": "stream",
     "text": [
      "237: [Discriminator loss: 0.219197]  [GAN loss: 0.431166]\n",
      "Epoch 238\n"
     ]
    },
    {
     "name": "stderr",
     "output_type": "stream",
     "text": [
      "100%|██████████| 12/12 [00:00<00:00, 31.04it/s]\n",
      " 33%|███▎      | 4/12 [00:00<00:00, 38.30it/s]"
     ]
    },
    {
     "name": "stdout",
     "output_type": "stream",
     "text": [
      "238: [Discriminator loss: 0.125617]  [GAN loss: 0.315524]\n",
      "Epoch 239\n"
     ]
    },
    {
     "name": "stderr",
     "output_type": "stream",
     "text": [
      "100%|██████████| 12/12 [00:00<00:00, 37.23it/s]\n",
      " 33%|███▎      | 4/12 [00:00<00:00, 37.36it/s]"
     ]
    },
    {
     "name": "stdout",
     "output_type": "stream",
     "text": [
      "239: [Discriminator loss: 0.172309]  [GAN loss: 0.495707]\n",
      "Epoch 240\n"
     ]
    },
    {
     "name": "stderr",
     "output_type": "stream",
     "text": [
      "100%|██████████| 12/12 [00:00<00:00, 36.08it/s]\n",
      " 33%|███▎      | 4/12 [00:00<00:00, 35.73it/s]"
     ]
    },
    {
     "name": "stdout",
     "output_type": "stream",
     "text": [
      "240: [Discriminator loss: 0.150932]  [GAN loss: 0.420778]\n",
      "Epoch 241\n"
     ]
    },
    {
     "name": "stderr",
     "output_type": "stream",
     "text": [
      "100%|██████████| 12/12 [00:00<00:00, 36.79it/s]\n",
      " 33%|███▎      | 4/12 [00:00<00:00, 37.71it/s]"
     ]
    },
    {
     "name": "stdout",
     "output_type": "stream",
     "text": [
      "241: [Discriminator loss: 0.120226]  [GAN loss: 0.575740]\n",
      "Epoch 242\n"
     ]
    },
    {
     "name": "stderr",
     "output_type": "stream",
     "text": [
      "100%|██████████| 12/12 [00:00<00:00, 37.56it/s]\n",
      " 33%|███▎      | 4/12 [00:00<00:00, 39.08it/s]"
     ]
    },
    {
     "name": "stdout",
     "output_type": "stream",
     "text": [
      "242: [Discriminator loss: 0.182030]  [GAN loss: 0.411186]\n",
      "Epoch 243\n"
     ]
    },
    {
     "name": "stderr",
     "output_type": "stream",
     "text": [
      "100%|██████████| 12/12 [00:00<00:00, 38.28it/s]\n",
      " 33%|███▎      | 4/12 [00:00<00:00, 37.84it/s]"
     ]
    },
    {
     "name": "stdout",
     "output_type": "stream",
     "text": [
      "243: [Discriminator loss: 0.199016]  [GAN loss: 0.555742]\n",
      "Epoch 244\n"
     ]
    },
    {
     "name": "stderr",
     "output_type": "stream",
     "text": [
      "100%|██████████| 12/12 [00:00<00:00, 37.28it/s]\n",
      " 33%|███▎      | 4/12 [00:00<00:00, 34.52it/s]"
     ]
    },
    {
     "name": "stdout",
     "output_type": "stream",
     "text": [
      "244: [Discriminator loss: 0.149785]  [GAN loss: 0.406607]\n",
      "Epoch 245\n"
     ]
    },
    {
     "name": "stderr",
     "output_type": "stream",
     "text": [
      "100%|██████████| 12/12 [00:00<00:00, 36.10it/s]\n",
      " 33%|███▎      | 4/12 [00:00<00:00, 39.32it/s]"
     ]
    },
    {
     "name": "stdout",
     "output_type": "stream",
     "text": [
      "245: [Discriminator loss: 0.126495]  [GAN loss: 0.450657]\n",
      "Epoch 246\n"
     ]
    },
    {
     "name": "stderr",
     "output_type": "stream",
     "text": [
      "100%|██████████| 12/12 [00:00<00:00, 37.76it/s]\n",
      " 33%|███▎      | 4/12 [00:00<00:00, 38.26it/s]"
     ]
    },
    {
     "name": "stdout",
     "output_type": "stream",
     "text": [
      "246: [Discriminator loss: 0.130566]  [GAN loss: 0.399421]\n",
      "Epoch 247\n"
     ]
    },
    {
     "name": "stderr",
     "output_type": "stream",
     "text": [
      "100%|██████████| 12/12 [00:00<00:00, 37.48it/s]\n",
      " 33%|███▎      | 4/12 [00:00<00:00, 36.24it/s]"
     ]
    },
    {
     "name": "stdout",
     "output_type": "stream",
     "text": [
      "247: [Discriminator loss: 0.154777]  [GAN loss: 0.630496]\n",
      "Epoch 248\n"
     ]
    },
    {
     "name": "stderr",
     "output_type": "stream",
     "text": [
      "100%|██████████| 12/12 [00:00<00:00, 37.12it/s]\n",
      " 33%|███▎      | 4/12 [00:00<00:00, 37.19it/s]"
     ]
    },
    {
     "name": "stdout",
     "output_type": "stream",
     "text": [
      "248: [Discriminator loss: 0.180000]  [GAN loss: 0.384309]\n",
      "Epoch 249\n"
     ]
    },
    {
     "name": "stderr",
     "output_type": "stream",
     "text": [
      "100%|██████████| 12/12 [00:00<00:00, 37.17it/s]\n",
      " 33%|███▎      | 4/12 [00:00<00:00, 38.55it/s]"
     ]
    },
    {
     "name": "stdout",
     "output_type": "stream",
     "text": [
      "249: [Discriminator loss: 0.125334]  [GAN loss: 0.610645]\n",
      "Epoch 250\n"
     ]
    },
    {
     "name": "stderr",
     "output_type": "stream",
     "text": [
      "100%|██████████| 12/12 [00:00<00:00, 38.04it/s]\n",
      " 33%|███▎      | 4/12 [00:00<00:00, 35.32it/s]"
     ]
    },
    {
     "name": "stdout",
     "output_type": "stream",
     "text": [
      "250: [Discriminator loss: 0.138562]  [GAN loss: 0.331952]\n",
      "Epoch 251\n"
     ]
    },
    {
     "name": "stderr",
     "output_type": "stream",
     "text": [
      "100%|██████████| 12/12 [00:00<00:00, 35.78it/s]\n",
      " 33%|███▎      | 4/12 [00:00<00:00, 38.79it/s]"
     ]
    },
    {
     "name": "stdout",
     "output_type": "stream",
     "text": [
      "251: [Discriminator loss: 0.161025]  [GAN loss: 0.674066]\n",
      "Epoch 252\n"
     ]
    },
    {
     "name": "stderr",
     "output_type": "stream",
     "text": [
      "100%|██████████| 12/12 [00:00<00:00, 37.57it/s]\n",
      " 33%|███▎      | 4/12 [00:00<00:00, 38.55it/s]"
     ]
    },
    {
     "name": "stdout",
     "output_type": "stream",
     "text": [
      "252: [Discriminator loss: 0.132272]  [GAN loss: 0.271125]\n",
      "Epoch 253\n"
     ]
    },
    {
     "name": "stderr",
     "output_type": "stream",
     "text": [
      "100%|██████████| 12/12 [00:00<00:00, 37.59it/s]\n",
      " 33%|███▎      | 4/12 [00:00<00:00, 35.31it/s]"
     ]
    },
    {
     "name": "stdout",
     "output_type": "stream",
     "text": [
      "253: [Discriminator loss: 0.194823]  [GAN loss: 0.467227]\n",
      "Epoch 254\n"
     ]
    },
    {
     "name": "stderr",
     "output_type": "stream",
     "text": [
      "100%|██████████| 12/12 [00:00<00:00, 34.21it/s]\n",
      " 42%|████▏     | 5/12 [00:00<00:00, 43.14it/s]"
     ]
    },
    {
     "name": "stdout",
     "output_type": "stream",
     "text": [
      "254: [Discriminator loss: 0.189562]  [GAN loss: 0.371711]\n",
      "Epoch 255\n"
     ]
    },
    {
     "name": "stderr",
     "output_type": "stream",
     "text": [
      "100%|██████████| 12/12 [00:00<00:00, 38.84it/s]\n",
      " 33%|███▎      | 4/12 [00:00<00:00, 36.19it/s]"
     ]
    },
    {
     "name": "stdout",
     "output_type": "stream",
     "text": [
      "255: [Discriminator loss: 0.203399]  [GAN loss: 0.465609]\n",
      "Epoch 256\n"
     ]
    },
    {
     "name": "stderr",
     "output_type": "stream",
     "text": [
      "100%|██████████| 12/12 [00:00<00:00, 37.18it/s]\n",
      " 33%|███▎      | 4/12 [00:00<00:00, 34.45it/s]"
     ]
    },
    {
     "name": "stdout",
     "output_type": "stream",
     "text": [
      "256: [Discriminator loss: 0.225970]  [GAN loss: 0.485089]\n",
      "Epoch 257\n"
     ]
    },
    {
     "name": "stderr",
     "output_type": "stream",
     "text": [
      "100%|██████████| 12/12 [00:00<00:00, 35.74it/s]\n",
      " 33%|███▎      | 4/12 [00:00<00:00, 39.36it/s]"
     ]
    },
    {
     "name": "stdout",
     "output_type": "stream",
     "text": [
      "257: [Discriminator loss: 0.222502]  [GAN loss: 0.518060]\n",
      "Epoch 258\n"
     ]
    },
    {
     "name": "stderr",
     "output_type": "stream",
     "text": [
      "100%|██████████| 12/12 [00:00<00:00, 37.67it/s]\n",
      " 25%|██▌       | 3/12 [00:00<00:00, 28.26it/s]"
     ]
    },
    {
     "name": "stdout",
     "output_type": "stream",
     "text": [
      "258: [Discriminator loss: 0.127589]  [GAN loss: 0.509426]\n",
      "Epoch 259\n"
     ]
    },
    {
     "name": "stderr",
     "output_type": "stream",
     "text": [
      "100%|██████████| 12/12 [00:00<00:00, 28.73it/s]\n",
      " 33%|███▎      | 4/12 [00:00<00:00, 39.62it/s]"
     ]
    },
    {
     "name": "stdout",
     "output_type": "stream",
     "text": [
      "259: [Discriminator loss: 0.103137]  [GAN loss: 0.376026]\n",
      "Epoch 260\n"
     ]
    },
    {
     "name": "stderr",
     "output_type": "stream",
     "text": [
      "100%|██████████| 12/12 [00:00<00:00, 38.79it/s]\n",
      " 33%|███▎      | 4/12 [00:00<00:00, 36.82it/s]"
     ]
    },
    {
     "name": "stdout",
     "output_type": "stream",
     "text": [
      "260: [Discriminator loss: 0.186810]  [GAN loss: 0.342162]\n",
      "Epoch 261\n"
     ]
    },
    {
     "name": "stderr",
     "output_type": "stream",
     "text": [
      "100%|██████████| 12/12 [00:00<00:00, 33.72it/s]\n",
      " 33%|███▎      | 4/12 [00:00<00:00, 38.17it/s]"
     ]
    },
    {
     "name": "stdout",
     "output_type": "stream",
     "text": [
      "261: [Discriminator loss: 0.108958]  [GAN loss: 0.574512]\n",
      "Epoch 262\n"
     ]
    },
    {
     "name": "stderr",
     "output_type": "stream",
     "text": [
      "100%|██████████| 12/12 [00:00<00:00, 36.88it/s]\n",
      " 33%|███▎      | 4/12 [00:00<00:00, 38.85it/s]"
     ]
    },
    {
     "name": "stdout",
     "output_type": "stream",
     "text": [
      "262: [Discriminator loss: 0.161937]  [GAN loss: 0.410614]\n",
      "Epoch 263\n"
     ]
    },
    {
     "name": "stderr",
     "output_type": "stream",
     "text": [
      "100%|██████████| 12/12 [00:00<00:00, 36.89it/s]\n",
      " 33%|███▎      | 4/12 [00:00<00:00, 38.04it/s]"
     ]
    },
    {
     "name": "stdout",
     "output_type": "stream",
     "text": [
      "263: [Discriminator loss: 0.114918]  [GAN loss: 0.517893]\n",
      "Epoch 264\n"
     ]
    },
    {
     "name": "stderr",
     "output_type": "stream",
     "text": [
      "100%|██████████| 12/12 [00:00<00:00, 36.74it/s]\n",
      " 33%|███▎      | 4/12 [00:00<00:00, 35.66it/s]"
     ]
    },
    {
     "name": "stdout",
     "output_type": "stream",
     "text": [
      "264: [Discriminator loss: 0.106000]  [GAN loss: 0.468512]\n",
      "Epoch 265\n"
     ]
    },
    {
     "name": "stderr",
     "output_type": "stream",
     "text": [
      "100%|██████████| 12/12 [00:00<00:00, 36.64it/s]\n",
      " 33%|███▎      | 4/12 [00:00<00:00, 36.06it/s]"
     ]
    },
    {
     "name": "stdout",
     "output_type": "stream",
     "text": [
      "265: [Discriminator loss: 0.138226]  [GAN loss: 0.452863]\n",
      "Epoch 266\n"
     ]
    },
    {
     "name": "stderr",
     "output_type": "stream",
     "text": [
      "100%|██████████| 12/12 [00:00<00:00, 36.90it/s]\n",
      " 33%|███▎      | 4/12 [00:00<00:00, 38.29it/s]"
     ]
    },
    {
     "name": "stdout",
     "output_type": "stream",
     "text": [
      "266: [Discriminator loss: 0.189794]  [GAN loss: 0.381946]\n",
      "Epoch 267\n"
     ]
    },
    {
     "name": "stderr",
     "output_type": "stream",
     "text": [
      "100%|██████████| 12/12 [00:00<00:00, 37.58it/s]\n",
      " 33%|███▎      | 4/12 [00:00<00:00, 39.33it/s]"
     ]
    },
    {
     "name": "stdout",
     "output_type": "stream",
     "text": [
      "267: [Discriminator loss: 0.092136]  [GAN loss: 0.504709]\n",
      "Epoch 268\n"
     ]
    },
    {
     "name": "stderr",
     "output_type": "stream",
     "text": [
      "100%|██████████| 12/12 [00:00<00:00, 38.16it/s]\n",
      " 33%|███▎      | 4/12 [00:00<00:00, 36.35it/s]"
     ]
    },
    {
     "name": "stdout",
     "output_type": "stream",
     "text": [
      "268: [Discriminator loss: 0.124847]  [GAN loss: 0.341772]\n",
      "Epoch 269\n"
     ]
    },
    {
     "name": "stderr",
     "output_type": "stream",
     "text": [
      "100%|██████████| 12/12 [00:00<00:00, 37.58it/s]\n",
      " 33%|███▎      | 4/12 [00:00<00:00, 36.62it/s]"
     ]
    },
    {
     "name": "stdout",
     "output_type": "stream",
     "text": [
      "269: [Discriminator loss: 0.127174]  [GAN loss: 0.508922]\n",
      "Epoch 270\n"
     ]
    },
    {
     "name": "stderr",
     "output_type": "stream",
     "text": [
      "100%|██████████| 12/12 [00:00<00:00, 37.29it/s]\n",
      " 33%|███▎      | 4/12 [00:00<00:00, 32.67it/s]"
     ]
    },
    {
     "name": "stdout",
     "output_type": "stream",
     "text": [
      "270: [Discriminator loss: 0.132463]  [GAN loss: 0.428341]\n",
      "Epoch 271\n"
     ]
    },
    {
     "name": "stderr",
     "output_type": "stream",
     "text": [
      "100%|██████████| 12/12 [00:00<00:00, 35.28it/s]\n",
      " 33%|███▎      | 4/12 [00:00<00:00, 35.49it/s]"
     ]
    },
    {
     "name": "stdout",
     "output_type": "stream",
     "text": [
      "271: [Discriminator loss: 0.152791]  [GAN loss: 0.306277]\n",
      "Epoch 272\n"
     ]
    },
    {
     "name": "stderr",
     "output_type": "stream",
     "text": [
      "100%|██████████| 12/12 [00:00<00:00, 36.82it/s]\n",
      " 33%|███▎      | 4/12 [00:00<00:00, 37.15it/s]"
     ]
    },
    {
     "name": "stdout",
     "output_type": "stream",
     "text": [
      "272: [Discriminator loss: 0.191269]  [GAN loss: 0.556108]\n",
      "Epoch 273\n"
     ]
    },
    {
     "name": "stderr",
     "output_type": "stream",
     "text": [
      "100%|██████████| 12/12 [00:00<00:00, 36.94it/s]\n",
      " 17%|█▋        | 2/12 [00:00<00:00, 19.82it/s]"
     ]
    },
    {
     "name": "stdout",
     "output_type": "stream",
     "text": [
      "273: [Discriminator loss: 0.119326]  [GAN loss: 0.303588]\n",
      "Epoch 274\n"
     ]
    },
    {
     "name": "stderr",
     "output_type": "stream",
     "text": [
      "100%|██████████| 12/12 [00:00<00:00, 31.09it/s]\n",
      " 33%|███▎      | 4/12 [00:00<00:00, 38.52it/s]"
     ]
    },
    {
     "name": "stdout",
     "output_type": "stream",
     "text": [
      "274: [Discriminator loss: 0.170864]  [GAN loss: 0.526948]\n",
      "Epoch 275\n"
     ]
    },
    {
     "name": "stderr",
     "output_type": "stream",
     "text": [
      "100%|██████████| 12/12 [00:00<00:00, 37.85it/s]\n",
      " 33%|███▎      | 4/12 [00:00<00:00, 36.39it/s]"
     ]
    },
    {
     "name": "stdout",
     "output_type": "stream",
     "text": [
      "275: [Discriminator loss: 0.135724]  [GAN loss: 0.416136]\n",
      "Epoch 276\n"
     ]
    },
    {
     "name": "stderr",
     "output_type": "stream",
     "text": [
      "100%|██████████| 12/12 [00:00<00:00, 36.72it/s]\n",
      " 33%|███▎      | 4/12 [00:00<00:00, 35.65it/s]"
     ]
    },
    {
     "name": "stdout",
     "output_type": "stream",
     "text": [
      "276: [Discriminator loss: 0.104514]  [GAN loss: 0.306512]\n",
      "Epoch 277\n"
     ]
    },
    {
     "name": "stderr",
     "output_type": "stream",
     "text": [
      "100%|██████████| 12/12 [00:00<00:00, 35.99it/s]\n",
      " 33%|███▎      | 4/12 [00:00<00:00, 33.59it/s]"
     ]
    },
    {
     "name": "stdout",
     "output_type": "stream",
     "text": [
      "277: [Discriminator loss: 0.130280]  [GAN loss: 0.549797]\n",
      "Epoch 278\n"
     ]
    },
    {
     "name": "stderr",
     "output_type": "stream",
     "text": [
      "100%|██████████| 12/12 [00:00<00:00, 35.45it/s]\n",
      " 50%|█████     | 6/12 [00:00<00:00, 51.32it/s]"
     ]
    },
    {
     "name": "stdout",
     "output_type": "stream",
     "text": [
      "278: [Discriminator loss: 0.125933]  [GAN loss: 0.325181]\n",
      "Epoch 279\n"
     ]
    },
    {
     "name": "stderr",
     "output_type": "stream",
     "text": [
      "100%|██████████| 12/12 [00:00<00:00, 41.36it/s]\n",
      " 25%|██▌       | 3/12 [00:00<00:00, 29.63it/s]"
     ]
    },
    {
     "name": "stdout",
     "output_type": "stream",
     "text": [
      "279: [Discriminator loss: 0.131649]  [GAN loss: 0.588496]\n",
      "Epoch 280\n"
     ]
    },
    {
     "name": "stderr",
     "output_type": "stream",
     "text": [
      "100%|██████████| 12/12 [00:00<00:00, 33.52it/s]\n",
      " 33%|███▎      | 4/12 [00:00<00:00, 35.51it/s]"
     ]
    },
    {
     "name": "stdout",
     "output_type": "stream",
     "text": [
      "280: [Discriminator loss: 0.140395]  [GAN loss: 0.334791]\n",
      "Epoch 281\n"
     ]
    },
    {
     "name": "stderr",
     "output_type": "stream",
     "text": [
      "100%|██████████| 12/12 [00:00<00:00, 36.29it/s]\n",
      " 33%|███▎      | 4/12 [00:00<00:00, 37.17it/s]"
     ]
    },
    {
     "name": "stdout",
     "output_type": "stream",
     "text": [
      "281: [Discriminator loss: 0.083649]  [GAN loss: 0.689107]\n",
      "Epoch 282\n"
     ]
    },
    {
     "name": "stderr",
     "output_type": "stream",
     "text": [
      "100%|██████████| 12/12 [00:00<00:00, 36.72it/s]\n",
      " 33%|███▎      | 4/12 [00:00<00:00, 37.47it/s]"
     ]
    },
    {
     "name": "stdout",
     "output_type": "stream",
     "text": [
      "282: [Discriminator loss: 0.213049]  [GAN loss: 0.595745]\n",
      "Epoch 283\n"
     ]
    },
    {
     "name": "stderr",
     "output_type": "stream",
     "text": [
      "100%|██████████| 12/12 [00:00<00:00, 37.63it/s]\n",
      " 33%|███▎      | 4/12 [00:00<00:00, 37.51it/s]"
     ]
    },
    {
     "name": "stdout",
     "output_type": "stream",
     "text": [
      "283: [Discriminator loss: 0.172157]  [GAN loss: 0.477611]\n",
      "Epoch 284\n"
     ]
    },
    {
     "name": "stderr",
     "output_type": "stream",
     "text": [
      "100%|██████████| 12/12 [00:00<00:00, 37.98it/s]\n",
      " 25%|██▌       | 3/12 [00:00<00:00, 22.04it/s]"
     ]
    },
    {
     "name": "stdout",
     "output_type": "stream",
     "text": [
      "284: [Discriminator loss: 0.073215]  [GAN loss: 0.674759]\n",
      "Epoch 285\n"
     ]
    },
    {
     "name": "stderr",
     "output_type": "stream",
     "text": [
      "100%|██████████| 12/12 [00:00<00:00, 27.43it/s]\n",
      " 25%|██▌       | 3/12 [00:00<00:00, 25.12it/s]"
     ]
    },
    {
     "name": "stdout",
     "output_type": "stream",
     "text": [
      "285: [Discriminator loss: 0.164897]  [GAN loss: 0.359934]\n",
      "Epoch 286\n"
     ]
    },
    {
     "name": "stderr",
     "output_type": "stream",
     "text": [
      "100%|██████████| 12/12 [00:00<00:00, 26.00it/s]\n",
      " 33%|███▎      | 4/12 [00:00<00:00, 34.60it/s]"
     ]
    },
    {
     "name": "stdout",
     "output_type": "stream",
     "text": [
      "286: [Discriminator loss: 0.115496]  [GAN loss: 0.536942]\n",
      "Epoch 287\n"
     ]
    },
    {
     "name": "stderr",
     "output_type": "stream",
     "text": [
      "100%|██████████| 12/12 [00:00<00:00, 35.30it/s]\n",
      " 33%|███▎      | 4/12 [00:00<00:00, 36.76it/s]"
     ]
    },
    {
     "name": "stdout",
     "output_type": "stream",
     "text": [
      "287: [Discriminator loss: 0.081666]  [GAN loss: 0.489672]\n",
      "Epoch 288\n"
     ]
    },
    {
     "name": "stderr",
     "output_type": "stream",
     "text": [
      "100%|██████████| 12/12 [00:00<00:00, 36.13it/s]\n",
      " 33%|███▎      | 4/12 [00:00<00:00, 35.47it/s]"
     ]
    },
    {
     "name": "stdout",
     "output_type": "stream",
     "text": [
      "288: [Discriminator loss: 0.104470]  [GAN loss: 0.876506]\n",
      "Epoch 289\n"
     ]
    },
    {
     "name": "stderr",
     "output_type": "stream",
     "text": [
      "100%|██████████| 12/12 [00:00<00:00, 36.25it/s]\n",
      " 33%|███▎      | 4/12 [00:00<00:00, 34.05it/s]"
     ]
    },
    {
     "name": "stdout",
     "output_type": "stream",
     "text": [
      "289: [Discriminator loss: 0.161977]  [GAN loss: 0.590207]\n",
      "Epoch 290\n"
     ]
    },
    {
     "name": "stderr",
     "output_type": "stream",
     "text": [
      "100%|██████████| 12/12 [00:00<00:00, 36.00it/s]\n",
      " 33%|███▎      | 4/12 [00:00<00:00, 32.75it/s]"
     ]
    },
    {
     "name": "stdout",
     "output_type": "stream",
     "text": [
      "290: [Discriminator loss: 0.263949]  [GAN loss: 0.667978]\n",
      "Epoch 291\n"
     ]
    },
    {
     "name": "stderr",
     "output_type": "stream",
     "text": [
      "100%|██████████| 12/12 [00:00<00:00, 33.98it/s]\n",
      " 33%|███▎      | 4/12 [00:00<00:00, 36.44it/s]"
     ]
    },
    {
     "name": "stdout",
     "output_type": "stream",
     "text": [
      "291: [Discriminator loss: 0.116657]  [GAN loss: 0.518172]\n",
      "Epoch 292\n"
     ]
    },
    {
     "name": "stderr",
     "output_type": "stream",
     "text": [
      "100%|██████████| 12/12 [00:00<00:00, 30.60it/s]\n",
      " 33%|███▎      | 4/12 [00:00<00:00, 37.17it/s]"
     ]
    },
    {
     "name": "stdout",
     "output_type": "stream",
     "text": [
      "292: [Discriminator loss: 0.097200]  [GAN loss: 0.582254]\n",
      "Epoch 293\n"
     ]
    },
    {
     "name": "stderr",
     "output_type": "stream",
     "text": [
      "100%|██████████| 12/12 [00:00<00:00, 37.03it/s]\n",
      " 33%|███▎      | 4/12 [00:00<00:00, 38.00it/s]"
     ]
    },
    {
     "name": "stdout",
     "output_type": "stream",
     "text": [
      "293: [Discriminator loss: 0.076201]  [GAN loss: 0.612762]\n",
      "Epoch 294\n"
     ]
    },
    {
     "name": "stderr",
     "output_type": "stream",
     "text": [
      "100%|██████████| 12/12 [00:00<00:00, 37.69it/s]\n",
      " 33%|███▎      | 4/12 [00:00<00:00, 37.24it/s]"
     ]
    },
    {
     "name": "stdout",
     "output_type": "stream",
     "text": [
      "294: [Discriminator loss: 0.135139]  [GAN loss: 0.421816]\n",
      "Epoch 295\n"
     ]
    },
    {
     "name": "stderr",
     "output_type": "stream",
     "text": [
      "100%|██████████| 12/12 [00:00<00:00, 36.21it/s]\n",
      " 33%|███▎      | 4/12 [00:00<00:00, 37.60it/s]"
     ]
    },
    {
     "name": "stdout",
     "output_type": "stream",
     "text": [
      "295: [Discriminator loss: 0.157233]  [GAN loss: 0.493354]\n",
      "Epoch 296\n"
     ]
    },
    {
     "name": "stderr",
     "output_type": "stream",
     "text": [
      "100%|██████████| 12/12 [00:00<00:00, 37.04it/s]\n",
      " 33%|███▎      | 4/12 [00:00<00:00, 37.06it/s]"
     ]
    },
    {
     "name": "stdout",
     "output_type": "stream",
     "text": [
      "296: [Discriminator loss: 0.176058]  [GAN loss: 0.364340]\n",
      "Epoch 297\n"
     ]
    },
    {
     "name": "stderr",
     "output_type": "stream",
     "text": [
      "100%|██████████| 12/12 [00:00<00:00, 36.58it/s]\n",
      " 33%|███▎      | 4/12 [00:00<00:00, 37.87it/s]"
     ]
    },
    {
     "name": "stdout",
     "output_type": "stream",
     "text": [
      "297: [Discriminator loss: 0.111050]  [GAN loss: 0.642240]\n",
      "Epoch 298\n"
     ]
    },
    {
     "name": "stderr",
     "output_type": "stream",
     "text": [
      "100%|██████████| 12/12 [00:00<00:00, 37.64it/s]\n",
      " 33%|███▎      | 4/12 [00:00<00:00, 38.79it/s]"
     ]
    },
    {
     "name": "stdout",
     "output_type": "stream",
     "text": [
      "298: [Discriminator loss: 0.200009]  [GAN loss: 0.678752]\n",
      "Epoch 299\n"
     ]
    },
    {
     "name": "stderr",
     "output_type": "stream",
     "text": [
      "100%|██████████| 12/12 [00:00<00:00, 37.57it/s]\n",
      " 33%|███▎      | 4/12 [00:00<00:00, 34.53it/s]"
     ]
    },
    {
     "name": "stdout",
     "output_type": "stream",
     "text": [
      "299: [Discriminator loss: 0.073978]  [GAN loss: 0.496024]\n",
      "Epoch 300\n"
     ]
    },
    {
     "name": "stderr",
     "output_type": "stream",
     "text": [
      "100%|██████████| 12/12 [00:00<00:00, 35.91it/s]\n",
      " 33%|███▎      | 4/12 [00:00<00:00, 37.29it/s]"
     ]
    },
    {
     "name": "stdout",
     "output_type": "stream",
     "text": [
      "300: [Discriminator loss: 0.104714]  [GAN loss: 0.289920]\n",
      "Epoch 301\n"
     ]
    },
    {
     "name": "stderr",
     "output_type": "stream",
     "text": [
      "100%|██████████| 12/12 [00:00<00:00, 37.18it/s]\n",
      " 33%|███▎      | 4/12 [00:00<00:00, 36.63it/s]"
     ]
    },
    {
     "name": "stdout",
     "output_type": "stream",
     "text": [
      "301: [Discriminator loss: 0.162472]  [GAN loss: 0.464228]\n",
      "Epoch 302\n"
     ]
    },
    {
     "name": "stderr",
     "output_type": "stream",
     "text": [
      "100%|██████████| 12/12 [00:00<00:00, 36.58it/s]\n",
      " 33%|███▎      | 4/12 [00:00<00:00, 35.71it/s]"
     ]
    },
    {
     "name": "stdout",
     "output_type": "stream",
     "text": [
      "302: [Discriminator loss: 0.182551]  [GAN loss: 0.458074]\n",
      "Epoch 303\n"
     ]
    },
    {
     "name": "stderr",
     "output_type": "stream",
     "text": [
      "100%|██████████| 12/12 [00:00<00:00, 35.96it/s]\n",
      " 33%|███▎      | 4/12 [00:00<00:00, 38.04it/s]"
     ]
    },
    {
     "name": "stdout",
     "output_type": "stream",
     "text": [
      "303: [Discriminator loss: 0.150249]  [GAN loss: 0.281500]\n",
      "Epoch 304\n"
     ]
    },
    {
     "name": "stderr",
     "output_type": "stream",
     "text": [
      "100%|██████████| 12/12 [00:00<00:00, 37.20it/s]\n",
      " 33%|███▎      | 4/12 [00:00<00:00, 36.60it/s]"
     ]
    },
    {
     "name": "stdout",
     "output_type": "stream",
     "text": [
      "304: [Discriminator loss: 0.107001]  [GAN loss: 0.367805]\n",
      "Epoch 305\n"
     ]
    },
    {
     "name": "stderr",
     "output_type": "stream",
     "text": [
      "100%|██████████| 12/12 [00:00<00:00, 36.98it/s]\n",
      " 33%|███▎      | 4/12 [00:00<00:00, 38.40it/s]"
     ]
    },
    {
     "name": "stdout",
     "output_type": "stream",
     "text": [
      "305: [Discriminator loss: 0.126688]  [GAN loss: 0.551525]\n",
      "Epoch 306\n"
     ]
    },
    {
     "name": "stderr",
     "output_type": "stream",
     "text": [
      "100%|██████████| 12/12 [00:00<00:00, 37.58it/s]\n",
      " 33%|███▎      | 4/12 [00:00<00:00, 37.35it/s]"
     ]
    },
    {
     "name": "stdout",
     "output_type": "stream",
     "text": [
      "306: [Discriminator loss: 0.159132]  [GAN loss: 0.511335]\n",
      "Epoch 307\n"
     ]
    },
    {
     "name": "stderr",
     "output_type": "stream",
     "text": [
      "100%|██████████| 12/12 [00:00<00:00, 37.34it/s]\n",
      " 33%|███▎      | 4/12 [00:00<00:00, 37.40it/s]"
     ]
    },
    {
     "name": "stdout",
     "output_type": "stream",
     "text": [
      "307: [Discriminator loss: 0.182915]  [GAN loss: 0.297530]\n",
      "Epoch 308\n"
     ]
    },
    {
     "name": "stderr",
     "output_type": "stream",
     "text": [
      "100%|██████████| 12/12 [00:00<00:00, 36.97it/s]\n",
      " 33%|███▎      | 4/12 [00:00<00:00, 37.46it/s]"
     ]
    },
    {
     "name": "stdout",
     "output_type": "stream",
     "text": [
      "308: [Discriminator loss: 0.187656]  [GAN loss: 0.424168]\n",
      "Epoch 309\n"
     ]
    },
    {
     "name": "stderr",
     "output_type": "stream",
     "text": [
      "100%|██████████| 12/12 [00:00<00:00, 36.63it/s]\n",
      " 33%|███▎      | 4/12 [00:00<00:00, 37.36it/s]"
     ]
    },
    {
     "name": "stdout",
     "output_type": "stream",
     "text": [
      "309: [Discriminator loss: 0.123169]  [GAN loss: 0.452779]\n",
      "Epoch 310\n"
     ]
    },
    {
     "name": "stderr",
     "output_type": "stream",
     "text": [
      "100%|██████████| 12/12 [00:00<00:00, 37.34it/s]\n",
      " 33%|███▎      | 4/12 [00:00<00:00, 36.92it/s]"
     ]
    },
    {
     "name": "stdout",
     "output_type": "stream",
     "text": [
      "310: [Discriminator loss: 0.156908]  [GAN loss: 0.540157]\n",
      "Epoch 311\n"
     ]
    },
    {
     "name": "stderr",
     "output_type": "stream",
     "text": [
      "100%|██████████| 12/12 [00:00<00:00, 37.54it/s]\n",
      " 33%|███▎      | 4/12 [00:00<00:00, 37.34it/s]"
     ]
    },
    {
     "name": "stdout",
     "output_type": "stream",
     "text": [
      "311: [Discriminator loss: 0.184500]  [GAN loss: 0.568728]\n",
      "Epoch 312\n"
     ]
    },
    {
     "name": "stderr",
     "output_type": "stream",
     "text": [
      "100%|██████████| 12/12 [00:00<00:00, 36.88it/s]\n",
      " 33%|███▎      | 4/12 [00:00<00:00, 38.60it/s]"
     ]
    },
    {
     "name": "stdout",
     "output_type": "stream",
     "text": [
      "312: [Discriminator loss: 0.176023]  [GAN loss: 0.325373]\n",
      "Epoch 313\n"
     ]
    },
    {
     "name": "stderr",
     "output_type": "stream",
     "text": [
      "100%|██████████| 12/12 [00:00<00:00, 37.81it/s]\n",
      " 33%|███▎      | 4/12 [00:00<00:00, 36.94it/s]"
     ]
    },
    {
     "name": "stdout",
     "output_type": "stream",
     "text": [
      "313: [Discriminator loss: 0.210944]  [GAN loss: 0.538957]\n",
      "Epoch 314\n"
     ]
    },
    {
     "name": "stderr",
     "output_type": "stream",
     "text": [
      "100%|██████████| 12/12 [00:00<00:00, 35.70it/s]\n",
      " 33%|███▎      | 4/12 [00:00<00:00, 38.12it/s]"
     ]
    },
    {
     "name": "stdout",
     "output_type": "stream",
     "text": [
      "314: [Discriminator loss: 0.161288]  [GAN loss: 0.189414]\n",
      "Epoch 315\n"
     ]
    },
    {
     "name": "stderr",
     "output_type": "stream",
     "text": [
      "100%|██████████| 12/12 [00:00<00:00, 36.68it/s]\n",
      " 33%|███▎      | 4/12 [00:00<00:00, 38.06it/s]"
     ]
    },
    {
     "name": "stdout",
     "output_type": "stream",
     "text": [
      "315: [Discriminator loss: 0.135959]  [GAN loss: 0.280064]\n",
      "Epoch 316\n"
     ]
    },
    {
     "name": "stderr",
     "output_type": "stream",
     "text": [
      "100%|██████████| 12/12 [00:00<00:00, 37.42it/s]\n",
      " 33%|███▎      | 4/12 [00:00<00:00, 38.48it/s]"
     ]
    },
    {
     "name": "stdout",
     "output_type": "stream",
     "text": [
      "316: [Discriminator loss: 0.132153]  [GAN loss: 0.467982]\n",
      "Epoch 317\n"
     ]
    },
    {
     "name": "stderr",
     "output_type": "stream",
     "text": [
      "100%|██████████| 12/12 [00:00<00:00, 37.42it/s]\n",
      " 33%|███▎      | 4/12 [00:00<00:00, 36.83it/s]"
     ]
    },
    {
     "name": "stdout",
     "output_type": "stream",
     "text": [
      "317: [Discriminator loss: 0.172523]  [GAN loss: 0.585008]\n",
      "Epoch 318\n"
     ]
    },
    {
     "name": "stderr",
     "output_type": "stream",
     "text": [
      "100%|██████████| 12/12 [00:00<00:00, 36.80it/s]\n",
      " 33%|███▎      | 4/12 [00:00<00:00, 37.48it/s]"
     ]
    },
    {
     "name": "stdout",
     "output_type": "stream",
     "text": [
      "318: [Discriminator loss: 0.095171]  [GAN loss: 0.396822]\n",
      "Epoch 319\n"
     ]
    },
    {
     "name": "stderr",
     "output_type": "stream",
     "text": [
      "100%|██████████| 12/12 [00:00<00:00, 37.41it/s]\n",
      " 33%|███▎      | 4/12 [00:00<00:00, 38.62it/s]"
     ]
    },
    {
     "name": "stdout",
     "output_type": "stream",
     "text": [
      "319: [Discriminator loss: 0.162946]  [GAN loss: 0.487013]\n",
      "Epoch 320\n"
     ]
    },
    {
     "name": "stderr",
     "output_type": "stream",
     "text": [
      "100%|██████████| 12/12 [00:00<00:00, 38.09it/s]\n",
      " 33%|███▎      | 4/12 [00:00<00:00, 38.05it/s]"
     ]
    },
    {
     "name": "stdout",
     "output_type": "stream",
     "text": [
      "320: [Discriminator loss: 0.173016]  [GAN loss: 0.492578]\n",
      "Epoch 321\n"
     ]
    },
    {
     "name": "stderr",
     "output_type": "stream",
     "text": [
      "100%|██████████| 12/12 [00:00<00:00, 37.26it/s]\n",
      " 33%|███▎      | 4/12 [00:00<00:00, 37.41it/s]"
     ]
    },
    {
     "name": "stdout",
     "output_type": "stream",
     "text": [
      "321: [Discriminator loss: 0.121706]  [GAN loss: 0.500388]\n",
      "Epoch 322\n"
     ]
    },
    {
     "name": "stderr",
     "output_type": "stream",
     "text": [
      "100%|██████████| 12/12 [00:00<00:00, 37.09it/s]\n",
      " 33%|███▎      | 4/12 [00:00<00:00, 36.73it/s]"
     ]
    },
    {
     "name": "stdout",
     "output_type": "stream",
     "text": [
      "322: [Discriminator loss: 0.198503]  [GAN loss: 0.281020]\n",
      "Epoch 323\n"
     ]
    },
    {
     "name": "stderr",
     "output_type": "stream",
     "text": [
      "100%|██████████| 12/12 [00:00<00:00, 37.02it/s]\n",
      " 33%|███▎      | 4/12 [00:00<00:00, 37.23it/s]"
     ]
    },
    {
     "name": "stdout",
     "output_type": "stream",
     "text": [
      "323: [Discriminator loss: 0.143637]  [GAN loss: 0.538129]\n",
      "Epoch 324\n"
     ]
    },
    {
     "name": "stderr",
     "output_type": "stream",
     "text": [
      "100%|██████████| 12/12 [00:00<00:00, 37.23it/s]\n",
      " 33%|███▎      | 4/12 [00:00<00:00, 35.30it/s]"
     ]
    },
    {
     "name": "stdout",
     "output_type": "stream",
     "text": [
      "324: [Discriminator loss: 0.158615]  [GAN loss: 0.429348]\n",
      "Epoch 325\n"
     ]
    },
    {
     "name": "stderr",
     "output_type": "stream",
     "text": [
      "100%|██████████| 12/12 [00:00<00:00, 35.96it/s]\n",
      " 33%|███▎      | 4/12 [00:00<00:00, 37.53it/s]"
     ]
    },
    {
     "name": "stdout",
     "output_type": "stream",
     "text": [
      "325: [Discriminator loss: 0.079941]  [GAN loss: 0.435171]\n",
      "Epoch 326\n"
     ]
    },
    {
     "name": "stderr",
     "output_type": "stream",
     "text": [
      "100%|██████████| 12/12 [00:00<00:00, 37.51it/s]\n",
      " 33%|███▎      | 4/12 [00:00<00:00, 37.79it/s]"
     ]
    },
    {
     "name": "stdout",
     "output_type": "stream",
     "text": [
      "326: [Discriminator loss: 0.149800]  [GAN loss: 0.432131]\n",
      "Epoch 327\n"
     ]
    },
    {
     "name": "stderr",
     "output_type": "stream",
     "text": [
      "100%|██████████| 12/12 [00:00<00:00, 37.14it/s]\n",
      " 33%|███▎      | 4/12 [00:00<00:00, 38.20it/s]"
     ]
    },
    {
     "name": "stdout",
     "output_type": "stream",
     "text": [
      "327: [Discriminator loss: 0.165137]  [GAN loss: 0.426920]\n",
      "Epoch 328\n"
     ]
    },
    {
     "name": "stderr",
     "output_type": "stream",
     "text": [
      "100%|██████████| 12/12 [00:00<00:00, 37.47it/s]\n",
      " 33%|███▎      | 4/12 [00:00<00:00, 33.57it/s]"
     ]
    },
    {
     "name": "stdout",
     "output_type": "stream",
     "text": [
      "328: [Discriminator loss: 0.188020]  [GAN loss: 0.449337]\n",
      "Epoch 329\n"
     ]
    },
    {
     "name": "stderr",
     "output_type": "stream",
     "text": [
      "100%|██████████| 12/12 [00:00<00:00, 35.50it/s]\n",
      " 33%|███▎      | 4/12 [00:00<00:00, 38.13it/s]"
     ]
    },
    {
     "name": "stdout",
     "output_type": "stream",
     "text": [
      "329: [Discriminator loss: 0.135573]  [GAN loss: 0.526086]\n",
      "Epoch 330\n"
     ]
    },
    {
     "name": "stderr",
     "output_type": "stream",
     "text": [
      "100%|██████████| 12/12 [00:00<00:00, 37.32it/s]\n",
      " 33%|███▎      | 4/12 [00:00<00:00, 36.97it/s]"
     ]
    },
    {
     "name": "stdout",
     "output_type": "stream",
     "text": [
      "330: [Discriminator loss: 0.142130]  [GAN loss: 0.393810]\n",
      "Epoch 331\n"
     ]
    },
    {
     "name": "stderr",
     "output_type": "stream",
     "text": [
      "100%|██████████| 12/12 [00:00<00:00, 37.40it/s]\n",
      " 33%|███▎      | 4/12 [00:00<00:00, 37.83it/s]"
     ]
    },
    {
     "name": "stdout",
     "output_type": "stream",
     "text": [
      "331: [Discriminator loss: 0.092294]  [GAN loss: 0.406660]\n",
      "Epoch 332\n"
     ]
    },
    {
     "name": "stderr",
     "output_type": "stream",
     "text": [
      "100%|██████████| 12/12 [00:00<00:00, 37.54it/s]\n",
      " 33%|███▎      | 4/12 [00:00<00:00, 36.96it/s]"
     ]
    },
    {
     "name": "stdout",
     "output_type": "stream",
     "text": [
      "332: [Discriminator loss: 0.108353]  [GAN loss: 0.386390]\n",
      "Epoch 333\n"
     ]
    },
    {
     "name": "stderr",
     "output_type": "stream",
     "text": [
      "100%|██████████| 12/12 [00:00<00:00, 36.98it/s]\n",
      " 33%|███▎      | 4/12 [00:00<00:00, 36.79it/s]"
     ]
    },
    {
     "name": "stdout",
     "output_type": "stream",
     "text": [
      "333: [Discriminator loss: 0.123976]  [GAN loss: 0.514863]\n",
      "Epoch 334\n"
     ]
    },
    {
     "name": "stderr",
     "output_type": "stream",
     "text": [
      "100%|██████████| 12/12 [00:00<00:00, 36.83it/s]\n",
      " 33%|███▎      | 4/12 [00:00<00:00, 38.25it/s]"
     ]
    },
    {
     "name": "stdout",
     "output_type": "stream",
     "text": [
      "334: [Discriminator loss: 0.180667]  [GAN loss: 0.514632]\n",
      "Epoch 335\n"
     ]
    },
    {
     "name": "stderr",
     "output_type": "stream",
     "text": [
      "100%|██████████| 12/12 [00:00<00:00, 36.82it/s]\n",
      " 33%|███▎      | 4/12 [00:00<00:00, 35.64it/s]"
     ]
    },
    {
     "name": "stdout",
     "output_type": "stream",
     "text": [
      "335: [Discriminator loss: 0.214625]  [GAN loss: 0.497203]\n",
      "Epoch 336\n"
     ]
    },
    {
     "name": "stderr",
     "output_type": "stream",
     "text": [
      "100%|██████████| 12/12 [00:00<00:00, 36.14it/s]\n",
      " 33%|███▎      | 4/12 [00:00<00:00, 37.09it/s]"
     ]
    },
    {
     "name": "stdout",
     "output_type": "stream",
     "text": [
      "336: [Discriminator loss: 0.124163]  [GAN loss: 0.412970]\n",
      "Epoch 337\n"
     ]
    },
    {
     "name": "stderr",
     "output_type": "stream",
     "text": [
      "100%|██████████| 12/12 [00:00<00:00, 37.32it/s]\n",
      " 33%|███▎      | 4/12 [00:00<00:00, 36.54it/s]"
     ]
    },
    {
     "name": "stdout",
     "output_type": "stream",
     "text": [
      "337: [Discriminator loss: 0.060388]  [GAN loss: 0.551064]\n",
      "Epoch 338\n"
     ]
    },
    {
     "name": "stderr",
     "output_type": "stream",
     "text": [
      "100%|██████████| 12/12 [00:00<00:00, 36.98it/s]\n",
      " 33%|███▎      | 4/12 [00:00<00:00, 38.60it/s]"
     ]
    },
    {
     "name": "stdout",
     "output_type": "stream",
     "text": [
      "338: [Discriminator loss: 0.171712]  [GAN loss: 0.411696]\n",
      "Epoch 339\n"
     ]
    },
    {
     "name": "stderr",
     "output_type": "stream",
     "text": [
      "100%|██████████| 12/12 [00:00<00:00, 37.79it/s]\n",
      " 33%|███▎      | 4/12 [00:00<00:00, 37.45it/s]"
     ]
    },
    {
     "name": "stdout",
     "output_type": "stream",
     "text": [
      "339: [Discriminator loss: 0.124022]  [GAN loss: 0.542991]\n",
      "Epoch 340\n"
     ]
    },
    {
     "name": "stderr",
     "output_type": "stream",
     "text": [
      "100%|██████████| 12/12 [00:00<00:00, 37.71it/s]\n",
      " 33%|███▎      | 4/12 [00:00<00:00, 37.94it/s]"
     ]
    },
    {
     "name": "stdout",
     "output_type": "stream",
     "text": [
      "340: [Discriminator loss: 0.117183]  [GAN loss: 0.363028]\n",
      "Epoch 341\n"
     ]
    },
    {
     "name": "stderr",
     "output_type": "stream",
     "text": [
      "100%|██████████| 12/12 [00:00<00:00, 36.74it/s]\n",
      " 33%|███▎      | 4/12 [00:00<00:00, 35.14it/s]"
     ]
    },
    {
     "name": "stdout",
     "output_type": "stream",
     "text": [
      "341: [Discriminator loss: 0.127162]  [GAN loss: 0.681650]\n",
      "Epoch 342\n"
     ]
    },
    {
     "name": "stderr",
     "output_type": "stream",
     "text": [
      "100%|██████████| 12/12 [00:00<00:00, 33.30it/s]\n",
      " 33%|███▎      | 4/12 [00:00<00:00, 33.32it/s]"
     ]
    },
    {
     "name": "stdout",
     "output_type": "stream",
     "text": [
      "342: [Discriminator loss: 0.192765]  [GAN loss: 0.766117]\n",
      "Epoch 343\n"
     ]
    },
    {
     "name": "stderr",
     "output_type": "stream",
     "text": [
      "100%|██████████| 12/12 [00:00<00:00, 34.51it/s]\n",
      " 33%|███▎      | 4/12 [00:00<00:00, 37.41it/s]"
     ]
    },
    {
     "name": "stdout",
     "output_type": "stream",
     "text": [
      "343: [Discriminator loss: 0.145260]  [GAN loss: 0.548826]\n",
      "Epoch 344\n"
     ]
    },
    {
     "name": "stderr",
     "output_type": "stream",
     "text": [
      "100%|██████████| 12/12 [00:00<00:00, 36.74it/s]\n",
      " 33%|███▎      | 4/12 [00:00<00:00, 36.18it/s]"
     ]
    },
    {
     "name": "stdout",
     "output_type": "stream",
     "text": [
      "344: [Discriminator loss: 0.153152]  [GAN loss: 0.517588]\n",
      "Epoch 345\n"
     ]
    },
    {
     "name": "stderr",
     "output_type": "stream",
     "text": [
      "100%|██████████| 12/12 [00:00<00:00, 35.51it/s]\n",
      " 33%|███▎      | 4/12 [00:00<00:00, 39.27it/s]"
     ]
    },
    {
     "name": "stdout",
     "output_type": "stream",
     "text": [
      "345: [Discriminator loss: 0.098875]  [GAN loss: 0.287172]\n",
      "Epoch 346\n"
     ]
    },
    {
     "name": "stderr",
     "output_type": "stream",
     "text": [
      "100%|██████████| 12/12 [00:00<00:00, 37.88it/s]\n",
      " 33%|███▎      | 4/12 [00:00<00:00, 37.14it/s]"
     ]
    },
    {
     "name": "stdout",
     "output_type": "stream",
     "text": [
      "346: [Discriminator loss: 0.098507]  [GAN loss: 0.576968]\n",
      "Epoch 347\n"
     ]
    },
    {
     "name": "stderr",
     "output_type": "stream",
     "text": [
      "100%|██████████| 12/12 [00:00<00:00, 37.08it/s]\n",
      " 33%|███▎      | 4/12 [00:00<00:00, 37.92it/s]"
     ]
    },
    {
     "name": "stdout",
     "output_type": "stream",
     "text": [
      "347: [Discriminator loss: 0.142361]  [GAN loss: 0.330279]\n",
      "Epoch 348\n"
     ]
    },
    {
     "name": "stderr",
     "output_type": "stream",
     "text": [
      "100%|██████████| 12/12 [00:00<00:00, 36.69it/s]\n",
      " 33%|███▎      | 4/12 [00:00<00:00, 37.88it/s]"
     ]
    },
    {
     "name": "stdout",
     "output_type": "stream",
     "text": [
      "348: [Discriminator loss: 0.148340]  [GAN loss: 0.487346]\n",
      "Epoch 349\n"
     ]
    },
    {
     "name": "stderr",
     "output_type": "stream",
     "text": [
      "100%|██████████| 12/12 [00:00<00:00, 37.56it/s]\n",
      " 25%|██▌       | 3/12 [00:00<00:00, 28.38it/s]"
     ]
    },
    {
     "name": "stdout",
     "output_type": "stream",
     "text": [
      "349: [Discriminator loss: 0.171292]  [GAN loss: 0.560836]\n",
      "Epoch 350\n"
     ]
    },
    {
     "name": "stderr",
     "output_type": "stream",
     "text": [
      "100%|██████████| 12/12 [00:00<00:00, 33.34it/s]\n",
      " 42%|████▏     | 5/12 [00:00<00:00, 44.80it/s]"
     ]
    },
    {
     "name": "stdout",
     "output_type": "stream",
     "text": [
      "350: [Discriminator loss: 0.150088]  [GAN loss: 0.516001]\n",
      "Epoch 351\n"
     ]
    },
    {
     "name": "stderr",
     "output_type": "stream",
     "text": [
      "100%|██████████| 12/12 [00:00<00:00, 37.99it/s]\n",
      " 33%|███▎      | 4/12 [00:00<00:00, 35.90it/s]"
     ]
    },
    {
     "name": "stdout",
     "output_type": "stream",
     "text": [
      "351: [Discriminator loss: 0.140279]  [GAN loss: 0.390303]\n",
      "Epoch 352\n"
     ]
    },
    {
     "name": "stderr",
     "output_type": "stream",
     "text": [
      "100%|██████████| 12/12 [00:00<00:00, 36.75it/s]\n",
      " 33%|███▎      | 4/12 [00:00<00:00, 33.72it/s]"
     ]
    },
    {
     "name": "stdout",
     "output_type": "stream",
     "text": [
      "352: [Discriminator loss: 0.120870]  [GAN loss: 0.529871]\n",
      "Epoch 353\n"
     ]
    },
    {
     "name": "stderr",
     "output_type": "stream",
     "text": [
      "100%|██████████| 12/12 [00:00<00:00, 35.72it/s]\n",
      " 33%|███▎      | 4/12 [00:00<00:00, 37.30it/s]"
     ]
    },
    {
     "name": "stdout",
     "output_type": "stream",
     "text": [
      "353: [Discriminator loss: 0.161306]  [GAN loss: 0.761846]\n",
      "Epoch 354\n"
     ]
    },
    {
     "name": "stderr",
     "output_type": "stream",
     "text": [
      "100%|██████████| 12/12 [00:00<00:00, 36.63it/s]\n",
      " 33%|███▎      | 4/12 [00:00<00:00, 39.06it/s]"
     ]
    },
    {
     "name": "stdout",
     "output_type": "stream",
     "text": [
      "354: [Discriminator loss: 0.080862]  [GAN loss: 0.418557]\n",
      "Epoch 355\n"
     ]
    },
    {
     "name": "stderr",
     "output_type": "stream",
     "text": [
      "100%|██████████| 12/12 [00:00<00:00, 38.06it/s]\n",
      " 33%|███▎      | 4/12 [00:00<00:00, 37.74it/s]"
     ]
    },
    {
     "name": "stdout",
     "output_type": "stream",
     "text": [
      "355: [Discriminator loss: 0.141042]  [GAN loss: 0.558465]\n",
      "Epoch 356\n"
     ]
    },
    {
     "name": "stderr",
     "output_type": "stream",
     "text": [
      "100%|██████████| 12/12 [00:00<00:00, 37.59it/s]\n",
      " 33%|███▎      | 4/12 [00:00<00:00, 38.48it/s]"
     ]
    },
    {
     "name": "stdout",
     "output_type": "stream",
     "text": [
      "356: [Discriminator loss: 0.165750]  [GAN loss: 0.621838]\n",
      "Epoch 357\n"
     ]
    },
    {
     "name": "stderr",
     "output_type": "stream",
     "text": [
      "100%|██████████| 12/12 [00:00<00:00, 37.24it/s]\n",
      " 33%|███▎      | 4/12 [00:00<00:00, 38.43it/s]"
     ]
    },
    {
     "name": "stdout",
     "output_type": "stream",
     "text": [
      "357: [Discriminator loss: 0.094388]  [GAN loss: 0.443966]\n",
      "Epoch 358\n"
     ]
    },
    {
     "name": "stderr",
     "output_type": "stream",
     "text": [
      "100%|██████████| 12/12 [00:00<00:00, 38.06it/s]\n",
      " 33%|███▎      | 4/12 [00:00<00:00, 36.88it/s]"
     ]
    },
    {
     "name": "stdout",
     "output_type": "stream",
     "text": [
      "358: [Discriminator loss: 0.146064]  [GAN loss: 0.583842]\n",
      "Epoch 359\n"
     ]
    },
    {
     "name": "stderr",
     "output_type": "stream",
     "text": [
      "100%|██████████| 12/12 [00:00<00:00, 35.38it/s]\n",
      " 33%|███▎      | 4/12 [00:00<00:00, 37.09it/s]"
     ]
    },
    {
     "name": "stdout",
     "output_type": "stream",
     "text": [
      "359: [Discriminator loss: 0.161218]  [GAN loss: 0.683858]\n",
      "Epoch 360\n"
     ]
    },
    {
     "name": "stderr",
     "output_type": "stream",
     "text": [
      "100%|██████████| 12/12 [00:00<00:00, 37.22it/s]\n",
      " 33%|███▎      | 4/12 [00:00<00:00, 38.21it/s]"
     ]
    },
    {
     "name": "stdout",
     "output_type": "stream",
     "text": [
      "360: [Discriminator loss: 0.159646]  [GAN loss: 0.547494]\n",
      "Epoch 361\n"
     ]
    },
    {
     "name": "stderr",
     "output_type": "stream",
     "text": [
      "100%|██████████| 12/12 [00:00<00:00, 37.79it/s]\n",
      " 33%|███▎      | 4/12 [00:00<00:00, 36.79it/s]"
     ]
    },
    {
     "name": "stdout",
     "output_type": "stream",
     "text": [
      "361: [Discriminator loss: 0.084766]  [GAN loss: 0.469598]\n",
      "Epoch 362\n"
     ]
    },
    {
     "name": "stderr",
     "output_type": "stream",
     "text": [
      "100%|██████████| 12/12 [00:00<00:00, 36.85it/s]\n",
      " 33%|███▎      | 4/12 [00:00<00:00, 36.04it/s]"
     ]
    },
    {
     "name": "stdout",
     "output_type": "stream",
     "text": [
      "362: [Discriminator loss: 0.067399]  [GAN loss: 0.627080]\n",
      "Epoch 363\n"
     ]
    },
    {
     "name": "stderr",
     "output_type": "stream",
     "text": [
      "100%|██████████| 12/12 [00:00<00:00, 35.42it/s]\n",
      " 33%|███▎      | 4/12 [00:00<00:00, 37.23it/s]"
     ]
    },
    {
     "name": "stdout",
     "output_type": "stream",
     "text": [
      "363: [Discriminator loss: 0.030864]  [GAN loss: 0.758031]\n",
      "Epoch 364\n"
     ]
    },
    {
     "name": "stderr",
     "output_type": "stream",
     "text": [
      "100%|██████████| 12/12 [00:00<00:00, 36.98it/s]\n",
      " 33%|███▎      | 4/12 [00:00<00:00, 36.81it/s]"
     ]
    },
    {
     "name": "stdout",
     "output_type": "stream",
     "text": [
      "364: [Discriminator loss: 0.048022]  [GAN loss: 0.928016]\n",
      "Epoch 365\n"
     ]
    },
    {
     "name": "stderr",
     "output_type": "stream",
     "text": [
      "100%|██████████| 12/12 [00:00<00:00, 37.16it/s]\n",
      " 33%|███▎      | 4/12 [00:00<00:00, 38.49it/s]"
     ]
    },
    {
     "name": "stdout",
     "output_type": "stream",
     "text": [
      "365: [Discriminator loss: 0.154553]  [GAN loss: 0.489360]\n",
      "Epoch 366\n"
     ]
    },
    {
     "name": "stderr",
     "output_type": "stream",
     "text": [
      "100%|██████████| 12/12 [00:00<00:00, 34.70it/s]\n",
      " 33%|███▎      | 4/12 [00:00<00:00, 36.53it/s]"
     ]
    },
    {
     "name": "stdout",
     "output_type": "stream",
     "text": [
      "366: [Discriminator loss: 0.278955]  [GAN loss: 0.276569]\n",
      "Epoch 367\n"
     ]
    },
    {
     "name": "stderr",
     "output_type": "stream",
     "text": [
      "100%|██████████| 12/12 [00:00<00:00, 39.74it/s]\n",
      " 33%|███▎      | 4/12 [00:00<00:00, 37.12it/s]"
     ]
    },
    {
     "name": "stdout",
     "output_type": "stream",
     "text": [
      "367: [Discriminator loss: 0.174007]  [GAN loss: 0.296517]\n",
      "Epoch 368\n"
     ]
    },
    {
     "name": "stderr",
     "output_type": "stream",
     "text": [
      "100%|██████████| 12/12 [00:00<00:00, 36.98it/s]\n",
      " 33%|███▎      | 4/12 [00:00<00:00, 36.82it/s]"
     ]
    },
    {
     "name": "stdout",
     "output_type": "stream",
     "text": [
      "368: [Discriminator loss: 0.179051]  [GAN loss: 0.468055]\n",
      "Epoch 369\n"
     ]
    },
    {
     "name": "stderr",
     "output_type": "stream",
     "text": [
      "100%|██████████| 12/12 [00:00<00:00, 37.03it/s]\n",
      " 33%|███▎      | 4/12 [00:00<00:00, 36.56it/s]"
     ]
    },
    {
     "name": "stdout",
     "output_type": "stream",
     "text": [
      "369: [Discriminator loss: 0.081909]  [GAN loss: 0.357549]\n",
      "Epoch 370\n"
     ]
    },
    {
     "name": "stderr",
     "output_type": "stream",
     "text": [
      "100%|██████████| 12/12 [00:00<00:00, 36.95it/s]\n",
      " 33%|███▎      | 4/12 [00:00<00:00, 38.01it/s]"
     ]
    },
    {
     "name": "stdout",
     "output_type": "stream",
     "text": [
      "370: [Discriminator loss: 0.109371]  [GAN loss: 0.336262]\n",
      "Epoch 371\n"
     ]
    },
    {
     "name": "stderr",
     "output_type": "stream",
     "text": [
      "100%|██████████| 12/12 [00:00<00:00, 37.46it/s]\n",
      " 33%|███▎      | 4/12 [00:00<00:00, 38.64it/s]"
     ]
    },
    {
     "name": "stdout",
     "output_type": "stream",
     "text": [
      "371: [Discriminator loss: 0.118503]  [GAN loss: 0.448742]\n",
      "Epoch 372\n"
     ]
    },
    {
     "name": "stderr",
     "output_type": "stream",
     "text": [
      "100%|██████████| 12/12 [00:00<00:00, 37.49it/s]\n",
      " 33%|███▎      | 4/12 [00:00<00:00, 37.96it/s]"
     ]
    },
    {
     "name": "stdout",
     "output_type": "stream",
     "text": [
      "372: [Discriminator loss: 0.139672]  [GAN loss: 0.488847]\n",
      "Epoch 373\n"
     ]
    },
    {
     "name": "stderr",
     "output_type": "stream",
     "text": [
      "100%|██████████| 12/12 [00:00<00:00, 37.48it/s]\n",
      " 33%|███▎      | 4/12 [00:00<00:00, 36.34it/s]"
     ]
    },
    {
     "name": "stdout",
     "output_type": "stream",
     "text": [
      "373: [Discriminator loss: 0.131793]  [GAN loss: 0.341201]\n",
      "Epoch 374\n"
     ]
    },
    {
     "name": "stderr",
     "output_type": "stream",
     "text": [
      "100%|██████████| 12/12 [00:00<00:00, 36.66it/s]\n",
      " 33%|███▎      | 4/12 [00:00<00:00, 37.10it/s]"
     ]
    },
    {
     "name": "stdout",
     "output_type": "stream",
     "text": [
      "374: [Discriminator loss: 0.045835]  [GAN loss: 0.748008]\n",
      "Epoch 375\n"
     ]
    },
    {
     "name": "stderr",
     "output_type": "stream",
     "text": [
      "100%|██████████| 12/12 [00:00<00:00, 37.41it/s]\n",
      " 33%|███▎      | 4/12 [00:00<00:00, 38.39it/s]"
     ]
    },
    {
     "name": "stdout",
     "output_type": "stream",
     "text": [
      "375: [Discriminator loss: 0.071934]  [GAN loss: 0.473397]\n",
      "Epoch 376\n"
     ]
    },
    {
     "name": "stderr",
     "output_type": "stream",
     "text": [
      "100%|██████████| 12/12 [00:00<00:00, 36.61it/s]\n",
      " 33%|███▎      | 4/12 [00:00<00:00, 36.97it/s]"
     ]
    },
    {
     "name": "stdout",
     "output_type": "stream",
     "text": [
      "376: [Discriminator loss: 0.068481]  [GAN loss: 0.545173]\n",
      "Epoch 377\n"
     ]
    },
    {
     "name": "stderr",
     "output_type": "stream",
     "text": [
      "100%|██████████| 12/12 [00:00<00:00, 35.31it/s]\n",
      " 33%|███▎      | 4/12 [00:00<00:00, 37.14it/s]"
     ]
    },
    {
     "name": "stdout",
     "output_type": "stream",
     "text": [
      "377: [Discriminator loss: 0.159909]  [GAN loss: 0.478637]\n",
      "Epoch 378\n"
     ]
    },
    {
     "name": "stderr",
     "output_type": "stream",
     "text": [
      "100%|██████████| 12/12 [00:00<00:00, 37.48it/s]\n",
      " 33%|███▎      | 4/12 [00:00<00:00, 37.10it/s]"
     ]
    },
    {
     "name": "stdout",
     "output_type": "stream",
     "text": [
      "378: [Discriminator loss: 0.265485]  [GAN loss: 0.513645]\n",
      "Epoch 379\n"
     ]
    },
    {
     "name": "stderr",
     "output_type": "stream",
     "text": [
      "100%|██████████| 12/12 [00:00<00:00, 37.65it/s]\n",
      " 33%|███▎      | 4/12 [00:00<00:00, 38.37it/s]"
     ]
    },
    {
     "name": "stdout",
     "output_type": "stream",
     "text": [
      "379: [Discriminator loss: 0.135786]  [GAN loss: 0.469498]\n",
      "Epoch 380\n"
     ]
    },
    {
     "name": "stderr",
     "output_type": "stream",
     "text": [
      "100%|██████████| 12/12 [00:00<00:00, 36.45it/s]\n",
      " 33%|███▎      | 4/12 [00:00<00:00, 36.22it/s]"
     ]
    },
    {
     "name": "stdout",
     "output_type": "stream",
     "text": [
      "380: [Discriminator loss: 0.116678]  [GAN loss: 0.476822]\n",
      "Epoch 381\n"
     ]
    },
    {
     "name": "stderr",
     "output_type": "stream",
     "text": [
      "100%|██████████| 12/12 [00:00<00:00, 35.95it/s]\n",
      " 33%|███▎      | 4/12 [00:00<00:00, 37.56it/s]"
     ]
    },
    {
     "name": "stdout",
     "output_type": "stream",
     "text": [
      "381: [Discriminator loss: 0.102925]  [GAN loss: 0.439442]\n",
      "Epoch 382\n"
     ]
    },
    {
     "name": "stderr",
     "output_type": "stream",
     "text": [
      "100%|██████████| 12/12 [00:00<00:00, 37.38it/s]\n",
      " 33%|███▎      | 4/12 [00:00<00:00, 38.97it/s]"
     ]
    },
    {
     "name": "stdout",
     "output_type": "stream",
     "text": [
      "382: [Discriminator loss: 0.145630]  [GAN loss: 0.345298]\n",
      "Epoch 383\n"
     ]
    },
    {
     "name": "stderr",
     "output_type": "stream",
     "text": [
      "100%|██████████| 12/12 [00:00<00:00, 38.04it/s]\n",
      " 33%|███▎      | 4/12 [00:00<00:00, 36.31it/s]"
     ]
    },
    {
     "name": "stdout",
     "output_type": "stream",
     "text": [
      "383: [Discriminator loss: 0.230787]  [GAN loss: 0.461213]\n",
      "Epoch 384\n"
     ]
    },
    {
     "name": "stderr",
     "output_type": "stream",
     "text": [
      "100%|██████████| 12/12 [00:00<00:00, 35.84it/s]\n",
      " 33%|███▎      | 4/12 [00:00<00:00, 37.71it/s]"
     ]
    },
    {
     "name": "stdout",
     "output_type": "stream",
     "text": [
      "384: [Discriminator loss: 0.149056]  [GAN loss: 0.426199]\n",
      "Epoch 385\n"
     ]
    },
    {
     "name": "stderr",
     "output_type": "stream",
     "text": [
      "100%|██████████| 12/12 [00:00<00:00, 37.24it/s]\n",
      " 33%|███▎      | 4/12 [00:00<00:00, 36.67it/s]"
     ]
    },
    {
     "name": "stdout",
     "output_type": "stream",
     "text": [
      "385: [Discriminator loss: 0.096009]  [GAN loss: 0.569772]\n",
      "Epoch 386\n"
     ]
    },
    {
     "name": "stderr",
     "output_type": "stream",
     "text": [
      "100%|██████████| 12/12 [00:00<00:00, 35.38it/s]\n",
      " 33%|███▎      | 4/12 [00:00<00:00, 37.86it/s]"
     ]
    },
    {
     "name": "stdout",
     "output_type": "stream",
     "text": [
      "386: [Discriminator loss: 0.124308]  [GAN loss: 0.445651]\n",
      "Epoch 387\n"
     ]
    },
    {
     "name": "stderr",
     "output_type": "stream",
     "text": [
      "100%|██████████| 12/12 [00:00<00:00, 37.41it/s]\n",
      " 33%|███▎      | 4/12 [00:00<00:00, 38.96it/s]"
     ]
    },
    {
     "name": "stdout",
     "output_type": "stream",
     "text": [
      "387: [Discriminator loss: 0.197653]  [GAN loss: 0.656619]\n",
      "Epoch 388\n"
     ]
    },
    {
     "name": "stderr",
     "output_type": "stream",
     "text": [
      "100%|██████████| 12/12 [00:00<00:00, 37.87it/s]\n",
      " 33%|███▎      | 4/12 [00:00<00:00, 39.18it/s]"
     ]
    },
    {
     "name": "stdout",
     "output_type": "stream",
     "text": [
      "388: [Discriminator loss: 0.069220]  [GAN loss: 0.486192]\n",
      "Epoch 389\n"
     ]
    },
    {
     "name": "stderr",
     "output_type": "stream",
     "text": [
      "100%|██████████| 12/12 [00:00<00:00, 38.05it/s]\n",
      " 33%|███▎      | 4/12 [00:00<00:00, 37.09it/s]"
     ]
    },
    {
     "name": "stdout",
     "output_type": "stream",
     "text": [
      "389: [Discriminator loss: 0.074355]  [GAN loss: 0.409514]\n",
      "Epoch 390\n"
     ]
    },
    {
     "name": "stderr",
     "output_type": "stream",
     "text": [
      "100%|██████████| 12/12 [00:00<00:00, 37.58it/s]\n",
      " 33%|███▎      | 4/12 [00:00<00:00, 35.44it/s]"
     ]
    },
    {
     "name": "stdout",
     "output_type": "stream",
     "text": [
      "390: [Discriminator loss: 0.120604]  [GAN loss: 0.329541]\n",
      "Epoch 391\n"
     ]
    },
    {
     "name": "stderr",
     "output_type": "stream",
     "text": [
      "100%|██████████| 12/12 [00:00<00:00, 36.54it/s]\n",
      " 33%|███▎      | 4/12 [00:00<00:00, 37.62it/s]"
     ]
    },
    {
     "name": "stdout",
     "output_type": "stream",
     "text": [
      "391: [Discriminator loss: 0.098668]  [GAN loss: 0.409157]\n",
      "Epoch 392\n"
     ]
    },
    {
     "name": "stderr",
     "output_type": "stream",
     "text": [
      "100%|██████████| 12/12 [00:00<00:00, 37.55it/s]\n",
      " 33%|███▎      | 4/12 [00:00<00:00, 37.89it/s]"
     ]
    },
    {
     "name": "stdout",
     "output_type": "stream",
     "text": [
      "392: [Discriminator loss: 0.170911]  [GAN loss: 0.570087]\n",
      "Epoch 393\n"
     ]
    },
    {
     "name": "stderr",
     "output_type": "stream",
     "text": [
      "100%|██████████| 12/12 [00:00<00:00, 37.88it/s]\n",
      " 33%|███▎      | 4/12 [00:00<00:00, 39.75it/s]"
     ]
    },
    {
     "name": "stdout",
     "output_type": "stream",
     "text": [
      "393: [Discriminator loss: 0.167949]  [GAN loss: 0.560059]\n",
      "Epoch 394\n"
     ]
    },
    {
     "name": "stderr",
     "output_type": "stream",
     "text": [
      "100%|██████████| 12/12 [00:00<00:00, 38.53it/s]\n",
      " 33%|███▎      | 4/12 [00:00<00:00, 38.54it/s]"
     ]
    },
    {
     "name": "stdout",
     "output_type": "stream",
     "text": [
      "394: [Discriminator loss: 0.055954]  [GAN loss: 0.503162]\n",
      "Epoch 395\n"
     ]
    },
    {
     "name": "stderr",
     "output_type": "stream",
     "text": [
      "100%|██████████| 12/12 [00:00<00:00, 37.95it/s]\n",
      " 33%|███▎      | 4/12 [00:00<00:00, 38.17it/s]"
     ]
    },
    {
     "name": "stdout",
     "output_type": "stream",
     "text": [
      "395: [Discriminator loss: 0.107752]  [GAN loss: 0.224705]\n",
      "Epoch 396\n"
     ]
    },
    {
     "name": "stderr",
     "output_type": "stream",
     "text": [
      "100%|██████████| 12/12 [00:00<00:00, 37.53it/s]\n",
      " 33%|███▎      | 4/12 [00:00<00:00, 35.02it/s]"
     ]
    },
    {
     "name": "stdout",
     "output_type": "stream",
     "text": [
      "396: [Discriminator loss: 0.150767]  [GAN loss: 0.440333]\n",
      "Epoch 397\n"
     ]
    },
    {
     "name": "stderr",
     "output_type": "stream",
     "text": [
      "100%|██████████| 12/12 [00:00<00:00, 36.57it/s]\n",
      " 33%|███▎      | 4/12 [00:00<00:00, 37.59it/s]"
     ]
    },
    {
     "name": "stdout",
     "output_type": "stream",
     "text": [
      "397: [Discriminator loss: 0.153834]  [GAN loss: 0.448833]\n",
      "Epoch 398\n"
     ]
    },
    {
     "name": "stderr",
     "output_type": "stream",
     "text": [
      "100%|██████████| 12/12 [00:00<00:00, 37.22it/s]\n",
      " 33%|███▎      | 4/12 [00:00<00:00, 34.23it/s]"
     ]
    },
    {
     "name": "stdout",
     "output_type": "stream",
     "text": [
      "398: [Discriminator loss: 0.109279]  [GAN loss: 0.331890]\n",
      "Epoch 399\n"
     ]
    },
    {
     "name": "stderr",
     "output_type": "stream",
     "text": [
      "100%|██████████| 12/12 [00:00<00:00, 35.46it/s]\n",
      " 33%|███▎      | 4/12 [00:00<00:00, 38.48it/s]"
     ]
    },
    {
     "name": "stdout",
     "output_type": "stream",
     "text": [
      "399: [Discriminator loss: 0.168658]  [GAN loss: 0.418276]\n",
      "Epoch 400\n"
     ]
    },
    {
     "name": "stderr",
     "output_type": "stream",
     "text": [
      "100%|██████████| 12/12 [00:00<00:00, 38.17it/s]\n",
      " 33%|███▎      | 4/12 [00:00<00:00, 38.60it/s]"
     ]
    },
    {
     "name": "stdout",
     "output_type": "stream",
     "text": [
      "400: [Discriminator loss: 0.082618]  [GAN loss: 0.709839]\n",
      "Epoch 401\n"
     ]
    },
    {
     "name": "stderr",
     "output_type": "stream",
     "text": [
      "100%|██████████| 12/12 [00:00<00:00, 38.17it/s]\n",
      " 33%|███▎      | 4/12 [00:00<00:00, 37.30it/s]"
     ]
    },
    {
     "name": "stdout",
     "output_type": "stream",
     "text": [
      "401: [Discriminator loss: 0.126757]  [GAN loss: 0.640102]\n",
      "Epoch 402\n"
     ]
    },
    {
     "name": "stderr",
     "output_type": "stream",
     "text": [
      "100%|██████████| 12/12 [00:00<00:00, 36.96it/s]\n",
      " 33%|███▎      | 4/12 [00:00<00:00, 33.85it/s]"
     ]
    },
    {
     "name": "stdout",
     "output_type": "stream",
     "text": [
      "402: [Discriminator loss: 0.142184]  [GAN loss: 0.573046]\n",
      "Epoch 403\n"
     ]
    },
    {
     "name": "stderr",
     "output_type": "stream",
     "text": [
      "100%|██████████| 12/12 [00:00<00:00, 35.64it/s]\n",
      " 33%|███▎      | 4/12 [00:00<00:00, 38.25it/s]"
     ]
    },
    {
     "name": "stdout",
     "output_type": "stream",
     "text": [
      "403: [Discriminator loss: 0.151070]  [GAN loss: 0.844081]\n",
      "Epoch 404\n"
     ]
    },
    {
     "name": "stderr",
     "output_type": "stream",
     "text": [
      "100%|██████████| 12/12 [00:00<00:00, 37.82it/s]\n",
      " 33%|███▎      | 4/12 [00:00<00:00, 37.57it/s]"
     ]
    },
    {
     "name": "stdout",
     "output_type": "stream",
     "text": [
      "404: [Discriminator loss: 0.106573]  [GAN loss: 0.312292]\n",
      "Epoch 405\n"
     ]
    },
    {
     "name": "stderr",
     "output_type": "stream",
     "text": [
      "100%|██████████| 12/12 [00:00<00:00, 37.36it/s]\n",
      " 33%|███▎      | 4/12 [00:00<00:00, 38.09it/s]"
     ]
    },
    {
     "name": "stdout",
     "output_type": "stream",
     "text": [
      "405: [Discriminator loss: 0.179532]  [GAN loss: 0.410496]\n",
      "Epoch 406\n"
     ]
    },
    {
     "name": "stderr",
     "output_type": "stream",
     "text": [
      "100%|██████████| 12/12 [00:00<00:00, 37.83it/s]\n",
      " 33%|███▎      | 4/12 [00:00<00:00, 37.51it/s]"
     ]
    },
    {
     "name": "stdout",
     "output_type": "stream",
     "text": [
      "406: [Discriminator loss: 0.112607]  [GAN loss: 0.527917]\n",
      "Epoch 407\n"
     ]
    },
    {
     "name": "stderr",
     "output_type": "stream",
     "text": [
      "100%|██████████| 12/12 [00:00<00:00, 37.37it/s]\n",
      " 33%|███▎      | 4/12 [00:00<00:00, 38.01it/s]"
     ]
    },
    {
     "name": "stdout",
     "output_type": "stream",
     "text": [
      "407: [Discriminator loss: 0.159889]  [GAN loss: 0.528102]\n",
      "Epoch 408\n"
     ]
    },
    {
     "name": "stderr",
     "output_type": "stream",
     "text": [
      "100%|██████████| 12/12 [00:00<00:00, 37.58it/s]\n",
      " 33%|███▎      | 4/12 [00:00<00:00, 37.84it/s]"
     ]
    },
    {
     "name": "stdout",
     "output_type": "stream",
     "text": [
      "408: [Discriminator loss: 0.132457]  [GAN loss: 0.631126]\n",
      "Epoch 409\n"
     ]
    },
    {
     "name": "stderr",
     "output_type": "stream",
     "text": [
      "100%|██████████| 12/12 [00:00<00:00, 37.54it/s]\n",
      " 33%|███▎      | 4/12 [00:00<00:00, 37.60it/s]"
     ]
    },
    {
     "name": "stdout",
     "output_type": "stream",
     "text": [
      "409: [Discriminator loss: 0.092995]  [GAN loss: 0.313854]\n",
      "Epoch 410\n"
     ]
    },
    {
     "name": "stderr",
     "output_type": "stream",
     "text": [
      "100%|██████████| 12/12 [00:00<00:00, 37.34it/s]\n",
      " 33%|███▎      | 4/12 [00:00<00:00, 38.51it/s]"
     ]
    },
    {
     "name": "stdout",
     "output_type": "stream",
     "text": [
      "410: [Discriminator loss: 0.177661]  [GAN loss: 0.729384]\n",
      "Epoch 411\n"
     ]
    },
    {
     "name": "stderr",
     "output_type": "stream",
     "text": [
      "100%|██████████| 12/12 [00:00<00:00, 37.48it/s]\n",
      " 33%|███▎      | 4/12 [00:00<00:00, 39.37it/s]"
     ]
    },
    {
     "name": "stdout",
     "output_type": "stream",
     "text": [
      "411: [Discriminator loss: 0.209674]  [GAN loss: 0.367057]\n",
      "Epoch 412\n"
     ]
    },
    {
     "name": "stderr",
     "output_type": "stream",
     "text": [
      "100%|██████████| 12/12 [00:00<00:00, 38.40it/s]\n",
      " 33%|███▎      | 4/12 [00:00<00:00, 37.49it/s]"
     ]
    },
    {
     "name": "stdout",
     "output_type": "stream",
     "text": [
      "412: [Discriminator loss: 0.130597]  [GAN loss: 0.586807]\n",
      "Epoch 413\n"
     ]
    },
    {
     "name": "stderr",
     "output_type": "stream",
     "text": [
      "100%|██████████| 12/12 [00:00<00:00, 37.17it/s]\n",
      " 33%|███▎      | 4/12 [00:00<00:00, 39.48it/s]"
     ]
    },
    {
     "name": "stdout",
     "output_type": "stream",
     "text": [
      "413: [Discriminator loss: 0.154201]  [GAN loss: 0.665314]\n",
      "Epoch 414\n"
     ]
    },
    {
     "name": "stderr",
     "output_type": "stream",
     "text": [
      "100%|██████████| 12/12 [00:00<00:00, 37.66it/s]\n",
      " 33%|███▎      | 4/12 [00:00<00:00, 35.08it/s]"
     ]
    },
    {
     "name": "stdout",
     "output_type": "stream",
     "text": [
      "414: [Discriminator loss: 0.075227]  [GAN loss: 0.355614]\n",
      "Epoch 415\n"
     ]
    },
    {
     "name": "stderr",
     "output_type": "stream",
     "text": [
      "100%|██████████| 12/12 [00:00<00:00, 36.38it/s]\n",
      " 33%|███▎      | 4/12 [00:00<00:00, 37.65it/s]"
     ]
    },
    {
     "name": "stdout",
     "output_type": "stream",
     "text": [
      "415: [Discriminator loss: 0.155831]  [GAN loss: 0.605242]\n",
      "Epoch 416\n"
     ]
    },
    {
     "name": "stderr",
     "output_type": "stream",
     "text": [
      "100%|██████████| 12/12 [00:00<00:00, 37.45it/s]\n",
      " 33%|███▎      | 4/12 [00:00<00:00, 36.81it/s]"
     ]
    },
    {
     "name": "stdout",
     "output_type": "stream",
     "text": [
      "416: [Discriminator loss: 0.170770]  [GAN loss: 0.447770]\n",
      "Epoch 417\n"
     ]
    },
    {
     "name": "stderr",
     "output_type": "stream",
     "text": [
      "100%|██████████| 12/12 [00:00<00:00, 37.05it/s]\n",
      " 33%|███▎      | 4/12 [00:00<00:00, 38.75it/s]"
     ]
    },
    {
     "name": "stdout",
     "output_type": "stream",
     "text": [
      "417: [Discriminator loss: 0.140887]  [GAN loss: 0.757936]\n",
      "Epoch 418\n"
     ]
    },
    {
     "name": "stderr",
     "output_type": "stream",
     "text": [
      "100%|██████████| 12/12 [00:00<00:00, 37.94it/s]\n",
      " 33%|███▎      | 4/12 [00:00<00:00, 37.35it/s]"
     ]
    },
    {
     "name": "stdout",
     "output_type": "stream",
     "text": [
      "418: [Discriminator loss: 0.106049]  [GAN loss: 0.550588]\n",
      "Epoch 419\n"
     ]
    },
    {
     "name": "stderr",
     "output_type": "stream",
     "text": [
      "100%|██████████| 12/12 [00:00<00:00, 37.28it/s]\n",
      " 33%|███▎      | 4/12 [00:00<00:00, 36.27it/s]"
     ]
    },
    {
     "name": "stdout",
     "output_type": "stream",
     "text": [
      "419: [Discriminator loss: 0.123676]  [GAN loss: 0.562447]\n",
      "Epoch 420\n"
     ]
    },
    {
     "name": "stderr",
     "output_type": "stream",
     "text": [
      "100%|██████████| 12/12 [00:00<00:00, 36.63it/s]\n",
      " 33%|███▎      | 4/12 [00:00<00:00, 37.28it/s]"
     ]
    },
    {
     "name": "stdout",
     "output_type": "stream",
     "text": [
      "420: [Discriminator loss: 0.098233]  [GAN loss: 0.466677]\n",
      "Epoch 421\n"
     ]
    },
    {
     "name": "stderr",
     "output_type": "stream",
     "text": [
      "100%|██████████| 12/12 [00:00<00:00, 37.26it/s]\n",
      " 33%|███▎      | 4/12 [00:00<00:00, 37.05it/s]"
     ]
    },
    {
     "name": "stdout",
     "output_type": "stream",
     "text": [
      "421: [Discriminator loss: 0.131538]  [GAN loss: 0.423324]\n",
      "Epoch 422\n"
     ]
    },
    {
     "name": "stderr",
     "output_type": "stream",
     "text": [
      "100%|██████████| 12/12 [00:00<00:00, 37.02it/s]\n",
      " 33%|███▎      | 4/12 [00:00<00:00, 36.69it/s]"
     ]
    },
    {
     "name": "stdout",
     "output_type": "stream",
     "text": [
      "422: [Discriminator loss: 0.091353]  [GAN loss: 0.436764]\n",
      "Epoch 423\n"
     ]
    },
    {
     "name": "stderr",
     "output_type": "stream",
     "text": [
      "100%|██████████| 12/12 [00:00<00:00, 36.53it/s]\n",
      " 33%|███▎      | 4/12 [00:00<00:00, 37.04it/s]"
     ]
    },
    {
     "name": "stdout",
     "output_type": "stream",
     "text": [
      "423: [Discriminator loss: 0.124962]  [GAN loss: 0.760647]\n",
      "Epoch 424\n"
     ]
    },
    {
     "name": "stderr",
     "output_type": "stream",
     "text": [
      "100%|██████████| 12/12 [00:00<00:00, 37.15it/s]\n",
      " 33%|███▎      | 4/12 [00:00<00:00, 39.32it/s]"
     ]
    },
    {
     "name": "stdout",
     "output_type": "stream",
     "text": [
      "424: [Discriminator loss: 0.107956]  [GAN loss: 0.364636]\n",
      "Epoch 425\n"
     ]
    },
    {
     "name": "stderr",
     "output_type": "stream",
     "text": [
      "100%|██████████| 12/12 [00:00<00:00, 38.20it/s]\n",
      " 33%|███▎      | 4/12 [00:00<00:00, 36.07it/s]"
     ]
    },
    {
     "name": "stdout",
     "output_type": "stream",
     "text": [
      "425: [Discriminator loss: 0.132813]  [GAN loss: 0.443532]\n",
      "Epoch 426\n"
     ]
    },
    {
     "name": "stderr",
     "output_type": "stream",
     "text": [
      "100%|██████████| 12/12 [00:00<00:00, 36.14it/s]\n",
      " 33%|███▎      | 4/12 [00:00<00:00, 38.87it/s]"
     ]
    },
    {
     "name": "stdout",
     "output_type": "stream",
     "text": [
      "426: [Discriminator loss: 0.119793]  [GAN loss: 0.648865]\n",
      "Epoch 427\n"
     ]
    },
    {
     "name": "stderr",
     "output_type": "stream",
     "text": [
      "100%|██████████| 12/12 [00:00<00:00, 37.75it/s]\n",
      " 33%|███▎      | 4/12 [00:00<00:00, 38.05it/s]"
     ]
    },
    {
     "name": "stdout",
     "output_type": "stream",
     "text": [
      "427: [Discriminator loss: 0.196722]  [GAN loss: 0.544372]\n",
      "Epoch 428\n"
     ]
    },
    {
     "name": "stderr",
     "output_type": "stream",
     "text": [
      "100%|██████████| 12/12 [00:00<00:00, 37.89it/s]\n",
      " 33%|███▎      | 4/12 [00:00<00:00, 36.41it/s]"
     ]
    },
    {
     "name": "stdout",
     "output_type": "stream",
     "text": [
      "428: [Discriminator loss: 0.133350]  [GAN loss: 0.608847]\n",
      "Epoch 429\n"
     ]
    },
    {
     "name": "stderr",
     "output_type": "stream",
     "text": [
      "100%|██████████| 12/12 [00:00<00:00, 36.20it/s]\n",
      " 33%|███▎      | 4/12 [00:00<00:00, 36.90it/s]"
     ]
    },
    {
     "name": "stdout",
     "output_type": "stream",
     "text": [
      "429: [Discriminator loss: 0.129745]  [GAN loss: 0.713187]\n",
      "Epoch 430\n"
     ]
    },
    {
     "name": "stderr",
     "output_type": "stream",
     "text": [
      "100%|██████████| 12/12 [00:00<00:00, 36.07it/s]\n",
      " 33%|███▎      | 4/12 [00:00<00:00, 36.03it/s]"
     ]
    },
    {
     "name": "stdout",
     "output_type": "stream",
     "text": [
      "430: [Discriminator loss: 0.153201]  [GAN loss: 0.413463]\n",
      "Epoch 431\n"
     ]
    },
    {
     "name": "stderr",
     "output_type": "stream",
     "text": [
      "100%|██████████| 12/12 [00:00<00:00, 36.61it/s]\n",
      " 33%|███▎      | 4/12 [00:00<00:00, 35.01it/s]"
     ]
    },
    {
     "name": "stdout",
     "output_type": "stream",
     "text": [
      "431: [Discriminator loss: 0.092809]  [GAN loss: 0.548023]\n",
      "Epoch 432\n"
     ]
    },
    {
     "name": "stderr",
     "output_type": "stream",
     "text": [
      "100%|██████████| 12/12 [00:00<00:00, 36.14it/s]\n",
      " 33%|███▎      | 4/12 [00:00<00:00, 37.56it/s]"
     ]
    },
    {
     "name": "stdout",
     "output_type": "stream",
     "text": [
      "432: [Discriminator loss: 0.108566]  [GAN loss: 0.676546]\n",
      "Epoch 433\n"
     ]
    },
    {
     "name": "stderr",
     "output_type": "stream",
     "text": [
      "100%|██████████| 12/12 [00:00<00:00, 37.38it/s]\n",
      " 33%|███▎      | 4/12 [00:00<00:00, 38.20it/s]"
     ]
    },
    {
     "name": "stdout",
     "output_type": "stream",
     "text": [
      "433: [Discriminator loss: 0.138652]  [GAN loss: 0.653208]\n",
      "Epoch 434\n"
     ]
    },
    {
     "name": "stderr",
     "output_type": "stream",
     "text": [
      "100%|██████████| 12/12 [00:00<00:00, 37.38it/s]\n",
      " 33%|███▎      | 4/12 [00:00<00:00, 36.24it/s]"
     ]
    },
    {
     "name": "stdout",
     "output_type": "stream",
     "text": [
      "434: [Discriminator loss: 0.126754]  [GAN loss: 0.563815]\n",
      "Epoch 435\n"
     ]
    },
    {
     "name": "stderr",
     "output_type": "stream",
     "text": [
      "100%|██████████| 12/12 [00:00<00:00, 35.41it/s]\n",
      " 33%|███▎      | 4/12 [00:00<00:00, 35.61it/s]"
     ]
    },
    {
     "name": "stdout",
     "output_type": "stream",
     "text": [
      "435: [Discriminator loss: 0.105550]  [GAN loss: 0.485021]\n",
      "Epoch 436\n"
     ]
    },
    {
     "name": "stderr",
     "output_type": "stream",
     "text": [
      "100%|██████████| 12/12 [00:00<00:00, 35.82it/s]\n",
      " 33%|███▎      | 4/12 [00:00<00:00, 36.94it/s]"
     ]
    },
    {
     "name": "stdout",
     "output_type": "stream",
     "text": [
      "436: [Discriminator loss: 0.114713]  [GAN loss: 0.454488]\n",
      "Epoch 437\n"
     ]
    },
    {
     "name": "stderr",
     "output_type": "stream",
     "text": [
      "100%|██████████| 12/12 [00:00<00:00, 37.15it/s]\n",
      " 33%|███▎      | 4/12 [00:00<00:00, 35.99it/s]"
     ]
    },
    {
     "name": "stdout",
     "output_type": "stream",
     "text": [
      "437: [Discriminator loss: 0.143649]  [GAN loss: 0.756594]\n",
      "Epoch 438\n"
     ]
    },
    {
     "name": "stderr",
     "output_type": "stream",
     "text": [
      "100%|██████████| 12/12 [00:00<00:00, 36.48it/s]\n",
      " 33%|███▎      | 4/12 [00:00<00:00, 37.43it/s]"
     ]
    },
    {
     "name": "stdout",
     "output_type": "stream",
     "text": [
      "438: [Discriminator loss: 0.091044]  [GAN loss: 0.688638]\n",
      "Epoch 439\n"
     ]
    },
    {
     "name": "stderr",
     "output_type": "stream",
     "text": [
      "100%|██████████| 12/12 [00:00<00:00, 36.92it/s]\n",
      " 33%|███▎      | 4/12 [00:00<00:00, 36.32it/s]"
     ]
    },
    {
     "name": "stdout",
     "output_type": "stream",
     "text": [
      "439: [Discriminator loss: 0.100607]  [GAN loss: 0.562699]\n",
      "Epoch 440\n"
     ]
    },
    {
     "name": "stderr",
     "output_type": "stream",
     "text": [
      "100%|██████████| 12/12 [00:00<00:00, 35.75it/s]\n",
      " 33%|███▎      | 4/12 [00:00<00:00, 37.58it/s]"
     ]
    },
    {
     "name": "stdout",
     "output_type": "stream",
     "text": [
      "440: [Discriminator loss: 0.134081]  [GAN loss: 0.501563]\n",
      "Epoch 441\n"
     ]
    },
    {
     "name": "stderr",
     "output_type": "stream",
     "text": [
      "100%|██████████| 12/12 [00:00<00:00, 36.54it/s]\n",
      " 33%|███▎      | 4/12 [00:00<00:00, 37.95it/s]"
     ]
    },
    {
     "name": "stdout",
     "output_type": "stream",
     "text": [
      "441: [Discriminator loss: 0.109135]  [GAN loss: 0.556955]\n",
      "Epoch 442\n"
     ]
    },
    {
     "name": "stderr",
     "output_type": "stream",
     "text": [
      "100%|██████████| 12/12 [00:00<00:00, 35.56it/s]\n",
      " 33%|███▎      | 4/12 [00:00<00:00, 39.06it/s]"
     ]
    },
    {
     "name": "stdout",
     "output_type": "stream",
     "text": [
      "442: [Discriminator loss: 0.178311]  [GAN loss: 0.475851]\n",
      "Epoch 443\n"
     ]
    },
    {
     "name": "stderr",
     "output_type": "stream",
     "text": [
      "100%|██████████| 12/12 [00:00<00:00, 37.97it/s]\n",
      " 33%|███▎      | 4/12 [00:00<00:00, 36.96it/s]"
     ]
    },
    {
     "name": "stdout",
     "output_type": "stream",
     "text": [
      "443: [Discriminator loss: 0.161199]  [GAN loss: 0.524088]\n",
      "Epoch 444\n"
     ]
    },
    {
     "name": "stderr",
     "output_type": "stream",
     "text": [
      "100%|██████████| 12/12 [00:00<00:00, 36.97it/s]\n",
      " 33%|███▎      | 4/12 [00:00<00:00, 38.52it/s]"
     ]
    },
    {
     "name": "stdout",
     "output_type": "stream",
     "text": [
      "444: [Discriminator loss: 0.098366]  [GAN loss: 0.331484]\n",
      "Epoch 445\n"
     ]
    },
    {
     "name": "stderr",
     "output_type": "stream",
     "text": [
      "100%|██████████| 12/12 [00:00<00:00, 37.62it/s]\n",
      " 33%|███▎      | 4/12 [00:00<00:00, 35.18it/s]"
     ]
    },
    {
     "name": "stdout",
     "output_type": "stream",
     "text": [
      "445: [Discriminator loss: 0.102287]  [GAN loss: 0.491894]\n",
      "Epoch 446\n"
     ]
    },
    {
     "name": "stderr",
     "output_type": "stream",
     "text": [
      "100%|██████████| 12/12 [00:00<00:00, 36.09it/s]\n",
      " 33%|███▎      | 4/12 [00:00<00:00, 36.58it/s]"
     ]
    },
    {
     "name": "stdout",
     "output_type": "stream",
     "text": [
      "446: [Discriminator loss: 0.121995]  [GAN loss: 0.310281]\n",
      "Epoch 447\n"
     ]
    },
    {
     "name": "stderr",
     "output_type": "stream",
     "text": [
      "100%|██████████| 12/12 [00:00<00:00, 36.09it/s]\n",
      " 33%|███▎      | 4/12 [00:00<00:00, 37.48it/s]"
     ]
    },
    {
     "name": "stdout",
     "output_type": "stream",
     "text": [
      "447: [Discriminator loss: 0.138987]  [GAN loss: 0.558376]\n",
      "Epoch 448\n"
     ]
    },
    {
     "name": "stderr",
     "output_type": "stream",
     "text": [
      "100%|██████████| 12/12 [00:00<00:00, 37.63it/s]\n",
      " 33%|███▎      | 4/12 [00:00<00:00, 35.47it/s]"
     ]
    },
    {
     "name": "stdout",
     "output_type": "stream",
     "text": [
      "448: [Discriminator loss: 0.143788]  [GAN loss: 0.277846]\n",
      "Epoch 449\n"
     ]
    },
    {
     "name": "stderr",
     "output_type": "stream",
     "text": [
      "100%|██████████| 12/12 [00:00<00:00, 36.51it/s]\n",
      " 33%|███▎      | 4/12 [00:00<00:00, 33.54it/s]"
     ]
    },
    {
     "name": "stdout",
     "output_type": "stream",
     "text": [
      "449: [Discriminator loss: 0.113985]  [GAN loss: 0.450350]\n",
      "Epoch 450\n"
     ]
    },
    {
     "name": "stderr",
     "output_type": "stream",
     "text": [
      "100%|██████████| 12/12 [00:00<00:00, 35.95it/s]\n",
      " 33%|███▎      | 4/12 [00:00<00:00, 36.53it/s]"
     ]
    },
    {
     "name": "stdout",
     "output_type": "stream",
     "text": [
      "450: [Discriminator loss: 0.160567]  [GAN loss: 0.547392]\n",
      "Epoch 451\n"
     ]
    },
    {
     "name": "stderr",
     "output_type": "stream",
     "text": [
      "100%|██████████| 12/12 [00:00<00:00, 36.34it/s]\n",
      " 33%|███▎      | 4/12 [00:00<00:00, 36.17it/s]"
     ]
    },
    {
     "name": "stdout",
     "output_type": "stream",
     "text": [
      "451: [Discriminator loss: 0.098413]  [GAN loss: 0.475876]\n",
      "Epoch 452\n"
     ]
    },
    {
     "name": "stderr",
     "output_type": "stream",
     "text": [
      "100%|██████████| 12/12 [00:00<00:00, 36.42it/s]\n",
      " 33%|███▎      | 4/12 [00:00<00:00, 37.06it/s]"
     ]
    },
    {
     "name": "stdout",
     "output_type": "stream",
     "text": [
      "452: [Discriminator loss: 0.096827]  [GAN loss: 0.758858]\n",
      "Epoch 453\n"
     ]
    },
    {
     "name": "stderr",
     "output_type": "stream",
     "text": [
      "100%|██████████| 12/12 [00:00<00:00, 37.01it/s]\n",
      " 33%|███▎      | 4/12 [00:00<00:00, 37.91it/s]"
     ]
    },
    {
     "name": "stdout",
     "output_type": "stream",
     "text": [
      "453: [Discriminator loss: 0.102127]  [GAN loss: 0.534372]\n",
      "Epoch 454\n"
     ]
    },
    {
     "name": "stderr",
     "output_type": "stream",
     "text": [
      "100%|██████████| 12/12 [00:00<00:00, 37.42it/s]\n",
      " 33%|███▎      | 4/12 [00:00<00:00, 36.61it/s]"
     ]
    },
    {
     "name": "stdout",
     "output_type": "stream",
     "text": [
      "454: [Discriminator loss: 0.140058]  [GAN loss: 0.653155]\n",
      "Epoch 455\n"
     ]
    },
    {
     "name": "stderr",
     "output_type": "stream",
     "text": [
      "100%|██████████| 12/12 [00:00<00:00, 37.35it/s]\n",
      " 33%|███▎      | 4/12 [00:00<00:00, 34.81it/s]"
     ]
    },
    {
     "name": "stdout",
     "output_type": "stream",
     "text": [
      "455: [Discriminator loss: 0.157295]  [GAN loss: 0.431365]\n",
      "Epoch 456\n"
     ]
    },
    {
     "name": "stderr",
     "output_type": "stream",
     "text": [
      "100%|██████████| 12/12 [00:00<00:00, 35.36it/s]\n",
      " 33%|███▎      | 4/12 [00:00<00:00, 33.31it/s]"
     ]
    },
    {
     "name": "stdout",
     "output_type": "stream",
     "text": [
      "456: [Discriminator loss: 0.226036]  [GAN loss: 0.298150]\n",
      "Epoch 457\n"
     ]
    },
    {
     "name": "stderr",
     "output_type": "stream",
     "text": [
      "100%|██████████| 12/12 [00:00<00:00, 39.01it/s]\n",
      " 33%|███▎      | 4/12 [00:00<00:00, 37.21it/s]"
     ]
    },
    {
     "name": "stdout",
     "output_type": "stream",
     "text": [
      "457: [Discriminator loss: 0.259511]  [GAN loss: 0.563937]\n",
      "Epoch 458\n"
     ]
    },
    {
     "name": "stderr",
     "output_type": "stream",
     "text": [
      "100%|██████████| 12/12 [00:00<00:00, 37.19it/s]\n",
      " 33%|███▎      | 4/12 [00:00<00:00, 37.72it/s]"
     ]
    },
    {
     "name": "stdout",
     "output_type": "stream",
     "text": [
      "458: [Discriminator loss: 0.232147]  [GAN loss: 0.714073]\n",
      "Epoch 459\n"
     ]
    },
    {
     "name": "stderr",
     "output_type": "stream",
     "text": [
      "100%|██████████| 12/12 [00:00<00:00, 37.25it/s]\n",
      " 33%|███▎      | 4/12 [00:00<00:00, 36.92it/s]"
     ]
    },
    {
     "name": "stdout",
     "output_type": "stream",
     "text": [
      "459: [Discriminator loss: 0.134674]  [GAN loss: 0.633983]\n",
      "Epoch 460\n"
     ]
    },
    {
     "name": "stderr",
     "output_type": "stream",
     "text": [
      "100%|██████████| 12/12 [00:00<00:00, 37.24it/s]\n",
      " 33%|███▎      | 4/12 [00:00<00:00, 38.26it/s]"
     ]
    },
    {
     "name": "stdout",
     "output_type": "stream",
     "text": [
      "460: [Discriminator loss: 0.104966]  [GAN loss: 0.510569]\n",
      "Epoch 461\n"
     ]
    },
    {
     "name": "stderr",
     "output_type": "stream",
     "text": [
      "100%|██████████| 12/12 [00:00<00:00, 37.52it/s]\n",
      " 33%|███▎      | 4/12 [00:00<00:00, 38.55it/s]"
     ]
    },
    {
     "name": "stdout",
     "output_type": "stream",
     "text": [
      "461: [Discriminator loss: 0.135623]  [GAN loss: 0.606804]\n",
      "Epoch 462\n"
     ]
    },
    {
     "name": "stderr",
     "output_type": "stream",
     "text": [
      "100%|██████████| 12/12 [00:00<00:00, 37.00it/s]\n",
      " 33%|███▎      | 4/12 [00:00<00:00, 38.13it/s]"
     ]
    },
    {
     "name": "stdout",
     "output_type": "stream",
     "text": [
      "462: [Discriminator loss: 0.164422]  [GAN loss: 0.603657]\n",
      "Epoch 463\n"
     ]
    },
    {
     "name": "stderr",
     "output_type": "stream",
     "text": [
      "100%|██████████| 12/12 [00:00<00:00, 37.08it/s]\n",
      " 33%|███▎      | 4/12 [00:00<00:00, 36.90it/s]"
     ]
    },
    {
     "name": "stdout",
     "output_type": "stream",
     "text": [
      "463: [Discriminator loss: 0.172249]  [GAN loss: 0.459910]\n",
      "Epoch 464\n"
     ]
    },
    {
     "name": "stderr",
     "output_type": "stream",
     "text": [
      "100%|██████████| 12/12 [00:00<00:00, 36.88it/s]\n",
      " 33%|███▎      | 4/12 [00:00<00:00, 38.20it/s]"
     ]
    },
    {
     "name": "stdout",
     "output_type": "stream",
     "text": [
      "464: [Discriminator loss: 0.061432]  [GAN loss: 0.466078]\n",
      "Epoch 465\n"
     ]
    },
    {
     "name": "stderr",
     "output_type": "stream",
     "text": [
      "100%|██████████| 12/12 [00:00<00:00, 37.29it/s]\n",
      " 33%|███▎      | 4/12 [00:00<00:00, 36.32it/s]"
     ]
    },
    {
     "name": "stdout",
     "output_type": "stream",
     "text": [
      "465: [Discriminator loss: 0.191997]  [GAN loss: 0.411915]\n",
      "Epoch 466\n"
     ]
    },
    {
     "name": "stderr",
     "output_type": "stream",
     "text": [
      "100%|██████████| 12/12 [00:00<00:00, 37.09it/s]\n",
      " 33%|███▎      | 4/12 [00:00<00:00, 35.52it/s]"
     ]
    },
    {
     "name": "stdout",
     "output_type": "stream",
     "text": [
      "466: [Discriminator loss: 0.110065]  [GAN loss: 0.397224]\n",
      "Epoch 467\n"
     ]
    },
    {
     "name": "stderr",
     "output_type": "stream",
     "text": [
      "100%|██████████| 12/12 [00:00<00:00, 36.23it/s]\n",
      " 25%|██▌       | 3/12 [00:00<00:00, 29.94it/s]"
     ]
    },
    {
     "name": "stdout",
     "output_type": "stream",
     "text": [
      "467: [Discriminator loss: 0.160165]  [GAN loss: 0.548537]\n",
      "Epoch 468\n"
     ]
    },
    {
     "name": "stderr",
     "output_type": "stream",
     "text": [
      "100%|██████████| 12/12 [00:00<00:00, 33.36it/s]\n",
      " 33%|███▎      | 4/12 [00:00<00:00, 38.44it/s]"
     ]
    },
    {
     "name": "stdout",
     "output_type": "stream",
     "text": [
      "468: [Discriminator loss: 0.161319]  [GAN loss: 0.524532]\n",
      "Epoch 469\n"
     ]
    },
    {
     "name": "stderr",
     "output_type": "stream",
     "text": [
      "100%|██████████| 12/12 [00:00<00:00, 37.97it/s]\n",
      " 25%|██▌       | 3/12 [00:00<00:00, 29.98it/s]"
     ]
    },
    {
     "name": "stdout",
     "output_type": "stream",
     "text": [
      "469: [Discriminator loss: 0.073688]  [GAN loss: 0.638597]\n",
      "Epoch 470\n"
     ]
    },
    {
     "name": "stderr",
     "output_type": "stream",
     "text": [
      "100%|██████████| 12/12 [00:00<00:00, 34.14it/s]\n",
      " 33%|███▎      | 4/12 [00:00<00:00, 34.46it/s]"
     ]
    },
    {
     "name": "stdout",
     "output_type": "stream",
     "text": [
      "470: [Discriminator loss: 0.072623]  [GAN loss: 0.420532]\n",
      "Epoch 471\n"
     ]
    },
    {
     "name": "stderr",
     "output_type": "stream",
     "text": [
      "100%|██████████| 12/12 [00:00<00:00, 34.96it/s]\n",
      " 33%|███▎      | 4/12 [00:00<00:00, 38.90it/s]"
     ]
    },
    {
     "name": "stdout",
     "output_type": "stream",
     "text": [
      "471: [Discriminator loss: 0.064999]  [GAN loss: 0.293809]\n",
      "Epoch 472\n"
     ]
    },
    {
     "name": "stderr",
     "output_type": "stream",
     "text": [
      "100%|██████████| 12/12 [00:00<00:00, 37.89it/s]\n",
      " 33%|███▎      | 4/12 [00:00<00:00, 37.67it/s]"
     ]
    },
    {
     "name": "stdout",
     "output_type": "stream",
     "text": [
      "472: [Discriminator loss: 0.139124]  [GAN loss: 0.381661]\n",
      "Epoch 473\n"
     ]
    },
    {
     "name": "stderr",
     "output_type": "stream",
     "text": [
      "100%|██████████| 12/12 [00:00<00:00, 37.10it/s]\n",
      " 33%|███▎      | 4/12 [00:00<00:00, 37.92it/s]"
     ]
    },
    {
     "name": "stdout",
     "output_type": "stream",
     "text": [
      "473: [Discriminator loss: 0.136928]  [GAN loss: 0.370486]\n",
      "Epoch 474\n"
     ]
    },
    {
     "name": "stderr",
     "output_type": "stream",
     "text": [
      "100%|██████████| 12/12 [00:00<00:00, 37.21it/s]\n",
      " 33%|███▎      | 4/12 [00:00<00:00, 38.85it/s]"
     ]
    },
    {
     "name": "stdout",
     "output_type": "stream",
     "text": [
      "474: [Discriminator loss: 0.055839]  [GAN loss: 0.477154]\n",
      "Epoch 475\n"
     ]
    },
    {
     "name": "stderr",
     "output_type": "stream",
     "text": [
      "100%|██████████| 12/12 [00:00<00:00, 37.58it/s]\n",
      " 33%|███▎      | 4/12 [00:00<00:00, 39.29it/s]"
     ]
    },
    {
     "name": "stdout",
     "output_type": "stream",
     "text": [
      "475: [Discriminator loss: 0.160107]  [GAN loss: 0.811503]\n",
      "Epoch 476\n"
     ]
    },
    {
     "name": "stderr",
     "output_type": "stream",
     "text": [
      "100%|██████████| 12/12 [00:00<00:00, 37.81it/s]\n",
      " 33%|███▎      | 4/12 [00:00<00:00, 37.82it/s]"
     ]
    },
    {
     "name": "stdout",
     "output_type": "stream",
     "text": [
      "476: [Discriminator loss: 0.153497]  [GAN loss: 0.476314]\n",
      "Epoch 477\n"
     ]
    },
    {
     "name": "stderr",
     "output_type": "stream",
     "text": [
      "100%|██████████| 12/12 [00:00<00:00, 36.98it/s]\n",
      " 33%|███▎      | 4/12 [00:00<00:00, 33.47it/s]"
     ]
    },
    {
     "name": "stdout",
     "output_type": "stream",
     "text": [
      "477: [Discriminator loss: 0.128273]  [GAN loss: 0.535383]\n",
      "Epoch 478\n"
     ]
    },
    {
     "name": "stderr",
     "output_type": "stream",
     "text": [
      "100%|██████████| 12/12 [00:00<00:00, 34.63it/s]\n",
      " 33%|███▎      | 4/12 [00:00<00:00, 37.90it/s]"
     ]
    },
    {
     "name": "stdout",
     "output_type": "stream",
     "text": [
      "478: [Discriminator loss: 0.072038]  [GAN loss: 0.408038]\n",
      "Epoch 479\n"
     ]
    },
    {
     "name": "stderr",
     "output_type": "stream",
     "text": [
      "100%|██████████| 12/12 [00:00<00:00, 37.54it/s]\n",
      " 33%|███▎      | 4/12 [00:00<00:00, 37.49it/s]"
     ]
    },
    {
     "name": "stdout",
     "output_type": "stream",
     "text": [
      "479: [Discriminator loss: 0.098202]  [GAN loss: 0.182515]\n",
      "Epoch 480\n"
     ]
    },
    {
     "name": "stderr",
     "output_type": "stream",
     "text": [
      "100%|██████████| 12/12 [00:00<00:00, 37.51it/s]\n",
      " 33%|███▎      | 4/12 [00:00<00:00, 36.73it/s]"
     ]
    },
    {
     "name": "stdout",
     "output_type": "stream",
     "text": [
      "480: [Discriminator loss: 0.079991]  [GAN loss: 0.668085]\n",
      "Epoch 481\n"
     ]
    },
    {
     "name": "stderr",
     "output_type": "stream",
     "text": [
      "100%|██████████| 12/12 [00:00<00:00, 37.04it/s]\n",
      " 33%|███▎      | 4/12 [00:00<00:00, 37.42it/s]"
     ]
    },
    {
     "name": "stdout",
     "output_type": "stream",
     "text": [
      "481: [Discriminator loss: 0.090779]  [GAN loss: 0.398452]\n",
      "Epoch 482\n"
     ]
    },
    {
     "name": "stderr",
     "output_type": "stream",
     "text": [
      "100%|██████████| 12/12 [00:00<00:00, 37.50it/s]\n",
      " 33%|███▎      | 4/12 [00:00<00:00, 34.98it/s]"
     ]
    },
    {
     "name": "stdout",
     "output_type": "stream",
     "text": [
      "482: [Discriminator loss: 0.061127]  [GAN loss: 0.448763]\n",
      "Epoch 483\n"
     ]
    },
    {
     "name": "stderr",
     "output_type": "stream",
     "text": [
      "100%|██████████| 12/12 [00:00<00:00, 35.68it/s]\n",
      " 33%|███▎      | 4/12 [00:00<00:00, 36.17it/s]"
     ]
    },
    {
     "name": "stdout",
     "output_type": "stream",
     "text": [
      "483: [Discriminator loss: 0.150512]  [GAN loss: 0.241120]\n",
      "Epoch 484\n"
     ]
    },
    {
     "name": "stderr",
     "output_type": "stream",
     "text": [
      "100%|██████████| 12/12 [00:00<00:00, 36.74it/s]\n",
      " 33%|███▎      | 4/12 [00:00<00:00, 33.78it/s]"
     ]
    },
    {
     "name": "stdout",
     "output_type": "stream",
     "text": [
      "484: [Discriminator loss: 0.143941]  [GAN loss: 0.678679]\n",
      "Epoch 485\n"
     ]
    },
    {
     "name": "stderr",
     "output_type": "stream",
     "text": [
      "100%|██████████| 12/12 [00:00<00:00, 35.59it/s]\n",
      " 33%|███▎      | 4/12 [00:00<00:00, 37.91it/s]"
     ]
    },
    {
     "name": "stdout",
     "output_type": "stream",
     "text": [
      "485: [Discriminator loss: 0.114852]  [GAN loss: 0.230337]\n",
      "Epoch 486\n"
     ]
    },
    {
     "name": "stderr",
     "output_type": "stream",
     "text": [
      "100%|██████████| 12/12 [00:00<00:00, 37.07it/s]\n",
      " 33%|███▎      | 4/12 [00:00<00:00, 36.88it/s]"
     ]
    },
    {
     "name": "stdout",
     "output_type": "stream",
     "text": [
      "486: [Discriminator loss: 0.054636]  [GAN loss: 0.662671]\n",
      "Epoch 487\n"
     ]
    },
    {
     "name": "stderr",
     "output_type": "stream",
     "text": [
      "100%|██████████| 12/12 [00:00<00:00, 37.08it/s]\n",
      " 33%|███▎      | 4/12 [00:00<00:00, 37.17it/s]"
     ]
    },
    {
     "name": "stdout",
     "output_type": "stream",
     "text": [
      "487: [Discriminator loss: 0.112382]  [GAN loss: 0.412111]\n",
      "Epoch 488\n"
     ]
    },
    {
     "name": "stderr",
     "output_type": "stream",
     "text": [
      "100%|██████████| 12/12 [00:00<00:00, 37.18it/s]\n",
      " 33%|███▎      | 4/12 [00:00<00:00, 38.06it/s]"
     ]
    },
    {
     "name": "stdout",
     "output_type": "stream",
     "text": [
      "488: [Discriminator loss: 0.115154]  [GAN loss: 0.776826]\n",
      "Epoch 489\n"
     ]
    },
    {
     "name": "stderr",
     "output_type": "stream",
     "text": [
      "100%|██████████| 12/12 [00:00<00:00, 37.20it/s]\n",
      " 33%|███▎      | 4/12 [00:00<00:00, 36.96it/s]"
     ]
    },
    {
     "name": "stdout",
     "output_type": "stream",
     "text": [
      "489: [Discriminator loss: 0.121479]  [GAN loss: 0.367524]\n",
      "Epoch 490\n"
     ]
    },
    {
     "name": "stderr",
     "output_type": "stream",
     "text": [
      "100%|██████████| 12/12 [00:00<00:00, 36.61it/s]\n",
      " 33%|███▎      | 4/12 [00:00<00:00, 38.40it/s]"
     ]
    },
    {
     "name": "stdout",
     "output_type": "stream",
     "text": [
      "490: [Discriminator loss: 0.068796]  [GAN loss: 0.259685]\n",
      "Epoch 491\n"
     ]
    },
    {
     "name": "stderr",
     "output_type": "stream",
     "text": [
      "100%|██████████| 12/12 [00:00<00:00, 37.12it/s]\n",
      " 33%|███▎      | 4/12 [00:00<00:00, 35.15it/s]"
     ]
    },
    {
     "name": "stdout",
     "output_type": "stream",
     "text": [
      "491: [Discriminator loss: 0.119647]  [GAN loss: 0.306683]\n",
      "Epoch 492\n"
     ]
    },
    {
     "name": "stderr",
     "output_type": "stream",
     "text": [
      "100%|██████████| 12/12 [00:00<00:00, 36.25it/s]\n",
      " 33%|███▎      | 4/12 [00:00<00:00, 38.12it/s]"
     ]
    },
    {
     "name": "stdout",
     "output_type": "stream",
     "text": [
      "492: [Discriminator loss: 0.101471]  [GAN loss: 0.415355]\n",
      "Epoch 493\n"
     ]
    },
    {
     "name": "stderr",
     "output_type": "stream",
     "text": [
      "100%|██████████| 12/12 [00:00<00:00, 37.72it/s]\n",
      " 33%|███▎      | 4/12 [00:00<00:00, 37.80it/s]"
     ]
    },
    {
     "name": "stdout",
     "output_type": "stream",
     "text": [
      "493: [Discriminator loss: 0.130784]  [GAN loss: 0.422384]\n",
      "Epoch 494\n"
     ]
    },
    {
     "name": "stderr",
     "output_type": "stream",
     "text": [
      "100%|██████████| 12/12 [00:00<00:00, 37.71it/s]\n",
      " 33%|███▎      | 4/12 [00:00<00:00, 37.26it/s]"
     ]
    },
    {
     "name": "stdout",
     "output_type": "stream",
     "text": [
      "494: [Discriminator loss: 0.168671]  [GAN loss: 0.537810]\n",
      "Epoch 495\n"
     ]
    },
    {
     "name": "stderr",
     "output_type": "stream",
     "text": [
      "100%|██████████| 12/12 [00:00<00:00, 37.29it/s]\n",
      " 33%|███▎      | 4/12 [00:00<00:00, 38.61it/s]"
     ]
    },
    {
     "name": "stdout",
     "output_type": "stream",
     "text": [
      "495: [Discriminator loss: 0.094181]  [GAN loss: 0.158274]\n",
      "Epoch 496\n"
     ]
    },
    {
     "name": "stderr",
     "output_type": "stream",
     "text": [
      "100%|██████████| 12/12 [00:00<00:00, 36.71it/s]\n",
      " 33%|███▎      | 4/12 [00:00<00:00, 37.14it/s]"
     ]
    },
    {
     "name": "stdout",
     "output_type": "stream",
     "text": [
      "496: [Discriminator loss: 0.131766]  [GAN loss: 0.669442]\n",
      "Epoch 497\n"
     ]
    },
    {
     "name": "stderr",
     "output_type": "stream",
     "text": [
      "100%|██████████| 12/12 [00:00<00:00, 36.77it/s]\n",
      " 33%|███▎      | 4/12 [00:00<00:00, 38.03it/s]"
     ]
    },
    {
     "name": "stdout",
     "output_type": "stream",
     "text": [
      "497: [Discriminator loss: 0.053810]  [GAN loss: 0.824724]\n",
      "Epoch 498\n"
     ]
    },
    {
     "name": "stderr",
     "output_type": "stream",
     "text": [
      "100%|██████████| 12/12 [00:00<00:00, 37.39it/s]\n",
      " 33%|███▎      | 4/12 [00:00<00:00, 37.19it/s]"
     ]
    },
    {
     "name": "stdout",
     "output_type": "stream",
     "text": [
      "498: [Discriminator loss: 0.096826]  [GAN loss: 0.382267]\n",
      "Epoch 499\n"
     ]
    },
    {
     "name": "stderr",
     "output_type": "stream",
     "text": [
      "100%|██████████| 12/12 [00:00<00:00, 36.94it/s]\n",
      " 33%|███▎      | 4/12 [00:00<00:00, 33.06it/s]"
     ]
    },
    {
     "name": "stdout",
     "output_type": "stream",
     "text": [
      "499: [Discriminator loss: 0.167339]  [GAN loss: 0.295026]\n",
      "Epoch 500\n"
     ]
    },
    {
     "name": "stderr",
     "output_type": "stream",
     "text": [
      "100%|██████████| 12/12 [00:00<00:00, 27.19it/s]\n",
      " 33%|███▎      | 4/12 [00:00<00:00, 38.40it/s]"
     ]
    },
    {
     "name": "stdout",
     "output_type": "stream",
     "text": [
      "500: [Discriminator loss: 0.065244]  [GAN loss: 0.696727]\n",
      "Epoch 501\n"
     ]
    },
    {
     "name": "stderr",
     "output_type": "stream",
     "text": [
      "100%|██████████| 12/12 [00:00<00:00, 38.04it/s]\n",
      " 33%|███▎      | 4/12 [00:00<00:00, 37.14it/s]"
     ]
    },
    {
     "name": "stdout",
     "output_type": "stream",
     "text": [
      "501: [Discriminator loss: 0.116434]  [GAN loss: 0.435662]\n",
      "Epoch 502\n"
     ]
    },
    {
     "name": "stderr",
     "output_type": "stream",
     "text": [
      "100%|██████████| 12/12 [00:00<00:00, 36.88it/s]\n",
      " 33%|███▎      | 4/12 [00:00<00:00, 36.57it/s]"
     ]
    },
    {
     "name": "stdout",
     "output_type": "stream",
     "text": [
      "502: [Discriminator loss: 0.114321]  [GAN loss: 0.710865]\n",
      "Epoch 503\n"
     ]
    },
    {
     "name": "stderr",
     "output_type": "stream",
     "text": [
      "100%|██████████| 12/12 [00:00<00:00, 37.17it/s]\n",
      " 33%|███▎      | 4/12 [00:00<00:00, 36.40it/s]"
     ]
    },
    {
     "name": "stdout",
     "output_type": "stream",
     "text": [
      "503: [Discriminator loss: 0.054815]  [GAN loss: 0.443268]\n",
      "Epoch 504\n"
     ]
    },
    {
     "name": "stderr",
     "output_type": "stream",
     "text": [
      "100%|██████████| 12/12 [00:00<00:00, 36.31it/s]\n",
      " 33%|███▎      | 4/12 [00:00<00:00, 37.17it/s]"
     ]
    },
    {
     "name": "stdout",
     "output_type": "stream",
     "text": [
      "504: [Discriminator loss: 0.134578]  [GAN loss: 0.333303]\n",
      "Epoch 505\n"
     ]
    },
    {
     "name": "stderr",
     "output_type": "stream",
     "text": [
      "100%|██████████| 12/12 [00:00<00:00, 36.82it/s]\n",
      " 33%|███▎      | 4/12 [00:00<00:00, 35.87it/s]"
     ]
    },
    {
     "name": "stdout",
     "output_type": "stream",
     "text": [
      "505: [Discriminator loss: 0.128042]  [GAN loss: 0.578238]\n",
      "Epoch 506\n"
     ]
    },
    {
     "name": "stderr",
     "output_type": "stream",
     "text": [
      "100%|██████████| 12/12 [00:00<00:00, 36.92it/s]\n",
      " 33%|███▎      | 4/12 [00:00<00:00, 37.23it/s]"
     ]
    },
    {
     "name": "stdout",
     "output_type": "stream",
     "text": [
      "506: [Discriminator loss: 0.078513]  [GAN loss: 0.612913]\n",
      "Epoch 507\n"
     ]
    },
    {
     "name": "stderr",
     "output_type": "stream",
     "text": [
      "100%|██████████| 12/12 [00:00<00:00, 37.34it/s]\n",
      " 33%|███▎      | 4/12 [00:00<00:00, 38.57it/s]"
     ]
    },
    {
     "name": "stdout",
     "output_type": "stream",
     "text": [
      "507: [Discriminator loss: 0.151862]  [GAN loss: 0.566053]\n",
      "Epoch 508\n"
     ]
    },
    {
     "name": "stderr",
     "output_type": "stream",
     "text": [
      "100%|██████████| 12/12 [00:00<00:00, 37.73it/s]\n",
      " 33%|███▎      | 4/12 [00:00<00:00, 37.64it/s]"
     ]
    },
    {
     "name": "stdout",
     "output_type": "stream",
     "text": [
      "508: [Discriminator loss: 0.180176]  [GAN loss: 0.735306]\n",
      "Epoch 509\n"
     ]
    },
    {
     "name": "stderr",
     "output_type": "stream",
     "text": [
      "100%|██████████| 12/12 [00:00<00:00, 37.35it/s]\n",
      " 33%|███▎      | 4/12 [00:00<00:00, 34.95it/s]"
     ]
    },
    {
     "name": "stdout",
     "output_type": "stream",
     "text": [
      "509: [Discriminator loss: 0.131957]  [GAN loss: 0.918689]\n",
      "Epoch 510\n"
     ]
    },
    {
     "name": "stderr",
     "output_type": "stream",
     "text": [
      "100%|██████████| 12/12 [00:00<00:00, 36.08it/s]\n",
      " 33%|███▎      | 4/12 [00:00<00:00, 38.67it/s]"
     ]
    },
    {
     "name": "stdout",
     "output_type": "stream",
     "text": [
      "510: [Discriminator loss: 0.037337]  [GAN loss: 0.368690]\n",
      "Epoch 511\n"
     ]
    },
    {
     "name": "stderr",
     "output_type": "stream",
     "text": [
      "100%|██████████| 12/12 [00:00<00:00, 37.81it/s]\n",
      " 33%|███▎      | 4/12 [00:00<00:00, 36.97it/s]"
     ]
    },
    {
     "name": "stdout",
     "output_type": "stream",
     "text": [
      "511: [Discriminator loss: 0.058372]  [GAN loss: 0.480674]\n",
      "Epoch 512\n"
     ]
    },
    {
     "name": "stderr",
     "output_type": "stream",
     "text": [
      "100%|██████████| 12/12 [00:00<00:00, 36.71it/s]\n",
      " 33%|███▎      | 4/12 [00:00<00:00, 35.32it/s]"
     ]
    },
    {
     "name": "stdout",
     "output_type": "stream",
     "text": [
      "512: [Discriminator loss: 0.035890]  [GAN loss: 0.653067]\n",
      "Epoch 513\n"
     ]
    },
    {
     "name": "stderr",
     "output_type": "stream",
     "text": [
      "100%|██████████| 12/12 [00:00<00:00, 35.71it/s]\n",
      " 33%|███▎      | 4/12 [00:00<00:00, 37.76it/s]"
     ]
    },
    {
     "name": "stdout",
     "output_type": "stream",
     "text": [
      "513: [Discriminator loss: 0.192142]  [GAN loss: 0.620955]\n",
      "Epoch 514\n"
     ]
    },
    {
     "name": "stderr",
     "output_type": "stream",
     "text": [
      "100%|██████████| 12/12 [00:00<00:00, 36.91it/s]\n",
      " 33%|███▎      | 4/12 [00:00<00:00, 35.77it/s]"
     ]
    },
    {
     "name": "stdout",
     "output_type": "stream",
     "text": [
      "514: [Discriminator loss: 0.040771]  [GAN loss: 0.470380]\n",
      "Epoch 515\n"
     ]
    },
    {
     "name": "stderr",
     "output_type": "stream",
     "text": [
      "100%|██████████| 12/12 [00:00<00:00, 36.24it/s]\n",
      " 33%|███▎      | 4/12 [00:00<00:00, 36.37it/s]"
     ]
    },
    {
     "name": "stdout",
     "output_type": "stream",
     "text": [
      "515: [Discriminator loss: 0.078724]  [GAN loss: 0.196103]\n",
      "Epoch 516\n"
     ]
    },
    {
     "name": "stderr",
     "output_type": "stream",
     "text": [
      "100%|██████████| 12/12 [00:00<00:00, 37.06it/s]\n",
      " 33%|███▎      | 4/12 [00:00<00:00, 36.19it/s]"
     ]
    },
    {
     "name": "stdout",
     "output_type": "stream",
     "text": [
      "516: [Discriminator loss: 0.086867]  [GAN loss: 0.280197]\n",
      "Epoch 517\n"
     ]
    },
    {
     "name": "stderr",
     "output_type": "stream",
     "text": [
      "100%|██████████| 12/12 [00:00<00:00, 36.69it/s]\n",
      " 33%|███▎      | 4/12 [00:00<00:00, 36.54it/s]"
     ]
    },
    {
     "name": "stdout",
     "output_type": "stream",
     "text": [
      "517: [Discriminator loss: 0.179910]  [GAN loss: 0.788155]\n",
      "Epoch 518\n"
     ]
    },
    {
     "name": "stderr",
     "output_type": "stream",
     "text": [
      "100%|██████████| 12/12 [00:00<00:00, 36.33it/s]\n",
      " 33%|███▎      | 4/12 [00:00<00:00, 35.25it/s]"
     ]
    },
    {
     "name": "stdout",
     "output_type": "stream",
     "text": [
      "518: [Discriminator loss: 0.083140]  [GAN loss: 0.744366]\n",
      "Epoch 519\n"
     ]
    },
    {
     "name": "stderr",
     "output_type": "stream",
     "text": [
      "100%|██████████| 12/12 [00:00<00:00, 36.38it/s]\n",
      " 33%|███▎      | 4/12 [00:00<00:00, 35.22it/s]"
     ]
    },
    {
     "name": "stdout",
     "output_type": "stream",
     "text": [
      "519: [Discriminator loss: 0.008708]  [GAN loss: 0.764782]\n",
      "Epoch 520\n"
     ]
    },
    {
     "name": "stderr",
     "output_type": "stream",
     "text": [
      "100%|██████████| 12/12 [00:00<00:00, 35.99it/s]\n",
      " 33%|███▎      | 4/12 [00:00<00:00, 38.29it/s]"
     ]
    },
    {
     "name": "stdout",
     "output_type": "stream",
     "text": [
      "520: [Discriminator loss: 0.056858]  [GAN loss: 0.836920]\n",
      "Epoch 521\n"
     ]
    },
    {
     "name": "stderr",
     "output_type": "stream",
     "text": [
      "100%|██████████| 12/12 [00:00<00:00, 37.47it/s]\n",
      " 33%|███▎      | 4/12 [00:00<00:00, 36.27it/s]"
     ]
    },
    {
     "name": "stdout",
     "output_type": "stream",
     "text": [
      "521: [Discriminator loss: 0.018897]  [GAN loss: 0.392380]\n",
      "Epoch 522\n"
     ]
    },
    {
     "name": "stderr",
     "output_type": "stream",
     "text": [
      "100%|██████████| 12/12 [00:00<00:00, 36.77it/s]\n",
      " 33%|███▎      | 4/12 [00:00<00:00, 36.38it/s]"
     ]
    },
    {
     "name": "stdout",
     "output_type": "stream",
     "text": [
      "522: [Discriminator loss: 0.121487]  [GAN loss: 0.790401]\n",
      "Epoch 523\n"
     ]
    },
    {
     "name": "stderr",
     "output_type": "stream",
     "text": [
      "100%|██████████| 12/12 [00:00<00:00, 36.45it/s]\n",
      " 33%|███▎      | 4/12 [00:00<00:00, 37.08it/s]"
     ]
    },
    {
     "name": "stdout",
     "output_type": "stream",
     "text": [
      "523: [Discriminator loss: 0.063530]  [GAN loss: 0.512235]\n",
      "Epoch 524\n"
     ]
    },
    {
     "name": "stderr",
     "output_type": "stream",
     "text": [
      "100%|██████████| 12/12 [00:00<00:00, 37.22it/s]\n",
      " 33%|███▎      | 4/12 [00:00<00:00, 35.90it/s]"
     ]
    },
    {
     "name": "stdout",
     "output_type": "stream",
     "text": [
      "524: [Discriminator loss: 0.165543]  [GAN loss: 0.360835]\n",
      "Epoch 525\n"
     ]
    },
    {
     "name": "stderr",
     "output_type": "stream",
     "text": [
      "100%|██████████| 12/12 [00:00<00:00, 36.17it/s]\n",
      " 33%|███▎      | 4/12 [00:00<00:00, 37.34it/s]"
     ]
    },
    {
     "name": "stdout",
     "output_type": "stream",
     "text": [
      "525: [Discriminator loss: 0.136483]  [GAN loss: 0.313908]\n",
      "Epoch 526\n"
     ]
    },
    {
     "name": "stderr",
     "output_type": "stream",
     "text": [
      "100%|██████████| 12/12 [00:00<00:00, 37.22it/s]\n",
      " 33%|███▎      | 4/12 [00:00<00:00, 36.77it/s]"
     ]
    },
    {
     "name": "stdout",
     "output_type": "stream",
     "text": [
      "526: [Discriminator loss: 0.136704]  [GAN loss: 0.348771]\n",
      "Epoch 527\n"
     ]
    },
    {
     "name": "stderr",
     "output_type": "stream",
     "text": [
      "100%|██████████| 12/12 [00:00<00:00, 36.66it/s]\n",
      " 33%|███▎      | 4/12 [00:00<00:00, 36.48it/s]"
     ]
    },
    {
     "name": "stdout",
     "output_type": "stream",
     "text": [
      "527: [Discriminator loss: 0.058723]  [GAN loss: 0.246574]\n",
      "Epoch 528\n"
     ]
    },
    {
     "name": "stderr",
     "output_type": "stream",
     "text": [
      "100%|██████████| 12/12 [00:00<00:00, 36.65it/s]\n",
      " 33%|███▎      | 4/12 [00:00<00:00, 37.55it/s]"
     ]
    },
    {
     "name": "stdout",
     "output_type": "stream",
     "text": [
      "528: [Discriminator loss: 0.114318]  [GAN loss: 0.809652]\n",
      "Epoch 529\n"
     ]
    },
    {
     "name": "stderr",
     "output_type": "stream",
     "text": [
      "100%|██████████| 12/12 [00:00<00:00, 37.28it/s]\n",
      " 33%|███▎      | 4/12 [00:00<00:00, 36.10it/s]"
     ]
    },
    {
     "name": "stdout",
     "output_type": "stream",
     "text": [
      "529: [Discriminator loss: 0.057881]  [GAN loss: 0.657753]\n",
      "Epoch 530\n"
     ]
    },
    {
     "name": "stderr",
     "output_type": "stream",
     "text": [
      "100%|██████████| 12/12 [00:00<00:00, 36.50it/s]\n",
      " 33%|███▎      | 4/12 [00:00<00:00, 34.71it/s]"
     ]
    },
    {
     "name": "stdout",
     "output_type": "stream",
     "text": [
      "530: [Discriminator loss: 0.035712]  [GAN loss: 0.425113]\n",
      "Epoch 531\n"
     ]
    },
    {
     "name": "stderr",
     "output_type": "stream",
     "text": [
      "100%|██████████| 12/12 [00:00<00:00, 35.62it/s]\n",
      " 33%|███▎      | 4/12 [00:00<00:00, 36.97it/s]"
     ]
    },
    {
     "name": "stdout",
     "output_type": "stream",
     "text": [
      "531: [Discriminator loss: 0.027729]  [GAN loss: 0.883412]\n",
      "Epoch 532\n"
     ]
    },
    {
     "name": "stderr",
     "output_type": "stream",
     "text": [
      "100%|██████████| 12/12 [00:00<00:00, 36.83it/s]\n",
      " 33%|███▎      | 4/12 [00:00<00:00, 36.45it/s]"
     ]
    },
    {
     "name": "stdout",
     "output_type": "stream",
     "text": [
      "532: [Discriminator loss: 0.020084]  [GAN loss: 1.155240]\n",
      "Epoch 533\n"
     ]
    },
    {
     "name": "stderr",
     "output_type": "stream",
     "text": [
      "100%|██████████| 12/12 [00:00<00:00, 36.87it/s]\n",
      " 25%|██▌       | 3/12 [00:00<00:00, 29.35it/s]"
     ]
    },
    {
     "name": "stdout",
     "output_type": "stream",
     "text": [
      "533: [Discriminator loss: 0.091491]  [GAN loss: 0.518745]\n",
      "Epoch 534\n"
     ]
    },
    {
     "name": "stderr",
     "output_type": "stream",
     "text": [
      "100%|██████████| 12/12 [00:00<00:00, 33.30it/s]\n",
      " 33%|███▎      | 4/12 [00:00<00:00, 38.63it/s]"
     ]
    },
    {
     "name": "stdout",
     "output_type": "stream",
     "text": [
      "534: [Discriminator loss: 0.035277]  [GAN loss: 0.823332]\n",
      "Epoch 535\n"
     ]
    },
    {
     "name": "stderr",
     "output_type": "stream",
     "text": [
      "100%|██████████| 12/12 [00:00<00:00, 37.80it/s]\n",
      " 33%|███▎      | 4/12 [00:00<00:00, 38.24it/s]"
     ]
    },
    {
     "name": "stdout",
     "output_type": "stream",
     "text": [
      "535: [Discriminator loss: 0.098622]  [GAN loss: 0.301706]\n",
      "Epoch 536\n"
     ]
    },
    {
     "name": "stderr",
     "output_type": "stream",
     "text": [
      "100%|██████████| 12/12 [00:00<00:00, 37.67it/s]\n",
      " 33%|███▎      | 4/12 [00:00<00:00, 35.31it/s]"
     ]
    },
    {
     "name": "stdout",
     "output_type": "stream",
     "text": [
      "536: [Discriminator loss: 0.155503]  [GAN loss: 0.526115]\n",
      "Epoch 537\n"
     ]
    },
    {
     "name": "stderr",
     "output_type": "stream",
     "text": [
      "100%|██████████| 12/12 [00:00<00:00, 36.34it/s]\n",
      " 33%|███▎      | 4/12 [00:00<00:00, 39.59it/s]"
     ]
    },
    {
     "name": "stdout",
     "output_type": "stream",
     "text": [
      "537: [Discriminator loss: 0.130788]  [GAN loss: 0.588460]\n",
      "Epoch 538\n"
     ]
    },
    {
     "name": "stderr",
     "output_type": "stream",
     "text": [
      "100%|██████████| 12/12 [00:00<00:00, 37.98it/s]\n",
      " 33%|███▎      | 4/12 [00:00<00:00, 38.12it/s]"
     ]
    },
    {
     "name": "stdout",
     "output_type": "stream",
     "text": [
      "538: [Discriminator loss: 0.072939]  [GAN loss: 0.604881]\n",
      "Epoch 539\n"
     ]
    },
    {
     "name": "stderr",
     "output_type": "stream",
     "text": [
      "100%|██████████| 12/12 [00:00<00:00, 36.95it/s]\n",
      " 33%|███▎      | 4/12 [00:00<00:00, 36.54it/s]"
     ]
    },
    {
     "name": "stdout",
     "output_type": "stream",
     "text": [
      "539: [Discriminator loss: 0.082511]  [GAN loss: 0.615864]\n",
      "Epoch 540\n"
     ]
    },
    {
     "name": "stderr",
     "output_type": "stream",
     "text": [
      "100%|██████████| 12/12 [00:00<00:00, 36.36it/s]\n",
      " 33%|███▎      | 4/12 [00:00<00:00, 37.04it/s]"
     ]
    },
    {
     "name": "stdout",
     "output_type": "stream",
     "text": [
      "540: [Discriminator loss: 0.114694]  [GAN loss: 0.506756]\n",
      "Epoch 541\n"
     ]
    },
    {
     "name": "stderr",
     "output_type": "stream",
     "text": [
      "100%|██████████| 12/12 [00:00<00:00, 37.67it/s]\n",
      " 33%|███▎      | 4/12 [00:00<00:00, 37.42it/s]"
     ]
    },
    {
     "name": "stdout",
     "output_type": "stream",
     "text": [
      "541: [Discriminator loss: 0.047907]  [GAN loss: 0.914694]\n",
      "Epoch 542\n"
     ]
    },
    {
     "name": "stderr",
     "output_type": "stream",
     "text": [
      "100%|██████████| 12/12 [00:00<00:00, 37.13it/s]\n",
      " 33%|███▎      | 4/12 [00:00<00:00, 35.02it/s]"
     ]
    },
    {
     "name": "stdout",
     "output_type": "stream",
     "text": [
      "542: [Discriminator loss: 0.078491]  [GAN loss: 0.812670]\n",
      "Epoch 543\n"
     ]
    },
    {
     "name": "stderr",
     "output_type": "stream",
     "text": [
      "100%|██████████| 12/12 [00:00<00:00, 35.64it/s]\n",
      " 33%|███▎      | 4/12 [00:00<00:00, 38.58it/s]"
     ]
    },
    {
     "name": "stdout",
     "output_type": "stream",
     "text": [
      "543: [Discriminator loss: 0.201419]  [GAN loss: 0.505158]\n",
      "Epoch 544\n"
     ]
    },
    {
     "name": "stderr",
     "output_type": "stream",
     "text": [
      "100%|██████████| 12/12 [00:00<00:00, 37.84it/s]\n",
      " 33%|███▎      | 4/12 [00:00<00:00, 37.07it/s]"
     ]
    },
    {
     "name": "stdout",
     "output_type": "stream",
     "text": [
      "544: [Discriminator loss: 0.030700]  [GAN loss: 0.617620]\n",
      "Epoch 545\n"
     ]
    },
    {
     "name": "stderr",
     "output_type": "stream",
     "text": [
      "100%|██████████| 12/12 [00:00<00:00, 37.44it/s]\n",
      " 33%|███▎      | 4/12 [00:00<00:00, 35.37it/s]"
     ]
    },
    {
     "name": "stdout",
     "output_type": "stream",
     "text": [
      "545: [Discriminator loss: 0.152514]  [GAN loss: 0.873579]\n",
      "Epoch 546\n"
     ]
    },
    {
     "name": "stderr",
     "output_type": "stream",
     "text": [
      "100%|██████████| 12/12 [00:00<00:00, 35.30it/s]\n",
      " 50%|█████     | 6/12 [00:00<00:00, 52.19it/s]"
     ]
    },
    {
     "name": "stdout",
     "output_type": "stream",
     "text": [
      "546: [Discriminator loss: 0.057407]  [GAN loss: 0.449006]\n",
      "Epoch 547\n"
     ]
    },
    {
     "name": "stderr",
     "output_type": "stream",
     "text": [
      "100%|██████████| 12/12 [00:00<00:00, 41.80it/s]\n",
      " 33%|███▎      | 4/12 [00:00<00:00, 39.90it/s]"
     ]
    },
    {
     "name": "stdout",
     "output_type": "stream",
     "text": [
      "547: [Discriminator loss: 0.069441]  [GAN loss: 0.371121]\n",
      "Epoch 548\n"
     ]
    },
    {
     "name": "stderr",
     "output_type": "stream",
     "text": [
      "100%|██████████| 12/12 [00:00<00:00, 38.33it/s]\n",
      " 33%|███▎      | 4/12 [00:00<00:00, 36.07it/s]"
     ]
    },
    {
     "name": "stdout",
     "output_type": "stream",
     "text": [
      "548: [Discriminator loss: 0.093653]  [GAN loss: 0.456117]\n",
      "Epoch 549\n"
     ]
    },
    {
     "name": "stderr",
     "output_type": "stream",
     "text": [
      "100%|██████████| 12/12 [00:00<00:00, 36.59it/s]\n",
      " 33%|███▎      | 4/12 [00:00<00:00, 36.24it/s]"
     ]
    },
    {
     "name": "stdout",
     "output_type": "stream",
     "text": [
      "549: [Discriminator loss: 0.052385]  [GAN loss: 0.398308]\n",
      "Epoch 550\n"
     ]
    },
    {
     "name": "stderr",
     "output_type": "stream",
     "text": [
      "100%|██████████| 12/12 [00:00<00:00, 36.42it/s]\n",
      " 33%|███▎      | 4/12 [00:00<00:00, 35.64it/s]"
     ]
    },
    {
     "name": "stdout",
     "output_type": "stream",
     "text": [
      "550: [Discriminator loss: 0.183031]  [GAN loss: 0.573059]\n",
      "Epoch 551\n"
     ]
    },
    {
     "name": "stderr",
     "output_type": "stream",
     "text": [
      "100%|██████████| 12/12 [00:00<00:00, 35.96it/s]\n",
      " 33%|███▎      | 4/12 [00:00<00:00, 35.87it/s]"
     ]
    },
    {
     "name": "stdout",
     "output_type": "stream",
     "text": [
      "551: [Discriminator loss: 0.056787]  [GAN loss: 0.539887]\n",
      "Epoch 552\n"
     ]
    },
    {
     "name": "stderr",
     "output_type": "stream",
     "text": [
      "100%|██████████| 12/12 [00:00<00:00, 36.43it/s]\n",
      " 33%|███▎      | 4/12 [00:00<00:00, 36.72it/s]"
     ]
    },
    {
     "name": "stdout",
     "output_type": "stream",
     "text": [
      "552: [Discriminator loss: 0.124340]  [GAN loss: 0.371329]\n",
      "Epoch 553\n"
     ]
    },
    {
     "name": "stderr",
     "output_type": "stream",
     "text": [
      "100%|██████████| 12/12 [00:00<00:00, 35.86it/s]\n",
      " 33%|███▎      | 4/12 [00:00<00:00, 36.68it/s]"
     ]
    },
    {
     "name": "stdout",
     "output_type": "stream",
     "text": [
      "553: [Discriminator loss: 0.038744]  [GAN loss: 0.288796]\n",
      "Epoch 554\n"
     ]
    },
    {
     "name": "stderr",
     "output_type": "stream",
     "text": [
      "100%|██████████| 12/12 [00:00<00:00, 36.80it/s]\n",
      " 33%|███▎      | 4/12 [00:00<00:00, 36.07it/s]"
     ]
    },
    {
     "name": "stdout",
     "output_type": "stream",
     "text": [
      "554: [Discriminator loss: 0.074596]  [GAN loss: 0.942709]\n",
      "Epoch 555\n"
     ]
    },
    {
     "name": "stderr",
     "output_type": "stream",
     "text": [
      "100%|██████████| 12/12 [00:00<00:00, 36.51it/s]\n",
      " 33%|███▎      | 4/12 [00:00<00:00, 39.18it/s]"
     ]
    },
    {
     "name": "stdout",
     "output_type": "stream",
     "text": [
      "555: [Discriminator loss: 0.050631]  [GAN loss: 0.203538]\n",
      "Epoch 556\n"
     ]
    },
    {
     "name": "stderr",
     "output_type": "stream",
     "text": [
      "100%|██████████| 12/12 [00:00<00:00, 37.82it/s]\n",
      " 33%|███▎      | 4/12 [00:00<00:00, 37.79it/s]"
     ]
    },
    {
     "name": "stdout",
     "output_type": "stream",
     "text": [
      "556: [Discriminator loss: 0.050446]  [GAN loss: 0.569976]\n",
      "Epoch 557\n"
     ]
    },
    {
     "name": "stderr",
     "output_type": "stream",
     "text": [
      "100%|██████████| 12/12 [00:00<00:00, 33.68it/s]\n",
      " 33%|███▎      | 4/12 [00:00<00:00, 35.80it/s]"
     ]
    },
    {
     "name": "stdout",
     "output_type": "stream",
     "text": [
      "557: [Discriminator loss: 0.130293]  [GAN loss: 0.340837]\n",
      "Epoch 558\n"
     ]
    },
    {
     "name": "stderr",
     "output_type": "stream",
     "text": [
      "100%|██████████| 12/12 [00:00<00:00, 36.36it/s]\n",
      " 33%|███▎      | 4/12 [00:00<00:00, 37.92it/s]"
     ]
    },
    {
     "name": "stdout",
     "output_type": "stream",
     "text": [
      "558: [Discriminator loss: 0.114350]  [GAN loss: 0.351177]\n",
      "Epoch 559\n"
     ]
    },
    {
     "name": "stderr",
     "output_type": "stream",
     "text": [
      "100%|██████████| 12/12 [00:00<00:00, 37.21it/s]\n",
      " 33%|███▎      | 4/12 [00:00<00:00, 37.25it/s]"
     ]
    },
    {
     "name": "stdout",
     "output_type": "stream",
     "text": [
      "559: [Discriminator loss: 0.033489]  [GAN loss: 0.545263]\n",
      "Epoch 560\n"
     ]
    },
    {
     "name": "stderr",
     "output_type": "stream",
     "text": [
      "100%|██████████| 12/12 [00:00<00:00, 36.70it/s]\n",
      " 33%|███▎      | 4/12 [00:00<00:00, 34.47it/s]"
     ]
    },
    {
     "name": "stdout",
     "output_type": "stream",
     "text": [
      "560: [Discriminator loss: 0.133724]  [GAN loss: 0.691443]\n",
      "Epoch 561\n"
     ]
    },
    {
     "name": "stderr",
     "output_type": "stream",
     "text": [
      "100%|██████████| 12/12 [00:00<00:00, 35.64it/s]\n",
      " 33%|███▎      | 4/12 [00:00<00:00, 36.32it/s]"
     ]
    },
    {
     "name": "stdout",
     "output_type": "stream",
     "text": [
      "561: [Discriminator loss: 0.042540]  [GAN loss: 0.341078]\n",
      "Epoch 562\n"
     ]
    },
    {
     "name": "stderr",
     "output_type": "stream",
     "text": [
      "100%|██████████| 12/12 [00:00<00:00, 36.69it/s]\n",
      " 33%|███▎      | 4/12 [00:00<00:00, 34.88it/s]"
     ]
    },
    {
     "name": "stdout",
     "output_type": "stream",
     "text": [
      "562: [Discriminator loss: 0.072791]  [GAN loss: 0.420415]\n",
      "Epoch 563\n"
     ]
    },
    {
     "name": "stderr",
     "output_type": "stream",
     "text": [
      "100%|██████████| 12/12 [00:00<00:00, 36.22it/s]\n",
      " 33%|███▎      | 4/12 [00:00<00:00, 34.52it/s]"
     ]
    },
    {
     "name": "stdout",
     "output_type": "stream",
     "text": [
      "563: [Discriminator loss: 0.063148]  [GAN loss: 0.572856]\n",
      "Epoch 564\n"
     ]
    },
    {
     "name": "stderr",
     "output_type": "stream",
     "text": [
      "100%|██████████| 12/12 [00:00<00:00, 36.16it/s]\n",
      " 33%|███▎      | 4/12 [00:00<00:00, 35.96it/s]"
     ]
    },
    {
     "name": "stdout",
     "output_type": "stream",
     "text": [
      "564: [Discriminator loss: 0.013379]  [GAN loss: 0.526230]\n",
      "Epoch 565\n"
     ]
    },
    {
     "name": "stderr",
     "output_type": "stream",
     "text": [
      "100%|██████████| 12/12 [00:00<00:00, 36.49it/s]\n",
      " 33%|███▎      | 4/12 [00:00<00:00, 35.14it/s]"
     ]
    },
    {
     "name": "stdout",
     "output_type": "stream",
     "text": [
      "565: [Discriminator loss: 0.080601]  [GAN loss: 0.628888]\n",
      "Epoch 566\n"
     ]
    },
    {
     "name": "stderr",
     "output_type": "stream",
     "text": [
      "100%|██████████| 12/12 [00:00<00:00, 36.39it/s]\n",
      " 25%|██▌       | 3/12 [00:00<00:00, 28.94it/s]"
     ]
    },
    {
     "name": "stdout",
     "output_type": "stream",
     "text": [
      "566: [Discriminator loss: 0.062460]  [GAN loss: 1.018861]\n",
      "Epoch 567\n"
     ]
    },
    {
     "name": "stderr",
     "output_type": "stream",
     "text": [
      "100%|██████████| 12/12 [00:00<00:00, 33.12it/s]\n",
      " 33%|███▎      | 4/12 [00:00<00:00, 35.15it/s]"
     ]
    },
    {
     "name": "stdout",
     "output_type": "stream",
     "text": [
      "567: [Discriminator loss: 0.053452]  [GAN loss: 0.618622]\n",
      "Epoch 568\n"
     ]
    },
    {
     "name": "stderr",
     "output_type": "stream",
     "text": [
      "100%|██████████| 12/12 [00:00<00:00, 35.66it/s]\n",
      " 33%|███▎      | 4/12 [00:00<00:00, 38.39it/s]"
     ]
    },
    {
     "name": "stdout",
     "output_type": "stream",
     "text": [
      "568: [Discriminator loss: 0.140337]  [GAN loss: 0.521055]\n",
      "Epoch 569\n"
     ]
    },
    {
     "name": "stderr",
     "output_type": "stream",
     "text": [
      "100%|██████████| 12/12 [00:00<00:00, 37.84it/s]\n",
      " 33%|███▎      | 4/12 [00:00<00:00, 36.37it/s]"
     ]
    },
    {
     "name": "stdout",
     "output_type": "stream",
     "text": [
      "569: [Discriminator loss: 0.071288]  [GAN loss: 0.757568]\n",
      "Epoch 570\n"
     ]
    },
    {
     "name": "stderr",
     "output_type": "stream",
     "text": [
      "100%|██████████| 12/12 [00:00<00:00, 36.62it/s]\n",
      " 33%|███▎      | 4/12 [00:00<00:00, 36.45it/s]"
     ]
    },
    {
     "name": "stdout",
     "output_type": "stream",
     "text": [
      "570: [Discriminator loss: 0.021338]  [GAN loss: 0.637309]\n",
      "Epoch 571\n"
     ]
    },
    {
     "name": "stderr",
     "output_type": "stream",
     "text": [
      "100%|██████████| 12/12 [00:00<00:00, 36.48it/s]\n",
      " 33%|███▎      | 4/12 [00:00<00:00, 38.07it/s]"
     ]
    },
    {
     "name": "stdout",
     "output_type": "stream",
     "text": [
      "571: [Discriminator loss: 0.068743]  [GAN loss: 0.590504]\n",
      "Epoch 572\n"
     ]
    },
    {
     "name": "stderr",
     "output_type": "stream",
     "text": [
      "100%|██████████| 12/12 [00:00<00:00, 38.02it/s]\n",
      " 33%|███▎      | 4/12 [00:00<00:00, 33.91it/s]"
     ]
    },
    {
     "name": "stdout",
     "output_type": "stream",
     "text": [
      "572: [Discriminator loss: 0.089544]  [GAN loss: 0.675821]\n",
      "Epoch 573\n"
     ]
    },
    {
     "name": "stderr",
     "output_type": "stream",
     "text": [
      "100%|██████████| 12/12 [00:00<00:00, 35.70it/s]\n",
      " 33%|███▎      | 4/12 [00:00<00:00, 37.18it/s]"
     ]
    },
    {
     "name": "stdout",
     "output_type": "stream",
     "text": [
      "573: [Discriminator loss: 0.128539]  [GAN loss: 0.541648]\n",
      "Epoch 574\n"
     ]
    },
    {
     "name": "stderr",
     "output_type": "stream",
     "text": [
      "100%|██████████| 12/12 [00:00<00:00, 36.72it/s]\n",
      " 33%|███▎      | 4/12 [00:00<00:00, 36.40it/s]"
     ]
    },
    {
     "name": "stdout",
     "output_type": "stream",
     "text": [
      "574: [Discriminator loss: 0.012377]  [GAN loss: 0.487882]\n",
      "Epoch 575\n"
     ]
    },
    {
     "name": "stderr",
     "output_type": "stream",
     "text": [
      "100%|██████████| 12/12 [00:00<00:00, 36.88it/s]\n",
      " 33%|███▎      | 4/12 [00:00<00:00, 36.64it/s]"
     ]
    },
    {
     "name": "stdout",
     "output_type": "stream",
     "text": [
      "575: [Discriminator loss: 0.103774]  [GAN loss: 0.519550]\n",
      "Epoch 576\n"
     ]
    },
    {
     "name": "stderr",
     "output_type": "stream",
     "text": [
      "100%|██████████| 12/12 [00:00<00:00, 37.10it/s]\n",
      " 33%|███▎      | 4/12 [00:00<00:00, 36.09it/s]"
     ]
    },
    {
     "name": "stdout",
     "output_type": "stream",
     "text": [
      "576: [Discriminator loss: 0.085811]  [GAN loss: 0.323126]\n",
      "Epoch 577\n"
     ]
    },
    {
     "name": "stderr",
     "output_type": "stream",
     "text": [
      "100%|██████████| 12/12 [00:00<00:00, 37.11it/s]\n",
      " 33%|███▎      | 4/12 [00:00<00:00, 36.54it/s]"
     ]
    },
    {
     "name": "stdout",
     "output_type": "stream",
     "text": [
      "577: [Discriminator loss: 0.075971]  [GAN loss: 0.601810]\n",
      "Epoch 578\n"
     ]
    },
    {
     "name": "stderr",
     "output_type": "stream",
     "text": [
      "100%|██████████| 12/12 [00:00<00:00, 36.89it/s]\n",
      " 33%|███▎      | 4/12 [00:00<00:00, 34.91it/s]"
     ]
    },
    {
     "name": "stdout",
     "output_type": "stream",
     "text": [
      "578: [Discriminator loss: 0.112084]  [GAN loss: 0.470951]\n",
      "Epoch 579\n"
     ]
    },
    {
     "name": "stderr",
     "output_type": "stream",
     "text": [
      "100%|██████████| 12/12 [00:00<00:00, 35.93it/s]\n",
      " 33%|███▎      | 4/12 [00:00<00:00, 38.02it/s]"
     ]
    },
    {
     "name": "stdout",
     "output_type": "stream",
     "text": [
      "579: [Discriminator loss: 0.063770]  [GAN loss: 0.341792]\n",
      "Epoch 580\n"
     ]
    },
    {
     "name": "stderr",
     "output_type": "stream",
     "text": [
      "100%|██████████| 12/12 [00:00<00:00, 37.45it/s]\n",
      " 33%|███▎      | 4/12 [00:00<00:00, 37.76it/s]"
     ]
    },
    {
     "name": "stdout",
     "output_type": "stream",
     "text": [
      "580: [Discriminator loss: 0.269821]  [GAN loss: 0.743688]\n",
      "Epoch 581\n"
     ]
    },
    {
     "name": "stderr",
     "output_type": "stream",
     "text": [
      "100%|██████████| 12/12 [00:00<00:00, 36.91it/s]\n",
      " 33%|███▎      | 4/12 [00:00<00:00, 35.58it/s]"
     ]
    },
    {
     "name": "stdout",
     "output_type": "stream",
     "text": [
      "581: [Discriminator loss: 0.049131]  [GAN loss: 0.261095]\n",
      "Epoch 582\n"
     ]
    },
    {
     "name": "stderr",
     "output_type": "stream",
     "text": [
      "100%|██████████| 12/12 [00:00<00:00, 36.22it/s]\n",
      " 33%|███▎      | 4/12 [00:00<00:00, 37.81it/s]"
     ]
    },
    {
     "name": "stdout",
     "output_type": "stream",
     "text": [
      "582: [Discriminator loss: 0.055811]  [GAN loss: 0.574502]\n",
      "Epoch 583\n"
     ]
    },
    {
     "name": "stderr",
     "output_type": "stream",
     "text": [
      "100%|██████████| 12/12 [00:00<00:00, 36.82it/s]\n",
      " 33%|███▎      | 4/12 [00:00<00:00, 38.72it/s]"
     ]
    },
    {
     "name": "stdout",
     "output_type": "stream",
     "text": [
      "583: [Discriminator loss: 0.164815]  [GAN loss: 0.260368]\n",
      "Epoch 584\n"
     ]
    },
    {
     "name": "stderr",
     "output_type": "stream",
     "text": [
      "100%|██████████| 12/12 [00:00<00:00, 37.58it/s]\n",
      " 33%|███▎      | 4/12 [00:00<00:00, 37.98it/s]"
     ]
    },
    {
     "name": "stdout",
     "output_type": "stream",
     "text": [
      "584: [Discriminator loss: 0.145177]  [GAN loss: 0.403209]\n",
      "Epoch 585\n"
     ]
    },
    {
     "name": "stderr",
     "output_type": "stream",
     "text": [
      "100%|██████████| 12/12 [00:00<00:00, 36.93it/s]\n",
      " 33%|███▎      | 4/12 [00:00<00:00, 33.67it/s]"
     ]
    },
    {
     "name": "stdout",
     "output_type": "stream",
     "text": [
      "585: [Discriminator loss: 0.093037]  [GAN loss: 0.305646]\n",
      "Epoch 586\n"
     ]
    },
    {
     "name": "stderr",
     "output_type": "stream",
     "text": [
      "100%|██████████| 12/12 [00:00<00:00, 34.80it/s]\n",
      " 33%|███▎      | 4/12 [00:00<00:00, 36.17it/s]"
     ]
    },
    {
     "name": "stdout",
     "output_type": "stream",
     "text": [
      "586: [Discriminator loss: 0.091307]  [GAN loss: 0.322371]\n",
      "Epoch 587\n"
     ]
    },
    {
     "name": "stderr",
     "output_type": "stream",
     "text": [
      "100%|██████████| 12/12 [00:00<00:00, 35.56it/s]\n",
      " 33%|███▎      | 4/12 [00:00<00:00, 39.04it/s]"
     ]
    },
    {
     "name": "stdout",
     "output_type": "stream",
     "text": [
      "587: [Discriminator loss: 0.093229]  [GAN loss: 0.262562]\n",
      "Epoch 588\n"
     ]
    },
    {
     "name": "stderr",
     "output_type": "stream",
     "text": [
      "100%|██████████| 12/12 [00:00<00:00, 38.34it/s]\n",
      " 33%|███▎      | 4/12 [00:00<00:00, 38.36it/s]"
     ]
    },
    {
     "name": "stdout",
     "output_type": "stream",
     "text": [
      "588: [Discriminator loss: 0.139701]  [GAN loss: 0.574576]\n",
      "Epoch 589\n"
     ]
    },
    {
     "name": "stderr",
     "output_type": "stream",
     "text": [
      "100%|██████████| 12/12 [00:00<00:00, 37.81it/s]\n",
      " 33%|███▎      | 4/12 [00:00<00:00, 36.51it/s]"
     ]
    },
    {
     "name": "stdout",
     "output_type": "stream",
     "text": [
      "589: [Discriminator loss: 0.062693]  [GAN loss: 0.541256]\n",
      "Epoch 590\n"
     ]
    },
    {
     "name": "stderr",
     "output_type": "stream",
     "text": [
      "100%|██████████| 12/12 [00:00<00:00, 36.13it/s]\n",
      " 33%|███▎      | 4/12 [00:00<00:00, 34.17it/s]"
     ]
    },
    {
     "name": "stdout",
     "output_type": "stream",
     "text": [
      "590: [Discriminator loss: 0.012976]  [GAN loss: 0.405471]\n",
      "Epoch 591\n"
     ]
    },
    {
     "name": "stderr",
     "output_type": "stream",
     "text": [
      "100%|██████████| 12/12 [00:00<00:00, 35.42it/s]\n",
      " 33%|███▎      | 4/12 [00:00<00:00, 37.02it/s]"
     ]
    },
    {
     "name": "stdout",
     "output_type": "stream",
     "text": [
      "591: [Discriminator loss: 0.078530]  [GAN loss: 0.773451]\n",
      "Epoch 592\n"
     ]
    },
    {
     "name": "stderr",
     "output_type": "stream",
     "text": [
      "100%|██████████| 12/12 [00:00<00:00, 36.68it/s]\n",
      " 33%|███▎      | 4/12 [00:00<00:00, 36.48it/s]"
     ]
    },
    {
     "name": "stdout",
     "output_type": "stream",
     "text": [
      "592: [Discriminator loss: 0.064735]  [GAN loss: 0.544782]\n",
      "Epoch 593\n"
     ]
    },
    {
     "name": "stderr",
     "output_type": "stream",
     "text": [
      "100%|██████████| 12/12 [00:00<00:00, 36.87it/s]\n",
      " 33%|███▎      | 4/12 [00:00<00:00, 36.69it/s]"
     ]
    },
    {
     "name": "stdout",
     "output_type": "stream",
     "text": [
      "593: [Discriminator loss: 0.087850]  [GAN loss: 0.754673]\n",
      "Epoch 594\n"
     ]
    },
    {
     "name": "stderr",
     "output_type": "stream",
     "text": [
      "100%|██████████| 12/12 [00:00<00:00, 35.94it/s]\n",
      " 33%|███▎      | 4/12 [00:00<00:00, 36.81it/s]"
     ]
    },
    {
     "name": "stdout",
     "output_type": "stream",
     "text": [
      "594: [Discriminator loss: 0.137064]  [GAN loss: 0.226123]\n",
      "Epoch 595\n"
     ]
    },
    {
     "name": "stderr",
     "output_type": "stream",
     "text": [
      "100%|██████████| 12/12 [00:00<00:00, 36.98it/s]\n",
      " 33%|███▎      | 4/12 [00:00<00:00, 37.45it/s]"
     ]
    },
    {
     "name": "stdout",
     "output_type": "stream",
     "text": [
      "595: [Discriminator loss: 0.072248]  [GAN loss: 0.295859]\n",
      "Epoch 596\n"
     ]
    },
    {
     "name": "stderr",
     "output_type": "stream",
     "text": [
      "100%|██████████| 12/12 [00:00<00:00, 37.73it/s]\n",
      " 33%|███▎      | 4/12 [00:00<00:00, 36.33it/s]"
     ]
    },
    {
     "name": "stdout",
     "output_type": "stream",
     "text": [
      "596: [Discriminator loss: 0.082899]  [GAN loss: 0.628638]\n",
      "Epoch 597\n"
     ]
    },
    {
     "name": "stderr",
     "output_type": "stream",
     "text": [
      "100%|██████████| 12/12 [00:00<00:00, 36.66it/s]\n",
      " 33%|███▎      | 4/12 [00:00<00:00, 37.30it/s]"
     ]
    },
    {
     "name": "stdout",
     "output_type": "stream",
     "text": [
      "597: [Discriminator loss: 0.100440]  [GAN loss: 0.374278]\n",
      "Epoch 598\n"
     ]
    },
    {
     "name": "stderr",
     "output_type": "stream",
     "text": [
      "100%|██████████| 12/12 [00:00<00:00, 36.95it/s]\n",
      " 33%|███▎      | 4/12 [00:00<00:00, 37.51it/s]"
     ]
    },
    {
     "name": "stdout",
     "output_type": "stream",
     "text": [
      "598: [Discriminator loss: 0.103899]  [GAN loss: 0.421929]\n",
      "Epoch 599\n"
     ]
    },
    {
     "name": "stderr",
     "output_type": "stream",
     "text": [
      "100%|██████████| 12/12 [00:00<00:00, 37.46it/s]\n",
      " 33%|███▎      | 4/12 [00:00<00:00, 37.00it/s]"
     ]
    },
    {
     "name": "stdout",
     "output_type": "stream",
     "text": [
      "599: [Discriminator loss: 0.064858]  [GAN loss: 0.439825]\n",
      "Epoch 600\n"
     ]
    },
    {
     "name": "stderr",
     "output_type": "stream",
     "text": [
      "100%|██████████| 12/12 [00:00<00:00, 32.58it/s]"
     ]
    },
    {
     "name": "stdout",
     "output_type": "stream",
     "text": [
      "600: [Discriminator loss: 0.042778]  [GAN loss: 0.733962]\n"
     ]
    },
    {
     "name": "stderr",
     "output_type": "stream",
     "text": [
      "\n"
     ]
    }
   ],
   "source": [
    "# Train GAN\n",
    "train_gan(EPOCHS, GAN_TRAIN_BATCH_SIZE)"
   ]
  },
  {
   "cell_type": "code",
   "execution_count": 21,
   "metadata": {},
   "outputs": [
    {
     "data": {
      "text/plain": [
       "Text(0,0.5,'Loss')"
      ]
     },
     "execution_count": 21,
     "metadata": {},
     "output_type": "execute_result"
    },
    {
     "data": {
      "image/png": "[encoded data removed]",
      "text/plain": [
       "<Figure size 1152x648 with 1 Axes>"
      ]
     },
     "metadata": {},
     "output_type": "display_data"
    }
   ],
   "source": [
    "# Plot GAN losses\n",
    "ax = pd.DataFrame(\n",
    "    {\n",
    "        'GAN Loss': gan_loss,\n",
    "        'Discriminative Loss': discrimator_loss,\n",
    "    }\n",
    ").plot(title='Training loss', figsize=(16, 9), logy=True)\n",
    "ax.set_xlabel(\"Training iterations\")\n",
    "ax.set_ylabel(\"Loss\")"
   ]
  },
  {
   "cell_type": "code",
   "execution_count": 22,
   "metadata": {},
   "outputs": [],
   "source": [
    "# Run model against test set\n",
    "predictions = gan.predict(X_test).squeeze()"
   ]
  },
  {
   "cell_type": "code",
   "execution_count": 23,
   "metadata": {},
   "outputs": [
    {
     "name": "stdout",
     "output_type": "stream",
     "text": [
      "The Mean Absolute Error: 0.09479\n",
      "The Median Absolute Error: 0.06749\n",
      "The Mean Squared Error: 0.01618\n",
      "The Root Mean Squared Error: 0.12720\n"
     ]
    }
   ],
   "source": [
    "# Get the prediction metrics of the model\n",
    "print(\"The Mean Absolute Error: %.5f\" % metrics.mean_absolute_error(y_test, predictions))  \n",
    "print(\"The Median Absolute Error: %.5f\" % metrics.median_absolute_error(y_test, predictions)) \n",
    "print(\"The Mean Squared Error: %.5f\" % metrics.mean_squared_error(y_test, predictions)) \n",
    "print(\"The Root Mean Squared Error: %.5f\" % (np.sqrt(metrics.mean_squared_error(y_test, predictions))))"
   ]
  },
  {
   "cell_type": "code",
   "execution_count": 24,
   "metadata": {},
   "outputs": [
    {
     "name": "stdout",
     "output_type": "stream",
     "text": [
      "Kolmogorov Smirnov Test Statistic = 0.4823529411764706    pValue =  4.2488034759859715e-18\n",
      "Samples are likely drawn from different distributions (reject H0)\n"
     ]
    }
   ],
   "source": [
    "# Run Kolmogorov Smirnov test to verify the null hypothesis that the two samples (y_test and predictions) \n",
    "# are drawn from the same distribution\n",
    "value, pValue = ks_2samp(y_test, predictions)\n",
    "\n",
    "print(\"Kolmogorov Smirnov Test Statistic =\", value, \"  \", \"pValue = \", pValue)\n",
    "\n",
    "if pValue > 0.05:\n",
    "\tprint('Samples are likely drawn from the same distributions (do not reject H0)')\n",
    "else:\n",
    "\tprint('Samples are likely drawn from different distributions (reject H0)')"
   ]
  },
  {
   "cell_type": "code",
   "execution_count": 25,
   "metadata": {},
   "outputs": [
    {
     "name": "stdout",
     "output_type": "stream",
     "text": [
      "        Generated        Real\n",
      "count  170.000000  170.000000\n",
      "mean     0.044546    0.004384\n",
      "std      0.025265    0.131545\n",
      "min     -0.009257   -0.326316\n",
      "25%      0.033220   -0.053946\n",
      "50%      0.041765    0.005438\n",
      "75%      0.051551    0.059829\n",
      "max      0.164916    0.338482\n"
     ]
    },
    {
     "data": {
      "text/plain": [
       "array([[<matplotlib.axes._subplots.AxesSubplot object at 0x7f858d57ec18>,\n",
       "        <matplotlib.axes._subplots.AxesSubplot object at 0x7f858d58ef28>]],\n",
       "      dtype=object)"
      ]
     },
     "execution_count": 25,
     "metadata": {},
     "output_type": "execute_result"
    },
    {
     "data": {
      "image/png": "[encoded data removed]",
      "text/plain": [
       "<Figure size 432x288 with 1 Axes>"
      ]
     },
     "metadata": {},
     "output_type": "display_data"
    },
    {
     "data": {
      "image/png": "[encoded data removed]",
      "text/plain": [
       "<Figure size 432x288 with 2 Axes>"
      ]
     },
     "metadata": {},
     "output_type": "display_data"
    }
   ],
   "source": [
    "# Get statistics summary over real and generated data\n",
    "results = pd.DataFrame({'Real':y_test, 'Generated': predictions})\n",
    "print(results.describe())\n",
    "results.boxplot()\n",
    "results.hist(bins=10)"
   ]
  },
  {
   "cell_type": "code",
   "execution_count": 27,
   "metadata": {},
   "outputs": [
    {
     "data": {
      "image/png": "[encoded data removed]",
      "text/plain": [
       "<Figure size 1152x648 with 1 Axes>"
      ]
     },
     "metadata": {},
     "output_type": "display_data"
    }
   ],
   "source": [
    "# Plot model predictions against actual data\n",
    "\n",
    "# 1. Given that the final value is based on rate change, the prediction value is multiplied by the BTC price,\n",
    "# which is the value previous to the defined TIME_STEPS, thus the future value is based on the formula:\n",
    "# (CURR_VALUE from -TIME_STEPS days) * PREDICTED_VALUE_DENORMALIZED\n",
    "# 2. Apply the same value used during the normalization for rate change calculation (df / df.iloc[0] - 1)\n",
    "prediction_monetary_values = test.Close.values[:-TIME_STEPS] * (predictions + 1)\n",
    "model_targets = test.Close[TIME_STEPS:]\n",
    "prediction_series = pd.Series(index=model_targets.index, data=prediction_monetary_values)\n",
    "\n",
    "line_plot(model_targets, prediction_series, 'actual', 'prediction')"
   ]
  },
  {
   "cell_type": "code",
   "execution_count": null,
   "metadata": {},
   "outputs": [],
   "source": []
  }
 ],
 "metadata": {
  "kernelspec": {
   "display_name": "Python 3",
   "language": "python",
   "name": "python3"
  },
  "language_info": {
   "codemirror_mode": {
    "name": "ipython",
    "version": 3
   },
   "file_extension": ".py",
   "mimetype": "text/x-python",
   "name": "python",
   "nbconvert_exporter": "python",
   "pygments_lexer": "ipython3",
   "version": "3.5.2"
  }
 },
 "nbformat": 4,
 "nbformat_minor": 2
}
