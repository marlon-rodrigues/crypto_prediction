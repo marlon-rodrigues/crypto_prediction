{
 "cells": [
  {
   "cell_type": "markdown",
   "metadata": {},
   "source": [
    "# Experimentation Only"
   ]
  },
  {
   "cell_type": "code",
   "execution_count": 1,
   "metadata": {},
   "outputs": [
    {
     "name": "stdout",
     "output_type": "stream",
     "text": [
      "Requirement already satisfied: tqdm in /usr/local/lib/python3.5/dist-packages\n",
      "\u001b[33mYou are using pip version 9.0.3, however version 19.1.1 is available.\n",
      "You should consider upgrading via the 'pip install --upgrade pip' command.\u001b[0m\n"
     ]
    }
   ],
   "source": [
    "import sys\n",
    "!{sys.executable} -m pip install tqdm"
   ]
  },
  {
   "cell_type": "code",
   "execution_count": 2,
   "metadata": {},
   "outputs": [
    {
     "name": "stderr",
     "output_type": "stream",
     "text": [
      "/usr/local/lib/python3.5/dist-packages/sklearn/cross_validation.py:41: DeprecationWarning: This module was deprecated in version 0.18 in favor of the model_selection module into which all the refactored classes and functions are moved. Also note that the interface of the new CV iterators are different from that of this module. This module will be removed in 0.20.\n",
      "  \"This module will be removed in 0.20.\", DeprecationWarning)\n",
      "/usr/local/lib/python3.5/dist-packages/h5py/__init__.py:36: FutureWarning: Conversion of the second argument of issubdtype from `float` to `np.floating` is deprecated. In future, it will be treated as `np.float64 == np.dtype(float).type`.\n",
      "  from ._conv import register_converters as _register_converters\n",
      "Using TensorFlow backend.\n"
     ]
    }
   ],
   "source": [
    "import math\n",
    "import matplotlib.pyplot as plt\n",
    "import pandas as pd\n",
    "import numpy as np\n",
    "import time\n",
    "from datetime import datetime\n",
    "import datetime as dt\n",
    "from mpl_toolkits.mplot3d import Axes3D\n",
    "%matplotlib inline\n",
    "\n",
    "#For Prediction\n",
    "from sklearn import metrics\n",
    "from sklearn import preprocessing, cross_validation\n",
    "from sklearn.model_selection import train_test_split\n",
    "from sklearn.preprocessing import MinMaxScaler\n",
    "\n",
    "import keras\n",
    "from keras.layers import Dense, Dropout, Input, LSTM, Activation, Flatten\n",
    "from keras.models import Model,Sequential\n",
    "from keras.datasets import mnist\n",
    "from tqdm import tqdm, tqdm_notebook\n",
    "from keras.layers.advanced_activations import LeakyReLU\n",
    "from keras.optimizers import Adam, RMSprop\n",
    "from keras.preprocessing.sequence import pad_sequences\n",
    "from keras import regularizers"
   ]
  },
  {
   "cell_type": "code",
   "execution_count": 3,
   "metadata": {},
   "outputs": [
    {
     "data": {
      "text/html": [
       "<div>\n",
       "<style scoped>\n",
       "    .dataframe tbody tr th:only-of-type {\n",
       "        vertical-align: middle;\n",
       "    }\n",
       "\n",
       "    .dataframe tbody tr th {\n",
       "        vertical-align: top;\n",
       "    }\n",
       "\n",
       "    .dataframe thead th {\n",
       "        text-align: right;\n",
       "    }\n",
       "</style>\n",
       "<table border=\"1\" class=\"dataframe\">\n",
       "  <thead>\n",
       "    <tr style=\"text-align: right;\">\n",
       "      <th></th>\n",
       "      <th>Unix Timestamp</th>\n",
       "      <th>Date</th>\n",
       "      <th>Symbol</th>\n",
       "      <th>Open</th>\n",
       "      <th>High</th>\n",
       "      <th>Low</th>\n",
       "      <th>Close</th>\n",
       "      <th>Volume</th>\n",
       "    </tr>\n",
       "  </thead>\n",
       "  <tbody>\n",
       "    <tr>\n",
       "      <th>0</th>\n",
       "      <td>1559433600000</td>\n",
       "      <td>2019-06-02 00:00:00</td>\n",
       "      <td>BTCUSD</td>\n",
       "      <td>8566.10</td>\n",
       "      <td>8567.20</td>\n",
       "      <td>8546.38</td>\n",
       "      <td>8567.20</td>\n",
       "      <td>0.899330</td>\n",
       "    </tr>\n",
       "    <tr>\n",
       "      <th>1</th>\n",
       "      <td>1559430000000</td>\n",
       "      <td>2019-06-01 23:00:00</td>\n",
       "      <td>BTCUSD</td>\n",
       "      <td>8587.25</td>\n",
       "      <td>8598.10</td>\n",
       "      <td>8527.58</td>\n",
       "      <td>8566.10</td>\n",
       "      <td>156.493022</td>\n",
       "    </tr>\n",
       "    <tr>\n",
       "      <th>2</th>\n",
       "      <td>1559426400000</td>\n",
       "      <td>2019-06-01 22:00:00</td>\n",
       "      <td>BTCUSD</td>\n",
       "      <td>8598.89</td>\n",
       "      <td>8604.16</td>\n",
       "      <td>8542.44</td>\n",
       "      <td>8587.25</td>\n",
       "      <td>11.841891</td>\n",
       "    </tr>\n",
       "    <tr>\n",
       "      <th>3</th>\n",
       "      <td>1559422800000</td>\n",
       "      <td>2019-06-01 21:00:00</td>\n",
       "      <td>BTCUSD</td>\n",
       "      <td>8543.90</td>\n",
       "      <td>8609.96</td>\n",
       "      <td>8541.67</td>\n",
       "      <td>8598.89</td>\n",
       "      <td>18.957024</td>\n",
       "    </tr>\n",
       "    <tr>\n",
       "      <th>4</th>\n",
       "      <td>1559419200000</td>\n",
       "      <td>2019-06-01 20:00:00</td>\n",
       "      <td>BTCUSD</td>\n",
       "      <td>8538.75</td>\n",
       "      <td>8569.69</td>\n",
       "      <td>8532.23</td>\n",
       "      <td>8543.90</td>\n",
       "      <td>18.051794</td>\n",
       "    </tr>\n",
       "  </tbody>\n",
       "</table>\n",
       "</div>"
      ],
      "text/plain": [
       "   Unix Timestamp                 Date  Symbol     Open     High      Low  \\\n",
       "0   1559433600000  2019-06-02 00:00:00  BTCUSD  8566.10  8567.20  8546.38   \n",
       "1   1559430000000  2019-06-01 23:00:00  BTCUSD  8587.25  8598.10  8527.58   \n",
       "2   1559426400000  2019-06-01 22:00:00  BTCUSD  8598.89  8604.16  8542.44   \n",
       "3   1559422800000  2019-06-01 21:00:00  BTCUSD  8543.90  8609.96  8541.67   \n",
       "4   1559419200000  2019-06-01 20:00:00  BTCUSD  8538.75  8569.69  8532.23   \n",
       "\n",
       "     Close      Volume  \n",
       "0  8567.20    0.899330  \n",
       "1  8566.10  156.493022  \n",
       "2  8587.25   11.841891  \n",
       "3  8598.89   18.957024  \n",
       "4  8543.90   18.051794  "
      ]
     },
     "execution_count": 3,
     "metadata": {},
     "output_type": "execute_result"
    }
   ],
   "source": [
    "# Read Datasets \n",
    "#research_data_raw = pd.read_csv('Datasets/bitcoin_research_data_v2.csv')\n",
    "# Drop unnecessary columns\n",
    "#research_data = research_data_raw.drop('Unnamed: 0', axis=1)\n",
    "research_data = pd.read_csv('Datasets/gemini_BTCUSD_1hr_mod.csv')\n",
    "#research_data.fillna(0, inplace=True)\n",
    "research_data.head()"
   ]
  },
  {
   "cell_type": "code",
   "execution_count": 4,
   "metadata": {},
   "outputs": [
    {
     "data": {
      "text/html": [
       "<div>\n",
       "<style scoped>\n",
       "    .dataframe tbody tr th:only-of-type {\n",
       "        vertical-align: middle;\n",
       "    }\n",
       "\n",
       "    .dataframe tbody tr th {\n",
       "        vertical-align: top;\n",
       "    }\n",
       "\n",
       "    .dataframe thead th {\n",
       "        text-align: right;\n",
       "    }\n",
       "</style>\n",
       "<table border=\"1\" class=\"dataframe\">\n",
       "  <thead>\n",
       "    <tr style=\"text-align: right;\">\n",
       "      <th></th>\n",
       "      <th>Unix Timestamp</th>\n",
       "      <th>Date</th>\n",
       "      <th>Symbol</th>\n",
       "      <th>Open</th>\n",
       "      <th>High</th>\n",
       "      <th>Low</th>\n",
       "      <th>Close</th>\n",
       "      <th>Volume</th>\n",
       "    </tr>\n",
       "  </thead>\n",
       "  <tbody>\n",
       "    <tr>\n",
       "      <th>31975</th>\n",
       "      <td>1444323600</td>\n",
       "      <td>2015-10-08 17:00:00</td>\n",
       "      <td>BTCUSD</td>\n",
       "      <td>244.25</td>\n",
       "      <td>244.99</td>\n",
       "      <td>244.02</td>\n",
       "      <td>244.99</td>\n",
       "      <td>3.920632</td>\n",
       "    </tr>\n",
       "    <tr>\n",
       "      <th>31976</th>\n",
       "      <td>1444320000</td>\n",
       "      <td>2015-10-08 16:00:00</td>\n",
       "      <td>BTCUSD</td>\n",
       "      <td>244.92</td>\n",
       "      <td>244.92</td>\n",
       "      <td>244.25</td>\n",
       "      <td>244.25</td>\n",
       "      <td>3.895252</td>\n",
       "    </tr>\n",
       "    <tr>\n",
       "      <th>31977</th>\n",
       "      <td>1444316400</td>\n",
       "      <td>2015-10-08 15:00:00</td>\n",
       "      <td>BTCUSD</td>\n",
       "      <td>245.00</td>\n",
       "      <td>245.00</td>\n",
       "      <td>244.92</td>\n",
       "      <td>244.92</td>\n",
       "      <td>3.016926</td>\n",
       "    </tr>\n",
       "    <tr>\n",
       "      <th>31978</th>\n",
       "      <td>1444312800</td>\n",
       "      <td>2015-10-08 14:00:00</td>\n",
       "      <td>BTCUSD</td>\n",
       "      <td>245.00</td>\n",
       "      <td>245.00</td>\n",
       "      <td>244.50</td>\n",
       "      <td>245.00</td>\n",
       "      <td>4.453649</td>\n",
       "    </tr>\n",
       "    <tr>\n",
       "      <th>31979</th>\n",
       "      <td>1444309200</td>\n",
       "      <td>2015-10-08 13:00:00</td>\n",
       "      <td>BTCUSD</td>\n",
       "      <td>0.00</td>\n",
       "      <td>245.00</td>\n",
       "      <td>0.00</td>\n",
       "      <td>245.00</td>\n",
       "      <td>0.606654</td>\n",
       "    </tr>\n",
       "  </tbody>\n",
       "</table>\n",
       "</div>"
      ],
      "text/plain": [
       "       Unix Timestamp                 Date  Symbol    Open    High     Low  \\\n",
       "31975      1444323600  2015-10-08 17:00:00  BTCUSD  244.25  244.99  244.02   \n",
       "31976      1444320000  2015-10-08 16:00:00  BTCUSD  244.92  244.92  244.25   \n",
       "31977      1444316400  2015-10-08 15:00:00  BTCUSD  245.00  245.00  244.92   \n",
       "31978      1444312800  2015-10-08 14:00:00  BTCUSD  245.00  245.00  244.50   \n",
       "31979      1444309200  2015-10-08 13:00:00  BTCUSD    0.00  245.00    0.00   \n",
       "\n",
       "        Close    Volume  \n",
       "31975  244.99  3.920632  \n",
       "31976  244.25  3.895252  \n",
       "31977  244.92  3.016926  \n",
       "31978  245.00  4.453649  \n",
       "31979  245.00  0.606654  "
      ]
     },
     "execution_count": 4,
     "metadata": {},
     "output_type": "execute_result"
    }
   ],
   "source": [
    "research_data.tail()"
   ]
  },
  {
   "cell_type": "code",
   "execution_count": 5,
   "metadata": {},
   "outputs": [
    {
     "data": {
      "text/plain": [
       "31980"
      ]
     },
     "execution_count": 5,
     "metadata": {},
     "output_type": "execute_result"
    }
   ],
   "source": [
    "len(research_data)"
   ]
  },
  {
   "cell_type": "code",
   "execution_count": 6,
   "metadata": {},
   "outputs": [
    {
     "data": {
      "image/png": "[encoded data removed]",
      "text/plain": [
       "<Figure size 432x288 with 1 Axes>"
      ]
     },
     "metadata": {},
     "output_type": "display_data"
    }
   ],
   "source": [
    "# plt.figure()\n",
    "# plt.plot(research_data[\"Close\"])\n",
    "# plt.plot(research_data[\"High\"])\n",
    "# plt.plot(research_data[\"Low\"])\n",
    "# plt.plot(research_data[\"Close\"])\n",
    "# plt.title('Bitcoin price history')\n",
    "# plt.ylabel('Price (USD)')\n",
    "# plt.xlabel('Days')\n",
    "# plt.legend(['Open','High','Low','Close'], loc='upper left')\n",
    "# plt.show()\n",
    "\n",
    "plt.figure()\n",
    "plt.plot(research_data[\"Close\"])\n",
    "plt.title('Bitcoin price history')\n",
    "plt.ylabel('Price (USD)')\n",
    "plt.xlabel('Days')\n",
    "plt.legend(['Close'], loc='upper left')\n",
    "plt.show()"
   ]
  },
  {
   "cell_type": "code",
   "execution_count": 7,
   "metadata": {},
   "outputs": [
    {
     "name": "stdout",
     "output_type": "stream",
     "text": [
      "Train and Test size 25584 6396\n"
     ]
    }
   ],
   "source": [
    "# Normalize and convert DataFrame into ndArray\n",
    "# train_cols = [\"Open\",\"High\",\"Low\",\"Close\",\"Volume USD\",\"Popularity_Normalized\"]\n",
    "# train_cols = [\"Close\",\"TransactionsPerBlock\",\"USD_Exchange_Trade_Volume\",\"BlockSize_d\",\"Total_Number_of_Transactions_d\",\"Close_d2\"]\n",
    "train_cols = [\"Close\",\"Volume\"]\n",
    "\n",
    "df_train, df_test = train_test_split(research_data, train_size=0.8, test_size=0.2, shuffle=False)\n",
    "print(\"Train and Test size\", len(df_train), len(df_test))\n",
    "\n",
    "# scale the feature MinMax, build array\n",
    "x = df_train.loc[:,train_cols].values\n",
    "min_max_scaler = MinMaxScaler()\n",
    "x_train = min_max_scaler.fit_transform(x)\n",
    "x_test = min_max_scaler.transform(df_test.loc[:,train_cols])"
   ]
  },
  {
   "cell_type": "code",
   "execution_count": 8,
   "metadata": {},
   "outputs": [],
   "source": [
    "TIME_STEPS = 15\n",
    "BATCH_SIZE = 8\n",
    "LR = 0.005\n",
    "# epochs = 150\n",
    "EPOCHS = 50"
   ]
  },
  {
   "cell_type": "code",
   "execution_count": 9,
   "metadata": {},
   "outputs": [],
   "source": [
    "def build_timeseries(mat, y_col_index):\n",
    "    # y_col_index is the index of column that would act as output column\n",
    "    # total number of time-series samples would be len(mat) - TIME_STEPS\n",
    "    dim_0 = mat.shape[0] - TIME_STEPS\n",
    "    dim_1 = mat.shape[1]\n",
    "    x = np.zeros((dim_0, TIME_STEPS, dim_1))\n",
    "    y = np.zeros((dim_0,))\n",
    "    \n",
    "    for i in tqdm_notebook(range(dim_0)):\n",
    "        x[i] = mat[i:TIME_STEPS+i]\n",
    "        y[i] = mat[TIME_STEPS+i, y_col_index]\n",
    "    print(\"length of time-series i/o\",x.shape,y.shape)\n",
    "    return x, y"
   ]
  },
  {
   "cell_type": "code",
   "execution_count": 10,
   "metadata": {},
   "outputs": [],
   "source": [
    "def trim_dataset(mat, batch_size):\n",
    "    \"\"\"\n",
    "    trims dataset to a size that's divisible by BATCH_SIZE\n",
    "    \"\"\"\n",
    "    no_of_rows_drop = mat.shape[0]%batch_size\n",
    "    if(no_of_rows_drop > 0):\n",
    "        return mat[:-no_of_rows_drop]\n",
    "    else:\n",
    "        return mat"
   ]
  },
  {
   "cell_type": "code",
   "execution_count": 11,
   "metadata": {},
   "outputs": [
    {
     "data": {
      "application/vnd.jupyter.widget-view+json": {
       "model_id": "a93a5774c71b4095908469e19960458b",
       "version_major": 2,
       "version_minor": 0
      },
      "text/html": [
       "<p>Failed to display Jupyter Widget of type <code>HBox</code>.</p>\n",
       "<p>\n",
       "  If you're reading this message in the Jupyter Notebook or JupyterLab Notebook, it may mean\n",
       "  that the widgets JavaScript is still loading. If this message persists, it\n",
       "  likely means that the widgets JavaScript library is either not installed or\n",
       "  not enabled. See the <a href=\"https://ipywidgets.readthedocs.io/en/stable/user_install.html\">Jupyter\n",
       "  Widgets Documentation</a> for setup instructions.\n",
       "</p>\n",
       "<p>\n",
       "  If you're reading this message in another frontend (for example, a static\n",
       "  rendering on GitHub or <a href=\"https://nbviewer.jupyter.org/\">NBViewer</a>),\n",
       "  it may mean that your frontend doesn't currently support widgets.\n",
       "</p>\n"
      ],
      "text/plain": [
       "HBox(children=(IntProgress(value=0, max=25569), HTML(value='')))"
      ]
     },
     "metadata": {},
     "output_type": "display_data"
    },
    {
     "name": "stdout",
     "output_type": "stream",
     "text": [
      "\n",
      "length of time-series i/o (25569, 15, 2) (25569,)\n"
     ]
    },
    {
     "data": {
      "application/vnd.jupyter.widget-view+json": {
       "model_id": "65918a181a3f426a8ad5845fba8114ee",
       "version_major": 2,
       "version_minor": 0
      },
      "text/html": [
       "<p>Failed to display Jupyter Widget of type <code>HBox</code>.</p>\n",
       "<p>\n",
       "  If you're reading this message in the Jupyter Notebook or JupyterLab Notebook, it may mean\n",
       "  that the widgets JavaScript is still loading. If this message persists, it\n",
       "  likely means that the widgets JavaScript library is either not installed or\n",
       "  not enabled. See the <a href=\"https://ipywidgets.readthedocs.io/en/stable/user_install.html\">Jupyter\n",
       "  Widgets Documentation</a> for setup instructions.\n",
       "</p>\n",
       "<p>\n",
       "  If you're reading this message in another frontend (for example, a static\n",
       "  rendering on GitHub or <a href=\"https://nbviewer.jupyter.org/\">NBViewer</a>),\n",
       "  it may mean that your frontend doesn't currently support widgets.\n",
       "</p>\n"
      ],
      "text/plain": [
       "HBox(children=(IntProgress(value=0, max=6381), HTML(value='')))"
      ]
     },
     "metadata": {},
     "output_type": "display_data"
    },
    {
     "name": "stdout",
     "output_type": "stream",
     "text": [
      "\n",
      "length of time-series i/o (6381, 15, 2) (6381,)\n"
     ]
    }
   ],
   "source": [
    "x_t, y_t = build_timeseries(x_train, 0) # index of output (3)\n",
    "x_t = trim_dataset(x_t, BATCH_SIZE)\n",
    "y_t = trim_dataset(y_t, BATCH_SIZE)\n",
    "x_temp, y_temp = build_timeseries(x_test, 0) # index of output (3)\n",
    "x_val, x_test_t = np.split(trim_dataset(x_temp, BATCH_SIZE),2)\n",
    "y_val, y_test_t = np.split(trim_dataset(y_temp, BATCH_SIZE),2)"
   ]
  },
  {
   "cell_type": "code",
   "execution_count": 12,
   "metadata": {},
   "outputs": [],
   "source": [
    "# lstm_model = Sequential()\n",
    "# lstm_model.add(LSTM(100, batch_input_shape=(BATCH_SIZE, TIME_STEPS, x_t.shape[2]), dropout=0.0, recurrent_dropout=0.0, stateful=True,     kernel_initializer='random_uniform'))\n",
    "# lstm_model.add(Dropout(0.5))\n",
    "# lstm_model.add(Dense(20,activation='relu'))\n",
    "# lstm_model.add(Dense(1,activation='sigmoid'))\n",
    "# optimizer = RMSprop(lr=LR)\n",
    "# lstm_model.compile(loss='mean_squared_error', optimizer=optimizer, metrics=['accuracy'])\n",
    "\n",
    "# lstm_model = Sequential()\n",
    "# lstm_model.add(LSTM(100, batch_input_shape=(BATCH_SIZE, TIME_STEPS, x_t.shape[2]), dropout=0.0, recurrent_dropout=0.0, stateful=True, kernel_initializer='random_uniform', return_sequences=True))\n",
    "# lstm_model.add(Dropout(0.5))\n",
    "# lstm_model.add(LSTM(32, return_sequences=True))\n",
    "# #lstm_model.add(Dense(20,activation='relu'))\n",
    "# lstm_model.add(LSTM(16, return_sequences=False))\n",
    "# lstm_model.add(Dropout(0.5))\n",
    "# lstm_model.add(Dense(1,activation='sigmoid'))\n",
    "# optimizer = RMSprop(lr=LR, decay=3e-8)\n",
    "# lstm_model.compile(loss='mean_squared_error', optimizer=optimizer, metrics=['accuracy'])\n",
    "\n",
    "# BEST SO FAR\n",
    "# lstm_model = Sequential()\n",
    "# lstm_model.add(LSTM(32, input_shape=(TIME_STEPS, x_t.shape[2]), return_sequences=True))\n",
    "# lstm_model.add(Dropout(0.4))\n",
    "# lstm_model.add(LSTM(16, return_sequences=False))\n",
    "# lstm_model.add(Dense(1))\n",
    "# lstm_model.add(Activation('tanh'))\n",
    "# optimizer = RMSprop(lr=0.005, clipvalue=1.)\n",
    "# lstm_model.compile(loss='mean_squared_error', optimizer='adam', metrics=['accuracy'])\n",
    "\n",
    "# lstm_model = Sequential()\n",
    "# lstm_model.add(LSTM(32, input_shape=(TIME_STEPS, x_t.shape[2]), return_sequences=True))\n",
    "# lstm_model.add(Dropout(0.4))\n",
    "# lstm_model.add(LSTM(16, return_sequences=False))\n",
    "# lstm_model.add(Dense(1))\n",
    "# lstm_model.add(Activation('tanh'))\n",
    "# optimizer = RMSprop(lr=0.005, clipvalue=1.)\n",
    "# lstm_model.compile(loss='mean_squared_error', optimizer=optimizer, metrics=['accuracy'])\n",
    "\n",
    "# lstm_model = Sequential()\n",
    "# lstm_model.add(LSTM(16, batch_input_shape=(BATCH_SIZE, TIME_STEPS, x_t.shape[2]), dropout=0.0, recurrent_dropout=0.0, stateful=True, kernel_initializer='random_uniform', return_sequences=True))\n",
    "# lstm_model.add(Dense(8,activation='relu'))\n",
    "# lstm_model.add(Dropout(0.7))\n",
    "# lstm_model.add(LSTM(8, return_sequences=False))\n",
    "# lstm_model.add(Dense(1,activation='sigmoid'))\n",
    "# optimizer = RMSprop(lr=LR, decay=3e-8)\n",
    "# lstm_model.compile(loss='mean_squared_error', optimizer=optimizer, metrics=['accuracy'])\n",
    "\n",
    "\n",
    "\n",
    "# lstm_model = Sequential()\n",
    "# lstm_model.add(LSTM(16, input_shape=(TIME_STEPS, x_t.shape[2]), return_sequences=False))\n",
    "# lstm_model.add(Dropout(0.4))\n",
    "# lstm_model.add(Dense(1))\n",
    "# lstm_model.add(Activation('linear'))\n",
    "# optimizer = RMSprop(lr=0.005, clipvalue=1.)\n",
    "# lstm_model.compile(loss='mean_squared_error', optimizer='adam', metrics=['accuracy'])\n",
    "\n",
    "\n",
    "\n",
    "lstm_model = Sequential()\n",
    "lstm_model.add(LSTM(units=50, activity_regularizer=regularizers.l1(1), input_shape=(TIME_STEPS, x_t.shape[2]),return_sequences=False))\n",
    "lstm_model.add(Activation('tanh'))\n",
    "lstm_model.add(Dropout(0.2))\n",
    "lstm_model.add(Dense(1))\n",
    "lstm_model.add(LeakyReLU())\n",
    "lstm_model.compile(loss='mse', optimizer='adam', metrics=['accuracy'])\n",
    "#lstm_model.fit(training_datas, training_labels, batch_size=batch_size,validation_data=(validation_datas,validation_labels), epochs = epochs, callbacks=[CSVLogger(output_file_name+'.csv', append=True)])\n",
    "\n"
   ]
  },
  {
   "cell_type": "code",
   "execution_count": null,
   "metadata": {},
   "outputs": [
    {
     "name": "stdout",
     "output_type": "stream",
     "text": [
      "Train on 25568 samples, validate on 3184 samples\n",
      "Epoch 1/50\n",
      "25568/25568 [==============================] - 36s 1ms/step - loss: 0.1492 - acc: 3.9111e-05 - val_loss: 0.0647 - val_acc: 3.1407e-04\n",
      "Epoch 2/50\n",
      "25568/25568 [==============================] - 36s 1ms/step - loss: 0.0449 - acc: 3.9111e-05 - val_loss: 0.0502 - val_acc: 3.1407e-04\n",
      "Epoch 3/50\n",
      "25568/25568 [==============================] - 36s 1ms/step - loss: 0.0378 - acc: 3.9111e-05 - val_loss: 0.0502 - val_acc: 3.1407e-04\n",
      "Epoch 4/50\n",
      "25568/25568 [==============================] - 36s 1ms/step - loss: 0.0359 - acc: 3.9111e-05 - val_loss: 0.0490 - val_acc: 3.1407e-04\n",
      "Epoch 5/50\n",
      "25568/25568 [==============================] - 37s 1ms/step - loss: 0.0357 - acc: 3.9111e-05 - val_loss: 0.0498 - val_acc: 3.1407e-04\n",
      "Epoch 6/50\n",
      "25568/25568 [==============================] - 49s 2ms/step - loss: 0.0357 - acc: 3.9111e-05 - val_loss: 0.0435 - val_acc: 3.1407e-04\n",
      "Epoch 7/50\n",
      "25568/25568 [==============================] - 49s 2ms/step - loss: 0.0357 - acc: 3.9111e-05 - val_loss: 0.0465 - val_acc: 3.1407e-04\n",
      "Epoch 8/50\n",
      "25568/25568 [==============================] - 38s 1ms/step - loss: 0.0357 - acc: 3.9111e-05 - val_loss: 0.0480 - val_acc: 3.1407e-04\n",
      "Epoch 9/50\n",
      "25568/25568 [==============================] - 39s 2ms/step - loss: 0.0357 - acc: 3.9111e-05 - val_loss: 0.0514 - val_acc: 3.1407e-04\n",
      "Epoch 10/50\n",
      "25568/25568 [==============================] - 38s 2ms/step - loss: 0.0357 - acc: 3.9111e-05 - val_loss: 0.0451 - val_acc: 3.1407e-04\n",
      "Epoch 11/50\n",
      "25568/25568 [==============================] - 38s 2ms/step - loss: 0.0357 - acc: 3.9111e-05 - val_loss: 0.0485 - val_acc: 3.1407e-04\n",
      "Epoch 12/50\n",
      "25568/25568 [==============================] - 39s 2ms/step - loss: 0.0357 - acc: 3.9111e-05 - val_loss: 0.0456 - val_acc: 3.1407e-04\n",
      "Epoch 13/50\n",
      "25568/25568 [==============================] - 40s 2ms/step - loss: 0.0357 - acc: 3.9111e-05 - val_loss: 0.0508 - val_acc: 3.1407e-04\n",
      "Epoch 14/50\n",
      "25568/25568 [==============================] - 39s 2ms/step - loss: 0.0357 - acc: 3.9111e-05 - val_loss: 0.0510 - val_acc: 3.1407e-04\n",
      "Epoch 15/50\n",
      "25568/25568 [==============================] - 39s 2ms/step - loss: 0.0357 - acc: 3.9111e-05 - val_loss: 0.0439 - val_acc: 3.1407e-04\n",
      "Epoch 16/50\n",
      "25568/25568 [==============================] - 39s 2ms/step - loss: 0.0357 - acc: 3.9111e-05 - val_loss: 0.0483 - val_acc: 3.1407e-04\n",
      "Epoch 17/50\n",
      "25568/25568 [==============================] - 42s 2ms/step - loss: 0.0357 - acc: 3.9111e-05 - val_loss: 0.0474 - val_acc: 3.1407e-04\n",
      "Epoch 18/50\n",
      "25568/25568 [==============================] - 39s 2ms/step - loss: 0.0357 - acc: 3.9111e-05 - val_loss: 0.0458 - val_acc: 3.1407e-04\n",
      "Epoch 19/50\n",
      "25568/25568 [==============================] - 40s 2ms/step - loss: 0.0357 - acc: 3.9111e-05 - val_loss: 0.0426 - val_acc: 3.1407e-04\n",
      "Epoch 20/50\n",
      "25568/25568 [==============================] - 39s 2ms/step - loss: 0.0357 - acc: 3.9111e-05 - val_loss: 0.0539 - val_acc: 3.1407e-04\n",
      "Epoch 21/50\n",
      "25568/25568 [==============================] - 42s 2ms/step - loss: 0.0357 - acc: 3.9111e-05 - val_loss: 0.0461 - val_acc: 3.1407e-04\n",
      "Epoch 22/50\n",
      "25568/25568 [==============================] - 38s 1ms/step - loss: 0.0357 - acc: 3.9111e-05 - val_loss: 0.0485 - val_acc: 3.1407e-04\n",
      "Epoch 23/50\n",
      "25568/25568 [==============================] - 115s 4ms/step - loss: 0.0357 - acc: 3.9111e-05 - val_loss: 0.0478 - val_acc: 3.1407e-04\n",
      "Epoch 24/50\n",
      "25568/25568 [==============================] - 36s 1ms/step - loss: 0.0357 - acc: 3.9111e-05 - val_loss: 0.0478 - val_acc: 3.1407e-04\n",
      "Epoch 25/50\n",
      " 6456/25568 [======>.......................] - ETA: 27s - loss: 0.0355 - acc: 1.5489e-04"
     ]
    }
   ],
   "source": [
    "# csv_logger = CSVLogger(os.path.join(OUTPUT_PATH, 'your_log_name' + '.log'), append=True)\n",
    "\n",
    "# history = model.fit(x_t, y_t, epochs=your_epochs, verbose=2, batch_size=BATCH_SIZE,\n",
    "#                    shuffle=False, validation_data=(trim_dataset(x_val, BATCH_SIZE),\n",
    "#                    trim_dataset(y_val, BATCH_SIZE)), callbacks=[csv_logger])\n",
    "\n",
    "history = lstm_model.fit(x_t, y_t, epochs=EPOCHS, batch_size=BATCH_SIZE,\n",
    "                    validation_data=(trim_dataset(x_val, BATCH_SIZE),\n",
    "                    trim_dataset(y_val, BATCH_SIZE)))"
   ]
  },
  {
   "cell_type": "code",
   "execution_count": 33,
   "metadata": {},
   "outputs": [
    {
     "data": {
      "image/png": "[encoded data removed]",
      "text/plain": [
       "<Figure size 432x288 with 1 Axes>"
      ]
     },
     "metadata": {},
     "output_type": "display_data"
    }
   ],
   "source": [
    "# Visualize the training data\n",
    "from matplotlib import pyplot as plt\n",
    "plt.figure()\n",
    "plt.plot(history.history['loss'])\n",
    "plt.plot(history.history['val_loss'])\n",
    "#plt.plot(history.history['acc'])\n",
    "#plt.plot(history.history['val_acc'])\n",
    "plt.title('Model loss')\n",
    "plt.ylabel('Loss')\n",
    "plt.xlabel('Epoch')\n",
    "#plt.legend(['Train', 'Test', 'Train Accuracy', 'Test Accuracy'], loc='upper left')\n",
    "plt.legend(['Train', 'Test'], loc='upper left')\n",
    "plt.show()\n",
    "#plt.savefig(os.path.join(OUTPUT_PATH, 'train_vis_BS_'+str(BATCH_SIZE)+\"_\"+time.ctime()+'.png'))\n"
   ]
  },
  {
   "cell_type": "code",
   "execution_count": 34,
   "metadata": {},
   "outputs": [
    {
     "name": "stdout",
     "output_type": "stream",
     "text": [
      "Error is 0.00019138544653278058 (3168,) (3168,)\n",
      "[0.01038006 0.01036836 0.01043634 0.01055755 0.01061328 0.01058282\n",
      " 0.01036726 0.00979245 0.00948539 0.0087962  0.00815761 0.00828005\n",
      " 0.00869218 0.00926144 0.00990592]\n",
      "[-0.00196204 -0.00203158 -0.00203158 -0.00193422 -0.00208978 -0.00173745\n",
      " -0.00190641 -0.00187395 -0.00187395 -0.00189868 -0.00189868 -0.00187447\n",
      " -0.00195998 -0.00187498 -0.00187498]\n"
     ]
    }
   ],
   "source": [
    "y_pred = lstm_model.predict(trim_dataset(x_test_t, BATCH_SIZE), batch_size=BATCH_SIZE)\n",
    "y_pred = y_pred.flatten()\n",
    "y_test_t = trim_dataset(y_test_t, BATCH_SIZE)\n",
    "error = metrics.mean_squared_error(y_test_t, y_pred)\n",
    "print(\"Error is\", error, y_pred.shape, y_test_t.shape)\n",
    "print(y_pred[0:15])\n",
    "print(y_test_t[0:15])"
   ]
  },
  {
   "cell_type": "code",
   "execution_count": 35,
   "metadata": {},
   "outputs": [
    {
     "name": "stdout",
     "output_type": "stream",
     "text": [
      "[657.8733  657.6462  658.9659  661.3189  662.4009  661.8096  657.62476\n",
      " 646.46564 640.5047  627.125   614.7278  617.1048  625.1055  636.15704\n",
      " 648.6686 ]\n",
      "[418.27 416.92 416.92 418.81 415.79 422.63 419.35 419.98 419.98 419.5\n",
      " 419.5  419.97 418.31 419.96 419.96]\n"
     ]
    }
   ],
   "source": [
    "# convert the predicted value to range of real data\n",
    "y_pred_org = (y_pred * min_max_scaler.data_range_[0]) + min_max_scaler.data_min_[0]\n",
    "# min_max_scaler.inverse_transform(y_pred)\n",
    "y_test_t_org = (y_test_t * min_max_scaler.data_range_[0]) + min_max_scaler.data_min_[0]\n",
    "# min_max_scaler.inverse_transform(y_test_t)\n",
    "print(y_pred_org[0:15])\n",
    "print(y_test_t_org[0:15])"
   ]
  },
  {
   "cell_type": "code",
   "execution_count": 36,
   "metadata": {},
   "outputs": [
    {
     "data": {
      "image/png": "[encoded data removed]",
      "text/plain": [
       "<Figure size 432x288 with 1 Axes>"
      ]
     },
     "metadata": {},
     "output_type": "display_data"
    }
   ],
   "source": [
    "# Visualize the prediction\n",
    "from matplotlib import pyplot as plt\n",
    "plt.figure()\n",
    "plt.plot(y_pred_org)\n",
    "plt.plot(y_test_t_org)\n",
    "plt.title('Prediction vs Real Stock Price')\n",
    "plt.ylabel('Price')\n",
    "plt.xlabel('Days')\n",
    "plt.legend(['Prediction', 'Real'], loc='upper left')\n",
    "plt.show()\n",
    "#plt.savefig(os.path.join(OUTPUT_PATH, 'pred_vs_real_BS'+str(BATCH_SIZE)+\"_\"+time.ctime()+'.png'))"
   ]
  },
  {
   "cell_type": "code",
   "execution_count": null,
   "metadata": {},
   "outputs": [],
   "source": []
  }
 ],
 "metadata": {
  "kernelspec": {
   "display_name": "Python 3",
   "language": "python",
   "name": "python3"
  },
  "language_info": {
   "codemirror_mode": {
    "name": "ipython",
    "version": 3
   },
   "file_extension": ".py",
   "mimetype": "text/x-python",
   "name": "python",
   "nbconvert_exporter": "python",
   "pygments_lexer": "ipython3",
   "version": "3.5.2"
  }
 },
 "nbformat": 4,
 "nbformat_minor": 2
}
