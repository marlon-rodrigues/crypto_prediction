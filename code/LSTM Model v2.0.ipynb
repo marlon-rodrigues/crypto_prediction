{
 "cells": [
  {
   "cell_type": "markdown",
   "metadata": {},
   "source": [
    "# Experimentation Only"
   ]
  },
  {
   "cell_type": "code",
   "execution_count": 2,
   "metadata": {},
   "outputs": [
    {
     "name": "stdout",
     "output_type": "stream",
     "text": [
      "Requirement already satisfied: tqdm in /usr/local/lib/python3.5/dist-packages\n",
      "\u001b[33mYou are using pip version 9.0.3, however version 19.1.1 is available.\n",
      "You should consider upgrading via the 'pip install --upgrade pip' command.\u001b[0m\n"
     ]
    }
   ],
   "source": [
    "import sys\n",
    "!{sys.executable} -m pip install tqdm"
   ]
  },
  {
   "cell_type": "code",
   "execution_count": 3,
   "metadata": {},
   "outputs": [
    {
     "name": "stderr",
     "output_type": "stream",
     "text": [
      "/usr/local/lib/python3.5/dist-packages/sklearn/cross_validation.py:41: DeprecationWarning: This module was deprecated in version 0.18 in favor of the model_selection module into which all the refactored classes and functions are moved. Also note that the interface of the new CV iterators are different from that of this module. This module will be removed in 0.20.\n",
      "  \"This module will be removed in 0.20.\", DeprecationWarning)\n",
      "/usr/local/lib/python3.5/dist-packages/h5py/__init__.py:36: FutureWarning: Conversion of the second argument of issubdtype from `float` to `np.floating` is deprecated. In future, it will be treated as `np.float64 == np.dtype(float).type`.\n",
      "  from ._conv import register_converters as _register_converters\n",
      "Using TensorFlow backend.\n"
     ]
    }
   ],
   "source": [
    "import math\n",
    "import matplotlib.pyplot as plt\n",
    "import pandas as pd\n",
    "import numpy as np\n",
    "import time\n",
    "from datetime import datetime\n",
    "import datetime as dt\n",
    "from mpl_toolkits.mplot3d import Axes3D\n",
    "%matplotlib inline\n",
    "\n",
    "#For Prediction\n",
    "from sklearn import metrics\n",
    "from sklearn import preprocessing, cross_validation\n",
    "from sklearn.model_selection import train_test_split\n",
    "from sklearn.preprocessing import MinMaxScaler\n",
    "\n",
    "import keras\n",
    "from keras.layers import Dense, Dropout, Input, LSTM, Activation, Flatten, TimeDistributed\n",
    "from keras.models import Model,Sequential\n",
    "from keras.datasets import mnist\n",
    "from tqdm import tqdm, tqdm_notebook\n",
    "from keras.layers.advanced_activations import LeakyReLU\n",
    "from keras.optimizers import Adam, RMSprop\n",
    "from keras.preprocessing.sequence import pad_sequences"
   ]
  },
  {
   "cell_type": "code",
   "execution_count": 4,
   "metadata": {},
   "outputs": [
    {
     "data": {
      "text/html": [
       "<div>\n",
       "<style scoped>\n",
       "    .dataframe tbody tr th:only-of-type {\n",
       "        vertical-align: middle;\n",
       "    }\n",
       "\n",
       "    .dataframe tbody tr th {\n",
       "        vertical-align: top;\n",
       "    }\n",
       "\n",
       "    .dataframe thead th {\n",
       "        text-align: right;\n",
       "    }\n",
       "</style>\n",
       "<table border=\"1\" class=\"dataframe\">\n",
       "  <thead>\n",
       "    <tr style=\"text-align: right;\">\n",
       "      <th></th>\n",
       "      <th>Date</th>\n",
       "      <th>Close</th>\n",
       "      <th>USD_Exchange_Trade_Volume</th>\n",
       "      <th>Bitcoins_in_circulation</th>\n",
       "      <th>MarketCap</th>\n",
       "      <th>BlockSize</th>\n",
       "      <th>AvgBlockSize</th>\n",
       "      <th>Orphaned_Block</th>\n",
       "      <th>TransactionsPerBlock</th>\n",
       "      <th>MedianTransactCnfmTime</th>\n",
       "      <th>...</th>\n",
       "      <th>USD/JPY</th>\n",
       "      <th>USD/CHF</th>\n",
       "      <th>USD/KRW</th>\n",
       "      <th>USD/GBP</th>\n",
       "      <th>EUR/KRW</th>\n",
       "      <th>USD/CNY</th>\n",
       "      <th>Google Trends Interest</th>\n",
       "      <th>GTrends Normalized</th>\n",
       "      <th>US Federal funds rate</th>\n",
       "      <th>Breakeven Inflation Rate</th>\n",
       "    </tr>\n",
       "  </thead>\n",
       "  <tbody>\n",
       "    <tr>\n",
       "      <th>0</th>\n",
       "      <td>3-Jan-09</td>\n",
       "      <td>0.0</td>\n",
       "      <td>0.0</td>\n",
       "      <td>50.0</td>\n",
       "      <td>0.0</td>\n",
       "      <td>0.0</td>\n",
       "      <td>0.0</td>\n",
       "      <td>0</td>\n",
       "      <td>1.0</td>\n",
       "      <td>0.0</td>\n",
       "      <td>...</td>\n",
       "      <td>90.73</td>\n",
       "      <td>1.06</td>\n",
       "      <td>1269.75</td>\n",
       "      <td>0.69</td>\n",
       "      <td>1774.86</td>\n",
       "      <td>6.83</td>\n",
       "      <td>0</td>\n",
       "      <td>0.0</td>\n",
       "      <td>0.08</td>\n",
       "      <td>0.15</td>\n",
       "    </tr>\n",
       "    <tr>\n",
       "      <th>1</th>\n",
       "      <td>5-Jan-09</td>\n",
       "      <td>0.0</td>\n",
       "      <td>0.0</td>\n",
       "      <td>50.0</td>\n",
       "      <td>0.0</td>\n",
       "      <td>0.0</td>\n",
       "      <td>0.0</td>\n",
       "      <td>0</td>\n",
       "      <td>1.0</td>\n",
       "      <td>0.0</td>\n",
       "      <td>...</td>\n",
       "      <td>92.08</td>\n",
       "      <td>1.08</td>\n",
       "      <td>1326.15</td>\n",
       "      <td>0.69</td>\n",
       "      <td>1843.95</td>\n",
       "      <td>6.82</td>\n",
       "      <td>0</td>\n",
       "      <td>0.0</td>\n",
       "      <td>0.11</td>\n",
       "      <td>0.15</td>\n",
       "    </tr>\n",
       "    <tr>\n",
       "      <th>2</th>\n",
       "      <td>7-Jan-09</td>\n",
       "      <td>0.0</td>\n",
       "      <td>0.0</td>\n",
       "      <td>50.0</td>\n",
       "      <td>0.0</td>\n",
       "      <td>0.0</td>\n",
       "      <td>0.0</td>\n",
       "      <td>0</td>\n",
       "      <td>1.0</td>\n",
       "      <td>0.0</td>\n",
       "      <td>...</td>\n",
       "      <td>93.79</td>\n",
       "      <td>1.12</td>\n",
       "      <td>1305.55</td>\n",
       "      <td>0.67</td>\n",
       "      <td>1763.60</td>\n",
       "      <td>6.84</td>\n",
       "      <td>0</td>\n",
       "      <td>0.0</td>\n",
       "      <td>0.11</td>\n",
       "      <td>0.47</td>\n",
       "    </tr>\n",
       "    <tr>\n",
       "      <th>3</th>\n",
       "      <td>9-Jan-09</td>\n",
       "      <td>0.0</td>\n",
       "      <td>0.0</td>\n",
       "      <td>750.0</td>\n",
       "      <td>0.0</td>\n",
       "      <td>0.0</td>\n",
       "      <td>0.0</td>\n",
       "      <td>0</td>\n",
       "      <td>1.0</td>\n",
       "      <td>0.0</td>\n",
       "      <td>...</td>\n",
       "      <td>91.24</td>\n",
       "      <td>1.10</td>\n",
       "      <td>1324.45</td>\n",
       "      <td>0.66</td>\n",
       "      <td>1808.74</td>\n",
       "      <td>6.83</td>\n",
       "      <td>0</td>\n",
       "      <td>0.0</td>\n",
       "      <td>0.09</td>\n",
       "      <td>0.56</td>\n",
       "    </tr>\n",
       "    <tr>\n",
       "      <th>4</th>\n",
       "      <td>11-Jan-09</td>\n",
       "      <td>0.0</td>\n",
       "      <td>0.0</td>\n",
       "      <td>7600.0</td>\n",
       "      <td>0.0</td>\n",
       "      <td>0.0</td>\n",
       "      <td>0.0</td>\n",
       "      <td>0</td>\n",
       "      <td>1.0</td>\n",
       "      <td>0.0</td>\n",
       "      <td>...</td>\n",
       "      <td>91.24</td>\n",
       "      <td>1.10</td>\n",
       "      <td>1324.45</td>\n",
       "      <td>0.66</td>\n",
       "      <td>1808.74</td>\n",
       "      <td>6.83</td>\n",
       "      <td>0</td>\n",
       "      <td>0.0</td>\n",
       "      <td>0.09</td>\n",
       "      <td>0.56</td>\n",
       "    </tr>\n",
       "  </tbody>\n",
       "</table>\n",
       "<p>5 rows × 65 columns</p>\n",
       "</div>"
      ],
      "text/plain": [
       "        Date  Close  USD_Exchange_Trade_Volume  Bitcoins_in_circulation  \\\n",
       "0   3-Jan-09    0.0                        0.0                     50.0   \n",
       "1   5-Jan-09    0.0                        0.0                     50.0   \n",
       "2   7-Jan-09    0.0                        0.0                     50.0   \n",
       "3   9-Jan-09    0.0                        0.0                    750.0   \n",
       "4  11-Jan-09    0.0                        0.0                   7600.0   \n",
       "\n",
       "   MarketCap  BlockSize  AvgBlockSize  Orphaned_Block  TransactionsPerBlock  \\\n",
       "0        0.0        0.0           0.0               0                   1.0   \n",
       "1        0.0        0.0           0.0               0                   1.0   \n",
       "2        0.0        0.0           0.0               0                   1.0   \n",
       "3        0.0        0.0           0.0               0                   1.0   \n",
       "4        0.0        0.0           0.0               0                   1.0   \n",
       "\n",
       "   MedianTransactCnfmTime            ...             USD/JPY  USD/CHF  \\\n",
       "0                     0.0            ...               90.73     1.06   \n",
       "1                     0.0            ...               92.08     1.08   \n",
       "2                     0.0            ...               93.79     1.12   \n",
       "3                     0.0            ...               91.24     1.10   \n",
       "4                     0.0            ...               91.24     1.10   \n",
       "\n",
       "   USD/KRW  USD/GBP  EUR/KRW  USD/CNY  Google Trends Interest  \\\n",
       "0  1269.75     0.69  1774.86     6.83                       0   \n",
       "1  1326.15     0.69  1843.95     6.82                       0   \n",
       "2  1305.55     0.67  1763.60     6.84                       0   \n",
       "3  1324.45     0.66  1808.74     6.83                       0   \n",
       "4  1324.45     0.66  1808.74     6.83                       0   \n",
       "\n",
       "   GTrends Normalized  US Federal funds rate  Breakeven Inflation Rate  \n",
       "0                 0.0                   0.08                      0.15  \n",
       "1                 0.0                   0.11                      0.15  \n",
       "2                 0.0                   0.11                      0.47  \n",
       "3                 0.0                   0.09                      0.56  \n",
       "4                 0.0                   0.09                      0.56  \n",
       "\n",
       "[5 rows x 65 columns]"
      ]
     },
     "execution_count": 4,
     "metadata": {},
     "output_type": "execute_result"
    }
   ],
   "source": [
    "# Read Datasets \n",
    "#research_data_raw = pd.read_csv('Datasets/bitcoin_research_data_v2.csv')\n",
    "# Drop unnecessary columns\n",
    "#research_data = research_data_raw.drop('Unnamed: 0', axis=1)\n",
    "research_data = pd.read_csv('Datasets/BlockChain_Train_csv.csv')\n",
    "#research_data.fillna(0, inplace=True)\n",
    "research_data.head()"
   ]
  },
  {
   "cell_type": "code",
   "execution_count": 5,
   "metadata": {},
   "outputs": [
    {
     "data": {
      "text/html": [
       "<div>\n",
       "<style scoped>\n",
       "    .dataframe tbody tr th:only-of-type {\n",
       "        vertical-align: middle;\n",
       "    }\n",
       "\n",
       "    .dataframe tbody tr th {\n",
       "        vertical-align: top;\n",
       "    }\n",
       "\n",
       "    .dataframe thead th {\n",
       "        text-align: right;\n",
       "    }\n",
       "</style>\n",
       "<table border=\"1\" class=\"dataframe\">\n",
       "  <thead>\n",
       "    <tr style=\"text-align: right;\">\n",
       "      <th></th>\n",
       "      <th>Date</th>\n",
       "      <th>Close</th>\n",
       "      <th>USD_Exchange_Trade_Volume</th>\n",
       "      <th>Bitcoins_in_circulation</th>\n",
       "      <th>MarketCap</th>\n",
       "      <th>BlockSize</th>\n",
       "      <th>AvgBlockSize</th>\n",
       "      <th>Orphaned_Block</th>\n",
       "      <th>TransactionsPerBlock</th>\n",
       "      <th>MedianTransactCnfmTime</th>\n",
       "      <th>...</th>\n",
       "      <th>USD/JPY</th>\n",
       "      <th>USD/CHF</th>\n",
       "      <th>USD/KRW</th>\n",
       "      <th>USD/GBP</th>\n",
       "      <th>EUR/KRW</th>\n",
       "      <th>USD/CNY</th>\n",
       "      <th>Google Trends Interest</th>\n",
       "      <th>GTrends Normalized</th>\n",
       "      <th>US Federal funds rate</th>\n",
       "      <th>Breakeven Inflation Rate</th>\n",
       "    </tr>\n",
       "  </thead>\n",
       "  <tbody>\n",
       "    <tr>\n",
       "      <th>1768</th>\n",
       "      <td>9-Sep-18</td>\n",
       "      <td>6286.43</td>\n",
       "      <td>291261346.9</td>\n",
       "      <td>17259100.0</td>\n",
       "      <td>1.080000e+11</td>\n",
       "      <td>181951.87</td>\n",
       "      <td>0.62</td>\n",
       "      <td>0</td>\n",
       "      <td>1158.97</td>\n",
       "      <td>7.03</td>\n",
       "      <td>...</td>\n",
       "      <td>111.01</td>\n",
       "      <td>0.97</td>\n",
       "      <td>1128.55</td>\n",
       "      <td>0.77</td>\n",
       "      <td>1305.90</td>\n",
       "      <td>6.84</td>\n",
       "      <td>54</td>\n",
       "      <td>0.54</td>\n",
       "      <td>1.92</td>\n",
       "      <td>2.10</td>\n",
       "    </tr>\n",
       "    <tr>\n",
       "      <th>1769</th>\n",
       "      <td>11-Sep-18</td>\n",
       "      <td>6296.32</td>\n",
       "      <td>290980772.8</td>\n",
       "      <td>17262550.0</td>\n",
       "      <td>1.090000e+11</td>\n",
       "      <td>182206.04</td>\n",
       "      <td>0.94</td>\n",
       "      <td>0</td>\n",
       "      <td>1684.90</td>\n",
       "      <td>10.53</td>\n",
       "      <td>...</td>\n",
       "      <td>111.59</td>\n",
       "      <td>0.97</td>\n",
       "      <td>1125.80</td>\n",
       "      <td>0.77</td>\n",
       "      <td>1304.82</td>\n",
       "      <td>6.88</td>\n",
       "      <td>65</td>\n",
       "      <td>0.65</td>\n",
       "      <td>1.92</td>\n",
       "      <td>2.12</td>\n",
       "    </tr>\n",
       "    <tr>\n",
       "      <th>1770</th>\n",
       "      <td>13-Sep-18</td>\n",
       "      <td>6450.18</td>\n",
       "      <td>321882304.6</td>\n",
       "      <td>17266500.0</td>\n",
       "      <td>1.110000e+11</td>\n",
       "      <td>182446.38</td>\n",
       "      <td>0.82</td>\n",
       "      <td>0</td>\n",
       "      <td>1582.49</td>\n",
       "      <td>8.08</td>\n",
       "      <td>...</td>\n",
       "      <td>111.86</td>\n",
       "      <td>0.97</td>\n",
       "      <td>1120.89</td>\n",
       "      <td>0.76</td>\n",
       "      <td>1309.12</td>\n",
       "      <td>6.86</td>\n",
       "      <td>65</td>\n",
       "      <td>0.65</td>\n",
       "      <td>1.92</td>\n",
       "      <td>2.10</td>\n",
       "    </tr>\n",
       "    <tr>\n",
       "      <th>1771</th>\n",
       "      <td>15-Sep-18</td>\n",
       "      <td>6518.66</td>\n",
       "      <td>360631436.3</td>\n",
       "      <td>17269900.0</td>\n",
       "      <td>1.130000e+11</td>\n",
       "      <td>182696.55</td>\n",
       "      <td>0.79</td>\n",
       "      <td>0</td>\n",
       "      <td>1507.65</td>\n",
       "      <td>9.03</td>\n",
       "      <td>...</td>\n",
       "      <td>112.06</td>\n",
       "      <td>0.97</td>\n",
       "      <td>1121.43</td>\n",
       "      <td>0.77</td>\n",
       "      <td>1304.73</td>\n",
       "      <td>6.87</td>\n",
       "      <td>50</td>\n",
       "      <td>0.50</td>\n",
       "      <td>1.92</td>\n",
       "      <td>2.10</td>\n",
       "    </tr>\n",
       "    <tr>\n",
       "      <th>1772</th>\n",
       "      <td>17-Sep-18</td>\n",
       "      <td>6400.60</td>\n",
       "      <td>181083665.0</td>\n",
       "      <td>17273325.0</td>\n",
       "      <td>1.110000e+11</td>\n",
       "      <td>182906.28</td>\n",
       "      <td>0.91</td>\n",
       "      <td>0</td>\n",
       "      <td>1778.90</td>\n",
       "      <td>9.37</td>\n",
       "      <td>...</td>\n",
       "      <td>111.98</td>\n",
       "      <td>0.96</td>\n",
       "      <td>1124.70</td>\n",
       "      <td>0.76</td>\n",
       "      <td>1314.71</td>\n",
       "      <td>6.88</td>\n",
       "      <td>58</td>\n",
       "      <td>0.58</td>\n",
       "      <td>1.92</td>\n",
       "      <td>2.10</td>\n",
       "    </tr>\n",
       "  </tbody>\n",
       "</table>\n",
       "<p>5 rows × 65 columns</p>\n",
       "</div>"
      ],
      "text/plain": [
       "           Date    Close  USD_Exchange_Trade_Volume  Bitcoins_in_circulation  \\\n",
       "1768   9-Sep-18  6286.43                291261346.9               17259100.0   \n",
       "1769  11-Sep-18  6296.32                290980772.8               17262550.0   \n",
       "1770  13-Sep-18  6450.18                321882304.6               17266500.0   \n",
       "1771  15-Sep-18  6518.66                360631436.3               17269900.0   \n",
       "1772  17-Sep-18  6400.60                181083665.0               17273325.0   \n",
       "\n",
       "         MarketCap  BlockSize  AvgBlockSize  Orphaned_Block  \\\n",
       "1768  1.080000e+11  181951.87          0.62               0   \n",
       "1769  1.090000e+11  182206.04          0.94               0   \n",
       "1770  1.110000e+11  182446.38          0.82               0   \n",
       "1771  1.130000e+11  182696.55          0.79               0   \n",
       "1772  1.110000e+11  182906.28          0.91               0   \n",
       "\n",
       "      TransactionsPerBlock  MedianTransactCnfmTime            ...             \\\n",
       "1768               1158.97                    7.03            ...              \n",
       "1769               1684.90                   10.53            ...              \n",
       "1770               1582.49                    8.08            ...              \n",
       "1771               1507.65                    9.03            ...              \n",
       "1772               1778.90                    9.37            ...              \n",
       "\n",
       "      USD/JPY  USD/CHF  USD/KRW  USD/GBP  EUR/KRW  USD/CNY  \\\n",
       "1768   111.01     0.97  1128.55     0.77  1305.90     6.84   \n",
       "1769   111.59     0.97  1125.80     0.77  1304.82     6.88   \n",
       "1770   111.86     0.97  1120.89     0.76  1309.12     6.86   \n",
       "1771   112.06     0.97  1121.43     0.77  1304.73     6.87   \n",
       "1772   111.98     0.96  1124.70     0.76  1314.71     6.88   \n",
       "\n",
       "      Google Trends Interest  GTrends Normalized  US Federal funds rate  \\\n",
       "1768                      54                0.54                   1.92   \n",
       "1769                      65                0.65                   1.92   \n",
       "1770                      65                0.65                   1.92   \n",
       "1771                      50                0.50                   1.92   \n",
       "1772                      58                0.58                   1.92   \n",
       "\n",
       "      Breakeven Inflation Rate  \n",
       "1768                      2.10  \n",
       "1769                      2.12  \n",
       "1770                      2.10  \n",
       "1771                      2.10  \n",
       "1772                      2.10  \n",
       "\n",
       "[5 rows x 65 columns]"
      ]
     },
     "execution_count": 5,
     "metadata": {},
     "output_type": "execute_result"
    }
   ],
   "source": [
    "research_data.tail()"
   ]
  },
  {
   "cell_type": "code",
   "execution_count": 6,
   "metadata": {},
   "outputs": [
    {
     "data": {
      "text/plain": [
       "1773"
      ]
     },
     "execution_count": 6,
     "metadata": {},
     "output_type": "execute_result"
    }
   ],
   "source": [
    "len(research_data)"
   ]
  },
  {
   "cell_type": "code",
   "execution_count": 7,
   "metadata": {},
   "outputs": [
    {
     "data": {
      "image/png": "[encoded data removed]",
      "text/plain": [
       "<Figure size 432x288 with 1 Axes>"
      ]
     },
     "metadata": {},
     "output_type": "display_data"
    }
   ],
   "source": [
    "# plt.figure()\n",
    "# plt.plot(research_data[\"Close\"])\n",
    "# plt.plot(research_data[\"High\"])\n",
    "# plt.plot(research_data[\"Low\"])\n",
    "# plt.plot(research_data[\"Close\"])\n",
    "# plt.title('Bitcoin price history')\n",
    "# plt.ylabel('Price (USD)')\n",
    "# plt.xlabel('Days')\n",
    "# plt.legend(['Open','High','Low','Close'], loc='upper left')\n",
    "# plt.show()\n",
    "\n",
    "plt.figure()\n",
    "plt.plot(research_data[\"Close\"])\n",
    "plt.plot(research_data[\"TransactionsPerBlock\"])\n",
    "plt.title('Bitcoin price history')\n",
    "plt.ylabel('Price (USD)')\n",
    "plt.xlabel('Days')\n",
    "plt.legend(['Close','TransactionsPerBlock'], loc='upper left')\n",
    "plt.show()"
   ]
  },
  {
   "cell_type": "code",
   "execution_count": 8,
   "metadata": {},
   "outputs": [
    {
     "data": {
      "image/png": "[encoded data removed]",
      "text/plain": [
       "<Figure size 432x288 with 1 Axes>"
      ]
     },
     "metadata": {},
     "output_type": "display_data"
    }
   ],
   "source": [
    "plt.figure()\n",
    "plt.plot(research_data[\"USD_Exchange_Trade_Volume\"])\n",
    "plt.title('Volume')\n",
    "plt.ylabel('Volume')\n",
    "plt.xlabel('Days')\n",
    "plt.show()"
   ]
  },
  {
   "cell_type": "code",
   "execution_count": 9,
   "metadata": {},
   "outputs": [
    {
     "data": {
      "image/png": "[encoded data removed]",
      "text/plain": [
       "<Figure size 432x288 with 1 Axes>"
      ]
     },
     "metadata": {},
     "output_type": "display_data"
    }
   ],
   "source": [
    "plt.figure()\n",
    "plt.plot(research_data[\"Bitcoins_in_circulation\"])\n",
    "plt.title('Bitcoins in Circulation')\n",
    "plt.ylabel('Circulation')\n",
    "plt.xlabel('Days')\n",
    "plt.show()"
   ]
  },
  {
   "cell_type": "code",
   "execution_count": 10,
   "metadata": {},
   "outputs": [
    {
     "data": {
      "image/png": "[encoded data removed]",
      "text/plain": [
       "<Figure size 432x288 with 1 Axes>"
      ]
     },
     "metadata": {},
     "output_type": "display_data"
    }
   ],
   "source": [
    "plt.figure()\n",
    "plt.plot(research_data[\"Estimated_Transaction_Value_USD\"])\n",
    "plt.title('Google Trends Normalize')\n",
    "plt.ylabel('Google Trends')\n",
    "plt.xlabel('Days')\n",
    "plt.show()"
   ]
  },
  {
   "cell_type": "code",
   "execution_count": 11,
   "metadata": {},
   "outputs": [
    {
     "name": "stdout",
     "output_type": "stream",
     "text": [
      "checking if any null values are present\n",
      " Date                                                 0\n",
      "Close                                                0\n",
      "USD_Exchange_Trade_Volume                            0\n",
      "Bitcoins_in_circulation                              0\n",
      "MarketCap                                            0\n",
      "BlockSize                                            0\n",
      "AvgBlockSize                                         0\n",
      "Orphaned_Block                                       0\n",
      "TransactionsPerBlock                                 0\n",
      "MedianTransactCnfmTime                               0\n",
      "Hash_Rate                                            0\n",
      "Difficulty                                           0\n",
      "MinersRevenue                                        0\n",
      "TransactionFees_BTC                                  0\n",
      "TransactionFees_USD                                  0\n",
      "Cost%ofTransactionVolume                             0\n",
      "CostPerTransaction                                   0\n",
      "Unique_Addresses                                     0\n",
      "Total_Transactions_Per_Day                           0\n",
      "Total_Number_of_Transactions                         0\n",
      "Transaction_Volume_excluding_Popular_Addresses       0\n",
      "Total_Output_Value                                   0\n",
      "Estimated_Transaction_Value                          0\n",
      "Estimated_Transaction_Value_USD                      0\n",
      "Close_d                                              0\n",
      "Close_d2                                             0\n",
      "USD_Exchange_Trade_Volume_d                          0\n",
      "Bitcoins_in_circulation_d                            0\n",
      "MarketCap_d                                          0\n",
      "BlockSize_d                                          0\n",
      "                                                    ..\n",
      "Difficulty_d                                         0\n",
      "MinersRevenue_d                                      0\n",
      "TransactionFees_BTC_d                                0\n",
      "TransactionFees_USD_d                                0\n",
      "Cost%ofTransactionVolume_d                           0\n",
      "CostPerTransaction_d                                 0\n",
      "Unique_Addresses_d                                   0\n",
      "Total_Transactions_Per_Day_d                         0\n",
      "Total_Number_of_Transactions_d                       0\n",
      "Transaction_Volume_excluding_Popular_Addresses_d     0\n",
      "Total_Output_Value_d                                 0\n",
      "Estimated_Transaction_Value_d                        0\n",
      "Estimated _Transaction_Value_USD_d                   0\n",
      "NASDAQ Composite                                     0\n",
      "Dow Jones Industrial Avg                             0\n",
      "S&P 500                                              0\n",
      "Gold Price Index                                     0\n",
      "Crude Oil WTI                                        0\n",
      "USD/AUD                                              0\n",
      "USD/EUR                                             10\n",
      "USD/JPY                                              0\n",
      "USD/CHF                                              0\n",
      "USD/KRW                                              0\n",
      "USD/GBP                                              0\n",
      "EUR/KRW                                              0\n",
      "USD/CNY                                              0\n",
      "Google Trends Interest                               0\n",
      "GTrends Normalized                                   0\n",
      "US Federal funds rate                                0\n",
      "Breakeven Inflation Rate                             0\n",
      "Length: 65, dtype: int64\n"
     ]
    }
   ],
   "source": [
    "print(\"checking if any null values are present\\n\", research_data.isna().sum())"
   ]
  },
  {
   "cell_type": "code",
   "execution_count": 12,
   "metadata": {},
   "outputs": [
    {
     "name": "stdout",
     "output_type": "stream",
     "text": [
      "Train and Test size 1418 355\n"
     ]
    }
   ],
   "source": [
    "# Normalize and convert DataFrame into ndArray\n",
    "# train_cols = [\"Open\",\"High\",\"Low\",\"Close\",\"Volume USD\",\"Popularity_Normalized\"]\n",
    "train_cols = [\"Close\",\"TransactionsPerBlock\",\"USD_Exchange_Trade_Volume\",\"BlockSize_d\",\"Total_Number_of_Transactions_d\",\"Estimated_Transaction_Value_USD\"]\n",
    "# train_cols = [\"Close\"]\n",
    "\n",
    "df_train, df_test = train_test_split(research_data, train_size=0.8, test_size=0.2, shuffle=False)\n",
    "print(\"Train and Test size\", len(df_train), len(df_test))\n",
    "\n",
    "# scale the feature MinMax, build array\n",
    "x = df_train.loc[:,train_cols].values\n",
    "min_max_scaler = MinMaxScaler()\n",
    "x_train = min_max_scaler.fit_transform(x)\n",
    "x_test = min_max_scaler.transform(df_test.loc[:,train_cols])"
   ]
  },
  {
   "cell_type": "code",
   "execution_count": 13,
   "metadata": {},
   "outputs": [],
   "source": [
    "TIME_STEPS = 10\n",
    "BATCH_SIZE = 16\n",
    "LR = 0.005\n",
    "# epochs = 150\n",
    "EPOCHS = 5"
   ]
  },
  {
   "cell_type": "code",
   "execution_count": 14,
   "metadata": {},
   "outputs": [],
   "source": [
    "def build_timeseries(mat, y_col_index):\n",
    "    # y_col_index is the index of column that would act as output column\n",
    "    # total number of time-series samples would be len(mat) - TIME_STEPS\n",
    "    dim_0 = mat.shape[0] - TIME_STEPS\n",
    "    dim_1 = mat.shape[1]\n",
    "    x = np.zeros((dim_0, TIME_STEPS, dim_1))\n",
    "    y = np.zeros((dim_0,))\n",
    "    \n",
    "    for i in tqdm_notebook(range(dim_0)):\n",
    "        x[i] = mat[i:TIME_STEPS+i]\n",
    "        y[i] = mat[TIME_STEPS+i, y_col_index]\n",
    "    print(\"length of time-series i/o\",x.shape,y.shape)\n",
    "    return x, y"
   ]
  },
  {
   "cell_type": "code",
   "execution_count": 15,
   "metadata": {},
   "outputs": [],
   "source": [
    "def trim_dataset(mat, batch_size):\n",
    "    \"\"\"\n",
    "    trims dataset to a size that's divisible by BATCH_SIZE\n",
    "    \"\"\"\n",
    "    no_of_rows_drop = mat.shape[0]%batch_size\n",
    "    if(no_of_rows_drop > 0):\n",
    "        return mat[:-no_of_rows_drop]\n",
    "    else:\n",
    "        return mat"
   ]
  },
  {
   "cell_type": "code",
   "execution_count": 16,
   "metadata": {},
   "outputs": [
    {
     "data": {
      "application/vnd.jupyter.widget-view+json": {
       "model_id": "d19633d205ea433ea53cf71174df733e",
       "version_major": 2,
       "version_minor": 0
      },
      "text/html": [
       "<p>Failed to display Jupyter Widget of type <code>HBox</code>.</p>\n",
       "<p>\n",
       "  If you're reading this message in the Jupyter Notebook or JupyterLab Notebook, it may mean\n",
       "  that the widgets JavaScript is still loading. If this message persists, it\n",
       "  likely means that the widgets JavaScript library is either not installed or\n",
       "  not enabled. See the <a href=\"https://ipywidgets.readthedocs.io/en/stable/user_install.html\">Jupyter\n",
       "  Widgets Documentation</a> for setup instructions.\n",
       "</p>\n",
       "<p>\n",
       "  If you're reading this message in another frontend (for example, a static\n",
       "  rendering on GitHub or <a href=\"https://nbviewer.jupyter.org/\">NBViewer</a>),\n",
       "  it may mean that your frontend doesn't currently support widgets.\n",
       "</p>\n"
      ],
      "text/plain": [
       "HBox(children=(IntProgress(value=0, max=1408), HTML(value='')))"
      ]
     },
     "metadata": {},
     "output_type": "display_data"
    },
    {
     "name": "stdout",
     "output_type": "stream",
     "text": [
      "\n",
      "length of time-series i/o (1408, 10, 6) (1408,)\n"
     ]
    },
    {
     "data": {
      "application/vnd.jupyter.widget-view+json": {
       "model_id": "84975dfcc6d2497b8dee3ced3c4593ce",
       "version_major": 2,
       "version_minor": 0
      },
      "text/html": [
       "<p>Failed to display Jupyter Widget of type <code>HBox</code>.</p>\n",
       "<p>\n",
       "  If you're reading this message in the Jupyter Notebook or JupyterLab Notebook, it may mean\n",
       "  that the widgets JavaScript is still loading. If this message persists, it\n",
       "  likely means that the widgets JavaScript library is either not installed or\n",
       "  not enabled. See the <a href=\"https://ipywidgets.readthedocs.io/en/stable/user_install.html\">Jupyter\n",
       "  Widgets Documentation</a> for setup instructions.\n",
       "</p>\n",
       "<p>\n",
       "  If you're reading this message in another frontend (for example, a static\n",
       "  rendering on GitHub or <a href=\"https://nbviewer.jupyter.org/\">NBViewer</a>),\n",
       "  it may mean that your frontend doesn't currently support widgets.\n",
       "</p>\n"
      ],
      "text/plain": [
       "HBox(children=(IntProgress(value=0, max=345), HTML(value='')))"
      ]
     },
     "metadata": {},
     "output_type": "display_data"
    },
    {
     "name": "stdout",
     "output_type": "stream",
     "text": [
      "\n",
      "length of time-series i/o (345, 10, 6) (345,)\n"
     ]
    }
   ],
   "source": [
    "x_t, y_t = build_timeseries(x_train, 0) # index of output (3)\n",
    "x_t = trim_dataset(x_t, BATCH_SIZE)\n",
    "y_t = trim_dataset(y_t, BATCH_SIZE)\n",
    "x_temp, y_temp = build_timeseries(x_test, 0) # index of output (3)\n",
    "x_val, x_test_t = np.split(trim_dataset(x_temp, BATCH_SIZE),2)\n",
    "y_val, y_test_t = np.split(trim_dataset(y_temp, BATCH_SIZE),2)"
   ]
  },
  {
   "cell_type": "code",
   "execution_count": 19,
   "metadata": {},
   "outputs": [],
   "source": [
    "# lstm_model = Sequential()\n",
    "# lstm_model.add(LSTM(100, batch_input_shape=(BATCH_SIZE, TIME_STEPS, x_t.shape[2]), dropout=0.0, recurrent_dropout=0.0, stateful=True,     kernel_initializer='random_uniform'))\n",
    "# lstm_model.add(Dropout(0.5))\n",
    "# lstm_model.add(Dense(20,activation='relu'))\n",
    "# lstm_model.add(Dense(1,activation='sigmoid'))\n",
    "# optimizer = RMSprop(lr=LR)\n",
    "# lstm_model.compile(loss='mean_squared_error', optimizer=optimizer, metrics=['accuracy'])\n",
    "\n",
    "# lstm_model = Sequential()\n",
    "# lstm_model.add(LSTM(100, batch_input_shape=(BATCH_SIZE, TIME_STEPS, x_t.shape[2]), dropout=0.0, recurrent_dropout=0.0, stateful=True, kernel_initializer='random_uniform', return_sequences=True))\n",
    "# lstm_model.add(Dropout(0.5))\n",
    "# lstm_model.add(LSTM(32, return_sequences=True))\n",
    "# #lstm_model.add(Dense(20,activation='relu'))\n",
    "# lstm_model.add(LSTM(16, return_sequences=False))\n",
    "# lstm_model.add(Dropout(0.5))\n",
    "# lstm_model.add(Dense(1,activation='sigmoid'))\n",
    "# optimizer = RMSprop(lr=LR, decay=3e-8)\n",
    "# lstm_model.compile(loss='mean_squared_error', optimizer=optimizer, metrics=['accuracy'])\n",
    "\n",
    "# BEST SO FAR\n",
    "# lstm_model = Sequential()\n",
    "# lstm_model.add(LSTM(32, input_shape=(TIME_STEPS, x_t.shape[2]), return_sequences=True))\n",
    "# lstm_model.add(Dropout(0.4))\n",
    "# lstm_model.add(LSTM(16, return_sequences=False))\n",
    "# lstm_model.add(Dense(1))\n",
    "# lstm_model.add(Activation('tanh'))\n",
    "# optimizer = RMSprop(lr=0.005, clipvalue=1.)\n",
    "# lstm_model.compile(loss='mean_squared_error', optimizer=optimizer, metrics=['accuracy'])\n",
    "\n",
    "# lstm_model = Sequential()\n",
    "# lstm_model.add(LSTM(512, input_shape=(TIME_STEPS, x_t.shape[2]), return_sequences=True))\n",
    "# lstm_model.add(Dropout(0.3))\n",
    "# lstm_model.add(LSTM(256, return_sequences=True))\n",
    "# lstm_model.add(Dropout(0.6))\n",
    "# lstm_model.add(LSTM(128, return_sequences=True))\n",
    "# lstm_model.add(LSTM(64, return_sequences=True))\n",
    "# lstm_model.add(Dropout(0.8))\n",
    "# lstm_model.add(LSTM(32, return_sequences=True))\n",
    "# lstm_model.add(LSTM(16, return_sequences=True))\n",
    "# lstm_model.add(Dropout(0.1))\n",
    "# lstm_model.add(LSTM(8, return_sequences=False))\n",
    "# lstm_model.add(Dense(1))\n",
    "# lstm_model.add(Activation('tanh'))\n",
    "# optimizer = RMSprop(lr=0.0001, clipvalue=1.)\n",
    "# lstm_model.compile(loss='mean_squared_error', optimizer=optimizer, metrics=['accuracy'])\n",
    "\n",
    "lstm_model = Sequential()\n",
    "lstm_model.add(LSTM(16, batch_input_shape=(BATCH_SIZE, TIME_STEPS, x_t.shape[2]), dropout=0.0, recurrent_dropout=0.0, stateful=True, kernel_initializer='random_uniform', return_sequences=True))\n",
    "lstm_model.add(LSTM(8, return_sequences=False))\n",
    "lstm_model.add(Dropout(0.5))\n",
    "lstm_model.add(Dense(1,activation='linear'))\n",
    "optimizer = RMSprop(lr=LR, decay=3e-8)\n",
    "lstm_model.compile(loss='mean_squared_error', optimizer='adam', metrics=['accuracy'])\n",
    "\n",
    "# Recurrent layer - DID GOOD GIVEN THE CONDITIONS\n",
    "# lstm_model = Sequential()\n",
    "# lstm_model.add(LSTM(64, batch_input_shape=(BATCH_SIZE, TIME_STEPS, x_t.shape[2]), return_sequences=False, \n",
    "#                dropout=0.1, recurrent_dropout=0.1))\n",
    "# lstm_model.add(Dense(64, activation='linear'))\n",
    "# lstm_model.add(Dropout(0.5))\n",
    "# lstm_model.add(Dense(1, activation='linear'))\n",
    "# lstm_model.compile(\n",
    "#     optimizer='adam', loss='mean_squared_error', metrics=['accuracy'])\n"
   ]
  },
  {
   "cell_type": "code",
   "execution_count": 18,
   "metadata": {},
   "outputs": [
    {
     "name": "stdout",
     "output_type": "stream",
     "text": [
      "Train on 1408 samples, validate on 160 samples\n",
      "Epoch 1/5\n",
      "1408/1408 [==============================] - 3s 2ms/step - loss: 0.0280 - acc: 0.2031 - val_loss: 2.2068 - val_acc: 0.0000e+00\n",
      "Epoch 2/5\n",
      "1408/1408 [==============================] - 1s 946us/step - loss: 0.0322 - acc: 0.2031 - val_loss: 1.9303 - val_acc: 0.0000e+00\n",
      "Epoch 3/5\n",
      "1408/1408 [==============================] - 2s 1ms/step - loss: 0.0258 - acc: 0.2031 - val_loss: 1.8836 - val_acc: 0.0000e+00\n",
      "Epoch 4/5\n",
      "1408/1408 [==============================] - 2s 2ms/step - loss: 0.0219 - acc: 0.2031 - val_loss: 1.8608 - val_acc: 0.0000e+00\n",
      "Epoch 5/5\n",
      "1408/1408 [==============================] - 1s 812us/step - loss: 0.0179 - acc: 0.2031 - val_loss: 1.7605 - val_acc: 0.0000e+00\n"
     ]
    }
   ],
   "source": [
    "# csv_logger = CSVLogger(os.path.join(OUTPUT_PATH, 'your_log_name' + '.log'), append=True)\n",
    "\n",
    "# history = model.fit(x_t, y_t, epochs=your_epochs, verbose=2, batch_size=BATCH_SIZE,\n",
    "#                    shuffle=False, validation_data=(trim_dataset(x_val, BATCH_SIZE),\n",
    "#                    trim_dataset(y_val, BATCH_SIZE)), callbacks=[csv_logger])\n",
    "\n",
    "history = lstm_model.fit(x_t, y_t, epochs=EPOCHS, batch_size=BATCH_SIZE,\n",
    "                    shuffle=False, validation_data=(trim_dataset(x_val, BATCH_SIZE),\n",
    "                    trim_dataset(y_val, BATCH_SIZE)))"
   ]
  },
  {
   "cell_type": "code",
   "execution_count": 189,
   "metadata": {},
   "outputs": [
    {
     "data": {
      "image/png": "[encoded data removed]",
      "text/plain": [
       "<Figure size 432x288 with 1 Axes>"
      ]
     },
     "metadata": {},
     "output_type": "display_data"
    }
   ],
   "source": [
    "# Visualize the training data\n",
    "from matplotlib import pyplot as plt\n",
    "plt.figure()\n",
    "plt.plot(history.history['loss'])\n",
    "plt.plot(history.history['val_loss'])\n",
    "#plt.plot(history.history['acc'])\n",
    "#plt.plot(history.history['val_acc'])\n",
    "plt.title('Model loss')\n",
    "plt.ylabel('Loss')\n",
    "plt.xlabel('Epoch')\n",
    "#plt.legend(['Train', 'Test', 'Train Accuracy', 'Test Accuracy'], loc='upper left')\n",
    "plt.legend(['Train', 'Test'], loc='upper left')\n",
    "plt.show()\n",
    "#plt.savefig(os.path.join(OUTPUT_PATH, 'train_vis_BS_'+str(BATCH_SIZE)+\"_\"+time.ctime()+'.png'))\n"
   ]
  },
  {
   "cell_type": "code",
   "execution_count": 190,
   "metadata": {},
   "outputs": [
    {
     "name": "stdout",
     "output_type": "stream",
     "text": [
      "Error is 60.69260442940076 (160,) (160,)\n",
      "[0.479592   0.47733152 0.47448716 0.4800146  0.47941568 0.47558102\n",
      " 0.47301623 0.46124104 0.46817055 0.46380547 0.45799413 0.4607543\n",
      " 0.4556452  0.46429113 0.4567766 ]\n",
      "[3.76661164 3.81136403 3.6708775  3.77549957 3.99850565 4.1548914\n",
      " 4.62652476 4.98648132 4.96195482 4.81857515 5.19501303 5.198245\n",
      " 4.78351868 5.12001738 5.01885317]\n"
     ]
    }
   ],
   "source": [
    "y_pred = lstm_model.predict(trim_dataset(x_test_t, BATCH_SIZE), batch_size=BATCH_SIZE)\n",
    "y_pred = y_pred.flatten()\n",
    "y_test_t = trim_dataset(y_test_t, BATCH_SIZE)\n",
    "error = metrics.mean_squared_error(y_test_t, y_pred)\n",
    "print(\"Error is\", error, y_pred.shape, y_test_t.shape)\n",
    "print(y_pred[0:15])\n",
    "print(y_test_t[0:15])"
   ]
  },
  {
   "cell_type": "code",
   "execution_count": 191,
   "metadata": {},
   "outputs": [
    {
     "name": "stdout",
     "output_type": "stream",
     "text": [
      "[552.0104  549.40857 546.1347  552.4968  551.80743 547.39374 544.4417\n",
      " 530.8884  538.8643  533.8401  527.15125 530.3282  524.44763 534.3991\n",
      " 525.7499 ]\n",
      "[4335.37 4386.88 4225.18 4345.6  4602.28 4782.28 5325.13 5739.44 5711.21\n",
      " 5546.18 5979.46 5983.18 5505.83 5893.14 5776.7 ]\n"
     ]
    }
   ],
   "source": [
    "# convert the predicted value to range of real data\n",
    "y_pred_org = (y_pred * min_max_scaler.data_range_[0]) + min_max_scaler.data_min_[0]\n",
    "# min_max_scaler.inverse_transform(y_pred)\n",
    "y_test_t_org = (y_test_t * min_max_scaler.data_range_[0]) + min_max_scaler.data_min_[0]\n",
    "# min_max_scaler.inverse_transform(y_test_t)\n",
    "print(y_pred_org[0:15])\n",
    "print(y_test_t_org[0:15])"
   ]
  },
  {
   "cell_type": "code",
   "execution_count": 192,
   "metadata": {},
   "outputs": [
    {
     "data": {
      "image/png": "[encoded data removed]",
      "text/plain": [
       "<Figure size 432x288 with 1 Axes>"
      ]
     },
     "metadata": {},
     "output_type": "display_data"
    }
   ],
   "source": [
    "# Visualize the prediction\n",
    "from matplotlib import pyplot as plt\n",
    "plt.figure()\n",
    "plt.plot(y_pred_org)\n",
    "plt.plot(y_test_t_org)\n",
    "plt.title('Prediction vs Real Stock Price')\n",
    "plt.ylabel('Price')\n",
    "plt.xlabel('Days')\n",
    "plt.legend(['Prediction', 'Real'], loc='upper left')\n",
    "plt.show()\n",
    "#plt.savefig(os.path.join(OUTPUT_PATH, 'pred_vs_real_BS'+str(BATCH_SIZE)+\"_\"+time.ctime()+'.png'))"
   ]
  },
  {
   "cell_type": "code",
   "execution_count": null,
   "metadata": {},
   "outputs": [],
   "source": []
  }
 ],
 "metadata": {
  "kernelspec": {
   "display_name": "Python 3",
   "language": "python",
   "name": "python3"
  },
  "language_info": {
   "codemirror_mode": {
    "name": "ipython",
    "version": 3
   },
   "file_extension": ".py",
   "mimetype": "text/x-python",
   "name": "python",
   "nbconvert_exporter": "python",
   "pygments_lexer": "ipython3",
   "version": "3.5.2"
  }
 },
 "nbformat": 4,
 "nbformat_minor": 2
}
