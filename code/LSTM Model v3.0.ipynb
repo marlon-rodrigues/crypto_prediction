{
 "cells": [
  {
   "cell_type": "markdown",
   "metadata": {},
   "source": [
    "# Experimentation Only"
   ]
  },
  {
   "cell_type": "code",
   "execution_count": 1,
   "metadata": {},
   "outputs": [
    {
     "name": "stdout",
     "output_type": "stream",
     "text": [
      "Requirement already satisfied: tqdm in /usr/local/lib/python3.5/dist-packages\n",
      "\u001b[33mYou are using pip version 9.0.3, however version 19.1.1 is available.\n",
      "You should consider upgrading via the 'pip install --upgrade pip' command.\u001b[0m\n"
     ]
    }
   ],
   "source": [
    "import sys\n",
    "!{sys.executable} -m pip install tqdm"
   ]
  },
  {
   "cell_type": "code",
   "execution_count": 2,
   "metadata": {},
   "outputs": [
    {
     "name": "stderr",
     "output_type": "stream",
     "text": [
      "/usr/local/lib/python3.5/dist-packages/sklearn/cross_validation.py:41: DeprecationWarning: This module was deprecated in version 0.18 in favor of the model_selection module into which all the refactored classes and functions are moved. Also note that the interface of the new CV iterators are different from that of this module. This module will be removed in 0.20.\n",
      "  \"This module will be removed in 0.20.\", DeprecationWarning)\n",
      "/usr/local/lib/python3.5/dist-packages/h5py/__init__.py:36: FutureWarning: Conversion of the second argument of issubdtype from `float` to `np.floating` is deprecated. In future, it will be treated as `np.float64 == np.dtype(float).type`.\n",
      "  from ._conv import register_converters as _register_converters\n",
      "Using TensorFlow backend.\n"
     ]
    }
   ],
   "source": [
    "import math\n",
    "import matplotlib.pyplot as plt\n",
    "import pandas as pd\n",
    "import numpy as np\n",
    "import time\n",
    "from datetime import datetime\n",
    "import datetime as dt\n",
    "from mpl_toolkits.mplot3d import Axes3D\n",
    "%matplotlib inline\n",
    "\n",
    "#For Prediction\n",
    "from sklearn import metrics\n",
    "from sklearn import preprocessing, cross_validation\n",
    "from sklearn.model_selection import train_test_split\n",
    "from sklearn.preprocessing import MinMaxScaler\n",
    "\n",
    "import keras\n",
    "from keras.layers import Dense, Dropout, Input, LSTM, Activation, Flatten\n",
    "from keras.models import Model,Sequential\n",
    "from keras.datasets import mnist\n",
    "from tqdm import tqdm, tqdm_notebook\n",
    "from keras.layers.advanced_activations import LeakyReLU\n",
    "from keras.optimizers import Adam, RMSprop\n",
    "from keras.preprocessing.sequence import pad_sequences"
   ]
  },
  {
   "cell_type": "code",
   "execution_count": 3,
   "metadata": {},
   "outputs": [
    {
     "data": {
      "text/html": [
       "<div>\n",
       "<style scoped>\n",
       "    .dataframe tbody tr th:only-of-type {\n",
       "        vertical-align: middle;\n",
       "    }\n",
       "\n",
       "    .dataframe tbody tr th {\n",
       "        vertical-align: top;\n",
       "    }\n",
       "\n",
       "    .dataframe thead th {\n",
       "        text-align: right;\n",
       "    }\n",
       "</style>\n",
       "<table border=\"1\" class=\"dataframe\">\n",
       "  <thead>\n",
       "    <tr style=\"text-align: right;\">\n",
       "      <th></th>\n",
       "      <th>Date</th>\n",
       "      <th>Close</th>\n",
       "      <th>USD_Exchange_Trade_Volume</th>\n",
       "      <th>Bitcoins_in_circulation</th>\n",
       "      <th>MarketCap</th>\n",
       "      <th>BlockSize</th>\n",
       "      <th>AvgBlockSize</th>\n",
       "      <th>Orphaned_Block</th>\n",
       "      <th>TransactionsPerBlock</th>\n",
       "      <th>MedianTransactCnfmTime</th>\n",
       "      <th>...</th>\n",
       "      <th>USD/JPY</th>\n",
       "      <th>USD/CHF</th>\n",
       "      <th>USD/KRW</th>\n",
       "      <th>USD/GBP</th>\n",
       "      <th>EUR/KRW</th>\n",
       "      <th>USD/CNY</th>\n",
       "      <th>Google Trends Interest</th>\n",
       "      <th>GTrends Normalized</th>\n",
       "      <th>US Federal funds rate</th>\n",
       "      <th>Breakeven Inflation Rate</th>\n",
       "    </tr>\n",
       "  </thead>\n",
       "  <tbody>\n",
       "    <tr>\n",
       "      <th>0</th>\n",
       "      <td>3-Jan-09</td>\n",
       "      <td>0.0</td>\n",
       "      <td>0.0</td>\n",
       "      <td>50.0</td>\n",
       "      <td>0.0</td>\n",
       "      <td>0.0</td>\n",
       "      <td>0.0</td>\n",
       "      <td>0</td>\n",
       "      <td>1.0</td>\n",
       "      <td>0.0</td>\n",
       "      <td>...</td>\n",
       "      <td>90.73</td>\n",
       "      <td>1.06</td>\n",
       "      <td>1269.75</td>\n",
       "      <td>0.69</td>\n",
       "      <td>1774.86</td>\n",
       "      <td>6.83</td>\n",
       "      <td>0</td>\n",
       "      <td>0.0</td>\n",
       "      <td>0.08</td>\n",
       "      <td>0.15</td>\n",
       "    </tr>\n",
       "    <tr>\n",
       "      <th>1</th>\n",
       "      <td>5-Jan-09</td>\n",
       "      <td>0.0</td>\n",
       "      <td>0.0</td>\n",
       "      <td>50.0</td>\n",
       "      <td>0.0</td>\n",
       "      <td>0.0</td>\n",
       "      <td>0.0</td>\n",
       "      <td>0</td>\n",
       "      <td>1.0</td>\n",
       "      <td>0.0</td>\n",
       "      <td>...</td>\n",
       "      <td>92.08</td>\n",
       "      <td>1.08</td>\n",
       "      <td>1326.15</td>\n",
       "      <td>0.69</td>\n",
       "      <td>1843.95</td>\n",
       "      <td>6.82</td>\n",
       "      <td>0</td>\n",
       "      <td>0.0</td>\n",
       "      <td>0.11</td>\n",
       "      <td>0.15</td>\n",
       "    </tr>\n",
       "    <tr>\n",
       "      <th>2</th>\n",
       "      <td>7-Jan-09</td>\n",
       "      <td>0.0</td>\n",
       "      <td>0.0</td>\n",
       "      <td>50.0</td>\n",
       "      <td>0.0</td>\n",
       "      <td>0.0</td>\n",
       "      <td>0.0</td>\n",
       "      <td>0</td>\n",
       "      <td>1.0</td>\n",
       "      <td>0.0</td>\n",
       "      <td>...</td>\n",
       "      <td>93.79</td>\n",
       "      <td>1.12</td>\n",
       "      <td>1305.55</td>\n",
       "      <td>0.67</td>\n",
       "      <td>1763.60</td>\n",
       "      <td>6.84</td>\n",
       "      <td>0</td>\n",
       "      <td>0.0</td>\n",
       "      <td>0.11</td>\n",
       "      <td>0.47</td>\n",
       "    </tr>\n",
       "    <tr>\n",
       "      <th>3</th>\n",
       "      <td>9-Jan-09</td>\n",
       "      <td>0.0</td>\n",
       "      <td>0.0</td>\n",
       "      <td>750.0</td>\n",
       "      <td>0.0</td>\n",
       "      <td>0.0</td>\n",
       "      <td>0.0</td>\n",
       "      <td>0</td>\n",
       "      <td>1.0</td>\n",
       "      <td>0.0</td>\n",
       "      <td>...</td>\n",
       "      <td>91.24</td>\n",
       "      <td>1.10</td>\n",
       "      <td>1324.45</td>\n",
       "      <td>0.66</td>\n",
       "      <td>1808.74</td>\n",
       "      <td>6.83</td>\n",
       "      <td>0</td>\n",
       "      <td>0.0</td>\n",
       "      <td>0.09</td>\n",
       "      <td>0.56</td>\n",
       "    </tr>\n",
       "    <tr>\n",
       "      <th>4</th>\n",
       "      <td>11-Jan-09</td>\n",
       "      <td>0.0</td>\n",
       "      <td>0.0</td>\n",
       "      <td>7600.0</td>\n",
       "      <td>0.0</td>\n",
       "      <td>0.0</td>\n",
       "      <td>0.0</td>\n",
       "      <td>0</td>\n",
       "      <td>1.0</td>\n",
       "      <td>0.0</td>\n",
       "      <td>...</td>\n",
       "      <td>91.24</td>\n",
       "      <td>1.10</td>\n",
       "      <td>1324.45</td>\n",
       "      <td>0.66</td>\n",
       "      <td>1808.74</td>\n",
       "      <td>6.83</td>\n",
       "      <td>0</td>\n",
       "      <td>0.0</td>\n",
       "      <td>0.09</td>\n",
       "      <td>0.56</td>\n",
       "    </tr>\n",
       "  </tbody>\n",
       "</table>\n",
       "<p>5 rows × 65 columns</p>\n",
       "</div>"
      ],
      "text/plain": [
       "        Date  Close  USD_Exchange_Trade_Volume  Bitcoins_in_circulation  \\\n",
       "0   3-Jan-09    0.0                        0.0                     50.0   \n",
       "1   5-Jan-09    0.0                        0.0                     50.0   \n",
       "2   7-Jan-09    0.0                        0.0                     50.0   \n",
       "3   9-Jan-09    0.0                        0.0                    750.0   \n",
       "4  11-Jan-09    0.0                        0.0                   7600.0   \n",
       "\n",
       "   MarketCap  BlockSize  AvgBlockSize  Orphaned_Block  TransactionsPerBlock  \\\n",
       "0        0.0        0.0           0.0               0                   1.0   \n",
       "1        0.0        0.0           0.0               0                   1.0   \n",
       "2        0.0        0.0           0.0               0                   1.0   \n",
       "3        0.0        0.0           0.0               0                   1.0   \n",
       "4        0.0        0.0           0.0               0                   1.0   \n",
       "\n",
       "   MedianTransactCnfmTime            ...             USD/JPY  USD/CHF  \\\n",
       "0                     0.0            ...               90.73     1.06   \n",
       "1                     0.0            ...               92.08     1.08   \n",
       "2                     0.0            ...               93.79     1.12   \n",
       "3                     0.0            ...               91.24     1.10   \n",
       "4                     0.0            ...               91.24     1.10   \n",
       "\n",
       "   USD/KRW  USD/GBP  EUR/KRW  USD/CNY  Google Trends Interest  \\\n",
       "0  1269.75     0.69  1774.86     6.83                       0   \n",
       "1  1326.15     0.69  1843.95     6.82                       0   \n",
       "2  1305.55     0.67  1763.60     6.84                       0   \n",
       "3  1324.45     0.66  1808.74     6.83                       0   \n",
       "4  1324.45     0.66  1808.74     6.83                       0   \n",
       "\n",
       "   GTrends Normalized  US Federal funds rate  Breakeven Inflation Rate  \n",
       "0                 0.0                   0.08                      0.15  \n",
       "1                 0.0                   0.11                      0.15  \n",
       "2                 0.0                   0.11                      0.47  \n",
       "3                 0.0                   0.09                      0.56  \n",
       "4                 0.0                   0.09                      0.56  \n",
       "\n",
       "[5 rows x 65 columns]"
      ]
     },
     "execution_count": 3,
     "metadata": {},
     "output_type": "execute_result"
    }
   ],
   "source": [
    "# Read Datasets \n",
    "#research_data_raw = pd.read_csv('Datasets/bitcoin_research_data_v2.csv')\n",
    "# Drop unnecessary columns\n",
    "#research_data = research_data_raw.drop('Unnamed: 0', axis=1)\n",
    "research_data = pd.read_csv('Datasets/BlockChain_Train_csv.csv')\n",
    "#research_data.fillna(0, inplace=True)\n",
    "research_data.head()"
   ]
  },
  {
   "cell_type": "code",
   "execution_count": 4,
   "metadata": {},
   "outputs": [
    {
     "data": {
      "text/html": [
       "<div>\n",
       "<style scoped>\n",
       "    .dataframe tbody tr th:only-of-type {\n",
       "        vertical-align: middle;\n",
       "    }\n",
       "\n",
       "    .dataframe tbody tr th {\n",
       "        vertical-align: top;\n",
       "    }\n",
       "\n",
       "    .dataframe thead th {\n",
       "        text-align: right;\n",
       "    }\n",
       "</style>\n",
       "<table border=\"1\" class=\"dataframe\">\n",
       "  <thead>\n",
       "    <tr style=\"text-align: right;\">\n",
       "      <th></th>\n",
       "      <th>Date</th>\n",
       "      <th>Close</th>\n",
       "      <th>USD_Exchange_Trade_Volume</th>\n",
       "      <th>Bitcoins_in_circulation</th>\n",
       "      <th>MarketCap</th>\n",
       "      <th>BlockSize</th>\n",
       "      <th>AvgBlockSize</th>\n",
       "      <th>Orphaned_Block</th>\n",
       "      <th>TransactionsPerBlock</th>\n",
       "      <th>MedianTransactCnfmTime</th>\n",
       "      <th>...</th>\n",
       "      <th>USD/JPY</th>\n",
       "      <th>USD/CHF</th>\n",
       "      <th>USD/KRW</th>\n",
       "      <th>USD/GBP</th>\n",
       "      <th>EUR/KRW</th>\n",
       "      <th>USD/CNY</th>\n",
       "      <th>Google Trends Interest</th>\n",
       "      <th>GTrends Normalized</th>\n",
       "      <th>US Federal funds rate</th>\n",
       "      <th>Breakeven Inflation Rate</th>\n",
       "    </tr>\n",
       "  </thead>\n",
       "  <tbody>\n",
       "    <tr>\n",
       "      <th>1768</th>\n",
       "      <td>9-Sep-18</td>\n",
       "      <td>6286.43</td>\n",
       "      <td>291261346.9</td>\n",
       "      <td>17259100.0</td>\n",
       "      <td>1.080000e+11</td>\n",
       "      <td>181951.87</td>\n",
       "      <td>0.62</td>\n",
       "      <td>0</td>\n",
       "      <td>1158.97</td>\n",
       "      <td>7.03</td>\n",
       "      <td>...</td>\n",
       "      <td>111.01</td>\n",
       "      <td>0.97</td>\n",
       "      <td>1128.55</td>\n",
       "      <td>0.77</td>\n",
       "      <td>1305.90</td>\n",
       "      <td>6.84</td>\n",
       "      <td>54</td>\n",
       "      <td>0.54</td>\n",
       "      <td>1.92</td>\n",
       "      <td>2.10</td>\n",
       "    </tr>\n",
       "    <tr>\n",
       "      <th>1769</th>\n",
       "      <td>11-Sep-18</td>\n",
       "      <td>6296.32</td>\n",
       "      <td>290980772.8</td>\n",
       "      <td>17262550.0</td>\n",
       "      <td>1.090000e+11</td>\n",
       "      <td>182206.04</td>\n",
       "      <td>0.94</td>\n",
       "      <td>0</td>\n",
       "      <td>1684.90</td>\n",
       "      <td>10.53</td>\n",
       "      <td>...</td>\n",
       "      <td>111.59</td>\n",
       "      <td>0.97</td>\n",
       "      <td>1125.80</td>\n",
       "      <td>0.77</td>\n",
       "      <td>1304.82</td>\n",
       "      <td>6.88</td>\n",
       "      <td>65</td>\n",
       "      <td>0.65</td>\n",
       "      <td>1.92</td>\n",
       "      <td>2.12</td>\n",
       "    </tr>\n",
       "    <tr>\n",
       "      <th>1770</th>\n",
       "      <td>13-Sep-18</td>\n",
       "      <td>6450.18</td>\n",
       "      <td>321882304.6</td>\n",
       "      <td>17266500.0</td>\n",
       "      <td>1.110000e+11</td>\n",
       "      <td>182446.38</td>\n",
       "      <td>0.82</td>\n",
       "      <td>0</td>\n",
       "      <td>1582.49</td>\n",
       "      <td>8.08</td>\n",
       "      <td>...</td>\n",
       "      <td>111.86</td>\n",
       "      <td>0.97</td>\n",
       "      <td>1120.89</td>\n",
       "      <td>0.76</td>\n",
       "      <td>1309.12</td>\n",
       "      <td>6.86</td>\n",
       "      <td>65</td>\n",
       "      <td>0.65</td>\n",
       "      <td>1.92</td>\n",
       "      <td>2.10</td>\n",
       "    </tr>\n",
       "    <tr>\n",
       "      <th>1771</th>\n",
       "      <td>15-Sep-18</td>\n",
       "      <td>6518.66</td>\n",
       "      <td>360631436.3</td>\n",
       "      <td>17269900.0</td>\n",
       "      <td>1.130000e+11</td>\n",
       "      <td>182696.55</td>\n",
       "      <td>0.79</td>\n",
       "      <td>0</td>\n",
       "      <td>1507.65</td>\n",
       "      <td>9.03</td>\n",
       "      <td>...</td>\n",
       "      <td>112.06</td>\n",
       "      <td>0.97</td>\n",
       "      <td>1121.43</td>\n",
       "      <td>0.77</td>\n",
       "      <td>1304.73</td>\n",
       "      <td>6.87</td>\n",
       "      <td>50</td>\n",
       "      <td>0.50</td>\n",
       "      <td>1.92</td>\n",
       "      <td>2.10</td>\n",
       "    </tr>\n",
       "    <tr>\n",
       "      <th>1772</th>\n",
       "      <td>17-Sep-18</td>\n",
       "      <td>6400.60</td>\n",
       "      <td>181083665.0</td>\n",
       "      <td>17273325.0</td>\n",
       "      <td>1.110000e+11</td>\n",
       "      <td>182906.28</td>\n",
       "      <td>0.91</td>\n",
       "      <td>0</td>\n",
       "      <td>1778.90</td>\n",
       "      <td>9.37</td>\n",
       "      <td>...</td>\n",
       "      <td>111.98</td>\n",
       "      <td>0.96</td>\n",
       "      <td>1124.70</td>\n",
       "      <td>0.76</td>\n",
       "      <td>1314.71</td>\n",
       "      <td>6.88</td>\n",
       "      <td>58</td>\n",
       "      <td>0.58</td>\n",
       "      <td>1.92</td>\n",
       "      <td>2.10</td>\n",
       "    </tr>\n",
       "  </tbody>\n",
       "</table>\n",
       "<p>5 rows × 65 columns</p>\n",
       "</div>"
      ],
      "text/plain": [
       "           Date    Close  USD_Exchange_Trade_Volume  Bitcoins_in_circulation  \\\n",
       "1768   9-Sep-18  6286.43                291261346.9               17259100.0   \n",
       "1769  11-Sep-18  6296.32                290980772.8               17262550.0   \n",
       "1770  13-Sep-18  6450.18                321882304.6               17266500.0   \n",
       "1771  15-Sep-18  6518.66                360631436.3               17269900.0   \n",
       "1772  17-Sep-18  6400.60                181083665.0               17273325.0   \n",
       "\n",
       "         MarketCap  BlockSize  AvgBlockSize  Orphaned_Block  \\\n",
       "1768  1.080000e+11  181951.87          0.62               0   \n",
       "1769  1.090000e+11  182206.04          0.94               0   \n",
       "1770  1.110000e+11  182446.38          0.82               0   \n",
       "1771  1.130000e+11  182696.55          0.79               0   \n",
       "1772  1.110000e+11  182906.28          0.91               0   \n",
       "\n",
       "      TransactionsPerBlock  MedianTransactCnfmTime            ...             \\\n",
       "1768               1158.97                    7.03            ...              \n",
       "1769               1684.90                   10.53            ...              \n",
       "1770               1582.49                    8.08            ...              \n",
       "1771               1507.65                    9.03            ...              \n",
       "1772               1778.90                    9.37            ...              \n",
       "\n",
       "      USD/JPY  USD/CHF  USD/KRW  USD/GBP  EUR/KRW  USD/CNY  \\\n",
       "1768   111.01     0.97  1128.55     0.77  1305.90     6.84   \n",
       "1769   111.59     0.97  1125.80     0.77  1304.82     6.88   \n",
       "1770   111.86     0.97  1120.89     0.76  1309.12     6.86   \n",
       "1771   112.06     0.97  1121.43     0.77  1304.73     6.87   \n",
       "1772   111.98     0.96  1124.70     0.76  1314.71     6.88   \n",
       "\n",
       "      Google Trends Interest  GTrends Normalized  US Federal funds rate  \\\n",
       "1768                      54                0.54                   1.92   \n",
       "1769                      65                0.65                   1.92   \n",
       "1770                      65                0.65                   1.92   \n",
       "1771                      50                0.50                   1.92   \n",
       "1772                      58                0.58                   1.92   \n",
       "\n",
       "      Breakeven Inflation Rate  \n",
       "1768                      2.10  \n",
       "1769                      2.12  \n",
       "1770                      2.10  \n",
       "1771                      2.10  \n",
       "1772                      2.10  \n",
       "\n",
       "[5 rows x 65 columns]"
      ]
     },
     "execution_count": 4,
     "metadata": {},
     "output_type": "execute_result"
    }
   ],
   "source": [
    "research_data.tail()"
   ]
  },
  {
   "cell_type": "code",
   "execution_count": 5,
   "metadata": {},
   "outputs": [
    {
     "data": {
      "text/plain": [
       "1773"
      ]
     },
     "execution_count": 5,
     "metadata": {},
     "output_type": "execute_result"
    }
   ],
   "source": [
    "len(research_data)"
   ]
  },
  {
   "cell_type": "code",
   "execution_count": 7,
   "metadata": {},
   "outputs": [
    {
     "data": {
      "image/png": "[encoded data removed]",
      "text/plain": [
       "<Figure size 432x288 with 1 Axes>"
      ]
     },
     "metadata": {},
     "output_type": "display_data"
    }
   ],
   "source": [
    "# plt.figure()\n",
    "# plt.plot(research_data[\"Close\"])\n",
    "# plt.plot(research_data[\"High\"])\n",
    "# plt.plot(research_data[\"Low\"])\n",
    "# plt.plot(research_data[\"Close\"])\n",
    "# plt.title('Bitcoin price history')\n",
    "# plt.ylabel('Price (USD)')\n",
    "# plt.xlabel('Days')\n",
    "# plt.legend(['Open','High','Low','Close'], loc='upper left')\n",
    "# plt.show()\n",
    "\n",
    "plt.figure()\n",
    "plt.plot(research_data[\"Close\"])\n",
    "plt.title('Bitcoin price history')\n",
    "plt.ylabel('Price (USD)')\n",
    "plt.xlabel('Days')\n",
    "plt.legend(['Close'], loc='upper left')\n",
    "plt.show()"
   ]
  },
  {
   "cell_type": "code",
   "execution_count": 7,
   "metadata": {},
   "outputs": [
    {
     "name": "stdout",
     "output_type": "stream",
     "text": [
      "Train and Test size 2566 642\n"
     ]
    }
   ],
   "source": [
    "# Normalize and convert DataFrame into ndArray\n",
    "# train_cols = [\"Open\",\"High\",\"Low\",\"Close\",\"Volume USD\",\"Popularity_Normalized\"]\n",
    "# train_cols = [\"Close\",\"TransactionsPerBlock\",\"USD_Exchange_Trade_Volume\",\"BlockSize_d\",\"Total_Number_of_Transactions_d\",\"Close_d2\"]\n",
    "train_cols = [\"Close\"]\n",
    "\n",
    "df_train, df_test = train_test_split(research_data, train_size=0.8, test_size=0.2, shuffle=False)\n",
    "print(\"Train and Test size\", len(df_train), len(df_test))\n",
    "\n",
    "# scale the feature MinMax, build array\n",
    "x = df_train.loc[:,train_cols].values\n",
    "min_max_scaler = MinMaxScaler()\n",
    "x_train = min_max_scaler.fit_transform(x)\n",
    "x_test = min_max_scaler.transform(df_test.loc[:,train_cols])"
   ]
  },
  {
   "cell_type": "code",
   "execution_count": 8,
   "metadata": {},
   "outputs": [],
   "source": [
    "TIME_STEPS = 30\n",
    "BATCH_SIZE = 12\n",
    "LR = 0.005\n",
    "# epochs = 150\n",
    "EPOCHS = 10"
   ]
  },
  {
   "cell_type": "code",
   "execution_count": 9,
   "metadata": {},
   "outputs": [],
   "source": [
    "def build_timeseries(mat, y_col_index):\n",
    "    # y_col_index is the index of column that would act as output column\n",
    "    # total number of time-series samples would be len(mat) - TIME_STEPS\n",
    "    dim_0 = mat.shape[0] - TIME_STEPS\n",
    "    dim_1 = mat.shape[1]\n",
    "    x = np.zeros((dim_0, TIME_STEPS, dim_1))\n",
    "    y = np.zeros((dim_0,))\n",
    "    \n",
    "    for i in tqdm_notebook(range(dim_0)):\n",
    "        x[i] = mat[i:TIME_STEPS+i]\n",
    "        y[i] = mat[TIME_STEPS+i, y_col_index]\n",
    "    print(\"length of time-series i/o\",x.shape,y.shape)\n",
    "    return x, y"
   ]
  },
  {
   "cell_type": "code",
   "execution_count": 10,
   "metadata": {},
   "outputs": [],
   "source": [
    "def trim_dataset(mat, batch_size):\n",
    "    \"\"\"\n",
    "    trims dataset to a size that's divisible by BATCH_SIZE\n",
    "    \"\"\"\n",
    "    no_of_rows_drop = mat.shape[0]%batch_size\n",
    "    if(no_of_rows_drop > 0):\n",
    "        return mat[:-no_of_rows_drop]\n",
    "    else:\n",
    "        return mat"
   ]
  },
  {
   "cell_type": "code",
   "execution_count": 11,
   "metadata": {},
   "outputs": [
    {
     "data": {
      "application/vnd.jupyter.widget-view+json": {
       "model_id": "9718aa39ff5b43a7b8aaf89559f131ad",
       "version_major": 2,
       "version_minor": 0
      },
      "text/html": [
       "<p>Failed to display Jupyter Widget of type <code>HBox</code>.</p>\n",
       "<p>\n",
       "  If you're reading this message in the Jupyter Notebook or JupyterLab Notebook, it may mean\n",
       "  that the widgets JavaScript is still loading. If this message persists, it\n",
       "  likely means that the widgets JavaScript library is either not installed or\n",
       "  not enabled. See the <a href=\"https://ipywidgets.readthedocs.io/en/stable/user_install.html\">Jupyter\n",
       "  Widgets Documentation</a> for setup instructions.\n",
       "</p>\n",
       "<p>\n",
       "  If you're reading this message in another frontend (for example, a static\n",
       "  rendering on GitHub or <a href=\"https://nbviewer.jupyter.org/\">NBViewer</a>),\n",
       "  it may mean that your frontend doesn't currently support widgets.\n",
       "</p>\n"
      ],
      "text/plain": [
       "HBox(children=(IntProgress(value=0, max=2536), HTML(value='')))"
      ]
     },
     "metadata": {},
     "output_type": "display_data"
    },
    {
     "name": "stdout",
     "output_type": "stream",
     "text": [
      "\n",
      "length of time-series i/o (2536, 30, 1) (2536,)\n"
     ]
    },
    {
     "data": {
      "application/vnd.jupyter.widget-view+json": {
       "model_id": "2a08902102ce4d898f30b762598ee4a3",
       "version_major": 2,
       "version_minor": 0
      },
      "text/html": [
       "<p>Failed to display Jupyter Widget of type <code>HBox</code>.</p>\n",
       "<p>\n",
       "  If you're reading this message in the Jupyter Notebook or JupyterLab Notebook, it may mean\n",
       "  that the widgets JavaScript is still loading. If this message persists, it\n",
       "  likely means that the widgets JavaScript library is either not installed or\n",
       "  not enabled. See the <a href=\"https://ipywidgets.readthedocs.io/en/stable/user_install.html\">Jupyter\n",
       "  Widgets Documentation</a> for setup instructions.\n",
       "</p>\n",
       "<p>\n",
       "  If you're reading this message in another frontend (for example, a static\n",
       "  rendering on GitHub or <a href=\"https://nbviewer.jupyter.org/\">NBViewer</a>),\n",
       "  it may mean that your frontend doesn't currently support widgets.\n",
       "</p>\n"
      ],
      "text/plain": [
       "HBox(children=(IntProgress(value=0, max=612), HTML(value='')))"
      ]
     },
     "metadata": {},
     "output_type": "display_data"
    },
    {
     "name": "stdout",
     "output_type": "stream",
     "text": [
      "\n",
      "length of time-series i/o (612, 30, 1) (612,)\n"
     ]
    }
   ],
   "source": [
    "x_t, y_t = build_timeseries(x_train, 0) # index of output (3)\n",
    "x_t = trim_dataset(x_t, BATCH_SIZE)\n",
    "y_t = trim_dataset(y_t, BATCH_SIZE)\n",
    "x_temp, y_temp = build_timeseries(x_test, 0) # index of output (3)\n",
    "x_val, x_test_t = np.split(trim_dataset(x_temp, BATCH_SIZE),2)\n",
    "y_val, y_test_t = np.split(trim_dataset(y_temp, BATCH_SIZE),2)"
   ]
  },
  {
   "cell_type": "code",
   "execution_count": 12,
   "metadata": {},
   "outputs": [],
   "source": [
    "# lstm_model = Sequential()\n",
    "# lstm_model.add(LSTM(100, batch_input_shape=(BATCH_SIZE, TIME_STEPS, x_t.shape[2]), dropout=0.0, recurrent_dropout=0.0, stateful=True,     kernel_initializer='random_uniform'))\n",
    "# lstm_model.add(Dropout(0.5))\n",
    "# lstm_model.add(Dense(20,activation='relu'))\n",
    "# lstm_model.add(Dense(1,activation='sigmoid'))\n",
    "# optimizer = RMSprop(lr=LR)\n",
    "# lstm_model.compile(loss='mean_squared_error', optimizer=optimizer, metrics=['accuracy'])\n",
    "\n",
    "# lstm_model = Sequential()\n",
    "# lstm_model.add(LSTM(100, batch_input_shape=(BATCH_SIZE, TIME_STEPS, x_t.shape[2]), dropout=0.0, recurrent_dropout=0.0, stateful=True, kernel_initializer='random_uniform', return_sequences=True))\n",
    "# lstm_model.add(Dropout(0.5))\n",
    "# lstm_model.add(LSTM(32, return_sequences=True))\n",
    "# #lstm_model.add(Dense(20,activation='relu'))\n",
    "# lstm_model.add(LSTM(16, return_sequences=False))\n",
    "# lstm_model.add(Dropout(0.5))\n",
    "# lstm_model.add(Dense(1,activation='sigmoid'))\n",
    "# optimizer = RMSprop(lr=LR, decay=3e-8)\n",
    "# lstm_model.compile(loss='mean_squared_error', optimizer=optimizer, metrics=['accuracy'])\n",
    "\n",
    "# BEST SO FAR\n",
    "# lstm_model = Sequential()\n",
    "# lstm_model.add(LSTM(32, input_shape=(TIME_STEPS, x_t.shape[2]), return_sequences=True))\n",
    "# lstm_model.add(Dropout(0.4))\n",
    "# lstm_model.add(LSTM(16, return_sequences=False))\n",
    "# lstm_model.add(Dense(1))\n",
    "# lstm_model.add(Activation('tanh'))\n",
    "# optimizer = RMSprop(lr=0.005, clipvalue=1.)\n",
    "# lstm_model.compile(loss='mean_squared_error', optimizer=optimizer, metrics=['accuracy'])\n",
    "\n",
    "# lstm_model = Sequential()\n",
    "# lstm_model.add(LSTM(32, input_shape=(TIME_STEPS, x_t.shape[2]), return_sequences=True))\n",
    "# lstm_model.add(Dropout(0.4))\n",
    "# lstm_model.add(LSTM(16, return_sequences=False))\n",
    "# lstm_model.add(Dense(1))\n",
    "# lstm_model.add(Activation('tanh'))\n",
    "# optimizer = RMSprop(lr=0.005, clipvalue=1.)\n",
    "# lstm_model.compile(loss='mean_squared_error', optimizer=optimizer, metrics=['accuracy'])\n",
    "\n",
    "lstm_model = Sequential()\n",
    "lstm_model.add(LSTM(16, batch_input_shape=(BATCH_SIZE, TIME_STEPS, x_t.shape[2]), dropout=0.0, recurrent_dropout=0.0, stateful=True, kernel_initializer='random_uniform', return_sequences=True))\n",
    "lstm_model.add(Dense(8,activation='relu'))\n",
    "lstm_model.add(Dropout(0.7))\n",
    "lstm_model.add(LSTM(8, return_sequences=False))\n",
    "lstm_model.add(Dense(1,activation='sigmoid'))\n",
    "optimizer = RMSprop(lr=LR, decay=3e-8)\n",
    "lstm_model.compile(loss='mean_squared_error', optimizer=optimizer, metrics=['accuracy'])\n",
    "\n"
   ]
  },
  {
   "cell_type": "code",
   "execution_count": 13,
   "metadata": {},
   "outputs": [
    {
     "name": "stdout",
     "output_type": "stream",
     "text": [
      "WARNING:tensorflow:Variable *= will be deprecated. Use variable.assign_mul if you want assignment to the variable value or 'x = x * y' if you want a new python Tensor object.\n",
      "Train on 2532 samples, validate on 300 samples\n",
      "Epoch 1/10\n",
      "2532/2532 [==============================] - 5s 2ms/step - loss: 0.0096 - acc: 3.9494e-04 - val_loss: 5.8358 - val_acc: 0.0000e+00\n",
      "Epoch 2/10\n",
      "2532/2532 [==============================] - 4s 2ms/step - loss: 0.0169 - acc: 3.9494e-04 - val_loss: 5.9676 - val_acc: 0.0000e+00\n",
      "Epoch 3/10\n",
      "2532/2532 [==============================] - 4s 2ms/step - loss: 0.0119 - acc: 3.9494e-04 - val_loss: 7.2025 - val_acc: 0.0000e+00\n",
      "Epoch 4/10\n",
      "2532/2532 [==============================] - 4s 2ms/step - loss: 0.0171 - acc: 3.9494e-04 - val_loss: 6.0277 - val_acc: 0.0000e+00\n",
      "Epoch 5/10\n",
      "2532/2532 [==============================] - 5s 2ms/step - loss: 0.0132 - acc: 3.9494e-04 - val_loss: 6.1377 - val_acc: 0.0000e+00\n",
      "Epoch 6/10\n",
      "2532/2532 [==============================] - 5s 2ms/step - loss: 0.0114 - acc: 3.9494e-04 - val_loss: 5.7575 - val_acc: 0.0000e+00\n",
      "Epoch 7/10\n",
      "2532/2532 [==============================] - 4s 2ms/step - loss: 0.0084 - acc: 3.9494e-04 - val_loss: 5.5270 - val_acc: 0.0000e+00\n",
      "Epoch 8/10\n",
      "2532/2532 [==============================] - 4s 2ms/step - loss: 0.0082 - acc: 3.9494e-04 - val_loss: 5.6072 - val_acc: 0.0000e+00\n",
      "Epoch 9/10\n",
      "2532/2532 [==============================] - 4s 2ms/step - loss: 0.0061 - acc: 3.9494e-04 - val_loss: 5.5279 - val_acc: 0.0000e+00\n",
      "Epoch 10/10\n",
      "2532/2532 [==============================] - 5s 2ms/step - loss: 0.0094 - acc: 3.9494e-04 - val_loss: 5.5458 - val_acc: 0.0000e+00\n"
     ]
    }
   ],
   "source": [
    "# csv_logger = CSVLogger(os.path.join(OUTPUT_PATH, 'your_log_name' + '.log'), append=True)\n",
    "\n",
    "# history = model.fit(x_t, y_t, epochs=your_epochs, verbose=2, batch_size=BATCH_SIZE,\n",
    "#                    shuffle=False, validation_data=(trim_dataset(x_val, BATCH_SIZE),\n",
    "#                    trim_dataset(y_val, BATCH_SIZE)), callbacks=[csv_logger])\n",
    "\n",
    "history = lstm_model.fit(x_t, y_t, epochs=EPOCHS, batch_size=BATCH_SIZE,\n",
    "                    shuffle=False, validation_data=(trim_dataset(x_val, BATCH_SIZE),\n",
    "                    trim_dataset(y_val, BATCH_SIZE)))"
   ]
  },
  {
   "cell_type": "code",
   "execution_count": 123,
   "metadata": {},
   "outputs": [
    {
     "data": {
      "image/png": "[encoded data removed]",
      "text/plain": [
       "<Figure size 432x288 with 1 Axes>"
      ]
     },
     "metadata": {},
     "output_type": "display_data"
    }
   ],
   "source": [
    "# Visualize the training data\n",
    "from matplotlib import pyplot as plt\n",
    "plt.figure()\n",
    "plt.plot(history.history['loss'])\n",
    "plt.plot(history.history['val_loss'])\n",
    "#plt.plot(history.history['acc'])\n",
    "#plt.plot(history.history['val_acc'])\n",
    "plt.title('Model loss')\n",
    "plt.ylabel('Loss')\n",
    "plt.xlabel('Epoch')\n",
    "#plt.legend(['Train', 'Test', 'Train Accuracy', 'Test Accuracy'], loc='upper left')\n",
    "plt.legend(['Train', 'Test'], loc='upper left')\n",
    "plt.show()\n",
    "#plt.savefig(os.path.join(OUTPUT_PATH, 'train_vis_BS_'+str(BATCH_SIZE)+\"_\"+time.ctime()+'.png'))\n"
   ]
  },
  {
   "cell_type": "code",
   "execution_count": 124,
   "metadata": {},
   "outputs": [
    {
     "name": "stdout",
     "output_type": "stream",
     "text": [
      "Error is 60.91603445950606 (156,) (156,)\n",
      "[0.56653786 0.56699497 0.56712353 0.56714547 0.5671086  0.56725407\n",
      " 0.56703717 0.5662551  0.5666346  0.56677973 0.5670026  0.567399\n",
      " 0.56769335 0.5679108  0.56808424]\n",
      "[5.01885317 5.30483927 5.79088619 6.25344917 6.40921807 6.16171156\n",
      " 6.2189748  5.52810599 5.69090356 6.34355343 6.76531712 6.95712424\n",
      " 7.00243267 7.07988705 7.56508254]\n"
     ]
    }
   ],
   "source": [
    "y_pred = lstm_model.predict(trim_dataset(x_test_t, BATCH_SIZE), batch_size=BATCH_SIZE)\n",
    "y_pred = y_pred.flatten()\n",
    "y_test_t = trim_dataset(y_test_t, BATCH_SIZE)\n",
    "error = metrics.mean_squared_error(y_test_t, y_pred)\n",
    "print(\"Error is\", error, y_pred.shape, y_test_t.shape)\n",
    "print(y_pred[0:15])\n",
    "print(y_test_t[0:15])"
   ]
  },
  {
   "cell_type": "code",
   "execution_count": 125,
   "metadata": {},
   "outputs": [
    {
     "name": "stdout",
     "output_type": "stream",
     "text": [
      "[652.0851  652.6112  652.75916 652.7844  652.74194 652.9094  652.6598\n",
      " 651.7596  652.1964  652.36346 652.62    653.0763  653.41504 653.66534\n",
      " 653.865  ]\n",
      "[5776.7  6105.87 6665.31 7197.72 7377.01 7092.13 7158.04 6362.85 6550.23\n",
      " 7301.43 7786.88 8007.65 8059.8  8148.95 8707.41]\n"
     ]
    }
   ],
   "source": [
    "# convert the predicted value to range of real data\n",
    "y_pred_org = (y_pred * min_max_scaler.data_range_[0]) + min_max_scaler.data_min_[0]\n",
    "# min_max_scaler.inverse_transform(y_pred)\n",
    "y_test_t_org = (y_test_t * min_max_scaler.data_range_[0]) + min_max_scaler.data_min_[0]\n",
    "# min_max_scaler.inverse_transform(y_test_t)\n",
    "print(y_pred_org[0:15])\n",
    "print(y_test_t_org[0:15])"
   ]
  },
  {
   "cell_type": "code",
   "execution_count": 93,
   "metadata": {},
   "outputs": [
    {
     "data": {
      "image/png": "[encoded data removed]",
      "text/plain": [
       "<Figure size 432x288 with 1 Axes>"
      ]
     },
     "metadata": {},
     "output_type": "display_data"
    }
   ],
   "source": [
    "# Visualize the prediction\n",
    "from matplotlib import pyplot as plt\n",
    "plt.figure()\n",
    "plt.plot(y_pred_org)\n",
    "plt.plot(y_test_t_org)\n",
    "plt.title('Prediction vs Real Stock Price')\n",
    "plt.ylabel('Price')\n",
    "plt.xlabel('Days')\n",
    "plt.legend(['Prediction', 'Real'], loc='upper left')\n",
    "plt.show()\n",
    "#plt.savefig(os.path.join(OUTPUT_PATH, 'pred_vs_real_BS'+str(BATCH_SIZE)+\"_\"+time.ctime()+'.png'))"
   ]
  },
  {
   "cell_type": "code",
   "execution_count": null,
   "metadata": {},
   "outputs": [],
   "source": []
  }
 ],
 "metadata": {
  "kernelspec": {
   "display_name": "Python 3",
   "language": "python",
   "name": "python3"
  },
  "language_info": {
   "codemirror_mode": {
    "name": "ipython",
    "version": 3
   },
   "file_extension": ".py",
   "mimetype": "text/x-python",
   "name": "python",
   "nbconvert_exporter": "python",
   "pygments_lexer": "ipython3",
   "version": "3.5.2"
  }
 },
 "nbformat": 4,
 "nbformat_minor": 2
}
